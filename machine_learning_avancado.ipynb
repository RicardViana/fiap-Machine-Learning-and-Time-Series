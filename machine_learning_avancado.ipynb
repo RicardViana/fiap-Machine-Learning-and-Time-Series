{
 "cells": [
  {
   "cell_type": "markdown",
   "id": "1abf0c6c",
   "metadata": {},
   "source": [
    "#### Machine Learning Avançado"
   ]
  },
  {
   "cell_type": "markdown",
   "id": "a3c04a11",
   "metadata": {},
   "source": [
    "#### Conteúdo - Bases e Notebook da aula\n",
    "\n",
    "https://github.com/FIAP/Pos_Tech_DTAT/tree/Machine-Learning-Avan%C3%A7ado"
   ]
  },
  {
   "cell_type": "markdown",
   "id": "78b76f9d",
   "metadata": {},
   "source": [
    "#### Dicionário de Dados --> Aula 2\n",
    "\n",
    "| Nome Original | Nome da Coluna (Sugerido) | Tipo de Dado | Descrição |\n",
    "| :--- | :--- | :--- | :--- |\n",
    "| **sl_no** | Nº de Série | Numérico (Inteiro) | Número de identificação sequencial único para cada candidato. |\n",
    "| **gender** | Gênero | Categórico (Texto) | Gênero do candidato (ex: 'M' para Masculino, 'F' para Feminino). |\n",
    "| **ssc_p** | Nota - Ensino Secundário | Numérico (Decimal) | Percentual de notas do candidato no Certificado de Escola Secundária (10º ano). |\n",
    "| **ssc_b** | Conselho - Ensino Secundário | Categórico (Texto) | Conselho de educação em que o Ensino Secundário foi concluído (ex: 'Central', 'Others'). |\n",
    "| **hsc_p** | Nota - Ensino Médio | Numérico (Decimal) | Percentual de notas do candidato no Certificado de Escola Secundária Superior (12º ano). |\n",
    "| **hsc_b** | Conselho - Ensino Médio | Categórico (Texto) | Conselho de educação em que o Ensino Médio foi concluído. |\n",
    "| **hsc_s** | Área - Ensino Médio | Categórico (Texto) | Área de estudo ou especialização no Ensino Médio (ex: 'Commerce', 'Science', 'Arts'). |\n",
    "| **degree_p**| Nota - Graduação | Numérico (Decimal) | Percentual de notas do candidato na graduação. |\n",
    "| **degree_t**| Área - Graduação | Categórico (Texto) | Área de estudo ou tipo de graduação (ex: 'Sci&Tech', 'Comm&Mgmt', 'Others'). |\n",
    "| **workex** | Experiência de Trabalho | Categórico (Texto) | Indica se o candidato possui experiência de trabalho prévia ('Yes' ou 'No'). |\n",
    "| **etest_p**| Nota - Teste de Empregabilidade | Numérico (Decimal) | Percentual de notas do candidato em um teste de empregabilidade. |\n",
    "| **specialisation**| Especialização - MBA | Categórico (Texto) | Área de especialização do MBA (ex: 'Mkt&HR' para Marketing e RH, 'Mkt&Fin' para Marketing e Finanças). |\n",
    "| **mba_p** | Nota - MBA | Numérico (Decimal) | Percentual de notas do candidato no MBA. |\n",
    "| **status** | Status da Contratação | Categórico (Texto) | Status final do candidato no processo de recrutamento (ex: 'Placed' para contratado, 'Not Placed' para não contratado). |\n",
    "| **salary** | Salário | Numérico (Decimal) | Salário oferecido ao candidato, caso tenha sido contratado ('Placed'). Pode conter valores nulos para os não contratados. |"
   ]
  },
  {
   "cell_type": "markdown",
   "id": "f1dae537",
   "metadata": {},
   "source": [
    "#### Importação de pacotes, bibliotecas e funções (def)"
   ]
  },
  {
   "cell_type": "code",
   "execution_count": 56,
   "id": "d95b099b",
   "metadata": {},
   "outputs": [],
   "source": [
    "# Importar biblioteca completa\n",
    "import pandas as pd \n",
    "import matplotlib.pyplot as plt\n",
    "import numpy as np\n",
    "import missingno as msno\n",
    "import seaborn as sns\n",
    "import plotly_express as px\n",
    "\n",
    "# Importar função especifica de um módulo\n",
    "from math import sqrt\n",
    "from sklearn.model_selection import train_test_split\n",
    "from sklearn.neighbors import KNeighborsClassifier\n",
    "from sklearn.metrics import accuracy_score"
   ]
  },
  {
   "cell_type": "code",
   "execution_count": 2,
   "id": "d8114311",
   "metadata": {},
   "outputs": [],
   "source": [
    "\"\"\"\n",
    "\n",
    "Exemplo\n",
    "\n",
    "-- Gerar o wcss\n",
    "wcss = []\n",
    "\n",
    "for k in range(1, 11):\n",
    "\n",
    "  model = KMeans(n_clusters=k, n_init=10)\n",
    "  model = model.fit(iris)\n",
    "  wcss.append(model.inertia_)\n",
    "\n",
    "df_wcss = pd.DataFrame({\n",
    "    'Número de Clusters': range(1, 11),\n",
    "    'WCSS': wcss\n",
    "})\n",
    "\n",
    "df_wcss.head(11)\n",
    "\n",
    "-- Definir melhor numero de clusters\n",
    "n = optimal_number_of_clusters(wcss)\n",
    "print(n)\n",
    "\n",
    "\"\"\"\n",
    "\n",
    "# Apoio\n",
    "# Como definir o número de clusters para o seu KMeans\n",
    "# https://medium.com/pizzadedados/kmeans-e-metodo-do-cotovelo-94ded9fdf3a9\n",
    "\n",
    "def optimal_number_of_clusters(wcss):\n",
    "    x1, y1 = 2, wcss[0]\n",
    "    x2, y2 = 20, wcss[len(wcss)-1]\n",
    "\n",
    "    distances = []\n",
    "    for i in range(len(wcss)):\n",
    "        x0 = i+2\n",
    "        y0 = wcss[i]\n",
    "        numerator = abs((y2-y1)*x0 - (x2-x1)*y0 + x2*y1 - y2*x1)\n",
    "        denominator = sqrt((y2 - y1)**2 + (x2 - x1)**2)\n",
    "        distances.append(numerator/denominator)\n",
    "\n",
    "    return distances.index(max(distances)) + 2"
   ]
  },
  {
   "cell_type": "markdown",
   "id": "6f0606c0",
   "metadata": {},
   "source": [
    "#### Aula 1 - Modelos de Classificação"
   ]
  },
  {
   "cell_type": "code",
   "execution_count": 3,
   "id": "86153d59",
   "metadata": {},
   "outputs": [],
   "source": [
    "# Usando a engine calamine devido a sua melhor performace se comparada com o openpyxl\n",
    "link = \"https://github.com/FIAP/Pos_Tech_DTAT/raw/073d3c7ab0cd105f8ad2fb347c0f02cb36773ee4/Aula%2001/Base%20de%20dados/gaf_esp.xlsx\"\n",
    "dados = pd.read_excel(link, engine= \"calamine\")"
   ]
  },
  {
   "cell_type": "code",
   "execution_count": 4,
   "id": "8a16e40f",
   "metadata": {},
   "outputs": [
    {
     "data": {
      "application/vnd.microsoft.datawrangler.viewer.v0+json": {
       "columns": [
        {
         "name": "index",
         "rawType": "int64",
         "type": "integer"
        },
        {
         "name": "Espécie",
         "rawType": "object",
         "type": "string"
        },
        {
         "name": "Comprimento do Abdômen",
         "rawType": "float64",
         "type": "float"
        },
        {
         "name": "Comprimento das Antenas",
         "rawType": "float64",
         "type": "float"
        }
       ],
       "ref": "f959f430-61ab-4d1d-b5a3-d9fc93ebf061",
       "rows": [
        [
         "0",
         "Gafanhoto",
         "0.5",
         "7.0"
        ],
        [
         "1",
         "Gafanhoto",
         "0.5",
         "6.0"
        ],
        [
         "2",
         "Gafanhoto",
         "0.6",
         "5.5"
        ],
        [
         "3",
         "Gafanhoto",
         "0.65",
         "4.5"
        ],
        [
         "4",
         "Gafanhoto",
         "0.54",
         "3.2"
        ]
       ],
       "shape": {
        "columns": 3,
        "rows": 5
       }
      },
      "text/html": [
       "<div>\n",
       "<style scoped>\n",
       "    .dataframe tbody tr th:only-of-type {\n",
       "        vertical-align: middle;\n",
       "    }\n",
       "\n",
       "    .dataframe tbody tr th {\n",
       "        vertical-align: top;\n",
       "    }\n",
       "\n",
       "    .dataframe thead th {\n",
       "        text-align: right;\n",
       "    }\n",
       "</style>\n",
       "<table border=\"1\" class=\"dataframe\">\n",
       "  <thead>\n",
       "    <tr style=\"text-align: right;\">\n",
       "      <th></th>\n",
       "      <th>Espécie</th>\n",
       "      <th>Comprimento do Abdômen</th>\n",
       "      <th>Comprimento das Antenas</th>\n",
       "    </tr>\n",
       "  </thead>\n",
       "  <tbody>\n",
       "    <tr>\n",
       "      <th>0</th>\n",
       "      <td>Gafanhoto</td>\n",
       "      <td>0.50</td>\n",
       "      <td>7.0</td>\n",
       "    </tr>\n",
       "    <tr>\n",
       "      <th>1</th>\n",
       "      <td>Gafanhoto</td>\n",
       "      <td>0.50</td>\n",
       "      <td>6.0</td>\n",
       "    </tr>\n",
       "    <tr>\n",
       "      <th>2</th>\n",
       "      <td>Gafanhoto</td>\n",
       "      <td>0.60</td>\n",
       "      <td>5.5</td>\n",
       "    </tr>\n",
       "    <tr>\n",
       "      <th>3</th>\n",
       "      <td>Gafanhoto</td>\n",
       "      <td>0.65</td>\n",
       "      <td>4.5</td>\n",
       "    </tr>\n",
       "    <tr>\n",
       "      <th>4</th>\n",
       "      <td>Gafanhoto</td>\n",
       "      <td>0.54</td>\n",
       "      <td>3.2</td>\n",
       "    </tr>\n",
       "  </tbody>\n",
       "</table>\n",
       "</div>"
      ],
      "text/plain": [
       "     Espécie  Comprimento do Abdômen  Comprimento das Antenas\n",
       "0  Gafanhoto                    0.50                      7.0\n",
       "1  Gafanhoto                    0.50                      6.0\n",
       "2  Gafanhoto                    0.60                      5.5\n",
       "3  Gafanhoto                    0.65                      4.5\n",
       "4  Gafanhoto                    0.54                      3.2"
      ]
     },
     "execution_count": 4,
     "metadata": {},
     "output_type": "execute_result"
    }
   ],
   "source": [
    "# Ver os primeiro dados \n",
    "dados.head()"
   ]
  },
  {
   "cell_type": "code",
   "execution_count": 5,
   "id": "b65f6c23",
   "metadata": {},
   "outputs": [
    {
     "data": {
      "application/vnd.microsoft.datawrangler.viewer.v0+json": {
       "columns": [
        {
         "name": "index",
         "rawType": "int64",
         "type": "integer"
        },
        {
         "name": "Espécie",
         "rawType": "object",
         "type": "string"
        },
        {
         "name": "Comprimento do Abdômen",
         "rawType": "float64",
         "type": "float"
        },
        {
         "name": "Comprimento das Antenas",
         "rawType": "float64",
         "type": "float"
        }
       ],
       "ref": "6ce62592-d238-4a6a-a544-0de1d319ec99",
       "rows": [
        [
         "95",
         "Esperança",
         "9.75",
         "6.2"
        ],
        [
         "96",
         "Esperança",
         "6.2",
         "8.1"
        ],
        [
         "97",
         "Esperança",
         "9.2",
         "4.7"
        ],
        [
         "98",
         "Esperança",
         "9.1",
         "6.0"
        ],
        [
         "99",
         "Esperança",
         "8.29",
         "7.0"
        ]
       ],
       "shape": {
        "columns": 3,
        "rows": 5
       }
      },
      "text/html": [
       "<div>\n",
       "<style scoped>\n",
       "    .dataframe tbody tr th:only-of-type {\n",
       "        vertical-align: middle;\n",
       "    }\n",
       "\n",
       "    .dataframe tbody tr th {\n",
       "        vertical-align: top;\n",
       "    }\n",
       "\n",
       "    .dataframe thead th {\n",
       "        text-align: right;\n",
       "    }\n",
       "</style>\n",
       "<table border=\"1\" class=\"dataframe\">\n",
       "  <thead>\n",
       "    <tr style=\"text-align: right;\">\n",
       "      <th></th>\n",
       "      <th>Espécie</th>\n",
       "      <th>Comprimento do Abdômen</th>\n",
       "      <th>Comprimento das Antenas</th>\n",
       "    </tr>\n",
       "  </thead>\n",
       "  <tbody>\n",
       "    <tr>\n",
       "      <th>95</th>\n",
       "      <td>Esperança</td>\n",
       "      <td>9.75</td>\n",
       "      <td>6.2</td>\n",
       "    </tr>\n",
       "    <tr>\n",
       "      <th>96</th>\n",
       "      <td>Esperança</td>\n",
       "      <td>6.20</td>\n",
       "      <td>8.1</td>\n",
       "    </tr>\n",
       "    <tr>\n",
       "      <th>97</th>\n",
       "      <td>Esperança</td>\n",
       "      <td>9.20</td>\n",
       "      <td>4.7</td>\n",
       "    </tr>\n",
       "    <tr>\n",
       "      <th>98</th>\n",
       "      <td>Esperança</td>\n",
       "      <td>9.10</td>\n",
       "      <td>6.0</td>\n",
       "    </tr>\n",
       "    <tr>\n",
       "      <th>99</th>\n",
       "      <td>Esperança</td>\n",
       "      <td>8.29</td>\n",
       "      <td>7.0</td>\n",
       "    </tr>\n",
       "  </tbody>\n",
       "</table>\n",
       "</div>"
      ],
      "text/plain": [
       "      Espécie  Comprimento do Abdômen  Comprimento das Antenas\n",
       "95  Esperança                    9.75                      6.2\n",
       "96  Esperança                    6.20                      8.1\n",
       "97  Esperança                    9.20                      4.7\n",
       "98  Esperança                    9.10                      6.0\n",
       "99  Esperança                    8.29                      7.0"
      ]
     },
     "execution_count": 5,
     "metadata": {},
     "output_type": "execute_result"
    }
   ],
   "source": [
    "# Ver os ultimos dados \n",
    "dados.tail()"
   ]
  },
  {
   "cell_type": "code",
   "execution_count": 6,
   "id": "01000a83",
   "metadata": {},
   "outputs": [
    {
     "data": {
      "application/vnd.microsoft.datawrangler.viewer.v0+json": {
       "columns": [
        {
         "name": "index",
         "rawType": "object",
         "type": "string"
        },
        {
         "name": "Comprimento do Abdômen",
         "rawType": "float64",
         "type": "float"
        },
        {
         "name": "Comprimento das Antenas",
         "rawType": "float64",
         "type": "float"
        }
       ],
       "ref": "997bb544-9071-4ef0-8e6d-350941b09a61",
       "rows": [
        [
         "count",
         "100.0",
         "100.0"
        ],
        [
         "mean",
         "4.9362",
         "5.382400000000001"
        ],
        [
         "std",
         "3.3438062084391142",
         "2.296000527927296"
        ],
        [
         "min",
         "0.5",
         "0.89"
        ],
        [
         "25%",
         "1.6925",
         "3.775"
        ],
        [
         "50%",
         "4.5",
         "5.5"
        ],
        [
         "75%",
         "8.2",
         "7.0"
        ],
        [
         "max",
         "10.0",
         "9.7"
        ]
       ],
       "shape": {
        "columns": 2,
        "rows": 8
       }
      },
      "text/html": [
       "<div>\n",
       "<style scoped>\n",
       "    .dataframe tbody tr th:only-of-type {\n",
       "        vertical-align: middle;\n",
       "    }\n",
       "\n",
       "    .dataframe tbody tr th {\n",
       "        vertical-align: top;\n",
       "    }\n",
       "\n",
       "    .dataframe thead th {\n",
       "        text-align: right;\n",
       "    }\n",
       "</style>\n",
       "<table border=\"1\" class=\"dataframe\">\n",
       "  <thead>\n",
       "    <tr style=\"text-align: right;\">\n",
       "      <th></th>\n",
       "      <th>Comprimento do Abdômen</th>\n",
       "      <th>Comprimento das Antenas</th>\n",
       "    </tr>\n",
       "  </thead>\n",
       "  <tbody>\n",
       "    <tr>\n",
       "      <th>count</th>\n",
       "      <td>100.000000</td>\n",
       "      <td>100.000000</td>\n",
       "    </tr>\n",
       "    <tr>\n",
       "      <th>mean</th>\n",
       "      <td>4.936200</td>\n",
       "      <td>5.382400</td>\n",
       "    </tr>\n",
       "    <tr>\n",
       "      <th>std</th>\n",
       "      <td>3.343806</td>\n",
       "      <td>2.296001</td>\n",
       "    </tr>\n",
       "    <tr>\n",
       "      <th>min</th>\n",
       "      <td>0.500000</td>\n",
       "      <td>0.890000</td>\n",
       "    </tr>\n",
       "    <tr>\n",
       "      <th>25%</th>\n",
       "      <td>1.692500</td>\n",
       "      <td>3.775000</td>\n",
       "    </tr>\n",
       "    <tr>\n",
       "      <th>50%</th>\n",
       "      <td>4.500000</td>\n",
       "      <td>5.500000</td>\n",
       "    </tr>\n",
       "    <tr>\n",
       "      <th>75%</th>\n",
       "      <td>8.200000</td>\n",
       "      <td>7.000000</td>\n",
       "    </tr>\n",
       "    <tr>\n",
       "      <th>max</th>\n",
       "      <td>10.000000</td>\n",
       "      <td>9.700000</td>\n",
       "    </tr>\n",
       "  </tbody>\n",
       "</table>\n",
       "</div>"
      ],
      "text/plain": [
       "       Comprimento do Abdômen  Comprimento das Antenas\n",
       "count              100.000000               100.000000\n",
       "mean                 4.936200                 5.382400\n",
       "std                  3.343806                 2.296001\n",
       "min                  0.500000                 0.890000\n",
       "25%                  1.692500                 3.775000\n",
       "50%                  4.500000                 5.500000\n",
       "75%                  8.200000                 7.000000\n",
       "max                 10.000000                 9.700000"
      ]
     },
     "execution_count": 6,
     "metadata": {},
     "output_type": "execute_result"
    }
   ],
   "source": [
    "# Ver a estatistica descritiva da base \n",
    "\n",
    "dados.describe()"
   ]
  },
  {
   "cell_type": "code",
   "execution_count": 7,
   "id": "36e74a69",
   "metadata": {},
   "outputs": [
    {
     "data": {
      "text/plain": [
       "(100, 3)"
      ]
     },
     "execution_count": 7,
     "metadata": {},
     "output_type": "execute_result"
    }
   ],
   "source": [
    "# Ver a qtd da base \n",
    "\n",
    "dados.shape"
   ]
  },
  {
   "cell_type": "code",
   "execution_count": 8,
   "id": "9647d10f",
   "metadata": {},
   "outputs": [
    {
     "data": {
      "application/vnd.microsoft.datawrangler.viewer.v0+json": {
       "columns": [
        {
         "name": "Espécie",
         "rawType": "object",
         "type": "string"
        },
        {
         "name": "('Comprimento do Abdômen', 'count')",
         "rawType": "float64",
         "type": "float"
        },
        {
         "name": "('Comprimento do Abdômen', 'mean')",
         "rawType": "float64",
         "type": "float"
        },
        {
         "name": "('Comprimento do Abdômen', 'std')",
         "rawType": "float64",
         "type": "float"
        },
        {
         "name": "('Comprimento do Abdômen', 'min')",
         "rawType": "float64",
         "type": "float"
        },
        {
         "name": "('Comprimento do Abdômen', '25%')",
         "rawType": "float64",
         "type": "float"
        },
        {
         "name": "('Comprimento do Abdômen', '50%')",
         "rawType": "float64",
         "type": "float"
        },
        {
         "name": "('Comprimento do Abdômen', '75%')",
         "rawType": "float64",
         "type": "float"
        },
        {
         "name": "('Comprimento do Abdômen', 'max')",
         "rawType": "float64",
         "type": "float"
        },
        {
         "name": "('Comprimento das Antenas', 'count')",
         "rawType": "float64",
         "type": "float"
        },
        {
         "name": "('Comprimento das Antenas', 'mean')",
         "rawType": "float64",
         "type": "float"
        },
        {
         "name": "('Comprimento das Antenas', 'std')",
         "rawType": "float64",
         "type": "float"
        },
        {
         "name": "('Comprimento das Antenas', 'min')",
         "rawType": "float64",
         "type": "float"
        },
        {
         "name": "('Comprimento das Antenas', '25%')",
         "rawType": "float64",
         "type": "float"
        },
        {
         "name": "('Comprimento das Antenas', '50%')",
         "rawType": "float64",
         "type": "float"
        },
        {
         "name": "('Comprimento das Antenas', '75%')",
         "rawType": "float64",
         "type": "float"
        },
        {
         "name": "('Comprimento das Antenas', 'max')",
         "rawType": "float64",
         "type": "float"
        }
       ],
       "ref": "338a5d08-509b-4df2-94f0-99ba1737655b",
       "rows": [
        [
         "Esperança",
         "50.0",
         "8.120600000000001",
         "1.1297289001150241",
         "5.4",
         "7.225",
         "8.2",
         "9.0",
         "10.0",
         "50.0",
         "7.215599999999999",
         "1.3349450191231218",
         "4.5",
         "6.205",
         "7.0",
         "8.2",
         "9.7"
        ],
        [
         "Gafanhoto",
         "50.0",
         "1.7518",
         "0.7869410941832212",
         "0.5",
         "1.2",
         "1.685",
         "2.415",
         "3.6",
         "50.0",
         "3.5492000000000004",
         "1.41786105073229",
         "0.89",
         "2.55",
         "3.7699999999999996",
         "4.3",
         "7.0"
        ]
       ],
       "shape": {
        "columns": 16,
        "rows": 2
       }
      },
      "text/html": [
       "<div>\n",
       "<style scoped>\n",
       "    .dataframe tbody tr th:only-of-type {\n",
       "        vertical-align: middle;\n",
       "    }\n",
       "\n",
       "    .dataframe tbody tr th {\n",
       "        vertical-align: top;\n",
       "    }\n",
       "\n",
       "    .dataframe thead tr th {\n",
       "        text-align: left;\n",
       "    }\n",
       "\n",
       "    .dataframe thead tr:last-of-type th {\n",
       "        text-align: right;\n",
       "    }\n",
       "</style>\n",
       "<table border=\"1\" class=\"dataframe\">\n",
       "  <thead>\n",
       "    <tr>\n",
       "      <th></th>\n",
       "      <th colspan=\"8\" halign=\"left\">Comprimento do Abdômen</th>\n",
       "      <th colspan=\"8\" halign=\"left\">Comprimento das Antenas</th>\n",
       "    </tr>\n",
       "    <tr>\n",
       "      <th></th>\n",
       "      <th>count</th>\n",
       "      <th>mean</th>\n",
       "      <th>std</th>\n",
       "      <th>min</th>\n",
       "      <th>25%</th>\n",
       "      <th>50%</th>\n",
       "      <th>75%</th>\n",
       "      <th>max</th>\n",
       "      <th>count</th>\n",
       "      <th>mean</th>\n",
       "      <th>std</th>\n",
       "      <th>min</th>\n",
       "      <th>25%</th>\n",
       "      <th>50%</th>\n",
       "      <th>75%</th>\n",
       "      <th>max</th>\n",
       "    </tr>\n",
       "    <tr>\n",
       "      <th>Espécie</th>\n",
       "      <th></th>\n",
       "      <th></th>\n",
       "      <th></th>\n",
       "      <th></th>\n",
       "      <th></th>\n",
       "      <th></th>\n",
       "      <th></th>\n",
       "      <th></th>\n",
       "      <th></th>\n",
       "      <th></th>\n",
       "      <th></th>\n",
       "      <th></th>\n",
       "      <th></th>\n",
       "      <th></th>\n",
       "      <th></th>\n",
       "      <th></th>\n",
       "    </tr>\n",
       "  </thead>\n",
       "  <tbody>\n",
       "    <tr>\n",
       "      <th>Esperança</th>\n",
       "      <td>50.0</td>\n",
       "      <td>8.1206</td>\n",
       "      <td>1.129729</td>\n",
       "      <td>5.4</td>\n",
       "      <td>7.225</td>\n",
       "      <td>8.200</td>\n",
       "      <td>9.000</td>\n",
       "      <td>10.0</td>\n",
       "      <td>50.0</td>\n",
       "      <td>7.2156</td>\n",
       "      <td>1.334945</td>\n",
       "      <td>4.50</td>\n",
       "      <td>6.205</td>\n",
       "      <td>7.00</td>\n",
       "      <td>8.2</td>\n",
       "      <td>9.7</td>\n",
       "    </tr>\n",
       "    <tr>\n",
       "      <th>Gafanhoto</th>\n",
       "      <td>50.0</td>\n",
       "      <td>1.7518</td>\n",
       "      <td>0.786941</td>\n",
       "      <td>0.5</td>\n",
       "      <td>1.200</td>\n",
       "      <td>1.685</td>\n",
       "      <td>2.415</td>\n",
       "      <td>3.6</td>\n",
       "      <td>50.0</td>\n",
       "      <td>3.5492</td>\n",
       "      <td>1.417861</td>\n",
       "      <td>0.89</td>\n",
       "      <td>2.550</td>\n",
       "      <td>3.77</td>\n",
       "      <td>4.3</td>\n",
       "      <td>7.0</td>\n",
       "    </tr>\n",
       "  </tbody>\n",
       "</table>\n",
       "</div>"
      ],
      "text/plain": [
       "          Comprimento do Abdômen                                              \\\n",
       "                           count    mean       std  min    25%    50%    75%   \n",
       "Espécie                                                                        \n",
       "Esperança                   50.0  8.1206  1.129729  5.4  7.225  8.200  9.000   \n",
       "Gafanhoto                   50.0  1.7518  0.786941  0.5  1.200  1.685  2.415   \n",
       "\n",
       "                Comprimento das Antenas                                       \\\n",
       "            max                   count    mean       std   min    25%   50%   \n",
       "Espécie                                                                        \n",
       "Esperança  10.0                    50.0  7.2156  1.334945  4.50  6.205  7.00   \n",
       "Gafanhoto   3.6                    50.0  3.5492  1.417861  0.89  2.550  3.77   \n",
       "\n",
       "                     \n",
       "           75%  max  \n",
       "Espécie              \n",
       "Esperança  8.2  9.7  \n",
       "Gafanhoto  4.3  7.0  "
      ]
     },
     "execution_count": 8,
     "metadata": {},
     "output_type": "execute_result"
    }
   ],
   "source": [
    "# Agrupar os dados\n",
    "\n",
    "dados.groupby(\"Espécie\").describe()"
   ]
  },
  {
   "cell_type": "code",
   "execution_count": 9,
   "id": "be9d4db6",
   "metadata": {},
   "outputs": [
    {
     "data": {
      "image/png": "[encoded data removed]",
      "text/plain": [
       "<Figure size 640x480 with 1 Axes>"
      ]
     },
     "metadata": {},
     "output_type": "display_data"
    }
   ],
   "source": [
    "# Criar grafico de dispersão \n",
    "\n",
    "dados.plot.scatter(x = \"Comprimento do Abdômen\", y = \"Comprimento das Antenas\")\n",
    "plt.show()"
   ]
  },
  {
   "cell_type": "code",
   "execution_count": 10,
   "id": "ad8a6eb1",
   "metadata": {},
   "outputs": [
    {
     "data": {
      "application/vnd.microsoft.datawrangler.viewer.v0+json": {
       "columns": [
        {
         "name": "index",
         "rawType": "int64",
         "type": "integer"
        },
        {
         "name": "Comprimento do Abdômen",
         "rawType": "float64",
         "type": "float"
        },
        {
         "name": "Comprimento das Antenas",
         "rawType": "float64",
         "type": "float"
        }
       ],
       "ref": "0dcd8cea-105d-41ec-b472-72c6c9c2be8d",
       "rows": [
        [
         "0",
         "0.5",
         "7.0"
        ],
        [
         "1",
         "0.5",
         "6.0"
        ],
        [
         "2",
         "0.6",
         "5.5"
        ],
        [
         "3",
         "0.65",
         "4.5"
        ],
        [
         "4",
         "0.54",
         "3.2"
        ]
       ],
       "shape": {
        "columns": 2,
        "rows": 5
       }
      },
      "text/html": [
       "<div>\n",
       "<style scoped>\n",
       "    .dataframe tbody tr th:only-of-type {\n",
       "        vertical-align: middle;\n",
       "    }\n",
       "\n",
       "    .dataframe tbody tr th {\n",
       "        vertical-align: top;\n",
       "    }\n",
       "\n",
       "    .dataframe thead th {\n",
       "        text-align: right;\n",
       "    }\n",
       "</style>\n",
       "<table border=\"1\" class=\"dataframe\">\n",
       "  <thead>\n",
       "    <tr style=\"text-align: right;\">\n",
       "      <th></th>\n",
       "      <th>Comprimento do Abdômen</th>\n",
       "      <th>Comprimento das Antenas</th>\n",
       "    </tr>\n",
       "  </thead>\n",
       "  <tbody>\n",
       "    <tr>\n",
       "      <th>0</th>\n",
       "      <td>0.50</td>\n",
       "      <td>7.0</td>\n",
       "    </tr>\n",
       "    <tr>\n",
       "      <th>1</th>\n",
       "      <td>0.50</td>\n",
       "      <td>6.0</td>\n",
       "    </tr>\n",
       "    <tr>\n",
       "      <th>2</th>\n",
       "      <td>0.60</td>\n",
       "      <td>5.5</td>\n",
       "    </tr>\n",
       "    <tr>\n",
       "      <th>3</th>\n",
       "      <td>0.65</td>\n",
       "      <td>4.5</td>\n",
       "    </tr>\n",
       "    <tr>\n",
       "      <th>4</th>\n",
       "      <td>0.54</td>\n",
       "      <td>3.2</td>\n",
       "    </tr>\n",
       "  </tbody>\n",
       "</table>\n",
       "</div>"
      ],
      "text/plain": [
       "   Comprimento do Abdômen  Comprimento das Antenas\n",
       "0                    0.50                      7.0\n",
       "1                    0.50                      6.0\n",
       "2                    0.60                      5.5\n",
       "3                    0.65                      4.5\n",
       "4                    0.54                      3.2"
      ]
     },
     "execution_count": 10,
     "metadata": {},
     "output_type": "execute_result"
    }
   ],
   "source": [
    "# Selecionar as variaveis caracteristica \n",
    "\n",
    "x = dados[[\"Comprimento do Abdômen\",\"Comprimento das Antenas\"]] # --> dois colchete pois estamos selecionando mais de uma coluna\n",
    "x.head()"
   ]
  },
  {
   "cell_type": "code",
   "execution_count": 11,
   "id": "3091539d",
   "metadata": {},
   "outputs": [
    {
     "data": {
      "application/vnd.microsoft.datawrangler.viewer.v0+json": {
       "columns": [
        {
         "name": "index",
         "rawType": "int64",
         "type": "integer"
        },
        {
         "name": "Espécie",
         "rawType": "object",
         "type": "string"
        }
       ],
       "ref": "7596c779-85cc-4f1a-a066-9f48dce95627",
       "rows": [
        [
         "0",
         "Gafanhoto"
        ],
        [
         "1",
         "Gafanhoto"
        ],
        [
         "2",
         "Gafanhoto"
        ],
        [
         "3",
         "Gafanhoto"
        ],
        [
         "4",
         "Gafanhoto"
        ]
       ],
       "shape": {
        "columns": 1,
        "rows": 5
       }
      },
      "text/plain": [
       "0    Gafanhoto\n",
       "1    Gafanhoto\n",
       "2    Gafanhoto\n",
       "3    Gafanhoto\n",
       "4    Gafanhoto\n",
       "Name: Espécie, dtype: object"
      ]
     },
     "execution_count": 11,
     "metadata": {},
     "output_type": "execute_result"
    }
   ],
   "source": [
    "# Selecionar a variavel target\n",
    "\n",
    "y = dados[\"Espécie\"]\n",
    "y.head()"
   ]
  },
  {
   "cell_type": "code",
   "execution_count": 12,
   "id": "24d7868a",
   "metadata": {},
   "outputs": [
    {
     "name": "stdout",
     "output_type": "stream",
     "text": [
      "Qtd de dados no y_train para Gafanhoto: 38 --> 47.50 %\n",
      "Qtd de dados no y_train para Esperança: 42 --> 52.50 %\n"
     ]
    }
   ],
   "source": [
    "# Separar os dados entre treino e teste \n",
    "# test_size    --> tamanho da base de teste  \n",
    "# random_state --> é a semente da aleatoriedade \n",
    "# exemplo sem usar o stratify\n",
    "\n",
    "x_train, x_test, y_train, y_test = train_test_split(x,y, test_size=0.2, random_state=42)\n",
    "\n",
    "qtd_gafanhoto = list(y_train).count(\"Gafanhoto\")\n",
    "qtd_esperanca = list(y_train).count(\"Esperança\")\n",
    "qtd = len(y_train)\n",
    "\n",
    "print(f\"Qtd de dados no y_train para Gafanhoto: {qtd_gafanhoto} --> {(qtd_gafanhoto/qtd) * 100:.2f} %\")\n",
    "print(f\"Qtd de dados no y_train para Esperança: {qtd_esperanca} --> {(qtd_esperanca/qtd) * 100:.2f} %\")"
   ]
  },
  {
   "cell_type": "code",
   "execution_count": 13,
   "id": "efd28e7c",
   "metadata": {},
   "outputs": [
    {
     "name": "stdout",
     "output_type": "stream",
     "text": [
      "Qtd de dados no y_train para Gafanhoto: 40 --> 50.00 %\n",
      "Qtd de dados no y_train para Esperança: 40 --> 50.00 %\n"
     ]
    }
   ],
   "source": [
    "\"\"\"\n",
    "\n",
    "A Semente da Reprodutibilidade: Desvendando o `random_state=42` em Machine Learning\n",
    "\n",
    "Ao se aventurar no universo do Machine Learning, é comum se deparar com o parâmetro `random_state` em diversas funções, sendo um dos exemplos mais clássicos o seu \n",
    "uso na divisão de dados de treino e teste com a função `train_test_split` da biblioteca Scikit-learn, frequentemente com o valor `42`. Mas, afinal, o que significa essa \"semente de aleatoriedade\" \n",
    "e por que ela é tão importante?\n",
    "\n",
    "Em essência, a **semente de aleatoriedade (random seed)** é um ponto de partida para um gerador de números pseudoaleatórios. Computadores, por sua natureza determinística, não conseguem gerar \n",
    "números verdadeiramente aleatórios. Em vez disso, eles utilizam algoritmos para criar sequências de números que aparentam ser aleatórias. A semente é o valor inicial que alimenta esse algoritmo.\n",
    "\n",
    "Isso significa que, ao fornecer a mesma semente para o gerador, ele produzirá sempre a mesma sequência de números \"aleatórios\". É aqui que reside a importância do `random_state` em \n",
    "Machine Learning: **garantir a reprodutibilidade dos resultados.**\n",
    "\n",
    "### O Papel do `random_state` no `train_test_split`\n",
    "\n",
    "A função `train_test_split` é fundamental para dividir um conjunto de dados em duas partes: uma para treinar o modelo e outra para testar sua performance em dados não vistos.\n",
    "Essa divisão é feita de forma aleatória para garantir que ambos os conjuntos sejam representativos da totalidade dos dados.\n",
    "\n",
    "Ao definir `random_state` com um valor inteiro, como `42`, estamos fixando a \"aleatoriedade\" dessa divisão. Em outras palavras, toda vez que o código for executado com `random_state=42`, a exata \n",
    "mesma separação entre dados de treino e teste será realizada. As mesmas linhas do seu conjunto de dados original serão alocadas para o conjunto de treino e as mesmas para o de teste, sempre.\n",
    "\n",
    "Se o parâmetro `random_state` não for definido (ou for `None`), a cada execução a divisão dos dados será diferente, pois o sistema utilizará uma semente aleatória diferente, geralmente baseada no tempo do sistema.\n",
    "\n",
    "### Por que a Reprodutibilidade é Crucial?\n",
    "\n",
    "A capacidade de reproduzir experimentos é um pilar da ciência, e no Machine Learning não é diferente. A utilização do `random_state` oferece diversas vantagens:\n",
    "\n",
    "* **Colaboração e Depuração:** Ao compartilhar seu código com outros pesquisadores ou colegas, o uso de uma semente de aleatoriedade garante que eles consigam replicar seus resultados exatamente. \n",
    "Isso facilita a depuração de problemas e a validação de suas conclusões.\n",
    "* **Comparação Justa de Modelos:** Ao experimentar diferentes algoritmos ou ajustar os hiperparâmetros de um modelo, é essencial que a comparação seja feita nas mesmas condições. Fixar o `random_state` \n",
    "garante que a única variável sendo alterada é o próprio modelo, e não a forma como os dados foram divididos, permitindo uma avaliação justa e precisa do desempenho.\n",
    "* **Consistência em Tutoriais e Publicações:** Em materiais educacionais e artigos científicos, o `random_state` é utilizado para que os leitores possam seguir os passos e obter os mesmos resultados apresentados, \n",
    "facilitando o aprendizado e a verificação.\n",
    "\n",
    "### E por que o número 42?\n",
    "\n",
    "A escolha do número `42` como valor para a semente de aleatoriedade é, na verdade, uma convenção e uma referência cultural popular na comunidade de tecnologia e ciência de dados. \n",
    "O número vem do livro de ficção científica \"O Guia do Mochileiro das Galáxias\", de Douglas Adams, onde `42` é a resposta para \"a questão fundamental da vida, o universo e tudo mais\".\n",
    "\n",
    "Qualquer outro número inteiro poderia ser utilizado como semente (`0`, `123`, `2024`, etc.) e o efeito seria o mesmo: a garantia de reprodutibilidade. \n",
    "O uso do `42` é simplesmente um aceno divertido a essa obra icônica.\n",
    "\n",
    "Em resumo, o `random_state=42` no `train_test_split` não é um parâmetro misterioso, mas sim uma ferramenta poderosa para assegurar que seus experimentos de Machine Learning sejam consistentes, \n",
    "verificáveis e comparáveis, trazendo mais rigor científico para o seu trabalho.\n",
    "\n",
    "\"\"\"\n",
    "\n",
    "# Separar os dados entre treino e teste \n",
    "# test_size    --> tamanho da base de teste  \n",
    "# stratify     --> equilibrio na separação \n",
    "# random_state --> é a semente da aleatoriedade \n",
    "\n",
    "x_train, x_test, y_train, y_test = train_test_split(x,y, test_size=0.2, stratify=y, random_state=42)\n",
    "\n",
    "qtd_gafanhoto = list(y_train).count(\"Gafanhoto\")\n",
    "qtd_esperanca = list(y_train).count(\"Esperança\")\n",
    "qtd = len(y_train)\n",
    "\n",
    "print(f\"Qtd de dados no y_train para Gafanhoto: {qtd_gafanhoto} --> {(qtd_gafanhoto/qtd) * 100:.2f} %\")\n",
    "print(f\"Qtd de dados no y_train para Esperança: {qtd_esperanca} --> {(qtd_esperanca/qtd) * 100:.2f} %\")\n"
   ]
  },
  {
   "cell_type": "code",
   "execution_count": 14,
   "id": "03d103db",
   "metadata": {},
   "outputs": [
    {
     "data": {
      "text/plain": [
       "array([7, 4, 8, 5, 7, 3, 7, 8, 5, 4])"
      ]
     },
     "execution_count": 14,
     "metadata": {},
     "output_type": "execute_result"
    }
   ],
   "source": [
    "# Exemplo de numeros aleatorios com semente\n",
    "np.random.seed(42)\n",
    "np.random.randint(low=1,high=10,size=10)"
   ]
  },
  {
   "cell_type": "code",
   "execution_count": 15,
   "id": "b44f1024",
   "metadata": {},
   "outputs": [
    {
     "data": {
      "text/plain": [
       "array([8, 8, 3, 6, 5, 2, 8, 6, 2, 5])"
      ]
     },
     "execution_count": 15,
     "metadata": {},
     "output_type": "execute_result"
    }
   ],
   "source": [
    "# Exemplo de numeros aleatorios sem semente\n",
    "np.random.randint(low=1,high=10,size=10)"
   ]
  },
  {
   "cell_type": "code",
   "execution_count": 16,
   "id": "4dcd6a24",
   "metadata": {},
   "outputs": [],
   "source": [
    "# Criar o modelo KNN --> -Nearest Neighbors, ou K Vizinhos Mais Próximos\n",
    "modelo_classificador = KNeighborsClassifier(n_neighbors=3) # --> n_neighbors é um hiperparemetro"
   ]
  },
  {
   "cell_type": "code",
   "execution_count": 17,
   "id": "e5a58130",
   "metadata": {},
   "outputs": [
    {
     "data": {
      "text/html": [
       "<style>#sk-container-id-1 {\n",
       "  /* Definition of color scheme common for light and dark mode */\n",
       "  --sklearn-color-text: #000;\n",
       "  --sklearn-color-text-muted: #666;\n",
       "  --sklearn-color-line: gray;\n",
       "  /* Definition of color scheme for unfitted estimators */\n",
       "  --sklearn-color-unfitted-level-0: #fff5e6;\n",
       "  --sklearn-color-unfitted-level-1: #f6e4d2;\n",
       "  --sklearn-color-unfitted-level-2: #ffe0b3;\n",
       "  --sklearn-color-unfitted-level-3: chocolate;\n",
       "  /* Definition of color scheme for fitted estimators */\n",
       "  --sklearn-color-fitted-level-0: #f0f8ff;\n",
       "  --sklearn-color-fitted-level-1: #d4ebff;\n",
       "  --sklearn-color-fitted-level-2: #b3dbfd;\n",
       "  --sklearn-color-fitted-level-3: cornflowerblue;\n",
       "\n",
       "  /* Specific color for light theme */\n",
       "  --sklearn-color-text-on-default-background: var(--sg-text-color, var(--theme-code-foreground, var(--jp-content-font-color1, black)));\n",
       "  --sklearn-color-background: var(--sg-background-color, var(--theme-background, var(--jp-layout-color0, white)));\n",
       "  --sklearn-color-border-box: var(--sg-text-color, var(--theme-code-foreground, var(--jp-content-font-color1, black)));\n",
       "  --sklearn-color-icon: #696969;\n",
       "\n",
       "  @media (prefers-color-scheme: dark) {\n",
       "    /* Redefinition of color scheme for dark theme */\n",
       "    --sklearn-color-text-on-default-background: var(--sg-text-color, var(--theme-code-foreground, var(--jp-content-font-color1, white)));\n",
       "    --sklearn-color-background: var(--sg-background-color, var(--theme-background, var(--jp-layout-color0, #111)));\n",
       "    --sklearn-color-border-box: var(--sg-text-color, var(--theme-code-foreground, var(--jp-content-font-color1, white)));\n",
       "    --sklearn-color-icon: #878787;\n",
       "  }\n",
       "}\n",
       "\n",
       "#sk-container-id-1 {\n",
       "  color: var(--sklearn-color-text);\n",
       "}\n",
       "\n",
       "#sk-container-id-1 pre {\n",
       "  padding: 0;\n",
       "}\n",
       "\n",
       "#sk-container-id-1 input.sk-hidden--visually {\n",
       "  border: 0;\n",
       "  clip: rect(1px 1px 1px 1px);\n",
       "  clip: rect(1px, 1px, 1px, 1px);\n",
       "  height: 1px;\n",
       "  margin: -1px;\n",
       "  overflow: hidden;\n",
       "  padding: 0;\n",
       "  position: absolute;\n",
       "  width: 1px;\n",
       "}\n",
       "\n",
       "#sk-container-id-1 div.sk-dashed-wrapped {\n",
       "  border: 1px dashed var(--sklearn-color-line);\n",
       "  margin: 0 0.4em 0.5em 0.4em;\n",
       "  box-sizing: border-box;\n",
       "  padding-bottom: 0.4em;\n",
       "  background-color: var(--sklearn-color-background);\n",
       "}\n",
       "\n",
       "#sk-container-id-1 div.sk-container {\n",
       "  /* jupyter's `normalize.less` sets `[hidden] { display: none; }`\n",
       "     but bootstrap.min.css set `[hidden] { display: none !important; }`\n",
       "     so we also need the `!important` here to be able to override the\n",
       "     default hidden behavior on the sphinx rendered scikit-learn.org.\n",
       "     See: https://github.com/scikit-learn/scikit-learn/issues/21755 */\n",
       "  display: inline-block !important;\n",
       "  position: relative;\n",
       "}\n",
       "\n",
       "#sk-container-id-1 div.sk-text-repr-fallback {\n",
       "  display: none;\n",
       "}\n",
       "\n",
       "div.sk-parallel-item,\n",
       "div.sk-serial,\n",
       "div.sk-item {\n",
       "  /* draw centered vertical line to link estimators */\n",
       "  background-image: linear-gradient(var(--sklearn-color-text-on-default-background), var(--sklearn-color-text-on-default-background));\n",
       "  background-size: 2px 100%;\n",
       "  background-repeat: no-repeat;\n",
       "  background-position: center center;\n",
       "}\n",
       "\n",
       "/* Parallel-specific style estimator block */\n",
       "\n",
       "#sk-container-id-1 div.sk-parallel-item::after {\n",
       "  content: \"\";\n",
       "  width: 100%;\n",
       "  border-bottom: 2px solid var(--sklearn-color-text-on-default-background);\n",
       "  flex-grow: 1;\n",
       "}\n",
       "\n",
       "#sk-container-id-1 div.sk-parallel {\n",
       "  display: flex;\n",
       "  align-items: stretch;\n",
       "  justify-content: center;\n",
       "  background-color: var(--sklearn-color-background);\n",
       "  position: relative;\n",
       "}\n",
       "\n",
       "#sk-container-id-1 div.sk-parallel-item {\n",
       "  display: flex;\n",
       "  flex-direction: column;\n",
       "}\n",
       "\n",
       "#sk-container-id-1 div.sk-parallel-item:first-child::after {\n",
       "  align-self: flex-end;\n",
       "  width: 50%;\n",
       "}\n",
       "\n",
       "#sk-container-id-1 div.sk-parallel-item:last-child::after {\n",
       "  align-self: flex-start;\n",
       "  width: 50%;\n",
       "}\n",
       "\n",
       "#sk-container-id-1 div.sk-parallel-item:only-child::after {\n",
       "  width: 0;\n",
       "}\n",
       "\n",
       "/* Serial-specific style estimator block */\n",
       "\n",
       "#sk-container-id-1 div.sk-serial {\n",
       "  display: flex;\n",
       "  flex-direction: column;\n",
       "  align-items: center;\n",
       "  background-color: var(--sklearn-color-background);\n",
       "  padding-right: 1em;\n",
       "  padding-left: 1em;\n",
       "}\n",
       "\n",
       "\n",
       "/* Toggleable style: style used for estimator/Pipeline/ColumnTransformer box that is\n",
       "clickable and can be expanded/collapsed.\n",
       "- Pipeline and ColumnTransformer use this feature and define the default style\n",
       "- Estimators will overwrite some part of the style using the `sk-estimator` class\n",
       "*/\n",
       "\n",
       "/* Pipeline and ColumnTransformer style (default) */\n",
       "\n",
       "#sk-container-id-1 div.sk-toggleable {\n",
       "  /* Default theme specific background. It is overwritten whether we have a\n",
       "  specific estimator or a Pipeline/ColumnTransformer */\n",
       "  background-color: var(--sklearn-color-background);\n",
       "}\n",
       "\n",
       "/* Toggleable label */\n",
       "#sk-container-id-1 label.sk-toggleable__label {\n",
       "  cursor: pointer;\n",
       "  display: flex;\n",
       "  width: 100%;\n",
       "  margin-bottom: 0;\n",
       "  padding: 0.5em;\n",
       "  box-sizing: border-box;\n",
       "  text-align: center;\n",
       "  align-items: start;\n",
       "  justify-content: space-between;\n",
       "  gap: 0.5em;\n",
       "}\n",
       "\n",
       "#sk-container-id-1 label.sk-toggleable__label .caption {\n",
       "  font-size: 0.6rem;\n",
       "  font-weight: lighter;\n",
       "  color: var(--sklearn-color-text-muted);\n",
       "}\n",
       "\n",
       "#sk-container-id-1 label.sk-toggleable__label-arrow:before {\n",
       "  /* Arrow on the left of the label */\n",
       "  content: \"▸\";\n",
       "  float: left;\n",
       "  margin-right: 0.25em;\n",
       "  color: var(--sklearn-color-icon);\n",
       "}\n",
       "\n",
       "#sk-container-id-1 label.sk-toggleable__label-arrow:hover:before {\n",
       "  color: var(--sklearn-color-text);\n",
       "}\n",
       "\n",
       "/* Toggleable content - dropdown */\n",
       "\n",
       "#sk-container-id-1 div.sk-toggleable__content {\n",
       "  display: none;\n",
       "  text-align: left;\n",
       "  /* unfitted */\n",
       "  background-color: var(--sklearn-color-unfitted-level-0);\n",
       "}\n",
       "\n",
       "#sk-container-id-1 div.sk-toggleable__content.fitted {\n",
       "  /* fitted */\n",
       "  background-color: var(--sklearn-color-fitted-level-0);\n",
       "}\n",
       "\n",
       "#sk-container-id-1 div.sk-toggleable__content pre {\n",
       "  margin: 0.2em;\n",
       "  border-radius: 0.25em;\n",
       "  color: var(--sklearn-color-text);\n",
       "  /* unfitted */\n",
       "  background-color: var(--sklearn-color-unfitted-level-0);\n",
       "}\n",
       "\n",
       "#sk-container-id-1 div.sk-toggleable__content.fitted pre {\n",
       "  /* unfitted */\n",
       "  background-color: var(--sklearn-color-fitted-level-0);\n",
       "}\n",
       "\n",
       "#sk-container-id-1 input.sk-toggleable__control:checked~div.sk-toggleable__content {\n",
       "  /* Expand drop-down */\n",
       "  display: block;\n",
       "  width: 100%;\n",
       "  overflow: visible;\n",
       "}\n",
       "\n",
       "#sk-container-id-1 input.sk-toggleable__control:checked~label.sk-toggleable__label-arrow:before {\n",
       "  content: \"▾\";\n",
       "}\n",
       "\n",
       "/* Pipeline/ColumnTransformer-specific style */\n",
       "\n",
       "#sk-container-id-1 div.sk-label input.sk-toggleable__control:checked~label.sk-toggleable__label {\n",
       "  color: var(--sklearn-color-text);\n",
       "  background-color: var(--sklearn-color-unfitted-level-2);\n",
       "}\n",
       "\n",
       "#sk-container-id-1 div.sk-label.fitted input.sk-toggleable__control:checked~label.sk-toggleable__label {\n",
       "  background-color: var(--sklearn-color-fitted-level-2);\n",
       "}\n",
       "\n",
       "/* Estimator-specific style */\n",
       "\n",
       "/* Colorize estimator box */\n",
       "#sk-container-id-1 div.sk-estimator input.sk-toggleable__control:checked~label.sk-toggleable__label {\n",
       "  /* unfitted */\n",
       "  background-color: var(--sklearn-color-unfitted-level-2);\n",
       "}\n",
       "\n",
       "#sk-container-id-1 div.sk-estimator.fitted input.sk-toggleable__control:checked~label.sk-toggleable__label {\n",
       "  /* fitted */\n",
       "  background-color: var(--sklearn-color-fitted-level-2);\n",
       "}\n",
       "\n",
       "#sk-container-id-1 div.sk-label label.sk-toggleable__label,\n",
       "#sk-container-id-1 div.sk-label label {\n",
       "  /* The background is the default theme color */\n",
       "  color: var(--sklearn-color-text-on-default-background);\n",
       "}\n",
       "\n",
       "/* On hover, darken the color of the background */\n",
       "#sk-container-id-1 div.sk-label:hover label.sk-toggleable__label {\n",
       "  color: var(--sklearn-color-text);\n",
       "  background-color: var(--sklearn-color-unfitted-level-2);\n",
       "}\n",
       "\n",
       "/* Label box, darken color on hover, fitted */\n",
       "#sk-container-id-1 div.sk-label.fitted:hover label.sk-toggleable__label.fitted {\n",
       "  color: var(--sklearn-color-text);\n",
       "  background-color: var(--sklearn-color-fitted-level-2);\n",
       "}\n",
       "\n",
       "/* Estimator label */\n",
       "\n",
       "#sk-container-id-1 div.sk-label label {\n",
       "  font-family: monospace;\n",
       "  font-weight: bold;\n",
       "  display: inline-block;\n",
       "  line-height: 1.2em;\n",
       "}\n",
       "\n",
       "#sk-container-id-1 div.sk-label-container {\n",
       "  text-align: center;\n",
       "}\n",
       "\n",
       "/* Estimator-specific */\n",
       "#sk-container-id-1 div.sk-estimator {\n",
       "  font-family: monospace;\n",
       "  border: 1px dotted var(--sklearn-color-border-box);\n",
       "  border-radius: 0.25em;\n",
       "  box-sizing: border-box;\n",
       "  margin-bottom: 0.5em;\n",
       "  /* unfitted */\n",
       "  background-color: var(--sklearn-color-unfitted-level-0);\n",
       "}\n",
       "\n",
       "#sk-container-id-1 div.sk-estimator.fitted {\n",
       "  /* fitted */\n",
       "  background-color: var(--sklearn-color-fitted-level-0);\n",
       "}\n",
       "\n",
       "/* on hover */\n",
       "#sk-container-id-1 div.sk-estimator:hover {\n",
       "  /* unfitted */\n",
       "  background-color: var(--sklearn-color-unfitted-level-2);\n",
       "}\n",
       "\n",
       "#sk-container-id-1 div.sk-estimator.fitted:hover {\n",
       "  /* fitted */\n",
       "  background-color: var(--sklearn-color-fitted-level-2);\n",
       "}\n",
       "\n",
       "/* Specification for estimator info (e.g. \"i\" and \"?\") */\n",
       "\n",
       "/* Common style for \"i\" and \"?\" */\n",
       "\n",
       ".sk-estimator-doc-link,\n",
       "a:link.sk-estimator-doc-link,\n",
       "a:visited.sk-estimator-doc-link {\n",
       "  float: right;\n",
       "  font-size: smaller;\n",
       "  line-height: 1em;\n",
       "  font-family: monospace;\n",
       "  background-color: var(--sklearn-color-background);\n",
       "  border-radius: 1em;\n",
       "  height: 1em;\n",
       "  width: 1em;\n",
       "  text-decoration: none !important;\n",
       "  margin-left: 0.5em;\n",
       "  text-align: center;\n",
       "  /* unfitted */\n",
       "  border: var(--sklearn-color-unfitted-level-1) 1pt solid;\n",
       "  color: var(--sklearn-color-unfitted-level-1);\n",
       "}\n",
       "\n",
       ".sk-estimator-doc-link.fitted,\n",
       "a:link.sk-estimator-doc-link.fitted,\n",
       "a:visited.sk-estimator-doc-link.fitted {\n",
       "  /* fitted */\n",
       "  border: var(--sklearn-color-fitted-level-1) 1pt solid;\n",
       "  color: var(--sklearn-color-fitted-level-1);\n",
       "}\n",
       "\n",
       "/* On hover */\n",
       "div.sk-estimator:hover .sk-estimator-doc-link:hover,\n",
       ".sk-estimator-doc-link:hover,\n",
       "div.sk-label-container:hover .sk-estimator-doc-link:hover,\n",
       ".sk-estimator-doc-link:hover {\n",
       "  /* unfitted */\n",
       "  background-color: var(--sklearn-color-unfitted-level-3);\n",
       "  color: var(--sklearn-color-background);\n",
       "  text-decoration: none;\n",
       "}\n",
       "\n",
       "div.sk-estimator.fitted:hover .sk-estimator-doc-link.fitted:hover,\n",
       ".sk-estimator-doc-link.fitted:hover,\n",
       "div.sk-label-container:hover .sk-estimator-doc-link.fitted:hover,\n",
       ".sk-estimator-doc-link.fitted:hover {\n",
       "  /* fitted */\n",
       "  background-color: var(--sklearn-color-fitted-level-3);\n",
       "  color: var(--sklearn-color-background);\n",
       "  text-decoration: none;\n",
       "}\n",
       "\n",
       "/* Span, style for the box shown on hovering the info icon */\n",
       ".sk-estimator-doc-link span {\n",
       "  display: none;\n",
       "  z-index: 9999;\n",
       "  position: relative;\n",
       "  font-weight: normal;\n",
       "  right: .2ex;\n",
       "  padding: .5ex;\n",
       "  margin: .5ex;\n",
       "  width: min-content;\n",
       "  min-width: 20ex;\n",
       "  max-width: 50ex;\n",
       "  color: var(--sklearn-color-text);\n",
       "  box-shadow: 2pt 2pt 4pt #999;\n",
       "  /* unfitted */\n",
       "  background: var(--sklearn-color-unfitted-level-0);\n",
       "  border: .5pt solid var(--sklearn-color-unfitted-level-3);\n",
       "}\n",
       "\n",
       ".sk-estimator-doc-link.fitted span {\n",
       "  /* fitted */\n",
       "  background: var(--sklearn-color-fitted-level-0);\n",
       "  border: var(--sklearn-color-fitted-level-3);\n",
       "}\n",
       "\n",
       ".sk-estimator-doc-link:hover span {\n",
       "  display: block;\n",
       "}\n",
       "\n",
       "/* \"?\"-specific style due to the `<a>` HTML tag */\n",
       "\n",
       "#sk-container-id-1 a.estimator_doc_link {\n",
       "  float: right;\n",
       "  font-size: 1rem;\n",
       "  line-height: 1em;\n",
       "  font-family: monospace;\n",
       "  background-color: var(--sklearn-color-background);\n",
       "  border-radius: 1rem;\n",
       "  height: 1rem;\n",
       "  width: 1rem;\n",
       "  text-decoration: none;\n",
       "  /* unfitted */\n",
       "  color: var(--sklearn-color-unfitted-level-1);\n",
       "  border: var(--sklearn-color-unfitted-level-1) 1pt solid;\n",
       "}\n",
       "\n",
       "#sk-container-id-1 a.estimator_doc_link.fitted {\n",
       "  /* fitted */\n",
       "  border: var(--sklearn-color-fitted-level-1) 1pt solid;\n",
       "  color: var(--sklearn-color-fitted-level-1);\n",
       "}\n",
       "\n",
       "/* On hover */\n",
       "#sk-container-id-1 a.estimator_doc_link:hover {\n",
       "  /* unfitted */\n",
       "  background-color: var(--sklearn-color-unfitted-level-3);\n",
       "  color: var(--sklearn-color-background);\n",
       "  text-decoration: none;\n",
       "}\n",
       "\n",
       "#sk-container-id-1 a.estimator_doc_link.fitted:hover {\n",
       "  /* fitted */\n",
       "  background-color: var(--sklearn-color-fitted-level-3);\n",
       "}\n",
       "\n",
       ".estimator-table summary {\n",
       "    padding: .5rem;\n",
       "    font-family: monospace;\n",
       "    cursor: pointer;\n",
       "}\n",
       "\n",
       ".estimator-table details[open] {\n",
       "    padding-left: 0.1rem;\n",
       "    padding-right: 0.1rem;\n",
       "    padding-bottom: 0.3rem;\n",
       "}\n",
       "\n",
       ".estimator-table .parameters-table {\n",
       "    margin-left: auto !important;\n",
       "    margin-right: auto !important;\n",
       "}\n",
       "\n",
       ".estimator-table .parameters-table tr:nth-child(odd) {\n",
       "    background-color: #fff;\n",
       "}\n",
       "\n",
       ".estimator-table .parameters-table tr:nth-child(even) {\n",
       "    background-color: #f6f6f6;\n",
       "}\n",
       "\n",
       ".estimator-table .parameters-table tr:hover {\n",
       "    background-color: #e0e0e0;\n",
       "}\n",
       "\n",
       ".estimator-table table td {\n",
       "    border: 1px solid rgba(106, 105, 104, 0.232);\n",
       "}\n",
       "\n",
       ".user-set td {\n",
       "    color:rgb(255, 94, 0);\n",
       "    text-align: left;\n",
       "}\n",
       "\n",
       ".user-set td.value pre {\n",
       "    color:rgb(255, 94, 0) !important;\n",
       "    background-color: transparent !important;\n",
       "}\n",
       "\n",
       ".default td {\n",
       "    color: black;\n",
       "    text-align: left;\n",
       "}\n",
       "\n",
       ".user-set td i,\n",
       ".default td i {\n",
       "    color: black;\n",
       "}\n",
       "\n",
       ".copy-paste-icon {\n",
       "    background-image: url(data:image/svg+xml;base64,PHN2ZyB4bWxucz0iaHR0cDovL3d3dy53My5vcmcvMjAwMC9zdmciIHZpZXdCb3g9IjAgMCA0NDggNTEyIj48IS0tIUZvbnQgQXdlc29tZSBGcmVlIDYuNy4yIGJ5IEBmb250YXdlc29tZSAtIGh0dHBzOi8vZm9udGF3ZXNvbWUuY29tIExpY2Vuc2UgLSBodHRwczovL2ZvbnRhd2Vzb21lLmNvbS9saWNlbnNlL2ZyZWUgQ29weXJpZ2h0IDIwMjUgRm9udGljb25zLCBJbmMuLS0+PHBhdGggZD0iTTIwOCAwTDMzMi4xIDBjMTIuNyAwIDI0LjkgNS4xIDMzLjkgMTQuMWw2Ny45IDY3LjljOSA5IDE0LjEgMjEuMiAxNC4xIDMzLjlMNDQ4IDMzNmMwIDI2LjUtMjEuNSA0OC00OCA0OGwtMTkyIDBjLTI2LjUgMC00OC0yMS41LTQ4LTQ4bDAtMjg4YzAtMjYuNSAyMS41LTQ4IDQ4LTQ4ek00OCAxMjhsODAgMCAwIDY0LTY0IDAgMCAyNTYgMTkyIDAgMC0zMiA2NCAwIDAgNDhjMCAyNi41LTIxLjUgNDgtNDggNDhMNDggNTEyYy0yNi41IDAtNDgtMjEuNS00OC00OEwwIDE3NmMwLTI2LjUgMjEuNS00OCA0OC00OHoiLz48L3N2Zz4=);\n",
       "    background-repeat: no-repeat;\n",
       "    background-size: 14px 14px;\n",
       "    background-position: 0;\n",
       "    display: inline-block;\n",
       "    width: 14px;\n",
       "    height: 14px;\n",
       "    cursor: pointer;\n",
       "}\n",
       "</style><body><div id=\"sk-container-id-1\" class=\"sk-top-container\"><div class=\"sk-text-repr-fallback\"><pre>KNeighborsClassifier(n_neighbors=3)</pre><b>In a Jupyter environment, please rerun this cell to show the HTML representation or trust the notebook. <br />On GitHub, the HTML representation is unable to render, please try loading this page with nbviewer.org.</b></div><div class=\"sk-container\" hidden><div class=\"sk-item\"><div class=\"sk-estimator fitted sk-toggleable\"><input class=\"sk-toggleable__control sk-hidden--visually\" id=\"sk-estimator-id-1\" type=\"checkbox\" checked><label for=\"sk-estimator-id-1\" class=\"sk-toggleable__label fitted sk-toggleable__label-arrow\"><div><div>KNeighborsClassifier</div></div><div><a class=\"sk-estimator-doc-link fitted\" rel=\"noreferrer\" target=\"_blank\" href=\"https://scikit-learn.org/1.7/modules/generated/sklearn.neighbors.KNeighborsClassifier.html\">?<span>Documentation for KNeighborsClassifier</span></a><span class=\"sk-estimator-doc-link fitted\">i<span>Fitted</span></span></div></label><div class=\"sk-toggleable__content fitted\" data-param-prefix=\"\">\n",
       "        <div class=\"estimator-table\">\n",
       "            <details>\n",
       "                <summary>Parameters</summary>\n",
       "                <table class=\"parameters-table\">\n",
       "                  <tbody>\n",
       "                    \n",
       "        <tr class=\"user-set\">\n",
       "            <td><i class=\"copy-paste-icon\"\n",
       "                 onclick=\"copyToClipboard('n_neighbors',\n",
       "                          this.parentElement.nextElementSibling)\"\n",
       "            ></i></td>\n",
       "            <td class=\"param\">n_neighbors&nbsp;</td>\n",
       "            <td class=\"value\">3</td>\n",
       "        </tr>\n",
       "    \n",
       "\n",
       "        <tr class=\"default\">\n",
       "            <td><i class=\"copy-paste-icon\"\n",
       "                 onclick=\"copyToClipboard('weights',\n",
       "                          this.parentElement.nextElementSibling)\"\n",
       "            ></i></td>\n",
       "            <td class=\"param\">weights&nbsp;</td>\n",
       "            <td class=\"value\">&#x27;uniform&#x27;</td>\n",
       "        </tr>\n",
       "    \n",
       "\n",
       "        <tr class=\"default\">\n",
       "            <td><i class=\"copy-paste-icon\"\n",
       "                 onclick=\"copyToClipboard('algorithm',\n",
       "                          this.parentElement.nextElementSibling)\"\n",
       "            ></i></td>\n",
       "            <td class=\"param\">algorithm&nbsp;</td>\n",
       "            <td class=\"value\">&#x27;auto&#x27;</td>\n",
       "        </tr>\n",
       "    \n",
       "\n",
       "        <tr class=\"default\">\n",
       "            <td><i class=\"copy-paste-icon\"\n",
       "                 onclick=\"copyToClipboard('leaf_size',\n",
       "                          this.parentElement.nextElementSibling)\"\n",
       "            ></i></td>\n",
       "            <td class=\"param\">leaf_size&nbsp;</td>\n",
       "            <td class=\"value\">30</td>\n",
       "        </tr>\n",
       "    \n",
       "\n",
       "        <tr class=\"default\">\n",
       "            <td><i class=\"copy-paste-icon\"\n",
       "                 onclick=\"copyToClipboard('p',\n",
       "                          this.parentElement.nextElementSibling)\"\n",
       "            ></i></td>\n",
       "            <td class=\"param\">p&nbsp;</td>\n",
       "            <td class=\"value\">2</td>\n",
       "        </tr>\n",
       "    \n",
       "\n",
       "        <tr class=\"default\">\n",
       "            <td><i class=\"copy-paste-icon\"\n",
       "                 onclick=\"copyToClipboard('metric',\n",
       "                          this.parentElement.nextElementSibling)\"\n",
       "            ></i></td>\n",
       "            <td class=\"param\">metric&nbsp;</td>\n",
       "            <td class=\"value\">&#x27;minkowski&#x27;</td>\n",
       "        </tr>\n",
       "    \n",
       "\n",
       "        <tr class=\"default\">\n",
       "            <td><i class=\"copy-paste-icon\"\n",
       "                 onclick=\"copyToClipboard('metric_params',\n",
       "                          this.parentElement.nextElementSibling)\"\n",
       "            ></i></td>\n",
       "            <td class=\"param\">metric_params&nbsp;</td>\n",
       "            <td class=\"value\">None</td>\n",
       "        </tr>\n",
       "    \n",
       "\n",
       "        <tr class=\"default\">\n",
       "            <td><i class=\"copy-paste-icon\"\n",
       "                 onclick=\"copyToClipboard('n_jobs',\n",
       "                          this.parentElement.nextElementSibling)\"\n",
       "            ></i></td>\n",
       "            <td class=\"param\">n_jobs&nbsp;</td>\n",
       "            <td class=\"value\">None</td>\n",
       "        </tr>\n",
       "    \n",
       "                  </tbody>\n",
       "                </table>\n",
       "            </details>\n",
       "        </div>\n",
       "    </div></div></div></div></div><script>function copyToClipboard(text, element) {\n",
       "    // Get the parameter prefix from the closest toggleable content\n",
       "    const toggleableContent = element.closest('.sk-toggleable__content');\n",
       "    const paramPrefix = toggleableContent ? toggleableContent.dataset.paramPrefix : '';\n",
       "    const fullParamName = paramPrefix ? `${paramPrefix}${text}` : text;\n",
       "\n",
       "    const originalStyle = element.style;\n",
       "    const computedStyle = window.getComputedStyle(element);\n",
       "    const originalWidth = computedStyle.width;\n",
       "    const originalHTML = element.innerHTML.replace('Copied!', '');\n",
       "\n",
       "    navigator.clipboard.writeText(fullParamName)\n",
       "        .then(() => {\n",
       "            element.style.width = originalWidth;\n",
       "            element.style.color = 'green';\n",
       "            element.innerHTML = \"Copied!\";\n",
       "\n",
       "            setTimeout(() => {\n",
       "                element.innerHTML = originalHTML;\n",
       "                element.style = originalStyle;\n",
       "            }, 2000);\n",
       "        })\n",
       "        .catch(err => {\n",
       "            console.error('Failed to copy:', err);\n",
       "            element.style.color = 'red';\n",
       "            element.innerHTML = \"Failed!\";\n",
       "            setTimeout(() => {\n",
       "                element.innerHTML = originalHTML;\n",
       "                element.style = originalStyle;\n",
       "            }, 2000);\n",
       "        });\n",
       "    return false;\n",
       "}\n",
       "\n",
       "document.querySelectorAll('.fa-regular.fa-copy').forEach(function(element) {\n",
       "    const toggleableContent = element.closest('.sk-toggleable__content');\n",
       "    const paramPrefix = toggleableContent ? toggleableContent.dataset.paramPrefix : '';\n",
       "    const paramName = element.parentElement.nextElementSibling.textContent.trim();\n",
       "    const fullParamName = paramPrefix ? `${paramPrefix}${paramName}` : paramName;\n",
       "\n",
       "    element.setAttribute('title', fullParamName);\n",
       "});\n",
       "</script></body>"
      ],
      "text/plain": [
       "KNeighborsClassifier(n_neighbors=3)"
      ]
     },
     "execution_count": 17,
     "metadata": {},
     "output_type": "execute_result"
    }
   ],
   "source": [
    "# Treinar (fit) o modelo\n",
    "modelo_classificador.fit(x_train,y_train)"
   ]
  },
  {
   "cell_type": "code",
   "execution_count": 18,
   "id": "1c8e6c7c",
   "metadata": {},
   "outputs": [
    {
     "data": {
      "text/plain": [
       "array(['Esperança'], dtype=object)"
      ]
     },
     "execution_count": 18,
     "metadata": {},
     "output_type": "execute_result"
    }
   ],
   "source": [
    "# Realizar as previsões\n",
    "# modelo_classificador.predict([[8,6]]) --> Essa forma gera um warnings\n",
    "\n",
    "# Dessa forma não gera o warnings\n",
    "modelo_classificador.predict(pd.DataFrame([[8,6]], columns=[\"Comprimento do Abdômen\", \"Comprimento das Antenas\"]))"
   ]
  },
  {
   "cell_type": "code",
   "execution_count": 19,
   "id": "d531bac8",
   "metadata": {},
   "outputs": [],
   "source": [
    "# Verificar a acuracidade\n",
    "y_predito = modelo_classificador.predict(x_test)"
   ]
  },
  {
   "cell_type": "code",
   "execution_count": 20,
   "id": "8c462b2f",
   "metadata": {},
   "outputs": [
    {
     "data": {
      "text/plain": [
       "1.0"
      ]
     },
     "execution_count": 20,
     "metadata": {},
     "output_type": "execute_result"
    }
   ],
   "source": [
    "# Verificar a acuracidade\n",
    "accuracy_score(y_true=y_test, y_pred=y_predito)"
   ]
  },
  {
   "cell_type": "markdown",
   "id": "8270aadc",
   "metadata": {},
   "source": [
    "#### Aula 2 - KNN, SVM"
   ]
  },
  {
   "cell_type": "code",
   "execution_count": 21,
   "id": "770006cd",
   "metadata": {},
   "outputs": [],
   "source": [
    "# Usando a engine calamine devido a sua melhor performace se comparada com o openpyxl\n",
    "link = \"https://github.com/FIAP/Pos_Tech_DTAT/raw/073d3c7ab0cd105f8ad2fb347c0f02cb36773ee4/Aula%2002/Base%20de%20Dados/Recrutamento.xlsx\"\n",
    "dados = pd.read_excel(link, engine= \"calamine\")"
   ]
  },
  {
   "cell_type": "code",
   "execution_count": 22,
   "id": "812af1ab",
   "metadata": {},
   "outputs": [
    {
     "data": {
      "application/vnd.microsoft.datawrangler.viewer.v0+json": {
       "columns": [
        {
         "name": "index",
         "rawType": "int64",
         "type": "integer"
        },
        {
         "name": "sl_no",
         "rawType": "int64",
         "type": "integer"
        },
        {
         "name": "gender",
         "rawType": "object",
         "type": "string"
        },
        {
         "name": "ssc_p",
         "rawType": "float64",
         "type": "float"
        },
        {
         "name": "ssc_b",
         "rawType": "object",
         "type": "string"
        },
        {
         "name": "hsc_p",
         "rawType": "float64",
         "type": "float"
        },
        {
         "name": "hsc_b",
         "rawType": "object",
         "type": "string"
        },
        {
         "name": "hsc_s",
         "rawType": "object",
         "type": "string"
        },
        {
         "name": "degree_p",
         "rawType": "float64",
         "type": "float"
        },
        {
         "name": "degree_t",
         "rawType": "object",
         "type": "string"
        },
        {
         "name": "workex",
         "rawType": "object",
         "type": "string"
        },
        {
         "name": "etest_p",
         "rawType": "float64",
         "type": "float"
        },
        {
         "name": "specialisation",
         "rawType": "object",
         "type": "string"
        },
        {
         "name": "mba_p",
         "rawType": "float64",
         "type": "float"
        },
        {
         "name": "status",
         "rawType": "object",
         "type": "string"
        },
        {
         "name": "salary",
         "rawType": "float64",
         "type": "float"
        }
       ],
       "ref": "be4fa107-9dfb-4694-a12c-d44501ac29e8",
       "rows": [
        [
         "0",
         "1",
         "M",
         "67.0",
         "Others",
         "91.0",
         "Others",
         "Commerce",
         "58.0",
         "Sci&Tech",
         "No",
         "55.0",
         "Mkt&HR",
         "58.8",
         "Yes",
         "270000.0"
        ],
        [
         "1",
         "2",
         "M",
         "79.33",
         "Central",
         "78.33",
         "Others",
         "Science",
         "77.48",
         "Sci&Tech",
         "Yes",
         "86.5",
         "Mkt&Fin",
         "66.28",
         "Yes",
         "200000.0"
        ],
        [
         "2",
         "3",
         "M",
         "65.0",
         "Central",
         "68.0",
         "Central",
         "Arts",
         "64.0",
         "Comm&Mgmt",
         "No",
         "75.0",
         "Mkt&Fin",
         "57.8",
         "Yes",
         "250000.0"
        ],
        [
         "3",
         "4",
         "M",
         "56.0",
         "Central",
         "52.0",
         "Central",
         "Science",
         "52.0",
         "Sci&Tech",
         "No",
         "66.0",
         "Mkt&HR",
         "59.43",
         "No",
         null
        ],
        [
         "4",
         "5",
         "M",
         "85.8",
         "Central",
         "73.6",
         "Central",
         "Commerce",
         "73.3",
         "Comm&Mgmt",
         "No",
         "96.8",
         "Mkt&Fin",
         "55.5",
         "Yes",
         "425000.0"
        ]
       ],
       "shape": {
        "columns": 15,
        "rows": 5
       }
      },
      "text/html": [
       "<div>\n",
       "<style scoped>\n",
       "    .dataframe tbody tr th:only-of-type {\n",
       "        vertical-align: middle;\n",
       "    }\n",
       "\n",
       "    .dataframe tbody tr th {\n",
       "        vertical-align: top;\n",
       "    }\n",
       "\n",
       "    .dataframe thead th {\n",
       "        text-align: right;\n",
       "    }\n",
       "</style>\n",
       "<table border=\"1\" class=\"dataframe\">\n",
       "  <thead>\n",
       "    <tr style=\"text-align: right;\">\n",
       "      <th></th>\n",
       "      <th>sl_no</th>\n",
       "      <th>gender</th>\n",
       "      <th>ssc_p</th>\n",
       "      <th>ssc_b</th>\n",
       "      <th>hsc_p</th>\n",
       "      <th>hsc_b</th>\n",
       "      <th>hsc_s</th>\n",
       "      <th>degree_p</th>\n",
       "      <th>degree_t</th>\n",
       "      <th>workex</th>\n",
       "      <th>etest_p</th>\n",
       "      <th>specialisation</th>\n",
       "      <th>mba_p</th>\n",
       "      <th>status</th>\n",
       "      <th>salary</th>\n",
       "    </tr>\n",
       "  </thead>\n",
       "  <tbody>\n",
       "    <tr>\n",
       "      <th>0</th>\n",
       "      <td>1</td>\n",
       "      <td>M</td>\n",
       "      <td>67.00</td>\n",
       "      <td>Others</td>\n",
       "      <td>91.00</td>\n",
       "      <td>Others</td>\n",
       "      <td>Commerce</td>\n",
       "      <td>58.00</td>\n",
       "      <td>Sci&amp;Tech</td>\n",
       "      <td>No</td>\n",
       "      <td>55.0</td>\n",
       "      <td>Mkt&amp;HR</td>\n",
       "      <td>58.80</td>\n",
       "      <td>Yes</td>\n",
       "      <td>270000.0</td>\n",
       "    </tr>\n",
       "    <tr>\n",
       "      <th>1</th>\n",
       "      <td>2</td>\n",
       "      <td>M</td>\n",
       "      <td>79.33</td>\n",
       "      <td>Central</td>\n",
       "      <td>78.33</td>\n",
       "      <td>Others</td>\n",
       "      <td>Science</td>\n",
       "      <td>77.48</td>\n",
       "      <td>Sci&amp;Tech</td>\n",
       "      <td>Yes</td>\n",
       "      <td>86.5</td>\n",
       "      <td>Mkt&amp;Fin</td>\n",
       "      <td>66.28</td>\n",
       "      <td>Yes</td>\n",
       "      <td>200000.0</td>\n",
       "    </tr>\n",
       "    <tr>\n",
       "      <th>2</th>\n",
       "      <td>3</td>\n",
       "      <td>M</td>\n",
       "      <td>65.00</td>\n",
       "      <td>Central</td>\n",
       "      <td>68.00</td>\n",
       "      <td>Central</td>\n",
       "      <td>Arts</td>\n",
       "      <td>64.00</td>\n",
       "      <td>Comm&amp;Mgmt</td>\n",
       "      <td>No</td>\n",
       "      <td>75.0</td>\n",
       "      <td>Mkt&amp;Fin</td>\n",
       "      <td>57.80</td>\n",
       "      <td>Yes</td>\n",
       "      <td>250000.0</td>\n",
       "    </tr>\n",
       "    <tr>\n",
       "      <th>3</th>\n",
       "      <td>4</td>\n",
       "      <td>M</td>\n",
       "      <td>56.00</td>\n",
       "      <td>Central</td>\n",
       "      <td>52.00</td>\n",
       "      <td>Central</td>\n",
       "      <td>Science</td>\n",
       "      <td>52.00</td>\n",
       "      <td>Sci&amp;Tech</td>\n",
       "      <td>No</td>\n",
       "      <td>66.0</td>\n",
       "      <td>Mkt&amp;HR</td>\n",
       "      <td>59.43</td>\n",
       "      <td>No</td>\n",
       "      <td>NaN</td>\n",
       "    </tr>\n",
       "    <tr>\n",
       "      <th>4</th>\n",
       "      <td>5</td>\n",
       "      <td>M</td>\n",
       "      <td>85.80</td>\n",
       "      <td>Central</td>\n",
       "      <td>73.60</td>\n",
       "      <td>Central</td>\n",
       "      <td>Commerce</td>\n",
       "      <td>73.30</td>\n",
       "      <td>Comm&amp;Mgmt</td>\n",
       "      <td>No</td>\n",
       "      <td>96.8</td>\n",
       "      <td>Mkt&amp;Fin</td>\n",
       "      <td>55.50</td>\n",
       "      <td>Yes</td>\n",
       "      <td>425000.0</td>\n",
       "    </tr>\n",
       "  </tbody>\n",
       "</table>\n",
       "</div>"
      ],
      "text/plain": [
       "   sl_no gender  ssc_p    ssc_b  hsc_p    hsc_b     hsc_s  degree_p  \\\n",
       "0      1      M  67.00   Others  91.00   Others  Commerce     58.00   \n",
       "1      2      M  79.33  Central  78.33   Others   Science     77.48   \n",
       "2      3      M  65.00  Central  68.00  Central      Arts     64.00   \n",
       "3      4      M  56.00  Central  52.00  Central   Science     52.00   \n",
       "4      5      M  85.80  Central  73.60  Central  Commerce     73.30   \n",
       "\n",
       "    degree_t workex  etest_p specialisation  mba_p status    salary  \n",
       "0   Sci&Tech     No     55.0         Mkt&HR  58.80    Yes  270000.0  \n",
       "1   Sci&Tech    Yes     86.5        Mkt&Fin  66.28    Yes  200000.0  \n",
       "2  Comm&Mgmt     No     75.0        Mkt&Fin  57.80    Yes  250000.0  \n",
       "3   Sci&Tech     No     66.0         Mkt&HR  59.43     No       NaN  \n",
       "4  Comm&Mgmt     No     96.8        Mkt&Fin  55.50    Yes  425000.0  "
      ]
     },
     "execution_count": 22,
     "metadata": {},
     "output_type": "execute_result"
    }
   ],
   "source": [
    "# Consultar os dados\n",
    "dados.head()"
   ]
  },
  {
   "cell_type": "code",
   "execution_count": 23,
   "id": "1390b412",
   "metadata": {},
   "outputs": [
    {
     "data": {
      "text/plain": [
       "{'No', 'Yes'}"
      ]
     },
     "execution_count": 23,
     "metadata": {},
     "output_type": "execute_result"
    }
   ],
   "source": [
    "# Campo/Coluna Status é o nosso target \n",
    "# Ver o conteudo de uma coluna \n",
    "set(dados.status)"
   ]
  },
  {
   "cell_type": "code",
   "execution_count": 24,
   "id": "23f8c220",
   "metadata": {},
   "outputs": [
    {
     "data": {
      "application/vnd.microsoft.datawrangler.viewer.v0+json": {
       "columns": [
        {
         "name": "index",
         "rawType": "object",
         "type": "string"
        },
        {
         "name": "sl_no",
         "rawType": "float64",
         "type": "float"
        },
        {
         "name": "ssc_p",
         "rawType": "float64",
         "type": "float"
        },
        {
         "name": "hsc_p",
         "rawType": "float64",
         "type": "float"
        },
        {
         "name": "degree_p",
         "rawType": "float64",
         "type": "float"
        },
        {
         "name": "etest_p",
         "rawType": "float64",
         "type": "float"
        },
        {
         "name": "mba_p",
         "rawType": "float64",
         "type": "float"
        },
        {
         "name": "salary",
         "rawType": "float64",
         "type": "float"
        }
       ],
       "ref": "49a6b621-bfd9-4dc1-a3cb-bdf1e180f8af",
       "rows": [
        [
         "count",
         "215.0",
         "215.0",
         "215.0",
         "215.0",
         "215.0",
         "215.0",
         "148.0"
        ],
        [
         "mean",
         "108.0",
         "67.30339534883721",
         "66.33316279069768",
         "66.37018604651163",
         "72.10055813953488",
         "62.278186046511635",
         "288655.4054054054"
        ],
        [
         "std",
         "62.20932405998316",
         "10.827205398231452",
         "10.89750915750298",
         "7.358743287339439",
         "13.275956401653835",
         "5.8333845806838",
         "93457.45241958875"
        ],
        [
         "min",
         "1.0",
         "40.89",
         "37.0",
         "50.0",
         "50.0",
         "51.21",
         "200000.0"
        ],
        [
         "25%",
         "54.5",
         "60.599999999999994",
         "60.9",
         "61.0",
         "60.0",
         "57.945",
         "240000.0"
        ],
        [
         "50%",
         "108.0",
         "67.0",
         "65.0",
         "66.0",
         "71.0",
         "62.0",
         "265000.0"
        ],
        [
         "75%",
         "161.5",
         "75.7",
         "73.0",
         "72.0",
         "83.5",
         "66.255",
         "300000.0"
        ],
        [
         "max",
         "215.0",
         "89.4",
         "97.7",
         "91.0",
         "98.0",
         "77.89",
         "940000.0"
        ]
       ],
       "shape": {
        "columns": 7,
        "rows": 8
       }
      },
      "text/html": [
       "<div>\n",
       "<style scoped>\n",
       "    .dataframe tbody tr th:only-of-type {\n",
       "        vertical-align: middle;\n",
       "    }\n",
       "\n",
       "    .dataframe tbody tr th {\n",
       "        vertical-align: top;\n",
       "    }\n",
       "\n",
       "    .dataframe thead th {\n",
       "        text-align: right;\n",
       "    }\n",
       "</style>\n",
       "<table border=\"1\" class=\"dataframe\">\n",
       "  <thead>\n",
       "    <tr style=\"text-align: right;\">\n",
       "      <th></th>\n",
       "      <th>sl_no</th>\n",
       "      <th>ssc_p</th>\n",
       "      <th>hsc_p</th>\n",
       "      <th>degree_p</th>\n",
       "      <th>etest_p</th>\n",
       "      <th>mba_p</th>\n",
       "      <th>salary</th>\n",
       "    </tr>\n",
       "  </thead>\n",
       "  <tbody>\n",
       "    <tr>\n",
       "      <th>count</th>\n",
       "      <td>215.000000</td>\n",
       "      <td>215.000000</td>\n",
       "      <td>215.000000</td>\n",
       "      <td>215.000000</td>\n",
       "      <td>215.000000</td>\n",
       "      <td>215.000000</td>\n",
       "      <td>148.000000</td>\n",
       "    </tr>\n",
       "    <tr>\n",
       "      <th>mean</th>\n",
       "      <td>108.000000</td>\n",
       "      <td>67.303395</td>\n",
       "      <td>66.333163</td>\n",
       "      <td>66.370186</td>\n",
       "      <td>72.100558</td>\n",
       "      <td>62.278186</td>\n",
       "      <td>288655.405405</td>\n",
       "    </tr>\n",
       "    <tr>\n",
       "      <th>std</th>\n",
       "      <td>62.209324</td>\n",
       "      <td>10.827205</td>\n",
       "      <td>10.897509</td>\n",
       "      <td>7.358743</td>\n",
       "      <td>13.275956</td>\n",
       "      <td>5.833385</td>\n",
       "      <td>93457.452420</td>\n",
       "    </tr>\n",
       "    <tr>\n",
       "      <th>min</th>\n",
       "      <td>1.000000</td>\n",
       "      <td>40.890000</td>\n",
       "      <td>37.000000</td>\n",
       "      <td>50.000000</td>\n",
       "      <td>50.000000</td>\n",
       "      <td>51.210000</td>\n",
       "      <td>200000.000000</td>\n",
       "    </tr>\n",
       "    <tr>\n",
       "      <th>25%</th>\n",
       "      <td>54.500000</td>\n",
       "      <td>60.600000</td>\n",
       "      <td>60.900000</td>\n",
       "      <td>61.000000</td>\n",
       "      <td>60.000000</td>\n",
       "      <td>57.945000</td>\n",
       "      <td>240000.000000</td>\n",
       "    </tr>\n",
       "    <tr>\n",
       "      <th>50%</th>\n",
       "      <td>108.000000</td>\n",
       "      <td>67.000000</td>\n",
       "      <td>65.000000</td>\n",
       "      <td>66.000000</td>\n",
       "      <td>71.000000</td>\n",
       "      <td>62.000000</td>\n",
       "      <td>265000.000000</td>\n",
       "    </tr>\n",
       "    <tr>\n",
       "      <th>75%</th>\n",
       "      <td>161.500000</td>\n",
       "      <td>75.700000</td>\n",
       "      <td>73.000000</td>\n",
       "      <td>72.000000</td>\n",
       "      <td>83.500000</td>\n",
       "      <td>66.255000</td>\n",
       "      <td>300000.000000</td>\n",
       "    </tr>\n",
       "    <tr>\n",
       "      <th>max</th>\n",
       "      <td>215.000000</td>\n",
       "      <td>89.400000</td>\n",
       "      <td>97.700000</td>\n",
       "      <td>91.000000</td>\n",
       "      <td>98.000000</td>\n",
       "      <td>77.890000</td>\n",
       "      <td>940000.000000</td>\n",
       "    </tr>\n",
       "  </tbody>\n",
       "</table>\n",
       "</div>"
      ],
      "text/plain": [
       "            sl_no       ssc_p       hsc_p    degree_p     etest_p       mba_p  \\\n",
       "count  215.000000  215.000000  215.000000  215.000000  215.000000  215.000000   \n",
       "mean   108.000000   67.303395   66.333163   66.370186   72.100558   62.278186   \n",
       "std     62.209324   10.827205   10.897509    7.358743   13.275956    5.833385   \n",
       "min      1.000000   40.890000   37.000000   50.000000   50.000000   51.210000   \n",
       "25%     54.500000   60.600000   60.900000   61.000000   60.000000   57.945000   \n",
       "50%    108.000000   67.000000   65.000000   66.000000   71.000000   62.000000   \n",
       "75%    161.500000   75.700000   73.000000   72.000000   83.500000   66.255000   \n",
       "max    215.000000   89.400000   97.700000   91.000000   98.000000   77.890000   \n",
       "\n",
       "              salary  \n",
       "count     148.000000  \n",
       "mean   288655.405405  \n",
       "std     93457.452420  \n",
       "min    200000.000000  \n",
       "25%    240000.000000  \n",
       "50%    265000.000000  \n",
       "75%    300000.000000  \n",
       "max    940000.000000  "
      ]
     },
     "execution_count": 24,
     "metadata": {},
     "output_type": "execute_result"
    }
   ],
   "source": [
    "# Ver o estatistica basica/descritiva \n",
    "dados.describe()"
   ]
  },
  {
   "cell_type": "code",
   "execution_count": 25,
   "id": "4a621c81",
   "metadata": {},
   "outputs": [
    {
     "name": "stdout",
     "output_type": "stream",
     "text": [
      "<class 'pandas.core.frame.DataFrame'>\n",
      "RangeIndex: 215 entries, 0 to 214\n",
      "Data columns (total 15 columns):\n",
      " #   Column          Non-Null Count  Dtype  \n",
      "---  ------          --------------  -----  \n",
      " 0   sl_no           215 non-null    int64  \n",
      " 1   gender          215 non-null    object \n",
      " 2   ssc_p           215 non-null    float64\n",
      " 3   ssc_b           215 non-null    object \n",
      " 4   hsc_p           215 non-null    float64\n",
      " 5   hsc_b           215 non-null    object \n",
      " 6   hsc_s           215 non-null    object \n",
      " 7   degree_p        215 non-null    float64\n",
      " 8   degree_t        215 non-null    object \n",
      " 9   workex          215 non-null    object \n",
      " 10  etest_p         215 non-null    float64\n",
      " 11  specialisation  215 non-null    object \n",
      " 12  mba_p           215 non-null    float64\n",
      " 13  status          215 non-null    object \n",
      " 14  salary          148 non-null    float64\n",
      "dtypes: float64(6), int64(1), object(8)\n",
      "memory usage: 25.3+ KB\n"
     ]
    }
   ],
   "source": [
    "# Ver os tipos dos dados\n",
    "dados.info()"
   ]
  },
  {
   "cell_type": "code",
   "execution_count": 26,
   "id": "1ed8a380",
   "metadata": {},
   "outputs": [
    {
     "data": {
      "application/vnd.microsoft.datawrangler.viewer.v0+json": {
       "columns": [
        {
         "name": "index",
         "rawType": "object",
         "type": "string"
        },
        {
         "name": "0",
         "rawType": "object",
         "type": "unknown"
        }
       ],
       "ref": "c03abf47-30c8-4764-8c53-c06fa6a4c96e",
       "rows": [
        [
         "sl_no",
         "int64"
        ],
        [
         "gender",
         "object"
        ],
        [
         "ssc_p",
         "float64"
        ],
        [
         "ssc_b",
         "object"
        ],
        [
         "hsc_p",
         "float64"
        ],
        [
         "hsc_b",
         "object"
        ],
        [
         "hsc_s",
         "object"
        ],
        [
         "degree_p",
         "float64"
        ],
        [
         "degree_t",
         "object"
        ],
        [
         "workex",
         "object"
        ],
        [
         "etest_p",
         "float64"
        ],
        [
         "specialisation",
         "object"
        ],
        [
         "mba_p",
         "float64"
        ],
        [
         "status",
         "object"
        ],
        [
         "salary",
         "float64"
        ]
       ],
       "shape": {
        "columns": 1,
        "rows": 15
       }
      },
      "text/plain": [
       "sl_no               int64\n",
       "gender             object\n",
       "ssc_p             float64\n",
       "ssc_b              object\n",
       "hsc_p             float64\n",
       "hsc_b              object\n",
       "hsc_s              object\n",
       "degree_p          float64\n",
       "degree_t           object\n",
       "workex             object\n",
       "etest_p           float64\n",
       "specialisation     object\n",
       "mba_p             float64\n",
       "status             object\n",
       "salary            float64\n",
       "dtype: object"
      ]
     },
     "execution_count": 26,
     "metadata": {},
     "output_type": "execute_result"
    }
   ],
   "source": [
    "# Outra maneira de ver os dados\n",
    "dados.dtypes"
   ]
  },
  {
   "cell_type": "code",
   "execution_count": 27,
   "id": "ea590d91",
   "metadata": {},
   "outputs": [
    {
     "data": {
      "text/plain": [
       "<Axes: >"
      ]
     },
     "execution_count": 27,
     "metadata": {},
     "output_type": "execute_result"
    },
    {
     "data": {
      "image/png": "[encoded data removed]",
      "text/plain": [
       "<Figure size 2500x1000 with 2 Axes>"
      ]
     },
     "metadata": {},
     "output_type": "display_data"
    }
   ],
   "source": [
    "# Ver de forma visual dados faltantes\n",
    "\n",
    "msno.matrix(dados)"
   ]
  },
  {
   "cell_type": "code",
   "execution_count": 28,
   "id": "4e8d22ba",
   "metadata": {},
   "outputs": [
    {
     "data": {
      "application/vnd.microsoft.datawrangler.viewer.v0+json": {
       "columns": [
        {
         "name": "index",
         "rawType": "object",
         "type": "string"
        },
        {
         "name": "0",
         "rawType": "int64",
         "type": "integer"
        }
       ],
       "ref": "a8405ab6-8577-4d8e-ae3f-63892cffdc1c",
       "rows": [
        [
         "sl_no",
         "0"
        ],
        [
         "gender",
         "0"
        ],
        [
         "ssc_p",
         "0"
        ],
        [
         "ssc_b",
         "0"
        ],
        [
         "hsc_p",
         "0"
        ],
        [
         "hsc_b",
         "0"
        ],
        [
         "hsc_s",
         "0"
        ],
        [
         "degree_p",
         "0"
        ],
        [
         "degree_t",
         "0"
        ],
        [
         "workex",
         "0"
        ],
        [
         "etest_p",
         "0"
        ],
        [
         "specialisation",
         "0"
        ],
        [
         "mba_p",
         "0"
        ],
        [
         "status",
         "0"
        ],
        [
         "salary",
         "67"
        ]
       ],
       "shape": {
        "columns": 1,
        "rows": 15
       }
      },
      "text/plain": [
       "sl_no              0\n",
       "gender             0\n",
       "ssc_p              0\n",
       "ssc_b              0\n",
       "hsc_p              0\n",
       "hsc_b              0\n",
       "hsc_s              0\n",
       "degree_p           0\n",
       "degree_t           0\n",
       "workex             0\n",
       "etest_p            0\n",
       "specialisation     0\n",
       "mba_p              0\n",
       "status             0\n",
       "salary            67\n",
       "dtype: int64"
      ]
     },
     "execution_count": 28,
     "metadata": {},
     "output_type": "execute_result"
    }
   ],
   "source": [
    "dados.isnull().sum()"
   ]
  },
  {
   "cell_type": "code",
   "execution_count": 29,
   "id": "e2b75cbd",
   "metadata": {},
   "outputs": [
    {
     "data": {
      "image/png": "[encoded data removed]",
      "text/plain": [
       "<Figure size 1000x500 with 1 Axes>"
      ]
     },
     "metadata": {},
     "output_type": "display_data"
    }
   ],
   "source": [
    "# Plotar um grafico do tipo box plot \n",
    "\n",
    "plt.figure(figsize=(10,5))\n",
    "sns.boxplot(x=\"status\", y=\"salary\", data = dados, palette=\"hls\", hue = \"status\")\n",
    "plt.show()"
   ]
  },
  {
   "cell_type": "code",
   "execution_count": 30,
   "id": "8e60f31e",
   "metadata": {},
   "outputs": [],
   "source": [
    "# Tratar dados nulos \n",
    "\n",
    "dados[\"salary\"] = dados[\"salary\"].fillna(value=0) # --> Preencher com 0 onde esta vazio "
   ]
  },
  {
   "cell_type": "code",
   "execution_count": 31,
   "id": "c9ebfb30",
   "metadata": {},
   "outputs": [
    {
     "data": {
      "application/vnd.microsoft.datawrangler.viewer.v0+json": {
       "columns": [
        {
         "name": "index",
         "rawType": "object",
         "type": "string"
        },
        {
         "name": "0",
         "rawType": "int64",
         "type": "integer"
        }
       ],
       "ref": "86e96355-18b8-44c5-a7a0-f945c0e14e89",
       "rows": [
        [
         "sl_no",
         "0"
        ],
        [
         "gender",
         "0"
        ],
        [
         "ssc_p",
         "0"
        ],
        [
         "ssc_b",
         "0"
        ],
        [
         "hsc_p",
         "0"
        ],
        [
         "hsc_b",
         "0"
        ],
        [
         "hsc_s",
         "0"
        ],
        [
         "degree_p",
         "0"
        ],
        [
         "degree_t",
         "0"
        ],
        [
         "workex",
         "0"
        ],
        [
         "etest_p",
         "0"
        ],
        [
         "specialisation",
         "0"
        ],
        [
         "mba_p",
         "0"
        ],
        [
         "status",
         "0"
        ],
        [
         "salary",
         "0"
        ]
       ],
       "shape": {
        "columns": 1,
        "rows": 15
       }
      },
      "text/plain": [
       "sl_no             0\n",
       "gender            0\n",
       "ssc_p             0\n",
       "ssc_b             0\n",
       "hsc_p             0\n",
       "hsc_b             0\n",
       "hsc_s             0\n",
       "degree_p          0\n",
       "degree_t          0\n",
       "workex            0\n",
       "etest_p           0\n",
       "specialisation    0\n",
       "mba_p             0\n",
       "status            0\n",
       "salary            0\n",
       "dtype: int64"
      ]
     },
     "execution_count": 31,
     "metadata": {},
     "output_type": "execute_result"
    }
   ],
   "source": [
    "dados.isnull().sum()"
   ]
  },
  {
   "cell_type": "code",
   "execution_count": 32,
   "id": "89c7f9cd",
   "metadata": {},
   "outputs": [
    {
     "data": {
      "image/png": "[encoded data removed]",
      "text/plain": [
       "<Figure size 640x480 with 1 Axes>"
      ]
     },
     "metadata": {},
     "output_type": "display_data"
    }
   ],
   "source": [
    "sns.boxplot(x=dados[\"hsc_p\"]) # --> Boxplot no horizontal \n",
    "plt.show()"
   ]
  },
  {
   "cell_type": "code",
   "execution_count": 33,
   "id": "779e92ab",
   "metadata": {},
   "outputs": [
    {
     "data": {
      "image/png": "[encoded data removed]",
      "text/plain": [
       "<Figure size 640x480 with 1 Axes>"
      ]
     },
     "metadata": {},
     "output_type": "display_data"
    }
   ],
   "source": [
    "sns.boxplot(y=dados[\"hsc_p\"]) # --> Boxplot no vertical\n",
    "plt.show()"
   ]
  },
  {
   "cell_type": "code",
   "execution_count": 34,
   "id": "a145a6e7",
   "metadata": {},
   "outputs": [
    {
     "data": {
      "image/png": "[encoded data removed]",
      "text/plain": [
       "<Figure size 640x480 with 1 Axes>"
      ]
     },
     "metadata": {},
     "output_type": "display_data"
    }
   ],
   "source": [
    "# Plotar o histograma\n",
    "\n",
    "sns.histplot(data = dados, x=\"hsc_p\")\n",
    "plt.show()"
   ]
  },
  {
   "cell_type": "code",
   "execution_count": 35,
   "id": "95009ef1",
   "metadata": {},
   "outputs": [
    {
     "data": {
      "image/png": "[encoded data removed]",
      "text/plain": [
       "<Figure size 640x480 with 1 Axes>"
      ]
     },
     "metadata": {},
     "output_type": "display_data"
    }
   ],
   "source": [
    "sns.boxplot(x=dados[\"degree_p\"])\n",
    "plt.show()"
   ]
  },
  {
   "cell_type": "code",
   "execution_count": 36,
   "id": "8e7af257",
   "metadata": {},
   "outputs": [
    {
     "data": {
      "image/png": "[encoded data removed]",
      "text/plain": [
       "<Figure size 640x480 with 1 Axes>"
      ]
     },
     "metadata": {},
     "output_type": "display_data"
    }
   ],
   "source": [
    "sns.histplot(data = dados, x=\"degree_p\")\n",
    "plt.show()"
   ]
  },
  {
   "cell_type": "code",
   "execution_count": 37,
   "id": "abcc80f1",
   "metadata": {},
   "outputs": [
    {
     "data": {
      "image/png": "[encoded data removed]",
      "text/plain": [
       "<Figure size 640x480 with 1 Axes>"
      ]
     },
     "metadata": {},
     "output_type": "display_data"
    }
   ],
   "source": [
    "sns.boxplot(x=dados[\"etest_p\"])\n",
    "plt.show()"
   ]
  },
  {
   "cell_type": "code",
   "execution_count": 38,
   "id": "2ac0cab5",
   "metadata": {},
   "outputs": [
    {
     "data": {
      "image/png": "[encoded data removed]",
      "text/plain": [
       "<Figure size 640x480 with 1 Axes>"
      ]
     },
     "metadata": {},
     "output_type": "display_data"
    }
   ],
   "source": [
    "sns.boxplot(x=dados[\"mba_p\"])\n",
    "plt.show()"
   ]
  },
  {
   "cell_type": "code",
   "execution_count": 39,
   "id": "555e8db1",
   "metadata": {},
   "outputs": [
    {
     "data": {
      "image/png": "[encoded data removed]",
      "text/plain": [
       "<Figure size 640x480 with 1 Axes>"
      ]
     },
     "metadata": {},
     "output_type": "display_data"
    }
   ],
   "source": [
    "sns.boxplot(x=dados[\"salary\"])\n",
    "plt.show()"
   ]
  },
  {
   "cell_type": "code",
   "execution_count": 41,
   "id": "51f81f49",
   "metadata": {},
   "outputs": [
    {
     "data": {
      "image/png": "[encoded data removed]",
      "text/plain": [
       "<Figure size 640x480 with 1 Axes>"
      ]
     },
     "metadata": {},
     "output_type": "display_data"
    }
   ],
   "source": [
    "sns.histplot(data = dados, x=\"salary\")\n",
    "plt.show()"
   ]
  },
  {
   "cell_type": "code",
   "execution_count": 55,
   "id": "d79a5c7e",
   "metadata": {},
   "outputs": [
    {
     "data": {
      "image/png": "[encoded data removed]",
      "text/plain": [
       "<Figure size 1000x500 with 1 Axes>"
      ]
     },
     "metadata": {},
     "output_type": "display_data"
    }
   ],
   "source": [
    "# Plotar grafico Swarmplot\n",
    "sns.set_theme(style=\"whitegrid\", palette=\"muted\") # --> configurar tema\n",
    "\n",
    "plt.figure(figsize=(10,5))\n",
    "ax = sns.swarmplot(data=dados, x=\"mba_p\", y=\"status\", hue=\"workex\") #--> hue é a separação dos dados\n",
    "#ax.set(ylabel=\"mba_p\")\n",
    "\n",
    "plt.legend(title=\"workex\", bbox_to_anchor=(1, 1.02), loc='upper left') # legenda fora\n",
    "plt.tight_layout() \n",
    "\n",
    "plt.show()"
   ]
  },
  {
   "cell_type": "code",
   "execution_count": null,
   "id": "26d1deb4",
   "metadata": {},
   "outputs": [
    {
     "data": {
      "application/vnd.plotly.v1+json": {
       "config": {
        "plotlyServerURL": "https://plot.ly"
       },
       "data": [
        {
         "alignmentgroup": "True",
         "box": {
          "visible": true
         },
         "hovertemplate": "gender=M<br>specialisation=%{x}<br>salary=%{y}<extra></extra>",
         "legendgroup": "M",
         "marker": {
          "color": "#636efa"
         },
         "name": "M",
         "offsetgroup": "M",
         "orientation": "v",
         "points": "all",
         "scalegroup": "True",
         "showlegend": true,
         "type": "violin",
         "x": [
          "Mkt&HR",
          "Mkt&Fin",
          "Mkt&Fin",
          "Mkt&HR",
          "Mkt&Fin",
          "Mkt&Fin",
          "Mkt&Fin",
          "Mkt&Fin",
          "Mkt&Fin",
          "Mkt&HR",
          "Mkt&Fin",
          "Mkt&HR",
          "Mkt&Fin",
          "Mkt&Fin",
          "Mkt&HR",
          "Mkt&Fin",
          "Mkt&Fin",
          "Mkt&HR",
          "Mkt&Fin",
          "Mkt&Fin",
          "Mkt&HR",
          "Mkt&Fin",
          "Mkt&Fin",
          "Mkt&Fin",
          "Mkt&HR",
          "Mkt&Fin",
          "Mkt&Fin",
          "Mkt&HR",
          "Mkt&HR",
          "Mkt&HR",
          "Mkt&Fin",
          "Mkt&Fin",
          "Mkt&Fin",
          "Mkt&Fin",
          "Mkt&Fin",
          "Mkt&Fin",
          "Mkt&HR",
          "Mkt&Fin",
          "Mkt&HR",
          "Mkt&HR",
          "Mkt&Fin",
          "Mkt&Fin",
          "Mkt&Fin",
          "Mkt&Fin",
          "Mkt&Fin",
          "Mkt&Fin",
          "Mkt&Fin",
          "Mkt&Fin",
          "Mkt&Fin",
          "Mkt&Fin",
          "Mkt&Fin",
          "Mkt&Fin",
          "Mkt&Fin",
          "Mkt&Fin",
          "Mkt&HR",
          "Mkt&HR",
          "Mkt&HR",
          "Mkt&Fin",
          "Mkt&Fin",
          "Mkt&Fin",
          "Mkt&HR",
          "Mkt&HR",
          "Mkt&HR",
          "Mkt&HR",
          "Mkt&Fin",
          "Mkt&HR",
          "Mkt&Fin",
          "Mkt&HR",
          "Mkt&HR",
          "Mkt&HR",
          "Mkt&HR",
          "Mkt&Fin",
          "Mkt&Fin",
          "Mkt&HR",
          "Mkt&Fin",
          "Mkt&HR",
          "Mkt&HR",
          "Mkt&HR",
          "Mkt&HR",
          "Mkt&Fin",
          "Mkt&Fin",
          "Mkt&HR",
          "Mkt&HR",
          "Mkt&HR",
          "Mkt&Fin",
          "Mkt&Fin",
          "Mkt&HR",
          "Mkt&Fin",
          "Mkt&Fin",
          "Mkt&Fin",
          "Mkt&HR",
          "Mkt&HR",
          "Mkt&Fin",
          "Mkt&HR",
          "Mkt&Fin",
          "Mkt&Fin",
          "Mkt&Fin",
          "Mkt&Fin",
          "Mkt&HR",
          "Mkt&HR",
          "Mkt&Fin",
          "Mkt&Fin",
          "Mkt&HR",
          "Mkt&HR",
          "Mkt&HR",
          "Mkt&Fin",
          "Mkt&Fin",
          "Mkt&HR",
          "Mkt&Fin",
          "Mkt&HR",
          "Mkt&Fin",
          "Mkt&HR",
          "Mkt&Fin",
          "Mkt&HR",
          "Mkt&HR",
          "Mkt&Fin",
          "Mkt&HR",
          "Mkt&Fin",
          "Mkt&HR",
          "Mkt&Fin",
          "Mkt&Fin",
          "Mkt&Fin",
          "Mkt&Fin",
          "Mkt&Fin",
          "Mkt&HR",
          "Mkt&Fin",
          "Mkt&HR",
          "Mkt&Fin",
          "Mkt&HR",
          "Mkt&HR",
          "Mkt&HR",
          "Mkt&Fin",
          "Mkt&Fin",
          "Mkt&Fin",
          "Mkt&Fin",
          "Mkt&Fin",
          "Mkt&Fin",
          "Mkt&Fin",
          "Mkt&HR"
         ],
         "x0": " ",
         "xaxis": "x",
         "y": [
          270000,
          200000,
          250000,
          0,
          425000,
          0,
          252000,
          231000,
          0,
          260000,
          250000,
          0,
          300000,
          236000,
          265000,
          360000,
          240000,
          265000,
          350000,
          0,
          0,
          0,
          411000,
          0,
          300000,
          204000,
          250000,
          0,
          450000,
          220000,
          240000,
          360000,
          268000,
          265000,
          260000,
          300000,
          0,
          240000,
          0,
          275000,
          275000,
          275000,
          360000,
          240000,
          240000,
          218000,
          336000,
          500000,
          270000,
          300000,
          0,
          300000,
          300000,
          220000,
          0,
          0,
          0,
          260000,
          420000,
          0,
          380000,
          240000,
          360000,
          0,
          0,
          200000,
          300000,
          0,
          0,
          250000,
          250000,
          300000,
          240000,
          276000,
          940000,
          0,
          240000,
          250000,
          400000,
          250000,
          0,
          300000,
          250000,
          225000,
          220000,
          265000,
          0,
          260000,
          300000,
          0,
          400000,
          233000,
          300000,
          0,
          690000,
          270000,
          340000,
          250000,
          0,
          255000,
          300000,
          0,
          0,
          300000,
          0,
          285000,
          500000,
          240000,
          0,
          0,
          290000,
          300000,
          500000,
          0,
          350000,
          265000,
          0,
          0,
          276000,
          280000,
          0,
          264000,
          270000,
          0,
          275000,
          250000,
          265000,
          300000,
          0,
          240000,
          260000,
          250000,
          0,
          300000,
          216000,
          400000,
          275000,
          295000,
          0
         ],
         "y0": " ",
         "yaxis": "y"
        },
        {
         "alignmentgroup": "True",
         "box": {
          "visible": true
         },
         "hovertemplate": "gender=F<br>specialisation=%{x}<br>salary=%{y}<extra></extra>",
         "legendgroup": "F",
         "marker": {
          "color": "#EF553B"
         },
         "name": "F",
         "offsetgroup": "F",
         "orientation": "v",
         "points": "all",
         "scalegroup": "True",
         "showlegend": true,
         "type": "violin",
         "x": [
          "Mkt&Fin",
          "Mkt&HR",
          "Mkt&Fin",
          "Mkt&Fin",
          "Mkt&Fin",
          "Mkt&HR",
          "Mkt&Fin",
          "Mkt&HR",
          "Mkt&Fin",
          "Mkt&Fin",
          "Mkt&HR",
          "Mkt&HR",
          "Mkt&HR",
          "Mkt&Fin",
          "Mkt&HR",
          "Mkt&HR",
          "Mkt&HR",
          "Mkt&Fin",
          "Mkt&HR",
          "Mkt&Fin",
          "Mkt&HR",
          "Mkt&HR",
          "Mkt&HR",
          "Mkt&HR",
          "Mkt&HR",
          "Mkt&HR",
          "Mkt&Fin",
          "Mkt&HR",
          "Mkt&HR",
          "Mkt&Fin",
          "Mkt&HR",
          "Mkt&HR",
          "Mkt&Fin",
          "Mkt&HR",
          "Mkt&HR",
          "Mkt&Fin",
          "Mkt&Fin",
          "Mkt&Fin",
          "Mkt&Fin",
          "Mkt&Fin",
          "Mkt&HR",
          "Mkt&Fin",
          "Mkt&HR",
          "Mkt&Fin",
          "Mkt&Fin",
          "Mkt&HR",
          "Mkt&Fin",
          "Mkt&Fin",
          "Mkt&Fin",
          "Mkt&HR",
          "Mkt&Fin",
          "Mkt&Fin",
          "Mkt&HR",
          "Mkt&Fin",
          "Mkt&Fin",
          "Mkt&Fin",
          "Mkt&Fin",
          "Mkt&Fin",
          "Mkt&Fin",
          "Mkt&HR",
          "Mkt&HR",
          "Mkt&HR",
          "Mkt&HR",
          "Mkt&Fin",
          "Mkt&HR",
          "Mkt&HR",
          "Mkt&HR",
          "Mkt&Fin",
          "Mkt&Fin",
          "Mkt&Fin",
          "Mkt&HR",
          "Mkt&HR",
          "Mkt&HR",
          "Mkt&Fin",
          "Mkt&HR",
          "Mkt&HR"
         ],
         "x0": " ",
         "xaxis": "x",
         "y": [
          0,
          0,
          218000,
          200000,
          0,
          0,
          393000,
          360000,
          300000,
          0,
          250000,
          0,
          278000,
          260000,
          300000,
          320000,
          240000,
          287000,
          0,
          200000,
          0,
          0,
          0,
          200000,
          0,
          216000,
          240000,
          0,
          0,
          230000,
          0,
          240000,
          400000,
          210000,
          210000,
          300000,
          230000,
          300000,
          0,
          220000,
          0,
          300000,
          250000,
          280000,
          216000,
          250000,
          236000,
          350000,
          210000,
          250000,
          360000,
          250000,
          200000,
          0,
          250000,
          240000,
          240000,
          250000,
          0,
          0,
          0,
          0,
          220000,
          650000,
          0,
          0,
          252000,
          0,
          0,
          0,
          300000,
          260000,
          0,
          210000,
          0,
          204000
         ],
         "y0": " ",
         "yaxis": "y"
        }
       ],
       "layout": {
        "legend": {
         "title": {
          "text": "gender"
         },
         "tracegroupgap": 0
        },
        "margin": {
         "t": 60
        },
        "template": {
         "data": {
          "bar": [
           {
            "error_x": {
             "color": "#2a3f5f"
            },
            "error_y": {
             "color": "#2a3f5f"
            },
            "marker": {
             "line": {
              "color": "#E5ECF6",
              "width": 0.5
             },
             "pattern": {
              "fillmode": "overlay",
              "size": 10,
              "solidity": 0.2
             }
            },
            "type": "bar"
           }
          ],
          "barpolar": [
           {
            "marker": {
             "line": {
              "color": "#E5ECF6",
              "width": 0.5
             },
             "pattern": {
              "fillmode": "overlay",
              "size": 10,
              "solidity": 0.2
             }
            },
            "type": "barpolar"
           }
          ],
          "carpet": [
           {
            "aaxis": {
             "endlinecolor": "#2a3f5f",
             "gridcolor": "white",
             "linecolor": "white",
             "minorgridcolor": "white",
             "startlinecolor": "#2a3f5f"
            },
            "baxis": {
             "endlinecolor": "#2a3f5f",
             "gridcolor": "white",
             "linecolor": "white",
             "minorgridcolor": "white",
             "startlinecolor": "#2a3f5f"
            },
            "type": "carpet"
           }
          ],
          "choropleth": [
           {
            "colorbar": {
             "outlinewidth": 0,
             "ticks": ""
            },
            "type": "choropleth"
           }
          ],
          "contour": [
           {
            "colorbar": {
             "outlinewidth": 0,
             "ticks": ""
            },
            "colorscale": [
             [
              0,
              "#0d0887"
             ],
             [
              0.1111111111111111,
              "#46039f"
             ],
             [
              0.2222222222222222,
              "#7201a8"
             ],
             [
              0.3333333333333333,
              "#9c179e"
             ],
             [
              0.4444444444444444,
              "#bd3786"
             ],
             [
              0.5555555555555556,
              "#d8576b"
             ],
             [
              0.6666666666666666,
              "#ed7953"
             ],
             [
              0.7777777777777778,
              "#fb9f3a"
             ],
             [
              0.8888888888888888,
              "#fdca26"
             ],
             [
              1,
              "#f0f921"
             ]
            ],
            "type": "contour"
           }
          ],
          "contourcarpet": [
           {
            "colorbar": {
             "outlinewidth": 0,
             "ticks": ""
            },
            "type": "contourcarpet"
           }
          ],
          "heatmap": [
           {
            "colorbar": {
             "outlinewidth": 0,
             "ticks": ""
            },
            "colorscale": [
             [
              0,
              "#0d0887"
             ],
             [
              0.1111111111111111,
              "#46039f"
             ],
             [
              0.2222222222222222,
              "#7201a8"
             ],
             [
              0.3333333333333333,
              "#9c179e"
             ],
             [
              0.4444444444444444,
              "#bd3786"
             ],
             [
              0.5555555555555556,
              "#d8576b"
             ],
             [
              0.6666666666666666,
              "#ed7953"
             ],
             [
              0.7777777777777778,
              "#fb9f3a"
             ],
             [
              0.8888888888888888,
              "#fdca26"
             ],
             [
              1,
              "#f0f921"
             ]
            ],
            "type": "heatmap"
           }
          ],
          "heatmapgl": [
           {
            "colorbar": {
             "outlinewidth": 0,
             "ticks": ""
            },
            "colorscale": [
             [
              0,
              "#0d0887"
             ],
             [
              0.1111111111111111,
              "#46039f"
             ],
             [
              0.2222222222222222,
              "#7201a8"
             ],
             [
              0.3333333333333333,
              "#9c179e"
             ],
             [
              0.4444444444444444,
              "#bd3786"
             ],
             [
              0.5555555555555556,
              "#d8576b"
             ],
             [
              0.6666666666666666,
              "#ed7953"
             ],
             [
              0.7777777777777778,
              "#fb9f3a"
             ],
             [
              0.8888888888888888,
              "#fdca26"
             ],
             [
              1,
              "#f0f921"
             ]
            ],
            "type": "heatmapgl"
           }
          ],
          "histogram": [
           {
            "marker": {
             "pattern": {
              "fillmode": "overlay",
              "size": 10,
              "solidity": 0.2
             }
            },
            "type": "histogram"
           }
          ],
          "histogram2d": [
           {
            "colorbar": {
             "outlinewidth": 0,
             "ticks": ""
            },
            "colorscale": [
             [
              0,
              "#0d0887"
             ],
             [
              0.1111111111111111,
              "#46039f"
             ],
             [
              0.2222222222222222,
              "#7201a8"
             ],
             [
              0.3333333333333333,
              "#9c179e"
             ],
             [
              0.4444444444444444,
              "#bd3786"
             ],
             [
              0.5555555555555556,
              "#d8576b"
             ],
             [
              0.6666666666666666,
              "#ed7953"
             ],
             [
              0.7777777777777778,
              "#fb9f3a"
             ],
             [
              0.8888888888888888,
              "#fdca26"
             ],
             [
              1,
              "#f0f921"
             ]
            ],
            "type": "histogram2d"
           }
          ],
          "histogram2dcontour": [
           {
            "colorbar": {
             "outlinewidth": 0,
             "ticks": ""
            },
            "colorscale": [
             [
              0,
              "#0d0887"
             ],
             [
              0.1111111111111111,
              "#46039f"
             ],
             [
              0.2222222222222222,
              "#7201a8"
             ],
             [
              0.3333333333333333,
              "#9c179e"
             ],
             [
              0.4444444444444444,
              "#bd3786"
             ],
             [
              0.5555555555555556,
              "#d8576b"
             ],
             [
              0.6666666666666666,
              "#ed7953"
             ],
             [
              0.7777777777777778,
              "#fb9f3a"
             ],
             [
              0.8888888888888888,
              "#fdca26"
             ],
             [
              1,
              "#f0f921"
             ]
            ],
            "type": "histogram2dcontour"
           }
          ],
          "mesh3d": [
           {
            "colorbar": {
             "outlinewidth": 0,
             "ticks": ""
            },
            "type": "mesh3d"
           }
          ],
          "parcoords": [
           {
            "line": {
             "colorbar": {
              "outlinewidth": 0,
              "ticks": ""
             }
            },
            "type": "parcoords"
           }
          ],
          "pie": [
           {
            "automargin": true,
            "type": "pie"
           }
          ],
          "scatter": [
           {
            "fillpattern": {
             "fillmode": "overlay",
             "size": 10,
             "solidity": 0.2
            },
            "type": "scatter"
           }
          ],
          "scatter3d": [
           {
            "line": {
             "colorbar": {
              "outlinewidth": 0,
              "ticks": ""
             }
            },
            "marker": {
             "colorbar": {
              "outlinewidth": 0,
              "ticks": ""
             }
            },
            "type": "scatter3d"
           }
          ],
          "scattercarpet": [
           {
            "marker": {
             "colorbar": {
              "outlinewidth": 0,
              "ticks": ""
             }
            },
            "type": "scattercarpet"
           }
          ],
          "scattergeo": [
           {
            "marker": {
             "colorbar": {
              "outlinewidth": 0,
              "ticks": ""
             }
            },
            "type": "scattergeo"
           }
          ],
          "scattergl": [
           {
            "marker": {
             "colorbar": {
              "outlinewidth": 0,
              "ticks": ""
             }
            },
            "type": "scattergl"
           }
          ],
          "scattermapbox": [
           {
            "marker": {
             "colorbar": {
              "outlinewidth": 0,
              "ticks": ""
             }
            },
            "type": "scattermapbox"
           }
          ],
          "scatterpolar": [
           {
            "marker": {
             "colorbar": {
              "outlinewidth": 0,
              "ticks": ""
             }
            },
            "type": "scatterpolar"
           }
          ],
          "scatterpolargl": [
           {
            "marker": {
             "colorbar": {
              "outlinewidth": 0,
              "ticks": ""
             }
            },
            "type": "scatterpolargl"
           }
          ],
          "scatterternary": [
           {
            "marker": {
             "colorbar": {
              "outlinewidth": 0,
              "ticks": ""
             }
            },
            "type": "scatterternary"
           }
          ],
          "surface": [
           {
            "colorbar": {
             "outlinewidth": 0,
             "ticks": ""
            },
            "colorscale": [
             [
              0,
              "#0d0887"
             ],
             [
              0.1111111111111111,
              "#46039f"
             ],
             [
              0.2222222222222222,
              "#7201a8"
             ],
             [
              0.3333333333333333,
              "#9c179e"
             ],
             [
              0.4444444444444444,
              "#bd3786"
             ],
             [
              0.5555555555555556,
              "#d8576b"
             ],
             [
              0.6666666666666666,
              "#ed7953"
             ],
             [
              0.7777777777777778,
              "#fb9f3a"
             ],
             [
              0.8888888888888888,
              "#fdca26"
             ],
             [
              1,
              "#f0f921"
             ]
            ],
            "type": "surface"
           }
          ],
          "table": [
           {
            "cells": {
             "fill": {
              "color": "#EBF0F8"
             },
             "line": {
              "color": "white"
             }
            },
            "header": {
             "fill": {
              "color": "#C8D4E3"
             },
             "line": {
              "color": "white"
             }
            },
            "type": "table"
           }
          ]
         },
         "layout": {
          "annotationdefaults": {
           "arrowcolor": "#2a3f5f",
           "arrowhead": 0,
           "arrowwidth": 1
          },
          "autotypenumbers": "strict",
          "coloraxis": {
           "colorbar": {
            "outlinewidth": 0,
            "ticks": ""
           }
          },
          "colorscale": {
           "diverging": [
            [
             0,
             "#8e0152"
            ],
            [
             0.1,
             "#c51b7d"
            ],
            [
             0.2,
             "#de77ae"
            ],
            [
             0.3,
             "#f1b6da"
            ],
            [
             0.4,
             "#fde0ef"
            ],
            [
             0.5,
             "#f7f7f7"
            ],
            [
             0.6,
             "#e6f5d0"
            ],
            [
             0.7,
             "#b8e186"
            ],
            [
             0.8,
             "#7fbc41"
            ],
            [
             0.9,
             "#4d9221"
            ],
            [
             1,
             "#276419"
            ]
           ],
           "sequential": [
            [
             0,
             "#0d0887"
            ],
            [
             0.1111111111111111,
             "#46039f"
            ],
            [
             0.2222222222222222,
             "#7201a8"
            ],
            [
             0.3333333333333333,
             "#9c179e"
            ],
            [
             0.4444444444444444,
             "#bd3786"
            ],
            [
             0.5555555555555556,
             "#d8576b"
            ],
            [
             0.6666666666666666,
             "#ed7953"
            ],
            [
             0.7777777777777778,
             "#fb9f3a"
            ],
            [
             0.8888888888888888,
             "#fdca26"
            ],
            [
             1,
             "#f0f921"
            ]
           ],
           "sequentialminus": [
            [
             0,
             "#0d0887"
            ],
            [
             0.1111111111111111,
             "#46039f"
            ],
            [
             0.2222222222222222,
             "#7201a8"
            ],
            [
             0.3333333333333333,
             "#9c179e"
            ],
            [
             0.4444444444444444,
             "#bd3786"
            ],
            [
             0.5555555555555556,
             "#d8576b"
            ],
            [
             0.6666666666666666,
             "#ed7953"
            ],
            [
             0.7777777777777778,
             "#fb9f3a"
            ],
            [
             0.8888888888888888,
             "#fdca26"
            ],
            [
             1,
             "#f0f921"
            ]
           ]
          },
          "colorway": [
           "#636efa",
           "#EF553B",
           "#00cc96",
           "#ab63fa",
           "#FFA15A",
           "#19d3f3",
           "#FF6692",
           "#B6E880",
           "#FF97FF",
           "#FECB52"
          ],
          "font": {
           "color": "#2a3f5f"
          },
          "geo": {
           "bgcolor": "white",
           "lakecolor": "white",
           "landcolor": "#E5ECF6",
           "showlakes": true,
           "showland": true,
           "subunitcolor": "white"
          },
          "hoverlabel": {
           "align": "left"
          },
          "hovermode": "closest",
          "mapbox": {
           "style": "light"
          },
          "paper_bgcolor": "white",
          "plot_bgcolor": "#E5ECF6",
          "polar": {
           "angularaxis": {
            "gridcolor": "white",
            "linecolor": "white",
            "ticks": ""
           },
           "bgcolor": "#E5ECF6",
           "radialaxis": {
            "gridcolor": "white",
            "linecolor": "white",
            "ticks": ""
           }
          },
          "scene": {
           "xaxis": {
            "backgroundcolor": "#E5ECF6",
            "gridcolor": "white",
            "gridwidth": 2,
            "linecolor": "white",
            "showbackground": true,
            "ticks": "",
            "zerolinecolor": "white"
           },
           "yaxis": {
            "backgroundcolor": "#E5ECF6",
            "gridcolor": "white",
            "gridwidth": 2,
            "linecolor": "white",
            "showbackground": true,
            "ticks": "",
            "zerolinecolor": "white"
           },
           "zaxis": {
            "backgroundcolor": "#E5ECF6",
            "gridcolor": "white",
            "gridwidth": 2,
            "linecolor": "white",
            "showbackground": true,
            "ticks": "",
            "zerolinecolor": "white"
           }
          },
          "shapedefaults": {
           "line": {
            "color": "#2a3f5f"
           }
          },
          "ternary": {
           "aaxis": {
            "gridcolor": "white",
            "linecolor": "white",
            "ticks": ""
           },
           "baxis": {
            "gridcolor": "white",
            "linecolor": "white",
            "ticks": ""
           },
           "bgcolor": "#E5ECF6",
           "caxis": {
            "gridcolor": "white",
            "linecolor": "white",
            "ticks": ""
           }
          },
          "title": {
           "x": 0.05
          },
          "xaxis": {
           "automargin": true,
           "gridcolor": "white",
           "linecolor": "white",
           "ticks": "",
           "title": {
            "standoff": 15
           },
           "zerolinecolor": "white",
           "zerolinewidth": 2
          },
          "yaxis": {
           "automargin": true,
           "gridcolor": "white",
           "linecolor": "white",
           "ticks": "",
           "title": {
            "standoff": 15
           },
           "zerolinecolor": "white",
           "zerolinewidth": 2
          }
         }
        },
        "violinmode": "group",
        "xaxis": {
         "anchor": "y",
         "domain": [
          0,
          1
         ],
         "title": {
          "text": "specialisation"
         }
        },
        "yaxis": {
         "anchor": "x",
         "domain": [
          0,
          1
         ],
         "title": {
          "text": "salary"
         }
        }
       }
      }
     },
     "metadata": {},
     "output_type": "display_data"
    }
   ],
   "source": [
    "# Plotar o grafico Violin da biblioteca plotly-express\n",
    "px.violin(dados,y=\"salary\",x=\"specialisation\",color=\"gender\",box=True,points=\"all\")"
   ]
  },
  {
   "cell_type": "markdown",
   "id": "b73b3ffb",
   "metadata": {},
   "source": [
    "#### Aula 3 - Kmeans"
   ]
  },
  {
   "cell_type": "markdown",
   "id": "62317ba2",
   "metadata": {},
   "source": [
    "#### Aula 4 - Modelos Baseados em Árvores"
   ]
  },
  {
   "cell_type": "markdown",
   "id": "eab2a7a3",
   "metadata": {},
   "source": [
    "#### Aula 5 - Validação Cruzada e Pipeline no Sklearn"
   ]
  },
  {
   "cell_type": "markdown",
   "id": "d5f8a8c3",
   "metadata": {},
   "source": [
    "#### Aula 6 - Classification Report e Métricas de Classificação"
   ]
  },
  {
   "cell_type": "markdown",
   "id": "06ae290b",
   "metadata": {},
   "source": [
    "#### Aula 7 - AUC Score e ROC Curve"
   ]
  }
 ],
 "metadata": {
  "kernelspec": {
   "display_name": "base",
   "language": "python",
   "name": "python3"
  },
  "language_info": {
   "codemirror_mode": {
    "name": "ipython",
    "version": 3
   },
   "file_extension": ".py",
   "mimetype": "text/x-python",
   "name": "python",
   "nbconvert_exporter": "python",
   "pygments_lexer": "ipython3",
   "version": "3.12.3"
  }
 },
 "nbformat": 4,
 "nbformat_minor": 5
}
