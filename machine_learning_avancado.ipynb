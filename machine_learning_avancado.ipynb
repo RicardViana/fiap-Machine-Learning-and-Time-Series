{
 "cells": [
  {
   "cell_type": "markdown",
   "id": "1abf0c6c",
   "metadata": {},
   "source": [
    "#### Machine Learning Avançado"
   ]
  },
  {
   "cell_type": "markdown",
   "id": "a3c04a11",
   "metadata": {},
   "source": [
    "#### Conteúdo - Bases e Notebook da aula\n",
    "\n",
    "https://github.com/FIAP/Pos_Tech_DTAT/tree/Machine-Learning-Avan%C3%A7ado"
   ]
  },
  {
   "cell_type": "markdown",
   "id": "f1dae537",
   "metadata": {},
   "source": [
    "#### Importação de pacotes, bibliotecas e funções (def)"
   ]
  },
  {
   "cell_type": "markdown",
   "id": "6f0606c0",
   "metadata": {},
   "source": [
    "#### Aula 1 - Modelos de Classificação"
   ]
  },
  {
   "cell_type": "markdown",
   "id": "8270aadc",
   "metadata": {},
   "source": [
    "#### Aula 2 - KNN, SVM"
   ]
  },
  {
   "cell_type": "markdown",
   "id": "b73b3ffb",
   "metadata": {},
   "source": [
    "#### Aula 3 - Kmeans"
   ]
  },
  {
   "cell_type": "markdown",
   "id": "62317ba2",
   "metadata": {},
   "source": [
    "#### Aula 4 - Modelos Baseados em Árvores"
   ]
  },
  {
   "cell_type": "markdown",
   "id": "eab2a7a3",
   "metadata": {},
   "source": [
    "#### Aula 5 - Validação Cruzada e Pipeline no Sklearn"
   ]
  },
  {
   "cell_type": "markdown",
   "id": "d5f8a8c3",
   "metadata": {},
   "source": [
    "#### Aula 6 - Classification Report e Métricas de Classificação"
   ]
  },
  {
   "cell_type": "markdown",
   "id": "06ae290b",
   "metadata": {},
   "source": [
    "#### Aula 7 - AUC Score e ROC Curve"
   ]
  }
 ],
 "metadata": {
  "language_info": {
   "name": "python"
  }
 },
 "nbformat": 4,
 "nbformat_minor": 5
}
