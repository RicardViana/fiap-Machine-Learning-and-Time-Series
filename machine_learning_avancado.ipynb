{
 "cells": [
  {
   "cell_type": "markdown",
   "id": "1abf0c6c",
   "metadata": {},
   "source": [
    "#### Machine Learning Avançado"
   ]
  },
  {
   "cell_type": "markdown",
   "id": "a3c04a11",
   "metadata": {},
   "source": [
    "#### Conteúdo - Bases e Notebook da aula\n",
    "\n",
    "https://github.com/FIAP/Pos_Tech_DTAT/tree/Machine-Learning-Avan%C3%A7ado"
   ]
  },
  {
   "cell_type": "markdown",
   "id": "78b76f9d",
   "metadata": {},
   "source": [
    "#### Dicionário de Dados --> Aula 2\n",
    "\n",
    "| Nome Original | Nome da Coluna (Sugerido) | Tipo de Dado | Descrição |\n",
    "| :--- | :--- | :--- | :--- |\n",
    "| **sl_no** | Nº de Série | Numérico (Inteiro) | Número de identificação sequencial único para cada candidato. |\n",
    "| **gender** | Gênero | Categórico (Texto) | Gênero do candidato (ex: 'M' para Masculino, 'F' para Feminino). |\n",
    "| **ssc_p** | Nota - Ensino Secundário | Numérico (Decimal) | Percentual de notas do candidato no Certificado de Escola Secundária (10º ano). |\n",
    "| **ssc_b** | Conselho - Ensino Secundário | Categórico (Texto) | Conselho de educação em que o Ensino Secundário foi concluído (ex: 'Central', 'Others'). |\n",
    "| **hsc_p** | Nota - Ensino Médio | Numérico (Decimal) | Percentual de notas do candidato no Certificado de Escola Secundária Superior (12º ano). |\n",
    "| **hsc_b** | Conselho - Ensino Médio | Categórico (Texto) | Conselho de educação em que o Ensino Médio foi concluído. |\n",
    "| **hsc_s** | Área - Ensino Médio | Categórico (Texto) | Área de estudo ou especialização no Ensino Médio (ex: 'Commerce', 'Science', 'Arts'). |\n",
    "| **degree_p**| Nota - Graduação | Numérico (Decimal) | Percentual de notas do candidato na graduação. |\n",
    "| **degree_t**| Área - Graduação | Categórico (Texto) | Área de estudo ou tipo de graduação (ex: 'Sci&Tech', 'Comm&Mgmt', 'Others'). |\n",
    "| **workex** | Experiência de Trabalho | Categórico (Texto) | Indica se o candidato possui experiência de trabalho prévia ('Yes' ou 'No'). |\n",
    "| **etest_p**| Nota - Teste de Empregabilidade | Numérico (Decimal) | Percentual de notas do candidato em um teste de empregabilidade. |\n",
    "| **specialisation**| Especialização - MBA | Categórico (Texto) | Área de especialização do MBA (ex: 'Mkt&HR' para Marketing e RH, 'Mkt&Fin' para Marketing e Finanças). |\n",
    "| **mba_p** | Nota - MBA | Numérico (Decimal) | Percentual de notas do candidato no MBA. |\n",
    "| **status** | Status da Contratação | Categórico (Texto) | Status final do candidato no processo de recrutamento (ex: 'Placed' para contratado, 'Not Placed' para não contratado). |\n",
    "| **salary** | Salário | Numérico (Decimal) | Salário oferecido ao candidato, caso tenha sido contratado ('Placed'). Pode conter valores nulos para os não contratados. |"
   ]
  },
  {
   "cell_type": "markdown",
   "id": "f1dae537",
   "metadata": {},
   "source": [
    "#### Importação de pacotes, bibliotecas e funções (def)"
   ]
  },
  {
   "cell_type": "code",
   "execution_count": 62,
   "id": "d95b099b",
   "metadata": {},
   "outputs": [],
   "source": [
    "# Importar biblioteca completa\n",
    "import pandas as pd \n",
    "import matplotlib.pyplot as plt\n",
    "import numpy as np\n",
    "import missingno as msno\n",
    "import seaborn as sns\n",
    "import plotly_express as px\n",
    "\n",
    "# Importar função especifica de um módulo\n",
    "from math import sqrt\n",
    "from sklearn.model_selection import train_test_split\n",
    "from sklearn.neighbors import KNeighborsClassifier\n",
    "from sklearn.metrics import accuracy_score\n",
    "from sklearn.preprocessing import LabelEncoder, StandardScaler, MinMaxScaler\n",
    "from sklearn.svm import LinearSVC\n",
    "from sklearn.pipeline import Pipeline"
   ]
  },
  {
   "cell_type": "code",
   "execution_count": 2,
   "id": "d8114311",
   "metadata": {},
   "outputs": [],
   "source": [
    "\"\"\"\n",
    "\n",
    "Exemplo\n",
    "\n",
    "-- Gerar o wcss\n",
    "wcss = []\n",
    "\n",
    "for k in range(1, 11):\n",
    "\n",
    "  model = KMeans(n_clusters=k, n_init=10)\n",
    "  model = model.fit(iris)\n",
    "  wcss.append(model.inertia_)\n",
    "\n",
    "df_wcss = pd.DataFrame({\n",
    "    'Número de Clusters': range(1, 11),\n",
    "    'WCSS': wcss\n",
    "})\n",
    "\n",
    "df_wcss.head(11)\n",
    "\n",
    "-- Definir melhor numero de clusters\n",
    "n = optimal_number_of_clusters(wcss)\n",
    "print(n)\n",
    "\n",
    "\"\"\"\n",
    "\n",
    "# Apoio\n",
    "# Como definir o número de clusters para o seu KMeans\n",
    "# https://medium.com/pizzadedados/kmeans-e-metodo-do-cotovelo-94ded9fdf3a9\n",
    "\n",
    "def optimal_number_of_clusters(wcss):\n",
    "    x1, y1 = 2, wcss[0]\n",
    "    x2, y2 = 20, wcss[len(wcss)-1]\n",
    "\n",
    "    distances = []\n",
    "    for i in range(len(wcss)):\n",
    "        x0 = i+2\n",
    "        y0 = wcss[i]\n",
    "        numerator = abs((y2-y1)*x0 - (x2-x1)*y0 + x2*y1 - y2*x1)\n",
    "        denominator = sqrt((y2 - y1)**2 + (x2 - x1)**2)\n",
    "        distances.append(numerator/denominator)\n",
    "\n",
    "    return distances.index(max(distances)) + 2"
   ]
  },
  {
   "cell_type": "markdown",
   "id": "6f0606c0",
   "metadata": {},
   "source": [
    "#### Aula 1 - Modelos de Classificação"
   ]
  },
  {
   "cell_type": "code",
   "execution_count": 3,
   "id": "86153d59",
   "metadata": {},
   "outputs": [],
   "source": [
    "# Usando a engine calamine devido a sua melhor performace se comparada com o openpyxl\n",
    "link = \"https://github.com/FIAP/Pos_Tech_DTAT/raw/073d3c7ab0cd105f8ad2fb347c0f02cb36773ee4/Aula%2001/Base%20de%20dados/gaf_esp.xlsx\"\n",
    "dados = pd.read_excel(link, engine= \"calamine\")"
   ]
  },
  {
   "cell_type": "code",
   "execution_count": 4,
   "id": "8a16e40f",
   "metadata": {},
   "outputs": [
    {
     "data": {
      "application/vnd.microsoft.datawrangler.viewer.v0+json": {
       "columns": [
        {
         "name": "index",
         "rawType": "int64",
         "type": "integer"
        },
        {
         "name": "Espécie",
         "rawType": "object",
         "type": "string"
        },
        {
         "name": "Comprimento do Abdômen",
         "rawType": "float64",
         "type": "float"
        },
        {
         "name": "Comprimento das Antenas",
         "rawType": "float64",
         "type": "float"
        }
       ],
       "ref": "8adf2bcd-a3bf-4ac6-bc03-b6d99d592b05",
       "rows": [
        [
         "0",
         "Gafanhoto",
         "0.5",
         "7.0"
        ],
        [
         "1",
         "Gafanhoto",
         "0.5",
         "6.0"
        ],
        [
         "2",
         "Gafanhoto",
         "0.6",
         "5.5"
        ],
        [
         "3",
         "Gafanhoto",
         "0.65",
         "4.5"
        ],
        [
         "4",
         "Gafanhoto",
         "0.54",
         "3.2"
        ]
       ],
       "shape": {
        "columns": 3,
        "rows": 5
       }
      },
      "text/html": [
       "<div>\n",
       "<style scoped>\n",
       "    .dataframe tbody tr th:only-of-type {\n",
       "        vertical-align: middle;\n",
       "    }\n",
       "\n",
       "    .dataframe tbody tr th {\n",
       "        vertical-align: top;\n",
       "    }\n",
       "\n",
       "    .dataframe thead th {\n",
       "        text-align: right;\n",
       "    }\n",
       "</style>\n",
       "<table border=\"1\" class=\"dataframe\">\n",
       "  <thead>\n",
       "    <tr style=\"text-align: right;\">\n",
       "      <th></th>\n",
       "      <th>Espécie</th>\n",
       "      <th>Comprimento do Abdômen</th>\n",
       "      <th>Comprimento das Antenas</th>\n",
       "    </tr>\n",
       "  </thead>\n",
       "  <tbody>\n",
       "    <tr>\n",
       "      <th>0</th>\n",
       "      <td>Gafanhoto</td>\n",
       "      <td>0.50</td>\n",
       "      <td>7.0</td>\n",
       "    </tr>\n",
       "    <tr>\n",
       "      <th>1</th>\n",
       "      <td>Gafanhoto</td>\n",
       "      <td>0.50</td>\n",
       "      <td>6.0</td>\n",
       "    </tr>\n",
       "    <tr>\n",
       "      <th>2</th>\n",
       "      <td>Gafanhoto</td>\n",
       "      <td>0.60</td>\n",
       "      <td>5.5</td>\n",
       "    </tr>\n",
       "    <tr>\n",
       "      <th>3</th>\n",
       "      <td>Gafanhoto</td>\n",
       "      <td>0.65</td>\n",
       "      <td>4.5</td>\n",
       "    </tr>\n",
       "    <tr>\n",
       "      <th>4</th>\n",
       "      <td>Gafanhoto</td>\n",
       "      <td>0.54</td>\n",
       "      <td>3.2</td>\n",
       "    </tr>\n",
       "  </tbody>\n",
       "</table>\n",
       "</div>"
      ],
      "text/plain": [
       "     Espécie  Comprimento do Abdômen  Comprimento das Antenas\n",
       "0  Gafanhoto                    0.50                      7.0\n",
       "1  Gafanhoto                    0.50                      6.0\n",
       "2  Gafanhoto                    0.60                      5.5\n",
       "3  Gafanhoto                    0.65                      4.5\n",
       "4  Gafanhoto                    0.54                      3.2"
      ]
     },
     "execution_count": 4,
     "metadata": {},
     "output_type": "execute_result"
    }
   ],
   "source": [
    "# Ver os primeiro dados \n",
    "dados.head()"
   ]
  },
  {
   "cell_type": "code",
   "execution_count": 5,
   "id": "b65f6c23",
   "metadata": {},
   "outputs": [
    {
     "data": {
      "application/vnd.microsoft.datawrangler.viewer.v0+json": {
       "columns": [
        {
         "name": "index",
         "rawType": "int64",
         "type": "integer"
        },
        {
         "name": "Espécie",
         "rawType": "object",
         "type": "string"
        },
        {
         "name": "Comprimento do Abdômen",
         "rawType": "float64",
         "type": "float"
        },
        {
         "name": "Comprimento das Antenas",
         "rawType": "float64",
         "type": "float"
        }
       ],
       "ref": "732182d5-a9f8-4942-bb3f-19722b29ec44",
       "rows": [
        [
         "95",
         "Esperança",
         "9.75",
         "6.2"
        ],
        [
         "96",
         "Esperança",
         "6.2",
         "8.1"
        ],
        [
         "97",
         "Esperança",
         "9.2",
         "4.7"
        ],
        [
         "98",
         "Esperança",
         "9.1",
         "6.0"
        ],
        [
         "99",
         "Esperança",
         "8.29",
         "7.0"
        ]
       ],
       "shape": {
        "columns": 3,
        "rows": 5
       }
      },
      "text/html": [
       "<div>\n",
       "<style scoped>\n",
       "    .dataframe tbody tr th:only-of-type {\n",
       "        vertical-align: middle;\n",
       "    }\n",
       "\n",
       "    .dataframe tbody tr th {\n",
       "        vertical-align: top;\n",
       "    }\n",
       "\n",
       "    .dataframe thead th {\n",
       "        text-align: right;\n",
       "    }\n",
       "</style>\n",
       "<table border=\"1\" class=\"dataframe\">\n",
       "  <thead>\n",
       "    <tr style=\"text-align: right;\">\n",
       "      <th></th>\n",
       "      <th>Espécie</th>\n",
       "      <th>Comprimento do Abdômen</th>\n",
       "      <th>Comprimento das Antenas</th>\n",
       "    </tr>\n",
       "  </thead>\n",
       "  <tbody>\n",
       "    <tr>\n",
       "      <th>95</th>\n",
       "      <td>Esperança</td>\n",
       "      <td>9.75</td>\n",
       "      <td>6.2</td>\n",
       "    </tr>\n",
       "    <tr>\n",
       "      <th>96</th>\n",
       "      <td>Esperança</td>\n",
       "      <td>6.20</td>\n",
       "      <td>8.1</td>\n",
       "    </tr>\n",
       "    <tr>\n",
       "      <th>97</th>\n",
       "      <td>Esperança</td>\n",
       "      <td>9.20</td>\n",
       "      <td>4.7</td>\n",
       "    </tr>\n",
       "    <tr>\n",
       "      <th>98</th>\n",
       "      <td>Esperança</td>\n",
       "      <td>9.10</td>\n",
       "      <td>6.0</td>\n",
       "    </tr>\n",
       "    <tr>\n",
       "      <th>99</th>\n",
       "      <td>Esperança</td>\n",
       "      <td>8.29</td>\n",
       "      <td>7.0</td>\n",
       "    </tr>\n",
       "  </tbody>\n",
       "</table>\n",
       "</div>"
      ],
      "text/plain": [
       "      Espécie  Comprimento do Abdômen  Comprimento das Antenas\n",
       "95  Esperança                    9.75                      6.2\n",
       "96  Esperança                    6.20                      8.1\n",
       "97  Esperança                    9.20                      4.7\n",
       "98  Esperança                    9.10                      6.0\n",
       "99  Esperança                    8.29                      7.0"
      ]
     },
     "execution_count": 5,
     "metadata": {},
     "output_type": "execute_result"
    }
   ],
   "source": [
    "# Ver os ultimos dados \n",
    "dados.tail()"
   ]
  },
  {
   "cell_type": "code",
   "execution_count": 6,
   "id": "01000a83",
   "metadata": {},
   "outputs": [
    {
     "data": {
      "application/vnd.microsoft.datawrangler.viewer.v0+json": {
       "columns": [
        {
         "name": "index",
         "rawType": "object",
         "type": "string"
        },
        {
         "name": "Comprimento do Abdômen",
         "rawType": "float64",
         "type": "float"
        },
        {
         "name": "Comprimento das Antenas",
         "rawType": "float64",
         "type": "float"
        }
       ],
       "ref": "75dc3a78-35c2-493c-b0dc-1a78c8c46261",
       "rows": [
        [
         "count",
         "100.0",
         "100.0"
        ],
        [
         "mean",
         "4.9362",
         "5.382400000000001"
        ],
        [
         "std",
         "3.3438062084391142",
         "2.296000527927296"
        ],
        [
         "min",
         "0.5",
         "0.89"
        ],
        [
         "25%",
         "1.6925",
         "3.775"
        ],
        [
         "50%",
         "4.5",
         "5.5"
        ],
        [
         "75%",
         "8.2",
         "7.0"
        ],
        [
         "max",
         "10.0",
         "9.7"
        ]
       ],
       "shape": {
        "columns": 2,
        "rows": 8
       }
      },
      "text/html": [
       "<div>\n",
       "<style scoped>\n",
       "    .dataframe tbody tr th:only-of-type {\n",
       "        vertical-align: middle;\n",
       "    }\n",
       "\n",
       "    .dataframe tbody tr th {\n",
       "        vertical-align: top;\n",
       "    }\n",
       "\n",
       "    .dataframe thead th {\n",
       "        text-align: right;\n",
       "    }\n",
       "</style>\n",
       "<table border=\"1\" class=\"dataframe\">\n",
       "  <thead>\n",
       "    <tr style=\"text-align: right;\">\n",
       "      <th></th>\n",
       "      <th>Comprimento do Abdômen</th>\n",
       "      <th>Comprimento das Antenas</th>\n",
       "    </tr>\n",
       "  </thead>\n",
       "  <tbody>\n",
       "    <tr>\n",
       "      <th>count</th>\n",
       "      <td>100.000000</td>\n",
       "      <td>100.000000</td>\n",
       "    </tr>\n",
       "    <tr>\n",
       "      <th>mean</th>\n",
       "      <td>4.936200</td>\n",
       "      <td>5.382400</td>\n",
       "    </tr>\n",
       "    <tr>\n",
       "      <th>std</th>\n",
       "      <td>3.343806</td>\n",
       "      <td>2.296001</td>\n",
       "    </tr>\n",
       "    <tr>\n",
       "      <th>min</th>\n",
       "      <td>0.500000</td>\n",
       "      <td>0.890000</td>\n",
       "    </tr>\n",
       "    <tr>\n",
       "      <th>25%</th>\n",
       "      <td>1.692500</td>\n",
       "      <td>3.775000</td>\n",
       "    </tr>\n",
       "    <tr>\n",
       "      <th>50%</th>\n",
       "      <td>4.500000</td>\n",
       "      <td>5.500000</td>\n",
       "    </tr>\n",
       "    <tr>\n",
       "      <th>75%</th>\n",
       "      <td>8.200000</td>\n",
       "      <td>7.000000</td>\n",
       "    </tr>\n",
       "    <tr>\n",
       "      <th>max</th>\n",
       "      <td>10.000000</td>\n",
       "      <td>9.700000</td>\n",
       "    </tr>\n",
       "  </tbody>\n",
       "</table>\n",
       "</div>"
      ],
      "text/plain": [
       "       Comprimento do Abdômen  Comprimento das Antenas\n",
       "count              100.000000               100.000000\n",
       "mean                 4.936200                 5.382400\n",
       "std                  3.343806                 2.296001\n",
       "min                  0.500000                 0.890000\n",
       "25%                  1.692500                 3.775000\n",
       "50%                  4.500000                 5.500000\n",
       "75%                  8.200000                 7.000000\n",
       "max                 10.000000                 9.700000"
      ]
     },
     "execution_count": 6,
     "metadata": {},
     "output_type": "execute_result"
    }
   ],
   "source": [
    "# Ver a estatistica descritiva da base \n",
    "\n",
    "dados.describe()"
   ]
  },
  {
   "cell_type": "code",
   "execution_count": 7,
   "id": "36e74a69",
   "metadata": {},
   "outputs": [
    {
     "data": {
      "text/plain": [
       "(100, 3)"
      ]
     },
     "execution_count": 7,
     "metadata": {},
     "output_type": "execute_result"
    }
   ],
   "source": [
    "# Ver a qtd da base \n",
    "\n",
    "dados.shape"
   ]
  },
  {
   "cell_type": "code",
   "execution_count": 8,
   "id": "9647d10f",
   "metadata": {},
   "outputs": [
    {
     "data": {
      "application/vnd.microsoft.datawrangler.viewer.v0+json": {
       "columns": [
        {
         "name": "Espécie",
         "rawType": "object",
         "type": "string"
        },
        {
         "name": "('Comprimento do Abdômen', 'count')",
         "rawType": "float64",
         "type": "float"
        },
        {
         "name": "('Comprimento do Abdômen', 'mean')",
         "rawType": "float64",
         "type": "float"
        },
        {
         "name": "('Comprimento do Abdômen', 'std')",
         "rawType": "float64",
         "type": "float"
        },
        {
         "name": "('Comprimento do Abdômen', 'min')",
         "rawType": "float64",
         "type": "float"
        },
        {
         "name": "('Comprimento do Abdômen', '25%')",
         "rawType": "float64",
         "type": "float"
        },
        {
         "name": "('Comprimento do Abdômen', '50%')",
         "rawType": "float64",
         "type": "float"
        },
        {
         "name": "('Comprimento do Abdômen', '75%')",
         "rawType": "float64",
         "type": "float"
        },
        {
         "name": "('Comprimento do Abdômen', 'max')",
         "rawType": "float64",
         "type": "float"
        },
        {
         "name": "('Comprimento das Antenas', 'count')",
         "rawType": "float64",
         "type": "float"
        },
        {
         "name": "('Comprimento das Antenas', 'mean')",
         "rawType": "float64",
         "type": "float"
        },
        {
         "name": "('Comprimento das Antenas', 'std')",
         "rawType": "float64",
         "type": "float"
        },
        {
         "name": "('Comprimento das Antenas', 'min')",
         "rawType": "float64",
         "type": "float"
        },
        {
         "name": "('Comprimento das Antenas', '25%')",
         "rawType": "float64",
         "type": "float"
        },
        {
         "name": "('Comprimento das Antenas', '50%')",
         "rawType": "float64",
         "type": "float"
        },
        {
         "name": "('Comprimento das Antenas', '75%')",
         "rawType": "float64",
         "type": "float"
        },
        {
         "name": "('Comprimento das Antenas', 'max')",
         "rawType": "float64",
         "type": "float"
        }
       ],
       "ref": "a0f96224-75d1-49ac-939b-3ea0ff9ebadc",
       "rows": [
        [
         "Esperança",
         "50.0",
         "8.120600000000001",
         "1.1297289001150241",
         "5.4",
         "7.225",
         "8.2",
         "9.0",
         "10.0",
         "50.0",
         "7.215599999999999",
         "1.3349450191231218",
         "4.5",
         "6.205",
         "7.0",
         "8.2",
         "9.7"
        ],
        [
         "Gafanhoto",
         "50.0",
         "1.7518",
         "0.7869410941832212",
         "0.5",
         "1.2",
         "1.685",
         "2.415",
         "3.6",
         "50.0",
         "3.5492000000000004",
         "1.41786105073229",
         "0.89",
         "2.55",
         "3.7699999999999996",
         "4.3",
         "7.0"
        ]
       ],
       "shape": {
        "columns": 16,
        "rows": 2
       }
      },
      "text/html": [
       "<div>\n",
       "<style scoped>\n",
       "    .dataframe tbody tr th:only-of-type {\n",
       "        vertical-align: middle;\n",
       "    }\n",
       "\n",
       "    .dataframe tbody tr th {\n",
       "        vertical-align: top;\n",
       "    }\n",
       "\n",
       "    .dataframe thead tr th {\n",
       "        text-align: left;\n",
       "    }\n",
       "\n",
       "    .dataframe thead tr:last-of-type th {\n",
       "        text-align: right;\n",
       "    }\n",
       "</style>\n",
       "<table border=\"1\" class=\"dataframe\">\n",
       "  <thead>\n",
       "    <tr>\n",
       "      <th></th>\n",
       "      <th colspan=\"8\" halign=\"left\">Comprimento do Abdômen</th>\n",
       "      <th colspan=\"8\" halign=\"left\">Comprimento das Antenas</th>\n",
       "    </tr>\n",
       "    <tr>\n",
       "      <th></th>\n",
       "      <th>count</th>\n",
       "      <th>mean</th>\n",
       "      <th>std</th>\n",
       "      <th>min</th>\n",
       "      <th>25%</th>\n",
       "      <th>50%</th>\n",
       "      <th>75%</th>\n",
       "      <th>max</th>\n",
       "      <th>count</th>\n",
       "      <th>mean</th>\n",
       "      <th>std</th>\n",
       "      <th>min</th>\n",
       "      <th>25%</th>\n",
       "      <th>50%</th>\n",
       "      <th>75%</th>\n",
       "      <th>max</th>\n",
       "    </tr>\n",
       "    <tr>\n",
       "      <th>Espécie</th>\n",
       "      <th></th>\n",
       "      <th></th>\n",
       "      <th></th>\n",
       "      <th></th>\n",
       "      <th></th>\n",
       "      <th></th>\n",
       "      <th></th>\n",
       "      <th></th>\n",
       "      <th></th>\n",
       "      <th></th>\n",
       "      <th></th>\n",
       "      <th></th>\n",
       "      <th></th>\n",
       "      <th></th>\n",
       "      <th></th>\n",
       "      <th></th>\n",
       "    </tr>\n",
       "  </thead>\n",
       "  <tbody>\n",
       "    <tr>\n",
       "      <th>Esperança</th>\n",
       "      <td>50.0</td>\n",
       "      <td>8.1206</td>\n",
       "      <td>1.129729</td>\n",
       "      <td>5.4</td>\n",
       "      <td>7.225</td>\n",
       "      <td>8.200</td>\n",
       "      <td>9.000</td>\n",
       "      <td>10.0</td>\n",
       "      <td>50.0</td>\n",
       "      <td>7.2156</td>\n",
       "      <td>1.334945</td>\n",
       "      <td>4.50</td>\n",
       "      <td>6.205</td>\n",
       "      <td>7.00</td>\n",
       "      <td>8.2</td>\n",
       "      <td>9.7</td>\n",
       "    </tr>\n",
       "    <tr>\n",
       "      <th>Gafanhoto</th>\n",
       "      <td>50.0</td>\n",
       "      <td>1.7518</td>\n",
       "      <td>0.786941</td>\n",
       "      <td>0.5</td>\n",
       "      <td>1.200</td>\n",
       "      <td>1.685</td>\n",
       "      <td>2.415</td>\n",
       "      <td>3.6</td>\n",
       "      <td>50.0</td>\n",
       "      <td>3.5492</td>\n",
       "      <td>1.417861</td>\n",
       "      <td>0.89</td>\n",
       "      <td>2.550</td>\n",
       "      <td>3.77</td>\n",
       "      <td>4.3</td>\n",
       "      <td>7.0</td>\n",
       "    </tr>\n",
       "  </tbody>\n",
       "</table>\n",
       "</div>"
      ],
      "text/plain": [
       "          Comprimento do Abdômen                                              \\\n",
       "                           count    mean       std  min    25%    50%    75%   \n",
       "Espécie                                                                        \n",
       "Esperança                   50.0  8.1206  1.129729  5.4  7.225  8.200  9.000   \n",
       "Gafanhoto                   50.0  1.7518  0.786941  0.5  1.200  1.685  2.415   \n",
       "\n",
       "                Comprimento das Antenas                                       \\\n",
       "            max                   count    mean       std   min    25%   50%   \n",
       "Espécie                                                                        \n",
       "Esperança  10.0                    50.0  7.2156  1.334945  4.50  6.205  7.00   \n",
       "Gafanhoto   3.6                    50.0  3.5492  1.417861  0.89  2.550  3.77   \n",
       "\n",
       "                     \n",
       "           75%  max  \n",
       "Espécie              \n",
       "Esperança  8.2  9.7  \n",
       "Gafanhoto  4.3  7.0  "
      ]
     },
     "execution_count": 8,
     "metadata": {},
     "output_type": "execute_result"
    }
   ],
   "source": [
    "# Agrupar os dados\n",
    "\n",
    "dados.groupby(\"Espécie\").describe()"
   ]
  },
  {
   "cell_type": "code",
   "execution_count": 9,
   "id": "be9d4db6",
   "metadata": {},
   "outputs": [
    {
     "data": {
      "image/png": "[encoded data removed]",
      "text/plain": [
       "<Figure size 640x480 with 1 Axes>"
      ]
     },
     "metadata": {},
     "output_type": "display_data"
    }
   ],
   "source": [
    "# Criar grafico de dispersão \n",
    "\n",
    "dados.plot.scatter(x = \"Comprimento do Abdômen\", y = \"Comprimento das Antenas\")\n",
    "plt.show()"
   ]
  },
  {
   "cell_type": "code",
   "execution_count": 10,
   "id": "ad8a6eb1",
   "metadata": {},
   "outputs": [
    {
     "data": {
      "application/vnd.microsoft.datawrangler.viewer.v0+json": {
       "columns": [
        {
         "name": "index",
         "rawType": "int64",
         "type": "integer"
        },
        {
         "name": "Comprimento do Abdômen",
         "rawType": "float64",
         "type": "float"
        },
        {
         "name": "Comprimento das Antenas",
         "rawType": "float64",
         "type": "float"
        }
       ],
       "ref": "e7aa411d-bba3-4e26-947f-2dd303a2c5dc",
       "rows": [
        [
         "0",
         "0.5",
         "7.0"
        ],
        [
         "1",
         "0.5",
         "6.0"
        ],
        [
         "2",
         "0.6",
         "5.5"
        ],
        [
         "3",
         "0.65",
         "4.5"
        ],
        [
         "4",
         "0.54",
         "3.2"
        ]
       ],
       "shape": {
        "columns": 2,
        "rows": 5
       }
      },
      "text/html": [
       "<div>\n",
       "<style scoped>\n",
       "    .dataframe tbody tr th:only-of-type {\n",
       "        vertical-align: middle;\n",
       "    }\n",
       "\n",
       "    .dataframe tbody tr th {\n",
       "        vertical-align: top;\n",
       "    }\n",
       "\n",
       "    .dataframe thead th {\n",
       "        text-align: right;\n",
       "    }\n",
       "</style>\n",
       "<table border=\"1\" class=\"dataframe\">\n",
       "  <thead>\n",
       "    <tr style=\"text-align: right;\">\n",
       "      <th></th>\n",
       "      <th>Comprimento do Abdômen</th>\n",
       "      <th>Comprimento das Antenas</th>\n",
       "    </tr>\n",
       "  </thead>\n",
       "  <tbody>\n",
       "    <tr>\n",
       "      <th>0</th>\n",
       "      <td>0.50</td>\n",
       "      <td>7.0</td>\n",
       "    </tr>\n",
       "    <tr>\n",
       "      <th>1</th>\n",
       "      <td>0.50</td>\n",
       "      <td>6.0</td>\n",
       "    </tr>\n",
       "    <tr>\n",
       "      <th>2</th>\n",
       "      <td>0.60</td>\n",
       "      <td>5.5</td>\n",
       "    </tr>\n",
       "    <tr>\n",
       "      <th>3</th>\n",
       "      <td>0.65</td>\n",
       "      <td>4.5</td>\n",
       "    </tr>\n",
       "    <tr>\n",
       "      <th>4</th>\n",
       "      <td>0.54</td>\n",
       "      <td>3.2</td>\n",
       "    </tr>\n",
       "  </tbody>\n",
       "</table>\n",
       "</div>"
      ],
      "text/plain": [
       "   Comprimento do Abdômen  Comprimento das Antenas\n",
       "0                    0.50                      7.0\n",
       "1                    0.50                      6.0\n",
       "2                    0.60                      5.5\n",
       "3                    0.65                      4.5\n",
       "4                    0.54                      3.2"
      ]
     },
     "execution_count": 10,
     "metadata": {},
     "output_type": "execute_result"
    }
   ],
   "source": [
    "# Selecionar as variaveis caracteristica \n",
    "\n",
    "x = dados[[\"Comprimento do Abdômen\",\"Comprimento das Antenas\"]] # --> dois colchete pois estamos selecionando mais de uma coluna\n",
    "x.head()"
   ]
  },
  {
   "cell_type": "code",
   "execution_count": 11,
   "id": "3091539d",
   "metadata": {},
   "outputs": [
    {
     "data": {
      "application/vnd.microsoft.datawrangler.viewer.v0+json": {
       "columns": [
        {
         "name": "index",
         "rawType": "int64",
         "type": "integer"
        },
        {
         "name": "Espécie",
         "rawType": "object",
         "type": "string"
        }
       ],
       "ref": "75c94d58-9e93-4d94-a369-38fe9b495f00",
       "rows": [
        [
         "0",
         "Gafanhoto"
        ],
        [
         "1",
         "Gafanhoto"
        ],
        [
         "2",
         "Gafanhoto"
        ],
        [
         "3",
         "Gafanhoto"
        ],
        [
         "4",
         "Gafanhoto"
        ]
       ],
       "shape": {
        "columns": 1,
        "rows": 5
       }
      },
      "text/plain": [
       "0    Gafanhoto\n",
       "1    Gafanhoto\n",
       "2    Gafanhoto\n",
       "3    Gafanhoto\n",
       "4    Gafanhoto\n",
       "Name: Espécie, dtype: object"
      ]
     },
     "execution_count": 11,
     "metadata": {},
     "output_type": "execute_result"
    }
   ],
   "source": [
    "# Selecionar a variavel target\n",
    "\n",
    "y = dados[\"Espécie\"]\n",
    "y.head()"
   ]
  },
  {
   "cell_type": "code",
   "execution_count": 12,
   "id": "24d7868a",
   "metadata": {},
   "outputs": [
    {
     "name": "stdout",
     "output_type": "stream",
     "text": [
      "Qtd de dados no y_train para Gafanhoto: 38 --> 47.50 %\n",
      "Qtd de dados no y_train para Esperança: 42 --> 52.50 %\n"
     ]
    }
   ],
   "source": [
    "# Separar os dados entre treino e teste \n",
    "# test_size    --> tamanho da base de teste  \n",
    "# random_state --> é a semente da aleatoriedade \n",
    "# exemplo sem usar o stratify\n",
    "\n",
    "x_train, x_test, y_train, y_test = train_test_split(x,y, test_size=0.2, random_state=42)\n",
    "\n",
    "qtd_gafanhoto = list(y_train).count(\"Gafanhoto\")\n",
    "qtd_esperanca = list(y_train).count(\"Esperança\")\n",
    "qtd = len(y_train)\n",
    "\n",
    "print(f\"Qtd de dados no y_train para Gafanhoto: {qtd_gafanhoto} --> {(qtd_gafanhoto/qtd) * 100:.2f} %\")\n",
    "print(f\"Qtd de dados no y_train para Esperança: {qtd_esperanca} --> {(qtd_esperanca/qtd) * 100:.2f} %\")"
   ]
  },
  {
   "cell_type": "code",
   "execution_count": 13,
   "id": "efd28e7c",
   "metadata": {},
   "outputs": [
    {
     "name": "stdout",
     "output_type": "stream",
     "text": [
      "Qtd de dados no y_train para Gafanhoto: 40 --> 50.00 %\n",
      "Qtd de dados no y_train para Esperança: 40 --> 50.00 %\n"
     ]
    }
   ],
   "source": [
    "\"\"\"\n",
    "\n",
    "A Semente da Reprodutibilidade: Desvendando o `random_state=42` em Machine Learning\n",
    "\n",
    "Ao se aventurar no universo do Machine Learning, é comum se deparar com o parâmetro `random_state` em diversas funções, sendo um dos exemplos mais clássicos o seu \n",
    "uso na divisão de dados de treino e teste com a função `train_test_split` da biblioteca Scikit-learn, frequentemente com o valor `42`. Mas, afinal, o que significa essa \"semente de aleatoriedade\" \n",
    "e por que ela é tão importante?\n",
    "\n",
    "Em essência, a **semente de aleatoriedade (random seed)** é um ponto de partida para um gerador de números pseudoaleatórios. Computadores, por sua natureza determinística, não conseguem gerar \n",
    "números verdadeiramente aleatórios. Em vez disso, eles utilizam algoritmos para criar sequências de números que aparentam ser aleatórias. A semente é o valor inicial que alimenta esse algoritmo.\n",
    "\n",
    "Isso significa que, ao fornecer a mesma semente para o gerador, ele produzirá sempre a mesma sequência de números \"aleatórios\". É aqui que reside a importância do `random_state` em \n",
    "Machine Learning: **garantir a reprodutibilidade dos resultados.**\n",
    "\n",
    "### O Papel do `random_state` no `train_test_split`\n",
    "\n",
    "A função `train_test_split` é fundamental para dividir um conjunto de dados em duas partes: uma para treinar o modelo e outra para testar sua performance em dados não vistos.\n",
    "Essa divisão é feita de forma aleatória para garantir que ambos os conjuntos sejam representativos da totalidade dos dados.\n",
    "\n",
    "Ao definir `random_state` com um valor inteiro, como `42`, estamos fixando a \"aleatoriedade\" dessa divisão. Em outras palavras, toda vez que o código for executado com `random_state=42`, a exata \n",
    "mesma separação entre dados de treino e teste será realizada. As mesmas linhas do seu conjunto de dados original serão alocadas para o conjunto de treino e as mesmas para o de teste, sempre.\n",
    "\n",
    "Se o parâmetro `random_state` não for definido (ou for `None`), a cada execução a divisão dos dados será diferente, pois o sistema utilizará uma semente aleatória diferente, geralmente baseada no tempo do sistema.\n",
    "\n",
    "### Por que a Reprodutibilidade é Crucial?\n",
    "\n",
    "A capacidade de reproduzir experimentos é um pilar da ciência, e no Machine Learning não é diferente. A utilização do `random_state` oferece diversas vantagens:\n",
    "\n",
    "* **Colaboração e Depuração:** Ao compartilhar seu código com outros pesquisadores ou colegas, o uso de uma semente de aleatoriedade garante que eles consigam replicar seus resultados exatamente. \n",
    "Isso facilita a depuração de problemas e a validação de suas conclusões.\n",
    "* **Comparação Justa de Modelos:** Ao experimentar diferentes algoritmos ou ajustar os hiperparâmetros de um modelo, é essencial que a comparação seja feita nas mesmas condições. Fixar o `random_state` \n",
    "garante que a única variável sendo alterada é o próprio modelo, e não a forma como os dados foram divididos, permitindo uma avaliação justa e precisa do desempenho.\n",
    "* **Consistência em Tutoriais e Publicações:** Em materiais educacionais e artigos científicos, o `random_state` é utilizado para que os leitores possam seguir os passos e obter os mesmos resultados apresentados, \n",
    "facilitando o aprendizado e a verificação.\n",
    "\n",
    "### E por que o número 42?\n",
    "\n",
    "A escolha do número `42` como valor para a semente de aleatoriedade é, na verdade, uma convenção e uma referência cultural popular na comunidade de tecnologia e ciência de dados. \n",
    "O número vem do livro de ficção científica \"O Guia do Mochileiro das Galáxias\", de Douglas Adams, onde `42` é a resposta para \"a questão fundamental da vida, o universo e tudo mais\".\n",
    "\n",
    "Qualquer outro número inteiro poderia ser utilizado como semente (`0`, `123`, `2024`, etc.) e o efeito seria o mesmo: a garantia de reprodutibilidade. \n",
    "O uso do `42` é simplesmente um aceno divertido a essa obra icônica.\n",
    "\n",
    "Em resumo, o `random_state=42` no `train_test_split` não é um parâmetro misterioso, mas sim uma ferramenta poderosa para assegurar que seus experimentos de Machine Learning sejam consistentes, \n",
    "verificáveis e comparáveis, trazendo mais rigor científico para o seu trabalho.\n",
    "\n",
    "\"\"\"\n",
    "\n",
    "# Separar os dados entre treino e teste \n",
    "# test_size    --> tamanho da base de teste  \n",
    "# stratify     --> equilibrio na separação \n",
    "# random_state --> é a semente da aleatoriedade \n",
    "\n",
    "x_train, x_test, y_train, y_test = train_test_split(x,y, test_size=0.2, stratify=y, random_state=42)\n",
    "\n",
    "qtd_gafanhoto = list(y_train).count(\"Gafanhoto\")\n",
    "qtd_esperanca = list(y_train).count(\"Esperança\")\n",
    "qtd = len(y_train)\n",
    "\n",
    "print(f\"Qtd de dados no y_train para Gafanhoto: {qtd_gafanhoto} --> {(qtd_gafanhoto/qtd) * 100:.2f} %\")\n",
    "print(f\"Qtd de dados no y_train para Esperança: {qtd_esperanca} --> {(qtd_esperanca/qtd) * 100:.2f} %\")\n"
   ]
  },
  {
   "cell_type": "code",
   "execution_count": 14,
   "id": "03d103db",
   "metadata": {},
   "outputs": [
    {
     "data": {
      "text/plain": [
       "array([7, 4, 8, 5, 7, 3, 7, 8, 5, 4])"
      ]
     },
     "execution_count": 14,
     "metadata": {},
     "output_type": "execute_result"
    }
   ],
   "source": [
    "# Exemplo de numeros aleatorios com semente\n",
    "np.random.seed(42)\n",
    "np.random.randint(low=1,high=10,size=10)"
   ]
  },
  {
   "cell_type": "code",
   "execution_count": 15,
   "id": "b44f1024",
   "metadata": {},
   "outputs": [
    {
     "data": {
      "text/plain": [
       "array([8, 8, 3, 6, 5, 2, 8, 6, 2, 5])"
      ]
     },
     "execution_count": 15,
     "metadata": {},
     "output_type": "execute_result"
    }
   ],
   "source": [
    "# Exemplo de numeros aleatorios sem semente\n",
    "np.random.randint(low=1,high=10,size=10)"
   ]
  },
  {
   "cell_type": "code",
   "execution_count": 16,
   "id": "4dcd6a24",
   "metadata": {},
   "outputs": [],
   "source": [
    "# Criar o modelo KNN --> -Nearest Neighbors, ou K Vizinhos Mais Próximos\n",
    "modelo_classificador = KNeighborsClassifier(n_neighbors=3) # --> n_neighbors é um hiperparemetro"
   ]
  },
  {
   "cell_type": "code",
   "execution_count": 17,
   "id": "e5a58130",
   "metadata": {},
   "outputs": [
    {
     "data": {
      "text/html": [
       "<style>#sk-container-id-1 {\n",
       "  /* Definition of color scheme common for light and dark mode */\n",
       "  --sklearn-color-text: #000;\n",
       "  --sklearn-color-text-muted: #666;\n",
       "  --sklearn-color-line: gray;\n",
       "  /* Definition of color scheme for unfitted estimators */\n",
       "  --sklearn-color-unfitted-level-0: #fff5e6;\n",
       "  --sklearn-color-unfitted-level-1: #f6e4d2;\n",
       "  --sklearn-color-unfitted-level-2: #ffe0b3;\n",
       "  --sklearn-color-unfitted-level-3: chocolate;\n",
       "  /* Definition of color scheme for fitted estimators */\n",
       "  --sklearn-color-fitted-level-0: #f0f8ff;\n",
       "  --sklearn-color-fitted-level-1: #d4ebff;\n",
       "  --sklearn-color-fitted-level-2: #b3dbfd;\n",
       "  --sklearn-color-fitted-level-3: cornflowerblue;\n",
       "\n",
       "  /* Specific color for light theme */\n",
       "  --sklearn-color-text-on-default-background: var(--sg-text-color, var(--theme-code-foreground, var(--jp-content-font-color1, black)));\n",
       "  --sklearn-color-background: var(--sg-background-color, var(--theme-background, var(--jp-layout-color0, white)));\n",
       "  --sklearn-color-border-box: var(--sg-text-color, var(--theme-code-foreground, var(--jp-content-font-color1, black)));\n",
       "  --sklearn-color-icon: #696969;\n",
       "\n",
       "  @media (prefers-color-scheme: dark) {\n",
       "    /* Redefinition of color scheme for dark theme */\n",
       "    --sklearn-color-text-on-default-background: var(--sg-text-color, var(--theme-code-foreground, var(--jp-content-font-color1, white)));\n",
       "    --sklearn-color-background: var(--sg-background-color, var(--theme-background, var(--jp-layout-color0, #111)));\n",
       "    --sklearn-color-border-box: var(--sg-text-color, var(--theme-code-foreground, var(--jp-content-font-color1, white)));\n",
       "    --sklearn-color-icon: #878787;\n",
       "  }\n",
       "}\n",
       "\n",
       "#sk-container-id-1 {\n",
       "  color: var(--sklearn-color-text);\n",
       "}\n",
       "\n",
       "#sk-container-id-1 pre {\n",
       "  padding: 0;\n",
       "}\n",
       "\n",
       "#sk-container-id-1 input.sk-hidden--visually {\n",
       "  border: 0;\n",
       "  clip: rect(1px 1px 1px 1px);\n",
       "  clip: rect(1px, 1px, 1px, 1px);\n",
       "  height: 1px;\n",
       "  margin: -1px;\n",
       "  overflow: hidden;\n",
       "  padding: 0;\n",
       "  position: absolute;\n",
       "  width: 1px;\n",
       "}\n",
       "\n",
       "#sk-container-id-1 div.sk-dashed-wrapped {\n",
       "  border: 1px dashed var(--sklearn-color-line);\n",
       "  margin: 0 0.4em 0.5em 0.4em;\n",
       "  box-sizing: border-box;\n",
       "  padding-bottom: 0.4em;\n",
       "  background-color: var(--sklearn-color-background);\n",
       "}\n",
       "\n",
       "#sk-container-id-1 div.sk-container {\n",
       "  /* jupyter's `normalize.less` sets `[hidden] { display: none; }`\n",
       "     but bootstrap.min.css set `[hidden] { display: none !important; }`\n",
       "     so we also need the `!important` here to be able to override the\n",
       "     default hidden behavior on the sphinx rendered scikit-learn.org.\n",
       "     See: https://github.com/scikit-learn/scikit-learn/issues/21755 */\n",
       "  display: inline-block !important;\n",
       "  position: relative;\n",
       "}\n",
       "\n",
       "#sk-container-id-1 div.sk-text-repr-fallback {\n",
       "  display: none;\n",
       "}\n",
       "\n",
       "div.sk-parallel-item,\n",
       "div.sk-serial,\n",
       "div.sk-item {\n",
       "  /* draw centered vertical line to link estimators */\n",
       "  background-image: linear-gradient(var(--sklearn-color-text-on-default-background), var(--sklearn-color-text-on-default-background));\n",
       "  background-size: 2px 100%;\n",
       "  background-repeat: no-repeat;\n",
       "  background-position: center center;\n",
       "}\n",
       "\n",
       "/* Parallel-specific style estimator block */\n",
       "\n",
       "#sk-container-id-1 div.sk-parallel-item::after {\n",
       "  content: \"\";\n",
       "  width: 100%;\n",
       "  border-bottom: 2px solid var(--sklearn-color-text-on-default-background);\n",
       "  flex-grow: 1;\n",
       "}\n",
       "\n",
       "#sk-container-id-1 div.sk-parallel {\n",
       "  display: flex;\n",
       "  align-items: stretch;\n",
       "  justify-content: center;\n",
       "  background-color: var(--sklearn-color-background);\n",
       "  position: relative;\n",
       "}\n",
       "\n",
       "#sk-container-id-1 div.sk-parallel-item {\n",
       "  display: flex;\n",
       "  flex-direction: column;\n",
       "}\n",
       "\n",
       "#sk-container-id-1 div.sk-parallel-item:first-child::after {\n",
       "  align-self: flex-end;\n",
       "  width: 50%;\n",
       "}\n",
       "\n",
       "#sk-container-id-1 div.sk-parallel-item:last-child::after {\n",
       "  align-self: flex-start;\n",
       "  width: 50%;\n",
       "}\n",
       "\n",
       "#sk-container-id-1 div.sk-parallel-item:only-child::after {\n",
       "  width: 0;\n",
       "}\n",
       "\n",
       "/* Serial-specific style estimator block */\n",
       "\n",
       "#sk-container-id-1 div.sk-serial {\n",
       "  display: flex;\n",
       "  flex-direction: column;\n",
       "  align-items: center;\n",
       "  background-color: var(--sklearn-color-background);\n",
       "  padding-right: 1em;\n",
       "  padding-left: 1em;\n",
       "}\n",
       "\n",
       "\n",
       "/* Toggleable style: style used for estimator/Pipeline/ColumnTransformer box that is\n",
       "clickable and can be expanded/collapsed.\n",
       "- Pipeline and ColumnTransformer use this feature and define the default style\n",
       "- Estimators will overwrite some part of the style using the `sk-estimator` class\n",
       "*/\n",
       "\n",
       "/* Pipeline and ColumnTransformer style (default) */\n",
       "\n",
       "#sk-container-id-1 div.sk-toggleable {\n",
       "  /* Default theme specific background. It is overwritten whether we have a\n",
       "  specific estimator or a Pipeline/ColumnTransformer */\n",
       "  background-color: var(--sklearn-color-background);\n",
       "}\n",
       "\n",
       "/* Toggleable label */\n",
       "#sk-container-id-1 label.sk-toggleable__label {\n",
       "  cursor: pointer;\n",
       "  display: flex;\n",
       "  width: 100%;\n",
       "  margin-bottom: 0;\n",
       "  padding: 0.5em;\n",
       "  box-sizing: border-box;\n",
       "  text-align: center;\n",
       "  align-items: start;\n",
       "  justify-content: space-between;\n",
       "  gap: 0.5em;\n",
       "}\n",
       "\n",
       "#sk-container-id-1 label.sk-toggleable__label .caption {\n",
       "  font-size: 0.6rem;\n",
       "  font-weight: lighter;\n",
       "  color: var(--sklearn-color-text-muted);\n",
       "}\n",
       "\n",
       "#sk-container-id-1 label.sk-toggleable__label-arrow:before {\n",
       "  /* Arrow on the left of the label */\n",
       "  content: \"▸\";\n",
       "  float: left;\n",
       "  margin-right: 0.25em;\n",
       "  color: var(--sklearn-color-icon);\n",
       "}\n",
       "\n",
       "#sk-container-id-1 label.sk-toggleable__label-arrow:hover:before {\n",
       "  color: var(--sklearn-color-text);\n",
       "}\n",
       "\n",
       "/* Toggleable content - dropdown */\n",
       "\n",
       "#sk-container-id-1 div.sk-toggleable__content {\n",
       "  display: none;\n",
       "  text-align: left;\n",
       "  /* unfitted */\n",
       "  background-color: var(--sklearn-color-unfitted-level-0);\n",
       "}\n",
       "\n",
       "#sk-container-id-1 div.sk-toggleable__content.fitted {\n",
       "  /* fitted */\n",
       "  background-color: var(--sklearn-color-fitted-level-0);\n",
       "}\n",
       "\n",
       "#sk-container-id-1 div.sk-toggleable__content pre {\n",
       "  margin: 0.2em;\n",
       "  border-radius: 0.25em;\n",
       "  color: var(--sklearn-color-text);\n",
       "  /* unfitted */\n",
       "  background-color: var(--sklearn-color-unfitted-level-0);\n",
       "}\n",
       "\n",
       "#sk-container-id-1 div.sk-toggleable__content.fitted pre {\n",
       "  /* unfitted */\n",
       "  background-color: var(--sklearn-color-fitted-level-0);\n",
       "}\n",
       "\n",
       "#sk-container-id-1 input.sk-toggleable__control:checked~div.sk-toggleable__content {\n",
       "  /* Expand drop-down */\n",
       "  display: block;\n",
       "  width: 100%;\n",
       "  overflow: visible;\n",
       "}\n",
       "\n",
       "#sk-container-id-1 input.sk-toggleable__control:checked~label.sk-toggleable__label-arrow:before {\n",
       "  content: \"▾\";\n",
       "}\n",
       "\n",
       "/* Pipeline/ColumnTransformer-specific style */\n",
       "\n",
       "#sk-container-id-1 div.sk-label input.sk-toggleable__control:checked~label.sk-toggleable__label {\n",
       "  color: var(--sklearn-color-text);\n",
       "  background-color: var(--sklearn-color-unfitted-level-2);\n",
       "}\n",
       "\n",
       "#sk-container-id-1 div.sk-label.fitted input.sk-toggleable__control:checked~label.sk-toggleable__label {\n",
       "  background-color: var(--sklearn-color-fitted-level-2);\n",
       "}\n",
       "\n",
       "/* Estimator-specific style */\n",
       "\n",
       "/* Colorize estimator box */\n",
       "#sk-container-id-1 div.sk-estimator input.sk-toggleable__control:checked~label.sk-toggleable__label {\n",
       "  /* unfitted */\n",
       "  background-color: var(--sklearn-color-unfitted-level-2);\n",
       "}\n",
       "\n",
       "#sk-container-id-1 div.sk-estimator.fitted input.sk-toggleable__control:checked~label.sk-toggleable__label {\n",
       "  /* fitted */\n",
       "  background-color: var(--sklearn-color-fitted-level-2);\n",
       "}\n",
       "\n",
       "#sk-container-id-1 div.sk-label label.sk-toggleable__label,\n",
       "#sk-container-id-1 div.sk-label label {\n",
       "  /* The background is the default theme color */\n",
       "  color: var(--sklearn-color-text-on-default-background);\n",
       "}\n",
       "\n",
       "/* On hover, darken the color of the background */\n",
       "#sk-container-id-1 div.sk-label:hover label.sk-toggleable__label {\n",
       "  color: var(--sklearn-color-text);\n",
       "  background-color: var(--sklearn-color-unfitted-level-2);\n",
       "}\n",
       "\n",
       "/* Label box, darken color on hover, fitted */\n",
       "#sk-container-id-1 div.sk-label.fitted:hover label.sk-toggleable__label.fitted {\n",
       "  color: var(--sklearn-color-text);\n",
       "  background-color: var(--sklearn-color-fitted-level-2);\n",
       "}\n",
       "\n",
       "/* Estimator label */\n",
       "\n",
       "#sk-container-id-1 div.sk-label label {\n",
       "  font-family: monospace;\n",
       "  font-weight: bold;\n",
       "  display: inline-block;\n",
       "  line-height: 1.2em;\n",
       "}\n",
       "\n",
       "#sk-container-id-1 div.sk-label-container {\n",
       "  text-align: center;\n",
       "}\n",
       "\n",
       "/* Estimator-specific */\n",
       "#sk-container-id-1 div.sk-estimator {\n",
       "  font-family: monospace;\n",
       "  border: 1px dotted var(--sklearn-color-border-box);\n",
       "  border-radius: 0.25em;\n",
       "  box-sizing: border-box;\n",
       "  margin-bottom: 0.5em;\n",
       "  /* unfitted */\n",
       "  background-color: var(--sklearn-color-unfitted-level-0);\n",
       "}\n",
       "\n",
       "#sk-container-id-1 div.sk-estimator.fitted {\n",
       "  /* fitted */\n",
       "  background-color: var(--sklearn-color-fitted-level-0);\n",
       "}\n",
       "\n",
       "/* on hover */\n",
       "#sk-container-id-1 div.sk-estimator:hover {\n",
       "  /* unfitted */\n",
       "  background-color: var(--sklearn-color-unfitted-level-2);\n",
       "}\n",
       "\n",
       "#sk-container-id-1 div.sk-estimator.fitted:hover {\n",
       "  /* fitted */\n",
       "  background-color: var(--sklearn-color-fitted-level-2);\n",
       "}\n",
       "\n",
       "/* Specification for estimator info (e.g. \"i\" and \"?\") */\n",
       "\n",
       "/* Common style for \"i\" and \"?\" */\n",
       "\n",
       ".sk-estimator-doc-link,\n",
       "a:link.sk-estimator-doc-link,\n",
       "a:visited.sk-estimator-doc-link {\n",
       "  float: right;\n",
       "  font-size: smaller;\n",
       "  line-height: 1em;\n",
       "  font-family: monospace;\n",
       "  background-color: var(--sklearn-color-background);\n",
       "  border-radius: 1em;\n",
       "  height: 1em;\n",
       "  width: 1em;\n",
       "  text-decoration: none !important;\n",
       "  margin-left: 0.5em;\n",
       "  text-align: center;\n",
       "  /* unfitted */\n",
       "  border: var(--sklearn-color-unfitted-level-1) 1pt solid;\n",
       "  color: var(--sklearn-color-unfitted-level-1);\n",
       "}\n",
       "\n",
       ".sk-estimator-doc-link.fitted,\n",
       "a:link.sk-estimator-doc-link.fitted,\n",
       "a:visited.sk-estimator-doc-link.fitted {\n",
       "  /* fitted */\n",
       "  border: var(--sklearn-color-fitted-level-1) 1pt solid;\n",
       "  color: var(--sklearn-color-fitted-level-1);\n",
       "}\n",
       "\n",
       "/* On hover */\n",
       "div.sk-estimator:hover .sk-estimator-doc-link:hover,\n",
       ".sk-estimator-doc-link:hover,\n",
       "div.sk-label-container:hover .sk-estimator-doc-link:hover,\n",
       ".sk-estimator-doc-link:hover {\n",
       "  /* unfitted */\n",
       "  background-color: var(--sklearn-color-unfitted-level-3);\n",
       "  color: var(--sklearn-color-background);\n",
       "  text-decoration: none;\n",
       "}\n",
       "\n",
       "div.sk-estimator.fitted:hover .sk-estimator-doc-link.fitted:hover,\n",
       ".sk-estimator-doc-link.fitted:hover,\n",
       "div.sk-label-container:hover .sk-estimator-doc-link.fitted:hover,\n",
       ".sk-estimator-doc-link.fitted:hover {\n",
       "  /* fitted */\n",
       "  background-color: var(--sklearn-color-fitted-level-3);\n",
       "  color: var(--sklearn-color-background);\n",
       "  text-decoration: none;\n",
       "}\n",
       "\n",
       "/* Span, style for the box shown on hovering the info icon */\n",
       ".sk-estimator-doc-link span {\n",
       "  display: none;\n",
       "  z-index: 9999;\n",
       "  position: relative;\n",
       "  font-weight: normal;\n",
       "  right: .2ex;\n",
       "  padding: .5ex;\n",
       "  margin: .5ex;\n",
       "  width: min-content;\n",
       "  min-width: 20ex;\n",
       "  max-width: 50ex;\n",
       "  color: var(--sklearn-color-text);\n",
       "  box-shadow: 2pt 2pt 4pt #999;\n",
       "  /* unfitted */\n",
       "  background: var(--sklearn-color-unfitted-level-0);\n",
       "  border: .5pt solid var(--sklearn-color-unfitted-level-3);\n",
       "}\n",
       "\n",
       ".sk-estimator-doc-link.fitted span {\n",
       "  /* fitted */\n",
       "  background: var(--sklearn-color-fitted-level-0);\n",
       "  border: var(--sklearn-color-fitted-level-3);\n",
       "}\n",
       "\n",
       ".sk-estimator-doc-link:hover span {\n",
       "  display: block;\n",
       "}\n",
       "\n",
       "/* \"?\"-specific style due to the `<a>` HTML tag */\n",
       "\n",
       "#sk-container-id-1 a.estimator_doc_link {\n",
       "  float: right;\n",
       "  font-size: 1rem;\n",
       "  line-height: 1em;\n",
       "  font-family: monospace;\n",
       "  background-color: var(--sklearn-color-background);\n",
       "  border-radius: 1rem;\n",
       "  height: 1rem;\n",
       "  width: 1rem;\n",
       "  text-decoration: none;\n",
       "  /* unfitted */\n",
       "  color: var(--sklearn-color-unfitted-level-1);\n",
       "  border: var(--sklearn-color-unfitted-level-1) 1pt solid;\n",
       "}\n",
       "\n",
       "#sk-container-id-1 a.estimator_doc_link.fitted {\n",
       "  /* fitted */\n",
       "  border: var(--sklearn-color-fitted-level-1) 1pt solid;\n",
       "  color: var(--sklearn-color-fitted-level-1);\n",
       "}\n",
       "\n",
       "/* On hover */\n",
       "#sk-container-id-1 a.estimator_doc_link:hover {\n",
       "  /* unfitted */\n",
       "  background-color: var(--sklearn-color-unfitted-level-3);\n",
       "  color: var(--sklearn-color-background);\n",
       "  text-decoration: none;\n",
       "}\n",
       "\n",
       "#sk-container-id-1 a.estimator_doc_link.fitted:hover {\n",
       "  /* fitted */\n",
       "  background-color: var(--sklearn-color-fitted-level-3);\n",
       "}\n",
       "\n",
       ".estimator-table summary {\n",
       "    padding: .5rem;\n",
       "    font-family: monospace;\n",
       "    cursor: pointer;\n",
       "}\n",
       "\n",
       ".estimator-table details[open] {\n",
       "    padding-left: 0.1rem;\n",
       "    padding-right: 0.1rem;\n",
       "    padding-bottom: 0.3rem;\n",
       "}\n",
       "\n",
       ".estimator-table .parameters-table {\n",
       "    margin-left: auto !important;\n",
       "    margin-right: auto !important;\n",
       "}\n",
       "\n",
       ".estimator-table .parameters-table tr:nth-child(odd) {\n",
       "    background-color: #fff;\n",
       "}\n",
       "\n",
       ".estimator-table .parameters-table tr:nth-child(even) {\n",
       "    background-color: #f6f6f6;\n",
       "}\n",
       "\n",
       ".estimator-table .parameters-table tr:hover {\n",
       "    background-color: #e0e0e0;\n",
       "}\n",
       "\n",
       ".estimator-table table td {\n",
       "    border: 1px solid rgba(106, 105, 104, 0.232);\n",
       "}\n",
       "\n",
       ".user-set td {\n",
       "    color:rgb(255, 94, 0);\n",
       "    text-align: left;\n",
       "}\n",
       "\n",
       ".user-set td.value pre {\n",
       "    color:rgb(255, 94, 0) !important;\n",
       "    background-color: transparent !important;\n",
       "}\n",
       "\n",
       ".default td {\n",
       "    color: black;\n",
       "    text-align: left;\n",
       "}\n",
       "\n",
       ".user-set td i,\n",
       ".default td i {\n",
       "    color: black;\n",
       "}\n",
       "\n",
       ".copy-paste-icon {\n",
       "    background-image: url(data:image/svg+xml;base64,PHN2ZyB4bWxucz0iaHR0cDovL3d3dy53My5vcmcvMjAwMC9zdmciIHZpZXdCb3g9IjAgMCA0NDggNTEyIj48IS0tIUZvbnQgQXdlc29tZSBGcmVlIDYuNy4yIGJ5IEBmb250YXdlc29tZSAtIGh0dHBzOi8vZm9udGF3ZXNvbWUuY29tIExpY2Vuc2UgLSBodHRwczovL2ZvbnRhd2Vzb21lLmNvbS9saWNlbnNlL2ZyZWUgQ29weXJpZ2h0IDIwMjUgRm9udGljb25zLCBJbmMuLS0+PHBhdGggZD0iTTIwOCAwTDMzMi4xIDBjMTIuNyAwIDI0LjkgNS4xIDMzLjkgMTQuMWw2Ny45IDY3LjljOSA5IDE0LjEgMjEuMiAxNC4xIDMzLjlMNDQ4IDMzNmMwIDI2LjUtMjEuNSA0OC00OCA0OGwtMTkyIDBjLTI2LjUgMC00OC0yMS41LTQ4LTQ4bDAtMjg4YzAtMjYuNSAyMS41LTQ4IDQ4LTQ4ek00OCAxMjhsODAgMCAwIDY0LTY0IDAgMCAyNTYgMTkyIDAgMC0zMiA2NCAwIDAgNDhjMCAyNi41LTIxLjUgNDgtNDggNDhMNDggNTEyYy0yNi41IDAtNDgtMjEuNS00OC00OEwwIDE3NmMwLTI2LjUgMjEuNS00OCA0OC00OHoiLz48L3N2Zz4=);\n",
       "    background-repeat: no-repeat;\n",
       "    background-size: 14px 14px;\n",
       "    background-position: 0;\n",
       "    display: inline-block;\n",
       "    width: 14px;\n",
       "    height: 14px;\n",
       "    cursor: pointer;\n",
       "}\n",
       "</style><body><div id=\"sk-container-id-1\" class=\"sk-top-container\"><div class=\"sk-text-repr-fallback\"><pre>KNeighborsClassifier(n_neighbors=3)</pre><b>In a Jupyter environment, please rerun this cell to show the HTML representation or trust the notebook. <br />On GitHub, the HTML representation is unable to render, please try loading this page with nbviewer.org.</b></div><div class=\"sk-container\" hidden><div class=\"sk-item\"><div class=\"sk-estimator fitted sk-toggleable\"><input class=\"sk-toggleable__control sk-hidden--visually\" id=\"sk-estimator-id-1\" type=\"checkbox\" checked><label for=\"sk-estimator-id-1\" class=\"sk-toggleable__label fitted sk-toggleable__label-arrow\"><div><div>KNeighborsClassifier</div></div><div><a class=\"sk-estimator-doc-link fitted\" rel=\"noreferrer\" target=\"_blank\" href=\"https://scikit-learn.org/1.7/modules/generated/sklearn.neighbors.KNeighborsClassifier.html\">?<span>Documentation for KNeighborsClassifier</span></a><span class=\"sk-estimator-doc-link fitted\">i<span>Fitted</span></span></div></label><div class=\"sk-toggleable__content fitted\" data-param-prefix=\"\">\n",
       "        <div class=\"estimator-table\">\n",
       "            <details>\n",
       "                <summary>Parameters</summary>\n",
       "                <table class=\"parameters-table\">\n",
       "                  <tbody>\n",
       "                    \n",
       "        <tr class=\"user-set\">\n",
       "            <td><i class=\"copy-paste-icon\"\n",
       "                 onclick=\"copyToClipboard('n_neighbors',\n",
       "                          this.parentElement.nextElementSibling)\"\n",
       "            ></i></td>\n",
       "            <td class=\"param\">n_neighbors&nbsp;</td>\n",
       "            <td class=\"value\">3</td>\n",
       "        </tr>\n",
       "    \n",
       "\n",
       "        <tr class=\"default\">\n",
       "            <td><i class=\"copy-paste-icon\"\n",
       "                 onclick=\"copyToClipboard('weights',\n",
       "                          this.parentElement.nextElementSibling)\"\n",
       "            ></i></td>\n",
       "            <td class=\"param\">weights&nbsp;</td>\n",
       "            <td class=\"value\">&#x27;uniform&#x27;</td>\n",
       "        </tr>\n",
       "    \n",
       "\n",
       "        <tr class=\"default\">\n",
       "            <td><i class=\"copy-paste-icon\"\n",
       "                 onclick=\"copyToClipboard('algorithm',\n",
       "                          this.parentElement.nextElementSibling)\"\n",
       "            ></i></td>\n",
       "            <td class=\"param\">algorithm&nbsp;</td>\n",
       "            <td class=\"value\">&#x27;auto&#x27;</td>\n",
       "        </tr>\n",
       "    \n",
       "\n",
       "        <tr class=\"default\">\n",
       "            <td><i class=\"copy-paste-icon\"\n",
       "                 onclick=\"copyToClipboard('leaf_size',\n",
       "                          this.parentElement.nextElementSibling)\"\n",
       "            ></i></td>\n",
       "            <td class=\"param\">leaf_size&nbsp;</td>\n",
       "            <td class=\"value\">30</td>\n",
       "        </tr>\n",
       "    \n",
       "\n",
       "        <tr class=\"default\">\n",
       "            <td><i class=\"copy-paste-icon\"\n",
       "                 onclick=\"copyToClipboard('p',\n",
       "                          this.parentElement.nextElementSibling)\"\n",
       "            ></i></td>\n",
       "            <td class=\"param\">p&nbsp;</td>\n",
       "            <td class=\"value\">2</td>\n",
       "        </tr>\n",
       "    \n",
       "\n",
       "        <tr class=\"default\">\n",
       "            <td><i class=\"copy-paste-icon\"\n",
       "                 onclick=\"copyToClipboard('metric',\n",
       "                          this.parentElement.nextElementSibling)\"\n",
       "            ></i></td>\n",
       "            <td class=\"param\">metric&nbsp;</td>\n",
       "            <td class=\"value\">&#x27;minkowski&#x27;</td>\n",
       "        </tr>\n",
       "    \n",
       "\n",
       "        <tr class=\"default\">\n",
       "            <td><i class=\"copy-paste-icon\"\n",
       "                 onclick=\"copyToClipboard('metric_params',\n",
       "                          this.parentElement.nextElementSibling)\"\n",
       "            ></i></td>\n",
       "            <td class=\"param\">metric_params&nbsp;</td>\n",
       "            <td class=\"value\">None</td>\n",
       "        </tr>\n",
       "    \n",
       "\n",
       "        <tr class=\"default\">\n",
       "            <td><i class=\"copy-paste-icon\"\n",
       "                 onclick=\"copyToClipboard('n_jobs',\n",
       "                          this.parentElement.nextElementSibling)\"\n",
       "            ></i></td>\n",
       "            <td class=\"param\">n_jobs&nbsp;</td>\n",
       "            <td class=\"value\">None</td>\n",
       "        </tr>\n",
       "    \n",
       "                  </tbody>\n",
       "                </table>\n",
       "            </details>\n",
       "        </div>\n",
       "    </div></div></div></div></div><script>function copyToClipboard(text, element) {\n",
       "    // Get the parameter prefix from the closest toggleable content\n",
       "    const toggleableContent = element.closest('.sk-toggleable__content');\n",
       "    const paramPrefix = toggleableContent ? toggleableContent.dataset.paramPrefix : '';\n",
       "    const fullParamName = paramPrefix ? `${paramPrefix}${text}` : text;\n",
       "\n",
       "    const originalStyle = element.style;\n",
       "    const computedStyle = window.getComputedStyle(element);\n",
       "    const originalWidth = computedStyle.width;\n",
       "    const originalHTML = element.innerHTML.replace('Copied!', '');\n",
       "\n",
       "    navigator.clipboard.writeText(fullParamName)\n",
       "        .then(() => {\n",
       "            element.style.width = originalWidth;\n",
       "            element.style.color = 'green';\n",
       "            element.innerHTML = \"Copied!\";\n",
       "\n",
       "            setTimeout(() => {\n",
       "                element.innerHTML = originalHTML;\n",
       "                element.style = originalStyle;\n",
       "            }, 2000);\n",
       "        })\n",
       "        .catch(err => {\n",
       "            console.error('Failed to copy:', err);\n",
       "            element.style.color = 'red';\n",
       "            element.innerHTML = \"Failed!\";\n",
       "            setTimeout(() => {\n",
       "                element.innerHTML = originalHTML;\n",
       "                element.style = originalStyle;\n",
       "            }, 2000);\n",
       "        });\n",
       "    return false;\n",
       "}\n",
       "\n",
       "document.querySelectorAll('.fa-regular.fa-copy').forEach(function(element) {\n",
       "    const toggleableContent = element.closest('.sk-toggleable__content');\n",
       "    const paramPrefix = toggleableContent ? toggleableContent.dataset.paramPrefix : '';\n",
       "    const paramName = element.parentElement.nextElementSibling.textContent.trim();\n",
       "    const fullParamName = paramPrefix ? `${paramPrefix}${paramName}` : paramName;\n",
       "\n",
       "    element.setAttribute('title', fullParamName);\n",
       "});\n",
       "</script></body>"
      ],
      "text/plain": [
       "KNeighborsClassifier(n_neighbors=3)"
      ]
     },
     "execution_count": 17,
     "metadata": {},
     "output_type": "execute_result"
    }
   ],
   "source": [
    "# Treinar (fit) o modelo\n",
    "modelo_classificador.fit(x_train,y_train)"
   ]
  },
  {
   "cell_type": "code",
   "execution_count": 18,
   "id": "1c8e6c7c",
   "metadata": {},
   "outputs": [
    {
     "data": {
      "text/plain": [
       "array(['Esperança'], dtype=object)"
      ]
     },
     "execution_count": 18,
     "metadata": {},
     "output_type": "execute_result"
    }
   ],
   "source": [
    "# Realizar as previsões\n",
    "# modelo_classificador.predict([[8,6]]) --> Essa forma gera um warnings\n",
    "\n",
    "# Dessa forma não gera o warnings\n",
    "modelo_classificador.predict(pd.DataFrame([[8,6]], columns=[\"Comprimento do Abdômen\", \"Comprimento das Antenas\"]))"
   ]
  },
  {
   "cell_type": "code",
   "execution_count": 19,
   "id": "d531bac8",
   "metadata": {},
   "outputs": [],
   "source": [
    "# Verificar a acuracidade\n",
    "y_predito = modelo_classificador.predict(x_test)"
   ]
  },
  {
   "cell_type": "code",
   "execution_count": 20,
   "id": "8c462b2f",
   "metadata": {},
   "outputs": [
    {
     "data": {
      "text/plain": [
       "1.0"
      ]
     },
     "execution_count": 20,
     "metadata": {},
     "output_type": "execute_result"
    }
   ],
   "source": [
    "# Verificar a acuracidade\n",
    "accuracy_score(y_true=y_test, y_pred=y_predito)"
   ]
  },
  {
   "cell_type": "markdown",
   "id": "8270aadc",
   "metadata": {},
   "source": [
    "#### Aula 2 - KNN, SVM"
   ]
  },
  {
   "cell_type": "code",
   "execution_count": 21,
   "id": "770006cd",
   "metadata": {},
   "outputs": [],
   "source": [
    "# Usando a engine calamine devido a sua melhor performace se comparada com o openpyxl\n",
    "link = \"https://github.com/FIAP/Pos_Tech_DTAT/raw/073d3c7ab0cd105f8ad2fb347c0f02cb36773ee4/Aula%2002/Base%20de%20Dados/Recrutamento.xlsx\"\n",
    "dados = pd.read_excel(link, engine= \"calamine\")"
   ]
  },
  {
   "cell_type": "code",
   "execution_count": 22,
   "id": "812af1ab",
   "metadata": {},
   "outputs": [
    {
     "data": {
      "application/vnd.microsoft.datawrangler.viewer.v0+json": {
       "columns": [
        {
         "name": "index",
         "rawType": "int64",
         "type": "integer"
        },
        {
         "name": "sl_no",
         "rawType": "int64",
         "type": "integer"
        },
        {
         "name": "gender",
         "rawType": "object",
         "type": "string"
        },
        {
         "name": "ssc_p",
         "rawType": "float64",
         "type": "float"
        },
        {
         "name": "ssc_b",
         "rawType": "object",
         "type": "string"
        },
        {
         "name": "hsc_p",
         "rawType": "float64",
         "type": "float"
        },
        {
         "name": "hsc_b",
         "rawType": "object",
         "type": "string"
        },
        {
         "name": "hsc_s",
         "rawType": "object",
         "type": "string"
        },
        {
         "name": "degree_p",
         "rawType": "float64",
         "type": "float"
        },
        {
         "name": "degree_t",
         "rawType": "object",
         "type": "string"
        },
        {
         "name": "workex",
         "rawType": "object",
         "type": "string"
        },
        {
         "name": "etest_p",
         "rawType": "float64",
         "type": "float"
        },
        {
         "name": "specialisation",
         "rawType": "object",
         "type": "string"
        },
        {
         "name": "mba_p",
         "rawType": "float64",
         "type": "float"
        },
        {
         "name": "status",
         "rawType": "object",
         "type": "string"
        },
        {
         "name": "salary",
         "rawType": "float64",
         "type": "float"
        }
       ],
       "ref": "dc8a92a1-6ab0-4fa2-84eb-33288a0e7d9d",
       "rows": [
        [
         "0",
         "1",
         "M",
         "67.0",
         "Others",
         "91.0",
         "Others",
         "Commerce",
         "58.0",
         "Sci&Tech",
         "No",
         "55.0",
         "Mkt&HR",
         "58.8",
         "Yes",
         "270000.0"
        ],
        [
         "1",
         "2",
         "M",
         "79.33",
         "Central",
         "78.33",
         "Others",
         "Science",
         "77.48",
         "Sci&Tech",
         "Yes",
         "86.5",
         "Mkt&Fin",
         "66.28",
         "Yes",
         "200000.0"
        ],
        [
         "2",
         "3",
         "M",
         "65.0",
         "Central",
         "68.0",
         "Central",
         "Arts",
         "64.0",
         "Comm&Mgmt",
         "No",
         "75.0",
         "Mkt&Fin",
         "57.8",
         "Yes",
         "250000.0"
        ],
        [
         "3",
         "4",
         "M",
         "56.0",
         "Central",
         "52.0",
         "Central",
         "Science",
         "52.0",
         "Sci&Tech",
         "No",
         "66.0",
         "Mkt&HR",
         "59.43",
         "No",
         null
        ],
        [
         "4",
         "5",
         "M",
         "85.8",
         "Central",
         "73.6",
         "Central",
         "Commerce",
         "73.3",
         "Comm&Mgmt",
         "No",
         "96.8",
         "Mkt&Fin",
         "55.5",
         "Yes",
         "425000.0"
        ]
       ],
       "shape": {
        "columns": 15,
        "rows": 5
       }
      },
      "text/html": [
       "<div>\n",
       "<style scoped>\n",
       "    .dataframe tbody tr th:only-of-type {\n",
       "        vertical-align: middle;\n",
       "    }\n",
       "\n",
       "    .dataframe tbody tr th {\n",
       "        vertical-align: top;\n",
       "    }\n",
       "\n",
       "    .dataframe thead th {\n",
       "        text-align: right;\n",
       "    }\n",
       "</style>\n",
       "<table border=\"1\" class=\"dataframe\">\n",
       "  <thead>\n",
       "    <tr style=\"text-align: right;\">\n",
       "      <th></th>\n",
       "      <th>sl_no</th>\n",
       "      <th>gender</th>\n",
       "      <th>ssc_p</th>\n",
       "      <th>ssc_b</th>\n",
       "      <th>hsc_p</th>\n",
       "      <th>hsc_b</th>\n",
       "      <th>hsc_s</th>\n",
       "      <th>degree_p</th>\n",
       "      <th>degree_t</th>\n",
       "      <th>workex</th>\n",
       "      <th>etest_p</th>\n",
       "      <th>specialisation</th>\n",
       "      <th>mba_p</th>\n",
       "      <th>status</th>\n",
       "      <th>salary</th>\n",
       "    </tr>\n",
       "  </thead>\n",
       "  <tbody>\n",
       "    <tr>\n",
       "      <th>0</th>\n",
       "      <td>1</td>\n",
       "      <td>M</td>\n",
       "      <td>67.00</td>\n",
       "      <td>Others</td>\n",
       "      <td>91.00</td>\n",
       "      <td>Others</td>\n",
       "      <td>Commerce</td>\n",
       "      <td>58.00</td>\n",
       "      <td>Sci&amp;Tech</td>\n",
       "      <td>No</td>\n",
       "      <td>55.0</td>\n",
       "      <td>Mkt&amp;HR</td>\n",
       "      <td>58.80</td>\n",
       "      <td>Yes</td>\n",
       "      <td>270000.0</td>\n",
       "    </tr>\n",
       "    <tr>\n",
       "      <th>1</th>\n",
       "      <td>2</td>\n",
       "      <td>M</td>\n",
       "      <td>79.33</td>\n",
       "      <td>Central</td>\n",
       "      <td>78.33</td>\n",
       "      <td>Others</td>\n",
       "      <td>Science</td>\n",
       "      <td>77.48</td>\n",
       "      <td>Sci&amp;Tech</td>\n",
       "      <td>Yes</td>\n",
       "      <td>86.5</td>\n",
       "      <td>Mkt&amp;Fin</td>\n",
       "      <td>66.28</td>\n",
       "      <td>Yes</td>\n",
       "      <td>200000.0</td>\n",
       "    </tr>\n",
       "    <tr>\n",
       "      <th>2</th>\n",
       "      <td>3</td>\n",
       "      <td>M</td>\n",
       "      <td>65.00</td>\n",
       "      <td>Central</td>\n",
       "      <td>68.00</td>\n",
       "      <td>Central</td>\n",
       "      <td>Arts</td>\n",
       "      <td>64.00</td>\n",
       "      <td>Comm&amp;Mgmt</td>\n",
       "      <td>No</td>\n",
       "      <td>75.0</td>\n",
       "      <td>Mkt&amp;Fin</td>\n",
       "      <td>57.80</td>\n",
       "      <td>Yes</td>\n",
       "      <td>250000.0</td>\n",
       "    </tr>\n",
       "    <tr>\n",
       "      <th>3</th>\n",
       "      <td>4</td>\n",
       "      <td>M</td>\n",
       "      <td>56.00</td>\n",
       "      <td>Central</td>\n",
       "      <td>52.00</td>\n",
       "      <td>Central</td>\n",
       "      <td>Science</td>\n",
       "      <td>52.00</td>\n",
       "      <td>Sci&amp;Tech</td>\n",
       "      <td>No</td>\n",
       "      <td>66.0</td>\n",
       "      <td>Mkt&amp;HR</td>\n",
       "      <td>59.43</td>\n",
       "      <td>No</td>\n",
       "      <td>NaN</td>\n",
       "    </tr>\n",
       "    <tr>\n",
       "      <th>4</th>\n",
       "      <td>5</td>\n",
       "      <td>M</td>\n",
       "      <td>85.80</td>\n",
       "      <td>Central</td>\n",
       "      <td>73.60</td>\n",
       "      <td>Central</td>\n",
       "      <td>Commerce</td>\n",
       "      <td>73.30</td>\n",
       "      <td>Comm&amp;Mgmt</td>\n",
       "      <td>No</td>\n",
       "      <td>96.8</td>\n",
       "      <td>Mkt&amp;Fin</td>\n",
       "      <td>55.50</td>\n",
       "      <td>Yes</td>\n",
       "      <td>425000.0</td>\n",
       "    </tr>\n",
       "  </tbody>\n",
       "</table>\n",
       "</div>"
      ],
      "text/plain": [
       "   sl_no gender  ssc_p    ssc_b  hsc_p    hsc_b     hsc_s  degree_p  \\\n",
       "0      1      M  67.00   Others  91.00   Others  Commerce     58.00   \n",
       "1      2      M  79.33  Central  78.33   Others   Science     77.48   \n",
       "2      3      M  65.00  Central  68.00  Central      Arts     64.00   \n",
       "3      4      M  56.00  Central  52.00  Central   Science     52.00   \n",
       "4      5      M  85.80  Central  73.60  Central  Commerce     73.30   \n",
       "\n",
       "    degree_t workex  etest_p specialisation  mba_p status    salary  \n",
       "0   Sci&Tech     No     55.0         Mkt&HR  58.80    Yes  270000.0  \n",
       "1   Sci&Tech    Yes     86.5        Mkt&Fin  66.28    Yes  200000.0  \n",
       "2  Comm&Mgmt     No     75.0        Mkt&Fin  57.80    Yes  250000.0  \n",
       "3   Sci&Tech     No     66.0         Mkt&HR  59.43     No       NaN  \n",
       "4  Comm&Mgmt     No     96.8        Mkt&Fin  55.50    Yes  425000.0  "
      ]
     },
     "execution_count": 22,
     "metadata": {},
     "output_type": "execute_result"
    }
   ],
   "source": [
    "# Consultar os dados\n",
    "dados.head()"
   ]
  },
  {
   "cell_type": "code",
   "execution_count": 23,
   "id": "1390b412",
   "metadata": {},
   "outputs": [
    {
     "data": {
      "text/plain": [
       "{'No', 'Yes'}"
      ]
     },
     "execution_count": 23,
     "metadata": {},
     "output_type": "execute_result"
    }
   ],
   "source": [
    "# Campo/Coluna Status é o nosso target \n",
    "# Ver o conteudo de uma coluna \n",
    "set(dados.status)"
   ]
  },
  {
   "cell_type": "code",
   "execution_count": 24,
   "id": "23f8c220",
   "metadata": {},
   "outputs": [
    {
     "data": {
      "application/vnd.microsoft.datawrangler.viewer.v0+json": {
       "columns": [
        {
         "name": "index",
         "rawType": "object",
         "type": "string"
        },
        {
         "name": "sl_no",
         "rawType": "float64",
         "type": "float"
        },
        {
         "name": "ssc_p",
         "rawType": "float64",
         "type": "float"
        },
        {
         "name": "hsc_p",
         "rawType": "float64",
         "type": "float"
        },
        {
         "name": "degree_p",
         "rawType": "float64",
         "type": "float"
        },
        {
         "name": "etest_p",
         "rawType": "float64",
         "type": "float"
        },
        {
         "name": "mba_p",
         "rawType": "float64",
         "type": "float"
        },
        {
         "name": "salary",
         "rawType": "float64",
         "type": "float"
        }
       ],
       "ref": "e814567b-4c92-4027-a547-e33385fa62ae",
       "rows": [
        [
         "count",
         "215.0",
         "215.0",
         "215.0",
         "215.0",
         "215.0",
         "215.0",
         "148.0"
        ],
        [
         "mean",
         "108.0",
         "67.30339534883721",
         "66.33316279069768",
         "66.37018604651163",
         "72.10055813953488",
         "62.278186046511635",
         "288655.4054054054"
        ],
        [
         "std",
         "62.20932405998316",
         "10.827205398231452",
         "10.89750915750298",
         "7.358743287339439",
         "13.275956401653835",
         "5.8333845806838",
         "93457.45241958875"
        ],
        [
         "min",
         "1.0",
         "40.89",
         "37.0",
         "50.0",
         "50.0",
         "51.21",
         "200000.0"
        ],
        [
         "25%",
         "54.5",
         "60.599999999999994",
         "60.9",
         "61.0",
         "60.0",
         "57.945",
         "240000.0"
        ],
        [
         "50%",
         "108.0",
         "67.0",
         "65.0",
         "66.0",
         "71.0",
         "62.0",
         "265000.0"
        ],
        [
         "75%",
         "161.5",
         "75.7",
         "73.0",
         "72.0",
         "83.5",
         "66.255",
         "300000.0"
        ],
        [
         "max",
         "215.0",
         "89.4",
         "97.7",
         "91.0",
         "98.0",
         "77.89",
         "940000.0"
        ]
       ],
       "shape": {
        "columns": 7,
        "rows": 8
       }
      },
      "text/html": [
       "<div>\n",
       "<style scoped>\n",
       "    .dataframe tbody tr th:only-of-type {\n",
       "        vertical-align: middle;\n",
       "    }\n",
       "\n",
       "    .dataframe tbody tr th {\n",
       "        vertical-align: top;\n",
       "    }\n",
       "\n",
       "    .dataframe thead th {\n",
       "        text-align: right;\n",
       "    }\n",
       "</style>\n",
       "<table border=\"1\" class=\"dataframe\">\n",
       "  <thead>\n",
       "    <tr style=\"text-align: right;\">\n",
       "      <th></th>\n",
       "      <th>sl_no</th>\n",
       "      <th>ssc_p</th>\n",
       "      <th>hsc_p</th>\n",
       "      <th>degree_p</th>\n",
       "      <th>etest_p</th>\n",
       "      <th>mba_p</th>\n",
       "      <th>salary</th>\n",
       "    </tr>\n",
       "  </thead>\n",
       "  <tbody>\n",
       "    <tr>\n",
       "      <th>count</th>\n",
       "      <td>215.000000</td>\n",
       "      <td>215.000000</td>\n",
       "      <td>215.000000</td>\n",
       "      <td>215.000000</td>\n",
       "      <td>215.000000</td>\n",
       "      <td>215.000000</td>\n",
       "      <td>148.000000</td>\n",
       "    </tr>\n",
       "    <tr>\n",
       "      <th>mean</th>\n",
       "      <td>108.000000</td>\n",
       "      <td>67.303395</td>\n",
       "      <td>66.333163</td>\n",
       "      <td>66.370186</td>\n",
       "      <td>72.100558</td>\n",
       "      <td>62.278186</td>\n",
       "      <td>288655.405405</td>\n",
       "    </tr>\n",
       "    <tr>\n",
       "      <th>std</th>\n",
       "      <td>62.209324</td>\n",
       "      <td>10.827205</td>\n",
       "      <td>10.897509</td>\n",
       "      <td>7.358743</td>\n",
       "      <td>13.275956</td>\n",
       "      <td>5.833385</td>\n",
       "      <td>93457.452420</td>\n",
       "    </tr>\n",
       "    <tr>\n",
       "      <th>min</th>\n",
       "      <td>1.000000</td>\n",
       "      <td>40.890000</td>\n",
       "      <td>37.000000</td>\n",
       "      <td>50.000000</td>\n",
       "      <td>50.000000</td>\n",
       "      <td>51.210000</td>\n",
       "      <td>200000.000000</td>\n",
       "    </tr>\n",
       "    <tr>\n",
       "      <th>25%</th>\n",
       "      <td>54.500000</td>\n",
       "      <td>60.600000</td>\n",
       "      <td>60.900000</td>\n",
       "      <td>61.000000</td>\n",
       "      <td>60.000000</td>\n",
       "      <td>57.945000</td>\n",
       "      <td>240000.000000</td>\n",
       "    </tr>\n",
       "    <tr>\n",
       "      <th>50%</th>\n",
       "      <td>108.000000</td>\n",
       "      <td>67.000000</td>\n",
       "      <td>65.000000</td>\n",
       "      <td>66.000000</td>\n",
       "      <td>71.000000</td>\n",
       "      <td>62.000000</td>\n",
       "      <td>265000.000000</td>\n",
       "    </tr>\n",
       "    <tr>\n",
       "      <th>75%</th>\n",
       "      <td>161.500000</td>\n",
       "      <td>75.700000</td>\n",
       "      <td>73.000000</td>\n",
       "      <td>72.000000</td>\n",
       "      <td>83.500000</td>\n",
       "      <td>66.255000</td>\n",
       "      <td>300000.000000</td>\n",
       "    </tr>\n",
       "    <tr>\n",
       "      <th>max</th>\n",
       "      <td>215.000000</td>\n",
       "      <td>89.400000</td>\n",
       "      <td>97.700000</td>\n",
       "      <td>91.000000</td>\n",
       "      <td>98.000000</td>\n",
       "      <td>77.890000</td>\n",
       "      <td>940000.000000</td>\n",
       "    </tr>\n",
       "  </tbody>\n",
       "</table>\n",
       "</div>"
      ],
      "text/plain": [
       "            sl_no       ssc_p       hsc_p    degree_p     etest_p       mba_p  \\\n",
       "count  215.000000  215.000000  215.000000  215.000000  215.000000  215.000000   \n",
       "mean   108.000000   67.303395   66.333163   66.370186   72.100558   62.278186   \n",
       "std     62.209324   10.827205   10.897509    7.358743   13.275956    5.833385   \n",
       "min      1.000000   40.890000   37.000000   50.000000   50.000000   51.210000   \n",
       "25%     54.500000   60.600000   60.900000   61.000000   60.000000   57.945000   \n",
       "50%    108.000000   67.000000   65.000000   66.000000   71.000000   62.000000   \n",
       "75%    161.500000   75.700000   73.000000   72.000000   83.500000   66.255000   \n",
       "max    215.000000   89.400000   97.700000   91.000000   98.000000   77.890000   \n",
       "\n",
       "              salary  \n",
       "count     148.000000  \n",
       "mean   288655.405405  \n",
       "std     93457.452420  \n",
       "min    200000.000000  \n",
       "25%    240000.000000  \n",
       "50%    265000.000000  \n",
       "75%    300000.000000  \n",
       "max    940000.000000  "
      ]
     },
     "execution_count": 24,
     "metadata": {},
     "output_type": "execute_result"
    }
   ],
   "source": [
    "# Ver o estatistica basica/descritiva \n",
    "dados.describe()"
   ]
  },
  {
   "cell_type": "code",
   "execution_count": 25,
   "id": "4a621c81",
   "metadata": {},
   "outputs": [
    {
     "name": "stdout",
     "output_type": "stream",
     "text": [
      "<class 'pandas.core.frame.DataFrame'>\n",
      "RangeIndex: 215 entries, 0 to 214\n",
      "Data columns (total 15 columns):\n",
      " #   Column          Non-Null Count  Dtype  \n",
      "---  ------          --------------  -----  \n",
      " 0   sl_no           215 non-null    int64  \n",
      " 1   gender          215 non-null    object \n",
      " 2   ssc_p           215 non-null    float64\n",
      " 3   ssc_b           215 non-null    object \n",
      " 4   hsc_p           215 non-null    float64\n",
      " 5   hsc_b           215 non-null    object \n",
      " 6   hsc_s           215 non-null    object \n",
      " 7   degree_p        215 non-null    float64\n",
      " 8   degree_t        215 non-null    object \n",
      " 9   workex          215 non-null    object \n",
      " 10  etest_p         215 non-null    float64\n",
      " 11  specialisation  215 non-null    object \n",
      " 12  mba_p           215 non-null    float64\n",
      " 13  status          215 non-null    object \n",
      " 14  salary          148 non-null    float64\n",
      "dtypes: float64(6), int64(1), object(8)\n",
      "memory usage: 25.3+ KB\n"
     ]
    }
   ],
   "source": [
    "# Ver os tipos dos dados\n",
    "dados.info()"
   ]
  },
  {
   "cell_type": "code",
   "execution_count": 26,
   "id": "1ed8a380",
   "metadata": {},
   "outputs": [
    {
     "data": {
      "application/vnd.microsoft.datawrangler.viewer.v0+json": {
       "columns": [
        {
         "name": "index",
         "rawType": "object",
         "type": "string"
        },
        {
         "name": "0",
         "rawType": "object",
         "type": "unknown"
        }
       ],
       "ref": "cdd435f9-22f4-4b13-abf1-db0f05e9a970",
       "rows": [
        [
         "sl_no",
         "int64"
        ],
        [
         "gender",
         "object"
        ],
        [
         "ssc_p",
         "float64"
        ],
        [
         "ssc_b",
         "object"
        ],
        [
         "hsc_p",
         "float64"
        ],
        [
         "hsc_b",
         "object"
        ],
        [
         "hsc_s",
         "object"
        ],
        [
         "degree_p",
         "float64"
        ],
        [
         "degree_t",
         "object"
        ],
        [
         "workex",
         "object"
        ],
        [
         "etest_p",
         "float64"
        ],
        [
         "specialisation",
         "object"
        ],
        [
         "mba_p",
         "float64"
        ],
        [
         "status",
         "object"
        ],
        [
         "salary",
         "float64"
        ]
       ],
       "shape": {
        "columns": 1,
        "rows": 15
       }
      },
      "text/plain": [
       "sl_no               int64\n",
       "gender             object\n",
       "ssc_p             float64\n",
       "ssc_b              object\n",
       "hsc_p             float64\n",
       "hsc_b              object\n",
       "hsc_s              object\n",
       "degree_p          float64\n",
       "degree_t           object\n",
       "workex             object\n",
       "etest_p           float64\n",
       "specialisation     object\n",
       "mba_p             float64\n",
       "status             object\n",
       "salary            float64\n",
       "dtype: object"
      ]
     },
     "execution_count": 26,
     "metadata": {},
     "output_type": "execute_result"
    }
   ],
   "source": [
    "# Outra maneira de ver os dados\n",
    "dados.dtypes"
   ]
  },
  {
   "cell_type": "code",
   "execution_count": 27,
   "id": "ea590d91",
   "metadata": {},
   "outputs": [
    {
     "data": {
      "text/plain": [
       "<Axes: >"
      ]
     },
     "execution_count": 27,
     "metadata": {},
     "output_type": "execute_result"
    },
    {
     "data": {
      "image/png": "[encoded data removed]",
      "text/plain": [
       "<Figure size 2500x1000 with 2 Axes>"
      ]
     },
     "metadata": {},
     "output_type": "display_data"
    }
   ],
   "source": [
    "# Ver de forma visual dados faltantes\n",
    "\n",
    "msno.matrix(dados)"
   ]
  },
  {
   "cell_type": "code",
   "execution_count": 28,
   "id": "4e8d22ba",
   "metadata": {},
   "outputs": [
    {
     "data": {
      "application/vnd.microsoft.datawrangler.viewer.v0+json": {
       "columns": [
        {
         "name": "index",
         "rawType": "object",
         "type": "string"
        },
        {
         "name": "0",
         "rawType": "int64",
         "type": "integer"
        }
       ],
       "ref": "8a8abf82-a97f-453b-a4e0-834e8023b20c",
       "rows": [
        [
         "sl_no",
         "0"
        ],
        [
         "gender",
         "0"
        ],
        [
         "ssc_p",
         "0"
        ],
        [
         "ssc_b",
         "0"
        ],
        [
         "hsc_p",
         "0"
        ],
        [
         "hsc_b",
         "0"
        ],
        [
         "hsc_s",
         "0"
        ],
        [
         "degree_p",
         "0"
        ],
        [
         "degree_t",
         "0"
        ],
        [
         "workex",
         "0"
        ],
        [
         "etest_p",
         "0"
        ],
        [
         "specialisation",
         "0"
        ],
        [
         "mba_p",
         "0"
        ],
        [
         "status",
         "0"
        ],
        [
         "salary",
         "67"
        ]
       ],
       "shape": {
        "columns": 1,
        "rows": 15
       }
      },
      "text/plain": [
       "sl_no              0\n",
       "gender             0\n",
       "ssc_p              0\n",
       "ssc_b              0\n",
       "hsc_p              0\n",
       "hsc_b              0\n",
       "hsc_s              0\n",
       "degree_p           0\n",
       "degree_t           0\n",
       "workex             0\n",
       "etest_p            0\n",
       "specialisation     0\n",
       "mba_p              0\n",
       "status             0\n",
       "salary            67\n",
       "dtype: int64"
      ]
     },
     "execution_count": 28,
     "metadata": {},
     "output_type": "execute_result"
    }
   ],
   "source": [
    "dados.isnull().sum()"
   ]
  },
  {
   "cell_type": "code",
   "execution_count": 29,
   "id": "e2b75cbd",
   "metadata": {},
   "outputs": [
    {
     "data": {
      "image/png": "[encoded data removed]",
      "text/plain": [
       "<Figure size 1000x500 with 1 Axes>"
      ]
     },
     "metadata": {},
     "output_type": "display_data"
    }
   ],
   "source": [
    "# Plotar um grafico do tipo box plot \n",
    "\n",
    "plt.figure(figsize=(10,5))\n",
    "sns.boxplot(x=\"status\", y=\"salary\", data = dados, palette=\"hls\", hue = \"status\")\n",
    "plt.show()"
   ]
  },
  {
   "cell_type": "code",
   "execution_count": 30,
   "id": "8e60f31e",
   "metadata": {},
   "outputs": [],
   "source": [
    "# Tratar dados nulos \n",
    "\n",
    "dados[\"salary\"] = dados[\"salary\"].fillna(value=0) # --> Preencher com 0 onde esta vazio "
   ]
  },
  {
   "cell_type": "code",
   "execution_count": 31,
   "id": "c9ebfb30",
   "metadata": {},
   "outputs": [
    {
     "data": {
      "application/vnd.microsoft.datawrangler.viewer.v0+json": {
       "columns": [
        {
         "name": "index",
         "rawType": "object",
         "type": "string"
        },
        {
         "name": "0",
         "rawType": "int64",
         "type": "integer"
        }
       ],
       "ref": "25fc5969-4d01-4eca-a88c-f535ef357516",
       "rows": [
        [
         "sl_no",
         "0"
        ],
        [
         "gender",
         "0"
        ],
        [
         "ssc_p",
         "0"
        ],
        [
         "ssc_b",
         "0"
        ],
        [
         "hsc_p",
         "0"
        ],
        [
         "hsc_b",
         "0"
        ],
        [
         "hsc_s",
         "0"
        ],
        [
         "degree_p",
         "0"
        ],
        [
         "degree_t",
         "0"
        ],
        [
         "workex",
         "0"
        ],
        [
         "etest_p",
         "0"
        ],
        [
         "specialisation",
         "0"
        ],
        [
         "mba_p",
         "0"
        ],
        [
         "status",
         "0"
        ],
        [
         "salary",
         "0"
        ]
       ],
       "shape": {
        "columns": 1,
        "rows": 15
       }
      },
      "text/plain": [
       "sl_no             0\n",
       "gender            0\n",
       "ssc_p             0\n",
       "ssc_b             0\n",
       "hsc_p             0\n",
       "hsc_b             0\n",
       "hsc_s             0\n",
       "degree_p          0\n",
       "degree_t          0\n",
       "workex            0\n",
       "etest_p           0\n",
       "specialisation    0\n",
       "mba_p             0\n",
       "status            0\n",
       "salary            0\n",
       "dtype: int64"
      ]
     },
     "execution_count": 31,
     "metadata": {},
     "output_type": "execute_result"
    }
   ],
   "source": [
    "dados.isnull().sum()"
   ]
  },
  {
   "cell_type": "code",
   "execution_count": 32,
   "id": "89c7f9cd",
   "metadata": {},
   "outputs": [
    {
     "data": {
      "image/png": "[encoded data removed]",
      "text/plain": [
       "<Figure size 640x480 with 1 Axes>"
      ]
     },
     "metadata": {},
     "output_type": "display_data"
    }
   ],
   "source": [
    "sns.boxplot(x=dados[\"hsc_p\"]) # --> Boxplot no horizontal \n",
    "plt.show()"
   ]
  },
  {
   "cell_type": "code",
   "execution_count": 33,
   "id": "779e92ab",
   "metadata": {},
   "outputs": [
    {
     "data": {
      "image/png": "[encoded data removed]",
      "text/plain": [
       "<Figure size 640x480 with 1 Axes>"
      ]
     },
     "metadata": {},
     "output_type": "display_data"
    }
   ],
   "source": [
    "sns.boxplot(y=dados[\"hsc_p\"]) # --> Boxplot no vertical\n",
    "plt.show()"
   ]
  },
  {
   "cell_type": "code",
   "execution_count": 34,
   "id": "a145a6e7",
   "metadata": {},
   "outputs": [
    {
     "data": {
      "image/png": "[encoded data removed]",
      "text/plain": [
       "<Figure size 640x480 with 1 Axes>"
      ]
     },
     "metadata": {},
     "output_type": "display_data"
    }
   ],
   "source": [
    "# Plotar o histograma\n",
    "\n",
    "sns.histplot(data = dados, x=\"hsc_p\")\n",
    "plt.show()"
   ]
  },
  {
   "cell_type": "code",
   "execution_count": 35,
   "id": "95009ef1",
   "metadata": {},
   "outputs": [
    {
     "data": {
      "image/png": "[encoded data removed]",
      "text/plain": [
       "<Figure size 640x480 with 1 Axes>"
      ]
     },
     "metadata": {},
     "output_type": "display_data"
    }
   ],
   "source": [
    "sns.boxplot(x=dados[\"degree_p\"])\n",
    "plt.show()"
   ]
  },
  {
   "cell_type": "code",
   "execution_count": 36,
   "id": "8e7af257",
   "metadata": {},
   "outputs": [
    {
     "data": {
      "image/png": "[encoded data removed]",
      "text/plain": [
       "<Figure size 640x480 with 1 Axes>"
      ]
     },
     "metadata": {},
     "output_type": "display_data"
    }
   ],
   "source": [
    "sns.histplot(data = dados, x=\"degree_p\")\n",
    "plt.show()"
   ]
  },
  {
   "cell_type": "code",
   "execution_count": 37,
   "id": "abcc80f1",
   "metadata": {},
   "outputs": [
    {
     "data": {
      "image/png": "[encoded data removed]",
      "text/plain": [
       "<Figure size 640x480 with 1 Axes>"
      ]
     },
     "metadata": {},
     "output_type": "display_data"
    }
   ],
   "source": [
    "sns.boxplot(x=dados[\"etest_p\"])\n",
    "plt.show()"
   ]
  },
  {
   "cell_type": "code",
   "execution_count": 38,
   "id": "2ac0cab5",
   "metadata": {},
   "outputs": [
    {
     "data": {
      "image/png": "[encoded data removed]",
      "text/plain": [
       "<Figure size 640x480 with 1 Axes>"
      ]
     },
     "metadata": {},
     "output_type": "display_data"
    }
   ],
   "source": [
    "sns.boxplot(x=dados[\"mba_p\"])\n",
    "plt.show()"
   ]
  },
  {
   "cell_type": "code",
   "execution_count": 39,
   "id": "555e8db1",
   "metadata": {},
   "outputs": [
    {
     "data": {
      "image/png": "[encoded data removed]",
      "text/plain": [
       "<Figure size 640x480 with 1 Axes>"
      ]
     },
     "metadata": {},
     "output_type": "display_data"
    }
   ],
   "source": [
    "sns.boxplot(x=dados[\"salary\"])\n",
    "plt.show()"
   ]
  },
  {
   "cell_type": "code",
   "execution_count": 40,
   "id": "51f81f49",
   "metadata": {},
   "outputs": [
    {
     "data": {
      "image/png": "[encoded data removed]",
      "text/plain": [
       "<Figure size 640x480 with 1 Axes>"
      ]
     },
     "metadata": {},
     "output_type": "display_data"
    }
   ],
   "source": [
    "sns.histplot(data = dados, x=\"salary\")\n",
    "plt.show()"
   ]
  },
  {
   "cell_type": "code",
   "execution_count": 41,
   "id": "d79a5c7e",
   "metadata": {},
   "outputs": [
    {
     "data": {
      "image/png": "[encoded data removed]",
      "text/plain": [
       "<Figure size 1000x500 with 1 Axes>"
      ]
     },
     "metadata": {},
     "output_type": "display_data"
    }
   ],
   "source": [
    "# Plotar grafico Swarmplot\n",
    "sns.set_theme(style=\"whitegrid\", palette=\"muted\") # --> configurar tema\n",
    "\n",
    "plt.figure(figsize=(10,5))\n",
    "ax = sns.swarmplot(data=dados, x=\"mba_p\", y=\"status\", hue=\"workex\") #--> hue é a separação dos dados\n",
    "#ax.set(ylabel=\"mba_p\")\n",
    "\n",
    "plt.legend(title=\"workex\", bbox_to_anchor=(1, 1.02), loc='upper left') # legenda fora\n",
    "plt.tight_layout() \n",
    "\n",
    "plt.show()"
   ]
  },
  {
   "cell_type": "code",
   "execution_count": 42,
   "id": "26d1deb4",
   "metadata": {},
   "outputs": [
    {
     "data": {
      "application/vnd.plotly.v1+json": {
       "config": {
        "plotlyServerURL": "https://plot.ly"
       },
       "data": [
        {
         "alignmentgroup": "True",
         "box": {
          "visible": true
         },
         "hovertemplate": "gender=M<br>specialisation=%{x}<br>salary=%{y}<extra></extra>",
         "legendgroup": "M",
         "marker": {
          "color": "#636efa"
         },
         "name": "M",
         "offsetgroup": "M",
         "orientation": "v",
         "points": "all",
         "scalegroup": "True",
         "showlegend": true,
         "type": "violin",
         "x": [
          "Mkt&HR",
          "Mkt&Fin",
          "Mkt&Fin",
          "Mkt&HR",
          "Mkt&Fin",
          "Mkt&Fin",
          "Mkt&Fin",
          "Mkt&Fin",
          "Mkt&Fin",
          "Mkt&HR",
          "Mkt&Fin",
          "Mkt&HR",
          "Mkt&Fin",
          "Mkt&Fin",
          "Mkt&HR",
          "Mkt&Fin",
          "Mkt&Fin",
          "Mkt&HR",
          "Mkt&Fin",
          "Mkt&Fin",
          "Mkt&HR",
          "Mkt&Fin",
          "Mkt&Fin",
          "Mkt&Fin",
          "Mkt&HR",
          "Mkt&Fin",
          "Mkt&Fin",
          "Mkt&HR",
          "Mkt&HR",
          "Mkt&HR",
          "Mkt&Fin",
          "Mkt&Fin",
          "Mkt&Fin",
          "Mkt&Fin",
          "Mkt&Fin",
          "Mkt&Fin",
          "Mkt&HR",
          "Mkt&Fin",
          "Mkt&HR",
          "Mkt&HR",
          "Mkt&Fin",
          "Mkt&Fin",
          "Mkt&Fin",
          "Mkt&Fin",
          "Mkt&Fin",
          "Mkt&Fin",
          "Mkt&Fin",
          "Mkt&Fin",
          "Mkt&Fin",
          "Mkt&Fin",
          "Mkt&Fin",
          "Mkt&Fin",
          "Mkt&Fin",
          "Mkt&Fin",
          "Mkt&HR",
          "Mkt&HR",
          "Mkt&HR",
          "Mkt&Fin",
          "Mkt&Fin",
          "Mkt&Fin",
          "Mkt&HR",
          "Mkt&HR",
          "Mkt&HR",
          "Mkt&HR",
          "Mkt&Fin",
          "Mkt&HR",
          "Mkt&Fin",
          "Mkt&HR",
          "Mkt&HR",
          "Mkt&HR",
          "Mkt&HR",
          "Mkt&Fin",
          "Mkt&Fin",
          "Mkt&HR",
          "Mkt&Fin",
          "Mkt&HR",
          "Mkt&HR",
          "Mkt&HR",
          "Mkt&HR",
          "Mkt&Fin",
          "Mkt&Fin",
          "Mkt&HR",
          "Mkt&HR",
          "Mkt&HR",
          "Mkt&Fin",
          "Mkt&Fin",
          "Mkt&HR",
          "Mkt&Fin",
          "Mkt&Fin",
          "Mkt&Fin",
          "Mkt&HR",
          "Mkt&HR",
          "Mkt&Fin",
          "Mkt&HR",
          "Mkt&Fin",
          "Mkt&Fin",
          "Mkt&Fin",
          "Mkt&Fin",
          "Mkt&HR",
          "Mkt&HR",
          "Mkt&Fin",
          "Mkt&Fin",
          "Mkt&HR",
          "Mkt&HR",
          "Mkt&HR",
          "Mkt&Fin",
          "Mkt&Fin",
          "Mkt&HR",
          "Mkt&Fin",
          "Mkt&HR",
          "Mkt&Fin",
          "Mkt&HR",
          "Mkt&Fin",
          "Mkt&HR",
          "Mkt&HR",
          "Mkt&Fin",
          "Mkt&HR",
          "Mkt&Fin",
          "Mkt&HR",
          "Mkt&Fin",
          "Mkt&Fin",
          "Mkt&Fin",
          "Mkt&Fin",
          "Mkt&Fin",
          "Mkt&HR",
          "Mkt&Fin",
          "Mkt&HR",
          "Mkt&Fin",
          "Mkt&HR",
          "Mkt&HR",
          "Mkt&HR",
          "Mkt&Fin",
          "Mkt&Fin",
          "Mkt&Fin",
          "Mkt&Fin",
          "Mkt&Fin",
          "Mkt&Fin",
          "Mkt&Fin",
          "Mkt&HR"
         ],
         "x0": " ",
         "xaxis": "x",
         "y": [
          270000,
          200000,
          250000,
          0,
          425000,
          0,
          252000,
          231000,
          0,
          260000,
          250000,
          0,
          300000,
          236000,
          265000,
          360000,
          240000,
          265000,
          350000,
          0,
          0,
          0,
          411000,
          0,
          300000,
          204000,
          250000,
          0,
          450000,
          220000,
          240000,
          360000,
          268000,
          265000,
          260000,
          300000,
          0,
          240000,
          0,
          275000,
          275000,
          275000,
          360000,
          240000,
          240000,
          218000,
          336000,
          500000,
          270000,
          300000,
          0,
          300000,
          300000,
          220000,
          0,
          0,
          0,
          260000,
          420000,
          0,
          380000,
          240000,
          360000,
          0,
          0,
          200000,
          300000,
          0,
          0,
          250000,
          250000,
          300000,
          240000,
          276000,
          940000,
          0,
          240000,
          250000,
          400000,
          250000,
          0,
          300000,
          250000,
          225000,
          220000,
          265000,
          0,
          260000,
          300000,
          0,
          400000,
          233000,
          300000,
          0,
          690000,
          270000,
          340000,
          250000,
          0,
          255000,
          300000,
          0,
          0,
          300000,
          0,
          285000,
          500000,
          240000,
          0,
          0,
          290000,
          300000,
          500000,
          0,
          350000,
          265000,
          0,
          0,
          276000,
          280000,
          0,
          264000,
          270000,
          0,
          275000,
          250000,
          265000,
          300000,
          0,
          240000,
          260000,
          250000,
          0,
          300000,
          216000,
          400000,
          275000,
          295000,
          0
         ],
         "y0": " ",
         "yaxis": "y"
        },
        {
         "alignmentgroup": "True",
         "box": {
          "visible": true
         },
         "hovertemplate": "gender=F<br>specialisation=%{x}<br>salary=%{y}<extra></extra>",
         "legendgroup": "F",
         "marker": {
          "color": "#EF553B"
         },
         "name": "F",
         "offsetgroup": "F",
         "orientation": "v",
         "points": "all",
         "scalegroup": "True",
         "showlegend": true,
         "type": "violin",
         "x": [
          "Mkt&Fin",
          "Mkt&HR",
          "Mkt&Fin",
          "Mkt&Fin",
          "Mkt&Fin",
          "Mkt&HR",
          "Mkt&Fin",
          "Mkt&HR",
          "Mkt&Fin",
          "Mkt&Fin",
          "Mkt&HR",
          "Mkt&HR",
          "Mkt&HR",
          "Mkt&Fin",
          "Mkt&HR",
          "Mkt&HR",
          "Mkt&HR",
          "Mkt&Fin",
          "Mkt&HR",
          "Mkt&Fin",
          "Mkt&HR",
          "Mkt&HR",
          "Mkt&HR",
          "Mkt&HR",
          "Mkt&HR",
          "Mkt&HR",
          "Mkt&Fin",
          "Mkt&HR",
          "Mkt&HR",
          "Mkt&Fin",
          "Mkt&HR",
          "Mkt&HR",
          "Mkt&Fin",
          "Mkt&HR",
          "Mkt&HR",
          "Mkt&Fin",
          "Mkt&Fin",
          "Mkt&Fin",
          "Mkt&Fin",
          "Mkt&Fin",
          "Mkt&HR",
          "Mkt&Fin",
          "Mkt&HR",
          "Mkt&Fin",
          "Mkt&Fin",
          "Mkt&HR",
          "Mkt&Fin",
          "Mkt&Fin",
          "Mkt&Fin",
          "Mkt&HR",
          "Mkt&Fin",
          "Mkt&Fin",
          "Mkt&HR",
          "Mkt&Fin",
          "Mkt&Fin",
          "Mkt&Fin",
          "Mkt&Fin",
          "Mkt&Fin",
          "Mkt&Fin",
          "Mkt&HR",
          "Mkt&HR",
          "Mkt&HR",
          "Mkt&HR",
          "Mkt&Fin",
          "Mkt&HR",
          "Mkt&HR",
          "Mkt&HR",
          "Mkt&Fin",
          "Mkt&Fin",
          "Mkt&Fin",
          "Mkt&HR",
          "Mkt&HR",
          "Mkt&HR",
          "Mkt&Fin",
          "Mkt&HR",
          "Mkt&HR"
         ],
         "x0": " ",
         "xaxis": "x",
         "y": [
          0,
          0,
          218000,
          200000,
          0,
          0,
          393000,
          360000,
          300000,
          0,
          250000,
          0,
          278000,
          260000,
          300000,
          320000,
          240000,
          287000,
          0,
          200000,
          0,
          0,
          0,
          200000,
          0,
          216000,
          240000,
          0,
          0,
          230000,
          0,
          240000,
          400000,
          210000,
          210000,
          300000,
          230000,
          300000,
          0,
          220000,
          0,
          300000,
          250000,
          280000,
          216000,
          250000,
          236000,
          350000,
          210000,
          250000,
          360000,
          250000,
          200000,
          0,
          250000,
          240000,
          240000,
          250000,
          0,
          0,
          0,
          0,
          220000,
          650000,
          0,
          0,
          252000,
          0,
          0,
          0,
          300000,
          260000,
          0,
          210000,
          0,
          204000
         ],
         "y0": " ",
         "yaxis": "y"
        }
       ],
       "layout": {
        "legend": {
         "title": {
          "text": "gender"
         },
         "tracegroupgap": 0
        },
        "margin": {
         "t": 60
        },
        "template": {
         "data": {
          "bar": [
           {
            "error_x": {
             "color": "#2a3f5f"
            },
            "error_y": {
             "color": "#2a3f5f"
            },
            "marker": {
             "line": {
              "color": "#E5ECF6",
              "width": 0.5
             },
             "pattern": {
              "fillmode": "overlay",
              "size": 10,
              "solidity": 0.2
             }
            },
            "type": "bar"
           }
          ],
          "barpolar": [
           {
            "marker": {
             "line": {
              "color": "#E5ECF6",
              "width": 0.5
             },
             "pattern": {
              "fillmode": "overlay",
              "size": 10,
              "solidity": 0.2
             }
            },
            "type": "barpolar"
           }
          ],
          "carpet": [
           {
            "aaxis": {
             "endlinecolor": "#2a3f5f",
             "gridcolor": "white",
             "linecolor": "white",
             "minorgridcolor": "white",
             "startlinecolor": "#2a3f5f"
            },
            "baxis": {
             "endlinecolor": "#2a3f5f",
             "gridcolor": "white",
             "linecolor": "white",
             "minorgridcolor": "white",
             "startlinecolor": "#2a3f5f"
            },
            "type": "carpet"
           }
          ],
          "choropleth": [
           {
            "colorbar": {
             "outlinewidth": 0,
             "ticks": ""
            },
            "type": "choropleth"
           }
          ],
          "contour": [
           {
            "colorbar": {
             "outlinewidth": 0,
             "ticks": ""
            },
            "colorscale": [
             [
              0,
              "#0d0887"
             ],
             [
              0.1111111111111111,
              "#46039f"
             ],
             [
              0.2222222222222222,
              "#7201a8"
             ],
             [
              0.3333333333333333,
              "#9c179e"
             ],
             [
              0.4444444444444444,
              "#bd3786"
             ],
             [
              0.5555555555555556,
              "#d8576b"
             ],
             [
              0.6666666666666666,
              "#ed7953"
             ],
             [
              0.7777777777777778,
              "#fb9f3a"
             ],
             [
              0.8888888888888888,
              "#fdca26"
             ],
             [
              1,
              "#f0f921"
             ]
            ],
            "type": "contour"
           }
          ],
          "contourcarpet": [
           {
            "colorbar": {
             "outlinewidth": 0,
             "ticks": ""
            },
            "type": "contourcarpet"
           }
          ],
          "heatmap": [
           {
            "colorbar": {
             "outlinewidth": 0,
             "ticks": ""
            },
            "colorscale": [
             [
              0,
              "#0d0887"
             ],
             [
              0.1111111111111111,
              "#46039f"
             ],
             [
              0.2222222222222222,
              "#7201a8"
             ],
             [
              0.3333333333333333,
              "#9c179e"
             ],
             [
              0.4444444444444444,
              "#bd3786"
             ],
             [
              0.5555555555555556,
              "#d8576b"
             ],
             [
              0.6666666666666666,
              "#ed7953"
             ],
             [
              0.7777777777777778,
              "#fb9f3a"
             ],
             [
              0.8888888888888888,
              "#fdca26"
             ],
             [
              1,
              "#f0f921"
             ]
            ],
            "type": "heatmap"
           }
          ],
          "heatmapgl": [
           {
            "colorbar": {
             "outlinewidth": 0,
             "ticks": ""
            },
            "colorscale": [
             [
              0,
              "#0d0887"
             ],
             [
              0.1111111111111111,
              "#46039f"
             ],
             [
              0.2222222222222222,
              "#7201a8"
             ],
             [
              0.3333333333333333,
              "#9c179e"
             ],
             [
              0.4444444444444444,
              "#bd3786"
             ],
             [
              0.5555555555555556,
              "#d8576b"
             ],
             [
              0.6666666666666666,
              "#ed7953"
             ],
             [
              0.7777777777777778,
              "#fb9f3a"
             ],
             [
              0.8888888888888888,
              "#fdca26"
             ],
             [
              1,
              "#f0f921"
             ]
            ],
            "type": "heatmapgl"
           }
          ],
          "histogram": [
           {
            "marker": {
             "pattern": {
              "fillmode": "overlay",
              "size": 10,
              "solidity": 0.2
             }
            },
            "type": "histogram"
           }
          ],
          "histogram2d": [
           {
            "colorbar": {
             "outlinewidth": 0,
             "ticks": ""
            },
            "colorscale": [
             [
              0,
              "#0d0887"
             ],
             [
              0.1111111111111111,
              "#46039f"
             ],
             [
              0.2222222222222222,
              "#7201a8"
             ],
             [
              0.3333333333333333,
              "#9c179e"
             ],
             [
              0.4444444444444444,
              "#bd3786"
             ],
             [
              0.5555555555555556,
              "#d8576b"
             ],
             [
              0.6666666666666666,
              "#ed7953"
             ],
             [
              0.7777777777777778,
              "#fb9f3a"
             ],
             [
              0.8888888888888888,
              "#fdca26"
             ],
             [
              1,
              "#f0f921"
             ]
            ],
            "type": "histogram2d"
           }
          ],
          "histogram2dcontour": [
           {
            "colorbar": {
             "outlinewidth": 0,
             "ticks": ""
            },
            "colorscale": [
             [
              0,
              "#0d0887"
             ],
             [
              0.1111111111111111,
              "#46039f"
             ],
             [
              0.2222222222222222,
              "#7201a8"
             ],
             [
              0.3333333333333333,
              "#9c179e"
             ],
             [
              0.4444444444444444,
              "#bd3786"
             ],
             [
              0.5555555555555556,
              "#d8576b"
             ],
             [
              0.6666666666666666,
              "#ed7953"
             ],
             [
              0.7777777777777778,
              "#fb9f3a"
             ],
             [
              0.8888888888888888,
              "#fdca26"
             ],
             [
              1,
              "#f0f921"
             ]
            ],
            "type": "histogram2dcontour"
           }
          ],
          "mesh3d": [
           {
            "colorbar": {
             "outlinewidth": 0,
             "ticks": ""
            },
            "type": "mesh3d"
           }
          ],
          "parcoords": [
           {
            "line": {
             "colorbar": {
              "outlinewidth": 0,
              "ticks": ""
             }
            },
            "type": "parcoords"
           }
          ],
          "pie": [
           {
            "automargin": true,
            "type": "pie"
           }
          ],
          "scatter": [
           {
            "fillpattern": {
             "fillmode": "overlay",
             "size": 10,
             "solidity": 0.2
            },
            "type": "scatter"
           }
          ],
          "scatter3d": [
           {
            "line": {
             "colorbar": {
              "outlinewidth": 0,
              "ticks": ""
             }
            },
            "marker": {
             "colorbar": {
              "outlinewidth": 0,
              "ticks": ""
             }
            },
            "type": "scatter3d"
           }
          ],
          "scattercarpet": [
           {
            "marker": {
             "colorbar": {
              "outlinewidth": 0,
              "ticks": ""
             }
            },
            "type": "scattercarpet"
           }
          ],
          "scattergeo": [
           {
            "marker": {
             "colorbar": {
              "outlinewidth": 0,
              "ticks": ""
             }
            },
            "type": "scattergeo"
           }
          ],
          "scattergl": [
           {
            "marker": {
             "colorbar": {
              "outlinewidth": 0,
              "ticks": ""
             }
            },
            "type": "scattergl"
           }
          ],
          "scattermapbox": [
           {
            "marker": {
             "colorbar": {
              "outlinewidth": 0,
              "ticks": ""
             }
            },
            "type": "scattermapbox"
           }
          ],
          "scatterpolar": [
           {
            "marker": {
             "colorbar": {
              "outlinewidth": 0,
              "ticks": ""
             }
            },
            "type": "scatterpolar"
           }
          ],
          "scatterpolargl": [
           {
            "marker": {
             "colorbar": {
              "outlinewidth": 0,
              "ticks": ""
             }
            },
            "type": "scatterpolargl"
           }
          ],
          "scatterternary": [
           {
            "marker": {
             "colorbar": {
              "outlinewidth": 0,
              "ticks": ""
             }
            },
            "type": "scatterternary"
           }
          ],
          "surface": [
           {
            "colorbar": {
             "outlinewidth": 0,
             "ticks": ""
            },
            "colorscale": [
             [
              0,
              "#0d0887"
             ],
             [
              0.1111111111111111,
              "#46039f"
             ],
             [
              0.2222222222222222,
              "#7201a8"
             ],
             [
              0.3333333333333333,
              "#9c179e"
             ],
             [
              0.4444444444444444,
              "#bd3786"
             ],
             [
              0.5555555555555556,
              "#d8576b"
             ],
             [
              0.6666666666666666,
              "#ed7953"
             ],
             [
              0.7777777777777778,
              "#fb9f3a"
             ],
             [
              0.8888888888888888,
              "#fdca26"
             ],
             [
              1,
              "#f0f921"
             ]
            ],
            "type": "surface"
           }
          ],
          "table": [
           {
            "cells": {
             "fill": {
              "color": "#EBF0F8"
             },
             "line": {
              "color": "white"
             }
            },
            "header": {
             "fill": {
              "color": "#C8D4E3"
             },
             "line": {
              "color": "white"
             }
            },
            "type": "table"
           }
          ]
         },
         "layout": {
          "annotationdefaults": {
           "arrowcolor": "#2a3f5f",
           "arrowhead": 0,
           "arrowwidth": 1
          },
          "autotypenumbers": "strict",
          "coloraxis": {
           "colorbar": {
            "outlinewidth": 0,
            "ticks": ""
           }
          },
          "colorscale": {
           "diverging": [
            [
             0,
             "#8e0152"
            ],
            [
             0.1,
             "#c51b7d"
            ],
            [
             0.2,
             "#de77ae"
            ],
            [
             0.3,
             "#f1b6da"
            ],
            [
             0.4,
             "#fde0ef"
            ],
            [
             0.5,
             "#f7f7f7"
            ],
            [
             0.6,
             "#e6f5d0"
            ],
            [
             0.7,
             "#b8e186"
            ],
            [
             0.8,
             "#7fbc41"
            ],
            [
             0.9,
             "#4d9221"
            ],
            [
             1,
             "#276419"
            ]
           ],
           "sequential": [
            [
             0,
             "#0d0887"
            ],
            [
             0.1111111111111111,
             "#46039f"
            ],
            [
             0.2222222222222222,
             "#7201a8"
            ],
            [
             0.3333333333333333,
             "#9c179e"
            ],
            [
             0.4444444444444444,
             "#bd3786"
            ],
            [
             0.5555555555555556,
             "#d8576b"
            ],
            [
             0.6666666666666666,
             "#ed7953"
            ],
            [
             0.7777777777777778,
             "#fb9f3a"
            ],
            [
             0.8888888888888888,
             "#fdca26"
            ],
            [
             1,
             "#f0f921"
            ]
           ],
           "sequentialminus": [
            [
             0,
             "#0d0887"
            ],
            [
             0.1111111111111111,
             "#46039f"
            ],
            [
             0.2222222222222222,
             "#7201a8"
            ],
            [
             0.3333333333333333,
             "#9c179e"
            ],
            [
             0.4444444444444444,
             "#bd3786"
            ],
            [
             0.5555555555555556,
             "#d8576b"
            ],
            [
             0.6666666666666666,
             "#ed7953"
            ],
            [
             0.7777777777777778,
             "#fb9f3a"
            ],
            [
             0.8888888888888888,
             "#fdca26"
            ],
            [
             1,
             "#f0f921"
            ]
           ]
          },
          "colorway": [
           "#636efa",
           "#EF553B",
           "#00cc96",
           "#ab63fa",
           "#FFA15A",
           "#19d3f3",
           "#FF6692",
           "#B6E880",
           "#FF97FF",
           "#FECB52"
          ],
          "font": {
           "color": "#2a3f5f"
          },
          "geo": {
           "bgcolor": "white",
           "lakecolor": "white",
           "landcolor": "#E5ECF6",
           "showlakes": true,
           "showland": true,
           "subunitcolor": "white"
          },
          "hoverlabel": {
           "align": "left"
          },
          "hovermode": "closest",
          "mapbox": {
           "style": "light"
          },
          "paper_bgcolor": "white",
          "plot_bgcolor": "#E5ECF6",
          "polar": {
           "angularaxis": {
            "gridcolor": "white",
            "linecolor": "white",
            "ticks": ""
           },
           "bgcolor": "#E5ECF6",
           "radialaxis": {
            "gridcolor": "white",
            "linecolor": "white",
            "ticks": ""
           }
          },
          "scene": {
           "xaxis": {
            "backgroundcolor": "#E5ECF6",
            "gridcolor": "white",
            "gridwidth": 2,
            "linecolor": "white",
            "showbackground": true,
            "ticks": "",
            "zerolinecolor": "white"
           },
           "yaxis": {
            "backgroundcolor": "#E5ECF6",
            "gridcolor": "white",
            "gridwidth": 2,
            "linecolor": "white",
            "showbackground": true,
            "ticks": "",
            "zerolinecolor": "white"
           },
           "zaxis": {
            "backgroundcolor": "#E5ECF6",
            "gridcolor": "white",
            "gridwidth": 2,
            "linecolor": "white",
            "showbackground": true,
            "ticks": "",
            "zerolinecolor": "white"
           }
          },
          "shapedefaults": {
           "line": {
            "color": "#2a3f5f"
           }
          },
          "ternary": {
           "aaxis": {
            "gridcolor": "white",
            "linecolor": "white",
            "ticks": ""
           },
           "baxis": {
            "gridcolor": "white",
            "linecolor": "white",
            "ticks": ""
           },
           "bgcolor": "#E5ECF6",
           "caxis": {
            "gridcolor": "white",
            "linecolor": "white",
            "ticks": ""
           }
          },
          "title": {
           "x": 0.05
          },
          "xaxis": {
           "automargin": true,
           "gridcolor": "white",
           "linecolor": "white",
           "ticks": "",
           "title": {
            "standoff": 15
           },
           "zerolinecolor": "white",
           "zerolinewidth": 2
          },
          "yaxis": {
           "automargin": true,
           "gridcolor": "white",
           "linecolor": "white",
           "ticks": "",
           "title": {
            "standoff": 15
           },
           "zerolinecolor": "white",
           "zerolinewidth": 2
          }
         }
        },
        "violinmode": "group",
        "xaxis": {
         "anchor": "y",
         "domain": [
          0,
          1
         ],
         "title": {
          "text": "specialisation"
         }
        },
        "yaxis": {
         "anchor": "x",
         "domain": [
          0,
          1
         ],
         "title": {
          "text": "salary"
         }
        }
       }
      }
     },
     "metadata": {},
     "output_type": "display_data"
    }
   ],
   "source": [
    "# Plotar o grafico Violin da biblioteca plotly-express\n",
    "px.violin(dados,y=\"salary\",x=\"specialisation\",color=\"gender\",box=True,points=\"all\")"
   ]
  },
  {
   "cell_type": "code",
   "execution_count": 43,
   "id": "8c8deb56",
   "metadata": {},
   "outputs": [
    {
     "data": {
      "image/png": "[encoded data removed]",
      "text/plain": [
       "<Figure size 1000x500 with 2 Axes>"
      ]
     },
     "metadata": {},
     "output_type": "display_data"
    }
   ],
   "source": [
    "# Criar uma matriz de correlação\n",
    "correlation_matriz = dados.select_dtypes(include=['number']).corr().round(2)\n",
    "\n",
    "fig, ax = plt.subplots(figsize=(10,5))\n",
    "\n",
    "sns.heatmap(data = correlation_matriz, annot=True, linewidths=5, ax=ax)\n",
    "plt.show()"
   ]
  },
  {
   "cell_type": "code",
   "execution_count": 44,
   "id": "9dcf30af",
   "metadata": {},
   "outputs": [
    {
     "data": {
      "application/vnd.microsoft.datawrangler.viewer.v0+json": {
       "columns": [
        {
         "name": "index",
         "rawType": "int64",
         "type": "integer"
        },
        {
         "name": "sl_no",
         "rawType": "int64",
         "type": "integer"
        },
        {
         "name": "gender",
         "rawType": "object",
         "type": "string"
        },
        {
         "name": "ssc_p",
         "rawType": "float64",
         "type": "float"
        },
        {
         "name": "ssc_b",
         "rawType": "object",
         "type": "string"
        },
        {
         "name": "hsc_p",
         "rawType": "float64",
         "type": "float"
        },
        {
         "name": "hsc_b",
         "rawType": "object",
         "type": "string"
        },
        {
         "name": "hsc_s",
         "rawType": "object",
         "type": "string"
        },
        {
         "name": "degree_p",
         "rawType": "float64",
         "type": "float"
        },
        {
         "name": "degree_t",
         "rawType": "object",
         "type": "string"
        },
        {
         "name": "workex",
         "rawType": "object",
         "type": "string"
        },
        {
         "name": "etest_p",
         "rawType": "float64",
         "type": "float"
        },
        {
         "name": "specialisation",
         "rawType": "object",
         "type": "string"
        },
        {
         "name": "mba_p",
         "rawType": "float64",
         "type": "float"
        },
        {
         "name": "status",
         "rawType": "object",
         "type": "string"
        },
        {
         "name": "salary",
         "rawType": "float64",
         "type": "float"
        }
       ],
       "ref": "55d52bf7-1128-4f8f-9da2-1c74f0569d43",
       "rows": [
        [
         "0",
         "1",
         "M",
         "67.0",
         "Others",
         "91.0",
         "Others",
         "Commerce",
         "58.0",
         "Sci&Tech",
         "No",
         "55.0",
         "Mkt&HR",
         "58.8",
         "Yes",
         "270000.0"
        ],
        [
         "1",
         "2",
         "M",
         "79.33",
         "Central",
         "78.33",
         "Others",
         "Science",
         "77.48",
         "Sci&Tech",
         "Yes",
         "86.5",
         "Mkt&Fin",
         "66.28",
         "Yes",
         "200000.0"
        ],
        [
         "2",
         "3",
         "M",
         "65.0",
         "Central",
         "68.0",
         "Central",
         "Arts",
         "64.0",
         "Comm&Mgmt",
         "No",
         "75.0",
         "Mkt&Fin",
         "57.8",
         "Yes",
         "250000.0"
        ],
        [
         "3",
         "4",
         "M",
         "56.0",
         "Central",
         "52.0",
         "Central",
         "Science",
         "52.0",
         "Sci&Tech",
         "No",
         "66.0",
         "Mkt&HR",
         "59.43",
         "No",
         "0.0"
        ],
        [
         "4",
         "5",
         "M",
         "85.8",
         "Central",
         "73.6",
         "Central",
         "Commerce",
         "73.3",
         "Comm&Mgmt",
         "No",
         "96.8",
         "Mkt&Fin",
         "55.5",
         "Yes",
         "425000.0"
        ]
       ],
       "shape": {
        "columns": 15,
        "rows": 5
       }
      },
      "text/html": [
       "<div>\n",
       "<style scoped>\n",
       "    .dataframe tbody tr th:only-of-type {\n",
       "        vertical-align: middle;\n",
       "    }\n",
       "\n",
       "    .dataframe tbody tr th {\n",
       "        vertical-align: top;\n",
       "    }\n",
       "\n",
       "    .dataframe thead th {\n",
       "        text-align: right;\n",
       "    }\n",
       "</style>\n",
       "<table border=\"1\" class=\"dataframe\">\n",
       "  <thead>\n",
       "    <tr style=\"text-align: right;\">\n",
       "      <th></th>\n",
       "      <th>sl_no</th>\n",
       "      <th>gender</th>\n",
       "      <th>ssc_p</th>\n",
       "      <th>ssc_b</th>\n",
       "      <th>hsc_p</th>\n",
       "      <th>hsc_b</th>\n",
       "      <th>hsc_s</th>\n",
       "      <th>degree_p</th>\n",
       "      <th>degree_t</th>\n",
       "      <th>workex</th>\n",
       "      <th>etest_p</th>\n",
       "      <th>specialisation</th>\n",
       "      <th>mba_p</th>\n",
       "      <th>status</th>\n",
       "      <th>salary</th>\n",
       "    </tr>\n",
       "  </thead>\n",
       "  <tbody>\n",
       "    <tr>\n",
       "      <th>0</th>\n",
       "      <td>1</td>\n",
       "      <td>M</td>\n",
       "      <td>67.00</td>\n",
       "      <td>Others</td>\n",
       "      <td>91.00</td>\n",
       "      <td>Others</td>\n",
       "      <td>Commerce</td>\n",
       "      <td>58.00</td>\n",
       "      <td>Sci&amp;Tech</td>\n",
       "      <td>No</td>\n",
       "      <td>55.0</td>\n",
       "      <td>Mkt&amp;HR</td>\n",
       "      <td>58.80</td>\n",
       "      <td>Yes</td>\n",
       "      <td>270000.0</td>\n",
       "    </tr>\n",
       "    <tr>\n",
       "      <th>1</th>\n",
       "      <td>2</td>\n",
       "      <td>M</td>\n",
       "      <td>79.33</td>\n",
       "      <td>Central</td>\n",
       "      <td>78.33</td>\n",
       "      <td>Others</td>\n",
       "      <td>Science</td>\n",
       "      <td>77.48</td>\n",
       "      <td>Sci&amp;Tech</td>\n",
       "      <td>Yes</td>\n",
       "      <td>86.5</td>\n",
       "      <td>Mkt&amp;Fin</td>\n",
       "      <td>66.28</td>\n",
       "      <td>Yes</td>\n",
       "      <td>200000.0</td>\n",
       "    </tr>\n",
       "    <tr>\n",
       "      <th>2</th>\n",
       "      <td>3</td>\n",
       "      <td>M</td>\n",
       "      <td>65.00</td>\n",
       "      <td>Central</td>\n",
       "      <td>68.00</td>\n",
       "      <td>Central</td>\n",
       "      <td>Arts</td>\n",
       "      <td>64.00</td>\n",
       "      <td>Comm&amp;Mgmt</td>\n",
       "      <td>No</td>\n",
       "      <td>75.0</td>\n",
       "      <td>Mkt&amp;Fin</td>\n",
       "      <td>57.80</td>\n",
       "      <td>Yes</td>\n",
       "      <td>250000.0</td>\n",
       "    </tr>\n",
       "    <tr>\n",
       "      <th>3</th>\n",
       "      <td>4</td>\n",
       "      <td>M</td>\n",
       "      <td>56.00</td>\n",
       "      <td>Central</td>\n",
       "      <td>52.00</td>\n",
       "      <td>Central</td>\n",
       "      <td>Science</td>\n",
       "      <td>52.00</td>\n",
       "      <td>Sci&amp;Tech</td>\n",
       "      <td>No</td>\n",
       "      <td>66.0</td>\n",
       "      <td>Mkt&amp;HR</td>\n",
       "      <td>59.43</td>\n",
       "      <td>No</td>\n",
       "      <td>0.0</td>\n",
       "    </tr>\n",
       "    <tr>\n",
       "      <th>4</th>\n",
       "      <td>5</td>\n",
       "      <td>M</td>\n",
       "      <td>85.80</td>\n",
       "      <td>Central</td>\n",
       "      <td>73.60</td>\n",
       "      <td>Central</td>\n",
       "      <td>Commerce</td>\n",
       "      <td>73.30</td>\n",
       "      <td>Comm&amp;Mgmt</td>\n",
       "      <td>No</td>\n",
       "      <td>96.8</td>\n",
       "      <td>Mkt&amp;Fin</td>\n",
       "      <td>55.50</td>\n",
       "      <td>Yes</td>\n",
       "      <td>425000.0</td>\n",
       "    </tr>\n",
       "  </tbody>\n",
       "</table>\n",
       "</div>"
      ],
      "text/plain": [
       "   sl_no gender  ssc_p    ssc_b  hsc_p    hsc_b     hsc_s  degree_p  \\\n",
       "0      1      M  67.00   Others  91.00   Others  Commerce     58.00   \n",
       "1      2      M  79.33  Central  78.33   Others   Science     77.48   \n",
       "2      3      M  65.00  Central  68.00  Central      Arts     64.00   \n",
       "3      4      M  56.00  Central  52.00  Central   Science     52.00   \n",
       "4      5      M  85.80  Central  73.60  Central  Commerce     73.30   \n",
       "\n",
       "    degree_t workex  etest_p specialisation  mba_p status    salary  \n",
       "0   Sci&Tech     No     55.0         Mkt&HR  58.80    Yes  270000.0  \n",
       "1   Sci&Tech    Yes     86.5        Mkt&Fin  66.28    Yes  200000.0  \n",
       "2  Comm&Mgmt     No     75.0        Mkt&Fin  57.80    Yes  250000.0  \n",
       "3   Sci&Tech     No     66.0         Mkt&HR  59.43     No       0.0  \n",
       "4  Comm&Mgmt     No     96.8        Mkt&Fin  55.50    Yes  425000.0  "
      ]
     },
     "execution_count": 44,
     "metadata": {},
     "output_type": "execute_result"
    }
   ],
   "source": [
    "dados.head()"
   ]
  },
  {
   "cell_type": "code",
   "execution_count": 45,
   "id": "ca020451",
   "metadata": {},
   "outputs": [
    {
     "data": {
      "application/vnd.microsoft.datawrangler.viewer.v0+json": {
       "columns": [
        {
         "name": "index",
         "rawType": "int64",
         "type": "integer"
        },
        {
         "name": "sl_no",
         "rawType": "int64",
         "type": "integer"
        },
        {
         "name": "gender",
         "rawType": "int32",
         "type": "integer"
        },
        {
         "name": "ssc_p",
         "rawType": "float64",
         "type": "float"
        },
        {
         "name": "ssc_b",
         "rawType": "object",
         "type": "string"
        },
        {
         "name": "hsc_p",
         "rawType": "float64",
         "type": "float"
        },
        {
         "name": "hsc_b",
         "rawType": "object",
         "type": "string"
        },
        {
         "name": "hsc_s",
         "rawType": "object",
         "type": "string"
        },
        {
         "name": "degree_p",
         "rawType": "float64",
         "type": "float"
        },
        {
         "name": "degree_t",
         "rawType": "object",
         "type": "string"
        },
        {
         "name": "workex",
         "rawType": "int32",
         "type": "integer"
        },
        {
         "name": "etest_p",
         "rawType": "float64",
         "type": "float"
        },
        {
         "name": "specialisation",
         "rawType": "int32",
         "type": "integer"
        },
        {
         "name": "mba_p",
         "rawType": "float64",
         "type": "float"
        },
        {
         "name": "status",
         "rawType": "int32",
         "type": "integer"
        },
        {
         "name": "salary",
         "rawType": "float64",
         "type": "float"
        }
       ],
       "ref": "441769d7-1b5c-47cc-a8a3-1bcfadb6e49a",
       "rows": [
        [
         "0",
         "1",
         "1",
         "67.0",
         "Others",
         "91.0",
         "Others",
         "Commerce",
         "58.0",
         "Sci&Tech",
         "0",
         "55.0",
         "1",
         "58.8",
         "1",
         "270000.0"
        ],
        [
         "1",
         "2",
         "1",
         "79.33",
         "Central",
         "78.33",
         "Others",
         "Science",
         "77.48",
         "Sci&Tech",
         "1",
         "86.5",
         "0",
         "66.28",
         "1",
         "200000.0"
        ],
        [
         "2",
         "3",
         "1",
         "65.0",
         "Central",
         "68.0",
         "Central",
         "Arts",
         "64.0",
         "Comm&Mgmt",
         "0",
         "75.0",
         "0",
         "57.8",
         "1",
         "250000.0"
        ],
        [
         "3",
         "4",
         "1",
         "56.0",
         "Central",
         "52.0",
         "Central",
         "Science",
         "52.0",
         "Sci&Tech",
         "0",
         "66.0",
         "1",
         "59.43",
         "0",
         "0.0"
        ],
        [
         "4",
         "5",
         "1",
         "85.8",
         "Central",
         "73.6",
         "Central",
         "Commerce",
         "73.3",
         "Comm&Mgmt",
         "0",
         "96.8",
         "0",
         "55.5",
         "1",
         "425000.0"
        ]
       ],
       "shape": {
        "columns": 15,
        "rows": 5
       }
      },
      "text/html": [
       "<div>\n",
       "<style scoped>\n",
       "    .dataframe tbody tr th:only-of-type {\n",
       "        vertical-align: middle;\n",
       "    }\n",
       "\n",
       "    .dataframe tbody tr th {\n",
       "        vertical-align: top;\n",
       "    }\n",
       "\n",
       "    .dataframe thead th {\n",
       "        text-align: right;\n",
       "    }\n",
       "</style>\n",
       "<table border=\"1\" class=\"dataframe\">\n",
       "  <thead>\n",
       "    <tr style=\"text-align: right;\">\n",
       "      <th></th>\n",
       "      <th>sl_no</th>\n",
       "      <th>gender</th>\n",
       "      <th>ssc_p</th>\n",
       "      <th>ssc_b</th>\n",
       "      <th>hsc_p</th>\n",
       "      <th>hsc_b</th>\n",
       "      <th>hsc_s</th>\n",
       "      <th>degree_p</th>\n",
       "      <th>degree_t</th>\n",
       "      <th>workex</th>\n",
       "      <th>etest_p</th>\n",
       "      <th>specialisation</th>\n",
       "      <th>mba_p</th>\n",
       "      <th>status</th>\n",
       "      <th>salary</th>\n",
       "    </tr>\n",
       "  </thead>\n",
       "  <tbody>\n",
       "    <tr>\n",
       "      <th>0</th>\n",
       "      <td>1</td>\n",
       "      <td>1</td>\n",
       "      <td>67.00</td>\n",
       "      <td>Others</td>\n",
       "      <td>91.00</td>\n",
       "      <td>Others</td>\n",
       "      <td>Commerce</td>\n",
       "      <td>58.00</td>\n",
       "      <td>Sci&amp;Tech</td>\n",
       "      <td>0</td>\n",
       "      <td>55.0</td>\n",
       "      <td>1</td>\n",
       "      <td>58.80</td>\n",
       "      <td>1</td>\n",
       "      <td>270000.0</td>\n",
       "    </tr>\n",
       "    <tr>\n",
       "      <th>1</th>\n",
       "      <td>2</td>\n",
       "      <td>1</td>\n",
       "      <td>79.33</td>\n",
       "      <td>Central</td>\n",
       "      <td>78.33</td>\n",
       "      <td>Others</td>\n",
       "      <td>Science</td>\n",
       "      <td>77.48</td>\n",
       "      <td>Sci&amp;Tech</td>\n",
       "      <td>1</td>\n",
       "      <td>86.5</td>\n",
       "      <td>0</td>\n",
       "      <td>66.28</td>\n",
       "      <td>1</td>\n",
       "      <td>200000.0</td>\n",
       "    </tr>\n",
       "    <tr>\n",
       "      <th>2</th>\n",
       "      <td>3</td>\n",
       "      <td>1</td>\n",
       "      <td>65.00</td>\n",
       "      <td>Central</td>\n",
       "      <td>68.00</td>\n",
       "      <td>Central</td>\n",
       "      <td>Arts</td>\n",
       "      <td>64.00</td>\n",
       "      <td>Comm&amp;Mgmt</td>\n",
       "      <td>0</td>\n",
       "      <td>75.0</td>\n",
       "      <td>0</td>\n",
       "      <td>57.80</td>\n",
       "      <td>1</td>\n",
       "      <td>250000.0</td>\n",
       "    </tr>\n",
       "    <tr>\n",
       "      <th>3</th>\n",
       "      <td>4</td>\n",
       "      <td>1</td>\n",
       "      <td>56.00</td>\n",
       "      <td>Central</td>\n",
       "      <td>52.00</td>\n",
       "      <td>Central</td>\n",
       "      <td>Science</td>\n",
       "      <td>52.00</td>\n",
       "      <td>Sci&amp;Tech</td>\n",
       "      <td>0</td>\n",
       "      <td>66.0</td>\n",
       "      <td>1</td>\n",
       "      <td>59.43</td>\n",
       "      <td>0</td>\n",
       "      <td>0.0</td>\n",
       "    </tr>\n",
       "    <tr>\n",
       "      <th>4</th>\n",
       "      <td>5</td>\n",
       "      <td>1</td>\n",
       "      <td>85.80</td>\n",
       "      <td>Central</td>\n",
       "      <td>73.60</td>\n",
       "      <td>Central</td>\n",
       "      <td>Commerce</td>\n",
       "      <td>73.30</td>\n",
       "      <td>Comm&amp;Mgmt</td>\n",
       "      <td>0</td>\n",
       "      <td>96.8</td>\n",
       "      <td>0</td>\n",
       "      <td>55.50</td>\n",
       "      <td>1</td>\n",
       "      <td>425000.0</td>\n",
       "    </tr>\n",
       "  </tbody>\n",
       "</table>\n",
       "</div>"
      ],
      "text/plain": [
       "   sl_no  gender  ssc_p    ssc_b  hsc_p    hsc_b     hsc_s  degree_p  \\\n",
       "0      1       1  67.00   Others  91.00   Others  Commerce     58.00   \n",
       "1      2       1  79.33  Central  78.33   Others   Science     77.48   \n",
       "2      3       1  65.00  Central  68.00  Central      Arts     64.00   \n",
       "3      4       1  56.00  Central  52.00  Central   Science     52.00   \n",
       "4      5       1  85.80  Central  73.60  Central  Commerce     73.30   \n",
       "\n",
       "    degree_t  workex  etest_p  specialisation  mba_p  status    salary  \n",
       "0   Sci&Tech       0     55.0               1  58.80       1  270000.0  \n",
       "1   Sci&Tech       1     86.5               0  66.28       1  200000.0  \n",
       "2  Comm&Mgmt       0     75.0               0  57.80       1  250000.0  \n",
       "3   Sci&Tech       0     66.0               1  59.43       0       0.0  \n",
       "4  Comm&Mgmt       0     96.8               0  55.50       1  425000.0  "
      ]
     },
     "execution_count": 45,
     "metadata": {},
     "output_type": "execute_result"
    }
   ],
   "source": [
    "# Transformar os dados categoricos\n",
    "# LabelEncoder altera a coluna atual\n",
    "\n",
    "colunas = [\"gender\", \"workex\", \"specialisation\", \"status\"]\n",
    "\n",
    "Label_encoder = LabelEncoder()\n",
    "for col in colunas:\n",
    "    dados[col] = Label_encoder.fit_transform(dados[col])\n",
    "\n",
    "dados.head()"
   ]
  },
  {
   "cell_type": "code",
   "execution_count": 46,
   "id": "05074a24",
   "metadata": {},
   "outputs": [
    {
     "data": {
      "application/vnd.microsoft.datawrangler.viewer.v0+json": {
       "columns": [
        {
         "name": "index",
         "rawType": "int64",
         "type": "integer"
        },
        {
         "name": "sl_no",
         "rawType": "int64",
         "type": "integer"
        },
        {
         "name": "gender",
         "rawType": "int32",
         "type": "integer"
        },
        {
         "name": "ssc_p",
         "rawType": "float64",
         "type": "float"
        },
        {
         "name": "ssc_b",
         "rawType": "object",
         "type": "string"
        },
        {
         "name": "hsc_p",
         "rawType": "float64",
         "type": "float"
        },
        {
         "name": "hsc_b",
         "rawType": "object",
         "type": "string"
        },
        {
         "name": "hsc_s",
         "rawType": "object",
         "type": "string"
        },
        {
         "name": "degree_p",
         "rawType": "float64",
         "type": "float"
        },
        {
         "name": "degree_t",
         "rawType": "object",
         "type": "string"
        },
        {
         "name": "workex",
         "rawType": "int32",
         "type": "integer"
        },
        {
         "name": "etest_p",
         "rawType": "float64",
         "type": "float"
        },
        {
         "name": "specialisation",
         "rawType": "int32",
         "type": "integer"
        },
        {
         "name": "mba_p",
         "rawType": "float64",
         "type": "float"
        },
        {
         "name": "status",
         "rawType": "int32",
         "type": "integer"
        },
        {
         "name": "salary",
         "rawType": "float64",
         "type": "float"
        },
        {
         "name": "dummy_Arts",
         "rawType": "bool",
         "type": "boolean"
        },
        {
         "name": "dummy_Commerce",
         "rawType": "bool",
         "type": "boolean"
        },
        {
         "name": "dummy_Science",
         "rawType": "bool",
         "type": "boolean"
        },
        {
         "name": "dummy_Comm&Mgmt",
         "rawType": "bool",
         "type": "boolean"
        },
        {
         "name": "dummy_Others",
         "rawType": "bool",
         "type": "boolean"
        },
        {
         "name": "dummy_Sci&Tech",
         "rawType": "bool",
         "type": "boolean"
        }
       ],
       "ref": "9b001b7f-2866-40c0-b741-383d9796c1fd",
       "rows": [
        [
         "0",
         "1",
         "1",
         "67.0",
         "Others",
         "91.0",
         "Others",
         "Commerce",
         "58.0",
         "Sci&Tech",
         "0",
         "55.0",
         "1",
         "58.8",
         "1",
         "270000.0",
         "False",
         "True",
         "False",
         "False",
         "False",
         "True"
        ],
        [
         "1",
         "2",
         "1",
         "79.33",
         "Central",
         "78.33",
         "Others",
         "Science",
         "77.48",
         "Sci&Tech",
         "1",
         "86.5",
         "0",
         "66.28",
         "1",
         "200000.0",
         "False",
         "False",
         "True",
         "False",
         "False",
         "True"
        ],
        [
         "2",
         "3",
         "1",
         "65.0",
         "Central",
         "68.0",
         "Central",
         "Arts",
         "64.0",
         "Comm&Mgmt",
         "0",
         "75.0",
         "0",
         "57.8",
         "1",
         "250000.0",
         "True",
         "False",
         "False",
         "True",
         "False",
         "False"
        ],
        [
         "3",
         "4",
         "1",
         "56.0",
         "Central",
         "52.0",
         "Central",
         "Science",
         "52.0",
         "Sci&Tech",
         "0",
         "66.0",
         "1",
         "59.43",
         "0",
         "0.0",
         "False",
         "False",
         "True",
         "False",
         "False",
         "True"
        ],
        [
         "4",
         "5",
         "1",
         "85.8",
         "Central",
         "73.6",
         "Central",
         "Commerce",
         "73.3",
         "Comm&Mgmt",
         "0",
         "96.8",
         "0",
         "55.5",
         "1",
         "425000.0",
         "False",
         "True",
         "False",
         "True",
         "False",
         "False"
        ]
       ],
       "shape": {
        "columns": 21,
        "rows": 5
       }
      },
      "text/html": [
       "<div>\n",
       "<style scoped>\n",
       "    .dataframe tbody tr th:only-of-type {\n",
       "        vertical-align: middle;\n",
       "    }\n",
       "\n",
       "    .dataframe tbody tr th {\n",
       "        vertical-align: top;\n",
       "    }\n",
       "\n",
       "    .dataframe thead th {\n",
       "        text-align: right;\n",
       "    }\n",
       "</style>\n",
       "<table border=\"1\" class=\"dataframe\">\n",
       "  <thead>\n",
       "    <tr style=\"text-align: right;\">\n",
       "      <th></th>\n",
       "      <th>sl_no</th>\n",
       "      <th>gender</th>\n",
       "      <th>ssc_p</th>\n",
       "      <th>ssc_b</th>\n",
       "      <th>hsc_p</th>\n",
       "      <th>hsc_b</th>\n",
       "      <th>hsc_s</th>\n",
       "      <th>degree_p</th>\n",
       "      <th>degree_t</th>\n",
       "      <th>workex</th>\n",
       "      <th>...</th>\n",
       "      <th>specialisation</th>\n",
       "      <th>mba_p</th>\n",
       "      <th>status</th>\n",
       "      <th>salary</th>\n",
       "      <th>dummy_Arts</th>\n",
       "      <th>dummy_Commerce</th>\n",
       "      <th>dummy_Science</th>\n",
       "      <th>dummy_Comm&amp;Mgmt</th>\n",
       "      <th>dummy_Others</th>\n",
       "      <th>dummy_Sci&amp;Tech</th>\n",
       "    </tr>\n",
       "  </thead>\n",
       "  <tbody>\n",
       "    <tr>\n",
       "      <th>0</th>\n",
       "      <td>1</td>\n",
       "      <td>1</td>\n",
       "      <td>67.00</td>\n",
       "      <td>Others</td>\n",
       "      <td>91.00</td>\n",
       "      <td>Others</td>\n",
       "      <td>Commerce</td>\n",
       "      <td>58.00</td>\n",
       "      <td>Sci&amp;Tech</td>\n",
       "      <td>0</td>\n",
       "      <td>...</td>\n",
       "      <td>1</td>\n",
       "      <td>58.80</td>\n",
       "      <td>1</td>\n",
       "      <td>270000.0</td>\n",
       "      <td>False</td>\n",
       "      <td>True</td>\n",
       "      <td>False</td>\n",
       "      <td>False</td>\n",
       "      <td>False</td>\n",
       "      <td>True</td>\n",
       "    </tr>\n",
       "    <tr>\n",
       "      <th>1</th>\n",
       "      <td>2</td>\n",
       "      <td>1</td>\n",
       "      <td>79.33</td>\n",
       "      <td>Central</td>\n",
       "      <td>78.33</td>\n",
       "      <td>Others</td>\n",
       "      <td>Science</td>\n",
       "      <td>77.48</td>\n",
       "      <td>Sci&amp;Tech</td>\n",
       "      <td>1</td>\n",
       "      <td>...</td>\n",
       "      <td>0</td>\n",
       "      <td>66.28</td>\n",
       "      <td>1</td>\n",
       "      <td>200000.0</td>\n",
       "      <td>False</td>\n",
       "      <td>False</td>\n",
       "      <td>True</td>\n",
       "      <td>False</td>\n",
       "      <td>False</td>\n",
       "      <td>True</td>\n",
       "    </tr>\n",
       "    <tr>\n",
       "      <th>2</th>\n",
       "      <td>3</td>\n",
       "      <td>1</td>\n",
       "      <td>65.00</td>\n",
       "      <td>Central</td>\n",
       "      <td>68.00</td>\n",
       "      <td>Central</td>\n",
       "      <td>Arts</td>\n",
       "      <td>64.00</td>\n",
       "      <td>Comm&amp;Mgmt</td>\n",
       "      <td>0</td>\n",
       "      <td>...</td>\n",
       "      <td>0</td>\n",
       "      <td>57.80</td>\n",
       "      <td>1</td>\n",
       "      <td>250000.0</td>\n",
       "      <td>True</td>\n",
       "      <td>False</td>\n",
       "      <td>False</td>\n",
       "      <td>True</td>\n",
       "      <td>False</td>\n",
       "      <td>False</td>\n",
       "    </tr>\n",
       "    <tr>\n",
       "      <th>3</th>\n",
       "      <td>4</td>\n",
       "      <td>1</td>\n",
       "      <td>56.00</td>\n",
       "      <td>Central</td>\n",
       "      <td>52.00</td>\n",
       "      <td>Central</td>\n",
       "      <td>Science</td>\n",
       "      <td>52.00</td>\n",
       "      <td>Sci&amp;Tech</td>\n",
       "      <td>0</td>\n",
       "      <td>...</td>\n",
       "      <td>1</td>\n",
       "      <td>59.43</td>\n",
       "      <td>0</td>\n",
       "      <td>0.0</td>\n",
       "      <td>False</td>\n",
       "      <td>False</td>\n",
       "      <td>True</td>\n",
       "      <td>False</td>\n",
       "      <td>False</td>\n",
       "      <td>True</td>\n",
       "    </tr>\n",
       "    <tr>\n",
       "      <th>4</th>\n",
       "      <td>5</td>\n",
       "      <td>1</td>\n",
       "      <td>85.80</td>\n",
       "      <td>Central</td>\n",
       "      <td>73.60</td>\n",
       "      <td>Central</td>\n",
       "      <td>Commerce</td>\n",
       "      <td>73.30</td>\n",
       "      <td>Comm&amp;Mgmt</td>\n",
       "      <td>0</td>\n",
       "      <td>...</td>\n",
       "      <td>0</td>\n",
       "      <td>55.50</td>\n",
       "      <td>1</td>\n",
       "      <td>425000.0</td>\n",
       "      <td>False</td>\n",
       "      <td>True</td>\n",
       "      <td>False</td>\n",
       "      <td>True</td>\n",
       "      <td>False</td>\n",
       "      <td>False</td>\n",
       "    </tr>\n",
       "  </tbody>\n",
       "</table>\n",
       "<p>5 rows × 21 columns</p>\n",
       "</div>"
      ],
      "text/plain": [
       "   sl_no  gender  ssc_p    ssc_b  hsc_p    hsc_b     hsc_s  degree_p  \\\n",
       "0      1       1  67.00   Others  91.00   Others  Commerce     58.00   \n",
       "1      2       1  79.33  Central  78.33   Others   Science     77.48   \n",
       "2      3       1  65.00  Central  68.00  Central      Arts     64.00   \n",
       "3      4       1  56.00  Central  52.00  Central   Science     52.00   \n",
       "4      5       1  85.80  Central  73.60  Central  Commerce     73.30   \n",
       "\n",
       "    degree_t  workex  ...  specialisation  mba_p  status    salary  \\\n",
       "0   Sci&Tech       0  ...               1  58.80       1  270000.0   \n",
       "1   Sci&Tech       1  ...               0  66.28       1  200000.0   \n",
       "2  Comm&Mgmt       0  ...               0  57.80       1  250000.0   \n",
       "3   Sci&Tech       0  ...               1  59.43       0       0.0   \n",
       "4  Comm&Mgmt       0  ...               0  55.50       1  425000.0   \n",
       "\n",
       "   dummy_Arts  dummy_Commerce  dummy_Science  dummy_Comm&Mgmt  dummy_Others  \\\n",
       "0       False            True          False            False         False   \n",
       "1       False           False           True            False         False   \n",
       "2        True           False          False             True         False   \n",
       "3       False           False           True            False         False   \n",
       "4       False            True          False             True         False   \n",
       "\n",
       "   dummy_Sci&Tech  \n",
       "0            True  \n",
       "1            True  \n",
       "2           False  \n",
       "3            True  \n",
       "4           False  \n",
       "\n",
       "[5 rows x 21 columns]"
      ]
     },
     "execution_count": 46,
     "metadata": {},
     "output_type": "execute_result"
    }
   ],
   "source": [
    "# One-Hot Encoding\n",
    "dummy_hsc_s = pd.get_dummies(dados[\"hsc_s\"], prefix=\"dummy\")\n",
    "dummy_degree_t = pd.get_dummies(dados[\"degree_t\"], prefix=\"dummy\")\n",
    "\n",
    "dados_dummy = pd.concat([dados,dummy_hsc_s,dummy_degree_t], axis=1)\n",
    "\n",
    "dados_dummy.head()"
   ]
  },
  {
   "cell_type": "code",
   "execution_count": 47,
   "id": "a8d8b382",
   "metadata": {},
   "outputs": [
    {
     "data": {
      "application/vnd.microsoft.datawrangler.viewer.v0+json": {
       "columns": [
        {
         "name": "index",
         "rawType": "int64",
         "type": "integer"
        },
        {
         "name": "sl_no",
         "rawType": "int64",
         "type": "integer"
        },
        {
         "name": "gender",
         "rawType": "int32",
         "type": "integer"
        },
        {
         "name": "ssc_p",
         "rawType": "float64",
         "type": "float"
        },
        {
         "name": "ssc_b",
         "rawType": "object",
         "type": "string"
        },
        {
         "name": "hsc_p",
         "rawType": "float64",
         "type": "float"
        },
        {
         "name": "hsc_b",
         "rawType": "object",
         "type": "string"
        },
        {
         "name": "degree_p",
         "rawType": "float64",
         "type": "float"
        },
        {
         "name": "workex",
         "rawType": "int32",
         "type": "integer"
        },
        {
         "name": "etest_p",
         "rawType": "float64",
         "type": "float"
        },
        {
         "name": "specialisation",
         "rawType": "int32",
         "type": "integer"
        },
        {
         "name": "mba_p",
         "rawType": "float64",
         "type": "float"
        },
        {
         "name": "status",
         "rawType": "int32",
         "type": "integer"
        },
        {
         "name": "dummy_Arts",
         "rawType": "bool",
         "type": "boolean"
        },
        {
         "name": "dummy_Commerce",
         "rawType": "bool",
         "type": "boolean"
        },
        {
         "name": "dummy_Science",
         "rawType": "bool",
         "type": "boolean"
        },
        {
         "name": "dummy_Comm&Mgmt",
         "rawType": "bool",
         "type": "boolean"
        },
        {
         "name": "dummy_Others",
         "rawType": "bool",
         "type": "boolean"
        },
        {
         "name": "dummy_Sci&Tech",
         "rawType": "bool",
         "type": "boolean"
        }
       ],
       "ref": "022130e5-ba94-40a8-9203-1bb2aeb3fa74",
       "rows": [
        [
         "0",
         "1",
         "1",
         "67.0",
         "Others",
         "91.0",
         "Others",
         "58.0",
         "0",
         "55.0",
         "1",
         "58.8",
         "1",
         "False",
         "True",
         "False",
         "False",
         "False",
         "True"
        ],
        [
         "1",
         "2",
         "1",
         "79.33",
         "Central",
         "78.33",
         "Others",
         "77.48",
         "1",
         "86.5",
         "0",
         "66.28",
         "1",
         "False",
         "False",
         "True",
         "False",
         "False",
         "True"
        ],
        [
         "2",
         "3",
         "1",
         "65.0",
         "Central",
         "68.0",
         "Central",
         "64.0",
         "0",
         "75.0",
         "0",
         "57.8",
         "1",
         "True",
         "False",
         "False",
         "True",
         "False",
         "False"
        ],
        [
         "3",
         "4",
         "1",
         "56.0",
         "Central",
         "52.0",
         "Central",
         "52.0",
         "0",
         "66.0",
         "1",
         "59.43",
         "0",
         "False",
         "False",
         "True",
         "False",
         "False",
         "True"
        ],
        [
         "4",
         "5",
         "1",
         "85.8",
         "Central",
         "73.6",
         "Central",
         "73.3",
         "0",
         "96.8",
         "0",
         "55.5",
         "1",
         "False",
         "True",
         "False",
         "True",
         "False",
         "False"
        ]
       ],
       "shape": {
        "columns": 18,
        "rows": 5
       }
      },
      "text/html": [
       "<div>\n",
       "<style scoped>\n",
       "    .dataframe tbody tr th:only-of-type {\n",
       "        vertical-align: middle;\n",
       "    }\n",
       "\n",
       "    .dataframe tbody tr th {\n",
       "        vertical-align: top;\n",
       "    }\n",
       "\n",
       "    .dataframe thead th {\n",
       "        text-align: right;\n",
       "    }\n",
       "</style>\n",
       "<table border=\"1\" class=\"dataframe\">\n",
       "  <thead>\n",
       "    <tr style=\"text-align: right;\">\n",
       "      <th></th>\n",
       "      <th>sl_no</th>\n",
       "      <th>gender</th>\n",
       "      <th>ssc_p</th>\n",
       "      <th>ssc_b</th>\n",
       "      <th>hsc_p</th>\n",
       "      <th>hsc_b</th>\n",
       "      <th>degree_p</th>\n",
       "      <th>workex</th>\n",
       "      <th>etest_p</th>\n",
       "      <th>specialisation</th>\n",
       "      <th>mba_p</th>\n",
       "      <th>status</th>\n",
       "      <th>dummy_Arts</th>\n",
       "      <th>dummy_Commerce</th>\n",
       "      <th>dummy_Science</th>\n",
       "      <th>dummy_Comm&amp;Mgmt</th>\n",
       "      <th>dummy_Others</th>\n",
       "      <th>dummy_Sci&amp;Tech</th>\n",
       "    </tr>\n",
       "  </thead>\n",
       "  <tbody>\n",
       "    <tr>\n",
       "      <th>0</th>\n",
       "      <td>1</td>\n",
       "      <td>1</td>\n",
       "      <td>67.00</td>\n",
       "      <td>Others</td>\n",
       "      <td>91.00</td>\n",
       "      <td>Others</td>\n",
       "      <td>58.00</td>\n",
       "      <td>0</td>\n",
       "      <td>55.0</td>\n",
       "      <td>1</td>\n",
       "      <td>58.80</td>\n",
       "      <td>1</td>\n",
       "      <td>False</td>\n",
       "      <td>True</td>\n",
       "      <td>False</td>\n",
       "      <td>False</td>\n",
       "      <td>False</td>\n",
       "      <td>True</td>\n",
       "    </tr>\n",
       "    <tr>\n",
       "      <th>1</th>\n",
       "      <td>2</td>\n",
       "      <td>1</td>\n",
       "      <td>79.33</td>\n",
       "      <td>Central</td>\n",
       "      <td>78.33</td>\n",
       "      <td>Others</td>\n",
       "      <td>77.48</td>\n",
       "      <td>1</td>\n",
       "      <td>86.5</td>\n",
       "      <td>0</td>\n",
       "      <td>66.28</td>\n",
       "      <td>1</td>\n",
       "      <td>False</td>\n",
       "      <td>False</td>\n",
       "      <td>True</td>\n",
       "      <td>False</td>\n",
       "      <td>False</td>\n",
       "      <td>True</td>\n",
       "    </tr>\n",
       "    <tr>\n",
       "      <th>2</th>\n",
       "      <td>3</td>\n",
       "      <td>1</td>\n",
       "      <td>65.00</td>\n",
       "      <td>Central</td>\n",
       "      <td>68.00</td>\n",
       "      <td>Central</td>\n",
       "      <td>64.00</td>\n",
       "      <td>0</td>\n",
       "      <td>75.0</td>\n",
       "      <td>0</td>\n",
       "      <td>57.80</td>\n",
       "      <td>1</td>\n",
       "      <td>True</td>\n",
       "      <td>False</td>\n",
       "      <td>False</td>\n",
       "      <td>True</td>\n",
       "      <td>False</td>\n",
       "      <td>False</td>\n",
       "    </tr>\n",
       "    <tr>\n",
       "      <th>3</th>\n",
       "      <td>4</td>\n",
       "      <td>1</td>\n",
       "      <td>56.00</td>\n",
       "      <td>Central</td>\n",
       "      <td>52.00</td>\n",
       "      <td>Central</td>\n",
       "      <td>52.00</td>\n",
       "      <td>0</td>\n",
       "      <td>66.0</td>\n",
       "      <td>1</td>\n",
       "      <td>59.43</td>\n",
       "      <td>0</td>\n",
       "      <td>False</td>\n",
       "      <td>False</td>\n",
       "      <td>True</td>\n",
       "      <td>False</td>\n",
       "      <td>False</td>\n",
       "      <td>True</td>\n",
       "    </tr>\n",
       "    <tr>\n",
       "      <th>4</th>\n",
       "      <td>5</td>\n",
       "      <td>1</td>\n",
       "      <td>85.80</td>\n",
       "      <td>Central</td>\n",
       "      <td>73.60</td>\n",
       "      <td>Central</td>\n",
       "      <td>73.30</td>\n",
       "      <td>0</td>\n",
       "      <td>96.8</td>\n",
       "      <td>0</td>\n",
       "      <td>55.50</td>\n",
       "      <td>1</td>\n",
       "      <td>False</td>\n",
       "      <td>True</td>\n",
       "      <td>False</td>\n",
       "      <td>True</td>\n",
       "      <td>False</td>\n",
       "      <td>False</td>\n",
       "    </tr>\n",
       "  </tbody>\n",
       "</table>\n",
       "</div>"
      ],
      "text/plain": [
       "   sl_no  gender  ssc_p    ssc_b  hsc_p    hsc_b  degree_p  workex  etest_p  \\\n",
       "0      1       1  67.00   Others  91.00   Others     58.00       0     55.0   \n",
       "1      2       1  79.33  Central  78.33   Others     77.48       1     86.5   \n",
       "2      3       1  65.00  Central  68.00  Central     64.00       0     75.0   \n",
       "3      4       1  56.00  Central  52.00  Central     52.00       0     66.0   \n",
       "4      5       1  85.80  Central  73.60  Central     73.30       0     96.8   \n",
       "\n",
       "   specialisation  mba_p  status  dummy_Arts  dummy_Commerce  dummy_Science  \\\n",
       "0               1  58.80       1       False            True          False   \n",
       "1               0  66.28       1       False           False           True   \n",
       "2               0  57.80       1        True           False          False   \n",
       "3               1  59.43       0       False           False           True   \n",
       "4               0  55.50       1       False            True          False   \n",
       "\n",
       "   dummy_Comm&Mgmt  dummy_Others  dummy_Sci&Tech  \n",
       "0            False         False            True  \n",
       "1            False         False            True  \n",
       "2             True         False           False  \n",
       "3            False         False            True  \n",
       "4             True         False           False  "
      ]
     },
     "execution_count": 47,
     "metadata": {},
     "output_type": "execute_result"
    }
   ],
   "source": [
    "# Dropar tabelas \n",
    "dados_dummy.drop([\"hsc_s\",\"degree_t\",\"salary\"],axis=1,inplace=True)\n",
    "dados_dummy.head()"
   ]
  },
  {
   "cell_type": "code",
   "execution_count": 48,
   "id": "82ed5a70",
   "metadata": {},
   "outputs": [
    {
     "data": {
      "image/png": "[encoded data removed]",
      "text/plain": [
       "<Figure size 1500x500 with 2 Axes>"
      ]
     },
     "metadata": {},
     "output_type": "display_data"
    }
   ],
   "source": [
    "# Criar uma matriz de correlação\n",
    "correlation_matriz = dados_dummy.select_dtypes(include=['number','boolean']).corr().round(2)\n",
    "\n",
    "fig, ax = plt.subplots(figsize=(15,5))\n",
    "\n",
    "sns.heatmap(data = correlation_matriz, annot=True, linewidths=5, ax=ax)\n",
    "plt.show()"
   ]
  },
  {
   "cell_type": "code",
   "execution_count": 49,
   "id": "5cd43c60",
   "metadata": {},
   "outputs": [],
   "source": [
    "# Separar os dados \n",
    "\n",
    "x = dados_dummy[[\"ssc_p\",\"hsc_p\",\"degree_p\",\"workex\",\"mba_p\"]]\n",
    "y = dados_dummy[\"status\"]"
   ]
  },
  {
   "cell_type": "code",
   "execution_count": 50,
   "id": "364beaa3",
   "metadata": {},
   "outputs": [],
   "source": [
    "# Separar os dados em treino e teste \n",
    "\n",
    "x_train, x_test, y_train, y_test = train_test_split(x,y,test_size=0.2, stratify=y, random_state=7)"
   ]
  },
  {
   "cell_type": "code",
   "execution_count": 51,
   "id": "00eec053",
   "metadata": {},
   "outputs": [
    {
     "data": {
      "text/plain": [
       "(172, 5)"
      ]
     },
     "execution_count": 51,
     "metadata": {},
     "output_type": "execute_result"
    }
   ],
   "source": [
    "x_train.shape"
   ]
  },
  {
   "cell_type": "code",
   "execution_count": 52,
   "id": "cddfb070",
   "metadata": {},
   "outputs": [
    {
     "data": {
      "text/plain": [
       "(43, 5)"
      ]
     },
     "execution_count": 52,
     "metadata": {},
     "output_type": "execute_result"
    }
   ],
   "source": [
    "x_test.shape"
   ]
  },
  {
   "cell_type": "code",
   "execution_count": 53,
   "id": "8c3d4b4a",
   "metadata": {},
   "outputs": [
    {
     "data": {
      "application/vnd.microsoft.datawrangler.viewer.v0+json": {
       "columns": [
        {
         "name": "index",
         "rawType": "int64",
         "type": "integer"
        },
        {
         "name": "ssc_p",
         "rawType": "float64",
         "type": "float"
        },
        {
         "name": "hsc_p",
         "rawType": "float64",
         "type": "float"
        },
        {
         "name": "degree_p",
         "rawType": "float64",
         "type": "float"
        },
        {
         "name": "workex",
         "rawType": "int32",
         "type": "integer"
        },
        {
         "name": "mba_p",
         "rawType": "float64",
         "type": "float"
        }
       ],
       "ref": "e2ea2616-906d-4ec2-8f58-2ea22aa5a1f9",
       "rows": [
        [
         "0",
         "67.0",
         "91.0",
         "58.0",
         "0",
         "58.8"
        ],
        [
         "1",
         "79.33",
         "78.33",
         "77.48",
         "1",
         "66.28"
        ],
        [
         "2",
         "65.0",
         "68.0",
         "64.0",
         "0",
         "57.8"
        ],
        [
         "3",
         "56.0",
         "52.0",
         "52.0",
         "0",
         "59.43"
        ],
        [
         "4",
         "85.8",
         "73.6",
         "73.3",
         "0",
         "55.5"
        ]
       ],
       "shape": {
        "columns": 5,
        "rows": 5
       }
      },
      "text/html": [
       "<div>\n",
       "<style scoped>\n",
       "    .dataframe tbody tr th:only-of-type {\n",
       "        vertical-align: middle;\n",
       "    }\n",
       "\n",
       "    .dataframe tbody tr th {\n",
       "        vertical-align: top;\n",
       "    }\n",
       "\n",
       "    .dataframe thead th {\n",
       "        text-align: right;\n",
       "    }\n",
       "</style>\n",
       "<table border=\"1\" class=\"dataframe\">\n",
       "  <thead>\n",
       "    <tr style=\"text-align: right;\">\n",
       "      <th></th>\n",
       "      <th>ssc_p</th>\n",
       "      <th>hsc_p</th>\n",
       "      <th>degree_p</th>\n",
       "      <th>workex</th>\n",
       "      <th>mba_p</th>\n",
       "    </tr>\n",
       "  </thead>\n",
       "  <tbody>\n",
       "    <tr>\n",
       "      <th>0</th>\n",
       "      <td>67.00</td>\n",
       "      <td>91.00</td>\n",
       "      <td>58.00</td>\n",
       "      <td>0</td>\n",
       "      <td>58.80</td>\n",
       "    </tr>\n",
       "    <tr>\n",
       "      <th>1</th>\n",
       "      <td>79.33</td>\n",
       "      <td>78.33</td>\n",
       "      <td>77.48</td>\n",
       "      <td>1</td>\n",
       "      <td>66.28</td>\n",
       "    </tr>\n",
       "    <tr>\n",
       "      <th>2</th>\n",
       "      <td>65.00</td>\n",
       "      <td>68.00</td>\n",
       "      <td>64.00</td>\n",
       "      <td>0</td>\n",
       "      <td>57.80</td>\n",
       "    </tr>\n",
       "    <tr>\n",
       "      <th>3</th>\n",
       "      <td>56.00</td>\n",
       "      <td>52.00</td>\n",
       "      <td>52.00</td>\n",
       "      <td>0</td>\n",
       "      <td>59.43</td>\n",
       "    </tr>\n",
       "    <tr>\n",
       "      <th>4</th>\n",
       "      <td>85.80</td>\n",
       "      <td>73.60</td>\n",
       "      <td>73.30</td>\n",
       "      <td>0</td>\n",
       "      <td>55.50</td>\n",
       "    </tr>\n",
       "  </tbody>\n",
       "</table>\n",
       "</div>"
      ],
      "text/plain": [
       "   ssc_p  hsc_p  degree_p  workex  mba_p\n",
       "0  67.00  91.00     58.00       0  58.80\n",
       "1  79.33  78.33     77.48       1  66.28\n",
       "2  65.00  68.00     64.00       0  57.80\n",
       "3  56.00  52.00     52.00       0  59.43\n",
       "4  85.80  73.60     73.30       0  55.50"
      ]
     },
     "execution_count": 53,
     "metadata": {},
     "output_type": "execute_result"
    }
   ],
   "source": [
    "# Verificar a escala dos dados\n",
    "x.head()"
   ]
  },
  {
   "cell_type": "code",
   "execution_count": 54,
   "id": "3f249228",
   "metadata": {},
   "outputs": [],
   "source": [
    "scaler = StandardScaler()\n",
    "\n",
    "scaler.fit(x_train)\n",
    "x_train_escalonado = scaler.transform(x_train)\n",
    "x_test_escalonado = scaler.transform(x_test)"
   ]
  },
  {
   "cell_type": "code",
   "execution_count": 55,
   "id": "ff0c7d9c",
   "metadata": {},
   "outputs": [
    {
     "data": {
      "text/plain": [
       "array([[-1.92672757, -0.66933853, -0.31559155, -0.70402569, -0.11827471],\n",
       "       [ 0.26708378, -0.33015908, -0.72064899, -0.70402569,  1.18141841],\n",
       "       [-0.89983715, -0.57243011,  0.76456162, -0.70402569, -1.50694011],\n",
       "       [ 1.06059001,  0.97810451,  2.51981052, -0.70402569,  1.18665207],\n",
       "       [-1.4599592 , -1.54151426, -0.72064899, -0.70402569, -0.6521084 ],\n",
       "       [ 0.30349171,  0.58853269, -0.09956092, -0.70402569,  1.63500259],\n",
       "       [ 0.50046796, -0.76624694, -1.39574473, -0.70402569, -1.67790646],\n",
       "       [ 1.80741941, -0.08788804,  1.97973393,  1.42040271,  1.83562636],\n",
       "       [-0.05965408, -0.28170487, -0.31559155, -0.70402569, -0.06768263],\n",
       "       [-0.43306878, -0.37861329, -0.18057241, -0.70402569, -0.27354006],\n",
       "       [-0.43306878,  0.00902037, -0.31559155, -0.70402569,  0.31786392],\n",
       "       [-0.52642246, -0.54045034, -0.28723753, -0.70402569, -0.39042522],\n",
       "       [-1.55331288, -2.12296474, -1.26072558, -0.70402569, -1.88550845],\n",
       "       [-0.7131298 , -0.28170487, -1.39574473,  1.42040271, -0.9818292 ],\n",
       "       [-0.10633092, -0.33015908, -0.73415091, -0.70402569, -1.26095793],\n",
       "       [-0.2837029 ,  1.7368974 ,  0.72675626, -0.70402569, -0.43752819],\n",
       "       [ 0.78052899,  1.36573817,  1.5746765 ,  1.42040271,  1.43437882],\n",
       "       [-0.52642246,  0.10592878, -1.12570643, -0.70402569, -1.91342132],\n",
       "       [ 1.52735838,  0.68737927,  0.89958076, -0.70402569,  1.93157686],\n",
       "       [ 0.12705327,  0.68737927, -0.18057241, -0.70402569, -0.86319949],\n",
       "       [-0.52642246, -0.28170487, -0.31559155, -0.70402569, -0.91204702],\n",
       "       [ 0.50046796,  1.17192134, -0.18057241,  1.42040271, -0.01709055],\n",
       "       [ 2.03146822, -0.02392849,  0.66329726, -0.70402569,  0.16957679],\n",
       "       [ 0.50046796,  1.17192134,  0.89958076,  1.42040271,  0.62316096],\n",
       "       [ 1.09139672,  1.20390112,  1.50446654,  1.42040271,  0.70166592],\n",
       "       [-0.10633092,  0.43541739,  0.75511028, -0.70402569,  0.35101046],\n",
       "       [ 0.40711429, -0.96006377,  0.35950418, -0.70402569,  0.58826987],\n",
       "       [ 0.50046796,  1.26882975,  0.76456162, -0.70402569, -0.16886679],\n",
       "       [-2.02008125, -1.61904099,  1.70969564, -0.70402569, -1.56451041],\n",
       "       [ 1.06059001,  0.97810451, -0.09956092, -0.70402569, -1.18419753],\n",
       "       [ 0.03369959, -0.96006377,  0.22448503, -0.70402569,  1.01394118],\n",
       "       [ 0.12705327, -0.37861329, -0.04555326, -0.70402569,  0.99998474],\n",
       "       [ 1.90077308,  0.59047086,  1.5746765 , -0.70402569,  1.6001115 ],\n",
       "       [-0.80648348, -0.18479646, -1.12570643, -0.70402569, -1.21385495],\n",
       "       [-0.05965408, -0.28170487,  0.76456162, -0.70402569, -0.32238759],\n",
       "       [ 1.20995589,  1.559555  ,  1.52066884, -0.70402569,  2.13394518],\n",
       "       [ 0.59382164, -0.66933853,  0.89958076,  1.42040271, -0.96961732],\n",
       "       [ 0.78052899, -0.18479646,  0.76456162, -0.70402569,  0.74527978],\n",
       "       [ 1.62071206, -0.57243011,  0.957639  ,  1.42040271, -0.16886679],\n",
       "       [-0.0447175 ,  0.63892506, -0.403354  , -0.70402569,  0.56907977],\n",
       "       [-0.43306878,  0.59047086,  0.22448503, -0.70402569, -0.31715393],\n",
       "       [ 0.19240084, -1.8322395 ,  0.85907502, -0.70402569, -0.52650047],\n",
       "       [-0.52642246, -0.28170487, -0.04555326, -0.70402569, -1.24176783],\n",
       "       [-1.27325185,  1.559555  , -0.4506107 , -0.70402569, -0.48637572],\n",
       "       [ 0.50046796, -0.28170487, -0.04555326, -0.70402569, -0.3066866 ],\n",
       "       [-0.52642246, -0.08788804, -0.85566814, -0.70402569,  0.3300758 ],\n",
       "       [ 0.31376061,  1.26882975, -0.04555326,  1.42040271, -0.82133019],\n",
       "       [ 1.52362424, -1.25078901,  3.3299254 , -0.70402569,  1.30004812],\n",
       "       [ 0.12705327, -0.08788804, -1.26072558, -0.70402569, -1.12662723],\n",
       "       [-2.11343492, -0.86315536, -1.12570643,  1.42040271,  0.46964016],\n",
       "       [ 1.34065103,  2.33482231,  2.24977223, -0.70402569,  1.96472339],\n",
       "       [-0.2276907 , -0.43675833, -0.20757624,  1.42040271, -0.85796583],\n",
       "       [-1.36660553, -0.28170487, -0.85566814,  1.42040271, -1.5802114 ],\n",
       "       [ 0.03369959,  0.97810451,  1.03459991, -0.70402569,  0.23238075],\n",
       "       [ 0.50046796, -0.76624694, -0.04555326, -0.70402569, -0.94170445],\n",
       "       [-0.05965408,  0.39665403, -0.18057241, -0.70402569,  1.69257289],\n",
       "       [ 0.22040694,  0.78428768, -0.18057241, -0.70402569,  0.00384411],\n",
       "       [ 0.50046796,  0.68737927, -0.04555326,  1.42040271,  1.01394118],\n",
       "       [ 0.22040694, -0.28170487,  0.49452332,  1.42040271, -0.04500342],\n",
       "       [-1.27325185, -1.8322395 , -1.26072558, -0.70402569, -0.89983514],\n",
       "       [ 0.59382164,  0.68737927,  0.89958076,  1.42040271,  0.9476481 ],\n",
       "       [-0.52642246, -1.44460584, -1.93582131, -0.70402569,  0.08932728],\n",
       "       [ 0.93642962, -0.09854797,  0.58498615, -0.70402569, -0.3258767 ],\n",
       "       [ 0.87388266,  2.04409707, -0.99068729, -0.70402569,  1.11163623],\n",
       "       [ 1.54602912,  0.33850898, -0.18057241,  1.42040271, -1.66395002],\n",
       "       [ 0.40711429, -0.28170487,  1.50716692,  1.42040271, -1.35690843],\n",
       "       [-1.11641768, -0.44354192, -1.27827807, -0.70402569, -0.6904886 ],\n",
       "       [ 1.24729736,  0.2028372 , -0.31559155, -0.70402569,  0.05269163],\n",
       "       [-0.10633092,  0.0865471 ,  0.40000992,  1.42040271,  1.52509565],\n",
       "       [-0.05965408,  0.10592878,  0.89958076,  1.42040271,  1.30179267],\n",
       "       [-1.64666655, -2.80132364, -1.93582131, -0.70402569, -1.07254604],\n",
       "       [ 1.34065103, -0.18479646,  0.89958076,  1.42040271,  1.65942635],\n",
       "       [ 0.59382164, -0.37861329,  0.22448503, -0.70402569, -0.74456979],\n",
       "       [ 0.9485656 , -0.18479646, -0.28858773, -0.70402569,  1.72397487],\n",
       "       [ 1.80741941,  2.04409707,  0.22448503, -0.70402569,  0.11200649],\n",
       "       [-0.61977613,  0.39665403, -0.31559155, -0.70402569, -0.48114205],\n",
       "       [-1.4599592 , -1.34769743, -1.53076387, -0.70402569, -0.51254403],\n",
       "       [ 0.59382164, -0.26619953, -0.18057241,  1.42040271,  1.30877089],\n",
       "       [ 0.31376061, -0.70228739, -1.12570643,  1.42040271, -0.16712224],\n",
       "       [-0.33971511,  0.41603571, -0.72064899, -0.70402569,  0.04222431],\n",
       "       [-1.4599592 , -0.08788804, -1.26072558,  1.42040271, -0.42706086],\n",
       "       [-0.24636143,  0.2028372 , -0.31559155, -0.70402569, -0.77771632],\n",
       "       [ 0.20173621, -0.49490338,  0.79561602, -0.70402569,  1.14303821],\n",
       "       [-0.89983715, -0.4755217 , -0.85566814,  1.42040271, -0.24562719],\n",
       "       [-1.4599592 , -0.28170487, -0.18057241,  1.42040271, -1.07603515],\n",
       "       [-0.24636143,  0.2028372 ,  0.35950418, -0.70402569, -1.26444704],\n",
       "       [ 1.06059001, -0.4755217 ,  1.23712863,  1.42040271,  1.03662039],\n",
       "       [-0.24636143, -0.08788804,  1.16961906, -0.70402569, -0.59104899],\n",
       "       [ 1.695395  ,  0.74552432,  0.94008651, -0.70402569, -1.17896386],\n",
       "       [ 1.76074257, -0.16541478,  0.14347354, -0.70402569, -0.44799552],\n",
       "       [-0.43306878,  0.10592878, -0.04555326, -0.70402569, -0.79690642],\n",
       "       [-0.24636143, -0.10726973,  0.42701375,  1.42040271, -0.92774801],\n",
       "       [ 0.22040694, -0.28170487, -0.04555326, -0.70402569, -0.37472423],\n",
       "       [ 0.91122413, -0.57243011, -0.21567739,  1.42040271,  0.23761441],\n",
       "       [ 0.91495828,  2.52863914,  0.76456162,  1.42040271,  0.84995305],\n",
       "       [ 1.52735838,  0.8811961 ,  0.35950418,  1.42040271,  0.01780054],\n",
       "       [ 1.15394368,  1.36573817,  0.76456162,  1.42040271,  0.65979661],\n",
       "       [-1.0865445 , -1.34769743, -1.93582131, -0.70402569, -0.49335393],\n",
       "       [-0.52642246, -1.8322395 , -2.20585961, -0.70402569, -1.27316981],\n",
       "       [-0.89983715, -2.5105984 , -0.99068729, -0.70402569, -0.60151632],\n",
       "       [-1.17989818, -1.56089594,  0.12322067,  1.42040271, -1.86282924],\n",
       "       [ 1.60764254,  0.10592878,  1.5746765 , -0.70402569,  1.09419068],\n",
       "       [ 0.87388266,  0.39665403, -0.99068729,  1.42040271, -1.3656312 ],\n",
       "       [ 0.59382164,  0.39665403,  0.76456162,  1.42040271, -0.87541138],\n",
       "       [-1.403947  , -0.03168116,  0.77941372, -0.70402569, -0.97659554],\n",
       "       [ 0.96723634,  1.07501293,  1.84471479, -0.70402569,  0.77842632],\n",
       "       [-0.80648348, -0.57243011, -1.39574473, -0.70402569, -0.76027078],\n",
       "       [ 1.01391317, -0.03943384,  0.08946588,  1.42040271,  0.45393917],\n",
       "       [ 0.84587656,  2.30574979, -0.04555326,  1.42040271,  1.09767979],\n",
       "       [-1.92672757, -1.05697219, -0.18057241, -0.70402569,  0.48534116],\n",
       "       [-1.55331288, -1.1538806 , -0.72064899, -0.70402569, -0.28226284],\n",
       "       [ 0.59382164,  0.00902037, -1.12570643, -0.70402569, -0.35378957],\n",
       "       [-2.2067886 , -0.76624694, -1.53076387,  1.42040271, -0.64861929],\n",
       "       [ 0.87388266,  0.68737927,  1.97973393,  1.42040271,  1.29830356],\n",
       "       [-2.49711852, -1.94562234, -1.80080217, -0.70402569,  0.56384611],\n",
       "       [-0.61230784, -1.54151426, -1.66578302, -0.70402569,  0.5987372 ],\n",
       "       [-0.89983715, -0.37861329, -0.31559155, -0.70402569, -1.27142525],\n",
       "       [-1.17989818,  0.10592878, -0.31559155, -0.70402569,  0.87612137],\n",
       "       [-0.52642246, -0.76624694, -1.80080217, -0.70402569, -0.35553413],\n",
       "       [-1.12388597, -1.44460584, -1.19321601, -0.70402569,  0.0806045 ],\n",
       "       [-1.27325185,  1.13315797,  0.38650801, -0.70402569,  0.81680652],\n",
       "       [-0.54509319, -1.8322395 , -1.61447574, -0.70402569, -1.06905693],\n",
       "       [ 0.50046796, -0.18479646,  1.43965735,  1.42040271, -0.22294798],\n",
       "       [-0.05965408, -1.25078901, -0.18057241, -0.70402569, -0.68699949],\n",
       "       [ 0.85147778,  1.02655872,  0.15697546,  1.42040271,  0.3300758 ],\n",
       "       [ 0.1737301 ,  0.39665403,  0.76456162, -0.70402569, -1.30108268],\n",
       "       [-0.33971511,  0.10592878,  0.44051567,  1.42040271,  1.61057882],\n",
       "       [-1.25458112, -0.28170487, -1.12570643, -0.70402569, -0.66606483],\n",
       "       [-1.4599592 , -0.86315536, -2.09784429, -0.70402569,  0.09281639],\n",
       "       [-0.15300776,  0.97810451,  0.76456162,  1.42040271, -0.57709255],\n",
       "       [ 0.12705327, -0.37861329,  0.35950418,  1.42040271,  0.01605599],\n",
       "       [-0.43306878,  0.53232581, -0.66664134, -0.70402569,  0.80633919],\n",
       "       [-0.52642246,  0.59047086, -0.18057241, -0.70402569, -1.00625297],\n",
       "       [ 0.05237033,  0.66799759,  0.03545823,  1.42040271,  1.49892734],\n",
       "       [ 0.12705327,  1.17192134,  0.76456162, -0.70402569,  0.08409361],\n",
       "       [ 1.54602912,  0.72614264,  0.07461378, -0.70402569,  0.0387352 ],\n",
       "       [-0.05965408,  0.2028372 , -0.31559155,  1.42040271, -1.52961932],\n",
       "       [ 1.19128515,  0.72614264,  1.53687113,  1.42040271,  2.44273133],\n",
       "       [-1.0305323 , -0.10726973,  0.52152715, -0.70402569,  0.86216493],\n",
       "       [ 0.12705327, -0.57243011, -0.18057241, -0.70402569, -1.64824903],\n",
       "       [ 1.80741941,  0.78428768, -0.18057241,  1.42040271,  1.75014319],\n",
       "       [ 1.52735838,  1.26882975,  0.22448503,  1.42040271,  0.77319265],\n",
       "       [-0.43306878,  0.02840205, -0.09956092,  1.42040271,  0.04920252],\n",
       "       [-0.89983715,  0.39665403, -0.72064899, -0.70402569, -1.7529223 ],\n",
       "       [ 1.43400471,  0.78428768, -0.04555326, -0.70402569, -0.66257572],\n",
       "       [ 0.87388266,  0.8811961 ,  0.89958076, -0.70402569,  0.83599661],\n",
       "       [-0.61977613,  1.559555  ,  0.35950418, -0.70402569, -0.68874404],\n",
       "       [-0.71686395, -2.30127622, -0.68554402, -0.70402569,  0.56210155],\n",
       "       [-0.05965408,  2.43173072, -1.12570643, -0.70402569, -0.60326087],\n",
       "       [ 1.23982907,  1.22037555,  0.08946588, -0.70402569, -0.22120343],\n",
       "       [ 1.31264493, -0.28170487,  0.08946588,  1.42040271,  1.38553129],\n",
       "       [-1.4599592 , -1.63842267, -1.12570643, -0.70402569, -0.29098561],\n",
       "       [-0.43306878,  0.10592878, -0.31559155, -0.70402569,  0.7330679 ],\n",
       "       [ 1.62071206,  2.33482231,  2.11475308, -0.70402569,  1.00696296],\n",
       "       [ 0.61249237,  2.10224212,  1.47341214,  1.42040271,  0.66328572],\n",
       "       [-0.61977613, -0.37861329, -0.18057241, -0.70402569, -0.95042722],\n",
       "       [ 0.70584605,  0.70676095,  0.27849269, -0.70402569,  0.12596292],\n",
       "       [-0.7131298 ,  0.10592878,  0.49452332,  1.42040271,  2.72709372],\n",
       "       [-1.8333739 , -1.44460584, -1.12570643,  1.42040271, -0.60500542],\n",
       "       [-0.24636143,  0.8811961 ,  0.35950418,  1.42040271,  0.41904808],\n",
       "       [-0.43306878, -0.37861329,  0.22448503, -0.70402569,  0.03524609],\n",
       "       [ 0.18306547,  0.24160056,  1.61518224,  1.42040271,  0.25157085],\n",
       "       [-0.15300776, -0.37861329,  0.89958076, -0.70402569,  0.36671145],\n",
       "       [-0.39572731,  0.12531047, -0.85566814, -0.70402569,  1.22503227],\n",
       "       [-1.06040547, -0.2981793 , -0.88402216, -0.70402569, -0.8666886 ],\n",
       "       [ 0.87388266, -0.4755217 ,  0.22448503,  1.42040271, -0.16537768],\n",
       "       [ 1.15394368,  0.39665403,  0.76456162, -0.70402569,  1.53207387],\n",
       "       [-1.4599592 , -1.05697219, -1.35523898, -0.70402569,  0.43300452],\n",
       "       [ 0.59382164, -0.57243011,  0.35950418, -0.70402569,  0.57605799],\n",
       "       [-0.69165846,  0.29974561, -0.04555326, -0.70402569, -0.48637572],\n",
       "       [-1.23591038, -0.46389269, -1.3687409 , -0.70402569,  0.06839262],\n",
       "       [-0.43306878, -0.57243011, -1.26072558,  1.42040271, -1.34469654]])"
      ]
     },
     "execution_count": 55,
     "metadata": {},
     "output_type": "execute_result"
    }
   ],
   "source": [
    "x_train_escalonado"
   ]
  },
  {
   "cell_type": "code",
   "execution_count": 56,
   "id": "e8486248",
   "metadata": {},
   "outputs": [],
   "source": [
    "# Definir o k do n_neighbors\n",
    "\n",
    "error = []\n",
    "\n",
    "for i in range(1,10):\n",
    "    knn = KNeighborsClassifier(n_neighbors=i)\n",
    "    knn.fit(x_train_escalonado, y_train)\n",
    "    pred_i = knn.predict(x_test_escalonado)\n",
    "    error.append(np.mean(pred_i != y_test))"
   ]
  },
  {
   "cell_type": "code",
   "execution_count": 57,
   "id": "8fefab31",
   "metadata": {},
   "outputs": [
    {
     "data": {
      "image/png": "[encoded data removed]",
      "text/plain": [
       "<Figure size 1200x600 with 1 Axes>"
      ]
     },
     "metadata": {},
     "output_type": "display_data"
    }
   ],
   "source": [
    "# Plotar o grafico --> Melhor K é o menor valor e sempre o valor impar\n",
    "\n",
    "plt.figure(figsize=(12,6))\n",
    "plt.plot(range(1,10), error, color = \"red\", linestyle = 'dashed', marker= \"o\", markerfacecolor=\"blue\", markersize=10)\n",
    "plt.title(\"Erro médio para K\")\n",
    "plt.xlabel(\"Valor de K\")\n",
    "plt.ylabel(\"Erro Médio\")\n",
    "\n",
    "plt.show()"
   ]
  },
  {
   "cell_type": "code",
   "execution_count": 59,
   "id": "30ea2627",
   "metadata": {},
   "outputs": [
    {
     "data": {
      "text/plain": [
       "array([1, 1, 1, 1, 0, 1, 1, 1, 1, 0, 1, 1, 0, 0, 1, 1, 0, 1, 1, 0, 1, 0,\n",
       "       1, 1, 1, 1, 1, 1, 1, 1, 1, 1, 1, 1, 1, 0, 0, 0, 1, 1, 1, 1, 1])"
      ]
     },
     "execution_count": 59,
     "metadata": {},
     "output_type": "execute_result"
    }
   ],
   "source": [
    "# Treinar e prever o modelo - KNN\n",
    "\n",
    "modelo_classificador = KNeighborsClassifier(n_neighbors=5)\n",
    "\n",
    "modelo_classificador.fit(x_train_escalonado, y_train)\n",
    "\n",
    "y_predito = modelo_classificador.predict(x_test_escalonado)\n",
    "\n",
    "y_predito"
   ]
  },
  {
   "cell_type": "code",
   "execution_count": 60,
   "id": "e3e99c47",
   "metadata": {},
   "outputs": [
    {
     "name": "stdout",
     "output_type": "stream",
     "text": [
      "0.8837209302325582\n"
     ]
    }
   ],
   "source": [
    "print(accuracy_score(y_test,y_predito))"
   ]
  },
  {
   "cell_type": "code",
   "execution_count": null,
   "id": "73b5dbcf",
   "metadata": {},
   "outputs": [],
   "source": [
    "# Usar o modelo svm\n",
    "\n",
    "svm = Pipeline(\n",
    "\n",
    "    [\n",
    "\n",
    "        (\"linear_svc\",LinearSVC(C=1))\n",
    "\n",
    "    ]\n",
    "\n",
    ")"
   ]
  },
  {
   "cell_type": "code",
   "execution_count": 65,
   "id": "53a833c3",
   "metadata": {},
   "outputs": [
    {
     "data": {
      "text/html": [
       "<style>#sk-container-id-2 {\n",
       "  /* Definition of color scheme common for light and dark mode */\n",
       "  --sklearn-color-text: #000;\n",
       "  --sklearn-color-text-muted: #666;\n",
       "  --sklearn-color-line: gray;\n",
       "  /* Definition of color scheme for unfitted estimators */\n",
       "  --sklearn-color-unfitted-level-0: #fff5e6;\n",
       "  --sklearn-color-unfitted-level-1: #f6e4d2;\n",
       "  --sklearn-color-unfitted-level-2: #ffe0b3;\n",
       "  --sklearn-color-unfitted-level-3: chocolate;\n",
       "  /* Definition of color scheme for fitted estimators */\n",
       "  --sklearn-color-fitted-level-0: #f0f8ff;\n",
       "  --sklearn-color-fitted-level-1: #d4ebff;\n",
       "  --sklearn-color-fitted-level-2: #b3dbfd;\n",
       "  --sklearn-color-fitted-level-3: cornflowerblue;\n",
       "\n",
       "  /* Specific color for light theme */\n",
       "  --sklearn-color-text-on-default-background: var(--sg-text-color, var(--theme-code-foreground, var(--jp-content-font-color1, black)));\n",
       "  --sklearn-color-background: var(--sg-background-color, var(--theme-background, var(--jp-layout-color0, white)));\n",
       "  --sklearn-color-border-box: var(--sg-text-color, var(--theme-code-foreground, var(--jp-content-font-color1, black)));\n",
       "  --sklearn-color-icon: #696969;\n",
       "\n",
       "  @media (prefers-color-scheme: dark) {\n",
       "    /* Redefinition of color scheme for dark theme */\n",
       "    --sklearn-color-text-on-default-background: var(--sg-text-color, var(--theme-code-foreground, var(--jp-content-font-color1, white)));\n",
       "    --sklearn-color-background: var(--sg-background-color, var(--theme-background, var(--jp-layout-color0, #111)));\n",
       "    --sklearn-color-border-box: var(--sg-text-color, var(--theme-code-foreground, var(--jp-content-font-color1, white)));\n",
       "    --sklearn-color-icon: #878787;\n",
       "  }\n",
       "}\n",
       "\n",
       "#sk-container-id-2 {\n",
       "  color: var(--sklearn-color-text);\n",
       "}\n",
       "\n",
       "#sk-container-id-2 pre {\n",
       "  padding: 0;\n",
       "}\n",
       "\n",
       "#sk-container-id-2 input.sk-hidden--visually {\n",
       "  border: 0;\n",
       "  clip: rect(1px 1px 1px 1px);\n",
       "  clip: rect(1px, 1px, 1px, 1px);\n",
       "  height: 1px;\n",
       "  margin: -1px;\n",
       "  overflow: hidden;\n",
       "  padding: 0;\n",
       "  position: absolute;\n",
       "  width: 1px;\n",
       "}\n",
       "\n",
       "#sk-container-id-2 div.sk-dashed-wrapped {\n",
       "  border: 1px dashed var(--sklearn-color-line);\n",
       "  margin: 0 0.4em 0.5em 0.4em;\n",
       "  box-sizing: border-box;\n",
       "  padding-bottom: 0.4em;\n",
       "  background-color: var(--sklearn-color-background);\n",
       "}\n",
       "\n",
       "#sk-container-id-2 div.sk-container {\n",
       "  /* jupyter's `normalize.less` sets `[hidden] { display: none; }`\n",
       "     but bootstrap.min.css set `[hidden] { display: none !important; }`\n",
       "     so we also need the `!important` here to be able to override the\n",
       "     default hidden behavior on the sphinx rendered scikit-learn.org.\n",
       "     See: https://github.com/scikit-learn/scikit-learn/issues/21755 */\n",
       "  display: inline-block !important;\n",
       "  position: relative;\n",
       "}\n",
       "\n",
       "#sk-container-id-2 div.sk-text-repr-fallback {\n",
       "  display: none;\n",
       "}\n",
       "\n",
       "div.sk-parallel-item,\n",
       "div.sk-serial,\n",
       "div.sk-item {\n",
       "  /* draw centered vertical line to link estimators */\n",
       "  background-image: linear-gradient(var(--sklearn-color-text-on-default-background), var(--sklearn-color-text-on-default-background));\n",
       "  background-size: 2px 100%;\n",
       "  background-repeat: no-repeat;\n",
       "  background-position: center center;\n",
       "}\n",
       "\n",
       "/* Parallel-specific style estimator block */\n",
       "\n",
       "#sk-container-id-2 div.sk-parallel-item::after {\n",
       "  content: \"\";\n",
       "  width: 100%;\n",
       "  border-bottom: 2px solid var(--sklearn-color-text-on-default-background);\n",
       "  flex-grow: 1;\n",
       "}\n",
       "\n",
       "#sk-container-id-2 div.sk-parallel {\n",
       "  display: flex;\n",
       "  align-items: stretch;\n",
       "  justify-content: center;\n",
       "  background-color: var(--sklearn-color-background);\n",
       "  position: relative;\n",
       "}\n",
       "\n",
       "#sk-container-id-2 div.sk-parallel-item {\n",
       "  display: flex;\n",
       "  flex-direction: column;\n",
       "}\n",
       "\n",
       "#sk-container-id-2 div.sk-parallel-item:first-child::after {\n",
       "  align-self: flex-end;\n",
       "  width: 50%;\n",
       "}\n",
       "\n",
       "#sk-container-id-2 div.sk-parallel-item:last-child::after {\n",
       "  align-self: flex-start;\n",
       "  width: 50%;\n",
       "}\n",
       "\n",
       "#sk-container-id-2 div.sk-parallel-item:only-child::after {\n",
       "  width: 0;\n",
       "}\n",
       "\n",
       "/* Serial-specific style estimator block */\n",
       "\n",
       "#sk-container-id-2 div.sk-serial {\n",
       "  display: flex;\n",
       "  flex-direction: column;\n",
       "  align-items: center;\n",
       "  background-color: var(--sklearn-color-background);\n",
       "  padding-right: 1em;\n",
       "  padding-left: 1em;\n",
       "}\n",
       "\n",
       "\n",
       "/* Toggleable style: style used for estimator/Pipeline/ColumnTransformer box that is\n",
       "clickable and can be expanded/collapsed.\n",
       "- Pipeline and ColumnTransformer use this feature and define the default style\n",
       "- Estimators will overwrite some part of the style using the `sk-estimator` class\n",
       "*/\n",
       "\n",
       "/* Pipeline and ColumnTransformer style (default) */\n",
       "\n",
       "#sk-container-id-2 div.sk-toggleable {\n",
       "  /* Default theme specific background. It is overwritten whether we have a\n",
       "  specific estimator or a Pipeline/ColumnTransformer */\n",
       "  background-color: var(--sklearn-color-background);\n",
       "}\n",
       "\n",
       "/* Toggleable label */\n",
       "#sk-container-id-2 label.sk-toggleable__label {\n",
       "  cursor: pointer;\n",
       "  display: flex;\n",
       "  width: 100%;\n",
       "  margin-bottom: 0;\n",
       "  padding: 0.5em;\n",
       "  box-sizing: border-box;\n",
       "  text-align: center;\n",
       "  align-items: start;\n",
       "  justify-content: space-between;\n",
       "  gap: 0.5em;\n",
       "}\n",
       "\n",
       "#sk-container-id-2 label.sk-toggleable__label .caption {\n",
       "  font-size: 0.6rem;\n",
       "  font-weight: lighter;\n",
       "  color: var(--sklearn-color-text-muted);\n",
       "}\n",
       "\n",
       "#sk-container-id-2 label.sk-toggleable__label-arrow:before {\n",
       "  /* Arrow on the left of the label */\n",
       "  content: \"▸\";\n",
       "  float: left;\n",
       "  margin-right: 0.25em;\n",
       "  color: var(--sklearn-color-icon);\n",
       "}\n",
       "\n",
       "#sk-container-id-2 label.sk-toggleable__label-arrow:hover:before {\n",
       "  color: var(--sklearn-color-text);\n",
       "}\n",
       "\n",
       "/* Toggleable content - dropdown */\n",
       "\n",
       "#sk-container-id-2 div.sk-toggleable__content {\n",
       "  display: none;\n",
       "  text-align: left;\n",
       "  /* unfitted */\n",
       "  background-color: var(--sklearn-color-unfitted-level-0);\n",
       "}\n",
       "\n",
       "#sk-container-id-2 div.sk-toggleable__content.fitted {\n",
       "  /* fitted */\n",
       "  background-color: var(--sklearn-color-fitted-level-0);\n",
       "}\n",
       "\n",
       "#sk-container-id-2 div.sk-toggleable__content pre {\n",
       "  margin: 0.2em;\n",
       "  border-radius: 0.25em;\n",
       "  color: var(--sklearn-color-text);\n",
       "  /* unfitted */\n",
       "  background-color: var(--sklearn-color-unfitted-level-0);\n",
       "}\n",
       "\n",
       "#sk-container-id-2 div.sk-toggleable__content.fitted pre {\n",
       "  /* unfitted */\n",
       "  background-color: var(--sklearn-color-fitted-level-0);\n",
       "}\n",
       "\n",
       "#sk-container-id-2 input.sk-toggleable__control:checked~div.sk-toggleable__content {\n",
       "  /* Expand drop-down */\n",
       "  display: block;\n",
       "  width: 100%;\n",
       "  overflow: visible;\n",
       "}\n",
       "\n",
       "#sk-container-id-2 input.sk-toggleable__control:checked~label.sk-toggleable__label-arrow:before {\n",
       "  content: \"▾\";\n",
       "}\n",
       "\n",
       "/* Pipeline/ColumnTransformer-specific style */\n",
       "\n",
       "#sk-container-id-2 div.sk-label input.sk-toggleable__control:checked~label.sk-toggleable__label {\n",
       "  color: var(--sklearn-color-text);\n",
       "  background-color: var(--sklearn-color-unfitted-level-2);\n",
       "}\n",
       "\n",
       "#sk-container-id-2 div.sk-label.fitted input.sk-toggleable__control:checked~label.sk-toggleable__label {\n",
       "  background-color: var(--sklearn-color-fitted-level-2);\n",
       "}\n",
       "\n",
       "/* Estimator-specific style */\n",
       "\n",
       "/* Colorize estimator box */\n",
       "#sk-container-id-2 div.sk-estimator input.sk-toggleable__control:checked~label.sk-toggleable__label {\n",
       "  /* unfitted */\n",
       "  background-color: var(--sklearn-color-unfitted-level-2);\n",
       "}\n",
       "\n",
       "#sk-container-id-2 div.sk-estimator.fitted input.sk-toggleable__control:checked~label.sk-toggleable__label {\n",
       "  /* fitted */\n",
       "  background-color: var(--sklearn-color-fitted-level-2);\n",
       "}\n",
       "\n",
       "#sk-container-id-2 div.sk-label label.sk-toggleable__label,\n",
       "#sk-container-id-2 div.sk-label label {\n",
       "  /* The background is the default theme color */\n",
       "  color: var(--sklearn-color-text-on-default-background);\n",
       "}\n",
       "\n",
       "/* On hover, darken the color of the background */\n",
       "#sk-container-id-2 div.sk-label:hover label.sk-toggleable__label {\n",
       "  color: var(--sklearn-color-text);\n",
       "  background-color: var(--sklearn-color-unfitted-level-2);\n",
       "}\n",
       "\n",
       "/* Label box, darken color on hover, fitted */\n",
       "#sk-container-id-2 div.sk-label.fitted:hover label.sk-toggleable__label.fitted {\n",
       "  color: var(--sklearn-color-text);\n",
       "  background-color: var(--sklearn-color-fitted-level-2);\n",
       "}\n",
       "\n",
       "/* Estimator label */\n",
       "\n",
       "#sk-container-id-2 div.sk-label label {\n",
       "  font-family: monospace;\n",
       "  font-weight: bold;\n",
       "  display: inline-block;\n",
       "  line-height: 1.2em;\n",
       "}\n",
       "\n",
       "#sk-container-id-2 div.sk-label-container {\n",
       "  text-align: center;\n",
       "}\n",
       "\n",
       "/* Estimator-specific */\n",
       "#sk-container-id-2 div.sk-estimator {\n",
       "  font-family: monospace;\n",
       "  border: 1px dotted var(--sklearn-color-border-box);\n",
       "  border-radius: 0.25em;\n",
       "  box-sizing: border-box;\n",
       "  margin-bottom: 0.5em;\n",
       "  /* unfitted */\n",
       "  background-color: var(--sklearn-color-unfitted-level-0);\n",
       "}\n",
       "\n",
       "#sk-container-id-2 div.sk-estimator.fitted {\n",
       "  /* fitted */\n",
       "  background-color: var(--sklearn-color-fitted-level-0);\n",
       "}\n",
       "\n",
       "/* on hover */\n",
       "#sk-container-id-2 div.sk-estimator:hover {\n",
       "  /* unfitted */\n",
       "  background-color: var(--sklearn-color-unfitted-level-2);\n",
       "}\n",
       "\n",
       "#sk-container-id-2 div.sk-estimator.fitted:hover {\n",
       "  /* fitted */\n",
       "  background-color: var(--sklearn-color-fitted-level-2);\n",
       "}\n",
       "\n",
       "/* Specification for estimator info (e.g. \"i\" and \"?\") */\n",
       "\n",
       "/* Common style for \"i\" and \"?\" */\n",
       "\n",
       ".sk-estimator-doc-link,\n",
       "a:link.sk-estimator-doc-link,\n",
       "a:visited.sk-estimator-doc-link {\n",
       "  float: right;\n",
       "  font-size: smaller;\n",
       "  line-height: 1em;\n",
       "  font-family: monospace;\n",
       "  background-color: var(--sklearn-color-background);\n",
       "  border-radius: 1em;\n",
       "  height: 1em;\n",
       "  width: 1em;\n",
       "  text-decoration: none !important;\n",
       "  margin-left: 0.5em;\n",
       "  text-align: center;\n",
       "  /* unfitted */\n",
       "  border: var(--sklearn-color-unfitted-level-1) 1pt solid;\n",
       "  color: var(--sklearn-color-unfitted-level-1);\n",
       "}\n",
       "\n",
       ".sk-estimator-doc-link.fitted,\n",
       "a:link.sk-estimator-doc-link.fitted,\n",
       "a:visited.sk-estimator-doc-link.fitted {\n",
       "  /* fitted */\n",
       "  border: var(--sklearn-color-fitted-level-1) 1pt solid;\n",
       "  color: var(--sklearn-color-fitted-level-1);\n",
       "}\n",
       "\n",
       "/* On hover */\n",
       "div.sk-estimator:hover .sk-estimator-doc-link:hover,\n",
       ".sk-estimator-doc-link:hover,\n",
       "div.sk-label-container:hover .sk-estimator-doc-link:hover,\n",
       ".sk-estimator-doc-link:hover {\n",
       "  /* unfitted */\n",
       "  background-color: var(--sklearn-color-unfitted-level-3);\n",
       "  color: var(--sklearn-color-background);\n",
       "  text-decoration: none;\n",
       "}\n",
       "\n",
       "div.sk-estimator.fitted:hover .sk-estimator-doc-link.fitted:hover,\n",
       ".sk-estimator-doc-link.fitted:hover,\n",
       "div.sk-label-container:hover .sk-estimator-doc-link.fitted:hover,\n",
       ".sk-estimator-doc-link.fitted:hover {\n",
       "  /* fitted */\n",
       "  background-color: var(--sklearn-color-fitted-level-3);\n",
       "  color: var(--sklearn-color-background);\n",
       "  text-decoration: none;\n",
       "}\n",
       "\n",
       "/* Span, style for the box shown on hovering the info icon */\n",
       ".sk-estimator-doc-link span {\n",
       "  display: none;\n",
       "  z-index: 9999;\n",
       "  position: relative;\n",
       "  font-weight: normal;\n",
       "  right: .2ex;\n",
       "  padding: .5ex;\n",
       "  margin: .5ex;\n",
       "  width: min-content;\n",
       "  min-width: 20ex;\n",
       "  max-width: 50ex;\n",
       "  color: var(--sklearn-color-text);\n",
       "  box-shadow: 2pt 2pt 4pt #999;\n",
       "  /* unfitted */\n",
       "  background: var(--sklearn-color-unfitted-level-0);\n",
       "  border: .5pt solid var(--sklearn-color-unfitted-level-3);\n",
       "}\n",
       "\n",
       ".sk-estimator-doc-link.fitted span {\n",
       "  /* fitted */\n",
       "  background: var(--sklearn-color-fitted-level-0);\n",
       "  border: var(--sklearn-color-fitted-level-3);\n",
       "}\n",
       "\n",
       ".sk-estimator-doc-link:hover span {\n",
       "  display: block;\n",
       "}\n",
       "\n",
       "/* \"?\"-specific style due to the `<a>` HTML tag */\n",
       "\n",
       "#sk-container-id-2 a.estimator_doc_link {\n",
       "  float: right;\n",
       "  font-size: 1rem;\n",
       "  line-height: 1em;\n",
       "  font-family: monospace;\n",
       "  background-color: var(--sklearn-color-background);\n",
       "  border-radius: 1rem;\n",
       "  height: 1rem;\n",
       "  width: 1rem;\n",
       "  text-decoration: none;\n",
       "  /* unfitted */\n",
       "  color: var(--sklearn-color-unfitted-level-1);\n",
       "  border: var(--sklearn-color-unfitted-level-1) 1pt solid;\n",
       "}\n",
       "\n",
       "#sk-container-id-2 a.estimator_doc_link.fitted {\n",
       "  /* fitted */\n",
       "  border: var(--sklearn-color-fitted-level-1) 1pt solid;\n",
       "  color: var(--sklearn-color-fitted-level-1);\n",
       "}\n",
       "\n",
       "/* On hover */\n",
       "#sk-container-id-2 a.estimator_doc_link:hover {\n",
       "  /* unfitted */\n",
       "  background-color: var(--sklearn-color-unfitted-level-3);\n",
       "  color: var(--sklearn-color-background);\n",
       "  text-decoration: none;\n",
       "}\n",
       "\n",
       "#sk-container-id-2 a.estimator_doc_link.fitted:hover {\n",
       "  /* fitted */\n",
       "  background-color: var(--sklearn-color-fitted-level-3);\n",
       "}\n",
       "\n",
       ".estimator-table summary {\n",
       "    padding: .5rem;\n",
       "    font-family: monospace;\n",
       "    cursor: pointer;\n",
       "}\n",
       "\n",
       ".estimator-table details[open] {\n",
       "    padding-left: 0.1rem;\n",
       "    padding-right: 0.1rem;\n",
       "    padding-bottom: 0.3rem;\n",
       "}\n",
       "\n",
       ".estimator-table .parameters-table {\n",
       "    margin-left: auto !important;\n",
       "    margin-right: auto !important;\n",
       "}\n",
       "\n",
       ".estimator-table .parameters-table tr:nth-child(odd) {\n",
       "    background-color: #fff;\n",
       "}\n",
       "\n",
       ".estimator-table .parameters-table tr:nth-child(even) {\n",
       "    background-color: #f6f6f6;\n",
       "}\n",
       "\n",
       ".estimator-table .parameters-table tr:hover {\n",
       "    background-color: #e0e0e0;\n",
       "}\n",
       "\n",
       ".estimator-table table td {\n",
       "    border: 1px solid rgba(106, 105, 104, 0.232);\n",
       "}\n",
       "\n",
       ".user-set td {\n",
       "    color:rgb(255, 94, 0);\n",
       "    text-align: left;\n",
       "}\n",
       "\n",
       ".user-set td.value pre {\n",
       "    color:rgb(255, 94, 0) !important;\n",
       "    background-color: transparent !important;\n",
       "}\n",
       "\n",
       ".default td {\n",
       "    color: black;\n",
       "    text-align: left;\n",
       "}\n",
       "\n",
       ".user-set td i,\n",
       ".default td i {\n",
       "    color: black;\n",
       "}\n",
       "\n",
       ".copy-paste-icon {\n",
       "    background-image: url(data:image/svg+xml;base64,PHN2ZyB4bWxucz0iaHR0cDovL3d3dy53My5vcmcvMjAwMC9zdmciIHZpZXdCb3g9IjAgMCA0NDggNTEyIj48IS0tIUZvbnQgQXdlc29tZSBGcmVlIDYuNy4yIGJ5IEBmb250YXdlc29tZSAtIGh0dHBzOi8vZm9udGF3ZXNvbWUuY29tIExpY2Vuc2UgLSBodHRwczovL2ZvbnRhd2Vzb21lLmNvbS9saWNlbnNlL2ZyZWUgQ29weXJpZ2h0IDIwMjUgRm9udGljb25zLCBJbmMuLS0+PHBhdGggZD0iTTIwOCAwTDMzMi4xIDBjMTIuNyAwIDI0LjkgNS4xIDMzLjkgMTQuMWw2Ny45IDY3LjljOSA5IDE0LjEgMjEuMiAxNC4xIDMzLjlMNDQ4IDMzNmMwIDI2LjUtMjEuNSA0OC00OCA0OGwtMTkyIDBjLTI2LjUgMC00OC0yMS41LTQ4LTQ4bDAtMjg4YzAtMjYuNSAyMS41LTQ4IDQ4LTQ4ek00OCAxMjhsODAgMCAwIDY0LTY0IDAgMCAyNTYgMTkyIDAgMC0zMiA2NCAwIDAgNDhjMCAyNi41LTIxLjUgNDgtNDggNDhMNDggNTEyYy0yNi41IDAtNDgtMjEuNS00OC00OEwwIDE3NmMwLTI2LjUgMjEuNS00OCA0OC00OHoiLz48L3N2Zz4=);\n",
       "    background-repeat: no-repeat;\n",
       "    background-size: 14px 14px;\n",
       "    background-position: 0;\n",
       "    display: inline-block;\n",
       "    width: 14px;\n",
       "    height: 14px;\n",
       "    cursor: pointer;\n",
       "}\n",
       "</style><body><div id=\"sk-container-id-2\" class=\"sk-top-container\"><div class=\"sk-text-repr-fallback\"><pre>Pipeline(steps=[(&#x27;linear_svc&#x27;, LinearSVC(C=1))])</pre><b>In a Jupyter environment, please rerun this cell to show the HTML representation or trust the notebook. <br />On GitHub, the HTML representation is unable to render, please try loading this page with nbviewer.org.</b></div><div class=\"sk-container\" hidden><div class=\"sk-item sk-dashed-wrapped\"><div class=\"sk-label-container\"><div class=\"sk-label fitted sk-toggleable\"><input class=\"sk-toggleable__control sk-hidden--visually\" id=\"sk-estimator-id-2\" type=\"checkbox\" ><label for=\"sk-estimator-id-2\" class=\"sk-toggleable__label fitted sk-toggleable__label-arrow\"><div><div>Pipeline</div></div><div><a class=\"sk-estimator-doc-link fitted\" rel=\"noreferrer\" target=\"_blank\" href=\"https://scikit-learn.org/1.7/modules/generated/sklearn.pipeline.Pipeline.html\">?<span>Documentation for Pipeline</span></a><span class=\"sk-estimator-doc-link fitted\">i<span>Fitted</span></span></div></label><div class=\"sk-toggleable__content fitted\" data-param-prefix=\"\">\n",
       "        <div class=\"estimator-table\">\n",
       "            <details>\n",
       "                <summary>Parameters</summary>\n",
       "                <table class=\"parameters-table\">\n",
       "                  <tbody>\n",
       "                    \n",
       "        <tr class=\"user-set\">\n",
       "            <td><i class=\"copy-paste-icon\"\n",
       "                 onclick=\"copyToClipboard('steps',\n",
       "                          this.parentElement.nextElementSibling)\"\n",
       "            ></i></td>\n",
       "            <td class=\"param\">steps&nbsp;</td>\n",
       "            <td class=\"value\">[(&#x27;linear_svc&#x27;, ...)]</td>\n",
       "        </tr>\n",
       "    \n",
       "\n",
       "        <tr class=\"default\">\n",
       "            <td><i class=\"copy-paste-icon\"\n",
       "                 onclick=\"copyToClipboard('transform_input',\n",
       "                          this.parentElement.nextElementSibling)\"\n",
       "            ></i></td>\n",
       "            <td class=\"param\">transform_input&nbsp;</td>\n",
       "            <td class=\"value\">None</td>\n",
       "        </tr>\n",
       "    \n",
       "\n",
       "        <tr class=\"default\">\n",
       "            <td><i class=\"copy-paste-icon\"\n",
       "                 onclick=\"copyToClipboard('memory',\n",
       "                          this.parentElement.nextElementSibling)\"\n",
       "            ></i></td>\n",
       "            <td class=\"param\">memory&nbsp;</td>\n",
       "            <td class=\"value\">None</td>\n",
       "        </tr>\n",
       "    \n",
       "\n",
       "        <tr class=\"default\">\n",
       "            <td><i class=\"copy-paste-icon\"\n",
       "                 onclick=\"copyToClipboard('verbose',\n",
       "                          this.parentElement.nextElementSibling)\"\n",
       "            ></i></td>\n",
       "            <td class=\"param\">verbose&nbsp;</td>\n",
       "            <td class=\"value\">False</td>\n",
       "        </tr>\n",
       "    \n",
       "                  </tbody>\n",
       "                </table>\n",
       "            </details>\n",
       "        </div>\n",
       "    </div></div></div><div class=\"sk-serial\"><div class=\"sk-item\"><div class=\"sk-estimator fitted sk-toggleable\"><input class=\"sk-toggleable__control sk-hidden--visually\" id=\"sk-estimator-id-3\" type=\"checkbox\" ><label for=\"sk-estimator-id-3\" class=\"sk-toggleable__label fitted sk-toggleable__label-arrow\"><div><div>LinearSVC</div></div><div><a class=\"sk-estimator-doc-link fitted\" rel=\"noreferrer\" target=\"_blank\" href=\"https://scikit-learn.org/1.7/modules/generated/sklearn.svm.LinearSVC.html\">?<span>Documentation for LinearSVC</span></a></div></label><div class=\"sk-toggleable__content fitted\" data-param-prefix=\"linear_svc__\">\n",
       "        <div class=\"estimator-table\">\n",
       "            <details>\n",
       "                <summary>Parameters</summary>\n",
       "                <table class=\"parameters-table\">\n",
       "                  <tbody>\n",
       "                    \n",
       "        <tr class=\"default\">\n",
       "            <td><i class=\"copy-paste-icon\"\n",
       "                 onclick=\"copyToClipboard('penalty',\n",
       "                          this.parentElement.nextElementSibling)\"\n",
       "            ></i></td>\n",
       "            <td class=\"param\">penalty&nbsp;</td>\n",
       "            <td class=\"value\">&#x27;l2&#x27;</td>\n",
       "        </tr>\n",
       "    \n",
       "\n",
       "        <tr class=\"default\">\n",
       "            <td><i class=\"copy-paste-icon\"\n",
       "                 onclick=\"copyToClipboard('loss',\n",
       "                          this.parentElement.nextElementSibling)\"\n",
       "            ></i></td>\n",
       "            <td class=\"param\">loss&nbsp;</td>\n",
       "            <td class=\"value\">&#x27;squared_hinge&#x27;</td>\n",
       "        </tr>\n",
       "    \n",
       "\n",
       "        <tr class=\"default\">\n",
       "            <td><i class=\"copy-paste-icon\"\n",
       "                 onclick=\"copyToClipboard('dual',\n",
       "                          this.parentElement.nextElementSibling)\"\n",
       "            ></i></td>\n",
       "            <td class=\"param\">dual&nbsp;</td>\n",
       "            <td class=\"value\">&#x27;auto&#x27;</td>\n",
       "        </tr>\n",
       "    \n",
       "\n",
       "        <tr class=\"default\">\n",
       "            <td><i class=\"copy-paste-icon\"\n",
       "                 onclick=\"copyToClipboard('tol',\n",
       "                          this.parentElement.nextElementSibling)\"\n",
       "            ></i></td>\n",
       "            <td class=\"param\">tol&nbsp;</td>\n",
       "            <td class=\"value\">0.0001</td>\n",
       "        </tr>\n",
       "    \n",
       "\n",
       "        <tr class=\"default\">\n",
       "            <td><i class=\"copy-paste-icon\"\n",
       "                 onclick=\"copyToClipboard('C',\n",
       "                          this.parentElement.nextElementSibling)\"\n",
       "            ></i></td>\n",
       "            <td class=\"param\">C&nbsp;</td>\n",
       "            <td class=\"value\">1</td>\n",
       "        </tr>\n",
       "    \n",
       "\n",
       "        <tr class=\"default\">\n",
       "            <td><i class=\"copy-paste-icon\"\n",
       "                 onclick=\"copyToClipboard('multi_class',\n",
       "                          this.parentElement.nextElementSibling)\"\n",
       "            ></i></td>\n",
       "            <td class=\"param\">multi_class&nbsp;</td>\n",
       "            <td class=\"value\">&#x27;ovr&#x27;</td>\n",
       "        </tr>\n",
       "    \n",
       "\n",
       "        <tr class=\"default\">\n",
       "            <td><i class=\"copy-paste-icon\"\n",
       "                 onclick=\"copyToClipboard('fit_intercept',\n",
       "                          this.parentElement.nextElementSibling)\"\n",
       "            ></i></td>\n",
       "            <td class=\"param\">fit_intercept&nbsp;</td>\n",
       "            <td class=\"value\">True</td>\n",
       "        </tr>\n",
       "    \n",
       "\n",
       "        <tr class=\"default\">\n",
       "            <td><i class=\"copy-paste-icon\"\n",
       "                 onclick=\"copyToClipboard('intercept_scaling',\n",
       "                          this.parentElement.nextElementSibling)\"\n",
       "            ></i></td>\n",
       "            <td class=\"param\">intercept_scaling&nbsp;</td>\n",
       "            <td class=\"value\">1</td>\n",
       "        </tr>\n",
       "    \n",
       "\n",
       "        <tr class=\"default\">\n",
       "            <td><i class=\"copy-paste-icon\"\n",
       "                 onclick=\"copyToClipboard('class_weight',\n",
       "                          this.parentElement.nextElementSibling)\"\n",
       "            ></i></td>\n",
       "            <td class=\"param\">class_weight&nbsp;</td>\n",
       "            <td class=\"value\">None</td>\n",
       "        </tr>\n",
       "    \n",
       "\n",
       "        <tr class=\"default\">\n",
       "            <td><i class=\"copy-paste-icon\"\n",
       "                 onclick=\"copyToClipboard('verbose',\n",
       "                          this.parentElement.nextElementSibling)\"\n",
       "            ></i></td>\n",
       "            <td class=\"param\">verbose&nbsp;</td>\n",
       "            <td class=\"value\">0</td>\n",
       "        </tr>\n",
       "    \n",
       "\n",
       "        <tr class=\"default\">\n",
       "            <td><i class=\"copy-paste-icon\"\n",
       "                 onclick=\"copyToClipboard('random_state',\n",
       "                          this.parentElement.nextElementSibling)\"\n",
       "            ></i></td>\n",
       "            <td class=\"param\">random_state&nbsp;</td>\n",
       "            <td class=\"value\">None</td>\n",
       "        </tr>\n",
       "    \n",
       "\n",
       "        <tr class=\"default\">\n",
       "            <td><i class=\"copy-paste-icon\"\n",
       "                 onclick=\"copyToClipboard('max_iter',\n",
       "                          this.parentElement.nextElementSibling)\"\n",
       "            ></i></td>\n",
       "            <td class=\"param\">max_iter&nbsp;</td>\n",
       "            <td class=\"value\">1000</td>\n",
       "        </tr>\n",
       "    \n",
       "                  </tbody>\n",
       "                </table>\n",
       "            </details>\n",
       "        </div>\n",
       "    </div></div></div></div></div></div></div><script>function copyToClipboard(text, element) {\n",
       "    // Get the parameter prefix from the closest toggleable content\n",
       "    const toggleableContent = element.closest('.sk-toggleable__content');\n",
       "    const paramPrefix = toggleableContent ? toggleableContent.dataset.paramPrefix : '';\n",
       "    const fullParamName = paramPrefix ? `${paramPrefix}${text}` : text;\n",
       "\n",
       "    const originalStyle = element.style;\n",
       "    const computedStyle = window.getComputedStyle(element);\n",
       "    const originalWidth = computedStyle.width;\n",
       "    const originalHTML = element.innerHTML.replace('Copied!', '');\n",
       "\n",
       "    navigator.clipboard.writeText(fullParamName)\n",
       "        .then(() => {\n",
       "            element.style.width = originalWidth;\n",
       "            element.style.color = 'green';\n",
       "            element.innerHTML = \"Copied!\";\n",
       "\n",
       "            setTimeout(() => {\n",
       "                element.innerHTML = originalHTML;\n",
       "                element.style = originalStyle;\n",
       "            }, 2000);\n",
       "        })\n",
       "        .catch(err => {\n",
       "            console.error('Failed to copy:', err);\n",
       "            element.style.color = 'red';\n",
       "            element.innerHTML = \"Failed!\";\n",
       "            setTimeout(() => {\n",
       "                element.innerHTML = originalHTML;\n",
       "                element.style = originalStyle;\n",
       "            }, 2000);\n",
       "        });\n",
       "    return false;\n",
       "}\n",
       "\n",
       "document.querySelectorAll('.fa-regular.fa-copy').forEach(function(element) {\n",
       "    const toggleableContent = element.closest('.sk-toggleable__content');\n",
       "    const paramPrefix = toggleableContent ? toggleableContent.dataset.paramPrefix : '';\n",
       "    const paramName = element.parentElement.nextElementSibling.textContent.trim();\n",
       "    const fullParamName = paramPrefix ? `${paramPrefix}${paramName}` : paramName;\n",
       "\n",
       "    element.setAttribute('title', fullParamName);\n",
       "});\n",
       "</script></body>"
      ],
      "text/plain": [
       "Pipeline(steps=[('linear_svc', LinearSVC(C=1))])"
      ]
     },
     "execution_count": 65,
     "metadata": {},
     "output_type": "execute_result"
    }
   ],
   "source": [
    "svm.fit(x_train_escalonado,y_train)"
   ]
  },
  {
   "cell_type": "code",
   "execution_count": 67,
   "id": "160f4e24",
   "metadata": {},
   "outputs": [],
   "source": [
    "y_predito_svm = svm.predict(x_test_escalonado)"
   ]
  },
  {
   "cell_type": "code",
   "execution_count": 68,
   "id": "37c56d56",
   "metadata": {},
   "outputs": [
    {
     "name": "stdout",
     "output_type": "stream",
     "text": [
      "0.8604651162790697\n"
     ]
    }
   ],
   "source": [
    "print(accuracy_score(y_test,y_predito_svm))"
   ]
  },
  {
   "cell_type": "code",
   "execution_count": 71,
   "id": "4938c604",
   "metadata": {},
   "outputs": [
    {
     "name": "stdout",
     "output_type": "stream",
     "text": [
      "Resultado dos modelos\n",
      "Modelo KNN: 88.37 %\n",
      "Modelo KNN: 86.05 %\n"
     ]
    }
   ],
   "source": [
    "accuracy_score_knn = accuracy_score(y_test,y_predito)\n",
    "accuracy_score_svm = accuracy_score(y_test,y_predito_svm)\n",
    "\n",
    "print(\"Resultado dos modelos\")\n",
    "print(f\"Modelo KNN: {accuracy_score_knn* 100:.2f} %\")\n",
    "print(f\"Modelo KNN: {accuracy_score_svm* 100:.2f} %\")"
   ]
  },
  {
   "cell_type": "markdown",
   "id": "b73b3ffb",
   "metadata": {},
   "source": [
    "#### Aula 3 - Kmeans"
   ]
  },
  {
   "cell_type": "markdown",
   "id": "62317ba2",
   "metadata": {},
   "source": [
    "#### Aula 4 - Modelos Baseados em Árvores"
   ]
  },
  {
   "cell_type": "markdown",
   "id": "eab2a7a3",
   "metadata": {},
   "source": [
    "#### Aula 5 - Validação Cruzada e Pipeline no Sklearn"
   ]
  },
  {
   "cell_type": "markdown",
   "id": "d5f8a8c3",
   "metadata": {},
   "source": [
    "#### Aula 6 - Classification Report e Métricas de Classificação"
   ]
  },
  {
   "cell_type": "markdown",
   "id": "06ae290b",
   "metadata": {},
   "source": [
    "#### Aula 7 - AUC Score e ROC Curve"
   ]
  }
 ],
 "metadata": {
  "kernelspec": {
   "display_name": "base",
   "language": "python",
   "name": "python3"
  },
  "language_info": {
   "codemirror_mode": {
    "name": "ipython",
    "version": 3
   },
   "file_extension": ".py",
   "mimetype": "text/x-python",
   "name": "python",
   "nbconvert_exporter": "python",
   "pygments_lexer": "ipython3",
   "version": "3.12.3"
  }
 },
 "nbformat": 4,
 "nbformat_minor": 5
}
