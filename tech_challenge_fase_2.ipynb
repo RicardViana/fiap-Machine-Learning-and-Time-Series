{
 "cells": [
  {
   "cell_type": "markdown",
   "id": "1928e801",
   "metadata": {},
   "source": [
    "#### Tech Challenge - Fase 2 - Machine Learning and Time Series"
   ]
  },
  {
   "cell_type": "markdown",
   "id": "688ff897",
   "metadata": {},
   "source": [
    "#### O problema \n",
    "\n",
    "Desenvolver um modelo preditivo capaz de prever se o índice IBOVESPA vai fechar em alta ou baixa no dia seguinte, com base em dados históricos do próprio índice"
   ]
  },
  {
   "cell_type": "markdown",
   "id": "36873844",
   "metadata": {},
   "source": [
    "#### O que é o índice Ibovespa \n",
    "\n",
    "É o principal indicador de desempenho das ações negociadas na B3 e reúne as empresas mais importantes do mercado de capitais brasileiro. Foi criado em 1968 e, ao longo desses 50 anos, consolidou-se como referência para investidores ao redor do mundo.\n",
    "\n",
    "\n",
    "https://pt.wikipedia.org/wiki/Ibovespa\n",
    "\n",
    "https://www.b3.com.br/pt_br/market-data-e-indices/indices/indices-amplos/ibovespa.htm"
   ]
  },
  {
   "cell_type": "markdown",
   "id": "60ab9845",
   "metadata": {},
   "source": [
    "#### Fonte de dados \n",
    "\n",
    "Dados históricos do índice IBOVESPA disponíveis publicamente no link https://br.investing.com/indices/bovespa-historical-data e importando para o seguinte repositorio do Github https://github.com/RicardViana/fiap-Machine-Learning-and-Time-Series/blob/main/Dados%20Hist%C3%B3ricos%20Ibovespa.csv"
   ]
  },
  {
   "cell_type": "markdown",
   "id": "1005da58",
   "metadata": {},
   "source": [
    "#### Dicionário de dados\n",
    "\n",
    "\n",
    "| Nome da Coluna | Descrição | Tipo de Dado |\n",
    "| :--- | :--- | :--- |\n",
    "| `Data` | A data da observação, no formato \"DD/MM/AAAA\". | Texto (object) |\n",
    "| `Ultimo` | O preço de fechamento do Ibovespa no dia. | Numérico (float64) |\n",
    "| `Abertura` | O preço de abertura do Ibovespa no dia. | Numérico (float64) |\n",
    "| `Maxima` | O preço máximo atingido pelo Ibovespa no dia. | Numérico (float64) |\n",
    "| `Minima` | O preço mínimo atingido pelo Ibovespa no dia. | Numérico (float64) |\n",
    "| `Volume` | O volume de negociações do dia. Os valores são representados em texto com sufixos (ex: \"B\" para bilhões, \"M\" para milhões). | Texto (object) |\n",
    "| `Variacao` | A variação percentual do Ibovespa no dia. | Texto (object) |"
   ]
  },
  {
   "attachments": {
    "image.png": {
     "image/png": "[encoded data removed]"
    }
   },
   "cell_type": "markdown",
   "id": "2eab2110",
   "metadata": {},
   "source": [
    "#### Objetivo\n",
    "\n",
    "Criar um modelo que preveja se o fechamento do IBOVESPA do dia seguinte será maior ou menor que o do dia atual, ou seja:\n",
    "\n",
    "![image.png](attachment:image.png)\n",
    "\n",
    "Onde deve prever a tendência (↑ ou ↓) com acuracidade mínima de 75% em um conjunto de teste, esse que contera o último mês (30 dias) de dados disponíveis"
   ]
  },
  {
   "cell_type": "markdown",
   "id": "783c919e",
   "metadata": {},
   "source": [
    "#### Desenvolvimento"
   ]
  },
  {
   "cell_type": "markdown",
   "id": "69619e2c",
   "metadata": {},
   "source": [
    "##### Importação de bibliotecas e pacotes"
   ]
  },
  {
   "cell_type": "code",
   "execution_count": 819,
   "id": "9908a652",
   "metadata": {},
   "outputs": [],
   "source": [
    "# Importar biblioteca completa\n",
    "import pandas as pd \n",
    "import numpy as np\n",
    "import matplotlib.pyplot as plt\n",
    "import seaborn as sns\n",
    "import yfinance as yf\n",
    "import calendar\n",
    "import pandas_ta as ta\n",
    "import requests\n",
    "\n",
    "# Importar função especifica de um módulo\n",
    "from statsmodels.tsa.seasonal import seasonal_decompose # --> Gerar a decomposição dos dados\n",
    "from sklearn.preprocessing import StandardScaler # --> Normalizar os dados\n",
    "from datetime import date\n",
    "\n",
    "# Importar função especifica de um módulo --> Modelos de ML\n",
    "from sklearn.ensemble import RandomForestClassifier # --> Modelo de ML Random Forest\n",
    "from sklearn.linear_model import LogisticRegression # --> Modelo de ML Regressão Logistica \n",
    "from catboost import CatBoostClassifier # --> Modelo de ML CatBoost\n",
    "from lightgbm import LGBMClassifier # --> Modelo de ML LightGBM\n",
    "from xgboost import XGBClassifier # --> Modelo de ML XGBoost\n",
    "from sklearn.svm import SVC # --> Modelo de ML SVC\n",
    "\n",
    "# Importar função especifica de um módulo --> Metricas para analisar o modelo  \n",
    "from sklearn.metrics import classification_report, confusion_matrix, roc_curve, roc_auc_score, accuracy_score\n",
    "\n",
    "# Importar função especifica de um módulo --> Melhores hiperparametros \n",
    "from sklearn.model_selection import GridSearchCV, RandomizedSearchCV, TimeSeriesSplit, cross_val_score\n",
    "from sklearn.pipeline import Pipeline\n",
    "\n",
    "# Outros import\n",
    "import ipywidgets as widgets\n",
    "from IPython.display import display"
   ]
  },
  {
   "cell_type": "markdown",
   "id": "08ff9e7c",
   "metadata": {},
   "source": [
    "##### Criação de funções (DEF)"
   ]
  },
  {
   "cell_type": "code",
   "execution_count": 820,
   "id": "45d4adde",
   "metadata": {},
   "outputs": [],
   "source": [
    "# Função para gerar a matriz de confusão, a curva roc e a análise textual\n",
    "def analisar_modelo_selecionado(nome_modelo, modelos_avaliados, y_test, x_test, x_test_scaled):\n",
    "\n",
    "    # Coletar os dados\n",
    "    modelo_selecionado = modelos_avaliados[nome_modelo][\"modelo\"]\n",
    "    previsoes_selecionadas = modelos_avaliados[nome_modelo][\"previsoes\"]\n",
    "\n",
    "    print(f\"Análise Detalhada para o Modelo: {nome_modelo}\")\n",
    "\n",
    "    # Gerar os graficos\n",
    "    cm = confusion_matrix(y_test, previsoes_selecionadas)\n",
    "    plt.figure(figsize=(14, 6))\n",
    "    \n",
    "    # Gráfico 1: Matriz de Confusão\n",
    "    plt.subplot(1, 2, 1)\n",
    "    sns.heatmap(cm, annot=True, fmt='d', cmap='Blues',\n",
    "                xticklabels=['Previsto Negativo', 'Previsto Positivo'],\n",
    "                yticklabels=['Real Negativo', 'Real Positivo'])\n",
    "    plt.title(f'Matriz de Confusão - {nome_modelo}', fontsize=14)\n",
    "    plt.ylabel('Valor Real')\n",
    "    plt.xlabel('Valor Previsto')\n",
    "\n",
    "    # Gráfico 2: Curva ROC e AUC\n",
    "    auc = None\n",
    "    if hasattr(modelo_selecionado, \"predict_proba\"):\n",
    "        x_test_scaled_df = pd.DataFrame(x_test_scaled, columns=x_test.columns)\n",
    "        y_pred_proba = modelo_selecionado.predict_proba(x_test_scaled_df)[:, 1]\n",
    "        auc = roc_auc_score(y_test, y_pred_proba)\n",
    "        fpr, tpr, _ = roc_curve(y_test, y_pred_proba)\n",
    "\n",
    "        plt.subplot(1, 2, 2)\n",
    "        plt.plot(fpr, tpr, label=f'Curva ROC (AUC = {auc:.4f})')\n",
    "        plt.plot([0, 1], [0, 1], color='red', linestyle='--', label='Classificador Aleatório')\n",
    "        plt.xlabel('Taxa de Falsos Positivos (FPR)')\n",
    "        plt.ylabel('Taxa de Verdadeiros Positivos (TPR)')\n",
    "        plt.title(f'Curva ROC - {nome_modelo}', fontsize=14)\n",
    "        plt.legend()\n",
    "        plt.grid()\n",
    "    else:\n",
    "        plt.subplot(1, 2, 2)\n",
    "        plt.text(0.5, 0.5, 'Curva ROC não disponível.', ha='center', va='center', fontsize=12)\n",
    "        plt.title(f'Curva ROC - {nome_modelo}', fontsize=14)\n",
    "        plt.gca().set_axis_off()\n",
    "\n",
    "    plt.tight_layout()\n",
    "    plt.show()\n",
    "\n",
    "    # Análise e Interpretação Textual\n",
    "    # Extrai os valores da matriz de confusão:\n",
    "    # cm[0, 0] = Verdadeiros Negativos (VN)\n",
    "    # cm[0, 1] = Falsos Positivos (FP)\n",
    "    # cm[1, 0] = Falsos Negativos (FN)\n",
    "    # cm[1, 1] = Verdadeiros Positivos (VP)\n",
    "\n",
    "    vn, fp, fn, vp = cm.ravel()\n",
    "    \n",
    "    total_reais_positivos = vp + fn\n",
    "    total_reais_negativos = vn + fp\n",
    "    \n",
    "    print(\"\\nInterpretação dos Resultados\\n\")\n",
    "    \n",
    "    # 1. Análise da Matriz de Confusão\n",
    "    print(\"1. Análise da Matriz de Confusão:\")\n",
    "    print(f\"   - O modelo classificou corretamente {vp} casos como 'Positivo' (Verdadeiros Positivos).\")\n",
    "    print(f\"   - O modelo classificou corretamente {vn} casos como 'Negativo' (Verdadeiros Negativos).\")\n",
    "    print(f\"   - Ocorreram {fp} erros do Tipo I, onde o modelo previu 'Positivo' quando o real era 'Negativo' (Falsos Positivos).\")\n",
    "    print(f\"   - Ocorreram {fn} erros do Tipo II, onde o modelo previu 'Negativo' quando o real era 'Positivo' (Falsos Negativos).\")\n",
    "    \n",
    "    # 2. Análise da Curva ROC e AUC\n",
    "    if auc is not None:\n",
    "        print(\"\\n2. Análise da Curva ROC e AUC:\")\n",
    "        print(f\"   - O valor da AUC (Area Under the Curve) foi de {auc:.4f}.\")\n",
    "        \n",
    "        # Interpretação do valor da AUC\n",
    "        if auc >= 0.9:\n",
    "            interpretacao_auc = \"uma excelente capacidade de discriminação entre as classes.\"\n",
    "        elif auc >= 0.8:\n",
    "            interpretacao_auc = \"uma boa capacidade de discriminação.\"\n",
    "        elif auc >= 0.7:\n",
    "            interpretacao_auc = \"uma capacidade de discriminação aceitável.\"\n",
    "        elif auc >= 0.6:\n",
    "            interpretacao_auc = \"uma capacidade de discriminação fraca.\"\n",
    "        else:\n",
    "            interpretacao_auc = \"uma capacidade de discriminação muito fraca, pouco melhor que um palpite aleatório.\"\n",
    "            \n",
    "        print(f\"   - Isso indica que o modelo possui {interpretacao_auc}\")\n",
    "        print(\"   - Quanto mais a linha azul se afasta da linha vermelha tracejada (classificador aleatório) e se aproxima do canto superior esquerdo, melhor é o desempenho do modelo.\")"
   ]
  },
  {
   "cell_type": "code",
   "execution_count": 861,
   "id": "85ad2886",
   "metadata": {},
   "outputs": [],
   "source": [
    "# Função para analisar, plotar e interpretar a importância das features\n",
    "def analisar_importancia_features(nome_modelo, modelos_avaliados, x_train):\n",
    "    \"\"\"\n",
    "    Esta função extrai, plota e interpreta a importância das features \n",
    "    para um modelo de machine learning.\n",
    "    \"\"\"\n",
    "    \n",
    "    # Coleta de Dados\n",
    "    modelo_selecionado = modelos_avaliados[nome_modelo][\"modelo\"]\n",
    "    print(f\"Análise de Importância das Features para o Modelo: {nome_modelo}\")\n",
    "    \n",
    "    importances = None\n",
    "    metodo_importancia = \"\"\n",
    "    \n",
    "    # Verifica se o modelo tem o atributo 'feature_importances_'\n",
    "    if hasattr(modelo_selecionado, 'feature_importances_'):\n",
    "        importances = modelo_selecionado.feature_importances_\n",
    "        metodo_importancia = \"ganho por impureza/divisão (típico de modelos de árvore)\"\n",
    "        \n",
    "    # Verifica se o modelo tem o atributo 'coef_'\n",
    "    elif hasattr(modelo_selecionado, 'coef_'):\n",
    "        importances = np.abs(modelo_selecionado.coef_[0])\n",
    "        metodo_importancia = \"magnitude do coeficiente (típico de modelos lineares)\"\n",
    "        \n",
    "    # Se o modelo não tiver um atributo de importância direta\n",
    "    else:\n",
    "        plt.figure(figsize=(10, 5))\n",
    "        plt.text(0.5, 0.5, f'A importância das features não está diretamente disponível\\npara o modelo {nome_modelo}.', \n",
    "                 ha='center', va='center', fontsize=12, color='red')\n",
    "        plt.title(f'Importância das Features - {nome_modelo}', fontsize=16)\n",
    "        plt.gca().set_axis_off()\n",
    "        plt.show()\n",
    "        return\n",
    "\n",
    "    #Criação do Gráfico\n",
    "    feature_importance_df = pd.DataFrame({\n",
    "        'Feature': x_train.columns,\n",
    "        'Importance': importances\n",
    "    }).sort_values(by='Importance', ascending=False)\n",
    "\n",
    "    plt.figure(figsize=(10, 5)) \n",
    "    sns.barplot(x='Importance', y='Feature', data=feature_importance_df, palette='viridis', hue='Feature', legend=False)\n",
    "    plt.title(f'Importância das Features - {nome_modelo}', fontsize=16)\n",
    "    plt.xlabel('Pontuação de Importância', fontsize=12)\n",
    "    plt.ylabel('Feature', fontsize=12)\n",
    "    plt.grid(axis='x', linestyle='--', alpha=0.7)\n",
    "    plt.tight_layout()\n",
    "    plt.show()\n",
    "\n",
    "    # Análise e Interpretação Textual \n",
    "    print(\"\\nInterpretação da Importância das Features\\n\")\n",
    "    \n",
    "    # Pegar as 5 features mais importantes (ou menos, se não houver 5)\n",
    "    top_n = min(5, len(feature_importance_df))\n",
    "    top_features = feature_importance_df.head(top_n)\n",
    "    \n",
    "    print(f\"Esta análise mostra quais características (features) o modelo '{nome_modelo}' considerou mais relevantes para fazer suas previsões.\")\n",
    "    if metodo_importancia:\n",
    "        print(f\"A importância foi calculada usando a métrica de {metodo_importancia}.\\n\")\n",
    "        \n",
    "    print(f\"As {top_n} features mais influentes são:\")\n",
    "    \n",
    "    # Calcula a importância relativa para dar mais contexto\n",
    "    total_importance = top_features['Importance'].sum()\n",
    "    \n",
    "    for index, row in top_features.iterrows():\n",
    "        feature_name = row['Feature']\n",
    "        importance_score = row['Importance']\n",
    "        relative_importance = (importance_score / total_importance) * 100 \n",
    "        print(f\"  {index+1}. {feature_name} (Importância: {importance_score:.3f}, Contribuição Relativa: {relative_importance:.1f}%)\")\n",
    "\n",
    "    print(\"\\nConclusão:\")\n",
    "    print(f\"   - A feature '{top_features['Feature'].iloc[0]}' é, de longe, o fator mais decisivo para o modelo.\")\n",
    "    print(\"   - Variáveis como as listadas acima são os principais impulsionadores do resultado previsto.\")\n",
    "    print(\"   - Isso pode sugerir que esforços para melhorar a qualidade dos dados ou para engenharia de features devem se concentrar principalmente nesses fatores.\")"
   ]
  },
  {
   "cell_type": "markdown",
   "id": "80b08bfd",
   "metadata": {},
   "source": [
    "##### Análise Exploratória de Dados (EDA)"
   ]
  },
  {
   "cell_type": "code",
   "execution_count": 822,
   "id": "767cebda",
   "metadata": {},
   "outputs": [
    {
     "name": "stdout",
     "output_type": "stream",
     "text": [
      "Primeiros dados\n"
     ]
    },
    {
     "data": {
      "application/vnd.microsoft.datawrangler.viewer.v0+json": {
       "columns": [
        {
         "name": "Date",
         "rawType": "datetime64[ns]",
         "type": "datetime"
        },
        {
         "name": "Close",
         "rawType": "float64",
         "type": "float"
        },
        {
         "name": "High",
         "rawType": "float64",
         "type": "float"
        },
        {
         "name": "Low",
         "rawType": "float64",
         "type": "float"
        },
        {
         "name": "Open",
         "rawType": "float64",
         "type": "float"
        },
        {
         "name": "Volume",
         "rawType": "int64",
         "type": "integer"
        }
       ],
       "ref": "f105ae10-9e4a-4ac4-92c4-bfd64b6fff1e",
       "rows": [
        [
         "1993-04-27 00:00:00",
         "24.5",
         "25.399999618530273",
         "24.5",
         "24.799999237060547",
         "0"
        ],
        [
         "1993-04-28 00:00:00",
         "24.299999237060547",
         "24.600000381469727",
         "23.700000762939453",
         "24.5",
         "0"
        ],
        [
         "1993-04-29 00:00:00",
         "23.700000762939453",
         "24.799999237060547",
         "23.700000762939453",
         "24.299999237060547",
         "0"
        ],
        [
         "1993-04-30 00:00:00",
         "24.100000381469727",
         "24.200000762939453",
         "23.700000762939453",
         "23.700000762939453",
         "0"
        ],
        [
         "1993-05-03 00:00:00",
         "24.100000381469727",
         "24.399999618530273",
         "23.799999237060547",
         "24.100000381469727",
         "0"
        ]
       ],
       "shape": {
        "columns": 5,
        "rows": 5
       }
      },
      "text/html": [
       "<div>\n",
       "<style scoped>\n",
       "    .dataframe tbody tr th:only-of-type {\n",
       "        vertical-align: middle;\n",
       "    }\n",
       "\n",
       "    .dataframe tbody tr th {\n",
       "        vertical-align: top;\n",
       "    }\n",
       "\n",
       "    .dataframe thead th {\n",
       "        text-align: right;\n",
       "    }\n",
       "</style>\n",
       "<table border=\"1\" class=\"dataframe\">\n",
       "  <thead>\n",
       "    <tr style=\"text-align: right;\">\n",
       "      <th></th>\n",
       "      <th>Close</th>\n",
       "      <th>High</th>\n",
       "      <th>Low</th>\n",
       "      <th>Open</th>\n",
       "      <th>Volume</th>\n",
       "    </tr>\n",
       "    <tr>\n",
       "      <th>Date</th>\n",
       "      <th></th>\n",
       "      <th></th>\n",
       "      <th></th>\n",
       "      <th></th>\n",
       "      <th></th>\n",
       "    </tr>\n",
       "  </thead>\n",
       "  <tbody>\n",
       "    <tr>\n",
       "      <th>1993-04-27</th>\n",
       "      <td>24.500000</td>\n",
       "      <td>25.400000</td>\n",
       "      <td>24.500000</td>\n",
       "      <td>24.799999</td>\n",
       "      <td>0</td>\n",
       "    </tr>\n",
       "    <tr>\n",
       "      <th>1993-04-28</th>\n",
       "      <td>24.299999</td>\n",
       "      <td>24.600000</td>\n",
       "      <td>23.700001</td>\n",
       "      <td>24.500000</td>\n",
       "      <td>0</td>\n",
       "    </tr>\n",
       "    <tr>\n",
       "      <th>1993-04-29</th>\n",
       "      <td>23.700001</td>\n",
       "      <td>24.799999</td>\n",
       "      <td>23.700001</td>\n",
       "      <td>24.299999</td>\n",
       "      <td>0</td>\n",
       "    </tr>\n",
       "    <tr>\n",
       "      <th>1993-04-30</th>\n",
       "      <td>24.100000</td>\n",
       "      <td>24.200001</td>\n",
       "      <td>23.700001</td>\n",
       "      <td>23.700001</td>\n",
       "      <td>0</td>\n",
       "    </tr>\n",
       "    <tr>\n",
       "      <th>1993-05-03</th>\n",
       "      <td>24.100000</td>\n",
       "      <td>24.400000</td>\n",
       "      <td>23.799999</td>\n",
       "      <td>24.100000</td>\n",
       "      <td>0</td>\n",
       "    </tr>\n",
       "  </tbody>\n",
       "</table>\n",
       "</div>"
      ],
      "text/plain": [
       "                Close       High        Low       Open  Volume\n",
       "Date                                                          \n",
       "1993-04-27  24.500000  25.400000  24.500000  24.799999       0\n",
       "1993-04-28  24.299999  24.600000  23.700001  24.500000       0\n",
       "1993-04-29  23.700001  24.799999  23.700001  24.299999       0\n",
       "1993-04-30  24.100000  24.200001  23.700001  23.700001       0\n",
       "1993-05-03  24.100000  24.400000  23.799999  24.100000       0"
      ]
     },
     "metadata": {},
     "output_type": "display_data"
    },
    {
     "name": "stdout",
     "output_type": "stream",
     "text": [
      "\n",
      "Ultimos dados\n"
     ]
    },
    {
     "data": {
      "application/vnd.microsoft.datawrangler.viewer.v0+json": {
       "columns": [
        {
         "name": "Date",
         "rawType": "datetime64[ns]",
         "type": "datetime"
        },
        {
         "name": "Close",
         "rawType": "float64",
         "type": "float"
        },
        {
         "name": "High",
         "rawType": "float64",
         "type": "float"
        },
        {
         "name": "Low",
         "rawType": "float64",
         "type": "float"
        },
        {
         "name": "Open",
         "rawType": "float64",
         "type": "float"
        },
        {
         "name": "Volume",
         "rawType": "int64",
         "type": "integer"
        }
       ],
       "ref": "bcc9d137-e2cc-4c80-9585-4cdf46ebd4bc",
       "rows": [
        [
         "2025-07-25 00:00:00",
         "133524.0",
         "134204.0",
         "133285.0",
         "133820.0",
         "5560900"
        ],
        [
         "2025-07-28 00:00:00",
         "132129.0",
         "133902.0",
         "131550.0",
         "133538.0",
         "6625600"
        ],
        [
         "2025-07-29 00:00:00",
         "132726.0",
         "133346.0",
         "132130.0",
         "132130.0",
         "6324800"
        ],
        [
         "2025-07-30 00:00:00",
         "133990.0",
         "134368.0",
         "131883.0",
         "132702.0",
         "8655300"
        ],
        [
         "2025-07-31 00:00:00",
         "133071.046875",
         "0.0",
         "0.0",
         "0.0",
         "0"
        ]
       ],
       "shape": {
        "columns": 5,
        "rows": 5
       }
      },
      "text/html": [
       "<div>\n",
       "<style scoped>\n",
       "    .dataframe tbody tr th:only-of-type {\n",
       "        vertical-align: middle;\n",
       "    }\n",
       "\n",
       "    .dataframe tbody tr th {\n",
       "        vertical-align: top;\n",
       "    }\n",
       "\n",
       "    .dataframe thead th {\n",
       "        text-align: right;\n",
       "    }\n",
       "</style>\n",
       "<table border=\"1\" class=\"dataframe\">\n",
       "  <thead>\n",
       "    <tr style=\"text-align: right;\">\n",
       "      <th></th>\n",
       "      <th>Close</th>\n",
       "      <th>High</th>\n",
       "      <th>Low</th>\n",
       "      <th>Open</th>\n",
       "      <th>Volume</th>\n",
       "    </tr>\n",
       "    <tr>\n",
       "      <th>Date</th>\n",
       "      <th></th>\n",
       "      <th></th>\n",
       "      <th></th>\n",
       "      <th></th>\n",
       "      <th></th>\n",
       "    </tr>\n",
       "  </thead>\n",
       "  <tbody>\n",
       "    <tr>\n",
       "      <th>2025-07-25</th>\n",
       "      <td>133524.000000</td>\n",
       "      <td>134204.0</td>\n",
       "      <td>133285.0</td>\n",
       "      <td>133820.0</td>\n",
       "      <td>5560900</td>\n",
       "    </tr>\n",
       "    <tr>\n",
       "      <th>2025-07-28</th>\n",
       "      <td>132129.000000</td>\n",
       "      <td>133902.0</td>\n",
       "      <td>131550.0</td>\n",
       "      <td>133538.0</td>\n",
       "      <td>6625600</td>\n",
       "    </tr>\n",
       "    <tr>\n",
       "      <th>2025-07-29</th>\n",
       "      <td>132726.000000</td>\n",
       "      <td>133346.0</td>\n",
       "      <td>132130.0</td>\n",
       "      <td>132130.0</td>\n",
       "      <td>6324800</td>\n",
       "    </tr>\n",
       "    <tr>\n",
       "      <th>2025-07-30</th>\n",
       "      <td>133990.000000</td>\n",
       "      <td>134368.0</td>\n",
       "      <td>131883.0</td>\n",
       "      <td>132702.0</td>\n",
       "      <td>8655300</td>\n",
       "    </tr>\n",
       "    <tr>\n",
       "      <th>2025-07-31</th>\n",
       "      <td>133071.046875</td>\n",
       "      <td>0.0</td>\n",
       "      <td>0.0</td>\n",
       "      <td>0.0</td>\n",
       "      <td>0</td>\n",
       "    </tr>\n",
       "  </tbody>\n",
       "</table>\n",
       "</div>"
      ],
      "text/plain": [
       "                    Close      High       Low      Open   Volume\n",
       "Date                                                            \n",
       "2025-07-25  133524.000000  134204.0  133285.0  133820.0  5560900\n",
       "2025-07-28  132129.000000  133902.0  131550.0  133538.0  6625600\n",
       "2025-07-29  132726.000000  133346.0  132130.0  132130.0  6324800\n",
       "2025-07-30  133990.000000  134368.0  131883.0  132702.0  8655300\n",
       "2025-07-31  133071.046875       0.0       0.0       0.0        0"
      ]
     },
     "metadata": {},
     "output_type": "display_data"
    }
   ],
   "source": [
    "\"\"\"\n",
    "\n",
    "Com sugestão do colega da pós Tiago Turra existe uma biblioteca chamada yfinance (https://pypi.org/project/yfinance/) que possi os mesmo dados do site https://br.investing.com/indices/bovespa-historical-data\n",
    "\n",
    "\"\"\"\n",
    "\n",
    "# Importando os dados via yfinance apenas para referencia\n",
    "# progress --> Não gerar um print do progresso\n",
    "# auto_adjust --> corrigir o histórico de preços\n",
    "# multi_level_index --> Utilizando para evitar gerar coluna com o nome do ticket, exemplo ('Close', '^BVSP')\n",
    "\n",
    "dados_yf = yf.download('^BVSP', period=\"max\", interval=\"1d\", auto_adjust=True,  progress=False, multi_level_index=False)\n",
    "\n",
    "print(\"Primeiros dados\")\n",
    "display(dados_yf.head())\n",
    "\n",
    "print(\"\\nUltimos dados\")\n",
    "display(dados_yf.tail())"
   ]
  },
  {
   "cell_type": "code",
   "execution_count": 823,
   "id": "b853a146",
   "metadata": {},
   "outputs": [
    {
     "data": {
      "application/vnd.microsoft.datawrangler.viewer.v0+json": {
       "columns": [
        {
         "name": "Data",
         "rawType": "datetime64[ns]",
         "type": "datetime"
        },
        {
         "name": "Ultimo",
         "rawType": "int64",
         "type": "integer"
        },
        {
         "name": "Abertura",
         "rawType": "int64",
         "type": "integer"
        },
        {
         "name": "Maxima",
         "rawType": "int64",
         "type": "integer"
        },
        {
         "name": "Minima",
         "rawType": "int64",
         "type": "integer"
        },
        {
         "name": "Volume",
         "rawType": "object",
         "type": "string"
        },
        {
         "name": "Variacao",
         "rawType": "object",
         "type": "string"
        }
       ],
       "ref": "f2f2cf0a-c313-49d8-9f6f-0f703d6150fc",
       "rows": [
        [
         "1995-01-02 00:00:00",
         "4301",
         "4354",
         "4398",
         "4300",
         "4,10B",
         "-1,22%"
        ],
        [
         "1995-01-03 00:00:00",
         "4098",
         "4370",
         "4386",
         "4094",
         "8,35B",
         "-4,72%"
        ],
        [
         "1995-01-04 00:00:00",
         "3968",
         "4098",
         "4098",
         "3861",
         "11,95B",
         "-3,17%"
        ],
        [
         "1995-01-05 00:00:00",
         "4037",
         "3968",
         "4040",
         "3944",
         "8,76B",
         "1,74%"
        ],
        [
         "1995-01-06 00:00:00",
         "3827",
         "4037",
         "4106",
         "3813",
         "12,02B",
         "-5,20%"
        ]
       ],
       "shape": {
        "columns": 6,
        "rows": 5
       }
      },
      "text/html": [
       "<div>\n",
       "<style scoped>\n",
       "    .dataframe tbody tr th:only-of-type {\n",
       "        vertical-align: middle;\n",
       "    }\n",
       "\n",
       "    .dataframe tbody tr th {\n",
       "        vertical-align: top;\n",
       "    }\n",
       "\n",
       "    .dataframe thead th {\n",
       "        text-align: right;\n",
       "    }\n",
       "</style>\n",
       "<table border=\"1\" class=\"dataframe\">\n",
       "  <thead>\n",
       "    <tr style=\"text-align: right;\">\n",
       "      <th></th>\n",
       "      <th>Ultimo</th>\n",
       "      <th>Abertura</th>\n",
       "      <th>Maxima</th>\n",
       "      <th>Minima</th>\n",
       "      <th>Volume</th>\n",
       "      <th>Variacao</th>\n",
       "    </tr>\n",
       "    <tr>\n",
       "      <th>Data</th>\n",
       "      <th></th>\n",
       "      <th></th>\n",
       "      <th></th>\n",
       "      <th></th>\n",
       "      <th></th>\n",
       "      <th></th>\n",
       "    </tr>\n",
       "  </thead>\n",
       "  <tbody>\n",
       "    <tr>\n",
       "      <th>1995-01-02</th>\n",
       "      <td>4301</td>\n",
       "      <td>4354</td>\n",
       "      <td>4398</td>\n",
       "      <td>4300</td>\n",
       "      <td>4,10B</td>\n",
       "      <td>-1,22%</td>\n",
       "    </tr>\n",
       "    <tr>\n",
       "      <th>1995-01-03</th>\n",
       "      <td>4098</td>\n",
       "      <td>4370</td>\n",
       "      <td>4386</td>\n",
       "      <td>4094</td>\n",
       "      <td>8,35B</td>\n",
       "      <td>-4,72%</td>\n",
       "    </tr>\n",
       "    <tr>\n",
       "      <th>1995-01-04</th>\n",
       "      <td>3968</td>\n",
       "      <td>4098</td>\n",
       "      <td>4098</td>\n",
       "      <td>3861</td>\n",
       "      <td>11,95B</td>\n",
       "      <td>-3,17%</td>\n",
       "    </tr>\n",
       "    <tr>\n",
       "      <th>1995-01-05</th>\n",
       "      <td>4037</td>\n",
       "      <td>3968</td>\n",
       "      <td>4040</td>\n",
       "      <td>3944</td>\n",
       "      <td>8,76B</td>\n",
       "      <td>1,74%</td>\n",
       "    </tr>\n",
       "    <tr>\n",
       "      <th>1995-01-06</th>\n",
       "      <td>3827</td>\n",
       "      <td>4037</td>\n",
       "      <td>4106</td>\n",
       "      <td>3813</td>\n",
       "      <td>12,02B</td>\n",
       "      <td>-5,20%</td>\n",
       "    </tr>\n",
       "  </tbody>\n",
       "</table>\n",
       "</div>"
      ],
      "text/plain": [
       "            Ultimo  Abertura  Maxima  Minima  Volume Variacao\n",
       "Data                                                         \n",
       "1995-01-02    4301      4354    4398    4300   4,10B   -1,22%\n",
       "1995-01-03    4098      4370    4386    4094   8,35B   -4,72%\n",
       "1995-01-04    3968      4098    4098    3861  11,95B   -3,17%\n",
       "1995-01-05    4037      3968    4040    3944   8,76B    1,74%\n",
       "1995-01-06    3827      4037    4106    3813  12,02B   -5,20%"
      ]
     },
     "metadata": {},
     "output_type": "display_data"
    }
   ],
   "source": [
    "# Opção de já transformar o campa data em Data e Index\n",
    "\n",
    "link = r\"https://raw.githubusercontent.com/RicardViana/fiap-Machine-Learning-and-Time-Series/refs/heads/main/Dados%20Hist%C3%B3ricos%20Ibovespa.csv\"\n",
    "dados_origem_teste = pd.read_csv(link, sep= \";\", thousands='.', decimal=',', parse_dates=[\"Data\"], dayfirst=True, index_col=\"Data\")\n",
    "display(dados_origem_teste.head())"
   ]
  },
  {
   "cell_type": "code",
   "execution_count": 824,
   "id": "4c323470",
   "metadata": {},
   "outputs": [],
   "source": [
    "# Importar os dados via github \n",
    "# Necessario o uso do arumento thousands e decimal para não ter problema com o data frame --> o . na fonte é para separar o milhar\n",
    "\n",
    "usar_yf = \"Sim\"\n",
    "\n",
    "if usar_yf == \"Sim\":\n",
    "    dados_origem = dados_yf[[\"Close\", \"High\", \"Low\", \"Open\"]].copy()\n",
    "    dados_origem = dados_origem.rename(columns={\"Close\":\"Ultimo\", \"Open\":\"Abertura\", \"High\":\"Maxima\", \"Low\":\"Minima\"})\n",
    "\n",
    "else:\n",
    "    link = r\"https://raw.githubusercontent.com/RicardViana/fiap-Machine-Learning-and-Time-Series/refs/heads/main/Dados%20Hist%C3%B3ricos%20Ibovespa.csv\"\n",
    "    dados_origem = pd.read_csv(link, sep= \";\", thousands='.', decimal=',', index_col=\"Data\")"
   ]
  },
  {
   "cell_type": "code",
   "execution_count": 825,
   "id": "b83b6b1a",
   "metadata": {},
   "outputs": [
    {
     "name": "stdout",
     "output_type": "stream",
     "text": [
      "Primeiros dados (.head)\n"
     ]
    },
    {
     "data": {
      "application/vnd.microsoft.datawrangler.viewer.v0+json": {
       "columns": [
        {
         "name": "Date",
         "rawType": "datetime64[ns]",
         "type": "datetime"
        },
        {
         "name": "Ultimo",
         "rawType": "float64",
         "type": "float"
        },
        {
         "name": "Maxima",
         "rawType": "float64",
         "type": "float"
        },
        {
         "name": "Minima",
         "rawType": "float64",
         "type": "float"
        },
        {
         "name": "Abertura",
         "rawType": "float64",
         "type": "float"
        }
       ],
       "ref": "4d6611c3-b813-4a14-84e6-52b631cb5317",
       "rows": [
        [
         "1993-04-27 00:00:00",
         "24.5",
         "25.399999618530273",
         "24.5",
         "24.799999237060547"
        ],
        [
         "1993-04-28 00:00:00",
         "24.299999237060547",
         "24.600000381469727",
         "23.700000762939453",
         "24.5"
        ],
        [
         "1993-04-29 00:00:00",
         "23.700000762939453",
         "24.799999237060547",
         "23.700000762939453",
         "24.299999237060547"
        ],
        [
         "1993-04-30 00:00:00",
         "24.100000381469727",
         "24.200000762939453",
         "23.700000762939453",
         "23.700000762939453"
        ],
        [
         "1993-05-03 00:00:00",
         "24.100000381469727",
         "24.399999618530273",
         "23.799999237060547",
         "24.100000381469727"
        ]
       ],
       "shape": {
        "columns": 4,
        "rows": 5
       }
      },
      "text/html": [
       "<div>\n",
       "<style scoped>\n",
       "    .dataframe tbody tr th:only-of-type {\n",
       "        vertical-align: middle;\n",
       "    }\n",
       "\n",
       "    .dataframe tbody tr th {\n",
       "        vertical-align: top;\n",
       "    }\n",
       "\n",
       "    .dataframe thead th {\n",
       "        text-align: right;\n",
       "    }\n",
       "</style>\n",
       "<table border=\"1\" class=\"dataframe\">\n",
       "  <thead>\n",
       "    <tr style=\"text-align: right;\">\n",
       "      <th></th>\n",
       "      <th>Ultimo</th>\n",
       "      <th>Maxima</th>\n",
       "      <th>Minima</th>\n",
       "      <th>Abertura</th>\n",
       "    </tr>\n",
       "    <tr>\n",
       "      <th>Date</th>\n",
       "      <th></th>\n",
       "      <th></th>\n",
       "      <th></th>\n",
       "      <th></th>\n",
       "    </tr>\n",
       "  </thead>\n",
       "  <tbody>\n",
       "    <tr>\n",
       "      <th>1993-04-27</th>\n",
       "      <td>24.500000</td>\n",
       "      <td>25.400000</td>\n",
       "      <td>24.500000</td>\n",
       "      <td>24.799999</td>\n",
       "    </tr>\n",
       "    <tr>\n",
       "      <th>1993-04-28</th>\n",
       "      <td>24.299999</td>\n",
       "      <td>24.600000</td>\n",
       "      <td>23.700001</td>\n",
       "      <td>24.500000</td>\n",
       "    </tr>\n",
       "    <tr>\n",
       "      <th>1993-04-29</th>\n",
       "      <td>23.700001</td>\n",
       "      <td>24.799999</td>\n",
       "      <td>23.700001</td>\n",
       "      <td>24.299999</td>\n",
       "    </tr>\n",
       "    <tr>\n",
       "      <th>1993-04-30</th>\n",
       "      <td>24.100000</td>\n",
       "      <td>24.200001</td>\n",
       "      <td>23.700001</td>\n",
       "      <td>23.700001</td>\n",
       "    </tr>\n",
       "    <tr>\n",
       "      <th>1993-05-03</th>\n",
       "      <td>24.100000</td>\n",
       "      <td>24.400000</td>\n",
       "      <td>23.799999</td>\n",
       "      <td>24.100000</td>\n",
       "    </tr>\n",
       "  </tbody>\n",
       "</table>\n",
       "</div>"
      ],
      "text/plain": [
       "               Ultimo     Maxima     Minima   Abertura\n",
       "Date                                                  \n",
       "1993-04-27  24.500000  25.400000  24.500000  24.799999\n",
       "1993-04-28  24.299999  24.600000  23.700001  24.500000\n",
       "1993-04-29  23.700001  24.799999  23.700001  24.299999\n",
       "1993-04-30  24.100000  24.200001  23.700001  23.700001\n",
       "1993-05-03  24.100000  24.400000  23.799999  24.100000"
      ]
     },
     "metadata": {},
     "output_type": "display_data"
    },
    {
     "name": "stdout",
     "output_type": "stream",
     "text": [
      "\n",
      "Ultimos dados (.tail)\n"
     ]
    },
    {
     "data": {
      "application/vnd.microsoft.datawrangler.viewer.v0+json": {
       "columns": [
        {
         "name": "Date",
         "rawType": "datetime64[ns]",
         "type": "datetime"
        },
        {
         "name": "Ultimo",
         "rawType": "float64",
         "type": "float"
        },
        {
         "name": "Maxima",
         "rawType": "float64",
         "type": "float"
        },
        {
         "name": "Minima",
         "rawType": "float64",
         "type": "float"
        },
        {
         "name": "Abertura",
         "rawType": "float64",
         "type": "float"
        }
       ],
       "ref": "4831f7a0-1d30-433f-be75-46c2d7cbe2ad",
       "rows": [
        [
         "2025-07-25 00:00:00",
         "133524.0",
         "134204.0",
         "133285.0",
         "133820.0"
        ],
        [
         "2025-07-28 00:00:00",
         "132129.0",
         "133902.0",
         "131550.0",
         "133538.0"
        ],
        [
         "2025-07-29 00:00:00",
         "132726.0",
         "133346.0",
         "132130.0",
         "132130.0"
        ],
        [
         "2025-07-30 00:00:00",
         "133990.0",
         "134368.0",
         "131883.0",
         "132702.0"
        ],
        [
         "2025-07-31 00:00:00",
         "133071.046875",
         "0.0",
         "0.0",
         "0.0"
        ]
       ],
       "shape": {
        "columns": 4,
        "rows": 5
       }
      },
      "text/html": [
       "<div>\n",
       "<style scoped>\n",
       "    .dataframe tbody tr th:only-of-type {\n",
       "        vertical-align: middle;\n",
       "    }\n",
       "\n",
       "    .dataframe tbody tr th {\n",
       "        vertical-align: top;\n",
       "    }\n",
       "\n",
       "    .dataframe thead th {\n",
       "        text-align: right;\n",
       "    }\n",
       "</style>\n",
       "<table border=\"1\" class=\"dataframe\">\n",
       "  <thead>\n",
       "    <tr style=\"text-align: right;\">\n",
       "      <th></th>\n",
       "      <th>Ultimo</th>\n",
       "      <th>Maxima</th>\n",
       "      <th>Minima</th>\n",
       "      <th>Abertura</th>\n",
       "    </tr>\n",
       "    <tr>\n",
       "      <th>Date</th>\n",
       "      <th></th>\n",
       "      <th></th>\n",
       "      <th></th>\n",
       "      <th></th>\n",
       "    </tr>\n",
       "  </thead>\n",
       "  <tbody>\n",
       "    <tr>\n",
       "      <th>2025-07-25</th>\n",
       "      <td>133524.000000</td>\n",
       "      <td>134204.0</td>\n",
       "      <td>133285.0</td>\n",
       "      <td>133820.0</td>\n",
       "    </tr>\n",
       "    <tr>\n",
       "      <th>2025-07-28</th>\n",
       "      <td>132129.000000</td>\n",
       "      <td>133902.0</td>\n",
       "      <td>131550.0</td>\n",
       "      <td>133538.0</td>\n",
       "    </tr>\n",
       "    <tr>\n",
       "      <th>2025-07-29</th>\n",
       "      <td>132726.000000</td>\n",
       "      <td>133346.0</td>\n",
       "      <td>132130.0</td>\n",
       "      <td>132130.0</td>\n",
       "    </tr>\n",
       "    <tr>\n",
       "      <th>2025-07-30</th>\n",
       "      <td>133990.000000</td>\n",
       "      <td>134368.0</td>\n",
       "      <td>131883.0</td>\n",
       "      <td>132702.0</td>\n",
       "    </tr>\n",
       "    <tr>\n",
       "      <th>2025-07-31</th>\n",
       "      <td>133071.046875</td>\n",
       "      <td>0.0</td>\n",
       "      <td>0.0</td>\n",
       "      <td>0.0</td>\n",
       "    </tr>\n",
       "  </tbody>\n",
       "</table>\n",
       "</div>"
      ],
      "text/plain": [
       "                   Ultimo    Maxima    Minima  Abertura\n",
       "Date                                                   \n",
       "2025-07-25  133524.000000  134204.0  133285.0  133820.0\n",
       "2025-07-28  132129.000000  133902.0  131550.0  133538.0\n",
       "2025-07-29  132726.000000  133346.0  132130.0  132130.0\n",
       "2025-07-30  133990.000000  134368.0  131883.0  132702.0\n",
       "2025-07-31  133071.046875       0.0       0.0       0.0"
      ]
     },
     "metadata": {},
     "output_type": "display_data"
    }
   ],
   "source": [
    "# Verificando os dados via .head e .tail\n",
    "\n",
    "print(\"Primeiros dados (.head)\")\n",
    "display(dados_origem.head())\n",
    "\n",
    "print(\"\\nUltimos dados (.tail)\")\n",
    "display(dados_origem.tail())"
   ]
  },
  {
   "cell_type": "code",
   "execution_count": 826,
   "id": "1ed3377b",
   "metadata": {},
   "outputs": [],
   "source": [
    "# Ajustar o formato da coluna Data \n",
    "\n",
    "if usar_yf == \"Não\":\n",
    "    dados_origem.index = pd.to_datetime(dados_origem.index, format = \"%d/%m/%Y\")"
   ]
  },
  {
   "cell_type": "code",
   "execution_count": 827,
   "id": "e2bbdb21",
   "metadata": {},
   "outputs": [],
   "source": [
    "# Verificand os dados os dados do data frame dados_origem com o dados_yf --> Verificar se há diferença \n",
    "\n",
    "if usar_yf == \"Não\":\n",
    "    print(\"Dados do data frame dados_origem\")\n",
    "    display(dados_origem[['Ultimo', 'Abertura', 'Maxima', 'Minima']].tail())\n",
    "\n",
    "    print(\"\\nDados do data frame dados_yf\")\n",
    "    display(dados_yf[['Close', 'Open', 'High', 'Low']].query(\"Date >= '2025-06-30 00:00:00' and Date <= '2025-07-04 00:00:00'\"))\n"
   ]
  },
  {
   "cell_type": "code",
   "execution_count": 828,
   "id": "6611e049",
   "metadata": {},
   "outputs": [
    {
     "name": "stdout",
     "output_type": "stream",
     "text": [
      "<class 'pandas.core.frame.DataFrame'>\n",
      "DatetimeIndex: 7989 entries, 1993-04-27 to 2025-07-31\n",
      "Data columns (total 4 columns):\n",
      " #   Column    Non-Null Count  Dtype  \n",
      "---  ------    --------------  -----  \n",
      " 0   Ultimo    7989 non-null   float64\n",
      " 1   Maxima    7989 non-null   float64\n",
      " 2   Minima    7989 non-null   float64\n",
      " 3   Abertura  7989 non-null   float64\n",
      "dtypes: float64(4)\n",
      "memory usage: 312.1 KB\n"
     ]
    }
   ],
   "source": [
    "# Veficiando os dados dados do data frame \n",
    "\n",
    "dados_origem.info()"
   ]
  },
  {
   "cell_type": "code",
   "execution_count": 829,
   "id": "656a58f7",
   "metadata": {},
   "outputs": [
    {
     "data": {
      "application/vnd.microsoft.datawrangler.viewer.v0+json": {
       "columns": [
        {
         "name": "index",
         "rawType": "object",
         "type": "string"
        },
        {
         "name": "0",
         "rawType": "int64",
         "type": "integer"
        }
       ],
       "ref": "1537b7dd-f275-4bdb-8155-e484d8fbbf38",
       "rows": [
        [
         "Ultimo",
         "0"
        ],
        [
         "Maxima",
         "0"
        ],
        [
         "Minima",
         "0"
        ],
        [
         "Abertura",
         "0"
        ]
       ],
       "shape": {
        "columns": 1,
        "rows": 4
       }
      },
      "text/plain": [
       "Ultimo      0\n",
       "Maxima      0\n",
       "Minima      0\n",
       "Abertura    0\n",
       "dtype: int64"
      ]
     },
     "execution_count": 829,
     "metadata": {},
     "output_type": "execute_result"
    }
   ],
   "source": [
    "# Verificando os dados nulos\n",
    "dados_origem.isnull().sum()"
   ]
  },
  {
   "cell_type": "code",
   "execution_count": 830,
   "id": "52578741",
   "metadata": {},
   "outputs": [
    {
     "data": {
      "application/vnd.microsoft.datawrangler.viewer.v0+json": {
       "columns": [
        {
         "name": "Date",
         "rawType": "datetime64[ns]",
         "type": "datetime"
        },
        {
         "name": "Ultimo",
         "rawType": "float64",
         "type": "float"
        },
        {
         "name": "Maxima",
         "rawType": "float64",
         "type": "float"
        },
        {
         "name": "Minima",
         "rawType": "float64",
         "type": "float"
        },
        {
         "name": "Abertura",
         "rawType": "float64",
         "type": "float"
        }
       ],
       "ref": "d043a6a4-4a7f-4aab-adb7-589df81a6452",
       "rows": [],
       "shape": {
        "columns": 4,
        "rows": 0
       }
      },
      "text/html": [
       "<div>\n",
       "<style scoped>\n",
       "    .dataframe tbody tr th:only-of-type {\n",
       "        vertical-align: middle;\n",
       "    }\n",
       "\n",
       "    .dataframe tbody tr th {\n",
       "        vertical-align: top;\n",
       "    }\n",
       "\n",
       "    .dataframe thead th {\n",
       "        text-align: right;\n",
       "    }\n",
       "</style>\n",
       "<table border=\"1\" class=\"dataframe\">\n",
       "  <thead>\n",
       "    <tr style=\"text-align: right;\">\n",
       "      <th></th>\n",
       "      <th>Ultimo</th>\n",
       "      <th>Maxima</th>\n",
       "      <th>Minima</th>\n",
       "      <th>Abertura</th>\n",
       "    </tr>\n",
       "    <tr>\n",
       "      <th>Date</th>\n",
       "      <th></th>\n",
       "      <th></th>\n",
       "      <th></th>\n",
       "      <th></th>\n",
       "    </tr>\n",
       "  </thead>\n",
       "  <tbody>\n",
       "  </tbody>\n",
       "</table>\n",
       "</div>"
      ],
      "text/plain": [
       "Empty DataFrame\n",
       "Columns: [Ultimo, Maxima, Minima, Abertura]\n",
       "Index: []"
      ]
     },
     "execution_count": 830,
     "metadata": {},
     "output_type": "execute_result"
    }
   ],
   "source": [
    "# Verificando os registros que estão nulos \n",
    "dados_origem[dados_origem.isnull().any(axis=1)]"
   ]
  },
  {
   "cell_type": "code",
   "execution_count": 831,
   "id": "f2de032f",
   "metadata": {},
   "outputs": [
    {
     "data": {
      "application/vnd.microsoft.datawrangler.viewer.v0+json": {
       "columns": [
        {
         "name": "index",
         "rawType": "object",
         "type": "string"
        },
        {
         "name": "Ultimo",
         "rawType": "float64",
         "type": "float"
        },
        {
         "name": "Maxima",
         "rawType": "float64",
         "type": "float"
        },
        {
         "name": "Minima",
         "rawType": "float64",
         "type": "float"
        },
        {
         "name": "Abertura",
         "rawType": "float64",
         "type": "float"
        }
       ],
       "ref": "be117572-0a8d-4b1f-91c0-357a1e421384",
       "rows": [
        [
         "count",
         "7989.0",
         "7989.0",
         "7989.0",
         "7989.0"
        ],
        [
         "mean",
         "50895.6759854127",
         "51361.94419859742",
         "50373.20856138003",
         "50867.50060101537"
        ],
        [
         "std",
         "39096.50538379589",
         "39371.447913701355",
         "38798.623229421384",
         "39079.19152348446"
        ],
        [
         "min",
         "23.700000762939453",
         "0.0",
         "0.0",
         "0.0"
        ],
        [
         "25%",
         "13246.0",
         "13376.0",
         "13076.0",
         "13239.0"
        ],
        [
         "50%",
         "50299.0",
         "50909.0",
         "49788.0",
         "50284.0"
        ],
        [
         "75%",
         "70792.0",
         "71263.0",
         "70145.0",
         "70757.0"
        ],
        [
         "max",
         "141478.0",
         "141537.0",
         "140597.0",
         "141265.0"
        ]
       ],
       "shape": {
        "columns": 4,
        "rows": 8
       }
      },
      "text/html": [
       "<div>\n",
       "<style scoped>\n",
       "    .dataframe tbody tr th:only-of-type {\n",
       "        vertical-align: middle;\n",
       "    }\n",
       "\n",
       "    .dataframe tbody tr th {\n",
       "        vertical-align: top;\n",
       "    }\n",
       "\n",
       "    .dataframe thead th {\n",
       "        text-align: right;\n",
       "    }\n",
       "</style>\n",
       "<table border=\"1\" class=\"dataframe\">\n",
       "  <thead>\n",
       "    <tr style=\"text-align: right;\">\n",
       "      <th></th>\n",
       "      <th>Ultimo</th>\n",
       "      <th>Maxima</th>\n",
       "      <th>Minima</th>\n",
       "      <th>Abertura</th>\n",
       "    </tr>\n",
       "  </thead>\n",
       "  <tbody>\n",
       "    <tr>\n",
       "      <th>count</th>\n",
       "      <td>7989.000000</td>\n",
       "      <td>7989.000000</td>\n",
       "      <td>7989.000000</td>\n",
       "      <td>7989.000000</td>\n",
       "    </tr>\n",
       "    <tr>\n",
       "      <th>mean</th>\n",
       "      <td>50895.675985</td>\n",
       "      <td>51361.944199</td>\n",
       "      <td>50373.208561</td>\n",
       "      <td>50867.500601</td>\n",
       "    </tr>\n",
       "    <tr>\n",
       "      <th>std</th>\n",
       "      <td>39096.505384</td>\n",
       "      <td>39371.447914</td>\n",
       "      <td>38798.623229</td>\n",
       "      <td>39079.191523</td>\n",
       "    </tr>\n",
       "    <tr>\n",
       "      <th>min</th>\n",
       "      <td>23.700001</td>\n",
       "      <td>0.000000</td>\n",
       "      <td>0.000000</td>\n",
       "      <td>0.000000</td>\n",
       "    </tr>\n",
       "    <tr>\n",
       "      <th>25%</th>\n",
       "      <td>13246.000000</td>\n",
       "      <td>13376.000000</td>\n",
       "      <td>13076.000000</td>\n",
       "      <td>13239.000000</td>\n",
       "    </tr>\n",
       "    <tr>\n",
       "      <th>50%</th>\n",
       "      <td>50299.000000</td>\n",
       "      <td>50909.000000</td>\n",
       "      <td>49788.000000</td>\n",
       "      <td>50284.000000</td>\n",
       "    </tr>\n",
       "    <tr>\n",
       "      <th>75%</th>\n",
       "      <td>70792.000000</td>\n",
       "      <td>71263.000000</td>\n",
       "      <td>70145.000000</td>\n",
       "      <td>70757.000000</td>\n",
       "    </tr>\n",
       "    <tr>\n",
       "      <th>max</th>\n",
       "      <td>141478.000000</td>\n",
       "      <td>141537.000000</td>\n",
       "      <td>140597.000000</td>\n",
       "      <td>141265.000000</td>\n",
       "    </tr>\n",
       "  </tbody>\n",
       "</table>\n",
       "</div>"
      ],
      "text/plain": [
       "              Ultimo         Maxima         Minima       Abertura\n",
       "count    7989.000000    7989.000000    7989.000000    7989.000000\n",
       "mean    50895.675985   51361.944199   50373.208561   50867.500601\n",
       "std     39096.505384   39371.447914   38798.623229   39079.191523\n",
       "min        23.700001       0.000000       0.000000       0.000000\n",
       "25%     13246.000000   13376.000000   13076.000000   13239.000000\n",
       "50%     50299.000000   50909.000000   49788.000000   50284.000000\n",
       "75%     70792.000000   71263.000000   70145.000000   70757.000000\n",
       "max    141478.000000  141537.000000  140597.000000  141265.000000"
      ]
     },
     "execution_count": 831,
     "metadata": {},
     "output_type": "execute_result"
    }
   ],
   "source": [
    "# Gerando a estatistica descritiva do data frame \n",
    "\n",
    "dados_origem.describe()"
   ]
  },
  {
   "cell_type": "code",
   "execution_count": 832,
   "id": "e8d6b05a",
   "metadata": {},
   "outputs": [
    {
     "name": "stdout",
     "output_type": "stream",
     "text": [
      "Data inicial é 1993-04-27 00:00:00\n",
      "Data final   é 2025-07-31 00:00:00\n"
     ]
    }
   ],
   "source": [
    "# Verificando o intervalo de data dos dados \n",
    "\n",
    "print(f\"Data inicial é {dados_origem.index.min()}\")\n",
    "print(f\"Data final   é {dados_origem.index.max()}\")"
   ]
  },
  {
   "cell_type": "code",
   "execution_count": 833,
   "id": "9849cfa0",
   "metadata": {},
   "outputs": [
    {
     "data": {
      "application/vnd.microsoft.datawrangler.viewer.v0+json": {
       "columns": [
        {
         "name": "Date",
         "rawType": "datetime64[ns]",
         "type": "datetime"
        },
        {
         "name": "Ultimo",
         "rawType": "float64",
         "type": "float"
        }
       ],
       "ref": "3700001e-fbb3-4060-9ee9-90bcc388e058",
       "rows": [
        [
         "2025-07-25 00:00:00",
         "133524.0"
        ],
        [
         "2025-07-28 00:00:00",
         "132129.0"
        ],
        [
         "2025-07-29 00:00:00",
         "132726.0"
        ],
        [
         "2025-07-30 00:00:00",
         "133990.0"
        ],
        [
         "2025-07-31 00:00:00",
         "133071.046875"
        ]
       ],
       "shape": {
        "columns": 1,
        "rows": 5
       }
      },
      "text/plain": [
       "Date\n",
       "2025-07-25    133524.000000\n",
       "2025-07-28    132129.000000\n",
       "2025-07-29    132726.000000\n",
       "2025-07-30    133990.000000\n",
       "2025-07-31    133071.046875\n",
       "Name: Ultimo, dtype: float64"
      ]
     },
     "execution_count": 833,
     "metadata": {},
     "output_type": "execute_result"
    }
   ],
   "source": [
    "# Criando um novo data frame apenas com os campos necessarios\n",
    "\n",
    "dados_ultimo = dados_origem[\"Ultimo\"].copy()\n",
    "dados_ultimo.tail()"
   ]
  },
  {
   "cell_type": "code",
   "execution_count": 834,
   "id": "d862ae69",
   "metadata": {},
   "outputs": [
    {
     "data": {
      "image/png": "[encoded data removed]",
      "text/plain": [
       "<Figure size 1500x500 with 1 Axes>"
      ]
     },
     "metadata": {},
     "output_type": "display_data"
    }
   ],
   "source": [
    "# Plotando um grafico de linha \n",
    "\n",
    "plt.figure(figsize=(15,5))\n",
    "plt.plot(dados_ultimo.index,dados_ultimo)\n",
    "plt.title(\"Evolução do indice Ibovespa (IBOV)\")\n",
    "plt.show()"
   ]
  },
  {
   "cell_type": "code",
   "execution_count": 835,
   "id": "35a3bcd9",
   "metadata": {},
   "outputs": [
    {
     "data": {
      "image/png": "[encoded data removed]",
      "text/plain": [
       "<Figure size 1500x1000 with 4 Axes>"
      ]
     },
     "metadata": {},
     "output_type": "display_data"
    }
   ],
   "source": [
    "# Realizar a decomposição da seria temporal -->  tendência (trend), sazonalidade (seasonal) e resíduo (resid) e gerar o graficos \n",
    "\n",
    "periodo = 252 # Média de dias uteis\n",
    "\n",
    "resultados = seasonal_decompose(dados_ultimo, period=periodo)\n",
    "\n",
    "fig, (ax1,ax2,ax3,ax4) = plt.subplots(4,1, figsize = (15,10))\n",
    "\n",
    "resultados.observed.plot(ax=ax1)\n",
    "ax1.set_title(\"Serie Real\")\n",
    "\n",
    "resultados.trend.plot(ax=ax2)\n",
    "ax2.set_title(\"Tendência\")\n",
    "\n",
    "resultados.seasonal.plot(ax=ax3)\n",
    "ax3.set_title(\"Sazonalidade\")\n",
    "\n",
    "resultados.resid.plot(ax=ax4)\n",
    "ax4.set_title(\"Resíduo\")\n",
    "\n",
    "plt.tight_layout()\n",
    "plt.show()"
   ]
  },
  {
   "cell_type": "code",
   "execution_count": 836,
   "id": "b362e292",
   "metadata": {},
   "outputs": [
    {
     "data": {
      "image/png": "[encoded data removed]",
      "text/plain": [
       "<Figure size 1500x1000 with 4 Axes>"
      ]
     },
     "metadata": {},
     "output_type": "display_data"
    }
   ],
   "source": [
    "\"\"\"\n",
    "\n",
    "O ano de 2020 houve a pandemia e dessa forma, plotamos novamente o decompose para verificar a partir do ano de 2019 \n",
    "\n",
    "\"\"\"\n",
    "\n",
    "periodo = 252  # Média de dias úteis\n",
    "\n",
    "# Filtrar os dados a partir de 2019\n",
    "dados_ultimo_2019 = dados_ultimo[dados_ultimo.index >= \"2019-01-01\"]\n",
    "\n",
    "# Realizar a decomposição\n",
    "resultados = seasonal_decompose(dados_ultimo_2019, period=periodo)\n",
    "\n",
    "fig, (ax1, ax2, ax3, ax4) = plt.subplots(4, 1, figsize=(15, 10))\n",
    "\n",
    "resultados.observed.plot(ax=ax1)\n",
    "ax1.set_title(\"Serie Real\")\n",
    "\n",
    "resultados.trend.plot(ax=ax2)\n",
    "ax2.set_title(\"Tendência\")\n",
    "\n",
    "resultados.seasonal.plot(ax=ax3)\n",
    "ax3.set_title(\"Sazonalidade\")\n",
    "\n",
    "resultados.resid.plot(ax=ax4)\n",
    "ax4.set_title(\"Resíduo\")\n",
    "\n",
    "plt.tight_layout()\n",
    "plt.show()"
   ]
  },
  {
   "cell_type": "markdown",
   "id": "158cd310",
   "metadata": {},
   "source": [
    "##### Feature Engineering"
   ]
  },
  {
   "cell_type": "code",
   "execution_count": 837,
   "id": "3fc0fd41",
   "metadata": {},
   "outputs": [],
   "source": [
    "# Criar um novo data frame com os dados originais\n",
    "\n",
    "excluir_anos = \"Não\"\n",
    "anos_excluir = [2020]\n",
    "\n",
    "if excluir_anos == \"Sim\":\n",
    "    mascara = ~dados_origem.index.year.isin(anos_excluir)\n",
    "    dados = dados_origem.loc[mascara, [\"Ultimo\", \"Abertura\", \"Maxima\", \"Minima\"]].copy()\n",
    "\n",
    "else:\n",
    "    dados = dados_origem[[\"Ultimo\", \"Abertura\", \"Maxima\", \"Minima\"]].copy()"
   ]
  },
  {
   "cell_type": "code",
   "execution_count": 838,
   "id": "ceef0009",
   "metadata": {},
   "outputs": [],
   "source": [
    "# Alterando o nome das colunas \n",
    "\n",
    "dados.index.name = \"data\"\n",
    "dados = dados.rename(columns={\"Ultimo\":\"ultimo\", \"Abertura\":\"abertura\", \"Maxima\":\"maxima\", \"Minima\":\"minima\"})"
   ]
  },
  {
   "cell_type": "code",
   "execution_count": 839,
   "id": "e0fdc9d5",
   "metadata": {},
   "outputs": [],
   "source": [
    "# Ordernando os dados \n",
    "\n",
    "dados = dados.sort_index()"
   ]
  },
  {
   "cell_type": "code",
   "execution_count": 840,
   "id": "89edf831",
   "metadata": {},
   "outputs": [
    {
     "data": {
      "application/vnd.microsoft.datawrangler.viewer.v0+json": {
       "columns": [
        {
         "name": "data",
         "rawType": "datetime64[ns]",
         "type": "datetime"
        },
        {
         "name": "ultimo",
         "rawType": "float64",
         "type": "float"
        },
        {
         "name": "abertura",
         "rawType": "float64",
         "type": "float"
        },
        {
         "name": "maxima",
         "rawType": "float64",
         "type": "float"
        },
        {
         "name": "minima",
         "rawType": "float64",
         "type": "float"
        },
        {
         "name": "target",
         "rawType": "int32",
         "type": "integer"
        }
       ],
       "ref": "6f39b26e-deea-450b-a758-727d47a8c028",
       "rows": [
        [
         "2025-07-25 00:00:00",
         "133524.0",
         "133820.0",
         "134204.0",
         "133285.0",
         "0"
        ],
        [
         "2025-07-28 00:00:00",
         "132129.0",
         "133538.0",
         "133902.0",
         "131550.0",
         "1"
        ],
        [
         "2025-07-29 00:00:00",
         "132726.0",
         "132130.0",
         "133346.0",
         "132130.0",
         "1"
        ],
        [
         "2025-07-30 00:00:00",
         "133990.0",
         "132702.0",
         "134368.0",
         "131883.0",
         "0"
        ],
        [
         "2025-07-31 00:00:00",
         "133071.046875",
         "0.0",
         "0.0",
         "0.0",
         "0"
        ]
       ],
       "shape": {
        "columns": 5,
        "rows": 5
       }
      },
      "text/html": [
       "<div>\n",
       "<style scoped>\n",
       "    .dataframe tbody tr th:only-of-type {\n",
       "        vertical-align: middle;\n",
       "    }\n",
       "\n",
       "    .dataframe tbody tr th {\n",
       "        vertical-align: top;\n",
       "    }\n",
       "\n",
       "    .dataframe thead th {\n",
       "        text-align: right;\n",
       "    }\n",
       "</style>\n",
       "<table border=\"1\" class=\"dataframe\">\n",
       "  <thead>\n",
       "    <tr style=\"text-align: right;\">\n",
       "      <th></th>\n",
       "      <th>ultimo</th>\n",
       "      <th>abertura</th>\n",
       "      <th>maxima</th>\n",
       "      <th>minima</th>\n",
       "      <th>target</th>\n",
       "    </tr>\n",
       "    <tr>\n",
       "      <th>data</th>\n",
       "      <th></th>\n",
       "      <th></th>\n",
       "      <th></th>\n",
       "      <th></th>\n",
       "      <th></th>\n",
       "    </tr>\n",
       "  </thead>\n",
       "  <tbody>\n",
       "    <tr>\n",
       "      <th>2025-07-25</th>\n",
       "      <td>133524.000000</td>\n",
       "      <td>133820.0</td>\n",
       "      <td>134204.0</td>\n",
       "      <td>133285.0</td>\n",
       "      <td>0</td>\n",
       "    </tr>\n",
       "    <tr>\n",
       "      <th>2025-07-28</th>\n",
       "      <td>132129.000000</td>\n",
       "      <td>133538.0</td>\n",
       "      <td>133902.0</td>\n",
       "      <td>131550.0</td>\n",
       "      <td>1</td>\n",
       "    </tr>\n",
       "    <tr>\n",
       "      <th>2025-07-29</th>\n",
       "      <td>132726.000000</td>\n",
       "      <td>132130.0</td>\n",
       "      <td>133346.0</td>\n",
       "      <td>132130.0</td>\n",
       "      <td>1</td>\n",
       "    </tr>\n",
       "    <tr>\n",
       "      <th>2025-07-30</th>\n",
       "      <td>133990.000000</td>\n",
       "      <td>132702.0</td>\n",
       "      <td>134368.0</td>\n",
       "      <td>131883.0</td>\n",
       "      <td>0</td>\n",
       "    </tr>\n",
       "    <tr>\n",
       "      <th>2025-07-31</th>\n",
       "      <td>133071.046875</td>\n",
       "      <td>0.0</td>\n",
       "      <td>0.0</td>\n",
       "      <td>0.0</td>\n",
       "      <td>0</td>\n",
       "    </tr>\n",
       "  </tbody>\n",
       "</table>\n",
       "</div>"
      ],
      "text/plain": [
       "                   ultimo  abertura    maxima    minima  target\n",
       "data                                                           \n",
       "2025-07-25  133524.000000  133820.0  134204.0  133285.0       0\n",
       "2025-07-28  132129.000000  133538.0  133902.0  131550.0       1\n",
       "2025-07-29  132726.000000  132130.0  133346.0  132130.0       1\n",
       "2025-07-30  133990.000000  132702.0  134368.0  131883.0       0\n",
       "2025-07-31  133071.046875       0.0       0.0       0.0       0"
      ]
     },
     "execution_count": 840,
     "metadata": {},
     "output_type": "execute_result"
    }
   ],
   "source": [
    "# Criar a variavel Target (Alvo) --> 1 para sobe e 0 para desce \n",
    "# Avaliamos o valor atual com o valor do proximo dia e dessa forma conseguimos definir se o dia seguinte subiu (1) ou desceu (0)\n",
    "\n",
    "# Versão sem o limite \n",
    "#dados['ultimo_amanha'] = dados[\"ultimo\"].shift(-1) # --> Etapa apenas para enteder os calculos e não é necessarios para o modelo\n",
    "#dados['ultimo_diferenca'] = dados[\"ultimo\"].shift(-1) - dados[\"ultimo\"] # --> Etapa apenas para enteder os calculos e não é necessarios para o modelo\n",
    "\n",
    "dados['target'] = (dados[\"ultimo\"].shift(-1) > dados[\"ultimo\"]).astype(int)\n",
    "\n",
    "# Versão com o limite \n",
    "# limitar o percentual\n",
    "#limite = 0.005  # 0.5%\n",
    "\n",
    "# Calcula a variação percentual do fechamento do dia seguinte em relação ao dia atual\n",
    "#delta = (dados[\"ultimo\"].shift(-1) - dados[\"ultimo\"]) / dados[\"ultimo\"]\n",
    "\n",
    "# Cria a coluna target: 1 para alta acima do limite, 0 para baixa abaixo do limite, np.nan para ruído\n",
    "#dados[\"target\"] = np.where(delta > limite, 1, np.where(delta < -limite, 0, np.nan))\n",
    "\n",
    "dados.tail()"
   ]
  },
  {
   "cell_type": "code",
   "execution_count": 841,
   "id": "be806019",
   "metadata": {},
   "outputs": [
    {
     "data": {
      "application/vnd.microsoft.datawrangler.viewer.v0+json": {
       "columns": [
        {
         "name": "data",
         "rawType": "datetime64[ns]",
         "type": "datetime"
        },
        {
         "name": "ultimo",
         "rawType": "float64",
         "type": "float"
        },
        {
         "name": "abertura",
         "rawType": "float64",
         "type": "float"
        },
        {
         "name": "maxima",
         "rawType": "float64",
         "type": "float"
        },
        {
         "name": "minima",
         "rawType": "float64",
         "type": "float"
        },
        {
         "name": "target",
         "rawType": "int32",
         "type": "integer"
        },
        {
         "name": "lag_1",
         "rawType": "float64",
         "type": "float"
        },
        {
         "name": "lag_2",
         "rawType": "float64",
         "type": "float"
        },
        {
         "name": "lag_3",
         "rawType": "float64",
         "type": "float"
        },
        {
         "name": "lag_4",
         "rawType": "float64",
         "type": "float"
        },
        {
         "name": "lag_5",
         "rawType": "float64",
         "type": "float"
        },
        {
         "name": "lag_6",
         "rawType": "float64",
         "type": "float"
        },
        {
         "name": "lag_7",
         "rawType": "float64",
         "type": "float"
        },
        {
         "name": "lag_8",
         "rawType": "float64",
         "type": "float"
        },
        {
         "name": "lag_9",
         "rawType": "float64",
         "type": "float"
        },
        {
         "name": "lag_10",
         "rawType": "float64",
         "type": "float"
        }
       ],
       "ref": "a78a46d3-51ef-44bc-9a1a-affa35a77a84",
       "rows": [
        [
         "2025-07-25 00:00:00",
         "133524.0",
         "133820.0",
         "134204.0",
         "133285.0",
         "0",
         "-0.0021224440990075255",
         "-0.013622126351870434",
         "-0.0038198692888478103",
         "-0.004792534676932525",
         "0.0010646114168328946",
         "-0.015055508427691544",
         "-0.014663016286500685",
         "-0.012761552680221833",
         "-0.013119091789296267",
         "-0.019553995608978858"
        ],
        [
         "2025-07-28 00:00:00",
         "132129.0",
         "133538.0",
         "133902.0",
         "131550.0",
         "1",
         "-0.010447559989215427",
         "-0.012547829726174853",
         "-0.023927368358844014",
         "-0.01422752096451696",
         "-0.0151900243726103",
         "-0.00939407116402513",
         "-0.02534577508944047",
         "-0.024957383533440125",
         "-0.023075785582255093",
         "-0.02342958928003902"
        ],
        [
         "2025-07-29 00:00:00",
         "132726.0",
         "132130.0",
         "133346.0",
         "132130.0",
         "1",
         "0.0045183116499785125",
         "-0.005976453671250104",
         "-0.008086213081430094",
         "-0.019517168016074726",
         "-0.009773493688262858",
         "-0.010740345986718025",
         "-0.00491820485522787",
         "-0.020941983550326393",
         "-0.020551837120233785",
         "-0.018661737523105404"
        ],
        [
         "2025-07-30 00:00:00",
         "133990.0",
         "132702.0",
         "134368.0",
         "131883.0",
         "0",
         "0.009523378991305398",
         "0.014084720235527426",
         "0.0034900092867200527",
         "0.0013601578380963986",
         "-0.01017965841262336",
         "-0.0003431913814199161",
         "-0.0013192513807419592",
         "0.004558336207284297",
         "-0.011618043005200418",
         "-0.011224181062791994"
        ],
        [
         "2025-07-31 00:00:00",
         "133071.046875",
         "0.0",
         "0.0",
         "0.0",
         "0",
         "-0.006858370960519444",
         "0.0025996931648659682",
         "0.00712975103875757",
         "-0.0033922974521434224",
         "-0.005507541589441556",
         "-0.01696821349949762",
         "-0.007199208608135166",
         "-0.00816857442590202",
         "-0.002331297513907371",
         "-0.018396733116955"
        ]
       ],
       "shape": {
        "columns": 15,
        "rows": 5
       }
      },
      "text/html": [
       "<div>\n",
       "<style scoped>\n",
       "    .dataframe tbody tr th:only-of-type {\n",
       "        vertical-align: middle;\n",
       "    }\n",
       "\n",
       "    .dataframe tbody tr th {\n",
       "        vertical-align: top;\n",
       "    }\n",
       "\n",
       "    .dataframe thead th {\n",
       "        text-align: right;\n",
       "    }\n",
       "</style>\n",
       "<table border=\"1\" class=\"dataframe\">\n",
       "  <thead>\n",
       "    <tr style=\"text-align: right;\">\n",
       "      <th></th>\n",
       "      <th>ultimo</th>\n",
       "      <th>abertura</th>\n",
       "      <th>maxima</th>\n",
       "      <th>minima</th>\n",
       "      <th>target</th>\n",
       "      <th>lag_1</th>\n",
       "      <th>lag_2</th>\n",
       "      <th>lag_3</th>\n",
       "      <th>lag_4</th>\n",
       "      <th>lag_5</th>\n",
       "      <th>lag_6</th>\n",
       "      <th>lag_7</th>\n",
       "      <th>lag_8</th>\n",
       "      <th>lag_9</th>\n",
       "      <th>lag_10</th>\n",
       "    </tr>\n",
       "    <tr>\n",
       "      <th>data</th>\n",
       "      <th></th>\n",
       "      <th></th>\n",
       "      <th></th>\n",
       "      <th></th>\n",
       "      <th></th>\n",
       "      <th></th>\n",
       "      <th></th>\n",
       "      <th></th>\n",
       "      <th></th>\n",
       "      <th></th>\n",
       "      <th></th>\n",
       "      <th></th>\n",
       "      <th></th>\n",
       "      <th></th>\n",
       "      <th></th>\n",
       "    </tr>\n",
       "  </thead>\n",
       "  <tbody>\n",
       "    <tr>\n",
       "      <th>2025-07-25</th>\n",
       "      <td>133524.000000</td>\n",
       "      <td>133820.0</td>\n",
       "      <td>134204.0</td>\n",
       "      <td>133285.0</td>\n",
       "      <td>0</td>\n",
       "      <td>-0.002122</td>\n",
       "      <td>-0.013622</td>\n",
       "      <td>-0.003820</td>\n",
       "      <td>-0.004793</td>\n",
       "      <td>0.001065</td>\n",
       "      <td>-0.015056</td>\n",
       "      <td>-0.014663</td>\n",
       "      <td>-0.012762</td>\n",
       "      <td>-0.013119</td>\n",
       "      <td>-0.019554</td>\n",
       "    </tr>\n",
       "    <tr>\n",
       "      <th>2025-07-28</th>\n",
       "      <td>132129.000000</td>\n",
       "      <td>133538.0</td>\n",
       "      <td>133902.0</td>\n",
       "      <td>131550.0</td>\n",
       "      <td>1</td>\n",
       "      <td>-0.010448</td>\n",
       "      <td>-0.012548</td>\n",
       "      <td>-0.023927</td>\n",
       "      <td>-0.014228</td>\n",
       "      <td>-0.015190</td>\n",
       "      <td>-0.009394</td>\n",
       "      <td>-0.025346</td>\n",
       "      <td>-0.024957</td>\n",
       "      <td>-0.023076</td>\n",
       "      <td>-0.023430</td>\n",
       "    </tr>\n",
       "    <tr>\n",
       "      <th>2025-07-29</th>\n",
       "      <td>132726.000000</td>\n",
       "      <td>132130.0</td>\n",
       "      <td>133346.0</td>\n",
       "      <td>132130.0</td>\n",
       "      <td>1</td>\n",
       "      <td>0.004518</td>\n",
       "      <td>-0.005976</td>\n",
       "      <td>-0.008086</td>\n",
       "      <td>-0.019517</td>\n",
       "      <td>-0.009773</td>\n",
       "      <td>-0.010740</td>\n",
       "      <td>-0.004918</td>\n",
       "      <td>-0.020942</td>\n",
       "      <td>-0.020552</td>\n",
       "      <td>-0.018662</td>\n",
       "    </tr>\n",
       "    <tr>\n",
       "      <th>2025-07-30</th>\n",
       "      <td>133990.000000</td>\n",
       "      <td>132702.0</td>\n",
       "      <td>134368.0</td>\n",
       "      <td>131883.0</td>\n",
       "      <td>0</td>\n",
       "      <td>0.009523</td>\n",
       "      <td>0.014085</td>\n",
       "      <td>0.003490</td>\n",
       "      <td>0.001360</td>\n",
       "      <td>-0.010180</td>\n",
       "      <td>-0.000343</td>\n",
       "      <td>-0.001319</td>\n",
       "      <td>0.004558</td>\n",
       "      <td>-0.011618</td>\n",
       "      <td>-0.011224</td>\n",
       "    </tr>\n",
       "    <tr>\n",
       "      <th>2025-07-31</th>\n",
       "      <td>133071.046875</td>\n",
       "      <td>0.0</td>\n",
       "      <td>0.0</td>\n",
       "      <td>0.0</td>\n",
       "      <td>0</td>\n",
       "      <td>-0.006858</td>\n",
       "      <td>0.002600</td>\n",
       "      <td>0.007130</td>\n",
       "      <td>-0.003392</td>\n",
       "      <td>-0.005508</td>\n",
       "      <td>-0.016968</td>\n",
       "      <td>-0.007199</td>\n",
       "      <td>-0.008169</td>\n",
       "      <td>-0.002331</td>\n",
       "      <td>-0.018397</td>\n",
       "    </tr>\n",
       "  </tbody>\n",
       "</table>\n",
       "</div>"
      ],
      "text/plain": [
       "                   ultimo  abertura    maxima    minima  target     lag_1  \\\n",
       "data                                                                        \n",
       "2025-07-25  133524.000000  133820.0  134204.0  133285.0       0 -0.002122   \n",
       "2025-07-28  132129.000000  133538.0  133902.0  131550.0       1 -0.010448   \n",
       "2025-07-29  132726.000000  132130.0  133346.0  132130.0       1  0.004518   \n",
       "2025-07-30  133990.000000  132702.0  134368.0  131883.0       0  0.009523   \n",
       "2025-07-31  133071.046875       0.0       0.0       0.0       0 -0.006858   \n",
       "\n",
       "               lag_2     lag_3     lag_4     lag_5     lag_6     lag_7  \\\n",
       "data                                                                     \n",
       "2025-07-25 -0.013622 -0.003820 -0.004793  0.001065 -0.015056 -0.014663   \n",
       "2025-07-28 -0.012548 -0.023927 -0.014228 -0.015190 -0.009394 -0.025346   \n",
       "2025-07-29 -0.005976 -0.008086 -0.019517 -0.009773 -0.010740 -0.004918   \n",
       "2025-07-30  0.014085  0.003490  0.001360 -0.010180 -0.000343 -0.001319   \n",
       "2025-07-31  0.002600  0.007130 -0.003392 -0.005508 -0.016968 -0.007199   \n",
       "\n",
       "               lag_8     lag_9    lag_10  \n",
       "data                                      \n",
       "2025-07-25 -0.012762 -0.013119 -0.019554  \n",
       "2025-07-28 -0.024957 -0.023076 -0.023430  \n",
       "2025-07-29 -0.020942 -0.020552 -0.018662  \n",
       "2025-07-30  0.004558 -0.011618 -0.011224  \n",
       "2025-07-31 -0.008169 -0.002331 -0.018397  "
      ]
     },
     "execution_count": 841,
     "metadata": {},
     "output_type": "execute_result"
    }
   ],
   "source": [
    "# Criar as variações percentuais (lags) --> Comparar percentualmente o dia de hoje com n dias anteriores\n",
    "# Features Defasadas (Lagged Features) --> Os preços e volumes dos dias anteriores são informações muito importantes\n",
    "\n",
    "qtd_lags = 10\n",
    "\n",
    "for i in range (1, qtd_lags+1):\n",
    "    dados[f\"lag_{i}\"] = dados[\"ultimo\"].pct_change(i)\n",
    "\n",
    "dados.tail()"
   ]
  },
  {
   "cell_type": "code",
   "execution_count": 842,
   "id": "b12c97f8",
   "metadata": {},
   "outputs": [],
   "source": [
    "# Criar médias moveis\n",
    "\n",
    "dias_medias = [5, 22, 66, 132, 252] \n",
    "criar_media = \"Não\"\n",
    "\n",
    "if criar_media == \"Sim\":\n",
    "    \n",
    "    for dias in dias_medias:\n",
    "        dados[f\"MA_{dias}\"] = dados[\"ultimo\"].rolling(window=dias).mean().shift(1)\n",
    "\n",
    "    dados.tail()"
   ]
  },
  {
   "cell_type": "code",
   "execution_count": 843,
   "id": "764384de",
   "metadata": {},
   "outputs": [],
   "source": [
    "# Criar Volatilidade\n",
    "\n",
    "criar_volatilidade = \"Sim\"\n",
    "\n",
    "if criar_volatilidade == \"Sim\":\n",
    "    dados[\"Volatilidade\"] = dados[\"maxima\"] - dados[\"minima\"]\n",
    "    dados[\"Volatilidade_relativa\"] = dados[\"Volatilidade\"] / dados[\"minima\"]\n",
    "\n",
    "    dados.tail()"
   ]
  },
  {
   "cell_type": "code",
   "execution_count": 844,
   "id": "f653012c",
   "metadata": {},
   "outputs": [],
   "source": [
    "# Criar restante dos indicadores tecnicos\n",
    "# mme --> Média Móvel Exponencial (EMA - Exponential Moving Average): Semelhante à SMA, mas dá mais peso aos preços mais recentes, reagindo mais rápido a mudanças\n",
    "# rsi --> Índice de Força Relativa (RSI - Relative Strength Index): Mede a velocidade e a mudança dos movimentos de preços, indicando se um ativo está sobrecomprado ou sobrevendido.\n",
    "# macd --> Convergência e Divergência de Médias Móveis (MACD - Moving Average Convergence Divergence): Usa duas médias móveis exponenciais para gerar sinais de compra e venda\n",
    "# bbands --> Bandas de Bollinger (Bollinger Bands): Medem a volatilidade do mercado, consistindo em uma média móvel (banda do meio) e duas bandas de desvio padrão (superior e inferior)\n",
    "# stoch --> Oscilador Estocástico (%K e %D): Compara o preço de fechamento de um ativo com sua faixa de preço durante um determinado período\n",
    "\n",
    "custom_strategy = ta.Strategy(\n",
    "    name=\"Estrategia Mista\",\n",
    "    description=\"SMA, EMA, RSI, MACD, BBands, e Stochastic\",\n",
    "    ta=[\n",
    "        {\"kind\": \"ema\", \"length\": 20},\n",
    "        {\"kind\": \"rsi\", \"length\": 14},\n",
    "        {\"kind\": \"macd\", \"fast\": 12, \"slow\": 26, \"signal\": 9},\n",
    "        {\"kind\": \"bbands\", \"length\": 20, \"std\": 2},\n",
    "        {\"kind\": \"stoch\", \"k\": 14, \"d\": 3}\n",
    "    ]\n",
    ")\n",
    "\n",
    "incluir_dados = \"Não\"\n",
    "\n",
    "if incluir_dados == \"Sim\":\n",
    "    dados = dados.rename(columns={\"ultimo\":\"close\", \"abertura\":\"open\", \"maxima\":\"high\", \"minima\":\"low\"})\n",
    "    dados.ta.strategy(custom_strategy)\n",
    "    dados = dados.rename(columns={\"close\":\"ultimo\", \"open\":\"abertura\", \"high\":\"maxima\", \"low\":\"minima\"})\n",
    "    dados.tail()\n"
   ]
  },
  {
   "cell_type": "code",
   "execution_count": 845,
   "id": "9ee2d1c7",
   "metadata": {},
   "outputs": [
    {
     "data": {
      "application/vnd.microsoft.datawrangler.viewer.v0+json": {
       "columns": [
        {
         "name": "data",
         "rawType": "datetime64[ns]",
         "type": "datetime"
        },
        {
         "name": "ultimo",
         "rawType": "float64",
         "type": "float"
        },
        {
         "name": "abertura",
         "rawType": "float64",
         "type": "float"
        },
        {
         "name": "maxima",
         "rawType": "float64",
         "type": "float"
        },
        {
         "name": "minima",
         "rawType": "float64",
         "type": "float"
        },
        {
         "name": "target",
         "rawType": "int32",
         "type": "integer"
        },
        {
         "name": "lag_1",
         "rawType": "float64",
         "type": "float"
        },
        {
         "name": "lag_2",
         "rawType": "float64",
         "type": "float"
        },
        {
         "name": "lag_3",
         "rawType": "float64",
         "type": "float"
        },
        {
         "name": "lag_4",
         "rawType": "float64",
         "type": "float"
        },
        {
         "name": "lag_5",
         "rawType": "float64",
         "type": "float"
        },
        {
         "name": "lag_6",
         "rawType": "float64",
         "type": "float"
        },
        {
         "name": "lag_7",
         "rawType": "float64",
         "type": "float"
        },
        {
         "name": "lag_8",
         "rawType": "float64",
         "type": "float"
        },
        {
         "name": "lag_9",
         "rawType": "float64",
         "type": "float"
        },
        {
         "name": "lag_10",
         "rawType": "float64",
         "type": "float"
        },
        {
         "name": "Volatilidade",
         "rawType": "float64",
         "type": "float"
        },
        {
         "name": "Volatilidade_relativa",
         "rawType": "float64",
         "type": "float"
        }
       ],
       "ref": "060c2031-39c3-47a3-a250-92888e1f9909",
       "rows": [
        [
         "2025-07-25 00:00:00",
         "133808.0",
         "135357.0",
         "135363.0",
         "133648.0",
         "0",
         "-0.011524141599196236",
         "-0.001701035542690077",
         "-0.0026757697496403443",
         "0.003193834250498462",
         "-0.01296057241913473",
         "-0.01256724546346788",
         "-0.010661737523105397",
         "-0.011020037103008917",
         "-0.017468627695741867",
         "-0.021463621538214017",
         "1715.0",
         "0.012832215970310068"
        ],
        [
         "2025-07-28 00:00:00",
         "133524.0",
         "133820.0",
         "134204.0",
         "133285.0",
         "1",
         "-0.0021224440990075255",
         "-0.013622126351870434",
         "-0.0038198692888478103",
         "-0.004792534676932525",
         "0.0010646114168328946",
         "-0.015055508427691544",
         "-0.014663016286500685",
         "-0.012761552680221833",
         "-0.013119091789296267",
         "-0.019553995608978858",
         "919.0",
         "0.0068949994372960195"
        ],
        [
         "2025-07-29 00:00:00",
         "132129.0",
         "133538.0",
         "133902.0",
         "131550.0",
         "1",
         "-0.010447559989215427",
         "-0.012547829726174853",
         "-0.023927368358844014",
         "-0.01422752096451696",
         "-0.0151900243726103",
         "-0.00939407116402513",
         "-0.02534577508944047",
         "-0.024957383533440125",
         "-0.023075785582255093",
         "-0.02342958928003902",
         "2352.0",
         "0.017879133409350056"
        ],
        [
         "2025-07-30 00:00:00",
         "132726.0",
         "132130.0",
         "133346.0",
         "132130.0",
         "0",
         "0.0045183116499785125",
         "-0.005976453671250104",
         "-0.008086213081430094",
         "-0.019517168016074726",
         "-0.009773493688262858",
         "-0.010740345986718025",
         "-0.00491820485522787",
         "-0.020941983550326393",
         "-0.020551837120233785",
         "-0.018661737523105404",
         "1216.0",
         "0.009203057594793007"
        ],
        [
         "2025-07-31 00:00:00",
         "133990.0",
         "132702.0",
         "134368.0",
         "131883.0",
         "0",
         "0.009523378991305398",
         "0.014084720235527426",
         "0.0034900092867200527",
         "0.0013601578380963986",
         "-0.01017965841262336",
         "-0.0003431913814199161",
         "-0.0013192513807419592",
         "0.004558336207284297",
         "-0.011618043005200418",
         "-0.011224181062791994",
         "2485.0",
         "0.018842458846098437"
        ]
       ],
       "shape": {
        "columns": 17,
        "rows": 5
       }
      },
      "text/html": [
       "<div>\n",
       "<style scoped>\n",
       "    .dataframe tbody tr th:only-of-type {\n",
       "        vertical-align: middle;\n",
       "    }\n",
       "\n",
       "    .dataframe tbody tr th {\n",
       "        vertical-align: top;\n",
       "    }\n",
       "\n",
       "    .dataframe thead th {\n",
       "        text-align: right;\n",
       "    }\n",
       "</style>\n",
       "<table border=\"1\" class=\"dataframe\">\n",
       "  <thead>\n",
       "    <tr style=\"text-align: right;\">\n",
       "      <th></th>\n",
       "      <th>ultimo</th>\n",
       "      <th>abertura</th>\n",
       "      <th>maxima</th>\n",
       "      <th>minima</th>\n",
       "      <th>target</th>\n",
       "      <th>lag_1</th>\n",
       "      <th>lag_2</th>\n",
       "      <th>lag_3</th>\n",
       "      <th>lag_4</th>\n",
       "      <th>lag_5</th>\n",
       "      <th>lag_6</th>\n",
       "      <th>lag_7</th>\n",
       "      <th>lag_8</th>\n",
       "      <th>lag_9</th>\n",
       "      <th>lag_10</th>\n",
       "      <th>Volatilidade</th>\n",
       "      <th>Volatilidade_relativa</th>\n",
       "    </tr>\n",
       "    <tr>\n",
       "      <th>data</th>\n",
       "      <th></th>\n",
       "      <th></th>\n",
       "      <th></th>\n",
       "      <th></th>\n",
       "      <th></th>\n",
       "      <th></th>\n",
       "      <th></th>\n",
       "      <th></th>\n",
       "      <th></th>\n",
       "      <th></th>\n",
       "      <th></th>\n",
       "      <th></th>\n",
       "      <th></th>\n",
       "      <th></th>\n",
       "      <th></th>\n",
       "      <th></th>\n",
       "      <th></th>\n",
       "    </tr>\n",
       "  </thead>\n",
       "  <tbody>\n",
       "    <tr>\n",
       "      <th>2025-07-25</th>\n",
       "      <td>133808.0</td>\n",
       "      <td>135357.0</td>\n",
       "      <td>135363.0</td>\n",
       "      <td>133648.0</td>\n",
       "      <td>0</td>\n",
       "      <td>-0.011524</td>\n",
       "      <td>-0.001701</td>\n",
       "      <td>-0.002676</td>\n",
       "      <td>0.003194</td>\n",
       "      <td>-0.012961</td>\n",
       "      <td>-0.012567</td>\n",
       "      <td>-0.010662</td>\n",
       "      <td>-0.011020</td>\n",
       "      <td>-0.017469</td>\n",
       "      <td>-0.021464</td>\n",
       "      <td>1715.0</td>\n",
       "      <td>0.012832</td>\n",
       "    </tr>\n",
       "    <tr>\n",
       "      <th>2025-07-28</th>\n",
       "      <td>133524.0</td>\n",
       "      <td>133820.0</td>\n",
       "      <td>134204.0</td>\n",
       "      <td>133285.0</td>\n",
       "      <td>1</td>\n",
       "      <td>-0.002122</td>\n",
       "      <td>-0.013622</td>\n",
       "      <td>-0.003820</td>\n",
       "      <td>-0.004793</td>\n",
       "      <td>0.001065</td>\n",
       "      <td>-0.015056</td>\n",
       "      <td>-0.014663</td>\n",
       "      <td>-0.012762</td>\n",
       "      <td>-0.013119</td>\n",
       "      <td>-0.019554</td>\n",
       "      <td>919.0</td>\n",
       "      <td>0.006895</td>\n",
       "    </tr>\n",
       "    <tr>\n",
       "      <th>2025-07-29</th>\n",
       "      <td>132129.0</td>\n",
       "      <td>133538.0</td>\n",
       "      <td>133902.0</td>\n",
       "      <td>131550.0</td>\n",
       "      <td>1</td>\n",
       "      <td>-0.010448</td>\n",
       "      <td>-0.012548</td>\n",
       "      <td>-0.023927</td>\n",
       "      <td>-0.014228</td>\n",
       "      <td>-0.015190</td>\n",
       "      <td>-0.009394</td>\n",
       "      <td>-0.025346</td>\n",
       "      <td>-0.024957</td>\n",
       "      <td>-0.023076</td>\n",
       "      <td>-0.023430</td>\n",
       "      <td>2352.0</td>\n",
       "      <td>0.017879</td>\n",
       "    </tr>\n",
       "    <tr>\n",
       "      <th>2025-07-30</th>\n",
       "      <td>132726.0</td>\n",
       "      <td>132130.0</td>\n",
       "      <td>133346.0</td>\n",
       "      <td>132130.0</td>\n",
       "      <td>0</td>\n",
       "      <td>0.004518</td>\n",
       "      <td>-0.005976</td>\n",
       "      <td>-0.008086</td>\n",
       "      <td>-0.019517</td>\n",
       "      <td>-0.009773</td>\n",
       "      <td>-0.010740</td>\n",
       "      <td>-0.004918</td>\n",
       "      <td>-0.020942</td>\n",
       "      <td>-0.020552</td>\n",
       "      <td>-0.018662</td>\n",
       "      <td>1216.0</td>\n",
       "      <td>0.009203</td>\n",
       "    </tr>\n",
       "    <tr>\n",
       "      <th>2025-07-31</th>\n",
       "      <td>133990.0</td>\n",
       "      <td>132702.0</td>\n",
       "      <td>134368.0</td>\n",
       "      <td>131883.0</td>\n",
       "      <td>0</td>\n",
       "      <td>0.009523</td>\n",
       "      <td>0.014085</td>\n",
       "      <td>0.003490</td>\n",
       "      <td>0.001360</td>\n",
       "      <td>-0.010180</td>\n",
       "      <td>-0.000343</td>\n",
       "      <td>-0.001319</td>\n",
       "      <td>0.004558</td>\n",
       "      <td>-0.011618</td>\n",
       "      <td>-0.011224</td>\n",
       "      <td>2485.0</td>\n",
       "      <td>0.018842</td>\n",
       "    </tr>\n",
       "  </tbody>\n",
       "</table>\n",
       "</div>"
      ],
      "text/plain": [
       "              ultimo  abertura    maxima    minima  target     lag_1  \\\n",
       "data                                                                   \n",
       "2025-07-25  133808.0  135357.0  135363.0  133648.0       0 -0.011524   \n",
       "2025-07-28  133524.0  133820.0  134204.0  133285.0       1 -0.002122   \n",
       "2025-07-29  132129.0  133538.0  133902.0  131550.0       1 -0.010448   \n",
       "2025-07-30  132726.0  132130.0  133346.0  132130.0       0  0.004518   \n",
       "2025-07-31  133990.0  132702.0  134368.0  131883.0       0  0.009523   \n",
       "\n",
       "               lag_2     lag_3     lag_4     lag_5     lag_6     lag_7  \\\n",
       "data                                                                     \n",
       "2025-07-25 -0.001701 -0.002676  0.003194 -0.012961 -0.012567 -0.010662   \n",
       "2025-07-28 -0.013622 -0.003820 -0.004793  0.001065 -0.015056 -0.014663   \n",
       "2025-07-29 -0.012548 -0.023927 -0.014228 -0.015190 -0.009394 -0.025346   \n",
       "2025-07-30 -0.005976 -0.008086 -0.019517 -0.009773 -0.010740 -0.004918   \n",
       "2025-07-31  0.014085  0.003490  0.001360 -0.010180 -0.000343 -0.001319   \n",
       "\n",
       "               lag_8     lag_9    lag_10  Volatilidade  Volatilidade_relativa  \n",
       "data                                                                           \n",
       "2025-07-25 -0.011020 -0.017469 -0.021464        1715.0               0.012832  \n",
       "2025-07-28 -0.012762 -0.013119 -0.019554         919.0               0.006895  \n",
       "2025-07-29 -0.024957 -0.023076 -0.023430        2352.0               0.017879  \n",
       "2025-07-30 -0.020942 -0.020552 -0.018662        1216.0               0.009203  \n",
       "2025-07-31  0.004558 -0.011618 -0.011224        2485.0               0.018842  "
      ]
     },
     "execution_count": 845,
     "metadata": {},
     "output_type": "execute_result"
    }
   ],
   "source": [
    "# Tratar o data frame para evitar o data leakage --> empurrar os dados para a linha de baixo\n",
    "\n",
    "colunas_excluir = [\"target\"]\n",
    "features_a_deslocar = [col for col in dados.columns if col not in colunas_excluir]\n",
    "\n",
    "dados[features_a_deslocar] = dados[features_a_deslocar].shift(1)\n",
    "\n",
    "dados.tail()"
   ]
  },
  {
   "cell_type": "code",
   "execution_count": 846,
   "id": "7744068e",
   "metadata": {},
   "outputs": [
    {
     "data": {
      "application/vnd.microsoft.datawrangler.viewer.v0+json": {
       "columns": [
        {
         "name": "data",
         "rawType": "datetime64[ns]",
         "type": "datetime"
        },
        {
         "name": "ultimo",
         "rawType": "float64",
         "type": "float"
        },
        {
         "name": "abertura",
         "rawType": "float64",
         "type": "float"
        },
        {
         "name": "maxima",
         "rawType": "float64",
         "type": "float"
        },
        {
         "name": "minima",
         "rawType": "float64",
         "type": "float"
        },
        {
         "name": "target",
         "rawType": "int32",
         "type": "integer"
        },
        {
         "name": "lag_1",
         "rawType": "float64",
         "type": "float"
        },
        {
         "name": "lag_2",
         "rawType": "float64",
         "type": "float"
        },
        {
         "name": "lag_3",
         "rawType": "float64",
         "type": "float"
        },
        {
         "name": "lag_4",
         "rawType": "float64",
         "type": "float"
        },
        {
         "name": "lag_5",
         "rawType": "float64",
         "type": "float"
        },
        {
         "name": "lag_6",
         "rawType": "float64",
         "type": "float"
        },
        {
         "name": "lag_7",
         "rawType": "float64",
         "type": "float"
        },
        {
         "name": "lag_8",
         "rawType": "float64",
         "type": "float"
        },
        {
         "name": "lag_9",
         "rawType": "float64",
         "type": "float"
        },
        {
         "name": "lag_10",
         "rawType": "float64",
         "type": "float"
        },
        {
         "name": "Volatilidade",
         "rawType": "float64",
         "type": "float"
        },
        {
         "name": "Volatilidade_relativa",
         "rawType": "float64",
         "type": "float"
        }
       ],
       "ref": "93ecac4c-a441-4395-8ba0-3bde0fcf7f21",
       "rows": [
        [
         "1993-05-12 00:00:00",
         "26.299999237060547",
         "25.200000762939453",
         "26.299999237060547",
         "25.100000381469727",
         "1",
         "0.043650731778501095",
         "0.019379845534327478",
         "0.027343704889063458",
         "0.06910564346459802",
         "0.05622488513969337",
         "0.09128625812314839",
         "0.09128625812314839",
         "0.10970457343557571",
         "0.08230452933306065",
         "0.07346935661471621",
         "1.1999988555908203",
         "0.04780871861965105"
        ],
        [
         "1993-05-13 00:00:00",
         "26.700000762939453",
         "26.299999237060547",
         "27.100000381469727",
         "26.200000762939453",
         "1",
         "0.015209183934699277",
         "0.05952380772170396",
         "0.034883781104384504",
         "0.0429687642608767",
         "0.08536586784167621",
         "0.07228920369418956",
         "0.10788383154835324",
         "0.10788383154835324",
         "0.12658227440613445",
         "0.09876549799304524",
         "0.8999996185302734",
         "0.03435112947795578"
        ],
        [
         "1993-05-14 00:00:00",
         "27.399999618530273",
         "26.700000762939453",
         "27.600000381469727",
         "26.700000762939453",
         "1",
         "0.0262171848535091",
         "0.04182511077489548",
         "0.08730153924543771",
         "0.062015520495496634",
         "0.07031246914994016",
         "0.11382110543257085",
         "0.10040160796386233",
         "0.1369294267562704",
         "0.1369294267562704",
         "0.156118090146927",
         "0.8999996185302734",
         "0.03370784991809831"
        ],
        [
         "1993-05-17 00:00:00",
         "27.799999237060547",
         "27.399999618530273",
         "27.899999618530273",
         "27.399999618530273",
         "1",
         "0.01459852642697701",
         "0.041198443546411",
         "0.057034222186831185",
         "0.10317453950020505",
         "0.07751938213730991",
         "0.08593745401594854",
         "0.13008125227515288",
         "0.1164658499180109",
         "0.15352692103837962",
         "0.15352692103837962",
         "0.5",
         "0.018248175436537464"
        ],
        [
         "1993-05-18 00:00:00",
         "29.299999237060547",
         "27.799999237060547",
         "29.299999237060547",
         "27.700000762939453",
         "1",
         "0.05395683601315815",
         "0.06934305273658947",
         "0.09737821722200035",
         "0.11406844437366215",
         "0.162698347221909",
         "0.13565891874029234",
         "0.14453120314283363",
         "0.19105686108570774",
         "0.1767068146963282",
         "0.21576758395361084",
         "1.5999984741210938",
         "0.05776167617517806"
        ]
       ],
       "shape": {
        "columns": 17,
        "rows": 5
       }
      },
      "text/html": [
       "<div>\n",
       "<style scoped>\n",
       "    .dataframe tbody tr th:only-of-type {\n",
       "        vertical-align: middle;\n",
       "    }\n",
       "\n",
       "    .dataframe tbody tr th {\n",
       "        vertical-align: top;\n",
       "    }\n",
       "\n",
       "    .dataframe thead th {\n",
       "        text-align: right;\n",
       "    }\n",
       "</style>\n",
       "<table border=\"1\" class=\"dataframe\">\n",
       "  <thead>\n",
       "    <tr style=\"text-align: right;\">\n",
       "      <th></th>\n",
       "      <th>ultimo</th>\n",
       "      <th>abertura</th>\n",
       "      <th>maxima</th>\n",
       "      <th>minima</th>\n",
       "      <th>target</th>\n",
       "      <th>lag_1</th>\n",
       "      <th>lag_2</th>\n",
       "      <th>lag_3</th>\n",
       "      <th>lag_4</th>\n",
       "      <th>lag_5</th>\n",
       "      <th>lag_6</th>\n",
       "      <th>lag_7</th>\n",
       "      <th>lag_8</th>\n",
       "      <th>lag_9</th>\n",
       "      <th>lag_10</th>\n",
       "      <th>Volatilidade</th>\n",
       "      <th>Volatilidade_relativa</th>\n",
       "    </tr>\n",
       "    <tr>\n",
       "      <th>data</th>\n",
       "      <th></th>\n",
       "      <th></th>\n",
       "      <th></th>\n",
       "      <th></th>\n",
       "      <th></th>\n",
       "      <th></th>\n",
       "      <th></th>\n",
       "      <th></th>\n",
       "      <th></th>\n",
       "      <th></th>\n",
       "      <th></th>\n",
       "      <th></th>\n",
       "      <th></th>\n",
       "      <th></th>\n",
       "      <th></th>\n",
       "      <th></th>\n",
       "      <th></th>\n",
       "    </tr>\n",
       "  </thead>\n",
       "  <tbody>\n",
       "    <tr>\n",
       "      <th>1993-05-12</th>\n",
       "      <td>26.299999</td>\n",
       "      <td>25.200001</td>\n",
       "      <td>26.299999</td>\n",
       "      <td>25.100000</td>\n",
       "      <td>1</td>\n",
       "      <td>0.043651</td>\n",
       "      <td>0.019380</td>\n",
       "      <td>0.027344</td>\n",
       "      <td>0.069106</td>\n",
       "      <td>0.056225</td>\n",
       "      <td>0.091286</td>\n",
       "      <td>0.091286</td>\n",
       "      <td>0.109705</td>\n",
       "      <td>0.082305</td>\n",
       "      <td>0.073469</td>\n",
       "      <td>1.199999</td>\n",
       "      <td>0.047809</td>\n",
       "    </tr>\n",
       "    <tr>\n",
       "      <th>1993-05-13</th>\n",
       "      <td>26.700001</td>\n",
       "      <td>26.299999</td>\n",
       "      <td>27.100000</td>\n",
       "      <td>26.200001</td>\n",
       "      <td>1</td>\n",
       "      <td>0.015209</td>\n",
       "      <td>0.059524</td>\n",
       "      <td>0.034884</td>\n",
       "      <td>0.042969</td>\n",
       "      <td>0.085366</td>\n",
       "      <td>0.072289</td>\n",
       "      <td>0.107884</td>\n",
       "      <td>0.107884</td>\n",
       "      <td>0.126582</td>\n",
       "      <td>0.098765</td>\n",
       "      <td>0.900000</td>\n",
       "      <td>0.034351</td>\n",
       "    </tr>\n",
       "    <tr>\n",
       "      <th>1993-05-14</th>\n",
       "      <td>27.400000</td>\n",
       "      <td>26.700001</td>\n",
       "      <td>27.600000</td>\n",
       "      <td>26.700001</td>\n",
       "      <td>1</td>\n",
       "      <td>0.026217</td>\n",
       "      <td>0.041825</td>\n",
       "      <td>0.087302</td>\n",
       "      <td>0.062016</td>\n",
       "      <td>0.070312</td>\n",
       "      <td>0.113821</td>\n",
       "      <td>0.100402</td>\n",
       "      <td>0.136929</td>\n",
       "      <td>0.136929</td>\n",
       "      <td>0.156118</td>\n",
       "      <td>0.900000</td>\n",
       "      <td>0.033708</td>\n",
       "    </tr>\n",
       "    <tr>\n",
       "      <th>1993-05-17</th>\n",
       "      <td>27.799999</td>\n",
       "      <td>27.400000</td>\n",
       "      <td>27.900000</td>\n",
       "      <td>27.400000</td>\n",
       "      <td>1</td>\n",
       "      <td>0.014599</td>\n",
       "      <td>0.041198</td>\n",
       "      <td>0.057034</td>\n",
       "      <td>0.103175</td>\n",
       "      <td>0.077519</td>\n",
       "      <td>0.085937</td>\n",
       "      <td>0.130081</td>\n",
       "      <td>0.116466</td>\n",
       "      <td>0.153527</td>\n",
       "      <td>0.153527</td>\n",
       "      <td>0.500000</td>\n",
       "      <td>0.018248</td>\n",
       "    </tr>\n",
       "    <tr>\n",
       "      <th>1993-05-18</th>\n",
       "      <td>29.299999</td>\n",
       "      <td>27.799999</td>\n",
       "      <td>29.299999</td>\n",
       "      <td>27.700001</td>\n",
       "      <td>1</td>\n",
       "      <td>0.053957</td>\n",
       "      <td>0.069343</td>\n",
       "      <td>0.097378</td>\n",
       "      <td>0.114068</td>\n",
       "      <td>0.162698</td>\n",
       "      <td>0.135659</td>\n",
       "      <td>0.144531</td>\n",
       "      <td>0.191057</td>\n",
       "      <td>0.176707</td>\n",
       "      <td>0.215768</td>\n",
       "      <td>1.599998</td>\n",
       "      <td>0.057762</td>\n",
       "    </tr>\n",
       "  </tbody>\n",
       "</table>\n",
       "</div>"
      ],
      "text/plain": [
       "               ultimo   abertura     maxima     minima  target     lag_1  \\\n",
       "data                                                                       \n",
       "1993-05-12  26.299999  25.200001  26.299999  25.100000       1  0.043651   \n",
       "1993-05-13  26.700001  26.299999  27.100000  26.200001       1  0.015209   \n",
       "1993-05-14  27.400000  26.700001  27.600000  26.700001       1  0.026217   \n",
       "1993-05-17  27.799999  27.400000  27.900000  27.400000       1  0.014599   \n",
       "1993-05-18  29.299999  27.799999  29.299999  27.700001       1  0.053957   \n",
       "\n",
       "               lag_2     lag_3     lag_4     lag_5     lag_6     lag_7  \\\n",
       "data                                                                     \n",
       "1993-05-12  0.019380  0.027344  0.069106  0.056225  0.091286  0.091286   \n",
       "1993-05-13  0.059524  0.034884  0.042969  0.085366  0.072289  0.107884   \n",
       "1993-05-14  0.041825  0.087302  0.062016  0.070312  0.113821  0.100402   \n",
       "1993-05-17  0.041198  0.057034  0.103175  0.077519  0.085937  0.130081   \n",
       "1993-05-18  0.069343  0.097378  0.114068  0.162698  0.135659  0.144531   \n",
       "\n",
       "               lag_8     lag_9    lag_10  Volatilidade  Volatilidade_relativa  \n",
       "data                                                                           \n",
       "1993-05-12  0.109705  0.082305  0.073469      1.199999               0.047809  \n",
       "1993-05-13  0.107884  0.126582  0.098765      0.900000               0.034351  \n",
       "1993-05-14  0.136929  0.136929  0.156118      0.900000               0.033708  \n",
       "1993-05-17  0.116466  0.153527  0.153527      0.500000               0.018248  \n",
       "1993-05-18  0.191057  0.176707  0.215768      1.599998               0.057762  "
      ]
     },
     "execution_count": 846,
     "metadata": {},
     "output_type": "execute_result"
    }
   ],
   "source": [
    "# Excluir do data frame os registros vazios\n",
    "\n",
    "dados = dados.dropna()\n",
    "dados.head()"
   ]
  },
  {
   "cell_type": "markdown",
   "id": "ef02875f",
   "metadata": {},
   "source": [
    "##### Separar a base entre treino e teste"
   ]
  },
  {
   "cell_type": "code",
   "execution_count": 847,
   "id": "647767f6",
   "metadata": {},
   "outputs": [
    {
     "name": "stdout",
     "output_type": "stream",
     "text": [
      "Data inicio treino: 2015-01-01 00:00:00\n",
      "Data inicio teste: 2025-06-01 00:00:00\n",
      "Data fim teste: 2025-06-30 00:00:00\n"
     ]
    }
   ],
   "source": [
    "# Gerar datas para filtrar treino e teste \n",
    "\n",
    "# Definir o ano e mês do intervalo + anos \n",
    "ano = 2025\n",
    "mes = 6\n",
    "anos = 10\n",
    "dias = 30\n",
    "\n",
    "data_fixa_teste = \"Sim\"\n",
    "\n",
    "if data_fixa_teste == \"Sim\":\n",
    "    data_inicio_teste = pd.to_datetime(date(ano, mes, 1))\n",
    "    ultimo_dia = calendar.monthrange(ano, mes)[1]\n",
    "    data_fim_teste = pd.to_datetime(date(ano, mes, ultimo_dia))\n",
    "\n",
    "    ano_atual = date.today().year\n",
    "    ano_inicio_treino = ano_atual - anos\n",
    "    data_inicio_treino = pd.to_datetime(date(ano_inicio_treino,1,1))\n",
    "\n",
    "else:\n",
    "    ano_atual = date.today().year\n",
    "    ano_inicio_treino = ano_atual - anos\n",
    "    data_inicio_treino = pd.to_datetime(date(ano_inicio_treino,1,1))\n",
    "\n",
    "    data_fim_teste = dados.index.max()\n",
    "    data_inicio_teste = data_fim_teste - pd.DateOffset(days=dias)\n",
    "\n",
    "print(f\"Data inicio treino: {data_inicio_treino}\")\n",
    "print(f\"Data inicio teste: {data_inicio_teste}\")\n",
    "print(f\"Data fim teste: {data_fim_teste}\")"
   ]
  },
  {
   "cell_type": "code",
   "execution_count": 848,
   "id": "d1247d41",
   "metadata": {},
   "outputs": [
    {
     "name": "stdout",
     "output_type": "stream",
     "text": [
      "Features (x):\n"
     ]
    },
    {
     "data": {
      "application/vnd.microsoft.datawrangler.viewer.v0+json": {
       "columns": [
        {
         "name": "data",
         "rawType": "datetime64[ns]",
         "type": "datetime"
        },
        {
         "name": "lag_1",
         "rawType": "float64",
         "type": "float"
        },
        {
         "name": "lag_2",
         "rawType": "float64",
         "type": "float"
        },
        {
         "name": "lag_3",
         "rawType": "float64",
         "type": "float"
        },
        {
         "name": "lag_4",
         "rawType": "float64",
         "type": "float"
        },
        {
         "name": "lag_5",
         "rawType": "float64",
         "type": "float"
        },
        {
         "name": "lag_6",
         "rawType": "float64",
         "type": "float"
        },
        {
         "name": "lag_7",
         "rawType": "float64",
         "type": "float"
        },
        {
         "name": "lag_8",
         "rawType": "float64",
         "type": "float"
        },
        {
         "name": "lag_9",
         "rawType": "float64",
         "type": "float"
        },
        {
         "name": "lag_10",
         "rawType": "float64",
         "type": "float"
        },
        {
         "name": "Volatilidade",
         "rawType": "float64",
         "type": "float"
        },
        {
         "name": "Volatilidade_relativa",
         "rawType": "float64",
         "type": "float"
        }
       ],
       "ref": "689c5842-d278-404e-bb5c-b9e34b493870",
       "rows": [
        [
         "2025-07-25 00:00:00",
         "-0.011524141599196236",
         "-0.001701035542690077",
         "-0.0026757697496403443",
         "0.003193834250498462",
         "-0.01296057241913473",
         "-0.01256724546346788",
         "-0.010661737523105397",
         "-0.011020037103008917",
         "-0.017468627695741867",
         "-0.021463621538214017",
         "1715.0",
         "0.012832215970310068"
        ],
        [
         "2025-07-28 00:00:00",
         "-0.0021224440990075255",
         "-0.013622126351870434",
         "-0.0038198692888478103",
         "-0.004792534676932525",
         "0.0010646114168328946",
         "-0.015055508427691544",
         "-0.014663016286500685",
         "-0.012761552680221833",
         "-0.013119091789296267",
         "-0.019553995608978858",
         "919.0",
         "0.0068949994372960195"
        ],
        [
         "2025-07-29 00:00:00",
         "-0.010447559989215427",
         "-0.012547829726174853",
         "-0.023927368358844014",
         "-0.01422752096451696",
         "-0.0151900243726103",
         "-0.00939407116402513",
         "-0.02534577508944047",
         "-0.024957383533440125",
         "-0.023075785582255093",
         "-0.02342958928003902",
         "2352.0",
         "0.017879133409350056"
        ],
        [
         "2025-07-30 00:00:00",
         "0.0045183116499785125",
         "-0.005976453671250104",
         "-0.008086213081430094",
         "-0.019517168016074726",
         "-0.009773493688262858",
         "-0.010740345986718025",
         "-0.00491820485522787",
         "-0.020941983550326393",
         "-0.020551837120233785",
         "-0.018661737523105404",
         "1216.0",
         "0.009203057594793007"
        ],
        [
         "2025-07-31 00:00:00",
         "0.009523378991305398",
         "0.014084720235527426",
         "0.0034900092867200527",
         "0.0013601578380963986",
         "-0.01017965841262336",
         "-0.0003431913814199161",
         "-0.0013192513807419592",
         "0.004558336207284297",
         "-0.011618043005200418",
         "-0.011224181062791994",
         "2485.0",
         "0.018842458846098437"
        ]
       ],
       "shape": {
        "columns": 12,
        "rows": 5
       }
      },
      "text/html": [
       "<div>\n",
       "<style scoped>\n",
       "    .dataframe tbody tr th:only-of-type {\n",
       "        vertical-align: middle;\n",
       "    }\n",
       "\n",
       "    .dataframe tbody tr th {\n",
       "        vertical-align: top;\n",
       "    }\n",
       "\n",
       "    .dataframe thead th {\n",
       "        text-align: right;\n",
       "    }\n",
       "</style>\n",
       "<table border=\"1\" class=\"dataframe\">\n",
       "  <thead>\n",
       "    <tr style=\"text-align: right;\">\n",
       "      <th></th>\n",
       "      <th>lag_1</th>\n",
       "      <th>lag_2</th>\n",
       "      <th>lag_3</th>\n",
       "      <th>lag_4</th>\n",
       "      <th>lag_5</th>\n",
       "      <th>lag_6</th>\n",
       "      <th>lag_7</th>\n",
       "      <th>lag_8</th>\n",
       "      <th>lag_9</th>\n",
       "      <th>lag_10</th>\n",
       "      <th>Volatilidade</th>\n",
       "      <th>Volatilidade_relativa</th>\n",
       "    </tr>\n",
       "    <tr>\n",
       "      <th>data</th>\n",
       "      <th></th>\n",
       "      <th></th>\n",
       "      <th></th>\n",
       "      <th></th>\n",
       "      <th></th>\n",
       "      <th></th>\n",
       "      <th></th>\n",
       "      <th></th>\n",
       "      <th></th>\n",
       "      <th></th>\n",
       "      <th></th>\n",
       "      <th></th>\n",
       "    </tr>\n",
       "  </thead>\n",
       "  <tbody>\n",
       "    <tr>\n",
       "      <th>2025-07-25</th>\n",
       "      <td>-0.011524</td>\n",
       "      <td>-0.001701</td>\n",
       "      <td>-0.002676</td>\n",
       "      <td>0.003194</td>\n",
       "      <td>-0.012961</td>\n",
       "      <td>-0.012567</td>\n",
       "      <td>-0.010662</td>\n",
       "      <td>-0.011020</td>\n",
       "      <td>-0.017469</td>\n",
       "      <td>-0.021464</td>\n",
       "      <td>1715.0</td>\n",
       "      <td>0.012832</td>\n",
       "    </tr>\n",
       "    <tr>\n",
       "      <th>2025-07-28</th>\n",
       "      <td>-0.002122</td>\n",
       "      <td>-0.013622</td>\n",
       "      <td>-0.003820</td>\n",
       "      <td>-0.004793</td>\n",
       "      <td>0.001065</td>\n",
       "      <td>-0.015056</td>\n",
       "      <td>-0.014663</td>\n",
       "      <td>-0.012762</td>\n",
       "      <td>-0.013119</td>\n",
       "      <td>-0.019554</td>\n",
       "      <td>919.0</td>\n",
       "      <td>0.006895</td>\n",
       "    </tr>\n",
       "    <tr>\n",
       "      <th>2025-07-29</th>\n",
       "      <td>-0.010448</td>\n",
       "      <td>-0.012548</td>\n",
       "      <td>-0.023927</td>\n",
       "      <td>-0.014228</td>\n",
       "      <td>-0.015190</td>\n",
       "      <td>-0.009394</td>\n",
       "      <td>-0.025346</td>\n",
       "      <td>-0.024957</td>\n",
       "      <td>-0.023076</td>\n",
       "      <td>-0.023430</td>\n",
       "      <td>2352.0</td>\n",
       "      <td>0.017879</td>\n",
       "    </tr>\n",
       "    <tr>\n",
       "      <th>2025-07-30</th>\n",
       "      <td>0.004518</td>\n",
       "      <td>-0.005976</td>\n",
       "      <td>-0.008086</td>\n",
       "      <td>-0.019517</td>\n",
       "      <td>-0.009773</td>\n",
       "      <td>-0.010740</td>\n",
       "      <td>-0.004918</td>\n",
       "      <td>-0.020942</td>\n",
       "      <td>-0.020552</td>\n",
       "      <td>-0.018662</td>\n",
       "      <td>1216.0</td>\n",
       "      <td>0.009203</td>\n",
       "    </tr>\n",
       "    <tr>\n",
       "      <th>2025-07-31</th>\n",
       "      <td>0.009523</td>\n",
       "      <td>0.014085</td>\n",
       "      <td>0.003490</td>\n",
       "      <td>0.001360</td>\n",
       "      <td>-0.010180</td>\n",
       "      <td>-0.000343</td>\n",
       "      <td>-0.001319</td>\n",
       "      <td>0.004558</td>\n",
       "      <td>-0.011618</td>\n",
       "      <td>-0.011224</td>\n",
       "      <td>2485.0</td>\n",
       "      <td>0.018842</td>\n",
       "    </tr>\n",
       "  </tbody>\n",
       "</table>\n",
       "</div>"
      ],
      "text/plain": [
       "               lag_1     lag_2     lag_3     lag_4     lag_5     lag_6  \\\n",
       "data                                                                     \n",
       "2025-07-25 -0.011524 -0.001701 -0.002676  0.003194 -0.012961 -0.012567   \n",
       "2025-07-28 -0.002122 -0.013622 -0.003820 -0.004793  0.001065 -0.015056   \n",
       "2025-07-29 -0.010448 -0.012548 -0.023927 -0.014228 -0.015190 -0.009394   \n",
       "2025-07-30  0.004518 -0.005976 -0.008086 -0.019517 -0.009773 -0.010740   \n",
       "2025-07-31  0.009523  0.014085  0.003490  0.001360 -0.010180 -0.000343   \n",
       "\n",
       "               lag_7     lag_8     lag_9    lag_10  Volatilidade  \\\n",
       "data                                                               \n",
       "2025-07-25 -0.010662 -0.011020 -0.017469 -0.021464        1715.0   \n",
       "2025-07-28 -0.014663 -0.012762 -0.013119 -0.019554         919.0   \n",
       "2025-07-29 -0.025346 -0.024957 -0.023076 -0.023430        2352.0   \n",
       "2025-07-30 -0.004918 -0.020942 -0.020552 -0.018662        1216.0   \n",
       "2025-07-31 -0.001319  0.004558 -0.011618 -0.011224        2485.0   \n",
       "\n",
       "            Volatilidade_relativa  \n",
       "data                               \n",
       "2025-07-25               0.012832  \n",
       "2025-07-28               0.006895  \n",
       "2025-07-29               0.017879  \n",
       "2025-07-30               0.009203  \n",
       "2025-07-31               0.018842  "
      ]
     },
     "metadata": {},
     "output_type": "display_data"
    },
    {
     "name": "stdout",
     "output_type": "stream",
     "text": [
      "\n",
      "Alvo (y):\n"
     ]
    },
    {
     "data": {
      "application/vnd.microsoft.datawrangler.viewer.v0+json": {
       "columns": [
        {
         "name": "data",
         "rawType": "datetime64[ns]",
         "type": "datetime"
        },
        {
         "name": "target",
         "rawType": "int32",
         "type": "integer"
        }
       ],
       "ref": "67b6edb9-8c63-436e-8dee-d33a23a510fb",
       "rows": [
        [
         "2025-07-25 00:00:00",
         "0"
        ],
        [
         "2025-07-28 00:00:00",
         "1"
        ],
        [
         "2025-07-29 00:00:00",
         "1"
        ],
        [
         "2025-07-30 00:00:00",
         "0"
        ],
        [
         "2025-07-31 00:00:00",
         "0"
        ]
       ],
       "shape": {
        "columns": 1,
        "rows": 5
       }
      },
      "text/plain": [
       "data\n",
       "2025-07-25    0\n",
       "2025-07-28    1\n",
       "2025-07-29    1\n",
       "2025-07-30    0\n",
       "2025-07-31    0\n",
       "Name: target, dtype: int32"
      ]
     },
     "metadata": {},
     "output_type": "display_data"
    }
   ],
   "source": [
    "# Separar os dados para treino e teste \n",
    "\n",
    "# Melhor acuracidade\n",
    "lista = [\"ultimo\",\"abertura\", \"maxima\", \"minima\",\"target\"]\n",
    "\n",
    "# Testes\n",
    "#lista = [\"abertura\", \"maxima\", \"minima\",\"target\"]\n",
    "#lista = [\"target\"]\n",
    "#lista = [\"ultimo\",\"abertura\", \"maxima\", \"minima\",\"target\"]\n",
    "#lista = [\"maxima\", \"minima\",\"target\"]\n",
    "#lista = [\"ultimo\",\"maxima\", \"minima\",\"target\"]\n",
    "\n",
    "x = dados.drop(columns=lista)\n",
    "y = dados[\"target\"].copy()\n",
    "\n",
    "print(\"Features (x):\")\n",
    "display(x.tail())\n",
    "\n",
    "print(\"\\nAlvo (y):\")\n",
    "display(y.tail())"
   ]
  },
  {
   "cell_type": "code",
   "execution_count": 849,
   "id": "cd289894",
   "metadata": {},
   "outputs": [],
   "source": [
    "# Separar a base em treino e teste\n",
    "\n",
    "x_train = x[(x.index >= data_inicio_treino) & (x.index < data_inicio_teste)]\n",
    "y_train = y[(y.index >= data_inicio_treino) & (y.index < data_inicio_teste)]\n",
    "\n",
    "x_test = x[(x.index >= data_inicio_teste) & (x.index <= data_fim_teste)]\n",
    "y_test = y[(y.index >= data_inicio_teste) & (y.index <= data_fim_teste)]"
   ]
  },
  {
   "cell_type": "markdown",
   "id": "9c617e42",
   "metadata": {},
   "source": [
    "##### Criação dos modelos de Machine Learning"
   ]
  },
  {
   "cell_type": "code",
   "execution_count": 850,
   "id": "c89c05f7",
   "metadata": {},
   "outputs": [],
   "source": [
    "# Preparar o TimeSeriesSplit\n",
    "\n",
    "tscv = TimeSeriesSplit(n_splits=5)"
   ]
  },
  {
   "cell_type": "code",
   "execution_count": 851,
   "id": "a1b4bcef",
   "metadata": {},
   "outputs": [],
   "source": [
    "# Normalizar os dados\n",
    "\n",
    "scaler = StandardScaler()\n",
    "scaler.fit(x_train)\n",
    "\n",
    "x_train_scaled = scaler.transform(x_train)\n",
    "x_test_scaled = scaler.transform(x_test)"
   ]
  },
  {
   "cell_type": "code",
   "execution_count": 852,
   "id": "293570a6",
   "metadata": {},
   "outputs": [],
   "source": [
    "# Treinar o modelo e gerar a previsao - Regressao Logistica\n",
    "\n",
    "usar_grid = \"Não\"\n",
    "\n",
    "if usar_grid == \"Sim\":\n",
    "\n",
    "    pipe_lr = Pipeline(\n",
    "        [('scaler', StandardScaler()), ('clf', LogisticRegression(solver='liblinear'))]\n",
    "    )\n",
    "\n",
    "    param_grid_lr = {\n",
    "        'clf__C': [0.001, 0.01, 0.1, 1, 10, 100],  # regularização\n",
    "        'clf__penalty': ['l1', 'l2'],  # tipo de penalização\n",
    "        'clf__solver': ['liblinear'],  # necessário para suportar l1\n",
    "    }\n",
    "\n",
    "    modelo_rl = GridSearchCV(pipe_lr, param_grid_lr, cv=tscv)\n",
    "    modelo_rl.fit(x_train, y_train)\n",
    "    previsao_rl = modelo_rl.predict(x_test)\n",
    "\n",
    "else: \n",
    "    modelo_rl = LogisticRegression(random_state=42)\n",
    "    modelo_rl.fit(x_train_scaled,y_train)\n",
    "    previsao_rl = modelo_rl.predict(x_test_scaled)"
   ]
  },
  {
   "cell_type": "code",
   "execution_count": 853,
   "id": "e8475062",
   "metadata": {},
   "outputs": [],
   "source": [
    "# Treinar o modelo e gerar a previsao - Random Forest \n",
    "\n",
    "modelo_rf = RandomForestClassifier(n_estimators=100, random_state=42)\n",
    "modelo_rf.fit(x_train_scaled, y_train)\n",
    "previsao_rf = modelo_rf.predict(x_test_scaled)"
   ]
  },
  {
   "cell_type": "code",
   "execution_count": 854,
   "id": "1944b199",
   "metadata": {},
   "outputs": [],
   "source": [
    "# Treinar o modelo e gerar a previsao - XGBoost\n",
    "\n",
    "usar_grid = \"Não\"\n",
    "\n",
    "if usar_grid == \"Sim\":\n",
    "\n",
    "    pipe_xgb = Pipeline(\n",
    "        [\n",
    "            ('scaler', StandardScaler()),\n",
    "            ('clf', XGBClassifier()),\n",
    "        ]\n",
    "    )\n",
    "\n",
    "    param_grid_xgb = {\n",
    "        'clf__n_estimators': [50, 100, 200],  # número de árvores\n",
    "        'clf__max_depth': [3, 5, 7],  # profundidade da árvore\n",
    "        'clf__learning_rate': [0.01, 0.05, 0.1, 0.3],  # taxa de aprendizado\n",
    "        'clf__subsample': [0.6, 0.8, 1.0],  # fração das amostras usadas em cada árvore\n",
    "        'clf__colsample_bytree': [0.6, 0.8, 1.0],  # fração de colunas usadas por árvore\n",
    "        'clf__gamma': [0, 0.1, 0.5, 1.0],  # regularização mínima para divisão\n",
    "        'clf__reg_alpha': [0, 0.1, 1],  # L1 regularization\n",
    "        'clf__reg_lambda': [0.1, 1, 10],  # L2 regularization\n",
    "    }\n",
    "\n",
    "    modelo_xgb = RandomizedSearchCV(pipe_xgb, param_grid_xgb, cv=tscv)\n",
    "    modelo_xgb.fit(x_train, y_train)\n",
    "    previsao_xgb = modelo_xgb.predict(x_test)\n",
    "\n",
    "else:\n",
    "    modelo_xgb = XGBClassifier(random_state=42)\n",
    "    modelo_xgb.fit(x_train_scaled, y_train)\n",
    "    previsao_xgb = modelo_xgb.predict(x_test_scaled)"
   ]
  },
  {
   "cell_type": "code",
   "execution_count": 855,
   "id": "93648a4b",
   "metadata": {},
   "outputs": [],
   "source": [
    "# Treinar o modelo e gerar a previsao - LightGBM\n",
    "\n",
    "modelo_lgbm = LGBMClassifier(random_state=42, verbose = -1)\n",
    "modelo_lgbm.fit(x_train_scaled, y_train)\n",
    "\n",
    "#previsao_lgbm = modelo_lgbm.predict(x_test_scaled)\n",
    "previsao_lgbm = modelo_lgbm.predict(pd.DataFrame(x_test_scaled, columns=x_train.columns)) # --> Gerado o predict dessa forma para não gerar o Warning"
   ]
  },
  {
   "cell_type": "code",
   "execution_count": 856,
   "id": "56c5e546",
   "metadata": {},
   "outputs": [],
   "source": [
    "# Treinar o modelo e gerar a previsao - CatBoost\n",
    "\n",
    "modelo_cat = CatBoostClassifier(random_state=42, verbose=0)\n",
    "modelo_cat.fit(x_train_scaled, y_train)\n",
    "previsao_cat = modelo_cat.predict(x_test_scaled)"
   ]
  },
  {
   "cell_type": "code",
   "execution_count": 857,
   "id": "ed19837a",
   "metadata": {},
   "outputs": [
    {
     "data": {
      "application/vnd.microsoft.datawrangler.viewer.v0+json": {
       "columns": [
        {
         "name": "Modelo",
         "rawType": "object",
         "type": "string"
        },
        {
         "name": "Acurácia",
         "rawType": "object",
         "type": "string"
        },
        {
         "name": "Precisão",
         "rawType": "object",
         "type": "string"
        },
        {
         "name": "Recall",
         "rawType": "object",
         "type": "string"
        },
        {
         "name": "F1-Score",
         "rawType": "object",
         "type": "string"
        }
       ],
       "ref": "a2ad79d4-9d7d-43c6-9198-e2ee6151c8a5",
       "rows": [
        [
         "LightGBM",
         "75.00 %",
         "76.79 %",
         "75.00 %",
         "74.00 %"
        ],
        [
         "Random Forest",
         "65.00 %",
         "68.12 %",
         "65.00 %",
         "61.51 %"
        ],
        [
         "XGBoost",
         "55.00 %",
         "53.93 %",
         "55.00 %",
         "53.20 %"
        ],
        [
         "CatBoost",
         "55.00 %",
         "53.44 %",
         "55.00 %",
         "50.51 %"
        ],
        [
         "Regressão Logística",
         "45.00 %",
         "47.50 %",
         "45.00 %",
         "35.13 %"
        ]
       ],
       "shape": {
        "columns": 4,
        "rows": 5
       }
      },
      "text/html": [
       "<div>\n",
       "<style scoped>\n",
       "    .dataframe tbody tr th:only-of-type {\n",
       "        vertical-align: middle;\n",
       "    }\n",
       "\n",
       "    .dataframe tbody tr th {\n",
       "        vertical-align: top;\n",
       "    }\n",
       "\n",
       "    .dataframe thead th {\n",
       "        text-align: right;\n",
       "    }\n",
       "</style>\n",
       "<table border=\"1\" class=\"dataframe\">\n",
       "  <thead>\n",
       "    <tr style=\"text-align: right;\">\n",
       "      <th></th>\n",
       "      <th>Acurácia</th>\n",
       "      <th>Precisão</th>\n",
       "      <th>Recall</th>\n",
       "      <th>F1-Score</th>\n",
       "    </tr>\n",
       "    <tr>\n",
       "      <th>Modelo</th>\n",
       "      <th></th>\n",
       "      <th></th>\n",
       "      <th></th>\n",
       "      <th></th>\n",
       "    </tr>\n",
       "  </thead>\n",
       "  <tbody>\n",
       "    <tr>\n",
       "      <th>LightGBM</th>\n",
       "      <td>75.00 %</td>\n",
       "      <td>76.79 %</td>\n",
       "      <td>75.00 %</td>\n",
       "      <td>74.00 %</td>\n",
       "    </tr>\n",
       "    <tr>\n",
       "      <th>Random Forest</th>\n",
       "      <td>65.00 %</td>\n",
       "      <td>68.12 %</td>\n",
       "      <td>65.00 %</td>\n",
       "      <td>61.51 %</td>\n",
       "    </tr>\n",
       "    <tr>\n",
       "      <th>XGBoost</th>\n",
       "      <td>55.00 %</td>\n",
       "      <td>53.93 %</td>\n",
       "      <td>55.00 %</td>\n",
       "      <td>53.20 %</td>\n",
       "    </tr>\n",
       "    <tr>\n",
       "      <th>CatBoost</th>\n",
       "      <td>55.00 %</td>\n",
       "      <td>53.44 %</td>\n",
       "      <td>55.00 %</td>\n",
       "      <td>50.51 %</td>\n",
       "    </tr>\n",
       "    <tr>\n",
       "      <th>Regressão Logística</th>\n",
       "      <td>45.00 %</td>\n",
       "      <td>47.50 %</td>\n",
       "      <td>45.00 %</td>\n",
       "      <td>35.13 %</td>\n",
       "    </tr>\n",
       "  </tbody>\n",
       "</table>\n",
       "</div>"
      ],
      "text/plain": [
       "                    Acurácia Precisão   Recall F1-Score\n",
       "Modelo                                                 \n",
       "LightGBM             75.00 %  76.79 %  75.00 %  74.00 %\n",
       "Random Forest        65.00 %  68.12 %  65.00 %  61.51 %\n",
       "XGBoost              55.00 %  53.93 %  55.00 %  53.20 %\n",
       "CatBoost             55.00 %  53.44 %  55.00 %  50.51 %\n",
       "Regressão Logística  45.00 %  47.50 %  45.00 %  35.13 %"
      ]
     },
     "metadata": {},
     "output_type": "display_data"
    }
   ],
   "source": [
    "# Gerar tabela com o score\n",
    "\n",
    "# # Criar um dicionario com os resultados centralizado que guarda o nome, o objeto do modelo e suas previsões\n",
    "modelos_avaliados = {\n",
    "    \"Regressão Logística\": {\"modelo\": modelo_rl, \"previsoes\": previsao_rl},\n",
    "    \"Random Forest\":       {\"modelo\": modelo_rf, \"previsoes\": previsao_rf},\n",
    "    \"XGBoost\":             {\"modelo\": modelo_xgb, \"previsoes\": previsao_xgb},\n",
    "    \"LightGBM\":            {\"modelo\": modelo_lgbm, \"previsoes\": previsao_lgbm},\n",
    "    \"CatBoost\":            {\"modelo\": modelo_cat, \"previsoes\": previsao_cat}\n",
    "}\n",
    "\n",
    "# Criar um data frame com os resultados\n",
    "performance = pd.DataFrame(\n",
    "    columns=[\"Modelo\", \"Acurácia\", \"Precisão\", \"Recall\", \"F1-Score\"]\n",
    ")\n",
    "\n",
    "for nome, dados in modelos_avaliados.items():\n",
    "    report = classification_report(y_test, dados[\"previsoes\"], output_dict=True, zero_division=0)\n",
    "    \n",
    "    performance.loc[performance.shape[0]] = {\n",
    "        \"Modelo\": nome,\n",
    "        \"Acurácia\": report[\"accuracy\"],\n",
    "        \"Precisão\": report[\"weighted avg\"][\"precision\"],\n",
    "        \"Recall\": report[\"weighted avg\"][\"recall\"],\n",
    "        \"F1-Score\": report[\"weighted avg\"][\"f1-score\"],\n",
    "    }\n",
    "\n",
    "performance.set_index(\"Modelo\", inplace=True)\n",
    "performance_formatada = performance.sort_values(by=\"Acurácia\", ascending=False)\n",
    "performance_formatada = performance_formatada.map(lambda x: f\"{(100 * x):.2f} %\")\n",
    "\n",
    "display(performance_formatada)"
   ]
  },
  {
   "cell_type": "markdown",
   "id": "d456a1b9",
   "metadata": {},
   "source": [
    "##### Verificar importancia das Features"
   ]
  },
  {
   "cell_type": "code",
   "execution_count": 862,
   "id": "ed0a1bc6",
   "metadata": {},
   "outputs": [
    {
     "data": {
      "application/vnd.jupyter.widget-view+json": {
       "model_id": "d64e4df11c444c1ea3b12dc9518cfb39",
       "version_major": 2,
       "version_minor": 0
      },
      "text/plain": [
       "interactive(children=(Dropdown(description='Modelo:', index=3, options=('Regressão Logística', 'Random Forest'…"
      ]
     },
     "metadata": {},
     "output_type": "display_data"
    }
   ],
   "source": [
    "# Verificar a importancia da feature para cada \n",
    "\n",
    "# Selecionar como default o modelo com a melhor acurácia (mesma lógica que você já usou)\n",
    "modelo_default_features = performance.sort_values(by=\"Acurácia\", ascending=False).index[0]\n",
    "\n",
    "# Criar o menu suspenso para a importância das features\n",
    "dropdown_features = widgets.Dropdown(\n",
    "    options=list(modelos_avaliados.keys()),\n",
    "    value=modelo_default_features,\n",
    "    description='Modelo:',\n",
    "    disabled=False\n",
    ")\n",
    "\n",
    "# Cria a interface interativa que chama a função ao mudar o valor do dropdown\n",
    "widgets.interactive(\n",
    "    lambda nome_modelo: analisar_importancia_features(nome_modelo, modelos_avaliados, x_train),\n",
    "    nome_modelo=dropdown_features\n",
    ")"
   ]
  },
  {
   "cell_type": "markdown",
   "id": "dfc272a8",
   "metadata": {},
   "source": [
    "##### Analisando o resultado dos modelos de Machine Learning através da Matriz de Confusão, Curva ROC e Comparação entre base de teste e treino\n",
    "\n"
   ]
  },
  {
   "cell_type": "code",
   "execution_count": 859,
   "id": "13f06004",
   "metadata": {},
   "outputs": [
    {
     "data": {
      "application/vnd.jupyter.widget-view+json": {
       "model_id": "9d923edef70442eb9d904ab671db3d91",
       "version_major": 2,
       "version_minor": 0
      },
      "text/plain": [
       "interactive(children=(Dropdown(description='Modelo: ', index=3, options=('Regressão Logística', 'Random Forest…"
      ]
     },
     "metadata": {},
     "output_type": "display_data"
    }
   ],
   "source": [
    "# Incluir explicacao dos dois graficos\n",
    "\n",
    "# Gerar a matriz de confusão e Curva ROC \n",
    "\n",
    "# Selecionar como default o modelo com a melhor acurácia\n",
    "modelo_default = performance.sort_values(by=\"Acurácia\", ascending=False).index[0]\n",
    "\n",
    "# Criar o menu suspenso \n",
    "dropdown = widgets.Dropdown(\n",
    "    options=list(modelos_avaliados.keys()),\n",
    "    value=modelo_default,\n",
    "    description='Modelo: ',\n",
    "    disabled=False\n",
    ")\n",
    "\n",
    "widgets.interactive(\n",
    "    lambda nome_modelo: analisar_modelo_selecionado(nome_modelo, modelos_avaliados, y_test, x_test, x_test_scaled),\n",
    "    nome_modelo=dropdown\n",
    ")"
   ]
  },
  {
   "cell_type": "code",
   "execution_count": 860,
   "id": "5e685bc6",
   "metadata": {},
   "outputs": [
    {
     "name": "stdout",
     "output_type": "stream",
     "text": [
      "Análise de Overfitting para o Melhor Modelo: LightGBM\n",
      "Acurácia no Conjunto de Treino: 98.02%\n",
      "Acurácia no Conjunto de Teste:  75.00%\n",
      "\n",
      "Atenção: A diferença de 23.02% entre a acurácia de treino e teste pode indicar overfitting.\n"
     ]
    }
   ],
   "source": [
    "# Verificar o Overfitting\n",
    "\n",
    "# Selecionar modelo com a melhor acuracidade\n",
    "best_model_name = performance.sort_values(by=\"Acurácia\", ascending=False).index[0]\n",
    "\n",
    "# Selecionar objeto do melhor modelo a partir do dicionário\n",
    "best_model_object = modelos_avaliados[best_model_name]['modelo']\n",
    "\n",
    "# Fazer previsões nos dados de TREINO e TESTE usando o melhor modelo\n",
    "if best_model_name == \"LightGBM\":   \n",
    "    previsoes_treino = best_model_object.predict(pd.DataFrame(x_train_scaled, columns=x_train.columns))\n",
    "    previsoes_teste = best_model_object.predict(pd.DataFrame(x_test_scaled, columns=x_train.columns)) \n",
    "\n",
    "else:\n",
    "    previsoes_treino = best_model_object.predict(x_train_scaled)\n",
    "    previsoes_teste = best_model_object.predict(x_test_scaled)\n",
    "\n",
    "# Calcular a acurácia da previsão de treino e teste\n",
    "acuracia_treino = accuracy_score(y_train, previsoes_treino)\n",
    "acuracia_teste = accuracy_score(y_test, previsoes_teste)\n",
    "\n",
    "# Gerar o resultados\n",
    "print(f\"Análise de Overfitting para o Melhor Modelo: {best_model_name}\")\n",
    "print(f\"Acurácia no Conjunto de Treino: {acuracia_treino:.2%}\")\n",
    "print(f\"Acurácia no Conjunto de Teste:  {acuracia_teste:.2%}\")\n",
    "\n",
    "diferenca_percentual = 0.20\n",
    "\n",
    "diferenca = acuracia_treino - acuracia_teste\n",
    "if diferenca > diferenca_percentual:\n",
    "    print(f\"\\nAtenção: A diferença de {diferenca:.2%} entre a acurácia de treino e teste pode indicar overfitting.\")\n",
    "else:\n",
    "    print(\"\\nA diferença entre a acurácia de treino e teste está em um nível aceitável.\")"
   ]
  }
 ],
 "metadata": {
  "kernelspec": {
   "display_name": "base",
   "language": "python",
   "name": "python3"
  },
  "language_info": {
   "codemirror_mode": {
    "name": "ipython",
    "version": 3
   },
   "file_extension": ".py",
   "mimetype": "text/x-python",
   "name": "python",
   "nbconvert_exporter": "python",
   "pygments_lexer": "ipython3",
   "version": "3.12.3"
  }
 },
 "nbformat": 4,
 "nbformat_minor": 5
}
