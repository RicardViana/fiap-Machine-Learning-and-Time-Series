{
 "cells": [
  {
   "cell_type": "markdown",
   "id": "1928e801",
   "metadata": {},
   "source": [
    "#### Tech Challenge - Fase 2 - Machine Learning and Time Series"
   ]
  },
  {
   "cell_type": "markdown",
   "id": "688ff897",
   "metadata": {},
   "source": [
    "#### O problema \n",
    "\n",
    "Desenvolver um modelo preditivo capaz de prever se o índice IBOVESPA vai fechar em alta ou baixa no dia seguinte, com base em dados históricos do próprio índice"
   ]
  },
  {
   "cell_type": "markdown",
   "id": "36873844",
   "metadata": {},
   "source": [
    "#### O que é o índice Ibovespa \n",
    "\n",
    "É o principal indicador de desempenho das ações negociadas na B3 e reúne as empresas mais importantes do mercado de capitais brasileiro. Foi criado em 1968 e, ao longo desses 50 anos, consolidou-se como referência para investidores ao redor do mundo.\n",
    "\n",
    "\n",
    "https://pt.wikipedia.org/wiki/Ibovespa\n",
    "\n",
    "https://www.b3.com.br/pt_br/market-data-e-indices/indices/indices-amplos/ibovespa.htm"
   ]
  },
  {
   "cell_type": "markdown",
   "id": "60ab9845",
   "metadata": {},
   "source": [
    "#### Fonte de dados \n",
    "\n",
    "Dados históricos do índice IBOVESPA disponíveis publicamente no link https://br.investing.com/indices/bovespa-historical-data e importando para o seguinte repositorio do Github https://github.com/RicardViana/fiap-Machine-Learning-and-Time-Series/blob/main/Dados%20Hist%C3%B3ricos%20Ibovespa.csv"
   ]
  },
  {
   "cell_type": "markdown",
   "id": "1005da58",
   "metadata": {},
   "source": [
    "#### Dicionário de dados\n",
    "\n",
    "\n",
    "| Nome da Coluna | Descrição | Tipo de Dado |\n",
    "| :--- | :--- | :--- |\n",
    "| `Data` | A data da observação, no formato \"DD/MM/AAAA\". | Texto (object) |\n",
    "| `Ultimo` | O preço de fechamento do Ibovespa no dia. | Numérico (float64) |\n",
    "| `Abertura` | O preço de abertura do Ibovespa no dia. | Numérico (float64) |\n",
    "| `Maxima` | O preço máximo atingido pelo Ibovespa no dia. | Numérico (float64) |\n",
    "| `Minima` | O preço mínimo atingido pelo Ibovespa no dia. | Numérico (float64) |\n",
    "| `Volume` | O volume de negociações do dia. Os valores são representados em texto com sufixos (ex: \"B\" para bilhões, \"M\" para milhões). | Texto (object) |\n",
    "| `Variacao` | A variação percentual do Ibovespa no dia. | Texto (object) |"
   ]
  },
  {
   "attachments": {
    "image.png": {
     "image/png": "[encoded data removed]"
    }
   },
   "cell_type": "markdown",
   "id": "2eab2110",
   "metadata": {},
   "source": [
    "#### Objetivo\n",
    "\n",
    "Criar um modelo que preveja se o fechamento do IBOVESPA do dia seguinte será maior ou menor que o do dia atual, ou seja:\n",
    "\n",
    "![image.png](attachment:image.png)\n",
    "\n",
    "Onde deve prever a tendência (↑ ou ↓) com acuracidade mínima de 75% em um conjunto de teste, esse que contera o último mês (30 dias) de dados disponíveis"
   ]
  },
  {
   "cell_type": "markdown",
   "id": "783c919e",
   "metadata": {},
   "source": [
    "#### Desenvolvimento"
   ]
  },
  {
   "cell_type": "markdown",
   "id": "69619e2c",
   "metadata": {},
   "source": [
    "##### Importação de bibliotecas e pacotes"
   ]
  },
  {
   "cell_type": "code",
   "execution_count": 985,
   "id": "9908a652",
   "metadata": {},
   "outputs": [],
   "source": [
    "# Importar biblioteca completa\n",
    "import pandas as pd \n",
    "import numpy as np\n",
    "import matplotlib.pyplot as plt\n",
    "import seaborn as sns\n",
    "import yfinance as yf\n",
    "import calendar\n",
    "import pandas_ta as ta\n",
    "\n",
    "# Importar função especifica de um módulo\n",
    "from statsmodels.tsa.seasonal import seasonal_decompose # --> Geral a decomposição dos dados\n",
    "from sklearn.preprocessing import StandardScaler\n",
    "from datetime import date\n",
    "\n",
    "# Importar função especifica de um módulo --> Modelos de ML\n",
    "from sklearn.ensemble import RandomForestClassifier # --> Modelo de ML Random Forest\n",
    "from sklearn.linear_model import LogisticRegression # --> Modelo de ML Regressão Logistica \n",
    "from catboost import CatBoostClassifier\n",
    "from lightgbm import LGBMClassifier\n",
    "from xgboost import XGBClassifier\n",
    "\n",
    "# Importar função especifica de um módulo --> Metricas para analisar o modelo  \n",
    "from sklearn.metrics import classification_report\n",
    "\n",
    "# Outras importações\n",
    "from sklearn.model_selection import GridSearchCV\n",
    "from sklearn.model_selection import TimeSeriesSplit"
   ]
  },
  {
   "cell_type": "markdown",
   "id": "08ff9e7c",
   "metadata": {},
   "source": [
    "##### Criação de funções (DEF)"
   ]
  },
  {
   "cell_type": "markdown",
   "id": "80b08bfd",
   "metadata": {},
   "source": [
    "##### Análise Exploratória de Dados (EDA)"
   ]
  },
  {
   "cell_type": "code",
   "execution_count": 986,
   "id": "767cebda",
   "metadata": {},
   "outputs": [
    {
     "name": "stdout",
     "output_type": "stream",
     "text": [
      "Primeiros dados\n"
     ]
    },
    {
     "data": {
      "application/vnd.microsoft.datawrangler.viewer.v0+json": {
       "columns": [
        {
         "name": "Date",
         "rawType": "datetime64[ns]",
         "type": "datetime"
        },
        {
         "name": "Close",
         "rawType": "float64",
         "type": "float"
        },
        {
         "name": "High",
         "rawType": "float64",
         "type": "float"
        },
        {
         "name": "Low",
         "rawType": "float64",
         "type": "float"
        },
        {
         "name": "Open",
         "rawType": "float64",
         "type": "float"
        },
        {
         "name": "Volume",
         "rawType": "int64",
         "type": "integer"
        }
       ],
       "ref": "0659a57d-4c1e-4103-af22-a30a7d44965f",
       "rows": [
        [
         "1993-04-27 00:00:00",
         "24.5",
         "25.399999618530273",
         "24.5",
         "24.799999237060547",
         "0"
        ],
        [
         "1993-04-28 00:00:00",
         "24.299999237060547",
         "24.600000381469727",
         "23.700000762939453",
         "24.5",
         "0"
        ],
        [
         "1993-04-29 00:00:00",
         "23.700000762939453",
         "24.799999237060547",
         "23.700000762939453",
         "24.299999237060547",
         "0"
        ],
        [
         "1993-04-30 00:00:00",
         "24.100000381469727",
         "24.200000762939453",
         "23.700000762939453",
         "23.700000762939453",
         "0"
        ],
        [
         "1993-05-03 00:00:00",
         "24.100000381469727",
         "24.399999618530273",
         "23.799999237060547",
         "24.100000381469727",
         "0"
        ]
       ],
       "shape": {
        "columns": 5,
        "rows": 5
       }
      },
      "text/html": [
       "<div>\n",
       "<style scoped>\n",
       "    .dataframe tbody tr th:only-of-type {\n",
       "        vertical-align: middle;\n",
       "    }\n",
       "\n",
       "    .dataframe tbody tr th {\n",
       "        vertical-align: top;\n",
       "    }\n",
       "\n",
       "    .dataframe thead th {\n",
       "        text-align: right;\n",
       "    }\n",
       "</style>\n",
       "<table border=\"1\" class=\"dataframe\">\n",
       "  <thead>\n",
       "    <tr style=\"text-align: right;\">\n",
       "      <th></th>\n",
       "      <th>Close</th>\n",
       "      <th>High</th>\n",
       "      <th>Low</th>\n",
       "      <th>Open</th>\n",
       "      <th>Volume</th>\n",
       "    </tr>\n",
       "    <tr>\n",
       "      <th>Date</th>\n",
       "      <th></th>\n",
       "      <th></th>\n",
       "      <th></th>\n",
       "      <th></th>\n",
       "      <th></th>\n",
       "    </tr>\n",
       "  </thead>\n",
       "  <tbody>\n",
       "    <tr>\n",
       "      <th>1993-04-27</th>\n",
       "      <td>24.500000</td>\n",
       "      <td>25.400000</td>\n",
       "      <td>24.500000</td>\n",
       "      <td>24.799999</td>\n",
       "      <td>0</td>\n",
       "    </tr>\n",
       "    <tr>\n",
       "      <th>1993-04-28</th>\n",
       "      <td>24.299999</td>\n",
       "      <td>24.600000</td>\n",
       "      <td>23.700001</td>\n",
       "      <td>24.500000</td>\n",
       "      <td>0</td>\n",
       "    </tr>\n",
       "    <tr>\n",
       "      <th>1993-04-29</th>\n",
       "      <td>23.700001</td>\n",
       "      <td>24.799999</td>\n",
       "      <td>23.700001</td>\n",
       "      <td>24.299999</td>\n",
       "      <td>0</td>\n",
       "    </tr>\n",
       "    <tr>\n",
       "      <th>1993-04-30</th>\n",
       "      <td>24.100000</td>\n",
       "      <td>24.200001</td>\n",
       "      <td>23.700001</td>\n",
       "      <td>23.700001</td>\n",
       "      <td>0</td>\n",
       "    </tr>\n",
       "    <tr>\n",
       "      <th>1993-05-03</th>\n",
       "      <td>24.100000</td>\n",
       "      <td>24.400000</td>\n",
       "      <td>23.799999</td>\n",
       "      <td>24.100000</td>\n",
       "      <td>0</td>\n",
       "    </tr>\n",
       "  </tbody>\n",
       "</table>\n",
       "</div>"
      ],
      "text/plain": [
       "                Close       High        Low       Open  Volume\n",
       "Date                                                          \n",
       "1993-04-27  24.500000  25.400000  24.500000  24.799999       0\n",
       "1993-04-28  24.299999  24.600000  23.700001  24.500000       0\n",
       "1993-04-29  23.700001  24.799999  23.700001  24.299999       0\n",
       "1993-04-30  24.100000  24.200001  23.700001  23.700001       0\n",
       "1993-05-03  24.100000  24.400000  23.799999  24.100000       0"
      ]
     },
     "metadata": {},
     "output_type": "display_data"
    },
    {
     "name": "stdout",
     "output_type": "stream",
     "text": [
      "\n",
      "Ultimos dados\n"
     ]
    },
    {
     "data": {
      "application/vnd.microsoft.datawrangler.viewer.v0+json": {
       "columns": [
        {
         "name": "Date",
         "rawType": "datetime64[ns]",
         "type": "datetime"
        },
        {
         "name": "Close",
         "rawType": "float64",
         "type": "float"
        },
        {
         "name": "High",
         "rawType": "float64",
         "type": "float"
        },
        {
         "name": "Low",
         "rawType": "float64",
         "type": "float"
        },
        {
         "name": "Open",
         "rawType": "float64",
         "type": "float"
        },
        {
         "name": "Volume",
         "rawType": "int64",
         "type": "integer"
        }
       ],
       "ref": "0b9ddba9-d3f3-4edd-b121-dd824e03e87b",
       "rows": [
        [
         "2025-07-16 00:00:00",
         "135511.0",
         "135641.0",
         "134265.0",
         "135250.0",
         "7833200"
        ],
        [
         "2025-07-17 00:00:00",
         "135565.0",
         "135793.0",
         "135016.0",
         "135515.0",
         "6800000"
        ],
        [
         "2025-07-18 00:00:00",
         "133382.0",
         "135563.0",
         "133296.0",
         "135563.0",
         "10071800"
        ],
        [
         "2025-07-21 00:00:00",
         "134167.0",
         "134865.0",
         "133367.0",
         "133382.0",
         "6726700"
        ],
        [
         "2025-07-22 00:00:00",
         "134036.0",
         "135300.0",
         "133986.0",
         "134180.0",
         "7052100"
        ]
       ],
       "shape": {
        "columns": 5,
        "rows": 5
       }
      },
      "text/html": [
       "<div>\n",
       "<style scoped>\n",
       "    .dataframe tbody tr th:only-of-type {\n",
       "        vertical-align: middle;\n",
       "    }\n",
       "\n",
       "    .dataframe tbody tr th {\n",
       "        vertical-align: top;\n",
       "    }\n",
       "\n",
       "    .dataframe thead th {\n",
       "        text-align: right;\n",
       "    }\n",
       "</style>\n",
       "<table border=\"1\" class=\"dataframe\">\n",
       "  <thead>\n",
       "    <tr style=\"text-align: right;\">\n",
       "      <th></th>\n",
       "      <th>Close</th>\n",
       "      <th>High</th>\n",
       "      <th>Low</th>\n",
       "      <th>Open</th>\n",
       "      <th>Volume</th>\n",
       "    </tr>\n",
       "    <tr>\n",
       "      <th>Date</th>\n",
       "      <th></th>\n",
       "      <th></th>\n",
       "      <th></th>\n",
       "      <th></th>\n",
       "      <th></th>\n",
       "    </tr>\n",
       "  </thead>\n",
       "  <tbody>\n",
       "    <tr>\n",
       "      <th>2025-07-16</th>\n",
       "      <td>135511.0</td>\n",
       "      <td>135641.0</td>\n",
       "      <td>134265.0</td>\n",
       "      <td>135250.0</td>\n",
       "      <td>7833200</td>\n",
       "    </tr>\n",
       "    <tr>\n",
       "      <th>2025-07-17</th>\n",
       "      <td>135565.0</td>\n",
       "      <td>135793.0</td>\n",
       "      <td>135016.0</td>\n",
       "      <td>135515.0</td>\n",
       "      <td>6800000</td>\n",
       "    </tr>\n",
       "    <tr>\n",
       "      <th>2025-07-18</th>\n",
       "      <td>133382.0</td>\n",
       "      <td>135563.0</td>\n",
       "      <td>133296.0</td>\n",
       "      <td>135563.0</td>\n",
       "      <td>10071800</td>\n",
       "    </tr>\n",
       "    <tr>\n",
       "      <th>2025-07-21</th>\n",
       "      <td>134167.0</td>\n",
       "      <td>134865.0</td>\n",
       "      <td>133367.0</td>\n",
       "      <td>133382.0</td>\n",
       "      <td>6726700</td>\n",
       "    </tr>\n",
       "    <tr>\n",
       "      <th>2025-07-22</th>\n",
       "      <td>134036.0</td>\n",
       "      <td>135300.0</td>\n",
       "      <td>133986.0</td>\n",
       "      <td>134180.0</td>\n",
       "      <td>7052100</td>\n",
       "    </tr>\n",
       "  </tbody>\n",
       "</table>\n",
       "</div>"
      ],
      "text/plain": [
       "               Close      High       Low      Open    Volume\n",
       "Date                                                        \n",
       "2025-07-16  135511.0  135641.0  134265.0  135250.0   7833200\n",
       "2025-07-17  135565.0  135793.0  135016.0  135515.0   6800000\n",
       "2025-07-18  133382.0  135563.0  133296.0  135563.0  10071800\n",
       "2025-07-21  134167.0  134865.0  133367.0  133382.0   6726700\n",
       "2025-07-22  134036.0  135300.0  133986.0  134180.0   7052100"
      ]
     },
     "metadata": {},
     "output_type": "display_data"
    }
   ],
   "source": [
    "\"\"\"\n",
    "\n",
    "Com sugestão do colega da pós Tiago Turra existe uma biblioteca chamada yfinance (https://pypi.org/project/yfinance/) que possi os mesmo dados do site https://br.investing.com/indices/bovespa-historical-data\n",
    "\n",
    "\"\"\"\n",
    "\n",
    "# Importando os dados via yfinance apenas para referencia\n",
    "# progress --> Não gerar um print do progresso\n",
    "# auto_adjust --> corrigir o histórico de preços\n",
    "# multi_level_index --> Utilizando para evitar gerar coluna com o nome do ticket, exemplo ('Close', '^BVSP')\n",
    "\n",
    "dados_yf = yf.download('^BVSP', period=\"max\", interval=\"1d\", auto_adjust=True,  progress=False, multi_level_index=False)\n",
    "\n",
    "print(\"Primeiros dados\")\n",
    "display(dados_yf.head())\n",
    "\n",
    "print(\"\\nUltimos dados\")\n",
    "display(dados_yf.tail())"
   ]
  },
  {
   "cell_type": "code",
   "execution_count": 987,
   "id": "4c323470",
   "metadata": {},
   "outputs": [],
   "source": [
    "# Importar os dados via github \n",
    "# Necessario o uso do arumento thousands e decimal para não ter problema com o data frame --> o . na fonte é para separar o milhar\n",
    "\n",
    "link = r\"https://raw.githubusercontent.com/RicardViana/fiap-Machine-Learning-and-Time-Series/refs/heads/main/Dados%20Hist%C3%B3ricos%20Ibovespa.csv\"\n",
    "dados_origem = pd.read_csv(link, sep= \";\", thousands='.', decimal=',', index_col=\"Data\")"
   ]
  },
  {
   "cell_type": "code",
   "execution_count": 988,
   "id": "b83b6b1a",
   "metadata": {},
   "outputs": [
    {
     "name": "stdout",
     "output_type": "stream",
     "text": [
      "Primeiros dados (.head)\n"
     ]
    },
    {
     "data": {
      "application/vnd.microsoft.datawrangler.viewer.v0+json": {
       "columns": [
        {
         "name": "Data",
         "rawType": "object",
         "type": "string"
        },
        {
         "name": "Ultimo",
         "rawType": "int64",
         "type": "integer"
        },
        {
         "name": "Abertura",
         "rawType": "int64",
         "type": "integer"
        },
        {
         "name": "Maxima",
         "rawType": "int64",
         "type": "integer"
        },
        {
         "name": "Minima",
         "rawType": "int64",
         "type": "integer"
        },
        {
         "name": "Volume",
         "rawType": "object",
         "type": "string"
        },
        {
         "name": "Variacao",
         "rawType": "object",
         "type": "string"
        }
       ],
       "ref": "c924f545-9929-44ec-9e40-8501d07f16ea",
       "rows": [
        [
         "02/01/1995",
         "4301",
         "4354",
         "4398",
         "4300",
         "4,10B",
         "-1,22%"
        ],
        [
         "03/01/1995",
         "4098",
         "4370",
         "4386",
         "4094",
         "8,35B",
         "-4,72%"
        ],
        [
         "04/01/1995",
         "3968",
         "4098",
         "4098",
         "3861",
         "11,95B",
         "-3,17%"
        ],
        [
         "05/01/1995",
         "4037",
         "3968",
         "4040",
         "3944",
         "8,76B",
         "1,74%"
        ],
        [
         "06/01/1995",
         "3827",
         "4037",
         "4106",
         "3813",
         "12,02B",
         "-5,20%"
        ]
       ],
       "shape": {
        "columns": 6,
        "rows": 5
       }
      },
      "text/html": [
       "<div>\n",
       "<style scoped>\n",
       "    .dataframe tbody tr th:only-of-type {\n",
       "        vertical-align: middle;\n",
       "    }\n",
       "\n",
       "    .dataframe tbody tr th {\n",
       "        vertical-align: top;\n",
       "    }\n",
       "\n",
       "    .dataframe thead th {\n",
       "        text-align: right;\n",
       "    }\n",
       "</style>\n",
       "<table border=\"1\" class=\"dataframe\">\n",
       "  <thead>\n",
       "    <tr style=\"text-align: right;\">\n",
       "      <th></th>\n",
       "      <th>Ultimo</th>\n",
       "      <th>Abertura</th>\n",
       "      <th>Maxima</th>\n",
       "      <th>Minima</th>\n",
       "      <th>Volume</th>\n",
       "      <th>Variacao</th>\n",
       "    </tr>\n",
       "    <tr>\n",
       "      <th>Data</th>\n",
       "      <th></th>\n",
       "      <th></th>\n",
       "      <th></th>\n",
       "      <th></th>\n",
       "      <th></th>\n",
       "      <th></th>\n",
       "    </tr>\n",
       "  </thead>\n",
       "  <tbody>\n",
       "    <tr>\n",
       "      <th>02/01/1995</th>\n",
       "      <td>4301</td>\n",
       "      <td>4354</td>\n",
       "      <td>4398</td>\n",
       "      <td>4300</td>\n",
       "      <td>4,10B</td>\n",
       "      <td>-1,22%</td>\n",
       "    </tr>\n",
       "    <tr>\n",
       "      <th>03/01/1995</th>\n",
       "      <td>4098</td>\n",
       "      <td>4370</td>\n",
       "      <td>4386</td>\n",
       "      <td>4094</td>\n",
       "      <td>8,35B</td>\n",
       "      <td>-4,72%</td>\n",
       "    </tr>\n",
       "    <tr>\n",
       "      <th>04/01/1995</th>\n",
       "      <td>3968</td>\n",
       "      <td>4098</td>\n",
       "      <td>4098</td>\n",
       "      <td>3861</td>\n",
       "      <td>11,95B</td>\n",
       "      <td>-3,17%</td>\n",
       "    </tr>\n",
       "    <tr>\n",
       "      <th>05/01/1995</th>\n",
       "      <td>4037</td>\n",
       "      <td>3968</td>\n",
       "      <td>4040</td>\n",
       "      <td>3944</td>\n",
       "      <td>8,76B</td>\n",
       "      <td>1,74%</td>\n",
       "    </tr>\n",
       "    <tr>\n",
       "      <th>06/01/1995</th>\n",
       "      <td>3827</td>\n",
       "      <td>4037</td>\n",
       "      <td>4106</td>\n",
       "      <td>3813</td>\n",
       "      <td>12,02B</td>\n",
       "      <td>-5,20%</td>\n",
       "    </tr>\n",
       "  </tbody>\n",
       "</table>\n",
       "</div>"
      ],
      "text/plain": [
       "            Ultimo  Abertura  Maxima  Minima  Volume Variacao\n",
       "Data                                                         \n",
       "02/01/1995    4301      4354    4398    4300   4,10B   -1,22%\n",
       "03/01/1995    4098      4370    4386    4094   8,35B   -4,72%\n",
       "04/01/1995    3968      4098    4098    3861  11,95B   -3,17%\n",
       "05/01/1995    4037      3968    4040    3944   8,76B    1,74%\n",
       "06/01/1995    3827      4037    4106    3813  12,02B   -5,20%"
      ]
     },
     "metadata": {},
     "output_type": "display_data"
    },
    {
     "name": "stdout",
     "output_type": "stream",
     "text": [
      "\n",
      "Ultimos dados (.tail)\n"
     ]
    },
    {
     "data": {
      "application/vnd.microsoft.datawrangler.viewer.v0+json": {
       "columns": [
        {
         "name": "Data",
         "rawType": "object",
         "type": "string"
        },
        {
         "name": "Ultimo",
         "rawType": "int64",
         "type": "integer"
        },
        {
         "name": "Abertura",
         "rawType": "int64",
         "type": "integer"
        },
        {
         "name": "Maxima",
         "rawType": "int64",
         "type": "integer"
        },
        {
         "name": "Minima",
         "rawType": "int64",
         "type": "integer"
        },
        {
         "name": "Volume",
         "rawType": "object",
         "type": "string"
        },
        {
         "name": "Variacao",
         "rawType": "object",
         "type": "string"
        }
       ],
       "ref": "9c8c90d6-1c9d-413e-b71e-69f13c732217",
       "rows": [
        [
         "30/06/2025",
         "138855",
         "136865",
         "139103",
         "136430",
         "7,68B",
         "1,45%"
        ],
        [
         "01/07/2025",
         "139549",
         "138855",
         "139695",
         "138855",
         "6,35B",
         "0,50%"
        ],
        [
         "02/07/2025",
         "139051",
         "139586",
         "140049",
         "138384",
         "8,81B",
         "-0,36%"
        ],
        [
         "03/07/2025",
         "140928",
         "139051",
         "141304",
         "139051",
         "6,08B",
         "1,35%"
        ],
        [
         "04/07/2025",
         "141264",
         "140928",
         "141564",
         "140597",
         "3,31B",
         "0,24%"
        ]
       ],
       "shape": {
        "columns": 6,
        "rows": 5
       }
      },
      "text/html": [
       "<div>\n",
       "<style scoped>\n",
       "    .dataframe tbody tr th:only-of-type {\n",
       "        vertical-align: middle;\n",
       "    }\n",
       "\n",
       "    .dataframe tbody tr th {\n",
       "        vertical-align: top;\n",
       "    }\n",
       "\n",
       "    .dataframe thead th {\n",
       "        text-align: right;\n",
       "    }\n",
       "</style>\n",
       "<table border=\"1\" class=\"dataframe\">\n",
       "  <thead>\n",
       "    <tr style=\"text-align: right;\">\n",
       "      <th></th>\n",
       "      <th>Ultimo</th>\n",
       "      <th>Abertura</th>\n",
       "      <th>Maxima</th>\n",
       "      <th>Minima</th>\n",
       "      <th>Volume</th>\n",
       "      <th>Variacao</th>\n",
       "    </tr>\n",
       "    <tr>\n",
       "      <th>Data</th>\n",
       "      <th></th>\n",
       "      <th></th>\n",
       "      <th></th>\n",
       "      <th></th>\n",
       "      <th></th>\n",
       "      <th></th>\n",
       "    </tr>\n",
       "  </thead>\n",
       "  <tbody>\n",
       "    <tr>\n",
       "      <th>30/06/2025</th>\n",
       "      <td>138855</td>\n",
       "      <td>136865</td>\n",
       "      <td>139103</td>\n",
       "      <td>136430</td>\n",
       "      <td>7,68B</td>\n",
       "      <td>1,45%</td>\n",
       "    </tr>\n",
       "    <tr>\n",
       "      <th>01/07/2025</th>\n",
       "      <td>139549</td>\n",
       "      <td>138855</td>\n",
       "      <td>139695</td>\n",
       "      <td>138855</td>\n",
       "      <td>6,35B</td>\n",
       "      <td>0,50%</td>\n",
       "    </tr>\n",
       "    <tr>\n",
       "      <th>02/07/2025</th>\n",
       "      <td>139051</td>\n",
       "      <td>139586</td>\n",
       "      <td>140049</td>\n",
       "      <td>138384</td>\n",
       "      <td>8,81B</td>\n",
       "      <td>-0,36%</td>\n",
       "    </tr>\n",
       "    <tr>\n",
       "      <th>03/07/2025</th>\n",
       "      <td>140928</td>\n",
       "      <td>139051</td>\n",
       "      <td>141304</td>\n",
       "      <td>139051</td>\n",
       "      <td>6,08B</td>\n",
       "      <td>1,35%</td>\n",
       "    </tr>\n",
       "    <tr>\n",
       "      <th>04/07/2025</th>\n",
       "      <td>141264</td>\n",
       "      <td>140928</td>\n",
       "      <td>141564</td>\n",
       "      <td>140597</td>\n",
       "      <td>3,31B</td>\n",
       "      <td>0,24%</td>\n",
       "    </tr>\n",
       "  </tbody>\n",
       "</table>\n",
       "</div>"
      ],
      "text/plain": [
       "            Ultimo  Abertura  Maxima  Minima Volume Variacao\n",
       "Data                                                        \n",
       "30/06/2025  138855    136865  139103  136430  7,68B    1,45%\n",
       "01/07/2025  139549    138855  139695  138855  6,35B    0,50%\n",
       "02/07/2025  139051    139586  140049  138384  8,81B   -0,36%\n",
       "03/07/2025  140928    139051  141304  139051  6,08B    1,35%\n",
       "04/07/2025  141264    140928  141564  140597  3,31B    0,24%"
      ]
     },
     "metadata": {},
     "output_type": "display_data"
    }
   ],
   "source": [
    "# Verificando os dados via .head e .tail\n",
    "\n",
    "print(\"Primeiros dados (.head)\")\n",
    "display(dados_origem.head())\n",
    "\n",
    "print(\"\\nUltimos dados (.tail)\")\n",
    "display(dados_origem.tail())"
   ]
  },
  {
   "cell_type": "code",
   "execution_count": 989,
   "id": "1ed3377b",
   "metadata": {},
   "outputs": [],
   "source": [
    "# Ajustar o formato da coluna Data \n",
    "\n",
    "dados_origem.index = pd.to_datetime(dados_origem.index, format = \"%d/%m/%Y\")"
   ]
  },
  {
   "cell_type": "code",
   "execution_count": 990,
   "id": "e2bbdb21",
   "metadata": {},
   "outputs": [
    {
     "name": "stdout",
     "output_type": "stream",
     "text": [
      "Dados do data frame dados_origem\n"
     ]
    },
    {
     "data": {
      "application/vnd.microsoft.datawrangler.viewer.v0+json": {
       "columns": [
        {
         "name": "Data",
         "rawType": "datetime64[ns]",
         "type": "datetime"
        },
        {
         "name": "Ultimo",
         "rawType": "int64",
         "type": "integer"
        },
        {
         "name": "Abertura",
         "rawType": "int64",
         "type": "integer"
        },
        {
         "name": "Maxima",
         "rawType": "int64",
         "type": "integer"
        },
        {
         "name": "Minima",
         "rawType": "int64",
         "type": "integer"
        }
       ],
       "ref": "a977ae40-35ed-4def-92bd-a8ce39c49c86",
       "rows": [
        [
         "2025-06-30 00:00:00",
         "138855",
         "136865",
         "139103",
         "136430"
        ],
        [
         "2025-07-01 00:00:00",
         "139549",
         "138855",
         "139695",
         "138855"
        ],
        [
         "2025-07-02 00:00:00",
         "139051",
         "139586",
         "140049",
         "138384"
        ],
        [
         "2025-07-03 00:00:00",
         "140928",
         "139051",
         "141304",
         "139051"
        ],
        [
         "2025-07-04 00:00:00",
         "141264",
         "140928",
         "141564",
         "140597"
        ]
       ],
       "shape": {
        "columns": 4,
        "rows": 5
       }
      },
      "text/html": [
       "<div>\n",
       "<style scoped>\n",
       "    .dataframe tbody tr th:only-of-type {\n",
       "        vertical-align: middle;\n",
       "    }\n",
       "\n",
       "    .dataframe tbody tr th {\n",
       "        vertical-align: top;\n",
       "    }\n",
       "\n",
       "    .dataframe thead th {\n",
       "        text-align: right;\n",
       "    }\n",
       "</style>\n",
       "<table border=\"1\" class=\"dataframe\">\n",
       "  <thead>\n",
       "    <tr style=\"text-align: right;\">\n",
       "      <th></th>\n",
       "      <th>Ultimo</th>\n",
       "      <th>Abertura</th>\n",
       "      <th>Maxima</th>\n",
       "      <th>Minima</th>\n",
       "    </tr>\n",
       "    <tr>\n",
       "      <th>Data</th>\n",
       "      <th></th>\n",
       "      <th></th>\n",
       "      <th></th>\n",
       "      <th></th>\n",
       "    </tr>\n",
       "  </thead>\n",
       "  <tbody>\n",
       "    <tr>\n",
       "      <th>2025-06-30</th>\n",
       "      <td>138855</td>\n",
       "      <td>136865</td>\n",
       "      <td>139103</td>\n",
       "      <td>136430</td>\n",
       "    </tr>\n",
       "    <tr>\n",
       "      <th>2025-07-01</th>\n",
       "      <td>139549</td>\n",
       "      <td>138855</td>\n",
       "      <td>139695</td>\n",
       "      <td>138855</td>\n",
       "    </tr>\n",
       "    <tr>\n",
       "      <th>2025-07-02</th>\n",
       "      <td>139051</td>\n",
       "      <td>139586</td>\n",
       "      <td>140049</td>\n",
       "      <td>138384</td>\n",
       "    </tr>\n",
       "    <tr>\n",
       "      <th>2025-07-03</th>\n",
       "      <td>140928</td>\n",
       "      <td>139051</td>\n",
       "      <td>141304</td>\n",
       "      <td>139051</td>\n",
       "    </tr>\n",
       "    <tr>\n",
       "      <th>2025-07-04</th>\n",
       "      <td>141264</td>\n",
       "      <td>140928</td>\n",
       "      <td>141564</td>\n",
       "      <td>140597</td>\n",
       "    </tr>\n",
       "  </tbody>\n",
       "</table>\n",
       "</div>"
      ],
      "text/plain": [
       "            Ultimo  Abertura  Maxima  Minima\n",
       "Data                                        \n",
       "2025-06-30  138855    136865  139103  136430\n",
       "2025-07-01  139549    138855  139695  138855\n",
       "2025-07-02  139051    139586  140049  138384\n",
       "2025-07-03  140928    139051  141304  139051\n",
       "2025-07-04  141264    140928  141564  140597"
      ]
     },
     "metadata": {},
     "output_type": "display_data"
    },
    {
     "name": "stdout",
     "output_type": "stream",
     "text": [
      "\n",
      "Dados do data frame dados_yf\n"
     ]
    },
    {
     "data": {
      "application/vnd.microsoft.datawrangler.viewer.v0+json": {
       "columns": [
        {
         "name": "Date",
         "rawType": "datetime64[ns]",
         "type": "datetime"
        },
        {
         "name": "Close",
         "rawType": "float64",
         "type": "float"
        },
        {
         "name": "Open",
         "rawType": "float64",
         "type": "float"
        },
        {
         "name": "High",
         "rawType": "float64",
         "type": "float"
        },
        {
         "name": "Low",
         "rawType": "float64",
         "type": "float"
        }
       ],
       "ref": "b2c2b4a6-2c18-4f7b-9289-e286b7e39ed5",
       "rows": [
        [
         "2025-06-30 00:00:00",
         "138855.0",
         "136865.0",
         "139103.0",
         "136430.0"
        ],
        [
         "2025-07-01 00:00:00",
         "139549.0",
         "138855.0",
         "139695.0",
         "138855.0"
        ],
        [
         "2025-07-02 00:00:00",
         "139051.0",
         "139586.0",
         "140049.0",
         "138384.0"
        ],
        [
         "2025-07-03 00:00:00",
         "140928.0",
         "139051.0",
         "141304.0",
         "139051.0"
        ],
        [
         "2025-07-04 00:00:00",
         "141478.0",
         "140928.0",
         "141537.0",
         "140597.0"
        ]
       ],
       "shape": {
        "columns": 4,
        "rows": 5
       }
      },
      "text/html": [
       "<div>\n",
       "<style scoped>\n",
       "    .dataframe tbody tr th:only-of-type {\n",
       "        vertical-align: middle;\n",
       "    }\n",
       "\n",
       "    .dataframe tbody tr th {\n",
       "        vertical-align: top;\n",
       "    }\n",
       "\n",
       "    .dataframe thead th {\n",
       "        text-align: right;\n",
       "    }\n",
       "</style>\n",
       "<table border=\"1\" class=\"dataframe\">\n",
       "  <thead>\n",
       "    <tr style=\"text-align: right;\">\n",
       "      <th></th>\n",
       "      <th>Close</th>\n",
       "      <th>Open</th>\n",
       "      <th>High</th>\n",
       "      <th>Low</th>\n",
       "    </tr>\n",
       "    <tr>\n",
       "      <th>Date</th>\n",
       "      <th></th>\n",
       "      <th></th>\n",
       "      <th></th>\n",
       "      <th></th>\n",
       "    </tr>\n",
       "  </thead>\n",
       "  <tbody>\n",
       "    <tr>\n",
       "      <th>2025-06-30</th>\n",
       "      <td>138855.0</td>\n",
       "      <td>136865.0</td>\n",
       "      <td>139103.0</td>\n",
       "      <td>136430.0</td>\n",
       "    </tr>\n",
       "    <tr>\n",
       "      <th>2025-07-01</th>\n",
       "      <td>139549.0</td>\n",
       "      <td>138855.0</td>\n",
       "      <td>139695.0</td>\n",
       "      <td>138855.0</td>\n",
       "    </tr>\n",
       "    <tr>\n",
       "      <th>2025-07-02</th>\n",
       "      <td>139051.0</td>\n",
       "      <td>139586.0</td>\n",
       "      <td>140049.0</td>\n",
       "      <td>138384.0</td>\n",
       "    </tr>\n",
       "    <tr>\n",
       "      <th>2025-07-03</th>\n",
       "      <td>140928.0</td>\n",
       "      <td>139051.0</td>\n",
       "      <td>141304.0</td>\n",
       "      <td>139051.0</td>\n",
       "    </tr>\n",
       "    <tr>\n",
       "      <th>2025-07-04</th>\n",
       "      <td>141478.0</td>\n",
       "      <td>140928.0</td>\n",
       "      <td>141537.0</td>\n",
       "      <td>140597.0</td>\n",
       "    </tr>\n",
       "  </tbody>\n",
       "</table>\n",
       "</div>"
      ],
      "text/plain": [
       "               Close      Open      High       Low\n",
       "Date                                              \n",
       "2025-06-30  138855.0  136865.0  139103.0  136430.0\n",
       "2025-07-01  139549.0  138855.0  139695.0  138855.0\n",
       "2025-07-02  139051.0  139586.0  140049.0  138384.0\n",
       "2025-07-03  140928.0  139051.0  141304.0  139051.0\n",
       "2025-07-04  141478.0  140928.0  141537.0  140597.0"
      ]
     },
     "metadata": {},
     "output_type": "display_data"
    }
   ],
   "source": [
    "# Verificand os dados os dados do data frame dados_origem com o dados_yf --> Verificar se há diferença \n",
    "\n",
    "print(\"Dados do data frame dados_origem\")\n",
    "display(dados_origem[['Ultimo', 'Abertura', 'Maxima', 'Minima']].tail())\n",
    "\n",
    "print(\"\\nDados do data frame dados_yf\")\n",
    "display(dados_yf[['Close', 'Open', 'High', 'Low']].query(\"Date >= '2025-06-30 00:00:00' and Date <= '2025-07-04 00:00:00'\"))\n"
   ]
  },
  {
   "cell_type": "code",
   "execution_count": 991,
   "id": "6611e049",
   "metadata": {},
   "outputs": [
    {
     "name": "stdout",
     "output_type": "stream",
     "text": [
      "<class 'pandas.core.frame.DataFrame'>\n",
      "DatetimeIndex: 7555 entries, 1995-01-02 to 2025-07-04\n",
      "Data columns (total 6 columns):\n",
      " #   Column    Non-Null Count  Dtype \n",
      "---  ------    --------------  ----- \n",
      " 0   Ultimo    7555 non-null   int64 \n",
      " 1   Abertura  7555 non-null   int64 \n",
      " 2   Maxima    7555 non-null   int64 \n",
      " 3   Minima    7555 non-null   int64 \n",
      " 4   Volume    7554 non-null   object\n",
      " 5   Variacao  7555 non-null   object\n",
      "dtypes: int64(4), object(2)\n",
      "memory usage: 413.2+ KB\n"
     ]
    }
   ],
   "source": [
    "# Veficiando os dados dados do data frame \n",
    "\n",
    "dados_origem.info()"
   ]
  },
  {
   "cell_type": "code",
   "execution_count": 992,
   "id": "656a58f7",
   "metadata": {},
   "outputs": [
    {
     "data": {
      "application/vnd.microsoft.datawrangler.viewer.v0+json": {
       "columns": [
        {
         "name": "index",
         "rawType": "object",
         "type": "string"
        },
        {
         "name": "0",
         "rawType": "int64",
         "type": "integer"
        }
       ],
       "ref": "c927df22-292d-44b8-9497-82920c985214",
       "rows": [
        [
         "Ultimo",
         "0"
        ],
        [
         "Abertura",
         "0"
        ],
        [
         "Maxima",
         "0"
        ],
        [
         "Minima",
         "0"
        ],
        [
         "Volume",
         "1"
        ],
        [
         "Variacao",
         "0"
        ]
       ],
       "shape": {
        "columns": 1,
        "rows": 6
       }
      },
      "text/plain": [
       "Ultimo      0\n",
       "Abertura    0\n",
       "Maxima      0\n",
       "Minima      0\n",
       "Volume      1\n",
       "Variacao    0\n",
       "dtype: int64"
      ]
     },
     "execution_count": 992,
     "metadata": {},
     "output_type": "execute_result"
    }
   ],
   "source": [
    "# Verificando os dados nulos\n",
    "dados_origem.isnull().sum()"
   ]
  },
  {
   "cell_type": "code",
   "execution_count": 993,
   "id": "52578741",
   "metadata": {},
   "outputs": [
    {
     "data": {
      "application/vnd.microsoft.datawrangler.viewer.v0+json": {
       "columns": [
        {
         "name": "Data",
         "rawType": "datetime64[ns]",
         "type": "datetime"
        },
        {
         "name": "Ultimo",
         "rawType": "int64",
         "type": "integer"
        },
        {
         "name": "Abertura",
         "rawType": "int64",
         "type": "integer"
        },
        {
         "name": "Maxima",
         "rawType": "int64",
         "type": "integer"
        },
        {
         "name": "Minima",
         "rawType": "int64",
         "type": "integer"
        },
        {
         "name": "Volume",
         "rawType": "object",
         "type": "unknown"
        },
        {
         "name": "Variacao",
         "rawType": "object",
         "type": "string"
        }
       ],
       "ref": "1e2535da-0a35-42c2-91b3-9d82200f509e",
       "rows": [
        [
         "2016-02-10 00:00:00",
         "40377",
         "40592",
         "40592",
         "39960",
         null,
         "-0,53%"
        ]
       ],
       "shape": {
        "columns": 6,
        "rows": 1
       }
      },
      "text/html": [
       "<div>\n",
       "<style scoped>\n",
       "    .dataframe tbody tr th:only-of-type {\n",
       "        vertical-align: middle;\n",
       "    }\n",
       "\n",
       "    .dataframe tbody tr th {\n",
       "        vertical-align: top;\n",
       "    }\n",
       "\n",
       "    .dataframe thead th {\n",
       "        text-align: right;\n",
       "    }\n",
       "</style>\n",
       "<table border=\"1\" class=\"dataframe\">\n",
       "  <thead>\n",
       "    <tr style=\"text-align: right;\">\n",
       "      <th></th>\n",
       "      <th>Ultimo</th>\n",
       "      <th>Abertura</th>\n",
       "      <th>Maxima</th>\n",
       "      <th>Minima</th>\n",
       "      <th>Volume</th>\n",
       "      <th>Variacao</th>\n",
       "    </tr>\n",
       "    <tr>\n",
       "      <th>Data</th>\n",
       "      <th></th>\n",
       "      <th></th>\n",
       "      <th></th>\n",
       "      <th></th>\n",
       "      <th></th>\n",
       "      <th></th>\n",
       "    </tr>\n",
       "  </thead>\n",
       "  <tbody>\n",
       "    <tr>\n",
       "      <th>2016-02-10</th>\n",
       "      <td>40377</td>\n",
       "      <td>40592</td>\n",
       "      <td>40592</td>\n",
       "      <td>39960</td>\n",
       "      <td>NaN</td>\n",
       "      <td>-0,53%</td>\n",
       "    </tr>\n",
       "  </tbody>\n",
       "</table>\n",
       "</div>"
      ],
      "text/plain": [
       "            Ultimo  Abertura  Maxima  Minima Volume Variacao\n",
       "Data                                                        \n",
       "2016-02-10   40377     40592   40592   39960    NaN   -0,53%"
      ]
     },
     "execution_count": 993,
     "metadata": {},
     "output_type": "execute_result"
    }
   ],
   "source": [
    "# Verificando os registros que estão nulos \n",
    "# Como para o nosso projeto esse campo Volume não é util, vamos manter esse registro\n",
    "dados_origem[dados_origem.isnull().any(axis=1)]"
   ]
  },
  {
   "cell_type": "code",
   "execution_count": 994,
   "id": "f2de032f",
   "metadata": {},
   "outputs": [
    {
     "data": {
      "application/vnd.microsoft.datawrangler.viewer.v0+json": {
       "columns": [
        {
         "name": "index",
         "rawType": "object",
         "type": "string"
        },
        {
         "name": "Ultimo",
         "rawType": "float64",
         "type": "float"
        },
        {
         "name": "Abertura",
         "rawType": "float64",
         "type": "float"
        },
        {
         "name": "Maxima",
         "rawType": "float64",
         "type": "float"
        },
        {
         "name": "Minima",
         "rawType": "float64",
         "type": "float"
        }
       ],
       "ref": "adb72afe-62ab-411a-a2cf-d544580a360d",
       "rows": [
        [
         "count",
         "7555.0",
         "7555.0",
         "7555.0",
         "7555.0"
        ],
        [
         "mean",
         "53401.15830575777",
         "53384.24818001324",
         "53908.21125082727",
         "52869.34493712773"
        ],
        [
         "std",
         "38204.90104788895",
         "38195.05062206265",
         "38475.11690902926",
         "37923.17070423465"
        ],
        [
         "min",
         "2138.0",
         "2138.0",
         "2449.0",
         "2110.0"
        ],
        [
         "25%",
         "15098.5",
         "15094.0",
         "15275.5",
         "14858.0"
        ],
        [
         "50%",
         "52230.0",
         "52210.0",
         "52836.0",
         "51585.0"
        ],
        [
         "75%",
         "73438.0",
         "73435.0",
         "74463.0",
         "72493.5"
        ],
        [
         "max",
         "141264.0",
         "140928.0",
         "141564.0",
         "140597.0"
        ]
       ],
       "shape": {
        "columns": 4,
        "rows": 8
       }
      },
      "text/html": [
       "<div>\n",
       "<style scoped>\n",
       "    .dataframe tbody tr th:only-of-type {\n",
       "        vertical-align: middle;\n",
       "    }\n",
       "\n",
       "    .dataframe tbody tr th {\n",
       "        vertical-align: top;\n",
       "    }\n",
       "\n",
       "    .dataframe thead th {\n",
       "        text-align: right;\n",
       "    }\n",
       "</style>\n",
       "<table border=\"1\" class=\"dataframe\">\n",
       "  <thead>\n",
       "    <tr style=\"text-align: right;\">\n",
       "      <th></th>\n",
       "      <th>Ultimo</th>\n",
       "      <th>Abertura</th>\n",
       "      <th>Maxima</th>\n",
       "      <th>Minima</th>\n",
       "    </tr>\n",
       "  </thead>\n",
       "  <tbody>\n",
       "    <tr>\n",
       "      <th>count</th>\n",
       "      <td>7555.000000</td>\n",
       "      <td>7555.000000</td>\n",
       "      <td>7555.000000</td>\n",
       "      <td>7555.000000</td>\n",
       "    </tr>\n",
       "    <tr>\n",
       "      <th>mean</th>\n",
       "      <td>53401.158306</td>\n",
       "      <td>53384.248180</td>\n",
       "      <td>53908.211251</td>\n",
       "      <td>52869.344937</td>\n",
       "    </tr>\n",
       "    <tr>\n",
       "      <th>std</th>\n",
       "      <td>38204.901048</td>\n",
       "      <td>38195.050622</td>\n",
       "      <td>38475.116909</td>\n",
       "      <td>37923.170704</td>\n",
       "    </tr>\n",
       "    <tr>\n",
       "      <th>min</th>\n",
       "      <td>2138.000000</td>\n",
       "      <td>2138.000000</td>\n",
       "      <td>2449.000000</td>\n",
       "      <td>2110.000000</td>\n",
       "    </tr>\n",
       "    <tr>\n",
       "      <th>25%</th>\n",
       "      <td>15098.500000</td>\n",
       "      <td>15094.000000</td>\n",
       "      <td>15275.500000</td>\n",
       "      <td>14858.000000</td>\n",
       "    </tr>\n",
       "    <tr>\n",
       "      <th>50%</th>\n",
       "      <td>52230.000000</td>\n",
       "      <td>52210.000000</td>\n",
       "      <td>52836.000000</td>\n",
       "      <td>51585.000000</td>\n",
       "    </tr>\n",
       "    <tr>\n",
       "      <th>75%</th>\n",
       "      <td>73438.000000</td>\n",
       "      <td>73435.000000</td>\n",
       "      <td>74463.000000</td>\n",
       "      <td>72493.500000</td>\n",
       "    </tr>\n",
       "    <tr>\n",
       "      <th>max</th>\n",
       "      <td>141264.000000</td>\n",
       "      <td>140928.000000</td>\n",
       "      <td>141564.000000</td>\n",
       "      <td>140597.000000</td>\n",
       "    </tr>\n",
       "  </tbody>\n",
       "</table>\n",
       "</div>"
      ],
      "text/plain": [
       "              Ultimo       Abertura         Maxima         Minima\n",
       "count    7555.000000    7555.000000    7555.000000    7555.000000\n",
       "mean    53401.158306   53384.248180   53908.211251   52869.344937\n",
       "std     38204.901048   38195.050622   38475.116909   37923.170704\n",
       "min      2138.000000    2138.000000    2449.000000    2110.000000\n",
       "25%     15098.500000   15094.000000   15275.500000   14858.000000\n",
       "50%     52230.000000   52210.000000   52836.000000   51585.000000\n",
       "75%     73438.000000   73435.000000   74463.000000   72493.500000\n",
       "max    141264.000000  140928.000000  141564.000000  140597.000000"
      ]
     },
     "execution_count": 994,
     "metadata": {},
     "output_type": "execute_result"
    }
   ],
   "source": [
    "# Gerando a estatistica descritiva do data frame \n",
    "\n",
    "dados_origem.describe()"
   ]
  },
  {
   "cell_type": "code",
   "execution_count": 995,
   "id": "e8d6b05a",
   "metadata": {},
   "outputs": [
    {
     "name": "stdout",
     "output_type": "stream",
     "text": [
      "Data inicial é 1995-01-02 00:00:00\n",
      "Data final   é 2025-07-04 00:00:00\n"
     ]
    }
   ],
   "source": [
    "# Verificando o intervalo de data dos dados \n",
    "\n",
    "print(f\"Data inicial é {dados_origem.index.min()}\")\n",
    "print(f\"Data final   é {dados_origem.index.max()}\")"
   ]
  },
  {
   "cell_type": "code",
   "execution_count": 996,
   "id": "9849cfa0",
   "metadata": {},
   "outputs": [
    {
     "data": {
      "application/vnd.microsoft.datawrangler.viewer.v0+json": {
       "columns": [
        {
         "name": "Data",
         "rawType": "datetime64[ns]",
         "type": "datetime"
        },
        {
         "name": "Ultimo",
         "rawType": "int64",
         "type": "integer"
        }
       ],
       "ref": "6dca38e8-4465-4441-afee-7e868f60ba6b",
       "rows": [
        [
         "2025-06-30 00:00:00",
         "138855"
        ],
        [
         "2025-07-01 00:00:00",
         "139549"
        ],
        [
         "2025-07-02 00:00:00",
         "139051"
        ],
        [
         "2025-07-03 00:00:00",
         "140928"
        ],
        [
         "2025-07-04 00:00:00",
         "141264"
        ]
       ],
       "shape": {
        "columns": 1,
        "rows": 5
       }
      },
      "text/plain": [
       "Data\n",
       "2025-06-30    138855\n",
       "2025-07-01    139549\n",
       "2025-07-02    139051\n",
       "2025-07-03    140928\n",
       "2025-07-04    141264\n",
       "Name: Ultimo, dtype: int64"
      ]
     },
     "execution_count": 996,
     "metadata": {},
     "output_type": "execute_result"
    }
   ],
   "source": [
    "# Criando um novo data frame apenas com os campos necessarios\n",
    "\n",
    "dados_ultimo = dados_origem[\"Ultimo\"].copy()\n",
    "dados_ultimo.tail()"
   ]
  },
  {
   "cell_type": "code",
   "execution_count": 997,
   "id": "d862ae69",
   "metadata": {},
   "outputs": [
    {
     "data": {
      "image/png": "[encoded data removed]",
      "text/plain": [
       "<Figure size 1500x500 with 1 Axes>"
      ]
     },
     "metadata": {},
     "output_type": "display_data"
    }
   ],
   "source": [
    "# Plotando um grafico de linha \n",
    "\n",
    "plt.figure(figsize=(15,5))\n",
    "plt.plot(dados_ultimo.index,dados_ultimo)\n",
    "plt.title(\"Evolução do indice Ibovespa (IBOV)\")\n",
    "plt.show()"
   ]
  },
  {
   "cell_type": "code",
   "execution_count": 998,
   "id": "35a3bcd9",
   "metadata": {},
   "outputs": [
    {
     "data": {
      "image/png": "[encoded data removed]",
      "text/plain": [
       "<Figure size 1500x1000 with 4 Axes>"
      ]
     },
     "metadata": {},
     "output_type": "display_data"
    }
   ],
   "source": [
    "# Realizar a decomposição da seria temporal -->  tendência (trend), sazonalidade (seasonal) e resíduo (resid) e gerar o graficos \n",
    "\n",
    "periodo = 252 # Média de dias uteis\n",
    "\n",
    "resultados = seasonal_decompose(dados_ultimo, period=periodo)\n",
    "\n",
    "fig, (ax1,ax2,ax3,ax4) = plt.subplots(4,1, figsize = (15,10))\n",
    "\n",
    "resultados.observed.plot(ax=ax1)\n",
    "ax1.set_title(\"Serie Real\")\n",
    "\n",
    "resultados.trend.plot(ax=ax2)\n",
    "ax2.set_title(\"Tendência\")\n",
    "\n",
    "resultados.seasonal.plot(ax=ax3)\n",
    "ax3.set_title(\"Sazonalidade\")\n",
    "\n",
    "resultados.resid.plot(ax=ax4)\n",
    "ax4.set_title(\"Resíduo\")\n",
    "\n",
    "plt.tight_layout()\n",
    "plt.show()"
   ]
  },
  {
   "cell_type": "markdown",
   "id": "158cd310",
   "metadata": {},
   "source": [
    "##### Feature Engineering"
   ]
  },
  {
   "cell_type": "code",
   "execution_count": 999,
   "id": "3fc0fd41",
   "metadata": {},
   "outputs": [],
   "source": [
    "# Criar um novo data frame com os dados originais\n",
    "\n",
    "dados = dados_origem[[\"Ultimo\", \"Abertura\", \"Maxima\", \"Minima\"]].copy()"
   ]
  },
  {
   "cell_type": "code",
   "execution_count": 1000,
   "id": "ceef0009",
   "metadata": {},
   "outputs": [],
   "source": [
    "# Alterando o nome das colunas \n",
    "\n",
    "dados.index.name = \"data\"\n",
    "dados = dados.rename(columns={\"Ultimo\":\"ultimo\", \"Abertura\":\"abertura\", \"Maxima\":\"maxima\", \"Minima\":\"minima\"})"
   ]
  },
  {
   "cell_type": "code",
   "execution_count": 1001,
   "id": "e0fdc9d5",
   "metadata": {},
   "outputs": [],
   "source": [
    "# Ordernando os dados \n",
    "\n",
    "dados = dados.sort_index()"
   ]
  },
  {
   "cell_type": "code",
   "execution_count": 1002,
   "id": "89edf831",
   "metadata": {},
   "outputs": [
    {
     "data": {
      "application/vnd.microsoft.datawrangler.viewer.v0+json": {
       "columns": [
        {
         "name": "data",
         "rawType": "datetime64[ns]",
         "type": "datetime"
        },
        {
         "name": "ultimo",
         "rawType": "int64",
         "type": "integer"
        },
        {
         "name": "abertura",
         "rawType": "int64",
         "type": "integer"
        },
        {
         "name": "maxima",
         "rawType": "int64",
         "type": "integer"
        },
        {
         "name": "minima",
         "rawType": "int64",
         "type": "integer"
        },
        {
         "name": "target",
         "rawType": "int32",
         "type": "integer"
        }
       ],
       "ref": "ca9f658d-b557-464b-99d6-fbaac1aa7991",
       "rows": [
        [
         "2025-06-30 00:00:00",
         "138855",
         "136865",
         "139103",
         "136430",
         "1"
        ],
        [
         "2025-07-01 00:00:00",
         "139549",
         "138855",
         "139695",
         "138855",
         "0"
        ],
        [
         "2025-07-02 00:00:00",
         "139051",
         "139586",
         "140049",
         "138384",
         "1"
        ],
        [
         "2025-07-03 00:00:00",
         "140928",
         "139051",
         "141304",
         "139051",
         "1"
        ],
        [
         "2025-07-04 00:00:00",
         "141264",
         "140928",
         "141564",
         "140597",
         "0"
        ]
       ],
       "shape": {
        "columns": 5,
        "rows": 5
       }
      },
      "text/html": [
       "<div>\n",
       "<style scoped>\n",
       "    .dataframe tbody tr th:only-of-type {\n",
       "        vertical-align: middle;\n",
       "    }\n",
       "\n",
       "    .dataframe tbody tr th {\n",
       "        vertical-align: top;\n",
       "    }\n",
       "\n",
       "    .dataframe thead th {\n",
       "        text-align: right;\n",
       "    }\n",
       "</style>\n",
       "<table border=\"1\" class=\"dataframe\">\n",
       "  <thead>\n",
       "    <tr style=\"text-align: right;\">\n",
       "      <th></th>\n",
       "      <th>ultimo</th>\n",
       "      <th>abertura</th>\n",
       "      <th>maxima</th>\n",
       "      <th>minima</th>\n",
       "      <th>target</th>\n",
       "    </tr>\n",
       "    <tr>\n",
       "      <th>data</th>\n",
       "      <th></th>\n",
       "      <th></th>\n",
       "      <th></th>\n",
       "      <th></th>\n",
       "      <th></th>\n",
       "    </tr>\n",
       "  </thead>\n",
       "  <tbody>\n",
       "    <tr>\n",
       "      <th>2025-06-30</th>\n",
       "      <td>138855</td>\n",
       "      <td>136865</td>\n",
       "      <td>139103</td>\n",
       "      <td>136430</td>\n",
       "      <td>1</td>\n",
       "    </tr>\n",
       "    <tr>\n",
       "      <th>2025-07-01</th>\n",
       "      <td>139549</td>\n",
       "      <td>138855</td>\n",
       "      <td>139695</td>\n",
       "      <td>138855</td>\n",
       "      <td>0</td>\n",
       "    </tr>\n",
       "    <tr>\n",
       "      <th>2025-07-02</th>\n",
       "      <td>139051</td>\n",
       "      <td>139586</td>\n",
       "      <td>140049</td>\n",
       "      <td>138384</td>\n",
       "      <td>1</td>\n",
       "    </tr>\n",
       "    <tr>\n",
       "      <th>2025-07-03</th>\n",
       "      <td>140928</td>\n",
       "      <td>139051</td>\n",
       "      <td>141304</td>\n",
       "      <td>139051</td>\n",
       "      <td>1</td>\n",
       "    </tr>\n",
       "    <tr>\n",
       "      <th>2025-07-04</th>\n",
       "      <td>141264</td>\n",
       "      <td>140928</td>\n",
       "      <td>141564</td>\n",
       "      <td>140597</td>\n",
       "      <td>0</td>\n",
       "    </tr>\n",
       "  </tbody>\n",
       "</table>\n",
       "</div>"
      ],
      "text/plain": [
       "            ultimo  abertura  maxima  minima  target\n",
       "data                                                \n",
       "2025-06-30  138855    136865  139103  136430       1\n",
       "2025-07-01  139549    138855  139695  138855       0\n",
       "2025-07-02  139051    139586  140049  138384       1\n",
       "2025-07-03  140928    139051  141304  139051       1\n",
       "2025-07-04  141264    140928  141564  140597       0"
      ]
     },
     "execution_count": 1002,
     "metadata": {},
     "output_type": "execute_result"
    }
   ],
   "source": [
    "# Criar a variavel Target (Alvo) --> 1 para sobe e 0 para desce \n",
    "# Avaliamos o valor atual com o valor do proximo dia e dessa forma conseguimos definir se o dia seguinte subiu (1) ou desceu (0)\n",
    "\n",
    "#dados['ultimo_amanha'] = dados[\"ultimo\"].shift(-1) # --> Etapa apenas para enteder os calculos e não é necessarios para o modelo\n",
    "#dados['ultimo_diferenca'] = dados[\"ultimo\"].shift(-1) - dados[\"ultimo\"] # --> Etapa apenas para enteder os calculos e não é necessarios para o modelo\n",
    "\n",
    "dados['target'] = (dados[\"ultimo\"].shift(-1) > dados[\"ultimo\"]).astype(int)\n",
    "dados.tail()\n"
   ]
  },
  {
   "cell_type": "code",
   "execution_count": 1003,
   "id": "be806019",
   "metadata": {},
   "outputs": [
    {
     "data": {
      "application/vnd.microsoft.datawrangler.viewer.v0+json": {
       "columns": [
        {
         "name": "data",
         "rawType": "datetime64[ns]",
         "type": "datetime"
        },
        {
         "name": "ultimo",
         "rawType": "int64",
         "type": "integer"
        },
        {
         "name": "abertura",
         "rawType": "int64",
         "type": "integer"
        },
        {
         "name": "maxima",
         "rawType": "int64",
         "type": "integer"
        },
        {
         "name": "minima",
         "rawType": "int64",
         "type": "integer"
        },
        {
         "name": "target",
         "rawType": "int32",
         "type": "integer"
        },
        {
         "name": "lag_1",
         "rawType": "float64",
         "type": "float"
        },
        {
         "name": "lag_2",
         "rawType": "float64",
         "type": "float"
        },
        {
         "name": "lag_3",
         "rawType": "float64",
         "type": "float"
        },
        {
         "name": "lag_4",
         "rawType": "float64",
         "type": "float"
        },
        {
         "name": "lag_5",
         "rawType": "float64",
         "type": "float"
        },
        {
         "name": "lag_6",
         "rawType": "float64",
         "type": "float"
        },
        {
         "name": "lag_7",
         "rawType": "float64",
         "type": "float"
        },
        {
         "name": "lag_8",
         "rawType": "float64",
         "type": "float"
        },
        {
         "name": "lag_9",
         "rawType": "float64",
         "type": "float"
        },
        {
         "name": "lag_10",
         "rawType": "float64",
         "type": "float"
        },
        {
         "name": "lag_11",
         "rawType": "float64",
         "type": "float"
        },
        {
         "name": "lag_12",
         "rawType": "float64",
         "type": "float"
        },
        {
         "name": "lag_13",
         "rawType": "float64",
         "type": "float"
        },
        {
         "name": "lag_14",
         "rawType": "float64",
         "type": "float"
        },
        {
         "name": "lag_15",
         "rawType": "float64",
         "type": "float"
        },
        {
         "name": "lag_16",
         "rawType": "float64",
         "type": "float"
        },
        {
         "name": "lag_17",
         "rawType": "float64",
         "type": "float"
        },
        {
         "name": "lag_18",
         "rawType": "float64",
         "type": "float"
        },
        {
         "name": "lag_19",
         "rawType": "float64",
         "type": "float"
        },
        {
         "name": "lag_20",
         "rawType": "float64",
         "type": "float"
        }
       ],
       "ref": "cd86d518-3335-4604-84fd-631c240428b1",
       "rows": [
        [
         "2025-06-30 00:00:00",
         "138855",
         "136865",
         "139103",
         "136430",
         "1",
         "0.014532462408487046",
         "0.012697463424595545",
         "0.022744849632090336",
         "0.012320927350271571",
         "0.0168728167497858",
         "0.012682692027188747",
         "0.0009948312030969575",
         "0.00010803802938630369",
         "-0.002879588671224176",
         "0.011966796149052827",
         "0.007656023222061048",
         "0.012594072691208158",
         "0.017729924653317353",
         "0.023257356354873693",
         "0.020227476451484927",
         "0.019223993658064042",
         "0.013525349994890634",
         "0.009516816192401079",
         "0.015118395753982439",
         "0.013340436556299018"
        ],
        [
         "2025-07-01 00:00:00",
         "139549",
         "138855",
         "139695",
         "138855",
         "0",
         "0.004998019516762042",
         "0.01960311545599347",
         "0.017758945111367108",
         "0.027856548351219423",
         "0.017380527102395016",
         "0.021955166933966153",
         "0.017744099886227716",
         "0.005997822905628114",
         "0.005106597522327894",
         "0.0021040386051589532",
         "0.01702462594652121",
         "0.01269230769230778",
         "0.017655037629076498",
         "0.022816558679527477",
         "0.028371616592605786",
         "0.025326593290326382",
         "0.024318095070319234",
         "0.018590969474898245",
         "0.01456240094223027",
         "0.020191977307784992"
        ],
        [
         "2025-07-02 00:00:00",
         "139051",
         "139586",
         "140049",
         "138384",
         "1",
         "-0.003568638972690552",
         "0.0014115444168376623",
         "0.015964520041500396",
         "0.014126930875038246",
         "0.024188499414437903",
         "0.013749863303320842",
         "0.018308177896902977",
         "0.014112138627147885",
         "0.0024077798683650453",
         "0.0015197349467013233",
         "-0.0014721089216981342",
         "0.013395232230182241",
         "0.009078374455733007",
         "0.014023394201038375",
         "0.019166495646310455",
         "0.024701729563224584",
         "0.021667572849774386",
         "0.02066267359581908",
         "0.014955986043999392",
         "0.010941794018001216"
        ],
        [
         "2025-07-03 00:00:00",
         "140928",
         "139051",
         "141304",
         "139051",
         "1",
         "0.013498644382277103",
         "0.009881833621165237",
         "0.014929242735227444",
         "0.029678663802551464",
         "0.027816269673410554",
         "0.03801365574845139",
         "0.027434112200634297",
         "0.032053957861897686",
         "0.027801277750226117",
         "0.01593892601483593",
         "0.01503889369057898",
         "0.012006663985752786",
         "0.027074694088752516",
         "0.022699564586357024",
         "0.027711335394667858",
         "0.032923861737371274",
         "0.03853381380850274",
         "0.03545870009257768",
         "0.03444023606095303",
         "0.028656515963270568"
        ],
        [
         "2025-07-04 00:00:00",
         "141264",
         "140928",
         "141564",
         "140597",
         "0",
         "0.0023841961852861804",
         "0.015915023984005794",
         "0.012289590036474562",
         "0.017349033164091976",
         "0.03213361974485984",
         "0.03026678530274074",
         "0.04048848394676163",
         "0.029883716691575746",
         "0.034514576971241606",
         "0.03025175763587029",
         "0.01836112372672427",
         "0.017458945548833205",
         "0.014419486413511873",
         "0.02952344165640275",
         "0.02513788098693759",
         "0.03016160084009112",
         "0.035386554868216624",
         "0.04100988216567547",
         "0.0379274367753597",
         "0.03690654452567599"
        ]
       ],
       "shape": {
        "columns": 25,
        "rows": 5
       }
      },
      "text/html": [
       "<div>\n",
       "<style scoped>\n",
       "    .dataframe tbody tr th:only-of-type {\n",
       "        vertical-align: middle;\n",
       "    }\n",
       "\n",
       "    .dataframe tbody tr th {\n",
       "        vertical-align: top;\n",
       "    }\n",
       "\n",
       "    .dataframe thead th {\n",
       "        text-align: right;\n",
       "    }\n",
       "</style>\n",
       "<table border=\"1\" class=\"dataframe\">\n",
       "  <thead>\n",
       "    <tr style=\"text-align: right;\">\n",
       "      <th></th>\n",
       "      <th>ultimo</th>\n",
       "      <th>abertura</th>\n",
       "      <th>maxima</th>\n",
       "      <th>minima</th>\n",
       "      <th>target</th>\n",
       "      <th>lag_1</th>\n",
       "      <th>lag_2</th>\n",
       "      <th>lag_3</th>\n",
       "      <th>lag_4</th>\n",
       "      <th>lag_5</th>\n",
       "      <th>...</th>\n",
       "      <th>lag_11</th>\n",
       "      <th>lag_12</th>\n",
       "      <th>lag_13</th>\n",
       "      <th>lag_14</th>\n",
       "      <th>lag_15</th>\n",
       "      <th>lag_16</th>\n",
       "      <th>lag_17</th>\n",
       "      <th>lag_18</th>\n",
       "      <th>lag_19</th>\n",
       "      <th>lag_20</th>\n",
       "    </tr>\n",
       "    <tr>\n",
       "      <th>data</th>\n",
       "      <th></th>\n",
       "      <th></th>\n",
       "      <th></th>\n",
       "      <th></th>\n",
       "      <th></th>\n",
       "      <th></th>\n",
       "      <th></th>\n",
       "      <th></th>\n",
       "      <th></th>\n",
       "      <th></th>\n",
       "      <th></th>\n",
       "      <th></th>\n",
       "      <th></th>\n",
       "      <th></th>\n",
       "      <th></th>\n",
       "      <th></th>\n",
       "      <th></th>\n",
       "      <th></th>\n",
       "      <th></th>\n",
       "      <th></th>\n",
       "      <th></th>\n",
       "    </tr>\n",
       "  </thead>\n",
       "  <tbody>\n",
       "    <tr>\n",
       "      <th>2025-06-30</th>\n",
       "      <td>138855</td>\n",
       "      <td>136865</td>\n",
       "      <td>139103</td>\n",
       "      <td>136430</td>\n",
       "      <td>1</td>\n",
       "      <td>0.014532</td>\n",
       "      <td>0.012697</td>\n",
       "      <td>0.022745</td>\n",
       "      <td>0.012321</td>\n",
       "      <td>0.016873</td>\n",
       "      <td>...</td>\n",
       "      <td>0.007656</td>\n",
       "      <td>0.012594</td>\n",
       "      <td>0.017730</td>\n",
       "      <td>0.023257</td>\n",
       "      <td>0.020227</td>\n",
       "      <td>0.019224</td>\n",
       "      <td>0.013525</td>\n",
       "      <td>0.009517</td>\n",
       "      <td>0.015118</td>\n",
       "      <td>0.013340</td>\n",
       "    </tr>\n",
       "    <tr>\n",
       "      <th>2025-07-01</th>\n",
       "      <td>139549</td>\n",
       "      <td>138855</td>\n",
       "      <td>139695</td>\n",
       "      <td>138855</td>\n",
       "      <td>0</td>\n",
       "      <td>0.004998</td>\n",
       "      <td>0.019603</td>\n",
       "      <td>0.017759</td>\n",
       "      <td>0.027857</td>\n",
       "      <td>0.017381</td>\n",
       "      <td>...</td>\n",
       "      <td>0.017025</td>\n",
       "      <td>0.012692</td>\n",
       "      <td>0.017655</td>\n",
       "      <td>0.022817</td>\n",
       "      <td>0.028372</td>\n",
       "      <td>0.025327</td>\n",
       "      <td>0.024318</td>\n",
       "      <td>0.018591</td>\n",
       "      <td>0.014562</td>\n",
       "      <td>0.020192</td>\n",
       "    </tr>\n",
       "    <tr>\n",
       "      <th>2025-07-02</th>\n",
       "      <td>139051</td>\n",
       "      <td>139586</td>\n",
       "      <td>140049</td>\n",
       "      <td>138384</td>\n",
       "      <td>1</td>\n",
       "      <td>-0.003569</td>\n",
       "      <td>0.001412</td>\n",
       "      <td>0.015965</td>\n",
       "      <td>0.014127</td>\n",
       "      <td>0.024188</td>\n",
       "      <td>...</td>\n",
       "      <td>-0.001472</td>\n",
       "      <td>0.013395</td>\n",
       "      <td>0.009078</td>\n",
       "      <td>0.014023</td>\n",
       "      <td>0.019166</td>\n",
       "      <td>0.024702</td>\n",
       "      <td>0.021668</td>\n",
       "      <td>0.020663</td>\n",
       "      <td>0.014956</td>\n",
       "      <td>0.010942</td>\n",
       "    </tr>\n",
       "    <tr>\n",
       "      <th>2025-07-03</th>\n",
       "      <td>140928</td>\n",
       "      <td>139051</td>\n",
       "      <td>141304</td>\n",
       "      <td>139051</td>\n",
       "      <td>1</td>\n",
       "      <td>0.013499</td>\n",
       "      <td>0.009882</td>\n",
       "      <td>0.014929</td>\n",
       "      <td>0.029679</td>\n",
       "      <td>0.027816</td>\n",
       "      <td>...</td>\n",
       "      <td>0.015039</td>\n",
       "      <td>0.012007</td>\n",
       "      <td>0.027075</td>\n",
       "      <td>0.022700</td>\n",
       "      <td>0.027711</td>\n",
       "      <td>0.032924</td>\n",
       "      <td>0.038534</td>\n",
       "      <td>0.035459</td>\n",
       "      <td>0.034440</td>\n",
       "      <td>0.028657</td>\n",
       "    </tr>\n",
       "    <tr>\n",
       "      <th>2025-07-04</th>\n",
       "      <td>141264</td>\n",
       "      <td>140928</td>\n",
       "      <td>141564</td>\n",
       "      <td>140597</td>\n",
       "      <td>0</td>\n",
       "      <td>0.002384</td>\n",
       "      <td>0.015915</td>\n",
       "      <td>0.012290</td>\n",
       "      <td>0.017349</td>\n",
       "      <td>0.032134</td>\n",
       "      <td>...</td>\n",
       "      <td>0.018361</td>\n",
       "      <td>0.017459</td>\n",
       "      <td>0.014419</td>\n",
       "      <td>0.029523</td>\n",
       "      <td>0.025138</td>\n",
       "      <td>0.030162</td>\n",
       "      <td>0.035387</td>\n",
       "      <td>0.041010</td>\n",
       "      <td>0.037927</td>\n",
       "      <td>0.036907</td>\n",
       "    </tr>\n",
       "  </tbody>\n",
       "</table>\n",
       "<p>5 rows × 25 columns</p>\n",
       "</div>"
      ],
      "text/plain": [
       "            ultimo  abertura  maxima  minima  target     lag_1     lag_2  \\\n",
       "data                                                                       \n",
       "2025-06-30  138855    136865  139103  136430       1  0.014532  0.012697   \n",
       "2025-07-01  139549    138855  139695  138855       0  0.004998  0.019603   \n",
       "2025-07-02  139051    139586  140049  138384       1 -0.003569  0.001412   \n",
       "2025-07-03  140928    139051  141304  139051       1  0.013499  0.009882   \n",
       "2025-07-04  141264    140928  141564  140597       0  0.002384  0.015915   \n",
       "\n",
       "               lag_3     lag_4     lag_5  ...    lag_11    lag_12    lag_13  \\\n",
       "data                                      ...                                 \n",
       "2025-06-30  0.022745  0.012321  0.016873  ...  0.007656  0.012594  0.017730   \n",
       "2025-07-01  0.017759  0.027857  0.017381  ...  0.017025  0.012692  0.017655   \n",
       "2025-07-02  0.015965  0.014127  0.024188  ... -0.001472  0.013395  0.009078   \n",
       "2025-07-03  0.014929  0.029679  0.027816  ...  0.015039  0.012007  0.027075   \n",
       "2025-07-04  0.012290  0.017349  0.032134  ...  0.018361  0.017459  0.014419   \n",
       "\n",
       "              lag_14    lag_15    lag_16    lag_17    lag_18    lag_19  \\\n",
       "data                                                                     \n",
       "2025-06-30  0.023257  0.020227  0.019224  0.013525  0.009517  0.015118   \n",
       "2025-07-01  0.022817  0.028372  0.025327  0.024318  0.018591  0.014562   \n",
       "2025-07-02  0.014023  0.019166  0.024702  0.021668  0.020663  0.014956   \n",
       "2025-07-03  0.022700  0.027711  0.032924  0.038534  0.035459  0.034440   \n",
       "2025-07-04  0.029523  0.025138  0.030162  0.035387  0.041010  0.037927   \n",
       "\n",
       "              lag_20  \n",
       "data                  \n",
       "2025-06-30  0.013340  \n",
       "2025-07-01  0.020192  \n",
       "2025-07-02  0.010942  \n",
       "2025-07-03  0.028657  \n",
       "2025-07-04  0.036907  \n",
       "\n",
       "[5 rows x 25 columns]"
      ]
     },
     "execution_count": 1003,
     "metadata": {},
     "output_type": "execute_result"
    }
   ],
   "source": [
    "# Criar as variações percentuais (lags) --> Comparar percentualmente o dia de hoje com n dias anteriores\n",
    "\n",
    "qtd_lags = 20\n",
    "\n",
    "for i in range (1, qtd_lags+1):\n",
    "    dados[f\"lag_{i}\"] = dados[\"ultimo\"].pct_change(i)\n",
    "\n",
    "dados.tail()"
   ]
  },
  {
   "cell_type": "code",
   "execution_count": 1004,
   "id": "673798d0",
   "metadata": {},
   "outputs": [
    {
     "ename": "IndentationError",
     "evalue": "expected an indented block after 'for' statement on line 5 (3008299796.py, line 9)",
     "output_type": "error",
     "traceback": [
      "\u001b[1;36m  Cell \u001b[1;32mIn[1004], line 9\u001b[1;36m\u001b[0m\n\u001b[1;33m    dados.tail()\u001b[0m\n\u001b[1;37m    ^\u001b[0m\n\u001b[1;31mIndentationError\u001b[0m\u001b[1;31m:\u001b[0m expected an indented block after 'for' statement on line 5\n"
     ]
    }
   ],
   "source": [
    "# Criando as médias moveis\n",
    "\n",
    "dias_medias = [7, 14, 21] \n",
    "\n",
    "for dias in dias_medias:\n",
    "    dados[f\"ma_{dias}\"] = dados[\"ultimo\"].rolling(window=dias).mean()\n",
    "\n",
    "dados.tail()"
   ]
  },
  {
   "cell_type": "code",
   "execution_count": null,
   "id": "89552a53",
   "metadata": {},
   "outputs": [],
   "source": [
    "# Criando RSI --> Índice de Força Relativa\n",
    "# Util para medir a velocidade e a magnitude das recentes mudanças do preço de um ativo\n",
    "\n",
    "janela_ideal = 14\n",
    "\n",
    "dados[\"rsi\"] = ta.rsi(dados[\"ultimo\"], length=14)\n",
    " \n",
    "dados.tail()"
   ]
  },
  {
   "cell_type": "code",
   "execution_count": null,
   "id": "1fa0f261",
   "metadata": {},
   "outputs": [],
   "source": [
    "# Criando o MACD --> Convergência/Divergência de Médias Móveis\n",
    "\n",
    "# fast = 12\n",
    "# slow = 26\n",
    "# signal = 9\n",
    "\n",
    "# macd = ta.macd(dados[\"ultimo\"], fast = fast, slow = slow, signal = signal)\n",
    "# dados = pd.concat([dados, macd], axis = 1)\n",
    "\n",
    "# dados.tail()"
   ]
  },
  {
   "cell_type": "code",
   "execution_count": null,
   "id": "d2655c56",
   "metadata": {},
   "outputs": [
    {
     "data": {
      "application/vnd.microsoft.datawrangler.viewer.v0+json": {
       "columns": [
        {
         "name": "data",
         "rawType": "datetime64[ns]",
         "type": "datetime"
        },
        {
         "name": "ultimo",
         "rawType": "int64",
         "type": "integer"
        },
        {
         "name": "abertura",
         "rawType": "int64",
         "type": "integer"
        },
        {
         "name": "maxima",
         "rawType": "int64",
         "type": "integer"
        },
        {
         "name": "minima",
         "rawType": "int64",
         "type": "integer"
        },
        {
         "name": "target",
         "rawType": "int32",
         "type": "integer"
        },
        {
         "name": "lag_1",
         "rawType": "float64",
         "type": "float"
        },
        {
         "name": "lag_2",
         "rawType": "float64",
         "type": "float"
        },
        {
         "name": "lag_3",
         "rawType": "float64",
         "type": "float"
        },
        {
         "name": "lag_4",
         "rawType": "float64",
         "type": "float"
        },
        {
         "name": "lag_5",
         "rawType": "float64",
         "type": "float"
        },
        {
         "name": "lag_6",
         "rawType": "float64",
         "type": "float"
        },
        {
         "name": "lag_7",
         "rawType": "float64",
         "type": "float"
        },
        {
         "name": "lag_8",
         "rawType": "float64",
         "type": "float"
        },
        {
         "name": "lag_9",
         "rawType": "float64",
         "type": "float"
        },
        {
         "name": "lag_10",
         "rawType": "float64",
         "type": "float"
        },
        {
         "name": "lag_11",
         "rawType": "float64",
         "type": "float"
        },
        {
         "name": "lag_12",
         "rawType": "float64",
         "type": "float"
        },
        {
         "name": "lag_13",
         "rawType": "float64",
         "type": "float"
        },
        {
         "name": "lag_14",
         "rawType": "float64",
         "type": "float"
        },
        {
         "name": "lag_15",
         "rawType": "float64",
         "type": "float"
        },
        {
         "name": "lag_16",
         "rawType": "float64",
         "type": "float"
        },
        {
         "name": "lag_17",
         "rawType": "float64",
         "type": "float"
        },
        {
         "name": "lag_18",
         "rawType": "float64",
         "type": "float"
        },
        {
         "name": "lag_19",
         "rawType": "float64",
         "type": "float"
        },
        {
         "name": "lag_20",
         "rawType": "float64",
         "type": "float"
        }
       ],
       "ref": "b7b4e87a-d4ab-4582-9acd-3e93af6a84bc",
       "rows": [
        [
         "2025-06-30 00:00:00",
         "138855",
         "136865",
         "139103",
         "136430",
         "1",
         "0.014532462408487046",
         "0.012697463424595545",
         "0.022744849632090336",
         "0.012320927350271571",
         "0.0168728167497858",
         "0.012682692027188747",
         "0.0009948312030969575",
         "0.00010803802938630369",
         "-0.002879588671224176",
         "0.011966796149052827",
         "0.007656023222061048",
         "0.012594072691208158",
         "0.017729924653317353",
         "0.023257356354873693",
         "0.020227476451484927",
         "0.019223993658064042",
         "0.013525349994890634",
         "0.009516816192401079",
         "0.015118395753982439",
         "0.013340436556299018"
        ],
        [
         "2025-07-01 00:00:00",
         "139549",
         "138855",
         "139695",
         "138855",
         "0",
         "0.004998019516762042",
         "0.01960311545599347",
         "0.017758945111367108",
         "0.027856548351219423",
         "0.017380527102395016",
         "0.021955166933966153",
         "0.017744099886227716",
         "0.005997822905628114",
         "0.005106597522327894",
         "0.0021040386051589532",
         "0.01702462594652121",
         "0.01269230769230778",
         "0.017655037629076498",
         "0.022816558679527477",
         "0.028371616592605786",
         "0.025326593290326382",
         "0.024318095070319234",
         "0.018590969474898245",
         "0.01456240094223027",
         "0.020191977307784992"
        ],
        [
         "2025-07-02 00:00:00",
         "139051",
         "139586",
         "140049",
         "138384",
         "1",
         "-0.003568638972690552",
         "0.0014115444168376623",
         "0.015964520041500396",
         "0.014126930875038246",
         "0.024188499414437903",
         "0.013749863303320842",
         "0.018308177896902977",
         "0.014112138627147885",
         "0.0024077798683650453",
         "0.0015197349467013233",
         "-0.0014721089216981342",
         "0.013395232230182241",
         "0.009078374455733007",
         "0.014023394201038375",
         "0.019166495646310455",
         "0.024701729563224584",
         "0.021667572849774386",
         "0.02066267359581908",
         "0.014955986043999392",
         "0.010941794018001216"
        ],
        [
         "2025-07-03 00:00:00",
         "140928",
         "139051",
         "141304",
         "139051",
         "1",
         "0.013498644382277103",
         "0.009881833621165237",
         "0.014929242735227444",
         "0.029678663802551464",
         "0.027816269673410554",
         "0.03801365574845139",
         "0.027434112200634297",
         "0.032053957861897686",
         "0.027801277750226117",
         "0.01593892601483593",
         "0.01503889369057898",
         "0.012006663985752786",
         "0.027074694088752516",
         "0.022699564586357024",
         "0.027711335394667858",
         "0.032923861737371274",
         "0.03853381380850274",
         "0.03545870009257768",
         "0.03444023606095303",
         "0.028656515963270568"
        ],
        [
         "2025-07-04 00:00:00",
         "141264",
         "140928",
         "141564",
         "140597",
         "0",
         "0.0023841961852861804",
         "0.015915023984005794",
         "0.012289590036474562",
         "0.017349033164091976",
         "0.03213361974485984",
         "0.03026678530274074",
         "0.04048848394676163",
         "0.029883716691575746",
         "0.034514576971241606",
         "0.03025175763587029",
         "0.01836112372672427",
         "0.017458945548833205",
         "0.014419486413511873",
         "0.02952344165640275",
         "0.02513788098693759",
         "0.03016160084009112",
         "0.035386554868216624",
         "0.04100988216567547",
         "0.0379274367753597",
         "0.03690654452567599"
        ]
       ],
       "shape": {
        "columns": 25,
        "rows": 5
       }
      },
      "text/html": [
       "<div>\n",
       "<style scoped>\n",
       "    .dataframe tbody tr th:only-of-type {\n",
       "        vertical-align: middle;\n",
       "    }\n",
       "\n",
       "    .dataframe tbody tr th {\n",
       "        vertical-align: top;\n",
       "    }\n",
       "\n",
       "    .dataframe thead th {\n",
       "        text-align: right;\n",
       "    }\n",
       "</style>\n",
       "<table border=\"1\" class=\"dataframe\">\n",
       "  <thead>\n",
       "    <tr style=\"text-align: right;\">\n",
       "      <th></th>\n",
       "      <th>ultimo</th>\n",
       "      <th>abertura</th>\n",
       "      <th>maxima</th>\n",
       "      <th>minima</th>\n",
       "      <th>target</th>\n",
       "      <th>lag_1</th>\n",
       "      <th>lag_2</th>\n",
       "      <th>lag_3</th>\n",
       "      <th>lag_4</th>\n",
       "      <th>lag_5</th>\n",
       "      <th>...</th>\n",
       "      <th>lag_11</th>\n",
       "      <th>lag_12</th>\n",
       "      <th>lag_13</th>\n",
       "      <th>lag_14</th>\n",
       "      <th>lag_15</th>\n",
       "      <th>lag_16</th>\n",
       "      <th>lag_17</th>\n",
       "      <th>lag_18</th>\n",
       "      <th>lag_19</th>\n",
       "      <th>lag_20</th>\n",
       "    </tr>\n",
       "    <tr>\n",
       "      <th>data</th>\n",
       "      <th></th>\n",
       "      <th></th>\n",
       "      <th></th>\n",
       "      <th></th>\n",
       "      <th></th>\n",
       "      <th></th>\n",
       "      <th></th>\n",
       "      <th></th>\n",
       "      <th></th>\n",
       "      <th></th>\n",
       "      <th></th>\n",
       "      <th></th>\n",
       "      <th></th>\n",
       "      <th></th>\n",
       "      <th></th>\n",
       "      <th></th>\n",
       "      <th></th>\n",
       "      <th></th>\n",
       "      <th></th>\n",
       "      <th></th>\n",
       "      <th></th>\n",
       "    </tr>\n",
       "  </thead>\n",
       "  <tbody>\n",
       "    <tr>\n",
       "      <th>2025-06-30</th>\n",
       "      <td>138855</td>\n",
       "      <td>136865</td>\n",
       "      <td>139103</td>\n",
       "      <td>136430</td>\n",
       "      <td>1</td>\n",
       "      <td>0.014532</td>\n",
       "      <td>0.012697</td>\n",
       "      <td>0.022745</td>\n",
       "      <td>0.012321</td>\n",
       "      <td>0.016873</td>\n",
       "      <td>...</td>\n",
       "      <td>0.007656</td>\n",
       "      <td>0.012594</td>\n",
       "      <td>0.017730</td>\n",
       "      <td>0.023257</td>\n",
       "      <td>0.020227</td>\n",
       "      <td>0.019224</td>\n",
       "      <td>0.013525</td>\n",
       "      <td>0.009517</td>\n",
       "      <td>0.015118</td>\n",
       "      <td>0.013340</td>\n",
       "    </tr>\n",
       "    <tr>\n",
       "      <th>2025-07-01</th>\n",
       "      <td>139549</td>\n",
       "      <td>138855</td>\n",
       "      <td>139695</td>\n",
       "      <td>138855</td>\n",
       "      <td>0</td>\n",
       "      <td>0.004998</td>\n",
       "      <td>0.019603</td>\n",
       "      <td>0.017759</td>\n",
       "      <td>0.027857</td>\n",
       "      <td>0.017381</td>\n",
       "      <td>...</td>\n",
       "      <td>0.017025</td>\n",
       "      <td>0.012692</td>\n",
       "      <td>0.017655</td>\n",
       "      <td>0.022817</td>\n",
       "      <td>0.028372</td>\n",
       "      <td>0.025327</td>\n",
       "      <td>0.024318</td>\n",
       "      <td>0.018591</td>\n",
       "      <td>0.014562</td>\n",
       "      <td>0.020192</td>\n",
       "    </tr>\n",
       "    <tr>\n",
       "      <th>2025-07-02</th>\n",
       "      <td>139051</td>\n",
       "      <td>139586</td>\n",
       "      <td>140049</td>\n",
       "      <td>138384</td>\n",
       "      <td>1</td>\n",
       "      <td>-0.003569</td>\n",
       "      <td>0.001412</td>\n",
       "      <td>0.015965</td>\n",
       "      <td>0.014127</td>\n",
       "      <td>0.024188</td>\n",
       "      <td>...</td>\n",
       "      <td>-0.001472</td>\n",
       "      <td>0.013395</td>\n",
       "      <td>0.009078</td>\n",
       "      <td>0.014023</td>\n",
       "      <td>0.019166</td>\n",
       "      <td>0.024702</td>\n",
       "      <td>0.021668</td>\n",
       "      <td>0.020663</td>\n",
       "      <td>0.014956</td>\n",
       "      <td>0.010942</td>\n",
       "    </tr>\n",
       "    <tr>\n",
       "      <th>2025-07-03</th>\n",
       "      <td>140928</td>\n",
       "      <td>139051</td>\n",
       "      <td>141304</td>\n",
       "      <td>139051</td>\n",
       "      <td>1</td>\n",
       "      <td>0.013499</td>\n",
       "      <td>0.009882</td>\n",
       "      <td>0.014929</td>\n",
       "      <td>0.029679</td>\n",
       "      <td>0.027816</td>\n",
       "      <td>...</td>\n",
       "      <td>0.015039</td>\n",
       "      <td>0.012007</td>\n",
       "      <td>0.027075</td>\n",
       "      <td>0.022700</td>\n",
       "      <td>0.027711</td>\n",
       "      <td>0.032924</td>\n",
       "      <td>0.038534</td>\n",
       "      <td>0.035459</td>\n",
       "      <td>0.034440</td>\n",
       "      <td>0.028657</td>\n",
       "    </tr>\n",
       "    <tr>\n",
       "      <th>2025-07-04</th>\n",
       "      <td>141264</td>\n",
       "      <td>140928</td>\n",
       "      <td>141564</td>\n",
       "      <td>140597</td>\n",
       "      <td>0</td>\n",
       "      <td>0.002384</td>\n",
       "      <td>0.015915</td>\n",
       "      <td>0.012290</td>\n",
       "      <td>0.017349</td>\n",
       "      <td>0.032134</td>\n",
       "      <td>...</td>\n",
       "      <td>0.018361</td>\n",
       "      <td>0.017459</td>\n",
       "      <td>0.014419</td>\n",
       "      <td>0.029523</td>\n",
       "      <td>0.025138</td>\n",
       "      <td>0.030162</td>\n",
       "      <td>0.035387</td>\n",
       "      <td>0.041010</td>\n",
       "      <td>0.037927</td>\n",
       "      <td>0.036907</td>\n",
       "    </tr>\n",
       "  </tbody>\n",
       "</table>\n",
       "<p>5 rows × 25 columns</p>\n",
       "</div>"
      ],
      "text/plain": [
       "            ultimo  abertura  maxima  minima  target     lag_1     lag_2  \\\n",
       "data                                                                       \n",
       "2025-06-30  138855    136865  139103  136430       1  0.014532  0.012697   \n",
       "2025-07-01  139549    138855  139695  138855       0  0.004998  0.019603   \n",
       "2025-07-02  139051    139586  140049  138384       1 -0.003569  0.001412   \n",
       "2025-07-03  140928    139051  141304  139051       1  0.013499  0.009882   \n",
       "2025-07-04  141264    140928  141564  140597       0  0.002384  0.015915   \n",
       "\n",
       "               lag_3     lag_4     lag_5  ...    lag_11    lag_12    lag_13  \\\n",
       "data                                      ...                                 \n",
       "2025-06-30  0.022745  0.012321  0.016873  ...  0.007656  0.012594  0.017730   \n",
       "2025-07-01  0.017759  0.027857  0.017381  ...  0.017025  0.012692  0.017655   \n",
       "2025-07-02  0.015965  0.014127  0.024188  ... -0.001472  0.013395  0.009078   \n",
       "2025-07-03  0.014929  0.029679  0.027816  ...  0.015039  0.012007  0.027075   \n",
       "2025-07-04  0.012290  0.017349  0.032134  ...  0.018361  0.017459  0.014419   \n",
       "\n",
       "              lag_14    lag_15    lag_16    lag_17    lag_18    lag_19  \\\n",
       "data                                                                     \n",
       "2025-06-30  0.023257  0.020227  0.019224  0.013525  0.009517  0.015118   \n",
       "2025-07-01  0.022817  0.028372  0.025327  0.024318  0.018591  0.014562   \n",
       "2025-07-02  0.014023  0.019166  0.024702  0.021668  0.020663  0.014956   \n",
       "2025-07-03  0.022700  0.027711  0.032924  0.038534  0.035459  0.034440   \n",
       "2025-07-04  0.029523  0.025138  0.030162  0.035387  0.041010  0.037927   \n",
       "\n",
       "              lag_20  \n",
       "data                  \n",
       "2025-06-30  0.013340  \n",
       "2025-07-01  0.020192  \n",
       "2025-07-02  0.010942  \n",
       "2025-07-03  0.028657  \n",
       "2025-07-04  0.036907  \n",
       "\n",
       "[5 rows x 25 columns]"
      ]
     },
     "execution_count": 927,
     "metadata": {},
     "output_type": "execute_result"
    }
   ],
   "source": [
    "# Criando Bandas de Bollinger\n",
    "\n",
    "# length = 20\n",
    "\n",
    "# bollinger = ta.bbands(dados[\"ultimo\"], length = length)\n",
    "# dados = pd.concat([dados, bollinger], axis = 1)\n",
    "\n",
    "# dados.tail()"
   ]
  },
  {
   "cell_type": "code",
   "execution_count": null,
   "id": "d8a34439",
   "metadata": {},
   "outputs": [],
   "source": [
    "# Criando Stochastic Oscillator\n",
    "\n",
    "# stoch = ta.stoch(dados[\"maxima\"], dados[\"minima\"], dados[\"ultimo\"], k=14, d=3)\n",
    "# dados = pd.concat([dados, stoch], axis=1)"
   ]
  },
  {
   "cell_type": "code",
   "execution_count": null,
   "id": "ca36c484",
   "metadata": {},
   "outputs": [],
   "source": [
    "# Criando Features baseadas na volatilidade do dia \n",
    "\n",
    "# dados[\"amplitude_dia\"] = dados[\"maxima\"] - dados[\"minima\"]\n",
    "# dados[\"variacao_dia\"] = dados[\"ultimo\"] - dados[\"abertura\"]\n",
    "\n",
    "# dados.tail()"
   ]
  },
  {
   "cell_type": "code",
   "execution_count": null,
   "id": "9ee2d1c7",
   "metadata": {},
   "outputs": [
    {
     "data": {
      "application/vnd.microsoft.datawrangler.viewer.v0+json": {
       "columns": [
        {
         "name": "data",
         "rawType": "datetime64[ns]",
         "type": "datetime"
        },
        {
         "name": "ultimo",
         "rawType": "float64",
         "type": "float"
        },
        {
         "name": "abertura",
         "rawType": "float64",
         "type": "float"
        },
        {
         "name": "maxima",
         "rawType": "float64",
         "type": "float"
        },
        {
         "name": "minima",
         "rawType": "float64",
         "type": "float"
        },
        {
         "name": "target",
         "rawType": "int32",
         "type": "integer"
        },
        {
         "name": "lag_1",
         "rawType": "float64",
         "type": "float"
        },
        {
         "name": "lag_2",
         "rawType": "float64",
         "type": "float"
        },
        {
         "name": "lag_3",
         "rawType": "float64",
         "type": "float"
        },
        {
         "name": "lag_4",
         "rawType": "float64",
         "type": "float"
        },
        {
         "name": "lag_5",
         "rawType": "float64",
         "type": "float"
        },
        {
         "name": "lag_6",
         "rawType": "float64",
         "type": "float"
        },
        {
         "name": "lag_7",
         "rawType": "float64",
         "type": "float"
        },
        {
         "name": "lag_8",
         "rawType": "float64",
         "type": "float"
        },
        {
         "name": "lag_9",
         "rawType": "float64",
         "type": "float"
        },
        {
         "name": "lag_10",
         "rawType": "float64",
         "type": "float"
        },
        {
         "name": "lag_11",
         "rawType": "float64",
         "type": "float"
        },
        {
         "name": "lag_12",
         "rawType": "float64",
         "type": "float"
        },
        {
         "name": "lag_13",
         "rawType": "float64",
         "type": "float"
        },
        {
         "name": "lag_14",
         "rawType": "float64",
         "type": "float"
        },
        {
         "name": "lag_15",
         "rawType": "float64",
         "type": "float"
        },
        {
         "name": "lag_16",
         "rawType": "float64",
         "type": "float"
        },
        {
         "name": "lag_17",
         "rawType": "float64",
         "type": "float"
        },
        {
         "name": "lag_18",
         "rawType": "float64",
         "type": "float"
        },
        {
         "name": "lag_19",
         "rawType": "float64",
         "type": "float"
        },
        {
         "name": "lag_20",
         "rawType": "float64",
         "type": "float"
        }
       ],
       "ref": "578f229a-da44-433a-a7ab-98f4b856de85",
       "rows": [
        [
         "2025-06-30 00:00:00",
         "136866.0",
         "137113.0",
         "137209.0",
         "136469.0",
         "1",
         "-0.0018087139168866395",
         "0.00809475056530684",
         "-0.002179856377355738",
         "0.0023068304150097863",
         "-0.0018232737244376906",
         "-0.013343714180670041",
         "-0.014217804667242873",
         "-0.017162635721261532",
         "-0.0025289148987340804",
         "-0.006777939042090009",
         "-0.0019106236508955599",
         "0.0031516608519746026",
         "0.008599915990537887",
         "0.005613436981087627",
         "0.004624328371355624",
         "-0.00099268623815707",
         "-0.004943800619429117",
         "0.0005775402633290128",
         "-0.001174950922081086",
         "-0.012040365542033027"
        ],
        [
         "2025-07-01 00:00:00",
         "138855.0",
         "136865.0",
         "139103.0",
         "136430.0",
         "0",
         "0.014532462408487046",
         "0.012697463424595545",
         "0.022744849632090336",
         "0.012320927350271571",
         "0.0168728167497858",
         "0.012682692027188747",
         "0.0009948312030969575",
         "0.00010803802938630369",
         "-0.002879588671224176",
         "0.011966796149052827",
         "0.007656023222061048",
         "0.012594072691208158",
         "0.017729924653317353",
         "0.023257356354873693",
         "0.020227476451484927",
         "0.019223993658064042",
         "0.013525349994890634",
         "0.009516816192401079",
         "0.015118395753982439",
         "0.013340436556299018"
        ],
        [
         "2025-07-02 00:00:00",
         "139549.0",
         "138855.0",
         "139695.0",
         "138855.0",
         "1",
         "0.004998019516762042",
         "0.01960311545599347",
         "0.017758945111367108",
         "0.027856548351219423",
         "0.017380527102395016",
         "0.021955166933966153",
         "0.017744099886227716",
         "0.005997822905628114",
         "0.005106597522327894",
         "0.0021040386051589532",
         "0.01702462594652121",
         "0.01269230769230778",
         "0.017655037629076498",
         "0.022816558679527477",
         "0.028371616592605786",
         "0.025326593290326382",
         "0.024318095070319234",
         "0.018590969474898245",
         "0.01456240094223027",
         "0.020191977307784992"
        ],
        [
         "2025-07-03 00:00:00",
         "139051.0",
         "139586.0",
         "140049.0",
         "138384.0",
         "1",
         "-0.003568638972690552",
         "0.0014115444168376623",
         "0.015964520041500396",
         "0.014126930875038246",
         "0.024188499414437903",
         "0.013749863303320842",
         "0.018308177896902977",
         "0.014112138627147885",
         "0.0024077798683650453",
         "0.0015197349467013233",
         "-0.0014721089216981342",
         "0.013395232230182241",
         "0.009078374455733007",
         "0.014023394201038375",
         "0.019166495646310455",
         "0.024701729563224584",
         "0.021667572849774386",
         "0.02066267359581908",
         "0.014955986043999392",
         "0.010941794018001216"
        ],
        [
         "2025-07-04 00:00:00",
         "140928.0",
         "139051.0",
         "141304.0",
         "139051.0",
         "0",
         "0.013498644382277103",
         "0.009881833621165237",
         "0.014929242735227444",
         "0.029678663802551464",
         "0.027816269673410554",
         "0.03801365574845139",
         "0.027434112200634297",
         "0.032053957861897686",
         "0.027801277750226117",
         "0.01593892601483593",
         "0.01503889369057898",
         "0.012006663985752786",
         "0.027074694088752516",
         "0.022699564586357024",
         "0.027711335394667858",
         "0.032923861737371274",
         "0.03853381380850274",
         "0.03545870009257768",
         "0.03444023606095303",
         "0.028656515963270568"
        ]
       ],
       "shape": {
        "columns": 25,
        "rows": 5
       }
      },
      "text/html": [
       "<div>\n",
       "<style scoped>\n",
       "    .dataframe tbody tr th:only-of-type {\n",
       "        vertical-align: middle;\n",
       "    }\n",
       "\n",
       "    .dataframe tbody tr th {\n",
       "        vertical-align: top;\n",
       "    }\n",
       "\n",
       "    .dataframe thead th {\n",
       "        text-align: right;\n",
       "    }\n",
       "</style>\n",
       "<table border=\"1\" class=\"dataframe\">\n",
       "  <thead>\n",
       "    <tr style=\"text-align: right;\">\n",
       "      <th></th>\n",
       "      <th>ultimo</th>\n",
       "      <th>abertura</th>\n",
       "      <th>maxima</th>\n",
       "      <th>minima</th>\n",
       "      <th>target</th>\n",
       "      <th>lag_1</th>\n",
       "      <th>lag_2</th>\n",
       "      <th>lag_3</th>\n",
       "      <th>lag_4</th>\n",
       "      <th>lag_5</th>\n",
       "      <th>...</th>\n",
       "      <th>lag_11</th>\n",
       "      <th>lag_12</th>\n",
       "      <th>lag_13</th>\n",
       "      <th>lag_14</th>\n",
       "      <th>lag_15</th>\n",
       "      <th>lag_16</th>\n",
       "      <th>lag_17</th>\n",
       "      <th>lag_18</th>\n",
       "      <th>lag_19</th>\n",
       "      <th>lag_20</th>\n",
       "    </tr>\n",
       "    <tr>\n",
       "      <th>data</th>\n",
       "      <th></th>\n",
       "      <th></th>\n",
       "      <th></th>\n",
       "      <th></th>\n",
       "      <th></th>\n",
       "      <th></th>\n",
       "      <th></th>\n",
       "      <th></th>\n",
       "      <th></th>\n",
       "      <th></th>\n",
       "      <th></th>\n",
       "      <th></th>\n",
       "      <th></th>\n",
       "      <th></th>\n",
       "      <th></th>\n",
       "      <th></th>\n",
       "      <th></th>\n",
       "      <th></th>\n",
       "      <th></th>\n",
       "      <th></th>\n",
       "      <th></th>\n",
       "    </tr>\n",
       "  </thead>\n",
       "  <tbody>\n",
       "    <tr>\n",
       "      <th>2025-06-30</th>\n",
       "      <td>136866.0</td>\n",
       "      <td>137113.0</td>\n",
       "      <td>137209.0</td>\n",
       "      <td>136469.0</td>\n",
       "      <td>1</td>\n",
       "      <td>-0.001809</td>\n",
       "      <td>0.008095</td>\n",
       "      <td>-0.002180</td>\n",
       "      <td>0.002307</td>\n",
       "      <td>-0.001823</td>\n",
       "      <td>...</td>\n",
       "      <td>-0.001911</td>\n",
       "      <td>0.003152</td>\n",
       "      <td>0.008600</td>\n",
       "      <td>0.005613</td>\n",
       "      <td>0.004624</td>\n",
       "      <td>-0.000993</td>\n",
       "      <td>-0.004944</td>\n",
       "      <td>0.000578</td>\n",
       "      <td>-0.001175</td>\n",
       "      <td>-0.012040</td>\n",
       "    </tr>\n",
       "    <tr>\n",
       "      <th>2025-07-01</th>\n",
       "      <td>138855.0</td>\n",
       "      <td>136865.0</td>\n",
       "      <td>139103.0</td>\n",
       "      <td>136430.0</td>\n",
       "      <td>0</td>\n",
       "      <td>0.014532</td>\n",
       "      <td>0.012697</td>\n",
       "      <td>0.022745</td>\n",
       "      <td>0.012321</td>\n",
       "      <td>0.016873</td>\n",
       "      <td>...</td>\n",
       "      <td>0.007656</td>\n",
       "      <td>0.012594</td>\n",
       "      <td>0.017730</td>\n",
       "      <td>0.023257</td>\n",
       "      <td>0.020227</td>\n",
       "      <td>0.019224</td>\n",
       "      <td>0.013525</td>\n",
       "      <td>0.009517</td>\n",
       "      <td>0.015118</td>\n",
       "      <td>0.013340</td>\n",
       "    </tr>\n",
       "    <tr>\n",
       "      <th>2025-07-02</th>\n",
       "      <td>139549.0</td>\n",
       "      <td>138855.0</td>\n",
       "      <td>139695.0</td>\n",
       "      <td>138855.0</td>\n",
       "      <td>1</td>\n",
       "      <td>0.004998</td>\n",
       "      <td>0.019603</td>\n",
       "      <td>0.017759</td>\n",
       "      <td>0.027857</td>\n",
       "      <td>0.017381</td>\n",
       "      <td>...</td>\n",
       "      <td>0.017025</td>\n",
       "      <td>0.012692</td>\n",
       "      <td>0.017655</td>\n",
       "      <td>0.022817</td>\n",
       "      <td>0.028372</td>\n",
       "      <td>0.025327</td>\n",
       "      <td>0.024318</td>\n",
       "      <td>0.018591</td>\n",
       "      <td>0.014562</td>\n",
       "      <td>0.020192</td>\n",
       "    </tr>\n",
       "    <tr>\n",
       "      <th>2025-07-03</th>\n",
       "      <td>139051.0</td>\n",
       "      <td>139586.0</td>\n",
       "      <td>140049.0</td>\n",
       "      <td>138384.0</td>\n",
       "      <td>1</td>\n",
       "      <td>-0.003569</td>\n",
       "      <td>0.001412</td>\n",
       "      <td>0.015965</td>\n",
       "      <td>0.014127</td>\n",
       "      <td>0.024188</td>\n",
       "      <td>...</td>\n",
       "      <td>-0.001472</td>\n",
       "      <td>0.013395</td>\n",
       "      <td>0.009078</td>\n",
       "      <td>0.014023</td>\n",
       "      <td>0.019166</td>\n",
       "      <td>0.024702</td>\n",
       "      <td>0.021668</td>\n",
       "      <td>0.020663</td>\n",
       "      <td>0.014956</td>\n",
       "      <td>0.010942</td>\n",
       "    </tr>\n",
       "    <tr>\n",
       "      <th>2025-07-04</th>\n",
       "      <td>140928.0</td>\n",
       "      <td>139051.0</td>\n",
       "      <td>141304.0</td>\n",
       "      <td>139051.0</td>\n",
       "      <td>0</td>\n",
       "      <td>0.013499</td>\n",
       "      <td>0.009882</td>\n",
       "      <td>0.014929</td>\n",
       "      <td>0.029679</td>\n",
       "      <td>0.027816</td>\n",
       "      <td>...</td>\n",
       "      <td>0.015039</td>\n",
       "      <td>0.012007</td>\n",
       "      <td>0.027075</td>\n",
       "      <td>0.022700</td>\n",
       "      <td>0.027711</td>\n",
       "      <td>0.032924</td>\n",
       "      <td>0.038534</td>\n",
       "      <td>0.035459</td>\n",
       "      <td>0.034440</td>\n",
       "      <td>0.028657</td>\n",
       "    </tr>\n",
       "  </tbody>\n",
       "</table>\n",
       "<p>5 rows × 25 columns</p>\n",
       "</div>"
      ],
      "text/plain": [
       "              ultimo  abertura    maxima    minima  target     lag_1  \\\n",
       "data                                                                   \n",
       "2025-06-30  136866.0  137113.0  137209.0  136469.0       1 -0.001809   \n",
       "2025-07-01  138855.0  136865.0  139103.0  136430.0       0  0.014532   \n",
       "2025-07-02  139549.0  138855.0  139695.0  138855.0       1  0.004998   \n",
       "2025-07-03  139051.0  139586.0  140049.0  138384.0       1 -0.003569   \n",
       "2025-07-04  140928.0  139051.0  141304.0  139051.0       0  0.013499   \n",
       "\n",
       "               lag_2     lag_3     lag_4     lag_5  ...    lag_11    lag_12  \\\n",
       "data                                                ...                       \n",
       "2025-06-30  0.008095 -0.002180  0.002307 -0.001823  ... -0.001911  0.003152   \n",
       "2025-07-01  0.012697  0.022745  0.012321  0.016873  ...  0.007656  0.012594   \n",
       "2025-07-02  0.019603  0.017759  0.027857  0.017381  ...  0.017025  0.012692   \n",
       "2025-07-03  0.001412  0.015965  0.014127  0.024188  ... -0.001472  0.013395   \n",
       "2025-07-04  0.009882  0.014929  0.029679  0.027816  ...  0.015039  0.012007   \n",
       "\n",
       "              lag_13    lag_14    lag_15    lag_16    lag_17    lag_18  \\\n",
       "data                                                                     \n",
       "2025-06-30  0.008600  0.005613  0.004624 -0.000993 -0.004944  0.000578   \n",
       "2025-07-01  0.017730  0.023257  0.020227  0.019224  0.013525  0.009517   \n",
       "2025-07-02  0.017655  0.022817  0.028372  0.025327  0.024318  0.018591   \n",
       "2025-07-03  0.009078  0.014023  0.019166  0.024702  0.021668  0.020663   \n",
       "2025-07-04  0.027075  0.022700  0.027711  0.032924  0.038534  0.035459   \n",
       "\n",
       "              lag_19    lag_20  \n",
       "data                            \n",
       "2025-06-30 -0.001175 -0.012040  \n",
       "2025-07-01  0.015118  0.013340  \n",
       "2025-07-02  0.014562  0.020192  \n",
       "2025-07-03  0.014956  0.010942  \n",
       "2025-07-04  0.034440  0.028657  \n",
       "\n",
       "[5 rows x 25 columns]"
      ]
     },
     "execution_count": 931,
     "metadata": {},
     "output_type": "execute_result"
    }
   ],
   "source": [
    "# Tratar o data frame para evitar o data leakage --> empurrar os dados para a linha de baixo\n",
    "\n",
    "colunas_excluir = [\"target\"]\n",
    "features_a_deslocar = [col for col in dados.columns if col not in colunas_excluir]\n",
    "\n",
    "dados[features_a_deslocar] = dados[features_a_deslocar].shift(1)\n",
    "\n",
    "dados.tail()"
   ]
  },
  {
   "cell_type": "code",
   "execution_count": null,
   "id": "7744068e",
   "metadata": {},
   "outputs": [
    {
     "data": {
      "application/vnd.microsoft.datawrangler.viewer.v0+json": {
       "columns": [
        {
         "name": "data",
         "rawType": "datetime64[ns]",
         "type": "datetime"
        },
        {
         "name": "ultimo",
         "rawType": "float64",
         "type": "float"
        },
        {
         "name": "abertura",
         "rawType": "float64",
         "type": "float"
        },
        {
         "name": "maxima",
         "rawType": "float64",
         "type": "float"
        },
        {
         "name": "minima",
         "rawType": "float64",
         "type": "float"
        },
        {
         "name": "target",
         "rawType": "int32",
         "type": "integer"
        },
        {
         "name": "lag_1",
         "rawType": "float64",
         "type": "float"
        },
        {
         "name": "lag_2",
         "rawType": "float64",
         "type": "float"
        },
        {
         "name": "lag_3",
         "rawType": "float64",
         "type": "float"
        },
        {
         "name": "lag_4",
         "rawType": "float64",
         "type": "float"
        },
        {
         "name": "lag_5",
         "rawType": "float64",
         "type": "float"
        },
        {
         "name": "lag_6",
         "rawType": "float64",
         "type": "float"
        },
        {
         "name": "lag_7",
         "rawType": "float64",
         "type": "float"
        },
        {
         "name": "lag_8",
         "rawType": "float64",
         "type": "float"
        },
        {
         "name": "lag_9",
         "rawType": "float64",
         "type": "float"
        },
        {
         "name": "lag_10",
         "rawType": "float64",
         "type": "float"
        },
        {
         "name": "lag_11",
         "rawType": "float64",
         "type": "float"
        },
        {
         "name": "lag_12",
         "rawType": "float64",
         "type": "float"
        },
        {
         "name": "lag_13",
         "rawType": "float64",
         "type": "float"
        },
        {
         "name": "lag_14",
         "rawType": "float64",
         "type": "float"
        },
        {
         "name": "lag_15",
         "rawType": "float64",
         "type": "float"
        },
        {
         "name": "lag_16",
         "rawType": "float64",
         "type": "float"
        },
        {
         "name": "lag_17",
         "rawType": "float64",
         "type": "float"
        },
        {
         "name": "lag_18",
         "rawType": "float64",
         "type": "float"
        },
        {
         "name": "lag_19",
         "rawType": "float64",
         "type": "float"
        },
        {
         "name": "lag_20",
         "rawType": "float64",
         "type": "float"
        }
       ],
       "ref": "7a97a191-7e3e-4fa5-9531-e546e6f3e3df",
       "rows": [
        [
         "1995-02-01 00:00:00",
         "3885.0",
         "3581.0",
         "3914.0",
         "3547.0",
         "0",
         "0.08489248813180672",
         "0.02669133192389017",
         "-0.010695187165775444",
         "0.01171875",
         "0.03379457158062804",
         "0.0059554634904195325",
         "0.01995274350223153",
         "-0.04732712113781268",
         "-0.0771971496437055",
         "-0.04215976331360949",
         "-0.05336257309941517",
         "0.011455350169226719",
         "0.11031723349528444",
         "0.18807339449541294",
         "0.07083792723263516",
         "0.015155474261823842",
         "-0.03765172157542729",
         "-0.02091733870967738",
         "-0.05197657393850663",
         "-0.09672169262962105"
        ],
        [
         "1995-02-02 00:00:00",
         "3990.0",
         "3885.0",
         "4067.0",
         "3885.0",
         "1",
         "0.027027027027026973",
         "0.11421390672996368",
         "0.05443974630021131",
         "0.016042780748663166",
         "0.0390625",
         "0.061734965407131526",
         "0.03314344899016053",
         "0.047519033867156724",
         "-0.02157920549288872",
         "-0.052256532066508266",
         "-0.016272189349112454",
         "-0.02777777777777779",
         "0.03879198125488159",
         "0.1403258073735354",
         "0.22018348623853212",
         "0.09977949283351717",
         "0.042592108701332565",
         "-0.011642308645033461",
         "0.005544354838709742",
         "-0.026354319180087793"
        ],
        [
         "1995-02-03 00:00:00",
         "3898.0",
         "3990.0",
         "3990.0",
         "3829.0",
         "0",
         "-0.023057644110275666",
         "0.0033462033462032803",
         "0.08852275900586437",
         "0.030126849894291707",
         "-0.007384772090654468",
         "0.015104166666666696",
         "0.037253858435337905",
         "0.009321595028482621",
         "0.02336571278550803",
         "-0.044139283962726816",
         "-0.07410926365795723",
         "-0.038954635108481295",
         "-0.050194931773879126",
         "0.014839885446498391",
         "0.11403258073735345",
         "0.19204892966360854",
         "0.07442116868798232",
         "0.018552390906715344",
         "-0.03443150854595001",
         "-0.017641129032258118"
        ],
        [
         "1995-02-06 00:00:00",
         "3944.0",
         "3898.0",
         "3975.0",
         "3837.0",
         "0",
         "0.011800923550538744",
         "-0.011528822055137833",
         "0.015186615186615127",
         "0.10136833286791402",
         "0.04228329809725162",
         "0.0043290043290042934",
         "0.027083333333333348",
         "0.049494411921234605",
         "0.021232522009321686",
         "0.035442373326332266",
         "-0.03285924472780777",
         "-0.06318289786223275",
         "-0.027613412228796874",
         "-0.03898635477582846",
         "0.02681593335068988",
         "0.1271791940554443",
         "0.20611620795107033",
         "0.08710033076074963",
         "0.030572249804023954",
         "-0.02303690859549168"
        ],
        [
         "1995-02-07 00:00:00",
         "3830.0",
         "3944.0",
         "3987.0",
         "3811.0",
         "0",
         "-0.028904665314401612",
         "-0.017444843509492047",
         "-0.040100250626566414",
         "-0.014157014157014203",
         "0.06953364981848642",
         "0.012156448202959913",
         "-0.024700789406671753",
         "-0.0026041666666666297",
         "0.01915912719531665",
         "-0.008285862247540132",
         "0.005513258072985083",
         "-0.0608141245708681",
         "-0.09026128266033251",
         "-0.055719921104536496",
         "-0.06676413255360625",
         "-0.0028638375423066798",
         "0.09459845670191491",
         "0.17125382262996935",
         "0.055678059536935054",
         "0.000783903841128808"
        ]
       ],
       "shape": {
        "columns": 25,
        "rows": 5
       }
      },
      "text/html": [
       "<div>\n",
       "<style scoped>\n",
       "    .dataframe tbody tr th:only-of-type {\n",
       "        vertical-align: middle;\n",
       "    }\n",
       "\n",
       "    .dataframe tbody tr th {\n",
       "        vertical-align: top;\n",
       "    }\n",
       "\n",
       "    .dataframe thead th {\n",
       "        text-align: right;\n",
       "    }\n",
       "</style>\n",
       "<table border=\"1\" class=\"dataframe\">\n",
       "  <thead>\n",
       "    <tr style=\"text-align: right;\">\n",
       "      <th></th>\n",
       "      <th>ultimo</th>\n",
       "      <th>abertura</th>\n",
       "      <th>maxima</th>\n",
       "      <th>minima</th>\n",
       "      <th>target</th>\n",
       "      <th>lag_1</th>\n",
       "      <th>lag_2</th>\n",
       "      <th>lag_3</th>\n",
       "      <th>lag_4</th>\n",
       "      <th>lag_5</th>\n",
       "      <th>...</th>\n",
       "      <th>lag_11</th>\n",
       "      <th>lag_12</th>\n",
       "      <th>lag_13</th>\n",
       "      <th>lag_14</th>\n",
       "      <th>lag_15</th>\n",
       "      <th>lag_16</th>\n",
       "      <th>lag_17</th>\n",
       "      <th>lag_18</th>\n",
       "      <th>lag_19</th>\n",
       "      <th>lag_20</th>\n",
       "    </tr>\n",
       "    <tr>\n",
       "      <th>data</th>\n",
       "      <th></th>\n",
       "      <th></th>\n",
       "      <th></th>\n",
       "      <th></th>\n",
       "      <th></th>\n",
       "      <th></th>\n",
       "      <th></th>\n",
       "      <th></th>\n",
       "      <th></th>\n",
       "      <th></th>\n",
       "      <th></th>\n",
       "      <th></th>\n",
       "      <th></th>\n",
       "      <th></th>\n",
       "      <th></th>\n",
       "      <th></th>\n",
       "      <th></th>\n",
       "      <th></th>\n",
       "      <th></th>\n",
       "      <th></th>\n",
       "      <th></th>\n",
       "    </tr>\n",
       "  </thead>\n",
       "  <tbody>\n",
       "    <tr>\n",
       "      <th>1995-02-01</th>\n",
       "      <td>3885.0</td>\n",
       "      <td>3581.0</td>\n",
       "      <td>3914.0</td>\n",
       "      <td>3547.0</td>\n",
       "      <td>0</td>\n",
       "      <td>0.084892</td>\n",
       "      <td>0.026691</td>\n",
       "      <td>-0.010695</td>\n",
       "      <td>0.011719</td>\n",
       "      <td>0.033795</td>\n",
       "      <td>...</td>\n",
       "      <td>-0.053363</td>\n",
       "      <td>0.011455</td>\n",
       "      <td>0.110317</td>\n",
       "      <td>0.188073</td>\n",
       "      <td>0.070838</td>\n",
       "      <td>0.015155</td>\n",
       "      <td>-0.037652</td>\n",
       "      <td>-0.020917</td>\n",
       "      <td>-0.051977</td>\n",
       "      <td>-0.096722</td>\n",
       "    </tr>\n",
       "    <tr>\n",
       "      <th>1995-02-02</th>\n",
       "      <td>3990.0</td>\n",
       "      <td>3885.0</td>\n",
       "      <td>4067.0</td>\n",
       "      <td>3885.0</td>\n",
       "      <td>1</td>\n",
       "      <td>0.027027</td>\n",
       "      <td>0.114214</td>\n",
       "      <td>0.054440</td>\n",
       "      <td>0.016043</td>\n",
       "      <td>0.039062</td>\n",
       "      <td>...</td>\n",
       "      <td>-0.016272</td>\n",
       "      <td>-0.027778</td>\n",
       "      <td>0.038792</td>\n",
       "      <td>0.140326</td>\n",
       "      <td>0.220183</td>\n",
       "      <td>0.099779</td>\n",
       "      <td>0.042592</td>\n",
       "      <td>-0.011642</td>\n",
       "      <td>0.005544</td>\n",
       "      <td>-0.026354</td>\n",
       "    </tr>\n",
       "    <tr>\n",
       "      <th>1995-02-03</th>\n",
       "      <td>3898.0</td>\n",
       "      <td>3990.0</td>\n",
       "      <td>3990.0</td>\n",
       "      <td>3829.0</td>\n",
       "      <td>0</td>\n",
       "      <td>-0.023058</td>\n",
       "      <td>0.003346</td>\n",
       "      <td>0.088523</td>\n",
       "      <td>0.030127</td>\n",
       "      <td>-0.007385</td>\n",
       "      <td>...</td>\n",
       "      <td>-0.074109</td>\n",
       "      <td>-0.038955</td>\n",
       "      <td>-0.050195</td>\n",
       "      <td>0.014840</td>\n",
       "      <td>0.114033</td>\n",
       "      <td>0.192049</td>\n",
       "      <td>0.074421</td>\n",
       "      <td>0.018552</td>\n",
       "      <td>-0.034432</td>\n",
       "      <td>-0.017641</td>\n",
       "    </tr>\n",
       "    <tr>\n",
       "      <th>1995-02-06</th>\n",
       "      <td>3944.0</td>\n",
       "      <td>3898.0</td>\n",
       "      <td>3975.0</td>\n",
       "      <td>3837.0</td>\n",
       "      <td>0</td>\n",
       "      <td>0.011801</td>\n",
       "      <td>-0.011529</td>\n",
       "      <td>0.015187</td>\n",
       "      <td>0.101368</td>\n",
       "      <td>0.042283</td>\n",
       "      <td>...</td>\n",
       "      <td>-0.032859</td>\n",
       "      <td>-0.063183</td>\n",
       "      <td>-0.027613</td>\n",
       "      <td>-0.038986</td>\n",
       "      <td>0.026816</td>\n",
       "      <td>0.127179</td>\n",
       "      <td>0.206116</td>\n",
       "      <td>0.087100</td>\n",
       "      <td>0.030572</td>\n",
       "      <td>-0.023037</td>\n",
       "    </tr>\n",
       "    <tr>\n",
       "      <th>1995-02-07</th>\n",
       "      <td>3830.0</td>\n",
       "      <td>3944.0</td>\n",
       "      <td>3987.0</td>\n",
       "      <td>3811.0</td>\n",
       "      <td>0</td>\n",
       "      <td>-0.028905</td>\n",
       "      <td>-0.017445</td>\n",
       "      <td>-0.040100</td>\n",
       "      <td>-0.014157</td>\n",
       "      <td>0.069534</td>\n",
       "      <td>...</td>\n",
       "      <td>0.005513</td>\n",
       "      <td>-0.060814</td>\n",
       "      <td>-0.090261</td>\n",
       "      <td>-0.055720</td>\n",
       "      <td>-0.066764</td>\n",
       "      <td>-0.002864</td>\n",
       "      <td>0.094598</td>\n",
       "      <td>0.171254</td>\n",
       "      <td>0.055678</td>\n",
       "      <td>0.000784</td>\n",
       "    </tr>\n",
       "  </tbody>\n",
       "</table>\n",
       "<p>5 rows × 25 columns</p>\n",
       "</div>"
      ],
      "text/plain": [
       "            ultimo  abertura  maxima  minima  target     lag_1     lag_2  \\\n",
       "data                                                                       \n",
       "1995-02-01  3885.0    3581.0  3914.0  3547.0       0  0.084892  0.026691   \n",
       "1995-02-02  3990.0    3885.0  4067.0  3885.0       1  0.027027  0.114214   \n",
       "1995-02-03  3898.0    3990.0  3990.0  3829.0       0 -0.023058  0.003346   \n",
       "1995-02-06  3944.0    3898.0  3975.0  3837.0       0  0.011801 -0.011529   \n",
       "1995-02-07  3830.0    3944.0  3987.0  3811.0       0 -0.028905 -0.017445   \n",
       "\n",
       "               lag_3     lag_4     lag_5  ...    lag_11    lag_12    lag_13  \\\n",
       "data                                      ...                                 \n",
       "1995-02-01 -0.010695  0.011719  0.033795  ... -0.053363  0.011455  0.110317   \n",
       "1995-02-02  0.054440  0.016043  0.039062  ... -0.016272 -0.027778  0.038792   \n",
       "1995-02-03  0.088523  0.030127 -0.007385  ... -0.074109 -0.038955 -0.050195   \n",
       "1995-02-06  0.015187  0.101368  0.042283  ... -0.032859 -0.063183 -0.027613   \n",
       "1995-02-07 -0.040100 -0.014157  0.069534  ...  0.005513 -0.060814 -0.090261   \n",
       "\n",
       "              lag_14    lag_15    lag_16    lag_17    lag_18    lag_19  \\\n",
       "data                                                                     \n",
       "1995-02-01  0.188073  0.070838  0.015155 -0.037652 -0.020917 -0.051977   \n",
       "1995-02-02  0.140326  0.220183  0.099779  0.042592 -0.011642  0.005544   \n",
       "1995-02-03  0.014840  0.114033  0.192049  0.074421  0.018552 -0.034432   \n",
       "1995-02-06 -0.038986  0.026816  0.127179  0.206116  0.087100  0.030572   \n",
       "1995-02-07 -0.055720 -0.066764 -0.002864  0.094598  0.171254  0.055678   \n",
       "\n",
       "              lag_20  \n",
       "data                  \n",
       "1995-02-01 -0.096722  \n",
       "1995-02-02 -0.026354  \n",
       "1995-02-03 -0.017641  \n",
       "1995-02-06 -0.023037  \n",
       "1995-02-07  0.000784  \n",
       "\n",
       "[5 rows x 25 columns]"
      ]
     },
     "execution_count": 932,
     "metadata": {},
     "output_type": "execute_result"
    }
   ],
   "source": [
    "# Excluir do data frame os registros vazios\n",
    "\n",
    "dados = dados.dropna()\n",
    "dados.head()"
   ]
  },
  {
   "cell_type": "markdown",
   "id": "ef02875f",
   "metadata": {},
   "source": [
    "##### Criação do modelo de Machine Learning"
   ]
  },
  {
   "cell_type": "code",
   "execution_count": null,
   "id": "647767f6",
   "metadata": {},
   "outputs": [],
   "source": [
    "# Gerar datas para filtrar treino e teste \n",
    "\n",
    "# Definir o ano e mês do intervalo + anos \n",
    "ano = 2025\n",
    "mes = 6\n",
    "anos = 10\n",
    "\n",
    "# Gerar as variaveis \n",
    "data_inicio_teste = pd.to_datetime(date(ano, mes, 1))\n",
    "ultimo_dia = calendar.monthrange(ano, mes)[1]\n",
    "data_fim_teste = pd.to_datetime(date(ano, mes, ultimo_dia))\n",
    "\n",
    "ano_atual = date.today().year\n",
    "ano_inicio_treino = ano_atual - anos\n",
    "data_inicio_treino = pd.to_datetime(date(ano_inicio_treino,1,1))"
   ]
  },
  {
   "cell_type": "code",
   "execution_count": null,
   "id": "d1247d41",
   "metadata": {},
   "outputs": [
    {
     "name": "stdout",
     "output_type": "stream",
     "text": [
      "Features (x):\n"
     ]
    },
    {
     "data": {
      "application/vnd.microsoft.datawrangler.viewer.v0+json": {
       "columns": [
        {
         "name": "data",
         "rawType": "datetime64[ns]",
         "type": "datetime"
        },
        {
         "name": "ultimo",
         "rawType": "float64",
         "type": "float"
        },
        {
         "name": "lag_1",
         "rawType": "float64",
         "type": "float"
        },
        {
         "name": "lag_2",
         "rawType": "float64",
         "type": "float"
        },
        {
         "name": "lag_3",
         "rawType": "float64",
         "type": "float"
        },
        {
         "name": "lag_4",
         "rawType": "float64",
         "type": "float"
        },
        {
         "name": "lag_5",
         "rawType": "float64",
         "type": "float"
        },
        {
         "name": "lag_6",
         "rawType": "float64",
         "type": "float"
        },
        {
         "name": "lag_7",
         "rawType": "float64",
         "type": "float"
        },
        {
         "name": "lag_8",
         "rawType": "float64",
         "type": "float"
        },
        {
         "name": "lag_9",
         "rawType": "float64",
         "type": "float"
        },
        {
         "name": "lag_10",
         "rawType": "float64",
         "type": "float"
        },
        {
         "name": "lag_11",
         "rawType": "float64",
         "type": "float"
        },
        {
         "name": "lag_12",
         "rawType": "float64",
         "type": "float"
        },
        {
         "name": "lag_13",
         "rawType": "float64",
         "type": "float"
        },
        {
         "name": "lag_14",
         "rawType": "float64",
         "type": "float"
        },
        {
         "name": "lag_15",
         "rawType": "float64",
         "type": "float"
        },
        {
         "name": "lag_16",
         "rawType": "float64",
         "type": "float"
        },
        {
         "name": "lag_17",
         "rawType": "float64",
         "type": "float"
        },
        {
         "name": "lag_18",
         "rawType": "float64",
         "type": "float"
        },
        {
         "name": "lag_19",
         "rawType": "float64",
         "type": "float"
        },
        {
         "name": "lag_20",
         "rawType": "float64",
         "type": "float"
        }
       ],
       "ref": "ccc5ff85-6d3e-499a-b26f-fd7aa00de669",
       "rows": [
        [
         "2025-06-30 00:00:00",
         "136866.0",
         "-0.0018087139168866395",
         "0.00809475056530684",
         "-0.002179856377355738",
         "0.0023068304150097863",
         "-0.0018232737244376906",
         "-0.013343714180670041",
         "-0.014217804667242873",
         "-0.017162635721261532",
         "-0.0025289148987340804",
         "-0.006777939042090009",
         "-0.0019106236508955599",
         "0.0031516608519746026",
         "0.008599915990537887",
         "0.005613436981087627",
         "0.004624328371355624",
         "-0.00099268623815707",
         "-0.004943800619429117",
         "0.0005775402633290128",
         "-0.001174950922081086",
         "-0.012040365542033027"
        ],
        [
         "2025-07-01 00:00:00",
         "138855.0",
         "0.014532462408487046",
         "0.012697463424595545",
         "0.022744849632090336",
         "0.012320927350271571",
         "0.0168728167497858",
         "0.012682692027188747",
         "0.0009948312030969575",
         "0.00010803802938630369",
         "-0.002879588671224176",
         "0.011966796149052827",
         "0.007656023222061048",
         "0.012594072691208158",
         "0.017729924653317353",
         "0.023257356354873693",
         "0.020227476451484927",
         "0.019223993658064042",
         "0.013525349994890634",
         "0.009516816192401079",
         "0.015118395753982439",
         "0.013340436556299018"
        ],
        [
         "2025-07-02 00:00:00",
         "139549.0",
         "0.004998019516762042",
         "0.01960311545599347",
         "0.017758945111367108",
         "0.027856548351219423",
         "0.017380527102395016",
         "0.021955166933966153",
         "0.017744099886227716",
         "0.005997822905628114",
         "0.005106597522327894",
         "0.0021040386051589532",
         "0.01702462594652121",
         "0.01269230769230778",
         "0.017655037629076498",
         "0.022816558679527477",
         "0.028371616592605786",
         "0.025326593290326382",
         "0.024318095070319234",
         "0.018590969474898245",
         "0.01456240094223027",
         "0.020191977307784992"
        ],
        [
         "2025-07-03 00:00:00",
         "139051.0",
         "-0.003568638972690552",
         "0.0014115444168376623",
         "0.015964520041500396",
         "0.014126930875038246",
         "0.024188499414437903",
         "0.013749863303320842",
         "0.018308177896902977",
         "0.014112138627147885",
         "0.0024077798683650453",
         "0.0015197349467013233",
         "-0.0014721089216981342",
         "0.013395232230182241",
         "0.009078374455733007",
         "0.014023394201038375",
         "0.019166495646310455",
         "0.024701729563224584",
         "0.021667572849774386",
         "0.02066267359581908",
         "0.014955986043999392",
         "0.010941794018001216"
        ],
        [
         "2025-07-04 00:00:00",
         "140928.0",
         "0.013498644382277103",
         "0.009881833621165237",
         "0.014929242735227444",
         "0.029678663802551464",
         "0.027816269673410554",
         "0.03801365574845139",
         "0.027434112200634297",
         "0.032053957861897686",
         "0.027801277750226117",
         "0.01593892601483593",
         "0.01503889369057898",
         "0.012006663985752786",
         "0.027074694088752516",
         "0.022699564586357024",
         "0.027711335394667858",
         "0.032923861737371274",
         "0.03853381380850274",
         "0.03545870009257768",
         "0.03444023606095303",
         "0.028656515963270568"
        ]
       ],
       "shape": {
        "columns": 21,
        "rows": 5
       }
      },
      "text/html": [
       "<div>\n",
       "<style scoped>\n",
       "    .dataframe tbody tr th:only-of-type {\n",
       "        vertical-align: middle;\n",
       "    }\n",
       "\n",
       "    .dataframe tbody tr th {\n",
       "        vertical-align: top;\n",
       "    }\n",
       "\n",
       "    .dataframe thead th {\n",
       "        text-align: right;\n",
       "    }\n",
       "</style>\n",
       "<table border=\"1\" class=\"dataframe\">\n",
       "  <thead>\n",
       "    <tr style=\"text-align: right;\">\n",
       "      <th></th>\n",
       "      <th>ultimo</th>\n",
       "      <th>lag_1</th>\n",
       "      <th>lag_2</th>\n",
       "      <th>lag_3</th>\n",
       "      <th>lag_4</th>\n",
       "      <th>lag_5</th>\n",
       "      <th>lag_6</th>\n",
       "      <th>lag_7</th>\n",
       "      <th>lag_8</th>\n",
       "      <th>lag_9</th>\n",
       "      <th>...</th>\n",
       "      <th>lag_11</th>\n",
       "      <th>lag_12</th>\n",
       "      <th>lag_13</th>\n",
       "      <th>lag_14</th>\n",
       "      <th>lag_15</th>\n",
       "      <th>lag_16</th>\n",
       "      <th>lag_17</th>\n",
       "      <th>lag_18</th>\n",
       "      <th>lag_19</th>\n",
       "      <th>lag_20</th>\n",
       "    </tr>\n",
       "    <tr>\n",
       "      <th>data</th>\n",
       "      <th></th>\n",
       "      <th></th>\n",
       "      <th></th>\n",
       "      <th></th>\n",
       "      <th></th>\n",
       "      <th></th>\n",
       "      <th></th>\n",
       "      <th></th>\n",
       "      <th></th>\n",
       "      <th></th>\n",
       "      <th></th>\n",
       "      <th></th>\n",
       "      <th></th>\n",
       "      <th></th>\n",
       "      <th></th>\n",
       "      <th></th>\n",
       "      <th></th>\n",
       "      <th></th>\n",
       "      <th></th>\n",
       "      <th></th>\n",
       "      <th></th>\n",
       "    </tr>\n",
       "  </thead>\n",
       "  <tbody>\n",
       "    <tr>\n",
       "      <th>2025-06-30</th>\n",
       "      <td>136866.0</td>\n",
       "      <td>-0.001809</td>\n",
       "      <td>0.008095</td>\n",
       "      <td>-0.002180</td>\n",
       "      <td>0.002307</td>\n",
       "      <td>-0.001823</td>\n",
       "      <td>-0.013344</td>\n",
       "      <td>-0.014218</td>\n",
       "      <td>-0.017163</td>\n",
       "      <td>-0.002529</td>\n",
       "      <td>...</td>\n",
       "      <td>-0.001911</td>\n",
       "      <td>0.003152</td>\n",
       "      <td>0.008600</td>\n",
       "      <td>0.005613</td>\n",
       "      <td>0.004624</td>\n",
       "      <td>-0.000993</td>\n",
       "      <td>-0.004944</td>\n",
       "      <td>0.000578</td>\n",
       "      <td>-0.001175</td>\n",
       "      <td>-0.012040</td>\n",
       "    </tr>\n",
       "    <tr>\n",
       "      <th>2025-07-01</th>\n",
       "      <td>138855.0</td>\n",
       "      <td>0.014532</td>\n",
       "      <td>0.012697</td>\n",
       "      <td>0.022745</td>\n",
       "      <td>0.012321</td>\n",
       "      <td>0.016873</td>\n",
       "      <td>0.012683</td>\n",
       "      <td>0.000995</td>\n",
       "      <td>0.000108</td>\n",
       "      <td>-0.002880</td>\n",
       "      <td>...</td>\n",
       "      <td>0.007656</td>\n",
       "      <td>0.012594</td>\n",
       "      <td>0.017730</td>\n",
       "      <td>0.023257</td>\n",
       "      <td>0.020227</td>\n",
       "      <td>0.019224</td>\n",
       "      <td>0.013525</td>\n",
       "      <td>0.009517</td>\n",
       "      <td>0.015118</td>\n",
       "      <td>0.013340</td>\n",
       "    </tr>\n",
       "    <tr>\n",
       "      <th>2025-07-02</th>\n",
       "      <td>139549.0</td>\n",
       "      <td>0.004998</td>\n",
       "      <td>0.019603</td>\n",
       "      <td>0.017759</td>\n",
       "      <td>0.027857</td>\n",
       "      <td>0.017381</td>\n",
       "      <td>0.021955</td>\n",
       "      <td>0.017744</td>\n",
       "      <td>0.005998</td>\n",
       "      <td>0.005107</td>\n",
       "      <td>...</td>\n",
       "      <td>0.017025</td>\n",
       "      <td>0.012692</td>\n",
       "      <td>0.017655</td>\n",
       "      <td>0.022817</td>\n",
       "      <td>0.028372</td>\n",
       "      <td>0.025327</td>\n",
       "      <td>0.024318</td>\n",
       "      <td>0.018591</td>\n",
       "      <td>0.014562</td>\n",
       "      <td>0.020192</td>\n",
       "    </tr>\n",
       "    <tr>\n",
       "      <th>2025-07-03</th>\n",
       "      <td>139051.0</td>\n",
       "      <td>-0.003569</td>\n",
       "      <td>0.001412</td>\n",
       "      <td>0.015965</td>\n",
       "      <td>0.014127</td>\n",
       "      <td>0.024188</td>\n",
       "      <td>0.013750</td>\n",
       "      <td>0.018308</td>\n",
       "      <td>0.014112</td>\n",
       "      <td>0.002408</td>\n",
       "      <td>...</td>\n",
       "      <td>-0.001472</td>\n",
       "      <td>0.013395</td>\n",
       "      <td>0.009078</td>\n",
       "      <td>0.014023</td>\n",
       "      <td>0.019166</td>\n",
       "      <td>0.024702</td>\n",
       "      <td>0.021668</td>\n",
       "      <td>0.020663</td>\n",
       "      <td>0.014956</td>\n",
       "      <td>0.010942</td>\n",
       "    </tr>\n",
       "    <tr>\n",
       "      <th>2025-07-04</th>\n",
       "      <td>140928.0</td>\n",
       "      <td>0.013499</td>\n",
       "      <td>0.009882</td>\n",
       "      <td>0.014929</td>\n",
       "      <td>0.029679</td>\n",
       "      <td>0.027816</td>\n",
       "      <td>0.038014</td>\n",
       "      <td>0.027434</td>\n",
       "      <td>0.032054</td>\n",
       "      <td>0.027801</td>\n",
       "      <td>...</td>\n",
       "      <td>0.015039</td>\n",
       "      <td>0.012007</td>\n",
       "      <td>0.027075</td>\n",
       "      <td>0.022700</td>\n",
       "      <td>0.027711</td>\n",
       "      <td>0.032924</td>\n",
       "      <td>0.038534</td>\n",
       "      <td>0.035459</td>\n",
       "      <td>0.034440</td>\n",
       "      <td>0.028657</td>\n",
       "    </tr>\n",
       "  </tbody>\n",
       "</table>\n",
       "<p>5 rows × 21 columns</p>\n",
       "</div>"
      ],
      "text/plain": [
       "              ultimo     lag_1     lag_2     lag_3     lag_4     lag_5  \\\n",
       "data                                                                     \n",
       "2025-06-30  136866.0 -0.001809  0.008095 -0.002180  0.002307 -0.001823   \n",
       "2025-07-01  138855.0  0.014532  0.012697  0.022745  0.012321  0.016873   \n",
       "2025-07-02  139549.0  0.004998  0.019603  0.017759  0.027857  0.017381   \n",
       "2025-07-03  139051.0 -0.003569  0.001412  0.015965  0.014127  0.024188   \n",
       "2025-07-04  140928.0  0.013499  0.009882  0.014929  0.029679  0.027816   \n",
       "\n",
       "               lag_6     lag_7     lag_8     lag_9  ...    lag_11    lag_12  \\\n",
       "data                                                ...                       \n",
       "2025-06-30 -0.013344 -0.014218 -0.017163 -0.002529  ... -0.001911  0.003152   \n",
       "2025-07-01  0.012683  0.000995  0.000108 -0.002880  ...  0.007656  0.012594   \n",
       "2025-07-02  0.021955  0.017744  0.005998  0.005107  ...  0.017025  0.012692   \n",
       "2025-07-03  0.013750  0.018308  0.014112  0.002408  ... -0.001472  0.013395   \n",
       "2025-07-04  0.038014  0.027434  0.032054  0.027801  ...  0.015039  0.012007   \n",
       "\n",
       "              lag_13    lag_14    lag_15    lag_16    lag_17    lag_18  \\\n",
       "data                                                                     \n",
       "2025-06-30  0.008600  0.005613  0.004624 -0.000993 -0.004944  0.000578   \n",
       "2025-07-01  0.017730  0.023257  0.020227  0.019224  0.013525  0.009517   \n",
       "2025-07-02  0.017655  0.022817  0.028372  0.025327  0.024318  0.018591   \n",
       "2025-07-03  0.009078  0.014023  0.019166  0.024702  0.021668  0.020663   \n",
       "2025-07-04  0.027075  0.022700  0.027711  0.032924  0.038534  0.035459   \n",
       "\n",
       "              lag_19    lag_20  \n",
       "data                            \n",
       "2025-06-30 -0.001175 -0.012040  \n",
       "2025-07-01  0.015118  0.013340  \n",
       "2025-07-02  0.014562  0.020192  \n",
       "2025-07-03  0.014956  0.010942  \n",
       "2025-07-04  0.034440  0.028657  \n",
       "\n",
       "[5 rows x 21 columns]"
      ]
     },
     "metadata": {},
     "output_type": "display_data"
    },
    {
     "name": "stdout",
     "output_type": "stream",
     "text": [
      "\n",
      "Alvo (y):\n"
     ]
    },
    {
     "data": {
      "application/vnd.microsoft.datawrangler.viewer.v0+json": {
       "columns": [
        {
         "name": "data",
         "rawType": "datetime64[ns]",
         "type": "datetime"
        },
        {
         "name": "target",
         "rawType": "int32",
         "type": "integer"
        }
       ],
       "ref": "d58121ad-69cc-4fa3-a522-9d7e6b4f4c22",
       "rows": [
        [
         "2025-06-30 00:00:00",
         "1"
        ],
        [
         "2025-07-01 00:00:00",
         "0"
        ],
        [
         "2025-07-02 00:00:00",
         "1"
        ],
        [
         "2025-07-03 00:00:00",
         "1"
        ],
        [
         "2025-07-04 00:00:00",
         "0"
        ]
       ],
       "shape": {
        "columns": 1,
        "rows": 5
       }
      },
      "text/plain": [
       "data\n",
       "2025-06-30    1\n",
       "2025-07-01    0\n",
       "2025-07-02    1\n",
       "2025-07-03    1\n",
       "2025-07-04    0\n",
       "Name: target, dtype: int32"
      ]
     },
     "metadata": {},
     "output_type": "display_data"
    }
   ],
   "source": [
    "# Separar os dados para treino e teste \n",
    "\n",
    "x = dados.drop(columns=[\"abertura\", \"maxima\", \"minima\",\"target\"])\n",
    "y = dados[\"target\"]\n",
    "\n",
    "print(\"Features (x):\")\n",
    "display(x.tail())\n",
    "\n",
    "print(\"\\nAlvo (y):\")\n",
    "display(y.tail())"
   ]
  },
  {
   "cell_type": "code",
   "execution_count": null,
   "id": "cd289894",
   "metadata": {},
   "outputs": [],
   "source": [
    "# Separar a base em treino e teste\n",
    "\n",
    "x_train = x[(x.index >= data_inicio_treino) & (x.index < data_inicio_teste)]\n",
    "y_train = y[(y.index >= data_inicio_treino) & (y.index < data_inicio_teste)]\n",
    "\n",
    "x_test = x[(x.index >= data_inicio_teste) & (x.index <= data_fim_teste)]\n",
    "y_test = y[(y.index >= data_inicio_teste) & (y.index <= data_fim_teste)]"
   ]
  },
  {
   "cell_type": "code",
   "execution_count": null,
   "id": "a1b4bcef",
   "metadata": {},
   "outputs": [],
   "source": [
    "# Normalizar os dados\n",
    "\n",
    "scaler = StandardScaler()\n",
    "scaler.fit(x_train)\n",
    "\n",
    "x_train_scaled = scaler.transform(x_train)\n",
    "x_test_scaled = scaler.transform(x_test)"
   ]
  },
  {
   "cell_type": "code",
   "execution_count": null,
   "id": "293570a6",
   "metadata": {},
   "outputs": [],
   "source": [
    "# Treinar o modelo e gerar a previsao - Regressao Logistica\n",
    "\n",
    "modelo_rl = LogisticRegression(random_state=42)\n",
    "modelo_rl.fit(x_train_scaled,y_train)\n",
    "previsao_rl = modelo_rl.predict(x_test_scaled)"
   ]
  },
  {
   "cell_type": "code",
   "execution_count": null,
   "id": "e8475062",
   "metadata": {},
   "outputs": [],
   "source": [
    "# Treinar o modelo e gerar a previsao - Random Forest \n",
    "\n",
    "modelo_rf = RandomForestClassifier(n_estimators=100, random_state=42)\n",
    "modelo_rf.fit(x_train_scaled, y_train)\n",
    "previsao_rf = modelo_rf.predict(x_test_scaled)"
   ]
  },
  {
   "cell_type": "code",
   "execution_count": null,
   "id": "1944b199",
   "metadata": {},
   "outputs": [],
   "source": [
    "# 1. Criação do modelo base com parâmetros padrão\n",
    "# Definimos apenas o random_state para garantir a reprodutibilidade dos resultados.\n",
    "# O restante dos parâmetros será o padrão da biblioteca.\n",
    "modelo_xgb = XGBClassifier(random_state=42)\n",
    "\n",
    "# 2. Treinamento do modelo\n",
    "modelo_xgb.fit(x_train_scaled, y_train)\n",
    "\n",
    "# 3. Fazendo a previsão\n",
    "previsao_xgb = modelo_xgb.predict(x_test_scaled)"
   ]
  },
  {
   "cell_type": "code",
   "execution_count": null,
   "id": "93648a4b",
   "metadata": {},
   "outputs": [
    {
     "name": "stderr",
     "output_type": "stream",
     "text": [
      "c:\\Users\\ricar\\anaconda3\\Lib\\site-packages\\sklearn\\utils\\validation.py:2749: UserWarning: X does not have valid feature names, but LGBMClassifier was fitted with feature names\n",
      "  warnings.warn(\n"
     ]
    }
   ],
   "source": [
    "# 1. Criação do modelo base com parâmetros padrão\n",
    "modelo_lgbm = LGBMClassifier(random_state=42, verbose = -1)\n",
    "\n",
    "# 2. Treinamento do modelo\n",
    "modelo_lgbm.fit(x_train_scaled, y_train)\n",
    "\n",
    "# 3. Fazendo a previsão\n",
    "previsao_lgbm = modelo_lgbm.predict(x_test_scaled)"
   ]
  },
  {
   "cell_type": "code",
   "execution_count": null,
   "id": "56c5e546",
   "metadata": {},
   "outputs": [],
   "source": [
    "# 1. Criação do modelo base com parâmetros padrão\n",
    "# Usamos verbose=0 para um output mais limpo.\n",
    "modelo_cat = CatBoostClassifier(random_state=42, verbose=0)\n",
    "\n",
    "# 2. Treinamento do modelo\n",
    "modelo_cat.fit(x_train_scaled, y_train)\n",
    "\n",
    "# 3. Fazendo a previsão\n",
    "previsao_cat = modelo_cat.predict(x_test_scaled)"
   ]
  },
  {
   "cell_type": "code",
   "execution_count": null,
   "id": "e823d63e",
   "metadata": {},
   "outputs": [
    {
     "data": {
      "application/vnd.microsoft.datawrangler.viewer.v0+json": {
       "columns": [
        {
         "name": "Modelo",
         "rawType": "object",
         "type": "string"
        },
        {
         "name": "Acurácia",
         "rawType": "object",
         "type": "string"
        },
        {
         "name": "Precisão",
         "rawType": "object",
         "type": "string"
        },
        {
         "name": "Recall",
         "rawType": "object",
         "type": "string"
        },
        {
         "name": "F1-Score",
         "rawType": "object",
         "type": "string"
        }
       ],
       "ref": "c787c323-4ea3-4763-89ff-5451f52c3929",
       "rows": [
        [
         "XGBoost",
         "65.00 %",
         "65.36 %",
         "65.00 %",
         "63.60 %"
        ],
        [
         "CatBoost",
         "65.00 %",
         "68.12 %",
         "65.00 %",
         "61.51 %"
        ],
        [
         "LightGBM",
         "60.00 %",
         "62.35 %",
         "60.00 %",
         "54.29 %"
        ],
        [
         "Random Forest",
         "55.00 %",
         "53.06 %",
         "55.00 %",
         "46.11 %"
        ],
        [
         "Regressão Logística",
         "45.00 %",
         "46.79 %",
         "45.00 %",
         "42.89 %"
        ]
       ],
       "shape": {
        "columns": 4,
        "rows": 5
       }
      },
      "text/html": [
       "<div>\n",
       "<style scoped>\n",
       "    .dataframe tbody tr th:only-of-type {\n",
       "        vertical-align: middle;\n",
       "    }\n",
       "\n",
       "    .dataframe tbody tr th {\n",
       "        vertical-align: top;\n",
       "    }\n",
       "\n",
       "    .dataframe thead th {\n",
       "        text-align: right;\n",
       "    }\n",
       "</style>\n",
       "<table border=\"1\" class=\"dataframe\">\n",
       "  <thead>\n",
       "    <tr style=\"text-align: right;\">\n",
       "      <th></th>\n",
       "      <th>Acurácia</th>\n",
       "      <th>Precisão</th>\n",
       "      <th>Recall</th>\n",
       "      <th>F1-Score</th>\n",
       "    </tr>\n",
       "    <tr>\n",
       "      <th>Modelo</th>\n",
       "      <th></th>\n",
       "      <th></th>\n",
       "      <th></th>\n",
       "      <th></th>\n",
       "    </tr>\n",
       "  </thead>\n",
       "  <tbody>\n",
       "    <tr>\n",
       "      <th>XGBoost</th>\n",
       "      <td>65.00 %</td>\n",
       "      <td>65.36 %</td>\n",
       "      <td>65.00 %</td>\n",
       "      <td>63.60 %</td>\n",
       "    </tr>\n",
       "    <tr>\n",
       "      <th>CatBoost</th>\n",
       "      <td>65.00 %</td>\n",
       "      <td>68.12 %</td>\n",
       "      <td>65.00 %</td>\n",
       "      <td>61.51 %</td>\n",
       "    </tr>\n",
       "    <tr>\n",
       "      <th>LightGBM</th>\n",
       "      <td>60.00 %</td>\n",
       "      <td>62.35 %</td>\n",
       "      <td>60.00 %</td>\n",
       "      <td>54.29 %</td>\n",
       "    </tr>\n",
       "    <tr>\n",
       "      <th>Random Forest</th>\n",
       "      <td>55.00 %</td>\n",
       "      <td>53.06 %</td>\n",
       "      <td>55.00 %</td>\n",
       "      <td>46.11 %</td>\n",
       "    </tr>\n",
       "    <tr>\n",
       "      <th>Regressão Logística</th>\n",
       "      <td>45.00 %</td>\n",
       "      <td>46.79 %</td>\n",
       "      <td>45.00 %</td>\n",
       "      <td>42.89 %</td>\n",
       "    </tr>\n",
       "  </tbody>\n",
       "</table>\n",
       "</div>"
      ],
      "text/plain": [
       "                    Acurácia Precisão   Recall F1-Score\n",
       "Modelo                                                 \n",
       "XGBoost              65.00 %  65.36 %  65.00 %  63.60 %\n",
       "CatBoost             65.00 %  68.12 %  65.00 %  61.51 %\n",
       "LightGBM             60.00 %  62.35 %  60.00 %  54.29 %\n",
       "Random Forest        55.00 %  53.06 %  55.00 %  46.11 %\n",
       "Regressão Logística  45.00 %  46.79 %  45.00 %  42.89 %"
      ]
     },
     "metadata": {},
     "output_type": "display_data"
    }
   ],
   "source": [
    "# Gerar tabela com o score\n",
    "\n",
    "# Criar um dicionario com os resultados\n",
    "resultados = [\n",
    "    (\"Regressão Logística\", y_test, previsao_rl),\n",
    "    (\"Random Forest\", y_test, previsao_rf),\n",
    "    (\"XGBoost\", y_test, previsao_xgb),\n",
    "    (\"LightGBM\", y_test, previsao_lgbm),\n",
    "    (\"CatBoost\", y_test, previsao_cat)\n",
    "]\n",
    "\n",
    "# Criar um data frame com os resultados\n",
    "performance = pd.DataFrame(\n",
    "    columns=[\"Modelo\", \"Acurácia\", \"Precisão\", \"Recall\", \"F1-Score\"]\n",
    ")\n",
    "\n",
    "for nome_modelo, y_verdadeiro, y_previsto in resultados:\n",
    "    \n",
    "    report = classification_report(y_verdadeiro, y_previsto, output_dict=True, zero_division=0)\n",
    "    \n",
    "    performance.loc[performance.shape[0]] = {\n",
    "        \"Modelo\": nome_modelo,\n",
    "        \"Acurácia\": report[\"accuracy\"],\n",
    "        \"Precisão\": report[\"weighted avg\"][\"precision\"],\n",
    "        \"Recall\": report[\"weighted avg\"][\"recall\"],\n",
    "        \"F1-Score\": report[\"weighted avg\"][\"f1-score\"],\n",
    "    }\n",
    "\n",
    "performance.set_index(\"Modelo\", inplace=True)\n",
    "performance = performance.map(lambda x: f\"{(100 * x):.2f} %\")\n",
    "performance.sort_values(by=\"Acurácia\", ascending=False, inplace=True)\n",
    "\n",
    "display(performance)"
   ]
  }
 ],
 "metadata": {
  "kernelspec": {
   "display_name": "base",
   "language": "python",
   "name": "python3"
  },
  "language_info": {
   "codemirror_mode": {
    "name": "ipython",
    "version": 3
   },
   "file_extension": ".py",
   "mimetype": "text/x-python",
   "name": "python",
   "nbconvert_exporter": "python",
   "pygments_lexer": "ipython3",
   "version": "3.12.3"
  }
 },
 "nbformat": 4,
 "nbformat_minor": 5
}
