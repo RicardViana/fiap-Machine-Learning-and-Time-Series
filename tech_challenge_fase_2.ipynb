{
 "cells": [
  {
   "cell_type": "markdown",
   "id": "1928e801",
   "metadata": {},
   "source": [
    "#### Tech Challenge - Fase 2 - Machine Learning and Time Series"
   ]
  },
  {
   "cell_type": "markdown",
   "id": "688ff897",
   "metadata": {},
   "source": [
    "#### O problema \n",
    "\n",
    "Desenvolver um modelo preditivo capaz de prever se o índice IBOVESPA vai fechar em alta ou baixa no dia seguinte, com base em dados históricos do próprio índice"
   ]
  },
  {
   "cell_type": "markdown",
   "id": "36873844",
   "metadata": {},
   "source": [
    "#### O que é Ibovespa \n",
    "\n",
    "É o principal indicador de desempenho das ações negociadas na B3 e reúne as empresas mais importantes do mercado de capitais brasileiro. Foi criado em 1968 e, ao longo desses 50 anos, consolidou-se como referência para investidores ao redor do mundo.\n",
    "\n",
    "\n",
    "https://pt.wikipedia.org/wiki/Ibovespa\n",
    "\n",
    "https://www.b3.com.br/pt_br/market-data-e-indices/indices/indices-amplos/ibovespa.htm"
   ]
  },
  {
   "cell_type": "markdown",
   "id": "60ab9845",
   "metadata": {},
   "source": [
    "#### Fonte de dados \n",
    "\n",
    "Dados históricos do índice IBOVESPA disponíveis publicamente no link https://br.investing.com/indices/bovespa-historical-data e importando para o seguinte repositorio do Github https://github.com/RicardViana/fiap-Machine-Learning-and-Time-Series/blob/main/Dados%20Hist%C3%B3ricos%20Ibovespa.csv"
   ]
  },
  {
   "cell_type": "markdown",
   "id": "1005da58",
   "metadata": {},
   "source": [
    "#### Dicionário de dados\n",
    "\n",
    "\n",
    "| Nome da Coluna | Descrição | Tipo de Dado |\n",
    "| :--- | :--- | :--- |\n",
    "| `Data` | A data da observação, no formato \"DD/MM/AAAA\". | Texto (object) |\n",
    "| `Ultimo` | O preço de fechamento do Ibovespa no dia. | Numérico (float64) |\n",
    "| `Abertura` | O preço de abertura do Ibovespa no dia. | Numérico (float64) |\n",
    "| `Maxima` | O preço máximo atingido pelo Ibovespa no dia. | Numérico (float64) |\n",
    "| `Minima` | O preço mínimo atingido pelo Ibovespa no dia. | Numérico (float64) |\n",
    "| `Volume` | O volume de negociações do dia. Os valores são representados em texto com sufixos (ex: \"B\" para bilhões, \"M\" para milhões). | Texto (object) |\n",
    "| `Variacao` | A variação percentual do Ibovespa no dia. | Texto (object) |"
   ]
  },
  {
   "attachments": {
    "image.png": {
     "image/png": "[encoded data removed]"
    }
   },
   "cell_type": "markdown",
   "id": "2eab2110",
   "metadata": {},
   "source": [
    "#### Objetivo\n",
    "\n",
    "Criar um modelo que preveja se o fechamento do IBOVESPA do dia seguinte será maior ou menor que o do dia atual, ou seja:\n",
    "\n",
    "![image.png](attachment:image.png)\n",
    "\n",
    "Onde deve prever a tendência (↑ ou ↓) com acuracidade mínima de 75% em um conjunto de teste, esse que contera o último mês (30 dias) de dados disponíveis"
   ]
  },
  {
   "cell_type": "markdown",
   "id": "783c919e",
   "metadata": {},
   "source": [
    "#### Desenvolvimento"
   ]
  },
  {
   "cell_type": "markdown",
   "id": "69619e2c",
   "metadata": {},
   "source": [
    "##### Importação de bibliotecas e pacotes"
   ]
  },
  {
   "cell_type": "code",
   "execution_count": 120,
   "id": "9908a652",
   "metadata": {},
   "outputs": [],
   "source": [
    "# Importar biblioteca completa\n",
    "import pandas as pd \n",
    "import numpy as np\n",
    "import matplotlib.pyplot as plt\n",
    "import seaborn as sns\n",
    "import yfinance as yf\n",
    "\n",
    "# Importar função especifica de um módulo\n",
    "from statsmodels.tsa.seasonal import seasonal_decompose"
   ]
  },
  {
   "cell_type": "markdown",
   "id": "08ff9e7c",
   "metadata": {},
   "source": [
    "##### Criação de funções (DEF)"
   ]
  },
  {
   "cell_type": "markdown",
   "id": "80b08bfd",
   "metadata": {},
   "source": [
    "##### Análise Exploratória de Dados (EDA)"
   ]
  },
  {
   "cell_type": "code",
   "execution_count": 107,
   "id": "767cebda",
   "metadata": {},
   "outputs": [
    {
     "name": "stdout",
     "output_type": "stream",
     "text": [
      "Primeiros dados\n"
     ]
    },
    {
     "data": {
      "application/vnd.microsoft.datawrangler.viewer.v0+json": {
       "columns": [
        {
         "name": "Date",
         "rawType": "datetime64[ns]",
         "type": "datetime"
        },
        {
         "name": "Close",
         "rawType": "float64",
         "type": "float"
        },
        {
         "name": "High",
         "rawType": "float64",
         "type": "float"
        },
        {
         "name": "Low",
         "rawType": "float64",
         "type": "float"
        },
        {
         "name": "Open",
         "rawType": "float64",
         "type": "float"
        },
        {
         "name": "Volume",
         "rawType": "int64",
         "type": "integer"
        }
       ],
       "ref": "2ae0401a-42d4-45bf-967e-ac43a813f553",
       "rows": [
        [
         "1993-04-27 00:00:00",
         "24.5",
         "25.399999618530273",
         "24.5",
         "24.799999237060547",
         "0"
        ],
        [
         "1993-04-28 00:00:00",
         "24.299999237060547",
         "24.600000381469727",
         "23.700000762939453",
         "24.5",
         "0"
        ],
        [
         "1993-04-29 00:00:00",
         "23.700000762939453",
         "24.799999237060547",
         "23.700000762939453",
         "24.299999237060547",
         "0"
        ],
        [
         "1993-04-30 00:00:00",
         "24.100000381469727",
         "24.200000762939453",
         "23.700000762939453",
         "23.700000762939453",
         "0"
        ],
        [
         "1993-05-03 00:00:00",
         "24.100000381469727",
         "24.399999618530273",
         "23.799999237060547",
         "24.100000381469727",
         "0"
        ]
       ],
       "shape": {
        "columns": 5,
        "rows": 5
       }
      },
      "text/html": [
       "<div>\n",
       "<style scoped>\n",
       "    .dataframe tbody tr th:only-of-type {\n",
       "        vertical-align: middle;\n",
       "    }\n",
       "\n",
       "    .dataframe tbody tr th {\n",
       "        vertical-align: top;\n",
       "    }\n",
       "\n",
       "    .dataframe thead th {\n",
       "        text-align: right;\n",
       "    }\n",
       "</style>\n",
       "<table border=\"1\" class=\"dataframe\">\n",
       "  <thead>\n",
       "    <tr style=\"text-align: right;\">\n",
       "      <th></th>\n",
       "      <th>Close</th>\n",
       "      <th>High</th>\n",
       "      <th>Low</th>\n",
       "      <th>Open</th>\n",
       "      <th>Volume</th>\n",
       "    </tr>\n",
       "    <tr>\n",
       "      <th>Date</th>\n",
       "      <th></th>\n",
       "      <th></th>\n",
       "      <th></th>\n",
       "      <th></th>\n",
       "      <th></th>\n",
       "    </tr>\n",
       "  </thead>\n",
       "  <tbody>\n",
       "    <tr>\n",
       "      <th>1993-04-27</th>\n",
       "      <td>24.500000</td>\n",
       "      <td>25.400000</td>\n",
       "      <td>24.500000</td>\n",
       "      <td>24.799999</td>\n",
       "      <td>0</td>\n",
       "    </tr>\n",
       "    <tr>\n",
       "      <th>1993-04-28</th>\n",
       "      <td>24.299999</td>\n",
       "      <td>24.600000</td>\n",
       "      <td>23.700001</td>\n",
       "      <td>24.500000</td>\n",
       "      <td>0</td>\n",
       "    </tr>\n",
       "    <tr>\n",
       "      <th>1993-04-29</th>\n",
       "      <td>23.700001</td>\n",
       "      <td>24.799999</td>\n",
       "      <td>23.700001</td>\n",
       "      <td>24.299999</td>\n",
       "      <td>0</td>\n",
       "    </tr>\n",
       "    <tr>\n",
       "      <th>1993-04-30</th>\n",
       "      <td>24.100000</td>\n",
       "      <td>24.200001</td>\n",
       "      <td>23.700001</td>\n",
       "      <td>23.700001</td>\n",
       "      <td>0</td>\n",
       "    </tr>\n",
       "    <tr>\n",
       "      <th>1993-05-03</th>\n",
       "      <td>24.100000</td>\n",
       "      <td>24.400000</td>\n",
       "      <td>23.799999</td>\n",
       "      <td>24.100000</td>\n",
       "      <td>0</td>\n",
       "    </tr>\n",
       "  </tbody>\n",
       "</table>\n",
       "</div>"
      ],
      "text/plain": [
       "                Close       High        Low       Open  Volume\n",
       "Date                                                          \n",
       "1993-04-27  24.500000  25.400000  24.500000  24.799999       0\n",
       "1993-04-28  24.299999  24.600000  23.700001  24.500000       0\n",
       "1993-04-29  23.700001  24.799999  23.700001  24.299999       0\n",
       "1993-04-30  24.100000  24.200001  23.700001  23.700001       0\n",
       "1993-05-03  24.100000  24.400000  23.799999  24.100000       0"
      ]
     },
     "metadata": {},
     "output_type": "display_data"
    },
    {
     "name": "stdout",
     "output_type": "stream",
     "text": [
      "\n",
      "Ultimos dados\n"
     ]
    },
    {
     "data": {
      "application/vnd.microsoft.datawrangler.viewer.v0+json": {
       "columns": [
        {
         "name": "Date",
         "rawType": "datetime64[ns]",
         "type": "datetime"
        },
        {
         "name": "Close",
         "rawType": "float64",
         "type": "float"
        },
        {
         "name": "High",
         "rawType": "float64",
         "type": "float"
        },
        {
         "name": "Low",
         "rawType": "float64",
         "type": "float"
        },
        {
         "name": "Open",
         "rawType": "float64",
         "type": "float"
        },
        {
         "name": "Volume",
         "rawType": "int64",
         "type": "integer"
        }
       ],
       "ref": "bab24845-d013-468e-88a5-9a3af7fc6d8f",
       "rows": [
        [
         "2025-07-14 00:00:00",
         "135299.0",
         "136187.0",
         "134840.0",
         "136187.0",
         "7325600"
        ],
        [
         "2025-07-15 00:00:00",
         "135250.0",
         "136022.0",
         "134380.0",
         "135298.0",
         "6904200"
        ],
        [
         "2025-07-16 00:00:00",
         "135511.0",
         "135641.0",
         "134265.0",
         "135250.0",
         "7833200"
        ],
        [
         "2025-07-17 00:00:00",
         "135565.0",
         "135793.0",
         "135016.0",
         "135515.0",
         "6800000"
        ],
        [
         "2025-07-18 00:00:00",
         "133382.0",
         "135563.0",
         "133296.0",
         "135563.0",
         "10071800"
        ]
       ],
       "shape": {
        "columns": 5,
        "rows": 5
       }
      },
      "text/html": [
       "<div>\n",
       "<style scoped>\n",
       "    .dataframe tbody tr th:only-of-type {\n",
       "        vertical-align: middle;\n",
       "    }\n",
       "\n",
       "    .dataframe tbody tr th {\n",
       "        vertical-align: top;\n",
       "    }\n",
       "\n",
       "    .dataframe thead th {\n",
       "        text-align: right;\n",
       "    }\n",
       "</style>\n",
       "<table border=\"1\" class=\"dataframe\">\n",
       "  <thead>\n",
       "    <tr style=\"text-align: right;\">\n",
       "      <th></th>\n",
       "      <th>Close</th>\n",
       "      <th>High</th>\n",
       "      <th>Low</th>\n",
       "      <th>Open</th>\n",
       "      <th>Volume</th>\n",
       "    </tr>\n",
       "    <tr>\n",
       "      <th>Date</th>\n",
       "      <th></th>\n",
       "      <th></th>\n",
       "      <th></th>\n",
       "      <th></th>\n",
       "      <th></th>\n",
       "    </tr>\n",
       "  </thead>\n",
       "  <tbody>\n",
       "    <tr>\n",
       "      <th>2025-07-14</th>\n",
       "      <td>135299.0</td>\n",
       "      <td>136187.0</td>\n",
       "      <td>134840.0</td>\n",
       "      <td>136187.0</td>\n",
       "      <td>7325600</td>\n",
       "    </tr>\n",
       "    <tr>\n",
       "      <th>2025-07-15</th>\n",
       "      <td>135250.0</td>\n",
       "      <td>136022.0</td>\n",
       "      <td>134380.0</td>\n",
       "      <td>135298.0</td>\n",
       "      <td>6904200</td>\n",
       "    </tr>\n",
       "    <tr>\n",
       "      <th>2025-07-16</th>\n",
       "      <td>135511.0</td>\n",
       "      <td>135641.0</td>\n",
       "      <td>134265.0</td>\n",
       "      <td>135250.0</td>\n",
       "      <td>7833200</td>\n",
       "    </tr>\n",
       "    <tr>\n",
       "      <th>2025-07-17</th>\n",
       "      <td>135565.0</td>\n",
       "      <td>135793.0</td>\n",
       "      <td>135016.0</td>\n",
       "      <td>135515.0</td>\n",
       "      <td>6800000</td>\n",
       "    </tr>\n",
       "    <tr>\n",
       "      <th>2025-07-18</th>\n",
       "      <td>133382.0</td>\n",
       "      <td>135563.0</td>\n",
       "      <td>133296.0</td>\n",
       "      <td>135563.0</td>\n",
       "      <td>10071800</td>\n",
       "    </tr>\n",
       "  </tbody>\n",
       "</table>\n",
       "</div>"
      ],
      "text/plain": [
       "               Close      High       Low      Open    Volume\n",
       "Date                                                        \n",
       "2025-07-14  135299.0  136187.0  134840.0  136187.0   7325600\n",
       "2025-07-15  135250.0  136022.0  134380.0  135298.0   6904200\n",
       "2025-07-16  135511.0  135641.0  134265.0  135250.0   7833200\n",
       "2025-07-17  135565.0  135793.0  135016.0  135515.0   6800000\n",
       "2025-07-18  133382.0  135563.0  133296.0  135563.0  10071800"
      ]
     },
     "metadata": {},
     "output_type": "display_data"
    }
   ],
   "source": [
    "\"\"\"\n",
    "\n",
    "Com sugestão do colega da pós Tiago Turra existe uma biblioteca chamada yfinance (https://pypi.org/project/yfinance/) que possi os mesmo dados do site https://br.investing.com/indices/bovespa-historical-data\n",
    "\n",
    "\"\"\"\n",
    "\n",
    "# Importando os dados via yfinance\n",
    "\n",
    "dados_yf = yf.download('^BVSP', period=\"max\", interval=\"1d\", auto_adjust=True, multi_level_index=False, progress=False)\n",
    "\n",
    "print(\"Primeiros dados\")\n",
    "display(dados_yf.head())\n",
    "\n",
    "print(\"\\nUltimos dados\")\n",
    "display(dados_yf.tail())"
   ]
  },
  {
   "cell_type": "code",
   "execution_count": 108,
   "id": "4c323470",
   "metadata": {},
   "outputs": [],
   "source": [
    "# Importar os dados via github \n",
    "# Necessario o uso do arumento thousands e decimal para não ter problema com o data frame --> o . na fonte é para separar o milhar\n",
    "\n",
    "link = r\"https://raw.githubusercontent.com/RicardViana/fiap-Machine-Learning-and-Time-Series/refs/heads/main/Dados%20Hist%C3%B3ricos%20Ibovespa.csv\"\n",
    "dados_origem = pd.read_csv(link, sep= \";\", thousands='.', decimal=',', index_col=\"Data\")"
   ]
  },
  {
   "cell_type": "code",
   "execution_count": 109,
   "id": "b83b6b1a",
   "metadata": {},
   "outputs": [
    {
     "data": {
      "application/vnd.microsoft.datawrangler.viewer.v0+json": {
       "columns": [
        {
         "name": "Data",
         "rawType": "object",
         "type": "string"
        },
        {
         "name": "Ultimo",
         "rawType": "int64",
         "type": "integer"
        },
        {
         "name": "Abertura",
         "rawType": "int64",
         "type": "integer"
        },
        {
         "name": "Maxima",
         "rawType": "int64",
         "type": "integer"
        },
        {
         "name": "Minima",
         "rawType": "int64",
         "type": "integer"
        },
        {
         "name": "Volume",
         "rawType": "object",
         "type": "string"
        },
        {
         "name": "Variacao",
         "rawType": "object",
         "type": "string"
        }
       ],
       "ref": "0fa241a1-f5a9-484b-9a47-c79059566cd2",
       "rows": [
        [
         "02/01/1995",
         "4301",
         "4354",
         "4398",
         "4300",
         "4,10B",
         "-1,22%"
        ],
        [
         "03/01/1995",
         "4098",
         "4370",
         "4386",
         "4094",
         "8,35B",
         "-4,72%"
        ],
        [
         "04/01/1995",
         "3968",
         "4098",
         "4098",
         "3861",
         "11,95B",
         "-3,17%"
        ],
        [
         "05/01/1995",
         "4037",
         "3968",
         "4040",
         "3944",
         "8,76B",
         "1,74%"
        ],
        [
         "06/01/1995",
         "3827",
         "4037",
         "4106",
         "3813",
         "12,02B",
         "-5,20%"
        ]
       ],
       "shape": {
        "columns": 6,
        "rows": 5
       }
      },
      "text/html": [
       "<div>\n",
       "<style scoped>\n",
       "    .dataframe tbody tr th:only-of-type {\n",
       "        vertical-align: middle;\n",
       "    }\n",
       "\n",
       "    .dataframe tbody tr th {\n",
       "        vertical-align: top;\n",
       "    }\n",
       "\n",
       "    .dataframe thead th {\n",
       "        text-align: right;\n",
       "    }\n",
       "</style>\n",
       "<table border=\"1\" class=\"dataframe\">\n",
       "  <thead>\n",
       "    <tr style=\"text-align: right;\">\n",
       "      <th></th>\n",
       "      <th>Ultimo</th>\n",
       "      <th>Abertura</th>\n",
       "      <th>Maxima</th>\n",
       "      <th>Minima</th>\n",
       "      <th>Volume</th>\n",
       "      <th>Variacao</th>\n",
       "    </tr>\n",
       "    <tr>\n",
       "      <th>Data</th>\n",
       "      <th></th>\n",
       "      <th></th>\n",
       "      <th></th>\n",
       "      <th></th>\n",
       "      <th></th>\n",
       "      <th></th>\n",
       "    </tr>\n",
       "  </thead>\n",
       "  <tbody>\n",
       "    <tr>\n",
       "      <th>02/01/1995</th>\n",
       "      <td>4301</td>\n",
       "      <td>4354</td>\n",
       "      <td>4398</td>\n",
       "      <td>4300</td>\n",
       "      <td>4,10B</td>\n",
       "      <td>-1,22%</td>\n",
       "    </tr>\n",
       "    <tr>\n",
       "      <th>03/01/1995</th>\n",
       "      <td>4098</td>\n",
       "      <td>4370</td>\n",
       "      <td>4386</td>\n",
       "      <td>4094</td>\n",
       "      <td>8,35B</td>\n",
       "      <td>-4,72%</td>\n",
       "    </tr>\n",
       "    <tr>\n",
       "      <th>04/01/1995</th>\n",
       "      <td>3968</td>\n",
       "      <td>4098</td>\n",
       "      <td>4098</td>\n",
       "      <td>3861</td>\n",
       "      <td>11,95B</td>\n",
       "      <td>-3,17%</td>\n",
       "    </tr>\n",
       "    <tr>\n",
       "      <th>05/01/1995</th>\n",
       "      <td>4037</td>\n",
       "      <td>3968</td>\n",
       "      <td>4040</td>\n",
       "      <td>3944</td>\n",
       "      <td>8,76B</td>\n",
       "      <td>1,74%</td>\n",
       "    </tr>\n",
       "    <tr>\n",
       "      <th>06/01/1995</th>\n",
       "      <td>3827</td>\n",
       "      <td>4037</td>\n",
       "      <td>4106</td>\n",
       "      <td>3813</td>\n",
       "      <td>12,02B</td>\n",
       "      <td>-5,20%</td>\n",
       "    </tr>\n",
       "  </tbody>\n",
       "</table>\n",
       "</div>"
      ],
      "text/plain": [
       "            Ultimo  Abertura  Maxima  Minima  Volume Variacao\n",
       "Data                                                         \n",
       "02/01/1995    4301      4354    4398    4300   4,10B   -1,22%\n",
       "03/01/1995    4098      4370    4386    4094   8,35B   -4,72%\n",
       "04/01/1995    3968      4098    4098    3861  11,95B   -3,17%\n",
       "05/01/1995    4037      3968    4040    3944   8,76B    1,74%\n",
       "06/01/1995    3827      4037    4106    3813  12,02B   -5,20%"
      ]
     },
     "execution_count": 109,
     "metadata": {},
     "output_type": "execute_result"
    }
   ],
   "source": [
    "# Verificando os dados via .head\n",
    "\n",
    "dados_origem.head()"
   ]
  },
  {
   "cell_type": "code",
   "execution_count": 110,
   "id": "89165cf0",
   "metadata": {},
   "outputs": [
    {
     "data": {
      "application/vnd.microsoft.datawrangler.viewer.v0+json": {
       "columns": [
        {
         "name": "Data",
         "rawType": "object",
         "type": "string"
        },
        {
         "name": "Ultimo",
         "rawType": "int64",
         "type": "integer"
        },
        {
         "name": "Abertura",
         "rawType": "int64",
         "type": "integer"
        },
        {
         "name": "Maxima",
         "rawType": "int64",
         "type": "integer"
        },
        {
         "name": "Minima",
         "rawType": "int64",
         "type": "integer"
        },
        {
         "name": "Volume",
         "rawType": "object",
         "type": "string"
        },
        {
         "name": "Variacao",
         "rawType": "object",
         "type": "string"
        }
       ],
       "ref": "a3c59fce-8ccc-45be-9a14-0e8c4269f009",
       "rows": [
        [
         "30/06/2025",
         "138855",
         "136865",
         "139103",
         "136430",
         "7,68B",
         "1,45%"
        ],
        [
         "01/07/2025",
         "139549",
         "138855",
         "139695",
         "138855",
         "6,35B",
         "0,50%"
        ],
        [
         "02/07/2025",
         "139051",
         "139586",
         "140049",
         "138384",
         "8,81B",
         "-0,36%"
        ],
        [
         "03/07/2025",
         "140928",
         "139051",
         "141304",
         "139051",
         "6,08B",
         "1,35%"
        ],
        [
         "04/07/2025",
         "141264",
         "140928",
         "141564",
         "140597",
         "3,31B",
         "0,24%"
        ]
       ],
       "shape": {
        "columns": 6,
        "rows": 5
       }
      },
      "text/html": [
       "<div>\n",
       "<style scoped>\n",
       "    .dataframe tbody tr th:only-of-type {\n",
       "        vertical-align: middle;\n",
       "    }\n",
       "\n",
       "    .dataframe tbody tr th {\n",
       "        vertical-align: top;\n",
       "    }\n",
       "\n",
       "    .dataframe thead th {\n",
       "        text-align: right;\n",
       "    }\n",
       "</style>\n",
       "<table border=\"1\" class=\"dataframe\">\n",
       "  <thead>\n",
       "    <tr style=\"text-align: right;\">\n",
       "      <th></th>\n",
       "      <th>Ultimo</th>\n",
       "      <th>Abertura</th>\n",
       "      <th>Maxima</th>\n",
       "      <th>Minima</th>\n",
       "      <th>Volume</th>\n",
       "      <th>Variacao</th>\n",
       "    </tr>\n",
       "    <tr>\n",
       "      <th>Data</th>\n",
       "      <th></th>\n",
       "      <th></th>\n",
       "      <th></th>\n",
       "      <th></th>\n",
       "      <th></th>\n",
       "      <th></th>\n",
       "    </tr>\n",
       "  </thead>\n",
       "  <tbody>\n",
       "    <tr>\n",
       "      <th>30/06/2025</th>\n",
       "      <td>138855</td>\n",
       "      <td>136865</td>\n",
       "      <td>139103</td>\n",
       "      <td>136430</td>\n",
       "      <td>7,68B</td>\n",
       "      <td>1,45%</td>\n",
       "    </tr>\n",
       "    <tr>\n",
       "      <th>01/07/2025</th>\n",
       "      <td>139549</td>\n",
       "      <td>138855</td>\n",
       "      <td>139695</td>\n",
       "      <td>138855</td>\n",
       "      <td>6,35B</td>\n",
       "      <td>0,50%</td>\n",
       "    </tr>\n",
       "    <tr>\n",
       "      <th>02/07/2025</th>\n",
       "      <td>139051</td>\n",
       "      <td>139586</td>\n",
       "      <td>140049</td>\n",
       "      <td>138384</td>\n",
       "      <td>8,81B</td>\n",
       "      <td>-0,36%</td>\n",
       "    </tr>\n",
       "    <tr>\n",
       "      <th>03/07/2025</th>\n",
       "      <td>140928</td>\n",
       "      <td>139051</td>\n",
       "      <td>141304</td>\n",
       "      <td>139051</td>\n",
       "      <td>6,08B</td>\n",
       "      <td>1,35%</td>\n",
       "    </tr>\n",
       "    <tr>\n",
       "      <th>04/07/2025</th>\n",
       "      <td>141264</td>\n",
       "      <td>140928</td>\n",
       "      <td>141564</td>\n",
       "      <td>140597</td>\n",
       "      <td>3,31B</td>\n",
       "      <td>0,24%</td>\n",
       "    </tr>\n",
       "  </tbody>\n",
       "</table>\n",
       "</div>"
      ],
      "text/plain": [
       "            Ultimo  Abertura  Maxima  Minima Volume Variacao\n",
       "Data                                                        \n",
       "30/06/2025  138855    136865  139103  136430  7,68B    1,45%\n",
       "01/07/2025  139549    138855  139695  138855  6,35B    0,50%\n",
       "02/07/2025  139051    139586  140049  138384  8,81B   -0,36%\n",
       "03/07/2025  140928    139051  141304  139051  6,08B    1,35%\n",
       "04/07/2025  141264    140928  141564  140597  3,31B    0,24%"
      ]
     },
     "execution_count": 110,
     "metadata": {},
     "output_type": "execute_result"
    }
   ],
   "source": [
    "# Verificando os dados via .tail\n",
    "\n",
    "dados_origem.tail()"
   ]
  },
  {
   "cell_type": "code",
   "execution_count": 111,
   "id": "1ed3377b",
   "metadata": {},
   "outputs": [],
   "source": [
    "# Ajustar o formato da coluna Data \n",
    "\n",
    "dados_origem.index = pd.to_datetime(dados_origem.index, format = \"%d/%m/%Y\")"
   ]
  },
  {
   "cell_type": "code",
   "execution_count": 112,
   "id": "e2bbdb21",
   "metadata": {},
   "outputs": [
    {
     "name": "stdout",
     "output_type": "stream",
     "text": [
      "Dados do data frame dados_origem\n"
     ]
    },
    {
     "data": {
      "application/vnd.microsoft.datawrangler.viewer.v0+json": {
       "columns": [
        {
         "name": "Data",
         "rawType": "datetime64[ns]",
         "type": "datetime"
        },
        {
         "name": "Ultimo",
         "rawType": "int64",
         "type": "integer"
        },
        {
         "name": "Abertura",
         "rawType": "int64",
         "type": "integer"
        },
        {
         "name": "Maxima",
         "rawType": "int64",
         "type": "integer"
        },
        {
         "name": "Minima",
         "rawType": "int64",
         "type": "integer"
        }
       ],
       "ref": "ff0c5fb4-168a-4b7a-b2ca-9fb7280e1951",
       "rows": [
        [
         "2025-06-30 00:00:00",
         "138855",
         "136865",
         "139103",
         "136430"
        ],
        [
         "2025-07-01 00:00:00",
         "139549",
         "138855",
         "139695",
         "138855"
        ],
        [
         "2025-07-02 00:00:00",
         "139051",
         "139586",
         "140049",
         "138384"
        ],
        [
         "2025-07-03 00:00:00",
         "140928",
         "139051",
         "141304",
         "139051"
        ],
        [
         "2025-07-04 00:00:00",
         "141264",
         "140928",
         "141564",
         "140597"
        ]
       ],
       "shape": {
        "columns": 4,
        "rows": 5
       }
      },
      "text/html": [
       "<div>\n",
       "<style scoped>\n",
       "    .dataframe tbody tr th:only-of-type {\n",
       "        vertical-align: middle;\n",
       "    }\n",
       "\n",
       "    .dataframe tbody tr th {\n",
       "        vertical-align: top;\n",
       "    }\n",
       "\n",
       "    .dataframe thead th {\n",
       "        text-align: right;\n",
       "    }\n",
       "</style>\n",
       "<table border=\"1\" class=\"dataframe\">\n",
       "  <thead>\n",
       "    <tr style=\"text-align: right;\">\n",
       "      <th></th>\n",
       "      <th>Ultimo</th>\n",
       "      <th>Abertura</th>\n",
       "      <th>Maxima</th>\n",
       "      <th>Minima</th>\n",
       "    </tr>\n",
       "    <tr>\n",
       "      <th>Data</th>\n",
       "      <th></th>\n",
       "      <th></th>\n",
       "      <th></th>\n",
       "      <th></th>\n",
       "    </tr>\n",
       "  </thead>\n",
       "  <tbody>\n",
       "    <tr>\n",
       "      <th>2025-06-30</th>\n",
       "      <td>138855</td>\n",
       "      <td>136865</td>\n",
       "      <td>139103</td>\n",
       "      <td>136430</td>\n",
       "    </tr>\n",
       "    <tr>\n",
       "      <th>2025-07-01</th>\n",
       "      <td>139549</td>\n",
       "      <td>138855</td>\n",
       "      <td>139695</td>\n",
       "      <td>138855</td>\n",
       "    </tr>\n",
       "    <tr>\n",
       "      <th>2025-07-02</th>\n",
       "      <td>139051</td>\n",
       "      <td>139586</td>\n",
       "      <td>140049</td>\n",
       "      <td>138384</td>\n",
       "    </tr>\n",
       "    <tr>\n",
       "      <th>2025-07-03</th>\n",
       "      <td>140928</td>\n",
       "      <td>139051</td>\n",
       "      <td>141304</td>\n",
       "      <td>139051</td>\n",
       "    </tr>\n",
       "    <tr>\n",
       "      <th>2025-07-04</th>\n",
       "      <td>141264</td>\n",
       "      <td>140928</td>\n",
       "      <td>141564</td>\n",
       "      <td>140597</td>\n",
       "    </tr>\n",
       "  </tbody>\n",
       "</table>\n",
       "</div>"
      ],
      "text/plain": [
       "            Ultimo  Abertura  Maxima  Minima\n",
       "Data                                        \n",
       "2025-06-30  138855    136865  139103  136430\n",
       "2025-07-01  139549    138855  139695  138855\n",
       "2025-07-02  139051    139586  140049  138384\n",
       "2025-07-03  140928    139051  141304  139051\n",
       "2025-07-04  141264    140928  141564  140597"
      ]
     },
     "metadata": {},
     "output_type": "display_data"
    },
    {
     "name": "stdout",
     "output_type": "stream",
     "text": [
      "\n",
      "Dados do data frame dados_yf\n"
     ]
    },
    {
     "data": {
      "application/vnd.microsoft.datawrangler.viewer.v0+json": {
       "columns": [
        {
         "name": "Date",
         "rawType": "datetime64[ns]",
         "type": "datetime"
        },
        {
         "name": "Close",
         "rawType": "float64",
         "type": "float"
        },
        {
         "name": "Open",
         "rawType": "float64",
         "type": "float"
        },
        {
         "name": "High",
         "rawType": "float64",
         "type": "float"
        },
        {
         "name": "Low",
         "rawType": "float64",
         "type": "float"
        }
       ],
       "ref": "57de7c5f-056b-4743-8b13-dd422dbb1c5f",
       "rows": [
        [
         "2025-06-30 00:00:00",
         "138855.0",
         "136865.0",
         "139103.0",
         "136430.0"
        ],
        [
         "2025-07-01 00:00:00",
         "139549.0",
         "138855.0",
         "139695.0",
         "138855.0"
        ],
        [
         "2025-07-02 00:00:00",
         "139051.0",
         "139586.0",
         "140049.0",
         "138384.0"
        ],
        [
         "2025-07-03 00:00:00",
         "140928.0",
         "139051.0",
         "141304.0",
         "139051.0"
        ],
        [
         "2025-07-04 00:00:00",
         "141478.0",
         "140928.0",
         "141537.0",
         "140597.0"
        ]
       ],
       "shape": {
        "columns": 4,
        "rows": 5
       }
      },
      "text/html": [
       "<div>\n",
       "<style scoped>\n",
       "    .dataframe tbody tr th:only-of-type {\n",
       "        vertical-align: middle;\n",
       "    }\n",
       "\n",
       "    .dataframe tbody tr th {\n",
       "        vertical-align: top;\n",
       "    }\n",
       "\n",
       "    .dataframe thead th {\n",
       "        text-align: right;\n",
       "    }\n",
       "</style>\n",
       "<table border=\"1\" class=\"dataframe\">\n",
       "  <thead>\n",
       "    <tr style=\"text-align: right;\">\n",
       "      <th></th>\n",
       "      <th>Close</th>\n",
       "      <th>Open</th>\n",
       "      <th>High</th>\n",
       "      <th>Low</th>\n",
       "    </tr>\n",
       "    <tr>\n",
       "      <th>Date</th>\n",
       "      <th></th>\n",
       "      <th></th>\n",
       "      <th></th>\n",
       "      <th></th>\n",
       "    </tr>\n",
       "  </thead>\n",
       "  <tbody>\n",
       "    <tr>\n",
       "      <th>2025-06-30</th>\n",
       "      <td>138855.0</td>\n",
       "      <td>136865.0</td>\n",
       "      <td>139103.0</td>\n",
       "      <td>136430.0</td>\n",
       "    </tr>\n",
       "    <tr>\n",
       "      <th>2025-07-01</th>\n",
       "      <td>139549.0</td>\n",
       "      <td>138855.0</td>\n",
       "      <td>139695.0</td>\n",
       "      <td>138855.0</td>\n",
       "    </tr>\n",
       "    <tr>\n",
       "      <th>2025-07-02</th>\n",
       "      <td>139051.0</td>\n",
       "      <td>139586.0</td>\n",
       "      <td>140049.0</td>\n",
       "      <td>138384.0</td>\n",
       "    </tr>\n",
       "    <tr>\n",
       "      <th>2025-07-03</th>\n",
       "      <td>140928.0</td>\n",
       "      <td>139051.0</td>\n",
       "      <td>141304.0</td>\n",
       "      <td>139051.0</td>\n",
       "    </tr>\n",
       "    <tr>\n",
       "      <th>2025-07-04</th>\n",
       "      <td>141478.0</td>\n",
       "      <td>140928.0</td>\n",
       "      <td>141537.0</td>\n",
       "      <td>140597.0</td>\n",
       "    </tr>\n",
       "  </tbody>\n",
       "</table>\n",
       "</div>"
      ],
      "text/plain": [
       "               Close      Open      High       Low\n",
       "Date                                              \n",
       "2025-06-30  138855.0  136865.0  139103.0  136430.0\n",
       "2025-07-01  139549.0  138855.0  139695.0  138855.0\n",
       "2025-07-02  139051.0  139586.0  140049.0  138384.0\n",
       "2025-07-03  140928.0  139051.0  141304.0  139051.0\n",
       "2025-07-04  141478.0  140928.0  141537.0  140597.0"
      ]
     },
     "metadata": {},
     "output_type": "display_data"
    }
   ],
   "source": [
    "# Verificand os dados os dados do data frame dados_origem com o dados_yf --> Verificar se há diferença \n",
    "\n",
    "print(\"Dados do data frame dados_origem\")\n",
    "display(dados_origem[['Ultimo', 'Abertura', 'Maxima', 'Minima']].tail())\n",
    "\n",
    "print(\"\\nDados do data frame dados_yf\")\n",
    "display(dados_yf[['Close', 'Open', 'High', 'Low']].query(\"Date >= '2025-06-30 00:00:00' and Date <= '2025-07-04 00:00:00'\"))\n"
   ]
  },
  {
   "cell_type": "code",
   "execution_count": 113,
   "id": "6611e049",
   "metadata": {},
   "outputs": [
    {
     "name": "stdout",
     "output_type": "stream",
     "text": [
      "<class 'pandas.core.frame.DataFrame'>\n",
      "DatetimeIndex: 7555 entries, 1995-01-02 to 2025-07-04\n",
      "Data columns (total 6 columns):\n",
      " #   Column    Non-Null Count  Dtype \n",
      "---  ------    --------------  ----- \n",
      " 0   Ultimo    7555 non-null   int64 \n",
      " 1   Abertura  7555 non-null   int64 \n",
      " 2   Maxima    7555 non-null   int64 \n",
      " 3   Minima    7555 non-null   int64 \n",
      " 4   Volume    7554 non-null   object\n",
      " 5   Variacao  7555 non-null   object\n",
      "dtypes: int64(4), object(2)\n",
      "memory usage: 413.2+ KB\n"
     ]
    }
   ],
   "source": [
    "# Veficiando os dados dados do data frame \n",
    "\n",
    "dados_origem.info()"
   ]
  },
  {
   "cell_type": "code",
   "execution_count": 114,
   "id": "656a58f7",
   "metadata": {},
   "outputs": [
    {
     "data": {
      "application/vnd.microsoft.datawrangler.viewer.v0+json": {
       "columns": [
        {
         "name": "index",
         "rawType": "object",
         "type": "string"
        },
        {
         "name": "0",
         "rawType": "int64",
         "type": "integer"
        }
       ],
       "ref": "ea393d5e-f49a-4245-8155-f6d15da58928",
       "rows": [
        [
         "Ultimo",
         "0"
        ],
        [
         "Abertura",
         "0"
        ],
        [
         "Maxima",
         "0"
        ],
        [
         "Minima",
         "0"
        ],
        [
         "Volume",
         "1"
        ],
        [
         "Variacao",
         "0"
        ]
       ],
       "shape": {
        "columns": 1,
        "rows": 6
       }
      },
      "text/plain": [
       "Ultimo      0\n",
       "Abertura    0\n",
       "Maxima      0\n",
       "Minima      0\n",
       "Volume      1\n",
       "Variacao    0\n",
       "dtype: int64"
      ]
     },
     "execution_count": 114,
     "metadata": {},
     "output_type": "execute_result"
    }
   ],
   "source": [
    "# Verificando os dados nulos\n",
    "dados_origem.isnull().sum()"
   ]
  },
  {
   "cell_type": "code",
   "execution_count": 115,
   "id": "52578741",
   "metadata": {},
   "outputs": [
    {
     "data": {
      "application/vnd.microsoft.datawrangler.viewer.v0+json": {
       "columns": [
        {
         "name": "Data",
         "rawType": "datetime64[ns]",
         "type": "datetime"
        },
        {
         "name": "Ultimo",
         "rawType": "int64",
         "type": "integer"
        },
        {
         "name": "Abertura",
         "rawType": "int64",
         "type": "integer"
        },
        {
         "name": "Maxima",
         "rawType": "int64",
         "type": "integer"
        },
        {
         "name": "Minima",
         "rawType": "int64",
         "type": "integer"
        },
        {
         "name": "Volume",
         "rawType": "object",
         "type": "unknown"
        },
        {
         "name": "Variacao",
         "rawType": "object",
         "type": "string"
        }
       ],
       "ref": "e981fc8e-1208-42f3-a361-264149e2df97",
       "rows": [
        [
         "2016-02-10 00:00:00",
         "40377",
         "40592",
         "40592",
         "39960",
         null,
         "-0,53%"
        ]
       ],
       "shape": {
        "columns": 6,
        "rows": 1
       }
      },
      "text/html": [
       "<div>\n",
       "<style scoped>\n",
       "    .dataframe tbody tr th:only-of-type {\n",
       "        vertical-align: middle;\n",
       "    }\n",
       "\n",
       "    .dataframe tbody tr th {\n",
       "        vertical-align: top;\n",
       "    }\n",
       "\n",
       "    .dataframe thead th {\n",
       "        text-align: right;\n",
       "    }\n",
       "</style>\n",
       "<table border=\"1\" class=\"dataframe\">\n",
       "  <thead>\n",
       "    <tr style=\"text-align: right;\">\n",
       "      <th></th>\n",
       "      <th>Ultimo</th>\n",
       "      <th>Abertura</th>\n",
       "      <th>Maxima</th>\n",
       "      <th>Minima</th>\n",
       "      <th>Volume</th>\n",
       "      <th>Variacao</th>\n",
       "    </tr>\n",
       "    <tr>\n",
       "      <th>Data</th>\n",
       "      <th></th>\n",
       "      <th></th>\n",
       "      <th></th>\n",
       "      <th></th>\n",
       "      <th></th>\n",
       "      <th></th>\n",
       "    </tr>\n",
       "  </thead>\n",
       "  <tbody>\n",
       "    <tr>\n",
       "      <th>2016-02-10</th>\n",
       "      <td>40377</td>\n",
       "      <td>40592</td>\n",
       "      <td>40592</td>\n",
       "      <td>39960</td>\n",
       "      <td>NaN</td>\n",
       "      <td>-0,53%</td>\n",
       "    </tr>\n",
       "  </tbody>\n",
       "</table>\n",
       "</div>"
      ],
      "text/plain": [
       "            Ultimo  Abertura  Maxima  Minima Volume Variacao\n",
       "Data                                                        \n",
       "2016-02-10   40377     40592   40592   39960    NaN   -0,53%"
      ]
     },
     "execution_count": 115,
     "metadata": {},
     "output_type": "execute_result"
    }
   ],
   "source": [
    "# Verificando os registros que estão nulos \n",
    "# Como para o nosso projeto esse campo Volume não é util, vamos manter esse registro\n",
    "dados_origem[dados_origem.isnull().any(axis=1)]"
   ]
  },
  {
   "cell_type": "code",
   "execution_count": null,
   "id": "f2de032f",
   "metadata": {},
   "outputs": [
    {
     "data": {
      "application/vnd.microsoft.datawrangler.viewer.v0+json": {
       "columns": [
        {
         "name": "index",
         "rawType": "object",
         "type": "string"
        },
        {
         "name": "Ultimo",
         "rawType": "float64",
         "type": "float"
        },
        {
         "name": "Abertura",
         "rawType": "float64",
         "type": "float"
        },
        {
         "name": "Maxima",
         "rawType": "float64",
         "type": "float"
        },
        {
         "name": "Minima",
         "rawType": "float64",
         "type": "float"
        }
       ],
       "ref": "f10e529a-f2f7-41fd-8d25-712aed8b29c5",
       "rows": [
        [
         "count",
         "7555.0",
         "7555.0",
         "7555.0",
         "7555.0"
        ],
        [
         "mean",
         "53401.15830575777",
         "53384.24818001324",
         "53908.21125082727",
         "52869.34493712773"
        ],
        [
         "std",
         "38204.90104788895",
         "38195.05062206265",
         "38475.11690902926",
         "37923.17070423465"
        ],
        [
         "min",
         "2138.0",
         "2138.0",
         "2449.0",
         "2110.0"
        ],
        [
         "25%",
         "15098.5",
         "15094.0",
         "15275.5",
         "14858.0"
        ],
        [
         "50%",
         "52230.0",
         "52210.0",
         "52836.0",
         "51585.0"
        ],
        [
         "75%",
         "73438.0",
         "73435.0",
         "74463.0",
         "72493.5"
        ],
        [
         "max",
         "141264.0",
         "140928.0",
         "141564.0",
         "140597.0"
        ]
       ],
       "shape": {
        "columns": 4,
        "rows": 8
       }
      },
      "text/html": [
       "<div>\n",
       "<style scoped>\n",
       "    .dataframe tbody tr th:only-of-type {\n",
       "        vertical-align: middle;\n",
       "    }\n",
       "\n",
       "    .dataframe tbody tr th {\n",
       "        vertical-align: top;\n",
       "    }\n",
       "\n",
       "    .dataframe thead th {\n",
       "        text-align: right;\n",
       "    }\n",
       "</style>\n",
       "<table border=\"1\" class=\"dataframe\">\n",
       "  <thead>\n",
       "    <tr style=\"text-align: right;\">\n",
       "      <th></th>\n",
       "      <th>Ultimo</th>\n",
       "      <th>Abertura</th>\n",
       "      <th>Maxima</th>\n",
       "      <th>Minima</th>\n",
       "    </tr>\n",
       "  </thead>\n",
       "  <tbody>\n",
       "    <tr>\n",
       "      <th>count</th>\n",
       "      <td>7555.000000</td>\n",
       "      <td>7555.000000</td>\n",
       "      <td>7555.000000</td>\n",
       "      <td>7555.000000</td>\n",
       "    </tr>\n",
       "    <tr>\n",
       "      <th>mean</th>\n",
       "      <td>53401.158306</td>\n",
       "      <td>53384.248180</td>\n",
       "      <td>53908.211251</td>\n",
       "      <td>52869.344937</td>\n",
       "    </tr>\n",
       "    <tr>\n",
       "      <th>std</th>\n",
       "      <td>38204.901048</td>\n",
       "      <td>38195.050622</td>\n",
       "      <td>38475.116909</td>\n",
       "      <td>37923.170704</td>\n",
       "    </tr>\n",
       "    <tr>\n",
       "      <th>min</th>\n",
       "      <td>2138.000000</td>\n",
       "      <td>2138.000000</td>\n",
       "      <td>2449.000000</td>\n",
       "      <td>2110.000000</td>\n",
       "    </tr>\n",
       "    <tr>\n",
       "      <th>25%</th>\n",
       "      <td>15098.500000</td>\n",
       "      <td>15094.000000</td>\n",
       "      <td>15275.500000</td>\n",
       "      <td>14858.000000</td>\n",
       "    </tr>\n",
       "    <tr>\n",
       "      <th>50%</th>\n",
       "      <td>52230.000000</td>\n",
       "      <td>52210.000000</td>\n",
       "      <td>52836.000000</td>\n",
       "      <td>51585.000000</td>\n",
       "    </tr>\n",
       "    <tr>\n",
       "      <th>75%</th>\n",
       "      <td>73438.000000</td>\n",
       "      <td>73435.000000</td>\n",
       "      <td>74463.000000</td>\n",
       "      <td>72493.500000</td>\n",
       "    </tr>\n",
       "    <tr>\n",
       "      <th>max</th>\n",
       "      <td>141264.000000</td>\n",
       "      <td>140928.000000</td>\n",
       "      <td>141564.000000</td>\n",
       "      <td>140597.000000</td>\n",
       "    </tr>\n",
       "  </tbody>\n",
       "</table>\n",
       "</div>"
      ],
      "text/plain": [
       "              Ultimo       Abertura         Maxima         Minima\n",
       "count    7555.000000    7555.000000    7555.000000    7555.000000\n",
       "mean    53401.158306   53384.248180   53908.211251   52869.344937\n",
       "std     38204.901048   38195.050622   38475.116909   37923.170704\n",
       "min      2138.000000    2138.000000    2449.000000    2110.000000\n",
       "25%     15098.500000   15094.000000   15275.500000   14858.000000\n",
       "50%     52230.000000   52210.000000   52836.000000   51585.000000\n",
       "75%     73438.000000   73435.000000   74463.000000   72493.500000\n",
       "max    141264.000000  140928.000000  141564.000000  140597.000000"
      ]
     },
     "execution_count": 116,
     "metadata": {},
     "output_type": "execute_result"
    }
   ],
   "source": [
    "# Gerando a estatistica descritiva do data frame \n",
    "\n",
    "dados_origem.describe()"
   ]
  },
  {
   "cell_type": "code",
   "execution_count": null,
   "id": "9849cfa0",
   "metadata": {},
   "outputs": [
    {
     "data": {
      "application/vnd.microsoft.datawrangler.viewer.v0+json": {
       "columns": [
        {
         "name": "Data",
         "rawType": "datetime64[ns]",
         "type": "datetime"
        },
        {
         "name": "Ultimo",
         "rawType": "int64",
         "type": "integer"
        }
       ],
       "ref": "cb864569-1c38-4fb6-a60a-a84aa26374f5",
       "rows": [
        [
         "2025-06-30 00:00:00",
         "138855"
        ],
        [
         "2025-07-01 00:00:00",
         "139549"
        ],
        [
         "2025-07-02 00:00:00",
         "139051"
        ],
        [
         "2025-07-03 00:00:00",
         "140928"
        ],
        [
         "2025-07-04 00:00:00",
         "141264"
        ]
       ],
       "shape": {
        "columns": 1,
        "rows": 5
       }
      },
      "text/plain": [
       "Data\n",
       "2025-06-30    138855\n",
       "2025-07-01    139549\n",
       "2025-07-02    139051\n",
       "2025-07-03    140928\n",
       "2025-07-04    141264\n",
       "Name: Ultimo, dtype: int64"
      ]
     },
     "execution_count": 132,
     "metadata": {},
     "output_type": "execute_result"
    }
   ],
   "source": [
    "# Criando um novo data frame apenas com os campos necessarios\n",
    "\n",
    "dados_origem_ultimo = dados_origem[\"Ultimo\"].copy()\n",
    "dados_origem_ultimo.tail()"
   ]
  },
  {
   "cell_type": "code",
   "execution_count": 135,
   "id": "b91fc6ce",
   "metadata": {},
   "outputs": [
    {
     "data": {
      "text/plain": [
       "pandas.core.series.Series"
      ]
     },
     "execution_count": 135,
     "metadata": {},
     "output_type": "execute_result"
    }
   ],
   "source": [
    "type(dados_origem_ultimo)"
   ]
  },
  {
   "cell_type": "code",
   "execution_count": 136,
   "id": "61fc0213",
   "metadata": {},
   "outputs": [
    {
     "data": {
      "text/plain": [
       "pandas.core.frame.DataFrame"
      ]
     },
     "execution_count": 136,
     "metadata": {},
     "output_type": "execute_result"
    }
   ],
   "source": [
    "type(dados_origem)"
   ]
  },
  {
   "cell_type": "code",
   "execution_count": 140,
   "id": "d862ae69",
   "metadata": {},
   "outputs": [
    {
     "data": {
      "image/png": "[encoded data removed]",
      "text/plain": [
       "<Figure size 1500x500 with 1 Axes>"
      ]
     },
     "metadata": {},
     "output_type": "display_data"
    }
   ],
   "source": [
    "# Plotando um grafico de linha \n",
    "\n",
    "plt.figure(figsize=(15,5))\n",
    "plt.plot(dados_origem_ultimo.index,dados_origem_ultimo)\n",
    "plt.title(\"Evolução do indice Ibovespa (IBOV)\")\n",
    "plt.show()"
   ]
  },
  {
   "cell_type": "code",
   "execution_count": null,
   "id": "35a3bcd9",
   "metadata": {},
   "outputs": [
    {
     "ename": "ValueError",
     "evalue": "You must specify a period or x must be a pandas object with a PeriodIndex or a DatetimeIndex with a freq not set to None",
     "output_type": "error",
     "traceback": [
      "\u001b[1;31m---------------------------------------------------------------------------\u001b[0m",
      "\u001b[1;31mValueError\u001b[0m                                Traceback (most recent call last)",
      "Cell \u001b[1;32mIn[141], line 3\u001b[0m\n\u001b[0;32m      1\u001b[0m \u001b[38;5;66;03m# Gerando o graficos \u001b[39;00m\n\u001b[1;32m----> 3\u001b[0m resultados \u001b[38;5;241m=\u001b[39m seasonal_decompose(dados_origem_ultimo)\n\u001b[0;32m      5\u001b[0m fig, (ax1,ax2,ax3,ax4) \u001b[38;5;241m=\u001b[39m plt\u001b[38;5;241m.\u001b[39msubplots(\u001b[38;5;241m4\u001b[39m,\u001b[38;5;241m1\u001b[39m, figsize \u001b[38;5;241m=\u001b[39m (\u001b[38;5;241m15\u001b[39m,\u001b[38;5;241m10\u001b[39m))\n\u001b[0;32m      7\u001b[0m resultados\u001b[38;5;241m.\u001b[39mobserved\u001b[38;5;241m.\u001b[39mplot(ax\u001b[38;5;241m=\u001b[39max1) \u001b[38;5;66;03m# Plota o dado original\u001b[39;00m\n",
      "File \u001b[1;32mc:\\Users\\ricar\\anaconda3\\Lib\\site-packages\\statsmodels\\tsa\\seasonal.py:167\u001b[0m, in \u001b[0;36mseasonal_decompose\u001b[1;34m(x, model, filt, period, two_sided, extrapolate_trend)\u001b[0m\n\u001b[0;32m    165\u001b[0m         period \u001b[38;5;241m=\u001b[39m pfreq\n\u001b[0;32m    166\u001b[0m     \u001b[38;5;28;01melse\u001b[39;00m:\n\u001b[1;32m--> 167\u001b[0m         \u001b[38;5;28;01mraise\u001b[39;00m \u001b[38;5;167;01mValueError\u001b[39;00m(\n\u001b[0;32m    168\u001b[0m             \u001b[38;5;124m\"\u001b[39m\u001b[38;5;124mYou must specify a period or x must be a pandas object with \u001b[39m\u001b[38;5;124m\"\u001b[39m\n\u001b[0;32m    169\u001b[0m             \u001b[38;5;124m\"\u001b[39m\u001b[38;5;124ma PeriodIndex or a DatetimeIndex with a freq not set to None\u001b[39m\u001b[38;5;124m\"\u001b[39m\n\u001b[0;32m    170\u001b[0m         )\n\u001b[0;32m    171\u001b[0m \u001b[38;5;28;01mif\u001b[39;00m x\u001b[38;5;241m.\u001b[39mshape[\u001b[38;5;241m0\u001b[39m] \u001b[38;5;241m<\u001b[39m \u001b[38;5;241m2\u001b[39m \u001b[38;5;241m*\u001b[39m pfreq:\n\u001b[0;32m    172\u001b[0m     \u001b[38;5;28;01mraise\u001b[39;00m \u001b[38;5;167;01mValueError\u001b[39;00m(\n\u001b[0;32m    173\u001b[0m         \u001b[38;5;124mf\u001b[39m\u001b[38;5;124m\"\u001b[39m\u001b[38;5;124mx must have 2 complete cycles requires \u001b[39m\u001b[38;5;132;01m{\u001b[39;00m\u001b[38;5;241m2\u001b[39m\u001b[38;5;250m \u001b[39m\u001b[38;5;241m*\u001b[39m\u001b[38;5;250m \u001b[39mpfreq\u001b[38;5;132;01m}\u001b[39;00m\u001b[38;5;124m \u001b[39m\u001b[38;5;124m\"\u001b[39m\n\u001b[0;32m    174\u001b[0m         \u001b[38;5;124mf\u001b[39m\u001b[38;5;124m\"\u001b[39m\u001b[38;5;124mobservations. x only has \u001b[39m\u001b[38;5;132;01m{\u001b[39;00mx\u001b[38;5;241m.\u001b[39mshape[\u001b[38;5;241m0\u001b[39m]\u001b[38;5;132;01m}\u001b[39;00m\u001b[38;5;124m observation(s)\u001b[39m\u001b[38;5;124m\"\u001b[39m\n\u001b[0;32m    175\u001b[0m     )\n",
      "\u001b[1;31mValueError\u001b[0m: You must specify a period or x must be a pandas object with a PeriodIndex or a DatetimeIndex with a freq not set to None"
     ]
    }
   ],
   "source": [
    "# Gerando o graficos \n",
    "\n",
    "resultados = seasonal_decompose(dados_origem_ultimo)\n",
    "\n",
    "fig, (ax1,ax2,ax3,ax4) = plt.subplots(4,1, figsize = (15,10))\n",
    "\n",
    "resultados.observed.plot(ax=ax1)\n",
    "ax1.set_title(\"Serie Real\")\n",
    "\n",
    "resultados.trend.plot(ax=ax2)\n",
    "ax2.set_title(\"Tendência\")\n",
    "\n",
    "resultados.seasonal.plot(ax=ax3)\n",
    "ax3.set_title(\"Sazonalidade\")\n",
    "\n",
    "resultados.resid.plot(ax=ax4)\n",
    "ax4.set_title(\"Resíduo\")\n",
    "\n",
    "plt.tight_layout()\n",
    "plt.show()"
   ]
  }
 ],
 "metadata": {
  "kernelspec": {
   "display_name": "base",
   "language": "python",
   "name": "python3"
  },
  "language_info": {
   "codemirror_mode": {
    "name": "ipython",
    "version": 3
   },
   "file_extension": ".py",
   "mimetype": "text/x-python",
   "name": "python",
   "nbconvert_exporter": "python",
   "pygments_lexer": "ipython3",
   "version": "3.12.3"
  }
 },
 "nbformat": 4,
 "nbformat_minor": 5
}
