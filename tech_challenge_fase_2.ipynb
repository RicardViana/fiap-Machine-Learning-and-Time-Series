{
 "cells": [
  {
   "cell_type": "markdown",
   "id": "1928e801",
   "metadata": {},
   "source": [
    "#### Tech Challenge - Fase 2 - Machine Learning and Time Series"
   ]
  },
  {
   "cell_type": "markdown",
   "id": "688ff897",
   "metadata": {},
   "source": [
    "#### O problema \n",
    "\n",
    "Desenvolver um modelo preditivo capaz de prever se o índice IBOVESPA vai fechar em alta ou baixa no dia seguinte, com base em dados históricos do próprio índice"
   ]
  },
  {
   "cell_type": "markdown",
   "id": "60ab9845",
   "metadata": {},
   "source": [
    "#### Fonte de dados \n",
    "\n",
    "Dados históricos do índice IBOVESPA disponíveis publicamente no link https://br.investing.com/indices/bovespa-historical-data e importando para o seguinte repositorio do Github https://github.com/RicardViana/fiap-Machine-Learning-and-Time-Series/blob/main/Dados%20Hist%C3%B3ricos%20Ibovespa.csv"
   ]
  },
  {
   "cell_type": "markdown",
   "id": "1005da58",
   "metadata": {},
   "source": [
    "#### Dicionário de dados\n",
    "\n",
    "\n",
    "| Nome da Coluna | Descrição | Tipo de Dado |\n",
    "| :--- | :--- | :--- |\n",
    "| `Data` | A data da observação, no formato \"DD/MM/AAAA\". | Texto (object) |\n",
    "| `Ultimo` | O preço de fechamento do Ibovespa no dia. | Numérico (float64) |\n",
    "| `Abertura` | O preço de abertura do Ibovespa no dia. | Numérico (float64) |\n",
    "| `Maxima` | O preço máximo atingido pelo Ibovespa no dia. | Numérico (float64) |\n",
    "| `Minima` | O preço mínimo atingido pelo Ibovespa no dia. | Numérico (float64) |\n",
    "| `Volume` | O volume de negociações do dia. Os valores são representados em texto com sufixos (ex: \"B\" para bilhões, \"M\" para milhões). | Texto (object) |\n",
    "| `Variacao` | A variação percentual do Ibovespa no dia. | Texto (object) |"
   ]
  },
  {
   "attachments": {
    "image.png": {
     "image/png": "[encoded data removed]"
    }
   },
   "cell_type": "markdown",
   "id": "2eab2110",
   "metadata": {},
   "source": [
    "#### Objetivo\n",
    "\n",
    "Criar um modelo que preveja se o fechamento do IBOVESPA do dia seguinte será maior ou menor que o do dia atual, ou seja:\n",
    "\n",
    "![image.png](attachment:image.png)\n",
    "\n",
    "Onde deve prever a tendência (↑ ou ↓) com acuracidade mínima de 75% em um conjunto de teste, esse que contera o último mês (30 dias) de dados disponíveis"
   ]
  },
  {
   "cell_type": "markdown",
   "id": "783c919e",
   "metadata": {},
   "source": [
    "#### Desenvolvimento"
   ]
  },
  {
   "cell_type": "markdown",
   "id": "69619e2c",
   "metadata": {},
   "source": [
    "##### Importação de bibliotecas e pacotes"
   ]
  },
  {
   "cell_type": "code",
   "execution_count": 94,
   "id": "9908a652",
   "metadata": {},
   "outputs": [],
   "source": [
    "import pandas as pd \n",
    "import numpy as np\n",
    "import matplotlib.pyplot as plt\n",
    "import seaborn as sns\n",
    "import yfinance as yf"
   ]
  },
  {
   "cell_type": "markdown",
   "id": "08ff9e7c",
   "metadata": {},
   "source": [
    "##### Criação de funções (DEF)"
   ]
  },
  {
   "cell_type": "markdown",
   "id": "80b08bfd",
   "metadata": {},
   "source": [
    "##### Análise Exploratória de Dados (EDA)"
   ]
  },
  {
   "cell_type": "code",
   "execution_count": 95,
   "id": "767cebda",
   "metadata": {},
   "outputs": [
    {
     "name": "stdout",
     "output_type": "stream",
     "text": [
      "Primeiros dados\n"
     ]
    },
    {
     "data": {
      "application/vnd.microsoft.datawrangler.viewer.v0+json": {
       "columns": [
        {
         "name": "Date",
         "rawType": "datetime64[ns]",
         "type": "datetime"
        },
        {
         "name": "Close",
         "rawType": "float64",
         "type": "float"
        },
        {
         "name": "High",
         "rawType": "float64",
         "type": "float"
        },
        {
         "name": "Low",
         "rawType": "float64",
         "type": "float"
        },
        {
         "name": "Open",
         "rawType": "float64",
         "type": "float"
        },
        {
         "name": "Volume",
         "rawType": "int64",
         "type": "integer"
        }
       ],
       "ref": "bd687575-7b20-4c4b-a8e1-a1969b924147",
       "rows": [
        [
         "1993-04-27 00:00:00",
         "24.5",
         "25.399999618530273",
         "24.5",
         "24.799999237060547",
         "0"
        ],
        [
         "1993-04-28 00:00:00",
         "24.299999237060547",
         "24.600000381469727",
         "23.700000762939453",
         "24.5",
         "0"
        ],
        [
         "1993-04-29 00:00:00",
         "23.700000762939453",
         "24.799999237060547",
         "23.700000762939453",
         "24.299999237060547",
         "0"
        ],
        [
         "1993-04-30 00:00:00",
         "24.100000381469727",
         "24.200000762939453",
         "23.700000762939453",
         "23.700000762939453",
         "0"
        ],
        [
         "1993-05-03 00:00:00",
         "24.100000381469727",
         "24.399999618530273",
         "23.799999237060547",
         "24.100000381469727",
         "0"
        ]
       ],
       "shape": {
        "columns": 5,
        "rows": 5
       }
      },
      "text/html": [
       "<div>\n",
       "<style scoped>\n",
       "    .dataframe tbody tr th:only-of-type {\n",
       "        vertical-align: middle;\n",
       "    }\n",
       "\n",
       "    .dataframe tbody tr th {\n",
       "        vertical-align: top;\n",
       "    }\n",
       "\n",
       "    .dataframe thead th {\n",
       "        text-align: right;\n",
       "    }\n",
       "</style>\n",
       "<table border=\"1\" class=\"dataframe\">\n",
       "  <thead>\n",
       "    <tr style=\"text-align: right;\">\n",
       "      <th></th>\n",
       "      <th>Close</th>\n",
       "      <th>High</th>\n",
       "      <th>Low</th>\n",
       "      <th>Open</th>\n",
       "      <th>Volume</th>\n",
       "    </tr>\n",
       "    <tr>\n",
       "      <th>Date</th>\n",
       "      <th></th>\n",
       "      <th></th>\n",
       "      <th></th>\n",
       "      <th></th>\n",
       "      <th></th>\n",
       "    </tr>\n",
       "  </thead>\n",
       "  <tbody>\n",
       "    <tr>\n",
       "      <th>1993-04-27</th>\n",
       "      <td>24.500000</td>\n",
       "      <td>25.400000</td>\n",
       "      <td>24.500000</td>\n",
       "      <td>24.799999</td>\n",
       "      <td>0</td>\n",
       "    </tr>\n",
       "    <tr>\n",
       "      <th>1993-04-28</th>\n",
       "      <td>24.299999</td>\n",
       "      <td>24.600000</td>\n",
       "      <td>23.700001</td>\n",
       "      <td>24.500000</td>\n",
       "      <td>0</td>\n",
       "    </tr>\n",
       "    <tr>\n",
       "      <th>1993-04-29</th>\n",
       "      <td>23.700001</td>\n",
       "      <td>24.799999</td>\n",
       "      <td>23.700001</td>\n",
       "      <td>24.299999</td>\n",
       "      <td>0</td>\n",
       "    </tr>\n",
       "    <tr>\n",
       "      <th>1993-04-30</th>\n",
       "      <td>24.100000</td>\n",
       "      <td>24.200001</td>\n",
       "      <td>23.700001</td>\n",
       "      <td>23.700001</td>\n",
       "      <td>0</td>\n",
       "    </tr>\n",
       "    <tr>\n",
       "      <th>1993-05-03</th>\n",
       "      <td>24.100000</td>\n",
       "      <td>24.400000</td>\n",
       "      <td>23.799999</td>\n",
       "      <td>24.100000</td>\n",
       "      <td>0</td>\n",
       "    </tr>\n",
       "  </tbody>\n",
       "</table>\n",
       "</div>"
      ],
      "text/plain": [
       "                Close       High        Low       Open  Volume\n",
       "Date                                                          \n",
       "1993-04-27  24.500000  25.400000  24.500000  24.799999       0\n",
       "1993-04-28  24.299999  24.600000  23.700001  24.500000       0\n",
       "1993-04-29  23.700001  24.799999  23.700001  24.299999       0\n",
       "1993-04-30  24.100000  24.200001  23.700001  23.700001       0\n",
       "1993-05-03  24.100000  24.400000  23.799999  24.100000       0"
      ]
     },
     "metadata": {},
     "output_type": "display_data"
    },
    {
     "name": "stdout",
     "output_type": "stream",
     "text": [
      "\n",
      "Ultimos dados\n"
     ]
    },
    {
     "data": {
      "application/vnd.microsoft.datawrangler.viewer.v0+json": {
       "columns": [
        {
         "name": "Date",
         "rawType": "datetime64[ns]",
         "type": "datetime"
        },
        {
         "name": "Close",
         "rawType": "float64",
         "type": "float"
        },
        {
         "name": "High",
         "rawType": "float64",
         "type": "float"
        },
        {
         "name": "Low",
         "rawType": "float64",
         "type": "float"
        },
        {
         "name": "Open",
         "rawType": "float64",
         "type": "float"
        },
        {
         "name": "Volume",
         "rawType": "int64",
         "type": "integer"
        }
       ],
       "ref": "d87f0472-eaac-4596-9043-f3ee365dea5f",
       "rows": [
        [
         "2025-07-14 00:00:00",
         "135299.0",
         "136187.0",
         "134840.0",
         "136187.0",
         "7325600"
        ],
        [
         "2025-07-15 00:00:00",
         "135250.0",
         "136022.0",
         "134380.0",
         "135298.0",
         "6904200"
        ],
        [
         "2025-07-16 00:00:00",
         "135511.0",
         "135641.0",
         "134265.0",
         "135250.0",
         "7833200"
        ],
        [
         "2025-07-17 00:00:00",
         "135565.0",
         "135793.0",
         "135016.0",
         "135515.0",
         "6800000"
        ],
        [
         "2025-07-18 00:00:00",
         "133382.0",
         "135563.0",
         "133296.0",
         "135563.0",
         "10071800"
        ]
       ],
       "shape": {
        "columns": 5,
        "rows": 5
       }
      },
      "text/html": [
       "<div>\n",
       "<style scoped>\n",
       "    .dataframe tbody tr th:only-of-type {\n",
       "        vertical-align: middle;\n",
       "    }\n",
       "\n",
       "    .dataframe tbody tr th {\n",
       "        vertical-align: top;\n",
       "    }\n",
       "\n",
       "    .dataframe thead th {\n",
       "        text-align: right;\n",
       "    }\n",
       "</style>\n",
       "<table border=\"1\" class=\"dataframe\">\n",
       "  <thead>\n",
       "    <tr style=\"text-align: right;\">\n",
       "      <th></th>\n",
       "      <th>Close</th>\n",
       "      <th>High</th>\n",
       "      <th>Low</th>\n",
       "      <th>Open</th>\n",
       "      <th>Volume</th>\n",
       "    </tr>\n",
       "    <tr>\n",
       "      <th>Date</th>\n",
       "      <th></th>\n",
       "      <th></th>\n",
       "      <th></th>\n",
       "      <th></th>\n",
       "      <th></th>\n",
       "    </tr>\n",
       "  </thead>\n",
       "  <tbody>\n",
       "    <tr>\n",
       "      <th>2025-07-14</th>\n",
       "      <td>135299.0</td>\n",
       "      <td>136187.0</td>\n",
       "      <td>134840.0</td>\n",
       "      <td>136187.0</td>\n",
       "      <td>7325600</td>\n",
       "    </tr>\n",
       "    <tr>\n",
       "      <th>2025-07-15</th>\n",
       "      <td>135250.0</td>\n",
       "      <td>136022.0</td>\n",
       "      <td>134380.0</td>\n",
       "      <td>135298.0</td>\n",
       "      <td>6904200</td>\n",
       "    </tr>\n",
       "    <tr>\n",
       "      <th>2025-07-16</th>\n",
       "      <td>135511.0</td>\n",
       "      <td>135641.0</td>\n",
       "      <td>134265.0</td>\n",
       "      <td>135250.0</td>\n",
       "      <td>7833200</td>\n",
       "    </tr>\n",
       "    <tr>\n",
       "      <th>2025-07-17</th>\n",
       "      <td>135565.0</td>\n",
       "      <td>135793.0</td>\n",
       "      <td>135016.0</td>\n",
       "      <td>135515.0</td>\n",
       "      <td>6800000</td>\n",
       "    </tr>\n",
       "    <tr>\n",
       "      <th>2025-07-18</th>\n",
       "      <td>133382.0</td>\n",
       "      <td>135563.0</td>\n",
       "      <td>133296.0</td>\n",
       "      <td>135563.0</td>\n",
       "      <td>10071800</td>\n",
       "    </tr>\n",
       "  </tbody>\n",
       "</table>\n",
       "</div>"
      ],
      "text/plain": [
       "               Close      High       Low      Open    Volume\n",
       "Date                                                        \n",
       "2025-07-14  135299.0  136187.0  134840.0  136187.0   7325600\n",
       "2025-07-15  135250.0  136022.0  134380.0  135298.0   6904200\n",
       "2025-07-16  135511.0  135641.0  134265.0  135250.0   7833200\n",
       "2025-07-17  135565.0  135793.0  135016.0  135515.0   6800000\n",
       "2025-07-18  133382.0  135563.0  133296.0  135563.0  10071800"
      ]
     },
     "metadata": {},
     "output_type": "display_data"
    }
   ],
   "source": [
    "\"\"\"\n",
    "\n",
    "Com sugestão do colega da pós Tiago Turra existe uma biblioteca chamada yfinance (https://pypi.org/project/yfinance/) que possi os mesmo dados do site https://br.investing.com/indices/bovespa-historical-data\n",
    "\n",
    "\"\"\"\n",
    "\n",
    "# Importando os dados via yfinance\n",
    "\n",
    "dados_yf = yf.download('^BVSP', period=\"max\", interval=\"1d\", auto_adjust=True, multi_level_index=False, progress=False)\n",
    "\n",
    "print(\"Primeiros dados\")\n",
    "display(dados_yf.head())\n",
    "\n",
    "print(\"\\nUltimos dados\")\n",
    "display(dados_yf.tail())"
   ]
  },
  {
   "cell_type": "code",
   "execution_count": 96,
   "id": "4c323470",
   "metadata": {},
   "outputs": [],
   "source": [
    "# Importar os dados via github \n",
    "# Necessario o uso do arumento thousands e decimal para não ter problema com o data frame --> o . na fonte é para separar o milhar\n",
    "\n",
    "link = r\"https://raw.githubusercontent.com/RicardViana/fiap-Machine-Learning-and-Time-Series/refs/heads/main/Dados%20Hist%C3%B3ricos%20Ibovespa.csv\"\n",
    "dados_origem = pd.read_csv(link, sep= \";\", thousands='.', decimal=',', index_col=\"Data\")"
   ]
  },
  {
   "cell_type": "code",
   "execution_count": 97,
   "id": "b83b6b1a",
   "metadata": {},
   "outputs": [
    {
     "data": {
      "application/vnd.microsoft.datawrangler.viewer.v0+json": {
       "columns": [
        {
         "name": "Data",
         "rawType": "object",
         "type": "string"
        },
        {
         "name": "Ultimo",
         "rawType": "int64",
         "type": "integer"
        },
        {
         "name": "Abertura",
         "rawType": "int64",
         "type": "integer"
        },
        {
         "name": "Maxima",
         "rawType": "int64",
         "type": "integer"
        },
        {
         "name": "Minima",
         "rawType": "int64",
         "type": "integer"
        },
        {
         "name": "Volume",
         "rawType": "object",
         "type": "string"
        },
        {
         "name": "Variacao",
         "rawType": "object",
         "type": "string"
        }
       ],
       "ref": "16367549-8d77-4f55-ab98-b015a1aa0c67",
       "rows": [
        [
         "02/01/1995",
         "4301",
         "4354",
         "4398",
         "4300",
         "4,10B",
         "-1,22%"
        ],
        [
         "03/01/1995",
         "4098",
         "4370",
         "4386",
         "4094",
         "8,35B",
         "-4,72%"
        ],
        [
         "04/01/1995",
         "3968",
         "4098",
         "4098",
         "3861",
         "11,95B",
         "-3,17%"
        ],
        [
         "05/01/1995",
         "4037",
         "3968",
         "4040",
         "3944",
         "8,76B",
         "1,74%"
        ],
        [
         "06/01/1995",
         "3827",
         "4037",
         "4106",
         "3813",
         "12,02B",
         "-5,20%"
        ]
       ],
       "shape": {
        "columns": 6,
        "rows": 5
       }
      },
      "text/html": [
       "<div>\n",
       "<style scoped>\n",
       "    .dataframe tbody tr th:only-of-type {\n",
       "        vertical-align: middle;\n",
       "    }\n",
       "\n",
       "    .dataframe tbody tr th {\n",
       "        vertical-align: top;\n",
       "    }\n",
       "\n",
       "    .dataframe thead th {\n",
       "        text-align: right;\n",
       "    }\n",
       "</style>\n",
       "<table border=\"1\" class=\"dataframe\">\n",
       "  <thead>\n",
       "    <tr style=\"text-align: right;\">\n",
       "      <th></th>\n",
       "      <th>Ultimo</th>\n",
       "      <th>Abertura</th>\n",
       "      <th>Maxima</th>\n",
       "      <th>Minima</th>\n",
       "      <th>Volume</th>\n",
       "      <th>Variacao</th>\n",
       "    </tr>\n",
       "    <tr>\n",
       "      <th>Data</th>\n",
       "      <th></th>\n",
       "      <th></th>\n",
       "      <th></th>\n",
       "      <th></th>\n",
       "      <th></th>\n",
       "      <th></th>\n",
       "    </tr>\n",
       "  </thead>\n",
       "  <tbody>\n",
       "    <tr>\n",
       "      <th>02/01/1995</th>\n",
       "      <td>4301</td>\n",
       "      <td>4354</td>\n",
       "      <td>4398</td>\n",
       "      <td>4300</td>\n",
       "      <td>4,10B</td>\n",
       "      <td>-1,22%</td>\n",
       "    </tr>\n",
       "    <tr>\n",
       "      <th>03/01/1995</th>\n",
       "      <td>4098</td>\n",
       "      <td>4370</td>\n",
       "      <td>4386</td>\n",
       "      <td>4094</td>\n",
       "      <td>8,35B</td>\n",
       "      <td>-4,72%</td>\n",
       "    </tr>\n",
       "    <tr>\n",
       "      <th>04/01/1995</th>\n",
       "      <td>3968</td>\n",
       "      <td>4098</td>\n",
       "      <td>4098</td>\n",
       "      <td>3861</td>\n",
       "      <td>11,95B</td>\n",
       "      <td>-3,17%</td>\n",
       "    </tr>\n",
       "    <tr>\n",
       "      <th>05/01/1995</th>\n",
       "      <td>4037</td>\n",
       "      <td>3968</td>\n",
       "      <td>4040</td>\n",
       "      <td>3944</td>\n",
       "      <td>8,76B</td>\n",
       "      <td>1,74%</td>\n",
       "    </tr>\n",
       "    <tr>\n",
       "      <th>06/01/1995</th>\n",
       "      <td>3827</td>\n",
       "      <td>4037</td>\n",
       "      <td>4106</td>\n",
       "      <td>3813</td>\n",
       "      <td>12,02B</td>\n",
       "      <td>-5,20%</td>\n",
       "    </tr>\n",
       "  </tbody>\n",
       "</table>\n",
       "</div>"
      ],
      "text/plain": [
       "            Ultimo  Abertura  Maxima  Minima  Volume Variacao\n",
       "Data                                                         \n",
       "02/01/1995    4301      4354    4398    4300   4,10B   -1,22%\n",
       "03/01/1995    4098      4370    4386    4094   8,35B   -4,72%\n",
       "04/01/1995    3968      4098    4098    3861  11,95B   -3,17%\n",
       "05/01/1995    4037      3968    4040    3944   8,76B    1,74%\n",
       "06/01/1995    3827      4037    4106    3813  12,02B   -5,20%"
      ]
     },
     "execution_count": 97,
     "metadata": {},
     "output_type": "execute_result"
    }
   ],
   "source": [
    "# Verificando os dados via .head\n",
    "\n",
    "dados_origem.head()"
   ]
  },
  {
   "cell_type": "code",
   "execution_count": 98,
   "id": "89165cf0",
   "metadata": {},
   "outputs": [
    {
     "data": {
      "application/vnd.microsoft.datawrangler.viewer.v0+json": {
       "columns": [
        {
         "name": "Data",
         "rawType": "object",
         "type": "string"
        },
        {
         "name": "Ultimo",
         "rawType": "int64",
         "type": "integer"
        },
        {
         "name": "Abertura",
         "rawType": "int64",
         "type": "integer"
        },
        {
         "name": "Maxima",
         "rawType": "int64",
         "type": "integer"
        },
        {
         "name": "Minima",
         "rawType": "int64",
         "type": "integer"
        },
        {
         "name": "Volume",
         "rawType": "object",
         "type": "string"
        },
        {
         "name": "Variacao",
         "rawType": "object",
         "type": "string"
        }
       ],
       "ref": "0e998508-8c29-499c-9c65-270a81a6b50c",
       "rows": [
        [
         "30/06/2025",
         "138855",
         "136865",
         "139103",
         "136430",
         "7,68B",
         "1,45%"
        ],
        [
         "01/07/2025",
         "139549",
         "138855",
         "139695",
         "138855",
         "6,35B",
         "0,50%"
        ],
        [
         "02/07/2025",
         "139051",
         "139586",
         "140049",
         "138384",
         "8,81B",
         "-0,36%"
        ],
        [
         "03/07/2025",
         "140928",
         "139051",
         "141304",
         "139051",
         "6,08B",
         "1,35%"
        ],
        [
         "04/07/2025",
         "141264",
         "140928",
         "141564",
         "140597",
         "3,31B",
         "0,24%"
        ]
       ],
       "shape": {
        "columns": 6,
        "rows": 5
       }
      },
      "text/html": [
       "<div>\n",
       "<style scoped>\n",
       "    .dataframe tbody tr th:only-of-type {\n",
       "        vertical-align: middle;\n",
       "    }\n",
       "\n",
       "    .dataframe tbody tr th {\n",
       "        vertical-align: top;\n",
       "    }\n",
       "\n",
       "    .dataframe thead th {\n",
       "        text-align: right;\n",
       "    }\n",
       "</style>\n",
       "<table border=\"1\" class=\"dataframe\">\n",
       "  <thead>\n",
       "    <tr style=\"text-align: right;\">\n",
       "      <th></th>\n",
       "      <th>Ultimo</th>\n",
       "      <th>Abertura</th>\n",
       "      <th>Maxima</th>\n",
       "      <th>Minima</th>\n",
       "      <th>Volume</th>\n",
       "      <th>Variacao</th>\n",
       "    </tr>\n",
       "    <tr>\n",
       "      <th>Data</th>\n",
       "      <th></th>\n",
       "      <th></th>\n",
       "      <th></th>\n",
       "      <th></th>\n",
       "      <th></th>\n",
       "      <th></th>\n",
       "    </tr>\n",
       "  </thead>\n",
       "  <tbody>\n",
       "    <tr>\n",
       "      <th>30/06/2025</th>\n",
       "      <td>138855</td>\n",
       "      <td>136865</td>\n",
       "      <td>139103</td>\n",
       "      <td>136430</td>\n",
       "      <td>7,68B</td>\n",
       "      <td>1,45%</td>\n",
       "    </tr>\n",
       "    <tr>\n",
       "      <th>01/07/2025</th>\n",
       "      <td>139549</td>\n",
       "      <td>138855</td>\n",
       "      <td>139695</td>\n",
       "      <td>138855</td>\n",
       "      <td>6,35B</td>\n",
       "      <td>0,50%</td>\n",
       "    </tr>\n",
       "    <tr>\n",
       "      <th>02/07/2025</th>\n",
       "      <td>139051</td>\n",
       "      <td>139586</td>\n",
       "      <td>140049</td>\n",
       "      <td>138384</td>\n",
       "      <td>8,81B</td>\n",
       "      <td>-0,36%</td>\n",
       "    </tr>\n",
       "    <tr>\n",
       "      <th>03/07/2025</th>\n",
       "      <td>140928</td>\n",
       "      <td>139051</td>\n",
       "      <td>141304</td>\n",
       "      <td>139051</td>\n",
       "      <td>6,08B</td>\n",
       "      <td>1,35%</td>\n",
       "    </tr>\n",
       "    <tr>\n",
       "      <th>04/07/2025</th>\n",
       "      <td>141264</td>\n",
       "      <td>140928</td>\n",
       "      <td>141564</td>\n",
       "      <td>140597</td>\n",
       "      <td>3,31B</td>\n",
       "      <td>0,24%</td>\n",
       "    </tr>\n",
       "  </tbody>\n",
       "</table>\n",
       "</div>"
      ],
      "text/plain": [
       "            Ultimo  Abertura  Maxima  Minima Volume Variacao\n",
       "Data                                                        \n",
       "30/06/2025  138855    136865  139103  136430  7,68B    1,45%\n",
       "01/07/2025  139549    138855  139695  138855  6,35B    0,50%\n",
       "02/07/2025  139051    139586  140049  138384  8,81B   -0,36%\n",
       "03/07/2025  140928    139051  141304  139051  6,08B    1,35%\n",
       "04/07/2025  141264    140928  141564  140597  3,31B    0,24%"
      ]
     },
     "execution_count": 98,
     "metadata": {},
     "output_type": "execute_result"
    }
   ],
   "source": [
    "# Verificando os dados via .tail\n",
    "\n",
    "dados_origem.tail()"
   ]
  },
  {
   "cell_type": "code",
   "execution_count": 99,
   "id": "1ed3377b",
   "metadata": {},
   "outputs": [],
   "source": [
    "# Ajustar o formato da coluna Data \n",
    "\n",
    "dados_origem.index = pd.to_datetime(dados_origem.index, format = \"%d/%m/%Y\")"
   ]
  },
  {
   "cell_type": "code",
   "execution_count": 100,
   "id": "e2bbdb21",
   "metadata": {},
   "outputs": [
    {
     "name": "stdout",
     "output_type": "stream",
     "text": [
      "Dados do data frame dados_origem\n"
     ]
    },
    {
     "data": {
      "application/vnd.microsoft.datawrangler.viewer.v0+json": {
       "columns": [
        {
         "name": "Data",
         "rawType": "datetime64[ns]",
         "type": "datetime"
        },
        {
         "name": "Ultimo",
         "rawType": "int64",
         "type": "integer"
        },
        {
         "name": "Abertura",
         "rawType": "int64",
         "type": "integer"
        },
        {
         "name": "Maxima",
         "rawType": "int64",
         "type": "integer"
        },
        {
         "name": "Minima",
         "rawType": "int64",
         "type": "integer"
        }
       ],
       "ref": "9875a1fc-bca8-49e6-a86b-6819c4095043",
       "rows": [
        [
         "2025-06-30 00:00:00",
         "138855",
         "136865",
         "139103",
         "136430"
        ],
        [
         "2025-07-01 00:00:00",
         "139549",
         "138855",
         "139695",
         "138855"
        ],
        [
         "2025-07-02 00:00:00",
         "139051",
         "139586",
         "140049",
         "138384"
        ],
        [
         "2025-07-03 00:00:00",
         "140928",
         "139051",
         "141304",
         "139051"
        ],
        [
         "2025-07-04 00:00:00",
         "141264",
         "140928",
         "141564",
         "140597"
        ]
       ],
       "shape": {
        "columns": 4,
        "rows": 5
       }
      },
      "text/html": [
       "<div>\n",
       "<style scoped>\n",
       "    .dataframe tbody tr th:only-of-type {\n",
       "        vertical-align: middle;\n",
       "    }\n",
       "\n",
       "    .dataframe tbody tr th {\n",
       "        vertical-align: top;\n",
       "    }\n",
       "\n",
       "    .dataframe thead th {\n",
       "        text-align: right;\n",
       "    }\n",
       "</style>\n",
       "<table border=\"1\" class=\"dataframe\">\n",
       "  <thead>\n",
       "    <tr style=\"text-align: right;\">\n",
       "      <th></th>\n",
       "      <th>Ultimo</th>\n",
       "      <th>Abertura</th>\n",
       "      <th>Maxima</th>\n",
       "      <th>Minima</th>\n",
       "    </tr>\n",
       "    <tr>\n",
       "      <th>Data</th>\n",
       "      <th></th>\n",
       "      <th></th>\n",
       "      <th></th>\n",
       "      <th></th>\n",
       "    </tr>\n",
       "  </thead>\n",
       "  <tbody>\n",
       "    <tr>\n",
       "      <th>2025-06-30</th>\n",
       "      <td>138855</td>\n",
       "      <td>136865</td>\n",
       "      <td>139103</td>\n",
       "      <td>136430</td>\n",
       "    </tr>\n",
       "    <tr>\n",
       "      <th>2025-07-01</th>\n",
       "      <td>139549</td>\n",
       "      <td>138855</td>\n",
       "      <td>139695</td>\n",
       "      <td>138855</td>\n",
       "    </tr>\n",
       "    <tr>\n",
       "      <th>2025-07-02</th>\n",
       "      <td>139051</td>\n",
       "      <td>139586</td>\n",
       "      <td>140049</td>\n",
       "      <td>138384</td>\n",
       "    </tr>\n",
       "    <tr>\n",
       "      <th>2025-07-03</th>\n",
       "      <td>140928</td>\n",
       "      <td>139051</td>\n",
       "      <td>141304</td>\n",
       "      <td>139051</td>\n",
       "    </tr>\n",
       "    <tr>\n",
       "      <th>2025-07-04</th>\n",
       "      <td>141264</td>\n",
       "      <td>140928</td>\n",
       "      <td>141564</td>\n",
       "      <td>140597</td>\n",
       "    </tr>\n",
       "  </tbody>\n",
       "</table>\n",
       "</div>"
      ],
      "text/plain": [
       "            Ultimo  Abertura  Maxima  Minima\n",
       "Data                                        \n",
       "2025-06-30  138855    136865  139103  136430\n",
       "2025-07-01  139549    138855  139695  138855\n",
       "2025-07-02  139051    139586  140049  138384\n",
       "2025-07-03  140928    139051  141304  139051\n",
       "2025-07-04  141264    140928  141564  140597"
      ]
     },
     "metadata": {},
     "output_type": "display_data"
    },
    {
     "name": "stdout",
     "output_type": "stream",
     "text": [
      "\n",
      "Dados do data frame dados_yf\n"
     ]
    },
    {
     "data": {
      "application/vnd.microsoft.datawrangler.viewer.v0+json": {
       "columns": [
        {
         "name": "Date",
         "rawType": "datetime64[ns]",
         "type": "datetime"
        },
        {
         "name": "Close",
         "rawType": "float64",
         "type": "float"
        },
        {
         "name": "Open",
         "rawType": "float64",
         "type": "float"
        },
        {
         "name": "High",
         "rawType": "float64",
         "type": "float"
        },
        {
         "name": "Low",
         "rawType": "float64",
         "type": "float"
        }
       ],
       "ref": "4a420959-2cc5-41a6-aea0-1e40562fe1db",
       "rows": [
        [
         "2025-06-30 00:00:00",
         "138855.0",
         "136865.0",
         "139103.0",
         "136430.0"
        ],
        [
         "2025-07-01 00:00:00",
         "139549.0",
         "138855.0",
         "139695.0",
         "138855.0"
        ],
        [
         "2025-07-02 00:00:00",
         "139051.0",
         "139586.0",
         "140049.0",
         "138384.0"
        ],
        [
         "2025-07-03 00:00:00",
         "140928.0",
         "139051.0",
         "141304.0",
         "139051.0"
        ],
        [
         "2025-07-04 00:00:00",
         "141478.0",
         "140928.0",
         "141537.0",
         "140597.0"
        ]
       ],
       "shape": {
        "columns": 4,
        "rows": 5
       }
      },
      "text/html": [
       "<div>\n",
       "<style scoped>\n",
       "    .dataframe tbody tr th:only-of-type {\n",
       "        vertical-align: middle;\n",
       "    }\n",
       "\n",
       "    .dataframe tbody tr th {\n",
       "        vertical-align: top;\n",
       "    }\n",
       "\n",
       "    .dataframe thead th {\n",
       "        text-align: right;\n",
       "    }\n",
       "</style>\n",
       "<table border=\"1\" class=\"dataframe\">\n",
       "  <thead>\n",
       "    <tr style=\"text-align: right;\">\n",
       "      <th></th>\n",
       "      <th>Close</th>\n",
       "      <th>Open</th>\n",
       "      <th>High</th>\n",
       "      <th>Low</th>\n",
       "    </tr>\n",
       "    <tr>\n",
       "      <th>Date</th>\n",
       "      <th></th>\n",
       "      <th></th>\n",
       "      <th></th>\n",
       "      <th></th>\n",
       "    </tr>\n",
       "  </thead>\n",
       "  <tbody>\n",
       "    <tr>\n",
       "      <th>2025-06-30</th>\n",
       "      <td>138855.0</td>\n",
       "      <td>136865.0</td>\n",
       "      <td>139103.0</td>\n",
       "      <td>136430.0</td>\n",
       "    </tr>\n",
       "    <tr>\n",
       "      <th>2025-07-01</th>\n",
       "      <td>139549.0</td>\n",
       "      <td>138855.0</td>\n",
       "      <td>139695.0</td>\n",
       "      <td>138855.0</td>\n",
       "    </tr>\n",
       "    <tr>\n",
       "      <th>2025-07-02</th>\n",
       "      <td>139051.0</td>\n",
       "      <td>139586.0</td>\n",
       "      <td>140049.0</td>\n",
       "      <td>138384.0</td>\n",
       "    </tr>\n",
       "    <tr>\n",
       "      <th>2025-07-03</th>\n",
       "      <td>140928.0</td>\n",
       "      <td>139051.0</td>\n",
       "      <td>141304.0</td>\n",
       "      <td>139051.0</td>\n",
       "    </tr>\n",
       "    <tr>\n",
       "      <th>2025-07-04</th>\n",
       "      <td>141478.0</td>\n",
       "      <td>140928.0</td>\n",
       "      <td>141537.0</td>\n",
       "      <td>140597.0</td>\n",
       "    </tr>\n",
       "  </tbody>\n",
       "</table>\n",
       "</div>"
      ],
      "text/plain": [
       "               Close      Open      High       Low\n",
       "Date                                              \n",
       "2025-06-30  138855.0  136865.0  139103.0  136430.0\n",
       "2025-07-01  139549.0  138855.0  139695.0  138855.0\n",
       "2025-07-02  139051.0  139586.0  140049.0  138384.0\n",
       "2025-07-03  140928.0  139051.0  141304.0  139051.0\n",
       "2025-07-04  141478.0  140928.0  141537.0  140597.0"
      ]
     },
     "metadata": {},
     "output_type": "display_data"
    }
   ],
   "source": [
    "# Verificand os dados os dados do data frame dados_origem com o dados_yf --> Verificar se há diferença \n",
    "\n",
    "print(\"Dados do data frame dados_origem\")\n",
    "display(dados_origem[['Ultimo', 'Abertura', 'Maxima', 'Minima']].tail())\n",
    "\n",
    "print(\"\\nDados do data frame dados_yf\")\n",
    "display(dados_yf[['Close', 'Open', 'High', 'Low']].query(\"Date >= '2025-06-30 00:00:00' and Date <= '2025-07-04 00:00:00'\"))\n"
   ]
  },
  {
   "cell_type": "code",
   "execution_count": 101,
   "id": "6611e049",
   "metadata": {},
   "outputs": [
    {
     "name": "stdout",
     "output_type": "stream",
     "text": [
      "<class 'pandas.core.frame.DataFrame'>\n",
      "DatetimeIndex: 7555 entries, 1995-01-02 to 2025-07-04\n",
      "Data columns (total 6 columns):\n",
      " #   Column    Non-Null Count  Dtype \n",
      "---  ------    --------------  ----- \n",
      " 0   Ultimo    7555 non-null   int64 \n",
      " 1   Abertura  7555 non-null   int64 \n",
      " 2   Maxima    7555 non-null   int64 \n",
      " 3   Minima    7555 non-null   int64 \n",
      " 4   Volume    7554 non-null   object\n",
      " 5   Variacao  7555 non-null   object\n",
      "dtypes: int64(4), object(2)\n",
      "memory usage: 413.2+ KB\n"
     ]
    }
   ],
   "source": [
    "# Veficiando os dados dados do data frame \n",
    "\n",
    "dados_origem.info()"
   ]
  },
  {
   "cell_type": "code",
   "execution_count": 104,
   "id": "656a58f7",
   "metadata": {},
   "outputs": [
    {
     "data": {
      "application/vnd.microsoft.datawrangler.viewer.v0+json": {
       "columns": [
        {
         "name": "index",
         "rawType": "object",
         "type": "string"
        },
        {
         "name": "0",
         "rawType": "int64",
         "type": "integer"
        }
       ],
       "ref": "5562c384-4d81-4b2f-ba13-2b9d5556a7da",
       "rows": [
        [
         "Ultimo",
         "0"
        ],
        [
         "Abertura",
         "0"
        ],
        [
         "Maxima",
         "0"
        ],
        [
         "Minima",
         "0"
        ],
        [
         "Volume",
         "1"
        ],
        [
         "Variacao",
         "0"
        ]
       ],
       "shape": {
        "columns": 1,
        "rows": 6
       }
      },
      "text/plain": [
       "Ultimo      0\n",
       "Abertura    0\n",
       "Maxima      0\n",
       "Minima      0\n",
       "Volume      1\n",
       "Variacao    0\n",
       "dtype: int64"
      ]
     },
     "execution_count": 104,
     "metadata": {},
     "output_type": "execute_result"
    }
   ],
   "source": [
    "# Verificando os dados nulos\n",
    "dados_origem.isnull().sum()"
   ]
  },
  {
   "cell_type": "code",
   "execution_count": null,
   "id": "52578741",
   "metadata": {},
   "outputs": [
    {
     "data": {
      "application/vnd.microsoft.datawrangler.viewer.v0+json": {
       "columns": [
        {
         "name": "Data",
         "rawType": "datetime64[ns]",
         "type": "datetime"
        },
        {
         "name": "Ultimo",
         "rawType": "int64",
         "type": "integer"
        },
        {
         "name": "Abertura",
         "rawType": "int64",
         "type": "integer"
        },
        {
         "name": "Maxima",
         "rawType": "int64",
         "type": "integer"
        },
        {
         "name": "Minima",
         "rawType": "int64",
         "type": "integer"
        },
        {
         "name": "Volume",
         "rawType": "object",
         "type": "unknown"
        },
        {
         "name": "Variacao",
         "rawType": "object",
         "type": "string"
        }
       ],
       "ref": "8192d32c-dfa7-4d8e-9d60-4a2e7fc9c963",
       "rows": [
        [
         "2016-02-10 00:00:00",
         "40377",
         "40592",
         "40592",
         "39960",
         null,
         "-0,53%"
        ]
       ],
       "shape": {
        "columns": 6,
        "rows": 1
       }
      },
      "text/html": [
       "<div>\n",
       "<style scoped>\n",
       "    .dataframe tbody tr th:only-of-type {\n",
       "        vertical-align: middle;\n",
       "    }\n",
       "\n",
       "    .dataframe tbody tr th {\n",
       "        vertical-align: top;\n",
       "    }\n",
       "\n",
       "    .dataframe thead th {\n",
       "        text-align: right;\n",
       "    }\n",
       "</style>\n",
       "<table border=\"1\" class=\"dataframe\">\n",
       "  <thead>\n",
       "    <tr style=\"text-align: right;\">\n",
       "      <th></th>\n",
       "      <th>Ultimo</th>\n",
       "      <th>Abertura</th>\n",
       "      <th>Maxima</th>\n",
       "      <th>Minima</th>\n",
       "      <th>Volume</th>\n",
       "      <th>Variacao</th>\n",
       "    </tr>\n",
       "    <tr>\n",
       "      <th>Data</th>\n",
       "      <th></th>\n",
       "      <th></th>\n",
       "      <th></th>\n",
       "      <th></th>\n",
       "      <th></th>\n",
       "      <th></th>\n",
       "    </tr>\n",
       "  </thead>\n",
       "  <tbody>\n",
       "    <tr>\n",
       "      <th>2016-02-10</th>\n",
       "      <td>40377</td>\n",
       "      <td>40592</td>\n",
       "      <td>40592</td>\n",
       "      <td>39960</td>\n",
       "      <td>NaN</td>\n",
       "      <td>-0,53%</td>\n",
       "    </tr>\n",
       "  </tbody>\n",
       "</table>\n",
       "</div>"
      ],
      "text/plain": [
       "            Ultimo  Abertura  Maxima  Minima Volume Variacao\n",
       "Data                                                        \n",
       "2016-02-10   40377     40592   40592   39960    NaN   -0,53%"
      ]
     },
     "execution_count": 105,
     "metadata": {},
     "output_type": "execute_result"
    }
   ],
   "source": [
    "# Verificando os registros que estão nulos \n",
    "# Como para o nosso projeto esse campo Volume não é util, vamos manter esse registro\n",
    "dados_origem[dados_origem.isnull().any(axis=1)]"
   ]
  }
 ],
 "metadata": {
  "kernelspec": {
   "display_name": "base",
   "language": "python",
   "name": "python3"
  },
  "language_info": {
   "codemirror_mode": {
    "name": "ipython",
    "version": 3
   },
   "file_extension": ".py",
   "mimetype": "text/x-python",
   "name": "python",
   "nbconvert_exporter": "python",
   "pygments_lexer": "ipython3",
   "version": "3.12.3"
  }
 },
 "nbformat": 4,
 "nbformat_minor": 5
}
