{
 "cells": [
  {
   "cell_type": "markdown",
   "id": "1928e801",
   "metadata": {},
   "source": [
    "#### Tech Challenge - Fase 2 - Machine Learning and Time Series"
   ]
  },
  {
   "cell_type": "markdown",
   "id": "688ff897",
   "metadata": {},
   "source": [
    "#### O problema \n",
    "\n",
    "Desenvolver um modelo preditivo capaz de prever se o índice IBOVESPA vai fechar em alta ou baixa no dia seguinte, com base em dados históricos do próprio índice"
   ]
  },
  {
   "cell_type": "markdown",
   "id": "36873844",
   "metadata": {},
   "source": [
    "#### O que é o índice Ibovespa \n",
    "\n",
    "É o principal indicador de desempenho das ações negociadas na B3 e reúne as empresas mais importantes do mercado de capitais brasileiro. Foi criado em 1968 e, ao longo desses 50 anos, consolidou-se como referência para investidores ao redor do mundo.\n",
    "\n",
    "\n",
    "https://pt.wikipedia.org/wiki/Ibovespa\n",
    "\n",
    "https://www.b3.com.br/pt_br/market-data-e-indices/indices/indices-amplos/ibovespa.htm"
   ]
  },
  {
   "cell_type": "markdown",
   "id": "60ab9845",
   "metadata": {},
   "source": [
    "#### Fonte de dados \n",
    "\n",
    "Dados históricos do índice IBOVESPA disponíveis publicamente no link https://br.investing.com/indices/bovespa-historical-data e importando para o seguinte repositorio do Github https://github.com/RicardViana/fiap-Machine-Learning-and-Time-Series/blob/main/Dados%20Hist%C3%B3ricos%20Ibovespa.csv"
   ]
  },
  {
   "cell_type": "markdown",
   "id": "1005da58",
   "metadata": {},
   "source": [
    "#### Dicionário de dados\n",
    "\n",
    "\n",
    "| Nome da Coluna | Descrição | Tipo de Dado |\n",
    "| :--- | :--- | :--- |\n",
    "| `Data` | A data da observação, no formato \"DD/MM/AAAA\". | Texto (object) |\n",
    "| `Ultimo` | O preço de fechamento do Ibovespa no dia. | Numérico (float64) |\n",
    "| `Abertura` | O preço de abertura do Ibovespa no dia. | Numérico (float64) |\n",
    "| `Maxima` | O preço máximo atingido pelo Ibovespa no dia. | Numérico (float64) |\n",
    "| `Minima` | O preço mínimo atingido pelo Ibovespa no dia. | Numérico (float64) |\n",
    "| `Volume` | O volume de negociações do dia. Os valores são representados em texto com sufixos (ex: \"B\" para bilhões, \"M\" para milhões). | Texto (object) |\n",
    "| `Variacao` | A variação percentual do Ibovespa no dia. | Texto (object) |"
   ]
  },
  {
   "attachments": {
    "image.png": {
     "image/png": "[encoded data removed]"
    }
   },
   "cell_type": "markdown",
   "id": "2eab2110",
   "metadata": {},
   "source": [
    "#### Objetivo\n",
    "\n",
    "Criar um modelo que preveja se o fechamento do IBOVESPA do dia seguinte será maior ou menor que o do dia atual, ou seja:\n",
    "\n",
    "![image.png](attachment:image.png)\n",
    "\n",
    "Onde deve prever a tendência (↑ ou ↓) com acuracidade mínima de 75% em um conjunto de teste, esse que contera o último mês (30 dias) de dados disponíveis"
   ]
  },
  {
   "cell_type": "markdown",
   "id": "783c919e",
   "metadata": {},
   "source": [
    "#### Desenvolvimento"
   ]
  },
  {
   "cell_type": "markdown",
   "id": "69619e2c",
   "metadata": {},
   "source": [
    "##### Importação de bibliotecas e pacotes"
   ]
  },
  {
   "cell_type": "code",
   "execution_count": null,
   "id": "9908a652",
   "metadata": {},
   "outputs": [],
   "source": [
    "# Importar biblioteca completa\n",
    "import pandas as pd \n",
    "import numpy as np\n",
    "import matplotlib.pyplot as plt\n",
    "import seaborn as sns\n",
    "import yfinance as yf\n",
    "import calendar\n",
    "import pandas_ta as ta\n",
    "\n",
    "# Importar função especifica de um módulo\n",
    "from statsmodels.tsa.seasonal import seasonal_decompose # --> Geral a decomposição dos dados\n",
    "from sklearn.preprocessing import StandardScaler\n",
    "from datetime import date\n",
    "\n",
    "# Importar função especifica de um módulo --> Modelos de ML\n",
    "from sklearn.ensemble import RandomForestClassifier # --> Modelo de ML Random Forest\n",
    "from sklearn.linear_model import LogisticRegression # --> Modelo de ML Regressão Logistica \n",
    "from catboost import CatBoostClassifier # --> Modelo de ML CatBoost\n",
    "from lightgbm import LGBMClassifier # --> Modelo de ML LightGBM\n",
    "from xgboost import XGBClassifier # --> Modelo de ML XGBoost\n",
    "from sklearn.svm import SVC # --> Modelo de ML SVC\n",
    "\n",
    "# Importar função especifica de um módulo --> Metricas para analisar o modelo  \n",
    "from sklearn.metrics import classification_report, confusion_matrix, roc_curve, roc_auc_score\n",
    "\n",
    "# Outros import\n",
    "import ipywidgets as widgets\n"
   ]
  },
  {
   "cell_type": "markdown",
   "id": "08ff9e7c",
   "metadata": {},
   "source": [
    "##### Criação de funções (DEF)"
   ]
  },
  {
   "cell_type": "code",
   "execution_count": null,
   "id": "45d4adde",
   "metadata": {},
   "outputs": [],
   "source": [
    "# Função que gera os gráficos para um modelo escolhido\n",
    "def analisar_modelo_selecionado(nome_modelo):\n",
    "    \n",
    "    # Pega o modelo e as previsões do nosso dicionário central\n",
    "    modelo_selecionado = modelos_avaliados[nome_modelo][\"modelo\"]\n",
    "    previsoes_selecionadas = modelos_avaliados[nome_modelo][\"previsoes\"]\n",
    "\n",
    "    print(f\"\\n--- Análise Detalhada para o Modelo: {nome_modelo} ---\")\n",
    "    \n",
    "    # --- Gráfico 1: Matriz de Confusão ---\n",
    "    cm = confusion_matrix(y_test, previsoes_selecionadas)\n",
    "    plt.figure(figsize=(14, 6))\n",
    "    plt.subplot(1, 2, 1) # Cria um subplot na posição 1\n",
    "    \n",
    "    sns.heatmap(cm, annot=True, fmt='d', cmap='Blues', \n",
    "                xticklabels=['Previsto Negativo', 'Previsto Positivo'], \n",
    "                yticklabels=['Real Negativo', 'Real Positivo'])\n",
    "    plt.title(f'Matriz de Confusão - {nome_modelo}', fontsize=14)\n",
    "    plt.ylabel('Valor Real')\n",
    "    plt.xlabel('Valor Previsto')\n",
    "\n",
    "    # --- Gráfico 2: Curva ROC e AUC ---\n",
    "    # Tratamento especial para SVM que pode não ter predict_proba por padrão\n",
    "    if hasattr(modelo_selecionado, \"predict_proba\"):\n",
    "        y_pred_proba = modelo_selecionado.predict_proba(x_test_scaled)[:, 1]\n",
    "        auc = roc_auc_score(y_test, y_pred_proba)\n",
    "        fpr, tpr, _ = roc_curve(y_test, y_pred_proba)\n",
    "\n",
    "        plt.subplot(1, 2, 2) # Cria um subplot na posição 2\n",
    "        plt.plot(fpr, tpr, label=f'Curva ROC (AUC = {auc:.4f})')\n",
    "        plt.plot([0, 1], [0, 1], color='red', linestyle='--', label='Classificador Aleatório')\n",
    "        plt.xlabel('Taxa de Falsos Positivos (FPR)')\n",
    "        plt.ylabel('Taxa de Verdadeiros Positivos (TPR)')\n",
    "        plt.title(f'Curva ROC - {nome_modelo}', fontsize=14)\n",
    "        plt.legend()\n",
    "        plt.grid()\n",
    "    else:\n",
    "        # Caso o modelo não suporte predict_proba\n",
    "        plt.subplot(1, 2, 2)\n",
    "        plt.text(0.5, 0.5, 'Curva ROC não disponível\\npara este modelo (ex: SVM sem probabilidade).', \n",
    "                 ha='center', va='center', fontsize=12)\n",
    "        plt.title(f'Curva ROC - {nome_modelo}', fontsize=14)\n",
    "        plt.gca().set_axis_off()\n",
    "\n",
    "\n",
    "    plt.tight_layout() # Ajusta o espaçamento entre os gráficos\n",
    "    plt.show()"
   ]
  },
  {
   "cell_type": "markdown",
   "id": "80b08bfd",
   "metadata": {},
   "source": [
    "##### Análise Exploratória de Dados (EDA)"
   ]
  },
  {
   "cell_type": "code",
   "execution_count": null,
   "id": "767cebda",
   "metadata": {},
   "outputs": [],
   "source": [
    "\"\"\"\n",
    "\n",
    "Com sugestão do colega da pós Tiago Turra existe uma biblioteca chamada yfinance (https://pypi.org/project/yfinance/) que possi os mesmo dados do site https://br.investing.com/indices/bovespa-historical-data\n",
    "\n",
    "\"\"\"\n",
    "\n",
    "# Importando os dados via yfinance apenas para referencia\n",
    "# progress --> Não gerar um print do progresso\n",
    "# auto_adjust --> corrigir o histórico de preços\n",
    "# multi_level_index --> Utilizando para evitar gerar coluna com o nome do ticket, exemplo ('Close', '^BVSP')\n",
    "\n",
    "dados_yf = yf.download('^BVSP', period=\"max\", interval=\"1d\", auto_adjust=True,  progress=False, multi_level_index=False)\n",
    "\n",
    "print(\"Primeiros dados\")\n",
    "display(dados_yf.head())\n",
    "\n",
    "print(\"\\nUltimos dados\")\n",
    "display(dados_yf.tail())"
   ]
  },
  {
   "cell_type": "code",
   "execution_count": null,
   "id": "b853a146",
   "metadata": {},
   "outputs": [],
   "source": [
    "# Opção de já transformar o campa data em Data e Index\n",
    "\n",
    "link = r\"https://raw.githubusercontent.com/RicardViana/fiap-Machine-Learning-and-Time-Series/refs/heads/main/Dados%20Hist%C3%B3ricos%20Ibovespa.csv\"\n",
    "dados_origem_teste = pd.read_csv(link, sep= \";\", thousands='.', decimal=',', parse_dates=[\"Data\"], dayfirst=True, index_col=\"Data\")\n",
    "display(dados_origem_teste.head())"
   ]
  },
  {
   "cell_type": "code",
   "execution_count": null,
   "id": "4c323470",
   "metadata": {},
   "outputs": [],
   "source": [
    "# Importar os dados via github \n",
    "# Necessario o uso do arumento thousands e decimal para não ter problema com o data frame --> o . na fonte é para separar o milhar\n",
    "\n",
    "link = r\"https://raw.githubusercontent.com/RicardViana/fiap-Machine-Learning-and-Time-Series/refs/heads/main/Dados%20Hist%C3%B3ricos%20Ibovespa.csv\"\n",
    "dados_origem = pd.read_csv(link, sep= \";\", thousands='.', decimal=',', index_col=\"Data\")"
   ]
  },
  {
   "cell_type": "code",
   "execution_count": null,
   "id": "b83b6b1a",
   "metadata": {},
   "outputs": [],
   "source": [
    "# Verificando os dados via .head e .tail\n",
    "\n",
    "print(\"Primeiros dados (.head)\")\n",
    "display(dados_origem.head())\n",
    "\n",
    "print(\"\\nUltimos dados (.tail)\")\n",
    "display(dados_origem.tail())"
   ]
  },
  {
   "cell_type": "code",
   "execution_count": null,
   "id": "1ed3377b",
   "metadata": {},
   "outputs": [],
   "source": [
    "# Ajustar o formato da coluna Data \n",
    "\n",
    "dados_origem.index = pd.to_datetime(dados_origem.index, format = \"%d/%m/%Y\")"
   ]
  },
  {
   "cell_type": "code",
   "execution_count": null,
   "id": "e2bbdb21",
   "metadata": {},
   "outputs": [],
   "source": [
    "# Verificand os dados os dados do data frame dados_origem com o dados_yf --> Verificar se há diferença \n",
    "\n",
    "print(\"Dados do data frame dados_origem\")\n",
    "display(dados_origem[['Ultimo', 'Abertura', 'Maxima', 'Minima']].tail())\n",
    "\n",
    "print(\"\\nDados do data frame dados_yf\")\n",
    "display(dados_yf[['Close', 'Open', 'High', 'Low']].query(\"Date >= '2025-06-30 00:00:00' and Date <= '2025-07-04 00:00:00'\"))\n"
   ]
  },
  {
   "cell_type": "code",
   "execution_count": null,
   "id": "6611e049",
   "metadata": {},
   "outputs": [],
   "source": [
    "# Veficiando os dados dados do data frame \n",
    "\n",
    "dados_origem.info()"
   ]
  },
  {
   "cell_type": "code",
   "execution_count": null,
   "id": "656a58f7",
   "metadata": {},
   "outputs": [],
   "source": [
    "# Verificando os dados nulos\n",
    "dados_origem.isnull().sum()"
   ]
  },
  {
   "cell_type": "code",
   "execution_count": null,
   "id": "52578741",
   "metadata": {},
   "outputs": [],
   "source": [
    "# Verificando os registros que estão nulos \n",
    "# Como para o nosso projeto esse campo Volume não é util, vamos manter esse registro\n",
    "dados_origem[dados_origem.isnull().any(axis=1)]"
   ]
  },
  {
   "cell_type": "code",
   "execution_count": null,
   "id": "f2de032f",
   "metadata": {},
   "outputs": [],
   "source": [
    "# Gerando a estatistica descritiva do data frame \n",
    "\n",
    "dados_origem.describe()"
   ]
  },
  {
   "cell_type": "code",
   "execution_count": null,
   "id": "e8d6b05a",
   "metadata": {},
   "outputs": [],
   "source": [
    "# Verificando o intervalo de data dos dados \n",
    "\n",
    "print(f\"Data inicial é {dados_origem.index.min()}\")\n",
    "print(f\"Data final   é {dados_origem.index.max()}\")"
   ]
  },
  {
   "cell_type": "code",
   "execution_count": null,
   "id": "9849cfa0",
   "metadata": {},
   "outputs": [],
   "source": [
    "# Criando um novo data frame apenas com os campos necessarios\n",
    "\n",
    "dados_ultimo = dados_origem[\"Ultimo\"].copy()\n",
    "dados_ultimo.tail()"
   ]
  },
  {
   "cell_type": "code",
   "execution_count": null,
   "id": "d862ae69",
   "metadata": {},
   "outputs": [],
   "source": [
    "# Plotando um grafico de linha \n",
    "\n",
    "plt.figure(figsize=(15,5))\n",
    "plt.plot(dados_ultimo.index,dados_ultimo)\n",
    "plt.title(\"Evolução do indice Ibovespa (IBOV)\")\n",
    "plt.show()"
   ]
  },
  {
   "cell_type": "code",
   "execution_count": null,
   "id": "35a3bcd9",
   "metadata": {},
   "outputs": [],
   "source": [
    "# Realizar a decomposição da seria temporal -->  tendência (trend), sazonalidade (seasonal) e resíduo (resid) e gerar o graficos \n",
    "\n",
    "periodo = 252 # Média de dias uteis\n",
    "\n",
    "resultados = seasonal_decompose(dados_ultimo, period=periodo)\n",
    "\n",
    "fig, (ax1,ax2,ax3,ax4) = plt.subplots(4,1, figsize = (15,10))\n",
    "\n",
    "resultados.observed.plot(ax=ax1)\n",
    "ax1.set_title(\"Serie Real\")\n",
    "\n",
    "resultados.trend.plot(ax=ax2)\n",
    "ax2.set_title(\"Tendência\")\n",
    "\n",
    "resultados.seasonal.plot(ax=ax3)\n",
    "ax3.set_title(\"Sazonalidade\")\n",
    "\n",
    "resultados.resid.plot(ax=ax4)\n",
    "ax4.set_title(\"Resíduo\")\n",
    "\n",
    "plt.tight_layout()\n",
    "plt.show()"
   ]
  },
  {
   "cell_type": "markdown",
   "id": "158cd310",
   "metadata": {},
   "source": [
    "##### Feature Engineering"
   ]
  },
  {
   "cell_type": "code",
   "execution_count": null,
   "id": "3fc0fd41",
   "metadata": {},
   "outputs": [],
   "source": [
    "# Criar um novo data frame com os dados originais\n",
    "\n",
    "dados = dados_origem[[\"Ultimo\", \"Abertura\", \"Maxima\", \"Minima\"]].copy()"
   ]
  },
  {
   "cell_type": "code",
   "execution_count": null,
   "id": "ceef0009",
   "metadata": {},
   "outputs": [],
   "source": [
    "# Alterando o nome das colunas \n",
    "\n",
    "dados.index.name = \"data\"\n",
    "dados = dados.rename(columns={\"Ultimo\":\"ultimo\", \"Abertura\":\"abertura\", \"Maxima\":\"maxima\", \"Minima\":\"minima\"})"
   ]
  },
  {
   "cell_type": "code",
   "execution_count": null,
   "id": "e0fdc9d5",
   "metadata": {},
   "outputs": [],
   "source": [
    "# Ordernando os dados \n",
    "\n",
    "dados = dados.sort_index()"
   ]
  },
  {
   "cell_type": "code",
   "execution_count": null,
   "id": "89edf831",
   "metadata": {},
   "outputs": [],
   "source": [
    "# Criar a variavel Target (Alvo) --> 1 para sobe e 0 para desce \n",
    "# Avaliamos o valor atual com o valor do proximo dia e dessa forma conseguimos definir se o dia seguinte subiu (1) ou desceu (0)\n",
    "\n",
    "#dados['ultimo_amanha'] = dados[\"ultimo\"].shift(-1) # --> Etapa apenas para enteder os calculos e não é necessarios para o modelo\n",
    "#dados['ultimo_diferenca'] = dados[\"ultimo\"].shift(-1) - dados[\"ultimo\"] # --> Etapa apenas para enteder os calculos e não é necessarios para o modelo\n",
    "\n",
    "dados['target'] = (dados[\"ultimo\"].shift(-1) > dados[\"ultimo\"]).astype(int)\n",
    "dados.tail()\n"
   ]
  },
  {
   "cell_type": "code",
   "execution_count": null,
   "id": "be806019",
   "metadata": {},
   "outputs": [],
   "source": [
    "# Criar as variações percentuais (lags) --> Comparar percentualmente o dia de hoje com n dias anteriores\n",
    "# Features Defasadas (Lagged Features) --> Os preços e volumes dos dias anteriores são informações muito importantes\n",
    "\n",
    "qtd_lags = 10\n",
    "\n",
    "for i in range (1, qtd_lags+1):\n",
    "    dados[f\"lag_{i}\"] = dados[\"ultimo\"].pct_change(i)\n",
    "\n",
    "dados.tail()"
   ]
  },
  {
   "cell_type": "code",
   "execution_count": null,
   "id": "f653012c",
   "metadata": {},
   "outputs": [],
   "source": [
    "# Criar restante dos indicadores tecnicos\n",
    "# mms --> Médias Móveis Simples (SMA - Simple Moving Averages): Suavizam as flutuações de preço para identificar a direção da tendência.\n",
    "# mme --> Média Móvel Exponencial (EMA - Exponential Moving Average): Semelhante à SMA, mas dá mais peso aos preços mais recentes, reagindo mais rápido a mudanças\n",
    "# rsi --> Índice de Força Relativa (RSI - Relative Strength Index): Mede a velocidade e a mudança dos movimentos de preços, indicando se um ativo está sobrecomprado ou sobrevendido.\n",
    "# macd --> Convergência e Divergência de Médias Móveis (MACD - Moving Average Convergence Divergence): Usa duas médias móveis exponenciais para gerar sinais de compra e venda\n",
    "# bbands --> Bandas de Bollinger (Bollinger Bands): Medem a volatilidade do mercado, consistindo em uma média móvel (banda do meio) e duas bandas de desvio padrão (superior e inferior)\n",
    "# stoch --> Oscilador Estocástico (%K e %D): Compara o preço de fechamento de um ativo com sua faixa de preço durante um determinado período\n",
    "\n",
    "custom_strategy = ta.Strategy(\n",
    "    name=\"Estrategia Mista\",\n",
    "    description=\"SMA, EMA, RSI, MACD, BBands, e Stochastic\",\n",
    "    ta=[\n",
    "        {\"kind\": \"sma\", \"length\": 10},\n",
    "        {\"kind\": \"sma\", \"length\": 20},\n",
    "        {\"kind\": \"sma\", \"length\": 50},\n",
    "        {\"kind\": \"ema\", \"length\": 20},\n",
    "        {\"kind\": \"rsi\", \"length\": 14},\n",
    "        {\"kind\": \"macd\", \"fast\": 12, \"slow\": 26, \"signal\": 9},\n",
    "        {\"kind\": \"bbands\", \"length\": 20, \"std\": 2},\n",
    "        {\"kind\": \"stoch\", \"k\": 14, \"d\": 3}\n",
    "    ]\n",
    ")"
   ]
  },
  {
   "cell_type": "code",
   "execution_count": null,
   "id": "70367c21",
   "metadata": {},
   "outputs": [],
   "source": [
    "# Incluir indicadores técnicos no data frame\n",
    "\n",
    "incluir_dados = \"Não\"\n",
    "\n",
    "if incluir_dados == \"Sim\":\n",
    "    dados = dados.rename(columns={\"ultimo\":\"close\", \"abertura\":\"open\", \"maxima\":\"high\", \"minima\":\"low\"})\n",
    "    dados.ta.strategy(custom_strategy)\n",
    "    dados = dados.rename(columns={\"close\":\"ultimo\", \"open\":\"abertura\", \"high\":\"maxima\", \"low\":\"minima\"})\n",
    "    dados.tail()\n"
   ]
  },
  {
   "cell_type": "code",
   "execution_count": null,
   "id": "9ee2d1c7",
   "metadata": {},
   "outputs": [],
   "source": [
    "# Tratar o data frame para evitar o data leakage --> empurrar os dados para a linha de baixo\n",
    "\n",
    "colunas_excluir = [\"target\"]\n",
    "features_a_deslocar = [col for col in dados.columns if col not in colunas_excluir]\n",
    "\n",
    "dados[features_a_deslocar] = dados[features_a_deslocar].shift(1)\n",
    "\n",
    "dados.tail()"
   ]
  },
  {
   "cell_type": "code",
   "execution_count": null,
   "id": "7744068e",
   "metadata": {},
   "outputs": [],
   "source": [
    "# Excluir do data frame os registros vazios\n",
    "\n",
    "dados = dados.dropna()\n",
    "dados.head()"
   ]
  },
  {
   "cell_type": "markdown",
   "id": "ef02875f",
   "metadata": {},
   "source": [
    "##### Criação dos modelos de Machine Learning"
   ]
  },
  {
   "cell_type": "code",
   "execution_count": null,
   "id": "647767f6",
   "metadata": {},
   "outputs": [],
   "source": [
    "# Gerar datas para filtrar treino e teste \n",
    "\n",
    "# Definir o ano e mês do intervalo + anos \n",
    "ano = 2025\n",
    "mes = 6\n",
    "anos = 10\n",
    "\n",
    "# Gerar as variaveis \n",
    "data_inicio_teste = pd.to_datetime(date(ano, mes, 1))\n",
    "ultimo_dia = calendar.monthrange(ano, mes)[1]\n",
    "data_fim_teste = pd.to_datetime(date(ano, mes, ultimo_dia))\n",
    "\n",
    "ano_atual = date.today().year\n",
    "ano_inicio_treino = ano_atual - anos\n",
    "data_inicio_treino = pd.to_datetime(date(ano_inicio_treino,1,1))"
   ]
  },
  {
   "cell_type": "code",
   "execution_count": null,
   "id": "d1247d41",
   "metadata": {},
   "outputs": [],
   "source": [
    "# Separar os dados para treino e teste \n",
    "\n",
    "x = dados.drop(columns=[\"abertura\", \"maxima\", \"minima\",\"target\"])\n",
    "y = dados[\"target\"]\n",
    "\n",
    "print(\"Features (x):\")\n",
    "display(x.tail())\n",
    "\n",
    "print(\"\\nAlvo (y):\")\n",
    "display(y.tail())"
   ]
  },
  {
   "cell_type": "code",
   "execution_count": null,
   "id": "cd289894",
   "metadata": {},
   "outputs": [],
   "source": [
    "# Separar a base em treino e teste\n",
    "\n",
    "x_train = x[(x.index >= data_inicio_treino) & (x.index < data_inicio_teste)]\n",
    "y_train = y[(y.index >= data_inicio_treino) & (y.index < data_inicio_teste)]\n",
    "\n",
    "x_test = x[(x.index >= data_inicio_teste) & (x.index <= data_fim_teste)]\n",
    "y_test = y[(y.index >= data_inicio_teste) & (y.index <= data_fim_teste)]"
   ]
  },
  {
   "cell_type": "code",
   "execution_count": null,
   "id": "a1b4bcef",
   "metadata": {},
   "outputs": [],
   "source": [
    "# Normalizar os dados\n",
    "\n",
    "scaler = StandardScaler()\n",
    "scaler.fit(x_train)\n",
    "\n",
    "x_train_scaled = scaler.transform(x_train)\n",
    "x_test_scaled = scaler.transform(x_test)"
   ]
  },
  {
   "cell_type": "code",
   "execution_count": null,
   "id": "293570a6",
   "metadata": {},
   "outputs": [],
   "source": [
    "# Treinar o modelo e gerar a previsao - Regressao Logistica\n",
    "\n",
    "modelo_rl = LogisticRegression(random_state=42)\n",
    "modelo_rl.fit(x_train_scaled,y_train)\n",
    "previsao_rl = modelo_rl.predict(x_test_scaled)"
   ]
  },
  {
   "cell_type": "code",
   "execution_count": null,
   "id": "e8475062",
   "metadata": {},
   "outputs": [],
   "source": [
    "# Treinar o modelo e gerar a previsao - Random Forest \n",
    "\n",
    "modelo_rf = RandomForestClassifier(n_estimators=100, random_state=42)\n",
    "modelo_rf.fit(x_train_scaled, y_train)\n",
    "previsao_rf = modelo_rf.predict(x_test_scaled)"
   ]
  },
  {
   "cell_type": "code",
   "execution_count": null,
   "id": "1944b199",
   "metadata": {},
   "outputs": [],
   "source": [
    "# Treinar o modelo e gerar a previsao - XGBoost\n",
    "\n",
    "modelo_xgb = XGBClassifier(random_state=42)\n",
    "modelo_xgb.fit(x_train_scaled, y_train)\n",
    "previsao_xgb = modelo_xgb.predict(x_test_scaled)"
   ]
  },
  {
   "cell_type": "code",
   "execution_count": null,
   "id": "93648a4b",
   "metadata": {},
   "outputs": [],
   "source": [
    "# Treinar o modelo e gerar a previsao - LightGBM\n",
    "\n",
    "modelo_lgbm = LGBMClassifier(random_state=42, verbose = -1)\n",
    "modelo_lgbm.fit(x_train_scaled, y_train)\n",
    "previsao_lgbm = modelo_lgbm.predict(x_test_scaled)"
   ]
  },
  {
   "cell_type": "code",
   "execution_count": null,
   "id": "56c5e546",
   "metadata": {},
   "outputs": [],
   "source": [
    "# Treinar o modelo e gerar a previsao - CatBoost\n",
    "\n",
    "modelo_cat = CatBoostClassifier(random_state=42, verbose=0)\n",
    "modelo_cat.fit(x_train_scaled, y_train)\n",
    "previsao_cat = modelo_cat.predict(x_test_scaled)"
   ]
  },
  {
   "cell_type": "code",
   "execution_count": null,
   "id": "b11e0cd1",
   "metadata": {},
   "outputs": [],
   "source": [
    "# Treinar o modelo e gerar a previsao - SVM \n",
    "\n",
    "modelo_svm = SVC(kernel='rbf', C=1.0, probability=True, random_state=42)\n",
    "modelo_svm.fit(x_train_scaled, y_train)\n",
    "previsao_svm = modelo_svm.predict(x_test_scaled)"
   ]
  },
  {
   "cell_type": "code",
   "execution_count": null,
   "id": "ed19837a",
   "metadata": {},
   "outputs": [],
   "source": [
    "# Gerar tabela com o score\n",
    "\n",
    "# # Criar um dicionario com os resultados centralizado que guarda o nome, o objeto do modelo e suas previsões\n",
    "modelos_avaliados = {\n",
    "    \"Regressão Logística\": {\"modelo\": modelo_rl, \"previsoes\": previsao_rl},\n",
    "    \"Random Forest\":       {\"modelo\": modelo_rf, \"previsoes\": previsao_rf},\n",
    "    \"XGBoost\":             {\"modelo\": modelo_xgb, \"previsoes\": previsao_xgb},\n",
    "    \"LightGBM\":            {\"modelo\": modelo_lgbm, \"previsoes\": previsao_lgbm},\n",
    "    \"CatBoost\":            {\"modelo\": modelo_cat, \"previsoes\": previsao_cat},\n",
    "    \"SVM\":                 {\"modelo\": modelo_svm, \"previsoes\": previsao_svm}\n",
    "}\n",
    "\n",
    "# Criar um data frame com os resultados\n",
    "performance = pd.DataFrame(\n",
    "    columns=[\"Modelo\", \"Acurácia\", \"Precisão\", \"Recall\", \"F1-Score\"]\n",
    ")\n",
    "\n",
    "for nome, dados in modelos_avaliados.items():\n",
    "    report = classification_report(y_test, dados[\"previsoes\"], output_dict=True, zero_division=0)\n",
    "    \n",
    "    performance.loc[performance.shape[0]] = {\n",
    "        \"Modelo\": nome,\n",
    "        \"Acurácia\": report[\"accuracy\"],\n",
    "        \"Precisão\": report[\"weighted avg\"][\"precision\"],\n",
    "        \"Recall\": report[\"weighted avg\"][\"recall\"],\n",
    "        \"F1-Score\": report[\"weighted avg\"][\"f1-score\"],\n",
    "    }\n",
    "\n",
    "performance.set_index(\"Modelo\", inplace=True)\n",
    "performance_formatada = performance.sort_values(by=\"Acurácia\", ascending=False)\n",
    "performance_formatada = performance_formatada.map(lambda x: f\"{(100 * x):.2f} %\")\n",
    "\n",
    "display(performance_formatada)"
   ]
  },
  {
   "cell_type": "markdown",
   "id": "dfc272a8",
   "metadata": {},
   "source": [
    "##### Analisando o resultado dos modelos de Machine Learning através da Matriz de Confusão e Curva ROC\n",
    "\n"
   ]
  },
  {
   "cell_type": "code",
   "execution_count": null,
   "id": "13f06004",
   "metadata": {},
   "outputs": [],
   "source": [
    "modelo_default = performance.sort_values(by=\"Acurácia\", ascending=False).index[0]\n",
    "\n",
    "dropdown = widgets.Dropdown(\n",
    "    options=list(modelos_avaliados.keys()),\n",
    "    value=modelo_default,\n",
    "    description='Modelo:',\n",
    "    disabled=False,\n",
    ")\n",
    "\n",
    "# Linka o dropdown à função de análise\n",
    "widgets.interactive(analisar_modelo_selecionado, nome_modelo=dropdown)"
   ]
  }
 ],
 "metadata": {
  "kernelspec": {
   "display_name": "base",
   "language": "python",
   "name": "python3"
  },
  "language_info": {
   "codemirror_mode": {
    "name": "ipython",
    "version": 3
   },
   "file_extension": ".py",
   "mimetype": "text/x-python",
   "name": "python",
   "nbconvert_exporter": "python",
   "pygments_lexer": "ipython3",
   "version": "3.12.3"
  }
 },
 "nbformat": 4,
 "nbformat_minor": 5
}
