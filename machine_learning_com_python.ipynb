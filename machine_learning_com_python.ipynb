{
 "cells": [
  {
   "cell_type": "markdown",
   "id": "9b58e9e5",
   "metadata": {},
   "source": [
    "#### Fase 2 | Aula 1 - Machine Learning com Python"
   ]
  },
  {
   "cell_type": "markdown",
   "id": "4fde4324",
   "metadata": {},
   "source": [
    "##### Links do material conteudo\n",
    "**Tomato**  \n",
    "https://github.com/FIAP/Pos_Tech_DTAT/blob/61a634996879d5c1384af6f567e29659ad68b727/Aula%2002/Base%20de%20Dados/Tomato.csv\n",
    "\n",
    "**Chess**  \n",
    "https://github.com/FIAP/Pos_Tech_DTAT/blob/61a634996879d5c1384af6f567e29659ad68b727/Aula%2002/Base%20de%20Dados/Chess.xlsx"
   ]
  },
  {
   "cell_type": "markdown",
   "id": "aa0795db",
   "metadata": {},
   "source": [
    "##### Importação de pacotes, bibliotecas"
   ]
  },
  {
   "cell_type": "code",
   "execution_count": 20,
   "id": "c4429920",
   "metadata": {},
   "outputs": [],
   "source": [
    "# Importar biblioteca completa\n",
    "import pandas as pd \n",
    "\n",
    "# Importar função especifica de um módulo"
   ]
  },
  {
   "cell_type": "markdown",
   "id": "cc3f9d89",
   "metadata": {},
   "source": [
    "##### Aula 1 - Bibliotecas Fundamentais e Primeiros Passos em ML"
   ]
  },
  {
   "cell_type": "code",
   "execution_count": 21,
   "id": "afa41fb2",
   "metadata": {},
   "outputs": [],
   "source": [
    "# Usando a engine calamine devido a sua melhor performace se comparada com o openpyxl\n",
    "df_excel = pd.read_excel(\"https://github.com/FIAP/Pos_Tech_DTAT/raw/61a634996879d5c1384af6f567e29659ad68b727/Aula%2002/Base%20de%20Dados/Chess.xlsx\",sheet_name=\"Chess\", engine= \"calamine\")"
   ]
  },
  {
   "cell_type": "code",
   "execution_count": 22,
   "id": "498d2264",
   "metadata": {},
   "outputs": [],
   "source": [
    "df_csv = pd.read_csv(\"https://raw.githubusercontent.com/FIAP/Pos_Tech_DTAT/61a634996879d5c1384af6f567e29659ad68b727/Aula%2002/Base%20de%20Dados/Tomato.csv\", sep= \",\")"
   ]
  },
  {
   "cell_type": "code",
   "execution_count": 23,
   "id": "b835b5d8",
   "metadata": {},
   "outputs": [
    {
     "data": {
      "application/vnd.microsoft.datawrangler.viewer.v0+json": {
       "columns": [
        {
         "name": "index",
         "rawType": "int64",
         "type": "integer"
        },
        {
         "name": "rated",
         "rawType": "bool",
         "type": "boolean"
        },
        {
         "name": "created_at",
         "rawType": "float64",
         "type": "float"
        },
        {
         "name": "last_move_at",
         "rawType": "float64",
         "type": "float"
        },
        {
         "name": "turns",
         "rawType": "int64",
         "type": "integer"
        },
        {
         "name": "victory_status",
         "rawType": "object",
         "type": "string"
        },
        {
         "name": "winner",
         "rawType": "object",
         "type": "string"
        },
        {
         "name": "increment_code",
         "rawType": "object",
         "type": "string"
        },
        {
         "name": "white_id",
         "rawType": "object",
         "type": "string"
        },
        {
         "name": "white_rating",
         "rawType": "int64",
         "type": "integer"
        },
        {
         "name": "black_id",
         "rawType": "object",
         "type": "string"
        },
        {
         "name": "black_rating",
         "rawType": "int64",
         "type": "integer"
        },
        {
         "name": "opening_eco",
         "rawType": "object",
         "type": "string"
        },
        {
         "name": "opening_name",
         "rawType": "object",
         "type": "string"
        },
        {
         "name": "opening_ply",
         "rawType": "int64",
         "type": "integer"
        }
       ],
       "ref": "8b3876b9-47a1-45d0-ba93-ac360e91e677",
       "rows": [
        [
         "0",
         "False",
         "1.50421e+17",
         "1.50421e+17",
         "13",
         "outoftime",
         "white",
         "15+2",
         "bourgris",
         "1500",
         "a-00",
         "1191",
         "D10",
         "Slav Defense: Exchange Variation",
         "5"
        ],
        [
         "1",
         "True",
         "1.50413e+17",
         "1.50413e+17",
         "16",
         "resign",
         "black",
         "5+10",
         "a-00",
         "1322",
         "skinnerua",
         "1261",
         "B00",
         "Nimzowitsch Defense: Kennedy Variation",
         "4"
        ],
        [
         "2",
         "True",
         "1.50413e+17",
         "1.50413e+17",
         "61",
         "mate",
         "white",
         "5+10",
         "ischia",
         "1496",
         "a-00",
         "1500",
         "C20",
         "King's Pawn Game: Leonardis Variation",
         "3"
        ],
        [
         "3",
         "True",
         "1.50411e+17",
         "1.50411e+17",
         "61",
         "mate",
         "white",
         "20+0",
         "daniamurashov",
         "1439",
         "adivanov2009",
         "1454",
         "D02",
         "Queen's Pawn Game: Zukertort Variation",
         "3"
        ],
        [
         "4",
         "True",
         "1.50403e+17",
         "1.50403e+17",
         "95",
         "mate",
         "white",
         "30+3",
         "nik221107",
         "1523",
         "adivanov2009",
         "1469",
         "C41",
         "Philidor Defense",
         "5"
        ]
       ],
       "shape": {
        "columns": 14,
        "rows": 5
       }
      },
      "text/html": [
       "<div>\n",
       "<style scoped>\n",
       "    .dataframe tbody tr th:only-of-type {\n",
       "        vertical-align: middle;\n",
       "    }\n",
       "\n",
       "    .dataframe tbody tr th {\n",
       "        vertical-align: top;\n",
       "    }\n",
       "\n",
       "    .dataframe thead th {\n",
       "        text-align: right;\n",
       "    }\n",
       "</style>\n",
       "<table border=\"1\" class=\"dataframe\">\n",
       "  <thead>\n",
       "    <tr style=\"text-align: right;\">\n",
       "      <th></th>\n",
       "      <th>rated</th>\n",
       "      <th>created_at</th>\n",
       "      <th>last_move_at</th>\n",
       "      <th>turns</th>\n",
       "      <th>victory_status</th>\n",
       "      <th>winner</th>\n",
       "      <th>increment_code</th>\n",
       "      <th>white_id</th>\n",
       "      <th>white_rating</th>\n",
       "      <th>black_id</th>\n",
       "      <th>black_rating</th>\n",
       "      <th>opening_eco</th>\n",
       "      <th>opening_name</th>\n",
       "      <th>opening_ply</th>\n",
       "    </tr>\n",
       "  </thead>\n",
       "  <tbody>\n",
       "    <tr>\n",
       "      <th>0</th>\n",
       "      <td>False</td>\n",
       "      <td>1.504210e+17</td>\n",
       "      <td>1.504210e+17</td>\n",
       "      <td>13</td>\n",
       "      <td>outoftime</td>\n",
       "      <td>white</td>\n",
       "      <td>15+2</td>\n",
       "      <td>bourgris</td>\n",
       "      <td>1500</td>\n",
       "      <td>a-00</td>\n",
       "      <td>1191</td>\n",
       "      <td>D10</td>\n",
       "      <td>Slav Defense: Exchange Variation</td>\n",
       "      <td>5</td>\n",
       "    </tr>\n",
       "    <tr>\n",
       "      <th>1</th>\n",
       "      <td>True</td>\n",
       "      <td>1.504130e+17</td>\n",
       "      <td>1.504130e+17</td>\n",
       "      <td>16</td>\n",
       "      <td>resign</td>\n",
       "      <td>black</td>\n",
       "      <td>5+10</td>\n",
       "      <td>a-00</td>\n",
       "      <td>1322</td>\n",
       "      <td>skinnerua</td>\n",
       "      <td>1261</td>\n",
       "      <td>B00</td>\n",
       "      <td>Nimzowitsch Defense: Kennedy Variation</td>\n",
       "      <td>4</td>\n",
       "    </tr>\n",
       "    <tr>\n",
       "      <th>2</th>\n",
       "      <td>True</td>\n",
       "      <td>1.504130e+17</td>\n",
       "      <td>1.504130e+17</td>\n",
       "      <td>61</td>\n",
       "      <td>mate</td>\n",
       "      <td>white</td>\n",
       "      <td>5+10</td>\n",
       "      <td>ischia</td>\n",
       "      <td>1496</td>\n",
       "      <td>a-00</td>\n",
       "      <td>1500</td>\n",
       "      <td>C20</td>\n",
       "      <td>King's Pawn Game: Leonardis Variation</td>\n",
       "      <td>3</td>\n",
       "    </tr>\n",
       "    <tr>\n",
       "      <th>3</th>\n",
       "      <td>True</td>\n",
       "      <td>1.504110e+17</td>\n",
       "      <td>1.504110e+17</td>\n",
       "      <td>61</td>\n",
       "      <td>mate</td>\n",
       "      <td>white</td>\n",
       "      <td>20+0</td>\n",
       "      <td>daniamurashov</td>\n",
       "      <td>1439</td>\n",
       "      <td>adivanov2009</td>\n",
       "      <td>1454</td>\n",
       "      <td>D02</td>\n",
       "      <td>Queen's Pawn Game: Zukertort Variation</td>\n",
       "      <td>3</td>\n",
       "    </tr>\n",
       "    <tr>\n",
       "      <th>4</th>\n",
       "      <td>True</td>\n",
       "      <td>1.504030e+17</td>\n",
       "      <td>1.504030e+17</td>\n",
       "      <td>95</td>\n",
       "      <td>mate</td>\n",
       "      <td>white</td>\n",
       "      <td>30+3</td>\n",
       "      <td>nik221107</td>\n",
       "      <td>1523</td>\n",
       "      <td>adivanov2009</td>\n",
       "      <td>1469</td>\n",
       "      <td>C41</td>\n",
       "      <td>Philidor Defense</td>\n",
       "      <td>5</td>\n",
       "    </tr>\n",
       "  </tbody>\n",
       "</table>\n",
       "</div>"
      ],
      "text/plain": [
       "   rated    created_at  last_move_at  turns victory_status winner  \\\n",
       "0  False  1.504210e+17  1.504210e+17     13      outoftime  white   \n",
       "1   True  1.504130e+17  1.504130e+17     16         resign  black   \n",
       "2   True  1.504130e+17  1.504130e+17     61           mate  white   \n",
       "3   True  1.504110e+17  1.504110e+17     61           mate  white   \n",
       "4   True  1.504030e+17  1.504030e+17     95           mate  white   \n",
       "\n",
       "  increment_code       white_id  white_rating      black_id  black_rating  \\\n",
       "0           15+2       bourgris          1500          a-00          1191   \n",
       "1           5+10           a-00          1322     skinnerua          1261   \n",
       "2           5+10         ischia          1496          a-00          1500   \n",
       "3           20+0  daniamurashov          1439  adivanov2009          1454   \n",
       "4           30+3      nik221107          1523  adivanov2009          1469   \n",
       "\n",
       "  opening_eco                            opening_name  opening_ply  \n",
       "0         D10        Slav Defense: Exchange Variation            5  \n",
       "1         B00  Nimzowitsch Defense: Kennedy Variation            4  \n",
       "2         C20   King's Pawn Game: Leonardis Variation            3  \n",
       "3         D02  Queen's Pawn Game: Zukertort Variation            3  \n",
       "4         C41                        Philidor Defense            5  "
      ]
     },
     "execution_count": 23,
     "metadata": {},
     "output_type": "execute_result"
    }
   ],
   "source": [
    "df_excel.head()"
   ]
  },
  {
   "cell_type": "code",
   "execution_count": 24,
   "id": "7dff91e2",
   "metadata": {},
   "outputs": [
    {
     "data": {
      "application/vnd.microsoft.datawrangler.viewer.v0+json": {
       "columns": [
        {
         "name": "index",
         "rawType": "int64",
         "type": "integer"
        },
        {
         "name": "Date",
         "rawType": "object",
         "type": "string"
        },
        {
         "name": "Unit",
         "rawType": "object",
         "type": "string"
        },
        {
         "name": "Minimum",
         "rawType": "int64",
         "type": "integer"
        },
        {
         "name": "Maximum",
         "rawType": "int64",
         "type": "integer"
        },
        {
         "name": "Average",
         "rawType": "float64",
         "type": "float"
        },
        {
         "name": "Market",
         "rawType": "object",
         "type": "string"
        }
       ],
       "ref": "b6cdfb8c-3e21-4230-a1b8-d96017792cc0",
       "rows": [
        [
         "2736",
         "2021-05-09",
         "Kg",
         "10",
         "15",
         "12.5",
         "Tomato"
        ],
        [
         "2737",
         "2021-05-10",
         "Kg",
         "10",
         "15",
         "12.5",
         "Tomato"
        ],
        [
         "2738",
         "2021-05-11",
         "Kg",
         "10",
         "15",
         "12.5",
         "Tomato"
        ],
        [
         "2739",
         "2021-05-12",
         "Kg",
         "30",
         "35",
         "32.5",
         "Tomato"
        ],
        [
         "2740",
         "2021-05-13",
         "Kg",
         "35",
         "40",
         "37.5",
         "Tomato"
        ]
       ],
       "shape": {
        "columns": 6,
        "rows": 5
       }
      },
      "text/html": [
       "<div>\n",
       "<style scoped>\n",
       "    .dataframe tbody tr th:only-of-type {\n",
       "        vertical-align: middle;\n",
       "    }\n",
       "\n",
       "    .dataframe tbody tr th {\n",
       "        vertical-align: top;\n",
       "    }\n",
       "\n",
       "    .dataframe thead th {\n",
       "        text-align: right;\n",
       "    }\n",
       "</style>\n",
       "<table border=\"1\" class=\"dataframe\">\n",
       "  <thead>\n",
       "    <tr style=\"text-align: right;\">\n",
       "      <th></th>\n",
       "      <th>Date</th>\n",
       "      <th>Unit</th>\n",
       "      <th>Minimum</th>\n",
       "      <th>Maximum</th>\n",
       "      <th>Average</th>\n",
       "      <th>Market</th>\n",
       "    </tr>\n",
       "  </thead>\n",
       "  <tbody>\n",
       "    <tr>\n",
       "      <th>2736</th>\n",
       "      <td>2021-05-09</td>\n",
       "      <td>Kg</td>\n",
       "      <td>10</td>\n",
       "      <td>15</td>\n",
       "      <td>12.5</td>\n",
       "      <td>Tomato</td>\n",
       "    </tr>\n",
       "    <tr>\n",
       "      <th>2737</th>\n",
       "      <td>2021-05-10</td>\n",
       "      <td>Kg</td>\n",
       "      <td>10</td>\n",
       "      <td>15</td>\n",
       "      <td>12.5</td>\n",
       "      <td>Tomato</td>\n",
       "    </tr>\n",
       "    <tr>\n",
       "      <th>2738</th>\n",
       "      <td>2021-05-11</td>\n",
       "      <td>Kg</td>\n",
       "      <td>10</td>\n",
       "      <td>15</td>\n",
       "      <td>12.5</td>\n",
       "      <td>Tomato</td>\n",
       "    </tr>\n",
       "    <tr>\n",
       "      <th>2739</th>\n",
       "      <td>2021-05-12</td>\n",
       "      <td>Kg</td>\n",
       "      <td>30</td>\n",
       "      <td>35</td>\n",
       "      <td>32.5</td>\n",
       "      <td>Tomato</td>\n",
       "    </tr>\n",
       "    <tr>\n",
       "      <th>2740</th>\n",
       "      <td>2021-05-13</td>\n",
       "      <td>Kg</td>\n",
       "      <td>35</td>\n",
       "      <td>40</td>\n",
       "      <td>37.5</td>\n",
       "      <td>Tomato</td>\n",
       "    </tr>\n",
       "  </tbody>\n",
       "</table>\n",
       "</div>"
      ],
      "text/plain": [
       "            Date Unit  Minimum  Maximum  Average  Market\n",
       "2736  2021-05-09   Kg       10       15     12.5  Tomato\n",
       "2737  2021-05-10   Kg       10       15     12.5  Tomato\n",
       "2738  2021-05-11   Kg       10       15     12.5  Tomato\n",
       "2739  2021-05-12   Kg       30       35     32.5  Tomato\n",
       "2740  2021-05-13   Kg       35       40     37.5  Tomato"
      ]
     },
     "execution_count": 24,
     "metadata": {},
     "output_type": "execute_result"
    }
   ],
   "source": [
    "df_csv.tail()"
   ]
  },
  {
   "cell_type": "code",
   "execution_count": 25,
   "id": "1e608e58",
   "metadata": {},
   "outputs": [
    {
     "data": {
      "text/plain": [
       "(2741, 6)"
      ]
     },
     "execution_count": 25,
     "metadata": {},
     "output_type": "execute_result"
    }
   ],
   "source": [
    "# Forma resumida do total de linhas e colunas do data frame \n",
    "df_csv.shape"
   ]
  },
  {
   "cell_type": "code",
   "execution_count": 27,
   "id": "25d9ea8a",
   "metadata": {},
   "outputs": [
    {
     "name": "stdout",
     "output_type": "stream",
     "text": [
      "<class 'pandas.core.frame.DataFrame'>\n",
      "RangeIndex: 20058 entries, 0 to 20057\n",
      "Data columns (total 14 columns):\n",
      " #   Column          Non-Null Count  Dtype  \n",
      "---  ------          --------------  -----  \n",
      " 0   rated           20058 non-null  bool   \n",
      " 1   created_at      20058 non-null  float64\n",
      " 2   last_move_at    20058 non-null  float64\n",
      " 3   turns           20058 non-null  int64  \n",
      " 4   victory_status  20058 non-null  object \n",
      " 5   winner          20058 non-null  object \n",
      " 6   increment_code  20058 non-null  object \n",
      " 7   white_id        20058 non-null  object \n",
      " 8   white_rating    20058 non-null  int64  \n",
      " 9   black_id        20058 non-null  object \n",
      " 10  black_rating    20058 non-null  int64  \n",
      " 11  opening_eco     20058 non-null  object \n",
      " 12  opening_name    20058 non-null  object \n",
      " 13  opening_ply     20058 non-null  int64  \n",
      "dtypes: bool(1), float64(2), int64(4), object(7)\n",
      "memory usage: 2.0+ MB\n"
     ]
    }
   ],
   "source": [
    "# Resumo da base de dados com mais informações\n",
    "df_excel.info()"
   ]
  },
  {
   "cell_type": "code",
   "execution_count": null,
   "id": "7a1d8605",
   "metadata": {},
   "outputs": [
    {
     "data": {
      "application/vnd.microsoft.datawrangler.viewer.v0+json": {
       "columns": [
        {
         "name": "index",
         "rawType": "object",
         "type": "string"
        },
        {
         "name": "created_at",
         "rawType": "float64",
         "type": "float"
        },
        {
         "name": "last_move_at",
         "rawType": "float64",
         "type": "float"
        },
        {
         "name": "turns",
         "rawType": "float64",
         "type": "float"
        },
        {
         "name": "white_rating",
         "rawType": "float64",
         "type": "float"
        },
        {
         "name": "black_rating",
         "rawType": "float64",
         "type": "float"
        },
        {
         "name": "opening_ply",
         "rawType": "float64",
         "type": "float"
        }
       ],
       "ref": "714d5e1c-6aec-46e7-b466-4f14c380c391",
       "rows": [
        [
         "count",
         "20058.0",
         "20058.0",
         "20058.0",
         "20058.0",
         "20058.0",
         "20058.0"
        ],
        [
         "mean",
         "6.321334876576528e+16",
         "6.31308017525967e+16",
         "60.46599860404826",
         "1596.6318675840064",
         "1588.8319872370128",
         "4.8169807558081565"
        ],
        [
         "std",
         "7.292307304520035e+16",
         "7.290633169445621e+16",
         "33.570584753537055",
         "291.25337573701944",
         "291.03612596033696",
         "2.797151810630167"
        ],
        [
         "min",
         "1376771633173.0",
         "1376771863841.0",
         "1.0",
         "784.0",
         "789.0",
         "1.0"
        ],
        [
         "25%",
         "1498312954296.5",
         "1498315014541.25",
         "37.0",
         "1398.0",
         "1391.0",
         "3.0"
        ],
        [
         "50%",
         "1504365952766.0",
         "1504366755318.5",
         "55.0",
         "1567.0",
         "1562.0",
         "4.0"
        ],
        [
         "75%",
         "1.48668e+17",
         "1.48668e+17",
         "79.0",
         "1793.0",
         "1784.0",
         "6.0"
        ],
        [
         "max",
         "1.50447e+17",
         "1.50447e+17",
         "349.0",
         "2700.0",
         "2723.0",
         "28.0"
        ]
       ],
       "shape": {
        "columns": 6,
        "rows": 8
       }
      },
      "text/html": [
       "<div>\n",
       "<style scoped>\n",
       "    .dataframe tbody tr th:only-of-type {\n",
       "        vertical-align: middle;\n",
       "    }\n",
       "\n",
       "    .dataframe tbody tr th {\n",
       "        vertical-align: top;\n",
       "    }\n",
       "\n",
       "    .dataframe thead th {\n",
       "        text-align: right;\n",
       "    }\n",
       "</style>\n",
       "<table border=\"1\" class=\"dataframe\">\n",
       "  <thead>\n",
       "    <tr style=\"text-align: right;\">\n",
       "      <th></th>\n",
       "      <th>created_at</th>\n",
       "      <th>last_move_at</th>\n",
       "      <th>turns</th>\n",
       "      <th>white_rating</th>\n",
       "      <th>black_rating</th>\n",
       "      <th>opening_ply</th>\n",
       "    </tr>\n",
       "  </thead>\n",
       "  <tbody>\n",
       "    <tr>\n",
       "      <th>count</th>\n",
       "      <td>2.005800e+04</td>\n",
       "      <td>2.005800e+04</td>\n",
       "      <td>20058.000000</td>\n",
       "      <td>20058.000000</td>\n",
       "      <td>20058.000000</td>\n",
       "      <td>20058.000000</td>\n",
       "    </tr>\n",
       "    <tr>\n",
       "      <th>mean</th>\n",
       "      <td>6.321335e+16</td>\n",
       "      <td>6.313080e+16</td>\n",
       "      <td>60.465999</td>\n",
       "      <td>1596.631868</td>\n",
       "      <td>1588.831987</td>\n",
       "      <td>4.816981</td>\n",
       "    </tr>\n",
       "    <tr>\n",
       "      <th>std</th>\n",
       "      <td>7.292307e+16</td>\n",
       "      <td>7.290633e+16</td>\n",
       "      <td>33.570585</td>\n",
       "      <td>291.253376</td>\n",
       "      <td>291.036126</td>\n",
       "      <td>2.797152</td>\n",
       "    </tr>\n",
       "    <tr>\n",
       "      <th>min</th>\n",
       "      <td>1.376772e+12</td>\n",
       "      <td>1.376772e+12</td>\n",
       "      <td>1.000000</td>\n",
       "      <td>784.000000</td>\n",
       "      <td>789.000000</td>\n",
       "      <td>1.000000</td>\n",
       "    </tr>\n",
       "    <tr>\n",
       "      <th>25%</th>\n",
       "      <td>1.498313e+12</td>\n",
       "      <td>1.498315e+12</td>\n",
       "      <td>37.000000</td>\n",
       "      <td>1398.000000</td>\n",
       "      <td>1391.000000</td>\n",
       "      <td>3.000000</td>\n",
       "    </tr>\n",
       "    <tr>\n",
       "      <th>50%</th>\n",
       "      <td>1.504366e+12</td>\n",
       "      <td>1.504367e+12</td>\n",
       "      <td>55.000000</td>\n",
       "      <td>1567.000000</td>\n",
       "      <td>1562.000000</td>\n",
       "      <td>4.000000</td>\n",
       "    </tr>\n",
       "    <tr>\n",
       "      <th>75%</th>\n",
       "      <td>1.486680e+17</td>\n",
       "      <td>1.486680e+17</td>\n",
       "      <td>79.000000</td>\n",
       "      <td>1793.000000</td>\n",
       "      <td>1784.000000</td>\n",
       "      <td>6.000000</td>\n",
       "    </tr>\n",
       "    <tr>\n",
       "      <th>max</th>\n",
       "      <td>1.504470e+17</td>\n",
       "      <td>1.504470e+17</td>\n",
       "      <td>349.000000</td>\n",
       "      <td>2700.000000</td>\n",
       "      <td>2723.000000</td>\n",
       "      <td>28.000000</td>\n",
       "    </tr>\n",
       "  </tbody>\n",
       "</table>\n",
       "</div>"
      ],
      "text/plain": [
       "         created_at  last_move_at         turns  white_rating  black_rating  \\\n",
       "count  2.005800e+04  2.005800e+04  20058.000000  20058.000000  20058.000000   \n",
       "mean   6.321335e+16  6.313080e+16     60.465999   1596.631868   1588.831987   \n",
       "std    7.292307e+16  7.290633e+16     33.570585    291.253376    291.036126   \n",
       "min    1.376772e+12  1.376772e+12      1.000000    784.000000    789.000000   \n",
       "25%    1.498313e+12  1.498315e+12     37.000000   1398.000000   1391.000000   \n",
       "50%    1.504366e+12  1.504367e+12     55.000000   1567.000000   1562.000000   \n",
       "75%    1.486680e+17  1.486680e+17     79.000000   1793.000000   1784.000000   \n",
       "max    1.504470e+17  1.504470e+17    349.000000   2700.000000   2723.000000   \n",
       "\n",
       "        opening_ply  \n",
       "count  20058.000000  \n",
       "mean       4.816981  \n",
       "std        2.797152  \n",
       "min        1.000000  \n",
       "25%        3.000000  \n",
       "50%        4.000000  \n",
       "75%        6.000000  \n",
       "max       28.000000  "
      ]
     },
     "execution_count": 28,
     "metadata": {},
     "output_type": "execute_result"
    }
   ],
   "source": [
    "# Fazer uma estatistica descritiva dos dados \n",
    "df_excel.describe()"
   ]
  },
  {
   "cell_type": "code",
   "execution_count": 30,
   "id": "6efc84d0",
   "metadata": {},
   "outputs": [
    {
     "data": {
      "application/vnd.microsoft.datawrangler.viewer.v0+json": {
       "columns": [
        {
         "name": "index",
         "rawType": "object",
         "type": "string"
        },
        {
         "name": "count",
         "rawType": "float64",
         "type": "float"
        },
        {
         "name": "mean",
         "rawType": "float64",
         "type": "float"
        },
        {
         "name": "std",
         "rawType": "float64",
         "type": "float"
        },
        {
         "name": "min",
         "rawType": "float64",
         "type": "float"
        },
        {
         "name": "25%",
         "rawType": "float64",
         "type": "float"
        },
        {
         "name": "50%",
         "rawType": "float64",
         "type": "float"
        },
        {
         "name": "75%",
         "rawType": "float64",
         "type": "float"
        },
        {
         "name": "max",
         "rawType": "float64",
         "type": "float"
        }
       ],
       "ref": "552a1d79-7ad8-4cb8-a26f-314d09c65dc0",
       "rows": [
        [
         "created_at",
         "20058.0",
         "6.321334876576528e+16",
         "7.292307304520035e+16",
         "1376771633173.0",
         "1498312954296.5",
         "1504365952766.0",
         "1.48668e+17",
         "1.50447e+17"
        ],
        [
         "last_move_at",
         "20058.0",
         "6.31308017525967e+16",
         "7.290633169445621e+16",
         "1376771863841.0",
         "1498315014541.25",
         "1504366755318.5",
         "1.48668e+17",
         "1.50447e+17"
        ],
        [
         "turns",
         "20058.0",
         "60.46599860404826",
         "33.570584753537055",
         "1.0",
         "37.0",
         "55.0",
         "79.0",
         "349.0"
        ],
        [
         "white_rating",
         "20058.0",
         "1596.6318675840064",
         "291.25337573701944",
         "784.0",
         "1398.0",
         "1567.0",
         "1793.0",
         "2700.0"
        ],
        [
         "black_rating",
         "20058.0",
         "1588.8319872370128",
         "291.03612596033696",
         "789.0",
         "1391.0",
         "1562.0",
         "1784.0",
         "2723.0"
        ],
        [
         "opening_ply",
         "20058.0",
         "4.8169807558081565",
         "2.797151810630167",
         "1.0",
         "3.0",
         "4.0",
         "6.0",
         "28.0"
        ]
       ],
       "shape": {
        "columns": 8,
        "rows": 6
       }
      },
      "text/html": [
       "<div>\n",
       "<style scoped>\n",
       "    .dataframe tbody tr th:only-of-type {\n",
       "        vertical-align: middle;\n",
       "    }\n",
       "\n",
       "    .dataframe tbody tr th {\n",
       "        vertical-align: top;\n",
       "    }\n",
       "\n",
       "    .dataframe thead th {\n",
       "        text-align: right;\n",
       "    }\n",
       "</style>\n",
       "<table border=\"1\" class=\"dataframe\">\n",
       "  <thead>\n",
       "    <tr style=\"text-align: right;\">\n",
       "      <th></th>\n",
       "      <th>count</th>\n",
       "      <th>mean</th>\n",
       "      <th>std</th>\n",
       "      <th>min</th>\n",
       "      <th>25%</th>\n",
       "      <th>50%</th>\n",
       "      <th>75%</th>\n",
       "      <th>max</th>\n",
       "    </tr>\n",
       "  </thead>\n",
       "  <tbody>\n",
       "    <tr>\n",
       "      <th>created_at</th>\n",
       "      <td>20058.0</td>\n",
       "      <td>6.321335e+16</td>\n",
       "      <td>7.292307e+16</td>\n",
       "      <td>1.376772e+12</td>\n",
       "      <td>1.498313e+12</td>\n",
       "      <td>1.504366e+12</td>\n",
       "      <td>1.486680e+17</td>\n",
       "      <td>1.504470e+17</td>\n",
       "    </tr>\n",
       "    <tr>\n",
       "      <th>last_move_at</th>\n",
       "      <td>20058.0</td>\n",
       "      <td>6.313080e+16</td>\n",
       "      <td>7.290633e+16</td>\n",
       "      <td>1.376772e+12</td>\n",
       "      <td>1.498315e+12</td>\n",
       "      <td>1.504367e+12</td>\n",
       "      <td>1.486680e+17</td>\n",
       "      <td>1.504470e+17</td>\n",
       "    </tr>\n",
       "    <tr>\n",
       "      <th>turns</th>\n",
       "      <td>20058.0</td>\n",
       "      <td>6.046600e+01</td>\n",
       "      <td>3.357058e+01</td>\n",
       "      <td>1.000000e+00</td>\n",
       "      <td>3.700000e+01</td>\n",
       "      <td>5.500000e+01</td>\n",
       "      <td>7.900000e+01</td>\n",
       "      <td>3.490000e+02</td>\n",
       "    </tr>\n",
       "    <tr>\n",
       "      <th>white_rating</th>\n",
       "      <td>20058.0</td>\n",
       "      <td>1.596632e+03</td>\n",
       "      <td>2.912534e+02</td>\n",
       "      <td>7.840000e+02</td>\n",
       "      <td>1.398000e+03</td>\n",
       "      <td>1.567000e+03</td>\n",
       "      <td>1.793000e+03</td>\n",
       "      <td>2.700000e+03</td>\n",
       "    </tr>\n",
       "    <tr>\n",
       "      <th>black_rating</th>\n",
       "      <td>20058.0</td>\n",
       "      <td>1.588832e+03</td>\n",
       "      <td>2.910361e+02</td>\n",
       "      <td>7.890000e+02</td>\n",
       "      <td>1.391000e+03</td>\n",
       "      <td>1.562000e+03</td>\n",
       "      <td>1.784000e+03</td>\n",
       "      <td>2.723000e+03</td>\n",
       "    </tr>\n",
       "    <tr>\n",
       "      <th>opening_ply</th>\n",
       "      <td>20058.0</td>\n",
       "      <td>4.816981e+00</td>\n",
       "      <td>2.797152e+00</td>\n",
       "      <td>1.000000e+00</td>\n",
       "      <td>3.000000e+00</td>\n",
       "      <td>4.000000e+00</td>\n",
       "      <td>6.000000e+00</td>\n",
       "      <td>2.800000e+01</td>\n",
       "    </tr>\n",
       "  </tbody>\n",
       "</table>\n",
       "</div>"
      ],
      "text/plain": [
       "                count          mean           std           min           25%  \\\n",
       "created_at    20058.0  6.321335e+16  7.292307e+16  1.376772e+12  1.498313e+12   \n",
       "last_move_at  20058.0  6.313080e+16  7.290633e+16  1.376772e+12  1.498315e+12   \n",
       "turns         20058.0  6.046600e+01  3.357058e+01  1.000000e+00  3.700000e+01   \n",
       "white_rating  20058.0  1.596632e+03  2.912534e+02  7.840000e+02  1.398000e+03   \n",
       "black_rating  20058.0  1.588832e+03  2.910361e+02  7.890000e+02  1.391000e+03   \n",
       "opening_ply   20058.0  4.816981e+00  2.797152e+00  1.000000e+00  3.000000e+00   \n",
       "\n",
       "                       50%           75%           max  \n",
       "created_at    1.504366e+12  1.486680e+17  1.504470e+17  \n",
       "last_move_at  1.504367e+12  1.486680e+17  1.504470e+17  \n",
       "turns         5.500000e+01  7.900000e+01  3.490000e+02  \n",
       "white_rating  1.567000e+03  1.793000e+03  2.700000e+03  \n",
       "black_rating  1.562000e+03  1.784000e+03  2.723000e+03  \n",
       "opening_ply   4.000000e+00  6.000000e+00  2.800000e+01  "
      ]
     },
     "execution_count": 30,
     "metadata": {},
     "output_type": "execute_result"
    }
   ],
   "source": [
    "# Fazer uma estatistica descritiva dos dados de forma transposta\n",
    "df_excel.describe().T"
   ]
  },
  {
   "cell_type": "code",
   "execution_count": 32,
   "id": "b29836ca",
   "metadata": {},
   "outputs": [
    {
     "data": {
      "text/plain": [
       "{'draw', 'mate', 'outoftime', 'resign'}"
      ]
     },
     "execution_count": 32,
     "metadata": {},
     "output_type": "execute_result"
    }
   ],
   "source": [
    "# Variações de informações de uma coluna - ± igual ao distinct do SQL\n",
    "set(df_excel[\"victory_status\"])"
   ]
  }
 ],
 "metadata": {
  "kernelspec": {
   "display_name": "base",
   "language": "python",
   "name": "python3"
  },
  "language_info": {
   "codemirror_mode": {
    "name": "ipython",
    "version": 3
   },
   "file_extension": ".py",
   "mimetype": "text/x-python",
   "name": "python",
   "nbconvert_exporter": "python",
   "pygments_lexer": "ipython3",
   "version": "3.12.7"
  }
 },
 "nbformat": 4,
 "nbformat_minor": 5
}
