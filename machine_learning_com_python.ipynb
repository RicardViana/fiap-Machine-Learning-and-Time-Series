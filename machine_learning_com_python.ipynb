{
 "cells": [
  {
   "cell_type": "markdown",
   "id": "9b58e9e5",
   "metadata": {},
   "source": [
    "#### Fase 2 | Aula 1 - Machine Learning com Python"
   ]
  },
  {
   "cell_type": "markdown",
   "id": "4fde4324",
   "metadata": {},
   "source": [
    "##### Links do material conteudo\n",
    "**Tomato**  \n",
    "https://github.com/FIAP/Pos_Tech_DTAT/blob/61a634996879d5c1384af6f567e29659ad68b727/Aula%2002/Base%20de%20Dados/Tomato.csv\n",
    "\n",
    "**Chess**  \n",
    "https://github.com/FIAP/Pos_Tech_DTAT/blob/61a634996879d5c1384af6f567e29659ad68b727/Aula%2002/Base%20de%20Dados/Chess.xlsx"
   ]
  },
  {
   "cell_type": "markdown",
   "id": "aa0795db",
   "metadata": {},
   "source": [
    "##### Importação de pacotes, bibliotecas e funções (def)"
   ]
  },
  {
   "cell_type": "code",
   "execution_count": 184,
   "id": "c4429920",
   "metadata": {},
   "outputs": [],
   "source": [
    "# Importar biblioteca completa\n",
    "import pandas as pd \n",
    "import numpy as np\n",
    "import matplotlib.pyplot as plt\n",
    "import timeit\n",
    "\n",
    "# Importar função especifica de um módulo"
   ]
  },
  {
   "cell_type": "code",
   "execution_count": 185,
   "id": "d3a1365a",
   "metadata": {},
   "outputs": [],
   "source": [
    "#Função para categorizar os tomates \n",
    "\n",
    "def categorizar_tomate_media(media):\n",
    "    if media >= 40 and media <= 70:\n",
    "        return \"tomate_medio\"\n",
    "    elif media <40:\n",
    "        return \"tomate_pequeno\"\n",
    "    else:\n",
    "        return \"tomate_grande\""
   ]
  },
  {
   "cell_type": "code",
   "execution_count": 186,
   "id": "a76df10d",
   "metadata": {},
   "outputs": [],
   "source": [
    "#Função para categorizar os tomates usando numpy \n",
    "\n",
    "def categorizar_tomate_media_np(df: pd.DataFrame, coluna: str, nova_coluna: str):\n",
    "\n",
    "    # Condições\n",
    "    condicoes = [\n",
    "        (df[coluna] >= 40) & (df[coluna] <= 70),\n",
    "        (df[coluna] < 40),\n",
    "        (df[coluna] >70)\n",
    "    ]\n",
    "\n",
    "    # Valores associados às condições\n",
    "    tipos = [\n",
    "        \"tomate_medio\",\n",
    "        \"tomate_pequeno\",\n",
    "        \"tomate_grande\"\n",
    "    ]\n",
    "\n",
    "    df[nova_coluna] = np.select(condicoes, tipos, default=\"Não definido\")"
   ]
  },
  {
   "cell_type": "markdown",
   "id": "cc3f9d89",
   "metadata": {},
   "source": [
    "##### Aula 1 - Bibliotecas Fundamentais e Primeiros Passos em ML"
   ]
  },
  {
   "cell_type": "code",
   "execution_count": 187,
   "id": "afa41fb2",
   "metadata": {},
   "outputs": [],
   "source": [
    "# Usando a engine calamine devido a sua melhor performace se comparada com o openpyxl\n",
    "df_excel = pd.read_excel(\"https://github.com/FIAP/Pos_Tech_DTAT/raw/61a634996879d5c1384af6f567e29659ad68b727/Aula%2002/Base%20de%20Dados/Chess.xlsx\",sheet_name=\"Chess\", engine= \"calamine\")"
   ]
  },
  {
   "cell_type": "code",
   "execution_count": 188,
   "id": "498d2264",
   "metadata": {},
   "outputs": [],
   "source": [
    "df_csv = pd.read_csv(\"https://raw.githubusercontent.com/FIAP/Pos_Tech_DTAT/61a634996879d5c1384af6f567e29659ad68b727/Aula%2002/Base%20de%20Dados/Tomato.csv\", sep= \",\")"
   ]
  },
  {
   "cell_type": "code",
   "execution_count": 189,
   "id": "b835b5d8",
   "metadata": {},
   "outputs": [
    {
     "data": {
      "application/vnd.microsoft.datawrangler.viewer.v0+json": {
       "columns": [
        {
         "name": "index",
         "rawType": "int64",
         "type": "integer"
        },
        {
         "name": "rated",
         "rawType": "bool",
         "type": "boolean"
        },
        {
         "name": "created_at",
         "rawType": "float64",
         "type": "float"
        },
        {
         "name": "last_move_at",
         "rawType": "float64",
         "type": "float"
        },
        {
         "name": "turns",
         "rawType": "int64",
         "type": "integer"
        },
        {
         "name": "victory_status",
         "rawType": "object",
         "type": "string"
        },
        {
         "name": "winner",
         "rawType": "object",
         "type": "string"
        },
        {
         "name": "increment_code",
         "rawType": "object",
         "type": "string"
        },
        {
         "name": "white_id",
         "rawType": "object",
         "type": "string"
        },
        {
         "name": "white_rating",
         "rawType": "int64",
         "type": "integer"
        },
        {
         "name": "black_id",
         "rawType": "object",
         "type": "string"
        },
        {
         "name": "black_rating",
         "rawType": "int64",
         "type": "integer"
        },
        {
         "name": "opening_eco",
         "rawType": "object",
         "type": "string"
        },
        {
         "name": "opening_name",
         "rawType": "object",
         "type": "string"
        },
        {
         "name": "opening_ply",
         "rawType": "int64",
         "type": "integer"
        }
       ],
       "ref": "9cb57837-dd89-436c-9e3b-3ff3e9df52ab",
       "rows": [
        [
         "0",
         "False",
         "1.50421e+17",
         "1.50421e+17",
         "13",
         "outoftime",
         "white",
         "15+2",
         "bourgris",
         "1500",
         "a-00",
         "1191",
         "D10",
         "Slav Defense: Exchange Variation",
         "5"
        ],
        [
         "1",
         "True",
         "1.50413e+17",
         "1.50413e+17",
         "16",
         "resign",
         "black",
         "5+10",
         "a-00",
         "1322",
         "skinnerua",
         "1261",
         "B00",
         "Nimzowitsch Defense: Kennedy Variation",
         "4"
        ],
        [
         "2",
         "True",
         "1.50413e+17",
         "1.50413e+17",
         "61",
         "mate",
         "white",
         "5+10",
         "ischia",
         "1496",
         "a-00",
         "1500",
         "C20",
         "King's Pawn Game: Leonardis Variation",
         "3"
        ],
        [
         "3",
         "True",
         "1.50411e+17",
         "1.50411e+17",
         "61",
         "mate",
         "white",
         "20+0",
         "daniamurashov",
         "1439",
         "adivanov2009",
         "1454",
         "D02",
         "Queen's Pawn Game: Zukertort Variation",
         "3"
        ],
        [
         "4",
         "True",
         "1.50403e+17",
         "1.50403e+17",
         "95",
         "mate",
         "white",
         "30+3",
         "nik221107",
         "1523",
         "adivanov2009",
         "1469",
         "C41",
         "Philidor Defense",
         "5"
        ]
       ],
       "shape": {
        "columns": 14,
        "rows": 5
       }
      },
      "text/html": [
       "<div>\n",
       "<style scoped>\n",
       "    .dataframe tbody tr th:only-of-type {\n",
       "        vertical-align: middle;\n",
       "    }\n",
       "\n",
       "    .dataframe tbody tr th {\n",
       "        vertical-align: top;\n",
       "    }\n",
       "\n",
       "    .dataframe thead th {\n",
       "        text-align: right;\n",
       "    }\n",
       "</style>\n",
       "<table border=\"1\" class=\"dataframe\">\n",
       "  <thead>\n",
       "    <tr style=\"text-align: right;\">\n",
       "      <th></th>\n",
       "      <th>rated</th>\n",
       "      <th>created_at</th>\n",
       "      <th>last_move_at</th>\n",
       "      <th>turns</th>\n",
       "      <th>victory_status</th>\n",
       "      <th>winner</th>\n",
       "      <th>increment_code</th>\n",
       "      <th>white_id</th>\n",
       "      <th>white_rating</th>\n",
       "      <th>black_id</th>\n",
       "      <th>black_rating</th>\n",
       "      <th>opening_eco</th>\n",
       "      <th>opening_name</th>\n",
       "      <th>opening_ply</th>\n",
       "    </tr>\n",
       "  </thead>\n",
       "  <tbody>\n",
       "    <tr>\n",
       "      <th>0</th>\n",
       "      <td>False</td>\n",
       "      <td>1.504210e+17</td>\n",
       "      <td>1.504210e+17</td>\n",
       "      <td>13</td>\n",
       "      <td>outoftime</td>\n",
       "      <td>white</td>\n",
       "      <td>15+2</td>\n",
       "      <td>bourgris</td>\n",
       "      <td>1500</td>\n",
       "      <td>a-00</td>\n",
       "      <td>1191</td>\n",
       "      <td>D10</td>\n",
       "      <td>Slav Defense: Exchange Variation</td>\n",
       "      <td>5</td>\n",
       "    </tr>\n",
       "    <tr>\n",
       "      <th>1</th>\n",
       "      <td>True</td>\n",
       "      <td>1.504130e+17</td>\n",
       "      <td>1.504130e+17</td>\n",
       "      <td>16</td>\n",
       "      <td>resign</td>\n",
       "      <td>black</td>\n",
       "      <td>5+10</td>\n",
       "      <td>a-00</td>\n",
       "      <td>1322</td>\n",
       "      <td>skinnerua</td>\n",
       "      <td>1261</td>\n",
       "      <td>B00</td>\n",
       "      <td>Nimzowitsch Defense: Kennedy Variation</td>\n",
       "      <td>4</td>\n",
       "    </tr>\n",
       "    <tr>\n",
       "      <th>2</th>\n",
       "      <td>True</td>\n",
       "      <td>1.504130e+17</td>\n",
       "      <td>1.504130e+17</td>\n",
       "      <td>61</td>\n",
       "      <td>mate</td>\n",
       "      <td>white</td>\n",
       "      <td>5+10</td>\n",
       "      <td>ischia</td>\n",
       "      <td>1496</td>\n",
       "      <td>a-00</td>\n",
       "      <td>1500</td>\n",
       "      <td>C20</td>\n",
       "      <td>King's Pawn Game: Leonardis Variation</td>\n",
       "      <td>3</td>\n",
       "    </tr>\n",
       "    <tr>\n",
       "      <th>3</th>\n",
       "      <td>True</td>\n",
       "      <td>1.504110e+17</td>\n",
       "      <td>1.504110e+17</td>\n",
       "      <td>61</td>\n",
       "      <td>mate</td>\n",
       "      <td>white</td>\n",
       "      <td>20+0</td>\n",
       "      <td>daniamurashov</td>\n",
       "      <td>1439</td>\n",
       "      <td>adivanov2009</td>\n",
       "      <td>1454</td>\n",
       "      <td>D02</td>\n",
       "      <td>Queen's Pawn Game: Zukertort Variation</td>\n",
       "      <td>3</td>\n",
       "    </tr>\n",
       "    <tr>\n",
       "      <th>4</th>\n",
       "      <td>True</td>\n",
       "      <td>1.504030e+17</td>\n",
       "      <td>1.504030e+17</td>\n",
       "      <td>95</td>\n",
       "      <td>mate</td>\n",
       "      <td>white</td>\n",
       "      <td>30+3</td>\n",
       "      <td>nik221107</td>\n",
       "      <td>1523</td>\n",
       "      <td>adivanov2009</td>\n",
       "      <td>1469</td>\n",
       "      <td>C41</td>\n",
       "      <td>Philidor Defense</td>\n",
       "      <td>5</td>\n",
       "    </tr>\n",
       "  </tbody>\n",
       "</table>\n",
       "</div>"
      ],
      "text/plain": [
       "   rated    created_at  last_move_at  turns victory_status winner  \\\n",
       "0  False  1.504210e+17  1.504210e+17     13      outoftime  white   \n",
       "1   True  1.504130e+17  1.504130e+17     16         resign  black   \n",
       "2   True  1.504130e+17  1.504130e+17     61           mate  white   \n",
       "3   True  1.504110e+17  1.504110e+17     61           mate  white   \n",
       "4   True  1.504030e+17  1.504030e+17     95           mate  white   \n",
       "\n",
       "  increment_code       white_id  white_rating      black_id  black_rating  \\\n",
       "0           15+2       bourgris          1500          a-00          1191   \n",
       "1           5+10           a-00          1322     skinnerua          1261   \n",
       "2           5+10         ischia          1496          a-00          1500   \n",
       "3           20+0  daniamurashov          1439  adivanov2009          1454   \n",
       "4           30+3      nik221107          1523  adivanov2009          1469   \n",
       "\n",
       "  opening_eco                            opening_name  opening_ply  \n",
       "0         D10        Slav Defense: Exchange Variation            5  \n",
       "1         B00  Nimzowitsch Defense: Kennedy Variation            4  \n",
       "2         C20   King's Pawn Game: Leonardis Variation            3  \n",
       "3         D02  Queen's Pawn Game: Zukertort Variation            3  \n",
       "4         C41                        Philidor Defense            5  "
      ]
     },
     "execution_count": 189,
     "metadata": {},
     "output_type": "execute_result"
    }
   ],
   "source": [
    "df_excel.head()"
   ]
  },
  {
   "cell_type": "code",
   "execution_count": 190,
   "id": "7dff91e2",
   "metadata": {},
   "outputs": [
    {
     "data": {
      "application/vnd.microsoft.datawrangler.viewer.v0+json": {
       "columns": [
        {
         "name": "index",
         "rawType": "int64",
         "type": "integer"
        },
        {
         "name": "Date",
         "rawType": "object",
         "type": "string"
        },
        {
         "name": "Unit",
         "rawType": "object",
         "type": "string"
        },
        {
         "name": "Minimum",
         "rawType": "int64",
         "type": "integer"
        },
        {
         "name": "Maximum",
         "rawType": "int64",
         "type": "integer"
        },
        {
         "name": "Average",
         "rawType": "float64",
         "type": "float"
        },
        {
         "name": "Market",
         "rawType": "object",
         "type": "string"
        }
       ],
       "ref": "32a4040c-a691-4e20-9da9-faa8ce18c0ed",
       "rows": [
        [
         "2736",
         "2021-05-09",
         "Kg",
         "10",
         "15",
         "12.5",
         "Tomato"
        ],
        [
         "2737",
         "2021-05-10",
         "Kg",
         "10",
         "15",
         "12.5",
         "Tomato"
        ],
        [
         "2738",
         "2021-05-11",
         "Kg",
         "10",
         "15",
         "12.5",
         "Tomato"
        ],
        [
         "2739",
         "2021-05-12",
         "Kg",
         "30",
         "35",
         "32.5",
         "Tomato"
        ],
        [
         "2740",
         "2021-05-13",
         "Kg",
         "35",
         "40",
         "37.5",
         "Tomato"
        ]
       ],
       "shape": {
        "columns": 6,
        "rows": 5
       }
      },
      "text/html": [
       "<div>\n",
       "<style scoped>\n",
       "    .dataframe tbody tr th:only-of-type {\n",
       "        vertical-align: middle;\n",
       "    }\n",
       "\n",
       "    .dataframe tbody tr th {\n",
       "        vertical-align: top;\n",
       "    }\n",
       "\n",
       "    .dataframe thead th {\n",
       "        text-align: right;\n",
       "    }\n",
       "</style>\n",
       "<table border=\"1\" class=\"dataframe\">\n",
       "  <thead>\n",
       "    <tr style=\"text-align: right;\">\n",
       "      <th></th>\n",
       "      <th>Date</th>\n",
       "      <th>Unit</th>\n",
       "      <th>Minimum</th>\n",
       "      <th>Maximum</th>\n",
       "      <th>Average</th>\n",
       "      <th>Market</th>\n",
       "    </tr>\n",
       "  </thead>\n",
       "  <tbody>\n",
       "    <tr>\n",
       "      <th>2736</th>\n",
       "      <td>2021-05-09</td>\n",
       "      <td>Kg</td>\n",
       "      <td>10</td>\n",
       "      <td>15</td>\n",
       "      <td>12.5</td>\n",
       "      <td>Tomato</td>\n",
       "    </tr>\n",
       "    <tr>\n",
       "      <th>2737</th>\n",
       "      <td>2021-05-10</td>\n",
       "      <td>Kg</td>\n",
       "      <td>10</td>\n",
       "      <td>15</td>\n",
       "      <td>12.5</td>\n",
       "      <td>Tomato</td>\n",
       "    </tr>\n",
       "    <tr>\n",
       "      <th>2738</th>\n",
       "      <td>2021-05-11</td>\n",
       "      <td>Kg</td>\n",
       "      <td>10</td>\n",
       "      <td>15</td>\n",
       "      <td>12.5</td>\n",
       "      <td>Tomato</td>\n",
       "    </tr>\n",
       "    <tr>\n",
       "      <th>2739</th>\n",
       "      <td>2021-05-12</td>\n",
       "      <td>Kg</td>\n",
       "      <td>30</td>\n",
       "      <td>35</td>\n",
       "      <td>32.5</td>\n",
       "      <td>Tomato</td>\n",
       "    </tr>\n",
       "    <tr>\n",
       "      <th>2740</th>\n",
       "      <td>2021-05-13</td>\n",
       "      <td>Kg</td>\n",
       "      <td>35</td>\n",
       "      <td>40</td>\n",
       "      <td>37.5</td>\n",
       "      <td>Tomato</td>\n",
       "    </tr>\n",
       "  </tbody>\n",
       "</table>\n",
       "</div>"
      ],
      "text/plain": [
       "            Date Unit  Minimum  Maximum  Average  Market\n",
       "2736  2021-05-09   Kg       10       15     12.5  Tomato\n",
       "2737  2021-05-10   Kg       10       15     12.5  Tomato\n",
       "2738  2021-05-11   Kg       10       15     12.5  Tomato\n",
       "2739  2021-05-12   Kg       30       35     32.5  Tomato\n",
       "2740  2021-05-13   Kg       35       40     37.5  Tomato"
      ]
     },
     "execution_count": 190,
     "metadata": {},
     "output_type": "execute_result"
    }
   ],
   "source": [
    "df_csv.tail()"
   ]
  },
  {
   "cell_type": "code",
   "execution_count": 191,
   "id": "1e608e58",
   "metadata": {},
   "outputs": [
    {
     "data": {
      "text/plain": [
       "(2741, 6)"
      ]
     },
     "execution_count": 191,
     "metadata": {},
     "output_type": "execute_result"
    }
   ],
   "source": [
    "# Forma resumida do total de linhas e colunas do data frame \n",
    "df_csv.shape"
   ]
  },
  {
   "cell_type": "code",
   "execution_count": 192,
   "id": "25d9ea8a",
   "metadata": {},
   "outputs": [
    {
     "name": "stdout",
     "output_type": "stream",
     "text": [
      "<class 'pandas.core.frame.DataFrame'>\n",
      "RangeIndex: 20058 entries, 0 to 20057\n",
      "Data columns (total 14 columns):\n",
      " #   Column          Non-Null Count  Dtype  \n",
      "---  ------          --------------  -----  \n",
      " 0   rated           20058 non-null  bool   \n",
      " 1   created_at      20058 non-null  float64\n",
      " 2   last_move_at    20058 non-null  float64\n",
      " 3   turns           20058 non-null  int64  \n",
      " 4   victory_status  20058 non-null  object \n",
      " 5   winner          20058 non-null  object \n",
      " 6   increment_code  20058 non-null  object \n",
      " 7   white_id        20058 non-null  object \n",
      " 8   white_rating    20058 non-null  int64  \n",
      " 9   black_id        20058 non-null  object \n",
      " 10  black_rating    20058 non-null  int64  \n",
      " 11  opening_eco     20058 non-null  object \n",
      " 12  opening_name    20058 non-null  object \n",
      " 13  opening_ply     20058 non-null  int64  \n",
      "dtypes: bool(1), float64(2), int64(4), object(7)\n",
      "memory usage: 2.0+ MB\n"
     ]
    }
   ],
   "source": [
    "# Resumo da base de dados com mais informações\n",
    "df_excel.info()"
   ]
  },
  {
   "cell_type": "code",
   "execution_count": 193,
   "id": "7a1d8605",
   "metadata": {},
   "outputs": [
    {
     "data": {
      "application/vnd.microsoft.datawrangler.viewer.v0+json": {
       "columns": [
        {
         "name": "index",
         "rawType": "object",
         "type": "string"
        },
        {
         "name": "created_at",
         "rawType": "float64",
         "type": "float"
        },
        {
         "name": "last_move_at",
         "rawType": "float64",
         "type": "float"
        },
        {
         "name": "turns",
         "rawType": "float64",
         "type": "float"
        },
        {
         "name": "white_rating",
         "rawType": "float64",
         "type": "float"
        },
        {
         "name": "black_rating",
         "rawType": "float64",
         "type": "float"
        },
        {
         "name": "opening_ply",
         "rawType": "float64",
         "type": "float"
        }
       ],
       "ref": "14837fd7-f498-49a3-859d-6ed8677e3f93",
       "rows": [
        [
         "count",
         "20058.0",
         "20058.0",
         "20058.0",
         "20058.0",
         "20058.0",
         "20058.0"
        ],
        [
         "mean",
         "6.321334876576528e+16",
         "6.31308017525967e+16",
         "60.46599860404826",
         "1596.6318675840064",
         "1588.8319872370128",
         "4.8169807558081565"
        ],
        [
         "std",
         "7.292307304520035e+16",
         "7.290633169445621e+16",
         "33.570584753537055",
         "291.25337573701944",
         "291.03612596033696",
         "2.797151810630167"
        ],
        [
         "min",
         "1376771633173.0",
         "1376771863841.0",
         "1.0",
         "784.0",
         "789.0",
         "1.0"
        ],
        [
         "25%",
         "1498312954296.5",
         "1498315014541.25",
         "37.0",
         "1398.0",
         "1391.0",
         "3.0"
        ],
        [
         "50%",
         "1504365952766.0",
         "1504366755318.5",
         "55.0",
         "1567.0",
         "1562.0",
         "4.0"
        ],
        [
         "75%",
         "1.48668e+17",
         "1.48668e+17",
         "79.0",
         "1793.0",
         "1784.0",
         "6.0"
        ],
        [
         "max",
         "1.50447e+17",
         "1.50447e+17",
         "349.0",
         "2700.0",
         "2723.0",
         "28.0"
        ]
       ],
       "shape": {
        "columns": 6,
        "rows": 8
       }
      },
      "text/html": [
       "<div>\n",
       "<style scoped>\n",
       "    .dataframe tbody tr th:only-of-type {\n",
       "        vertical-align: middle;\n",
       "    }\n",
       "\n",
       "    .dataframe tbody tr th {\n",
       "        vertical-align: top;\n",
       "    }\n",
       "\n",
       "    .dataframe thead th {\n",
       "        text-align: right;\n",
       "    }\n",
       "</style>\n",
       "<table border=\"1\" class=\"dataframe\">\n",
       "  <thead>\n",
       "    <tr style=\"text-align: right;\">\n",
       "      <th></th>\n",
       "      <th>created_at</th>\n",
       "      <th>last_move_at</th>\n",
       "      <th>turns</th>\n",
       "      <th>white_rating</th>\n",
       "      <th>black_rating</th>\n",
       "      <th>opening_ply</th>\n",
       "    </tr>\n",
       "  </thead>\n",
       "  <tbody>\n",
       "    <tr>\n",
       "      <th>count</th>\n",
       "      <td>2.005800e+04</td>\n",
       "      <td>2.005800e+04</td>\n",
       "      <td>20058.000000</td>\n",
       "      <td>20058.000000</td>\n",
       "      <td>20058.000000</td>\n",
       "      <td>20058.000000</td>\n",
       "    </tr>\n",
       "    <tr>\n",
       "      <th>mean</th>\n",
       "      <td>6.321335e+16</td>\n",
       "      <td>6.313080e+16</td>\n",
       "      <td>60.465999</td>\n",
       "      <td>1596.631868</td>\n",
       "      <td>1588.831987</td>\n",
       "      <td>4.816981</td>\n",
       "    </tr>\n",
       "    <tr>\n",
       "      <th>std</th>\n",
       "      <td>7.292307e+16</td>\n",
       "      <td>7.290633e+16</td>\n",
       "      <td>33.570585</td>\n",
       "      <td>291.253376</td>\n",
       "      <td>291.036126</td>\n",
       "      <td>2.797152</td>\n",
       "    </tr>\n",
       "    <tr>\n",
       "      <th>min</th>\n",
       "      <td>1.376772e+12</td>\n",
       "      <td>1.376772e+12</td>\n",
       "      <td>1.000000</td>\n",
       "      <td>784.000000</td>\n",
       "      <td>789.000000</td>\n",
       "      <td>1.000000</td>\n",
       "    </tr>\n",
       "    <tr>\n",
       "      <th>25%</th>\n",
       "      <td>1.498313e+12</td>\n",
       "      <td>1.498315e+12</td>\n",
       "      <td>37.000000</td>\n",
       "      <td>1398.000000</td>\n",
       "      <td>1391.000000</td>\n",
       "      <td>3.000000</td>\n",
       "    </tr>\n",
       "    <tr>\n",
       "      <th>50%</th>\n",
       "      <td>1.504366e+12</td>\n",
       "      <td>1.504367e+12</td>\n",
       "      <td>55.000000</td>\n",
       "      <td>1567.000000</td>\n",
       "      <td>1562.000000</td>\n",
       "      <td>4.000000</td>\n",
       "    </tr>\n",
       "    <tr>\n",
       "      <th>75%</th>\n",
       "      <td>1.486680e+17</td>\n",
       "      <td>1.486680e+17</td>\n",
       "      <td>79.000000</td>\n",
       "      <td>1793.000000</td>\n",
       "      <td>1784.000000</td>\n",
       "      <td>6.000000</td>\n",
       "    </tr>\n",
       "    <tr>\n",
       "      <th>max</th>\n",
       "      <td>1.504470e+17</td>\n",
       "      <td>1.504470e+17</td>\n",
       "      <td>349.000000</td>\n",
       "      <td>2700.000000</td>\n",
       "      <td>2723.000000</td>\n",
       "      <td>28.000000</td>\n",
       "    </tr>\n",
       "  </tbody>\n",
       "</table>\n",
       "</div>"
      ],
      "text/plain": [
       "         created_at  last_move_at         turns  white_rating  black_rating  \\\n",
       "count  2.005800e+04  2.005800e+04  20058.000000  20058.000000  20058.000000   \n",
       "mean   6.321335e+16  6.313080e+16     60.465999   1596.631868   1588.831987   \n",
       "std    7.292307e+16  7.290633e+16     33.570585    291.253376    291.036126   \n",
       "min    1.376772e+12  1.376772e+12      1.000000    784.000000    789.000000   \n",
       "25%    1.498313e+12  1.498315e+12     37.000000   1398.000000   1391.000000   \n",
       "50%    1.504366e+12  1.504367e+12     55.000000   1567.000000   1562.000000   \n",
       "75%    1.486680e+17  1.486680e+17     79.000000   1793.000000   1784.000000   \n",
       "max    1.504470e+17  1.504470e+17    349.000000   2700.000000   2723.000000   \n",
       "\n",
       "        opening_ply  \n",
       "count  20058.000000  \n",
       "mean       4.816981  \n",
       "std        2.797152  \n",
       "min        1.000000  \n",
       "25%        3.000000  \n",
       "50%        4.000000  \n",
       "75%        6.000000  \n",
       "max       28.000000  "
      ]
     },
     "execution_count": 193,
     "metadata": {},
     "output_type": "execute_result"
    }
   ],
   "source": [
    "# Fazer uma estatistica descritiva dos dados \n",
    "df_excel.describe()"
   ]
  },
  {
   "cell_type": "code",
   "execution_count": 194,
   "id": "6efc84d0",
   "metadata": {},
   "outputs": [
    {
     "data": {
      "application/vnd.microsoft.datawrangler.viewer.v0+json": {
       "columns": [
        {
         "name": "index",
         "rawType": "object",
         "type": "string"
        },
        {
         "name": "count",
         "rawType": "float64",
         "type": "float"
        },
        {
         "name": "mean",
         "rawType": "float64",
         "type": "float"
        },
        {
         "name": "std",
         "rawType": "float64",
         "type": "float"
        },
        {
         "name": "min",
         "rawType": "float64",
         "type": "float"
        },
        {
         "name": "25%",
         "rawType": "float64",
         "type": "float"
        },
        {
         "name": "50%",
         "rawType": "float64",
         "type": "float"
        },
        {
         "name": "75%",
         "rawType": "float64",
         "type": "float"
        },
        {
         "name": "max",
         "rawType": "float64",
         "type": "float"
        }
       ],
       "ref": "bdc58ff1-26c2-450c-8b99-27fadbad8ef9",
       "rows": [
        [
         "created_at",
         "20058.0",
         "6.321334876576528e+16",
         "7.292307304520035e+16",
         "1376771633173.0",
         "1498312954296.5",
         "1504365952766.0",
         "1.48668e+17",
         "1.50447e+17"
        ],
        [
         "last_move_at",
         "20058.0",
         "6.31308017525967e+16",
         "7.290633169445621e+16",
         "1376771863841.0",
         "1498315014541.25",
         "1504366755318.5",
         "1.48668e+17",
         "1.50447e+17"
        ],
        [
         "turns",
         "20058.0",
         "60.46599860404826",
         "33.570584753537055",
         "1.0",
         "37.0",
         "55.0",
         "79.0",
         "349.0"
        ],
        [
         "white_rating",
         "20058.0",
         "1596.6318675840064",
         "291.25337573701944",
         "784.0",
         "1398.0",
         "1567.0",
         "1793.0",
         "2700.0"
        ],
        [
         "black_rating",
         "20058.0",
         "1588.8319872370128",
         "291.03612596033696",
         "789.0",
         "1391.0",
         "1562.0",
         "1784.0",
         "2723.0"
        ],
        [
         "opening_ply",
         "20058.0",
         "4.8169807558081565",
         "2.797151810630167",
         "1.0",
         "3.0",
         "4.0",
         "6.0",
         "28.0"
        ]
       ],
       "shape": {
        "columns": 8,
        "rows": 6
       }
      },
      "text/html": [
       "<div>\n",
       "<style scoped>\n",
       "    .dataframe tbody tr th:only-of-type {\n",
       "        vertical-align: middle;\n",
       "    }\n",
       "\n",
       "    .dataframe tbody tr th {\n",
       "        vertical-align: top;\n",
       "    }\n",
       "\n",
       "    .dataframe thead th {\n",
       "        text-align: right;\n",
       "    }\n",
       "</style>\n",
       "<table border=\"1\" class=\"dataframe\">\n",
       "  <thead>\n",
       "    <tr style=\"text-align: right;\">\n",
       "      <th></th>\n",
       "      <th>count</th>\n",
       "      <th>mean</th>\n",
       "      <th>std</th>\n",
       "      <th>min</th>\n",
       "      <th>25%</th>\n",
       "      <th>50%</th>\n",
       "      <th>75%</th>\n",
       "      <th>max</th>\n",
       "    </tr>\n",
       "  </thead>\n",
       "  <tbody>\n",
       "    <tr>\n",
       "      <th>created_at</th>\n",
       "      <td>20058.0</td>\n",
       "      <td>6.321335e+16</td>\n",
       "      <td>7.292307e+16</td>\n",
       "      <td>1.376772e+12</td>\n",
       "      <td>1.498313e+12</td>\n",
       "      <td>1.504366e+12</td>\n",
       "      <td>1.486680e+17</td>\n",
       "      <td>1.504470e+17</td>\n",
       "    </tr>\n",
       "    <tr>\n",
       "      <th>last_move_at</th>\n",
       "      <td>20058.0</td>\n",
       "      <td>6.313080e+16</td>\n",
       "      <td>7.290633e+16</td>\n",
       "      <td>1.376772e+12</td>\n",
       "      <td>1.498315e+12</td>\n",
       "      <td>1.504367e+12</td>\n",
       "      <td>1.486680e+17</td>\n",
       "      <td>1.504470e+17</td>\n",
       "    </tr>\n",
       "    <tr>\n",
       "      <th>turns</th>\n",
       "      <td>20058.0</td>\n",
       "      <td>6.046600e+01</td>\n",
       "      <td>3.357058e+01</td>\n",
       "      <td>1.000000e+00</td>\n",
       "      <td>3.700000e+01</td>\n",
       "      <td>5.500000e+01</td>\n",
       "      <td>7.900000e+01</td>\n",
       "      <td>3.490000e+02</td>\n",
       "    </tr>\n",
       "    <tr>\n",
       "      <th>white_rating</th>\n",
       "      <td>20058.0</td>\n",
       "      <td>1.596632e+03</td>\n",
       "      <td>2.912534e+02</td>\n",
       "      <td>7.840000e+02</td>\n",
       "      <td>1.398000e+03</td>\n",
       "      <td>1.567000e+03</td>\n",
       "      <td>1.793000e+03</td>\n",
       "      <td>2.700000e+03</td>\n",
       "    </tr>\n",
       "    <tr>\n",
       "      <th>black_rating</th>\n",
       "      <td>20058.0</td>\n",
       "      <td>1.588832e+03</td>\n",
       "      <td>2.910361e+02</td>\n",
       "      <td>7.890000e+02</td>\n",
       "      <td>1.391000e+03</td>\n",
       "      <td>1.562000e+03</td>\n",
       "      <td>1.784000e+03</td>\n",
       "      <td>2.723000e+03</td>\n",
       "    </tr>\n",
       "    <tr>\n",
       "      <th>opening_ply</th>\n",
       "      <td>20058.0</td>\n",
       "      <td>4.816981e+00</td>\n",
       "      <td>2.797152e+00</td>\n",
       "      <td>1.000000e+00</td>\n",
       "      <td>3.000000e+00</td>\n",
       "      <td>4.000000e+00</td>\n",
       "      <td>6.000000e+00</td>\n",
       "      <td>2.800000e+01</td>\n",
       "    </tr>\n",
       "  </tbody>\n",
       "</table>\n",
       "</div>"
      ],
      "text/plain": [
       "                count          mean           std           min           25%  \\\n",
       "created_at    20058.0  6.321335e+16  7.292307e+16  1.376772e+12  1.498313e+12   \n",
       "last_move_at  20058.0  6.313080e+16  7.290633e+16  1.376772e+12  1.498315e+12   \n",
       "turns         20058.0  6.046600e+01  3.357058e+01  1.000000e+00  3.700000e+01   \n",
       "white_rating  20058.0  1.596632e+03  2.912534e+02  7.840000e+02  1.398000e+03   \n",
       "black_rating  20058.0  1.588832e+03  2.910361e+02  7.890000e+02  1.391000e+03   \n",
       "opening_ply   20058.0  4.816981e+00  2.797152e+00  1.000000e+00  3.000000e+00   \n",
       "\n",
       "                       50%           75%           max  \n",
       "created_at    1.504366e+12  1.486680e+17  1.504470e+17  \n",
       "last_move_at  1.504367e+12  1.486680e+17  1.504470e+17  \n",
       "turns         5.500000e+01  7.900000e+01  3.490000e+02  \n",
       "white_rating  1.567000e+03  1.793000e+03  2.700000e+03  \n",
       "black_rating  1.562000e+03  1.784000e+03  2.723000e+03  \n",
       "opening_ply   4.000000e+00  6.000000e+00  2.800000e+01  "
      ]
     },
     "execution_count": 194,
     "metadata": {},
     "output_type": "execute_result"
    }
   ],
   "source": [
    "# Fazer uma estatistica descritiva dos dados de forma transposta\n",
    "df_excel.describe().T"
   ]
  },
  {
   "cell_type": "code",
   "execution_count": 195,
   "id": "b29836ca",
   "metadata": {},
   "outputs": [
    {
     "data": {
      "text/plain": [
       "{'draw', 'mate', 'outoftime', 'resign'}"
      ]
     },
     "execution_count": 195,
     "metadata": {},
     "output_type": "execute_result"
    }
   ],
   "source": [
    "# Variações de informações de uma coluna - ± igual ao distinct do SQL\n",
    "set(df_excel[\"victory_status\"])"
   ]
  },
  {
   "cell_type": "code",
   "execution_count": 196,
   "id": "03c4f1e8",
   "metadata": {},
   "outputs": [
    {
     "data": {
      "application/vnd.microsoft.datawrangler.viewer.v0+json": {
       "columns": [
        {
         "name": "index",
         "rawType": "int64",
         "type": "integer"
        },
        {
         "name": "Date",
         "rawType": "object",
         "type": "string"
        },
        {
         "name": "Unit",
         "rawType": "object",
         "type": "string"
        },
        {
         "name": "Minimum",
         "rawType": "int64",
         "type": "integer"
        },
        {
         "name": "Maximum",
         "rawType": "int64",
         "type": "integer"
        },
        {
         "name": "Average",
         "rawType": "float64",
         "type": "float"
        },
        {
         "name": "Market",
         "rawType": "object",
         "type": "string"
        },
        {
         "name": "categoria_tomate",
         "rawType": "object",
         "type": "string"
        }
       ],
       "ref": "7fdf0efb-94af-465c-b9d4-3075b1490aaa",
       "rows": [
        [
         "0",
         "2013-06-16",
         "Kg",
         "26",
         "32",
         "29.0",
         "Tomato",
         "tomate_pequeno"
        ],
        [
         "1",
         "2013-06-17",
         "Kg",
         "20",
         "25",
         "22.5",
         "Tomato",
         "tomate_pequeno"
        ],
        [
         "2",
         "2013-06-18",
         "Kg",
         "22",
         "26",
         "24.0",
         "Tomato",
         "tomate_pequeno"
        ],
        [
         "3",
         "2013-06-19",
         "Kg",
         "24",
         "28",
         "26.0",
         "Tomato",
         "tomate_pequeno"
        ],
        [
         "4",
         "2013-06-20",
         "Kg",
         "22",
         "26",
         "24.0",
         "Tomato",
         "tomate_pequeno"
        ]
       ],
       "shape": {
        "columns": 7,
        "rows": 5
       }
      },
      "text/html": [
       "<div>\n",
       "<style scoped>\n",
       "    .dataframe tbody tr th:only-of-type {\n",
       "        vertical-align: middle;\n",
       "    }\n",
       "\n",
       "    .dataframe tbody tr th {\n",
       "        vertical-align: top;\n",
       "    }\n",
       "\n",
       "    .dataframe thead th {\n",
       "        text-align: right;\n",
       "    }\n",
       "</style>\n",
       "<table border=\"1\" class=\"dataframe\">\n",
       "  <thead>\n",
       "    <tr style=\"text-align: right;\">\n",
       "      <th></th>\n",
       "      <th>Date</th>\n",
       "      <th>Unit</th>\n",
       "      <th>Minimum</th>\n",
       "      <th>Maximum</th>\n",
       "      <th>Average</th>\n",
       "      <th>Market</th>\n",
       "      <th>categoria_tomate</th>\n",
       "    </tr>\n",
       "  </thead>\n",
       "  <tbody>\n",
       "    <tr>\n",
       "      <th>0</th>\n",
       "      <td>2013-06-16</td>\n",
       "      <td>Kg</td>\n",
       "      <td>26</td>\n",
       "      <td>32</td>\n",
       "      <td>29.0</td>\n",
       "      <td>Tomato</td>\n",
       "      <td>tomate_pequeno</td>\n",
       "    </tr>\n",
       "    <tr>\n",
       "      <th>1</th>\n",
       "      <td>2013-06-17</td>\n",
       "      <td>Kg</td>\n",
       "      <td>20</td>\n",
       "      <td>25</td>\n",
       "      <td>22.5</td>\n",
       "      <td>Tomato</td>\n",
       "      <td>tomate_pequeno</td>\n",
       "    </tr>\n",
       "    <tr>\n",
       "      <th>2</th>\n",
       "      <td>2013-06-18</td>\n",
       "      <td>Kg</td>\n",
       "      <td>22</td>\n",
       "      <td>26</td>\n",
       "      <td>24.0</td>\n",
       "      <td>Tomato</td>\n",
       "      <td>tomate_pequeno</td>\n",
       "    </tr>\n",
       "    <tr>\n",
       "      <th>3</th>\n",
       "      <td>2013-06-19</td>\n",
       "      <td>Kg</td>\n",
       "      <td>24</td>\n",
       "      <td>28</td>\n",
       "      <td>26.0</td>\n",
       "      <td>Tomato</td>\n",
       "      <td>tomate_pequeno</td>\n",
       "    </tr>\n",
       "    <tr>\n",
       "      <th>4</th>\n",
       "      <td>2013-06-20</td>\n",
       "      <td>Kg</td>\n",
       "      <td>22</td>\n",
       "      <td>26</td>\n",
       "      <td>24.0</td>\n",
       "      <td>Tomato</td>\n",
       "      <td>tomate_pequeno</td>\n",
       "    </tr>\n",
       "  </tbody>\n",
       "</table>\n",
       "</div>"
      ],
      "text/plain": [
       "         Date Unit  Minimum  Maximum  Average  Market categoria_tomate\n",
       "0  2013-06-16   Kg       26       32     29.0  Tomato   tomate_pequeno\n",
       "1  2013-06-17   Kg       20       25     22.5  Tomato   tomate_pequeno\n",
       "2  2013-06-18   Kg       22       26     24.0  Tomato   tomate_pequeno\n",
       "3  2013-06-19   Kg       24       28     26.0  Tomato   tomate_pequeno\n",
       "4  2013-06-20   Kg       22       26     24.0  Tomato   tomate_pequeno"
      ]
     },
     "execution_count": 196,
     "metadata": {},
     "output_type": "execute_result"
    }
   ],
   "source": [
    "# Criar nova coluna categoria_tomate usando a função\n",
    "df_csv[\"categoria_tomate\"] = df_csv[\"Average\"].apply(categorizar_tomate_media)\n",
    "df_csv.head()"
   ]
  },
  {
   "cell_type": "code",
   "execution_count": 225,
   "id": "8a44e685",
   "metadata": {},
   "outputs": [
    {
     "name": "stdout",
     "output_type": "stream",
     "text": [
      "Média tempo apply (1 execuções): 0.001919 segundos\n",
      "Média tempo numpy (1 execuções): 0.021962 segundos\n"
     ]
    }
   ],
   "source": [
    "# Criar nova coluna categoria_tomate usando a função com numpy\n",
    "df_teste = df_csv.copy()\n",
    "df_teste[\"categoria_tomate\"] = categorizar_tomate_media_np(df_teste,\"Average\", \"categoria_tomate\")\n",
    "df_teste.head()\n",
    "\n",
    "# Criar um novo data frame apenas para usar no teste\n",
    "df_teste_apply = df_csv.copy()\n",
    "\n",
    "# Comparar o tempo das duas funções: \n",
    "numero_rep = 1\n",
    "\n",
    "tempo_apply = timeit.timeit(\n",
    "    \"df_teste_apply['Average'].apply(categorizar_tomate_media)\",\n",
    "    globals=globals(),\n",
    "    number=numero_rep\n",
    ")\n",
    "print(f\"Média tempo apply ({numero_rep} execuções): {tempo_apply/numero_rep:.6f} segundos\")\n",
    "\n",
    "tempo_numpy = timeit.timeit(\n",
    "    \"categorizar_tomate_media_np(df_teste, 'Average', 'categoria_tomate')\",\n",
    "    globals=globals(),\n",
    "    number=10\n",
    ")\n",
    "print(f\"Média tempo numpy ({numero_rep} execuções): {tempo_numpy/numero_rep:.6f} segundos\")"
   ]
  },
  {
   "cell_type": "code",
   "execution_count": 199,
   "id": "3e1cfcac",
   "metadata": {},
   "outputs": [
    {
     "data": {
      "application/vnd.microsoft.datawrangler.viewer.v0+json": {
       "columns": [
        {
         "name": "categoria_tomate",
         "rawType": "object",
         "type": "string"
        },
        {
         "name": "('Minimum', 'count')",
         "rawType": "float64",
         "type": "float"
        },
        {
         "name": "('Minimum', 'mean')",
         "rawType": "float64",
         "type": "float"
        },
        {
         "name": "('Minimum', 'std')",
         "rawType": "float64",
         "type": "float"
        },
        {
         "name": "('Minimum', 'min')",
         "rawType": "float64",
         "type": "float"
        },
        {
         "name": "('Minimum', '25%')",
         "rawType": "float64",
         "type": "float"
        },
        {
         "name": "('Minimum', '50%')",
         "rawType": "float64",
         "type": "float"
        },
        {
         "name": "('Minimum', '75%')",
         "rawType": "float64",
         "type": "float"
        },
        {
         "name": "('Minimum', 'max')",
         "rawType": "float64",
         "type": "float"
        },
        {
         "name": "('Maximum', 'count')",
         "rawType": "float64",
         "type": "float"
        },
        {
         "name": "('Maximum', 'mean')",
         "rawType": "float64",
         "type": "float"
        },
        {
         "name": "('Maximum', 'std')",
         "rawType": "float64",
         "type": "float"
        },
        {
         "name": "('Maximum', 'min')",
         "rawType": "float64",
         "type": "float"
        },
        {
         "name": "('Maximum', '25%')",
         "rawType": "float64",
         "type": "float"
        },
        {
         "name": "('Maximum', '50%')",
         "rawType": "float64",
         "type": "float"
        },
        {
         "name": "('Maximum', '75%')",
         "rawType": "float64",
         "type": "float"
        },
        {
         "name": "('Maximum', 'max')",
         "rawType": "float64",
         "type": "float"
        },
        {
         "name": "('Average', 'count')",
         "rawType": "float64",
         "type": "float"
        },
        {
         "name": "('Average', 'mean')",
         "rawType": "float64",
         "type": "float"
        },
        {
         "name": "('Average', 'std')",
         "rawType": "float64",
         "type": "float"
        },
        {
         "name": "('Average', 'min')",
         "rawType": "float64",
         "type": "float"
        },
        {
         "name": "('Average', '25%')",
         "rawType": "float64",
         "type": "float"
        },
        {
         "name": "('Average', '50%')",
         "rawType": "float64",
         "type": "float"
        },
        {
         "name": "('Average', '75%')",
         "rawType": "float64",
         "type": "float"
        },
        {
         "name": "('Average', 'max')",
         "rawType": "float64",
         "type": "float"
        }
       ],
       "ref": "e130d5f5-eb75-4dde-ae0f-55e2dbd51870",
       "rows": [
        [
         "tomate_grande",
         "149.0",
         "75.74496644295301",
         "7.324666178553442",
         "65.0",
         "70.0",
         "75.0",
         "80.0",
         "115.0",
         "149.0",
         "82.58389261744966",
         "7.622070257837963",
         "73.0",
         "80.0",
         "80.0",
         "85.0",
         "120.0",
         "149.0",
         "79.16442953020135",
         "7.367395977544095",
         "70.5",
         "75.0",
         "77.5",
         "82.5",
         "117.5"
        ],
        [
         "tomate_medio",
         "954.0",
         "47.818658280922435",
         "8.203064707829585",
         "30.0",
         "40.0",
         "45.0",
         "55.0",
         "65.0",
         "954.0",
         "55.009433962264154",
         "8.541910447721522",
         "42.0",
         "50.0",
         "55.0",
         "60.0",
         "75.0",
         "954.0",
         "51.414046121593294",
         "8.272792089932084",
         "40.0",
         "45.0",
         "50.0",
         "57.5",
         "70.0"
        ],
        [
         "tomate_pequeno",
         "1638.0",
         "23.978021978021978",
         "7.175571502282391",
         "8.0",
         "18.0",
         "25.0",
         "30.0",
         "38.0",
         "1638.0",
         "29.52869352869353",
         "7.323327444890737",
         "12.0",
         "25.0",
         "30.0",
         "35.0",
         "44.0",
         "1638.0",
         "26.753357753357754",
         "7.191734740951758",
         "10.0",
         "21.5",
         "27.5",
         "32.5",
         "39.5"
        ]
       ],
       "shape": {
        "columns": 24,
        "rows": 3
       }
      },
      "text/html": [
       "<div>\n",
       "<style scoped>\n",
       "    .dataframe tbody tr th:only-of-type {\n",
       "        vertical-align: middle;\n",
       "    }\n",
       "\n",
       "    .dataframe tbody tr th {\n",
       "        vertical-align: top;\n",
       "    }\n",
       "\n",
       "    .dataframe thead tr th {\n",
       "        text-align: left;\n",
       "    }\n",
       "\n",
       "    .dataframe thead tr:last-of-type th {\n",
       "        text-align: right;\n",
       "    }\n",
       "</style>\n",
       "<table border=\"1\" class=\"dataframe\">\n",
       "  <thead>\n",
       "    <tr>\n",
       "      <th></th>\n",
       "      <th colspan=\"8\" halign=\"left\">Minimum</th>\n",
       "      <th colspan=\"5\" halign=\"left\">Maximum</th>\n",
       "      <th colspan=\"8\" halign=\"left\">Average</th>\n",
       "    </tr>\n",
       "    <tr>\n",
       "      <th></th>\n",
       "      <th>count</th>\n",
       "      <th>mean</th>\n",
       "      <th>std</th>\n",
       "      <th>min</th>\n",
       "      <th>25%</th>\n",
       "      <th>50%</th>\n",
       "      <th>75%</th>\n",
       "      <th>max</th>\n",
       "      <th>count</th>\n",
       "      <th>mean</th>\n",
       "      <th>...</th>\n",
       "      <th>75%</th>\n",
       "      <th>max</th>\n",
       "      <th>count</th>\n",
       "      <th>mean</th>\n",
       "      <th>std</th>\n",
       "      <th>min</th>\n",
       "      <th>25%</th>\n",
       "      <th>50%</th>\n",
       "      <th>75%</th>\n",
       "      <th>max</th>\n",
       "    </tr>\n",
       "    <tr>\n",
       "      <th>categoria_tomate</th>\n",
       "      <th></th>\n",
       "      <th></th>\n",
       "      <th></th>\n",
       "      <th></th>\n",
       "      <th></th>\n",
       "      <th></th>\n",
       "      <th></th>\n",
       "      <th></th>\n",
       "      <th></th>\n",
       "      <th></th>\n",
       "      <th></th>\n",
       "      <th></th>\n",
       "      <th></th>\n",
       "      <th></th>\n",
       "      <th></th>\n",
       "      <th></th>\n",
       "      <th></th>\n",
       "      <th></th>\n",
       "      <th></th>\n",
       "      <th></th>\n",
       "      <th></th>\n",
       "    </tr>\n",
       "  </thead>\n",
       "  <tbody>\n",
       "    <tr>\n",
       "      <th>tomate_grande</th>\n",
       "      <td>149.0</td>\n",
       "      <td>75.744966</td>\n",
       "      <td>7.324666</td>\n",
       "      <td>65.0</td>\n",
       "      <td>70.0</td>\n",
       "      <td>75.0</td>\n",
       "      <td>80.0</td>\n",
       "      <td>115.0</td>\n",
       "      <td>149.0</td>\n",
       "      <td>82.583893</td>\n",
       "      <td>...</td>\n",
       "      <td>85.0</td>\n",
       "      <td>120.0</td>\n",
       "      <td>149.0</td>\n",
       "      <td>79.164430</td>\n",
       "      <td>7.367396</td>\n",
       "      <td>70.5</td>\n",
       "      <td>75.0</td>\n",
       "      <td>77.5</td>\n",
       "      <td>82.5</td>\n",
       "      <td>117.5</td>\n",
       "    </tr>\n",
       "    <tr>\n",
       "      <th>tomate_medio</th>\n",
       "      <td>954.0</td>\n",
       "      <td>47.818658</td>\n",
       "      <td>8.203065</td>\n",
       "      <td>30.0</td>\n",
       "      <td>40.0</td>\n",
       "      <td>45.0</td>\n",
       "      <td>55.0</td>\n",
       "      <td>65.0</td>\n",
       "      <td>954.0</td>\n",
       "      <td>55.009434</td>\n",
       "      <td>...</td>\n",
       "      <td>60.0</td>\n",
       "      <td>75.0</td>\n",
       "      <td>954.0</td>\n",
       "      <td>51.414046</td>\n",
       "      <td>8.272792</td>\n",
       "      <td>40.0</td>\n",
       "      <td>45.0</td>\n",
       "      <td>50.0</td>\n",
       "      <td>57.5</td>\n",
       "      <td>70.0</td>\n",
       "    </tr>\n",
       "    <tr>\n",
       "      <th>tomate_pequeno</th>\n",
       "      <td>1638.0</td>\n",
       "      <td>23.978022</td>\n",
       "      <td>7.175572</td>\n",
       "      <td>8.0</td>\n",
       "      <td>18.0</td>\n",
       "      <td>25.0</td>\n",
       "      <td>30.0</td>\n",
       "      <td>38.0</td>\n",
       "      <td>1638.0</td>\n",
       "      <td>29.528694</td>\n",
       "      <td>...</td>\n",
       "      <td>35.0</td>\n",
       "      <td>44.0</td>\n",
       "      <td>1638.0</td>\n",
       "      <td>26.753358</td>\n",
       "      <td>7.191735</td>\n",
       "      <td>10.0</td>\n",
       "      <td>21.5</td>\n",
       "      <td>27.5</td>\n",
       "      <td>32.5</td>\n",
       "      <td>39.5</td>\n",
       "    </tr>\n",
       "  </tbody>\n",
       "</table>\n",
       "<p>3 rows × 24 columns</p>\n",
       "</div>"
      ],
      "text/plain": [
       "                 Minimum                                                      \\\n",
       "                   count       mean       std   min   25%   50%   75%    max   \n",
       "categoria_tomate                                                               \n",
       "tomate_grande      149.0  75.744966  7.324666  65.0  70.0  75.0  80.0  115.0   \n",
       "tomate_medio       954.0  47.818658  8.203065  30.0  40.0  45.0  55.0   65.0   \n",
       "tomate_pequeno    1638.0  23.978022  7.175572   8.0  18.0  25.0  30.0   38.0   \n",
       "\n",
       "                 Maximum             ...              Average             \\\n",
       "                   count       mean  ...   75%    max   count       mean   \n",
       "categoria_tomate                     ...                                   \n",
       "tomate_grande      149.0  82.583893  ...  85.0  120.0   149.0  79.164430   \n",
       "tomate_medio       954.0  55.009434  ...  60.0   75.0   954.0  51.414046   \n",
       "tomate_pequeno    1638.0  29.528694  ...  35.0   44.0  1638.0  26.753358   \n",
       "\n",
       "                                                           \n",
       "                       std   min   25%   50%   75%    max  \n",
       "categoria_tomate                                           \n",
       "tomate_grande     7.367396  70.5  75.0  77.5  82.5  117.5  \n",
       "tomate_medio      8.272792  40.0  45.0  50.0  57.5   70.0  \n",
       "tomate_pequeno    7.191735  10.0  21.5  27.5  32.5   39.5  \n",
       "\n",
       "[3 rows x 24 columns]"
      ]
     },
     "execution_count": 199,
     "metadata": {},
     "output_type": "execute_result"
    }
   ],
   "source": [
    "df_csv.groupby([\"categoria_tomate\"]).describe()"
   ]
  },
  {
   "cell_type": "code",
   "execution_count": 200,
   "id": "c4052b96",
   "metadata": {},
   "outputs": [
    {
     "data": {
      "application/vnd.microsoft.datawrangler.viewer.v0+json": {
       "columns": [
        {
         "name": "(None, None)",
         "rawType": "object",
         "type": "unknown"
        },
        {
         "name": "tomate_grande",
         "rawType": "float64",
         "type": "float"
        },
        {
         "name": "tomate_medio",
         "rawType": "float64",
         "type": "float"
        },
        {
         "name": "tomate_pequeno",
         "rawType": "float64",
         "type": "float"
        }
       ],
       "ref": "a3df5385-56df-4334-80e0-d3f45cea3150",
       "rows": [
        [
         "('Minimum', 'count')",
         "149.0",
         "954.0",
         "1638.0"
        ],
        [
         "('Minimum', 'mean')",
         "75.74496644295301",
         "47.818658280922435",
         "23.978021978021978"
        ],
        [
         "('Minimum', 'std')",
         "7.324666178553442",
         "8.203064707829585",
         "7.175571502282391"
        ],
        [
         "('Minimum', 'min')",
         "65.0",
         "30.0",
         "8.0"
        ],
        [
         "('Minimum', '25%')",
         "70.0",
         "40.0",
         "18.0"
        ],
        [
         "('Minimum', '50%')",
         "75.0",
         "45.0",
         "25.0"
        ],
        [
         "('Minimum', '75%')",
         "80.0",
         "55.0",
         "30.0"
        ],
        [
         "('Minimum', 'max')",
         "115.0",
         "65.0",
         "38.0"
        ],
        [
         "('Maximum', 'count')",
         "149.0",
         "954.0",
         "1638.0"
        ],
        [
         "('Maximum', 'mean')",
         "82.58389261744966",
         "55.009433962264154",
         "29.52869352869353"
        ],
        [
         "('Maximum', 'std')",
         "7.622070257837963",
         "8.541910447721522",
         "7.323327444890737"
        ],
        [
         "('Maximum', 'min')",
         "73.0",
         "42.0",
         "12.0"
        ],
        [
         "('Maximum', '25%')",
         "80.0",
         "50.0",
         "25.0"
        ],
        [
         "('Maximum', '50%')",
         "80.0",
         "55.0",
         "30.0"
        ],
        [
         "('Maximum', '75%')",
         "85.0",
         "60.0",
         "35.0"
        ],
        [
         "('Maximum', 'max')",
         "120.0",
         "75.0",
         "44.0"
        ],
        [
         "('Average', 'count')",
         "149.0",
         "954.0",
         "1638.0"
        ],
        [
         "('Average', 'mean')",
         "79.16442953020135",
         "51.414046121593294",
         "26.753357753357754"
        ],
        [
         "('Average', 'std')",
         "7.367395977544095",
         "8.272792089932084",
         "7.191734740951758"
        ],
        [
         "('Average', 'min')",
         "70.5",
         "40.0",
         "10.0"
        ],
        [
         "('Average', '25%')",
         "75.0",
         "45.0",
         "21.5"
        ],
        [
         "('Average', '50%')",
         "77.5",
         "50.0",
         "27.5"
        ],
        [
         "('Average', '75%')",
         "82.5",
         "57.5",
         "32.5"
        ],
        [
         "('Average', 'max')",
         "117.5",
         "70.0",
         "39.5"
        ]
       ],
       "shape": {
        "columns": 3,
        "rows": 24
       }
      },
      "text/html": [
       "<div>\n",
       "<style scoped>\n",
       "    .dataframe tbody tr th:only-of-type {\n",
       "        vertical-align: middle;\n",
       "    }\n",
       "\n",
       "    .dataframe tbody tr th {\n",
       "        vertical-align: top;\n",
       "    }\n",
       "\n",
       "    .dataframe thead th {\n",
       "        text-align: right;\n",
       "    }\n",
       "</style>\n",
       "<table border=\"1\" class=\"dataframe\">\n",
       "  <thead>\n",
       "    <tr style=\"text-align: right;\">\n",
       "      <th></th>\n",
       "      <th>categoria_tomate</th>\n",
       "      <th>tomate_grande</th>\n",
       "      <th>tomate_medio</th>\n",
       "      <th>tomate_pequeno</th>\n",
       "    </tr>\n",
       "  </thead>\n",
       "  <tbody>\n",
       "    <tr>\n",
       "      <th rowspan=\"8\" valign=\"top\">Minimum</th>\n",
       "      <th>count</th>\n",
       "      <td>149.000000</td>\n",
       "      <td>954.000000</td>\n",
       "      <td>1638.000000</td>\n",
       "    </tr>\n",
       "    <tr>\n",
       "      <th>mean</th>\n",
       "      <td>75.744966</td>\n",
       "      <td>47.818658</td>\n",
       "      <td>23.978022</td>\n",
       "    </tr>\n",
       "    <tr>\n",
       "      <th>std</th>\n",
       "      <td>7.324666</td>\n",
       "      <td>8.203065</td>\n",
       "      <td>7.175572</td>\n",
       "    </tr>\n",
       "    <tr>\n",
       "      <th>min</th>\n",
       "      <td>65.000000</td>\n",
       "      <td>30.000000</td>\n",
       "      <td>8.000000</td>\n",
       "    </tr>\n",
       "    <tr>\n",
       "      <th>25%</th>\n",
       "      <td>70.000000</td>\n",
       "      <td>40.000000</td>\n",
       "      <td>18.000000</td>\n",
       "    </tr>\n",
       "    <tr>\n",
       "      <th>50%</th>\n",
       "      <td>75.000000</td>\n",
       "      <td>45.000000</td>\n",
       "      <td>25.000000</td>\n",
       "    </tr>\n",
       "    <tr>\n",
       "      <th>75%</th>\n",
       "      <td>80.000000</td>\n",
       "      <td>55.000000</td>\n",
       "      <td>30.000000</td>\n",
       "    </tr>\n",
       "    <tr>\n",
       "      <th>max</th>\n",
       "      <td>115.000000</td>\n",
       "      <td>65.000000</td>\n",
       "      <td>38.000000</td>\n",
       "    </tr>\n",
       "    <tr>\n",
       "      <th rowspan=\"8\" valign=\"top\">Maximum</th>\n",
       "      <th>count</th>\n",
       "      <td>149.000000</td>\n",
       "      <td>954.000000</td>\n",
       "      <td>1638.000000</td>\n",
       "    </tr>\n",
       "    <tr>\n",
       "      <th>mean</th>\n",
       "      <td>82.583893</td>\n",
       "      <td>55.009434</td>\n",
       "      <td>29.528694</td>\n",
       "    </tr>\n",
       "    <tr>\n",
       "      <th>std</th>\n",
       "      <td>7.622070</td>\n",
       "      <td>8.541910</td>\n",
       "      <td>7.323327</td>\n",
       "    </tr>\n",
       "    <tr>\n",
       "      <th>min</th>\n",
       "      <td>73.000000</td>\n",
       "      <td>42.000000</td>\n",
       "      <td>12.000000</td>\n",
       "    </tr>\n",
       "    <tr>\n",
       "      <th>25%</th>\n",
       "      <td>80.000000</td>\n",
       "      <td>50.000000</td>\n",
       "      <td>25.000000</td>\n",
       "    </tr>\n",
       "    <tr>\n",
       "      <th>50%</th>\n",
       "      <td>80.000000</td>\n",
       "      <td>55.000000</td>\n",
       "      <td>30.000000</td>\n",
       "    </tr>\n",
       "    <tr>\n",
       "      <th>75%</th>\n",
       "      <td>85.000000</td>\n",
       "      <td>60.000000</td>\n",
       "      <td>35.000000</td>\n",
       "    </tr>\n",
       "    <tr>\n",
       "      <th>max</th>\n",
       "      <td>120.000000</td>\n",
       "      <td>75.000000</td>\n",
       "      <td>44.000000</td>\n",
       "    </tr>\n",
       "    <tr>\n",
       "      <th rowspan=\"8\" valign=\"top\">Average</th>\n",
       "      <th>count</th>\n",
       "      <td>149.000000</td>\n",
       "      <td>954.000000</td>\n",
       "      <td>1638.000000</td>\n",
       "    </tr>\n",
       "    <tr>\n",
       "      <th>mean</th>\n",
       "      <td>79.164430</td>\n",
       "      <td>51.414046</td>\n",
       "      <td>26.753358</td>\n",
       "    </tr>\n",
       "    <tr>\n",
       "      <th>std</th>\n",
       "      <td>7.367396</td>\n",
       "      <td>8.272792</td>\n",
       "      <td>7.191735</td>\n",
       "    </tr>\n",
       "    <tr>\n",
       "      <th>min</th>\n",
       "      <td>70.500000</td>\n",
       "      <td>40.000000</td>\n",
       "      <td>10.000000</td>\n",
       "    </tr>\n",
       "    <tr>\n",
       "      <th>25%</th>\n",
       "      <td>75.000000</td>\n",
       "      <td>45.000000</td>\n",
       "      <td>21.500000</td>\n",
       "    </tr>\n",
       "    <tr>\n",
       "      <th>50%</th>\n",
       "      <td>77.500000</td>\n",
       "      <td>50.000000</td>\n",
       "      <td>27.500000</td>\n",
       "    </tr>\n",
       "    <tr>\n",
       "      <th>75%</th>\n",
       "      <td>82.500000</td>\n",
       "      <td>57.500000</td>\n",
       "      <td>32.500000</td>\n",
       "    </tr>\n",
       "    <tr>\n",
       "      <th>max</th>\n",
       "      <td>117.500000</td>\n",
       "      <td>70.000000</td>\n",
       "      <td>39.500000</td>\n",
       "    </tr>\n",
       "  </tbody>\n",
       "</table>\n",
       "</div>"
      ],
      "text/plain": [
       "categoria_tomate  tomate_grande  tomate_medio  tomate_pequeno\n",
       "Minimum count        149.000000    954.000000     1638.000000\n",
       "        mean          75.744966     47.818658       23.978022\n",
       "        std            7.324666      8.203065        7.175572\n",
       "        min           65.000000     30.000000        8.000000\n",
       "        25%           70.000000     40.000000       18.000000\n",
       "        50%           75.000000     45.000000       25.000000\n",
       "        75%           80.000000     55.000000       30.000000\n",
       "        max          115.000000     65.000000       38.000000\n",
       "Maximum count        149.000000    954.000000     1638.000000\n",
       "        mean          82.583893     55.009434       29.528694\n",
       "        std            7.622070      8.541910        7.323327\n",
       "        min           73.000000     42.000000       12.000000\n",
       "        25%           80.000000     50.000000       25.000000\n",
       "        50%           80.000000     55.000000       30.000000\n",
       "        75%           85.000000     60.000000       35.000000\n",
       "        max          120.000000     75.000000       44.000000\n",
       "Average count        149.000000    954.000000     1638.000000\n",
       "        mean          79.164430     51.414046       26.753358\n",
       "        std            7.367396      8.272792        7.191735\n",
       "        min           70.500000     40.000000       10.000000\n",
       "        25%           75.000000     45.000000       21.500000\n",
       "        50%           77.500000     50.000000       27.500000\n",
       "        75%           82.500000     57.500000       32.500000\n",
       "        max          117.500000     70.000000       39.500000"
      ]
     },
     "execution_count": 200,
     "metadata": {},
     "output_type": "execute_result"
    }
   ],
   "source": [
    "df_csv.groupby([\"categoria_tomate\"]).describe().T"
   ]
  },
  {
   "cell_type": "code",
   "execution_count": 201,
   "id": "a7ddd6af",
   "metadata": {},
   "outputs": [
    {
     "data": {
      "application/vnd.microsoft.datawrangler.viewer.v0+json": {
       "columns": [
        {
         "name": "index",
         "rawType": "int64",
         "type": "integer"
        },
        {
         "name": "Date",
         "rawType": "object",
         "type": "string"
        },
        {
         "name": "Unit",
         "rawType": "object",
         "type": "string"
        },
        {
         "name": "Minimum",
         "rawType": "int64",
         "type": "integer"
        },
        {
         "name": "Maximum",
         "rawType": "int64",
         "type": "integer"
        },
        {
         "name": "Average",
         "rawType": "float64",
         "type": "float"
        },
        {
         "name": "Market",
         "rawType": "object",
         "type": "string"
        },
        {
         "name": "categoria_tomate",
         "rawType": "object",
         "type": "string"
        }
       ],
       "ref": "1bc21b4b-580a-4e45-bf4b-0c16fa71adef",
       "rows": [
        [
         "0",
         "2013-06-16",
         "Kg",
         "26",
         "32",
         "29.0",
         "Tomato",
         "tomate_pequeno"
        ],
        [
         "1",
         "2013-06-17",
         "Kg",
         "20",
         "25",
         "22.5",
         "Tomato",
         "tomate_pequeno"
        ],
        [
         "2",
         "2013-06-18",
         "Kg",
         "22",
         "26",
         "24.0",
         "Tomato",
         "tomate_pequeno"
        ],
        [
         "3",
         "2013-06-19",
         "Kg",
         "24",
         "28",
         "26.0",
         "Tomato",
         "tomate_pequeno"
        ],
        [
         "4",
         "2013-06-20",
         "Kg",
         "22",
         "26",
         "24.0",
         "Tomato",
         "tomate_pequeno"
        ],
        [
         "5",
         "2013-06-21",
         "Kg",
         "15",
         "20",
         "17.5",
         "Tomato",
         "tomate_pequeno"
        ],
        [
         "6",
         "2013-06-25",
         "Kg",
         "25",
         "30",
         "27.5",
         "Tomato",
         "tomate_pequeno"
        ],
        [
         "7",
         "2013-06-26",
         "Kg",
         "20",
         "25",
         "22.5",
         "Tomato",
         "tomate_pequeno"
        ],
        [
         "8",
         "2013-06-27",
         "Kg",
         "18",
         "24",
         "21.0",
         "Tomato",
         "tomate_pequeno"
        ],
        [
         "9",
         "2013-06-28",
         "Kg",
         "24",
         "28",
         "26.0",
         "Tomato",
         "tomate_pequeno"
        ],
        [
         "10",
         "2013-06-30",
         "Kg",
         "18",
         "22",
         "20.0",
         "Tomato",
         "tomate_pequeno"
        ],
        [
         "11",
         "2013-07-01",
         "Kg",
         "15",
         "20",
         "17.5",
         "Tomato",
         "tomate_pequeno"
        ],
        [
         "12",
         "2013-07-02",
         "Kg",
         "15",
         "20",
         "17.5",
         "Tomato",
         "tomate_pequeno"
        ],
        [
         "13",
         "2013-07-03",
         "Kg",
         "14",
         "18",
         "16.0",
         "Tomato",
         "tomate_pequeno"
        ],
        [
         "14",
         "2013-07-04",
         "Kg",
         "14",
         "18",
         "16.0",
         "Tomato",
         "tomate_pequeno"
        ],
        [
         "15",
         "2013-07-05",
         "Kg",
         "18",
         "24",
         "21.0",
         "Tomato",
         "tomate_pequeno"
        ],
        [
         "16",
         "2013-07-09",
         "Kg",
         "20",
         "25",
         "22.5",
         "Tomato",
         "tomate_pequeno"
        ],
        [
         "17",
         "2013-07-10",
         "Kg",
         "30",
         "35",
         "32.5",
         "Tomato",
         "tomate_pequeno"
        ],
        [
         "18",
         "2013-07-11",
         "Kg",
         "32",
         "38",
         "35.0",
         "Tomato",
         "tomate_pequeno"
        ],
        [
         "25",
         "2013-07-19",
         "Kg",
         "36",
         "40",
         "38.0",
         "Tomato",
         "tomate_pequeno"
        ],
        [
         "26",
         "2013-07-21",
         "Kg",
         "28",
         "32",
         "30.0",
         "Tomato",
         "tomate_pequeno"
        ],
        [
         "27",
         "2013-07-22",
         "Kg",
         "28",
         "32",
         "30.0",
         "Tomato",
         "tomate_pequeno"
        ],
        [
         "28",
         "2013-07-23",
         "Kg",
         "30",
         "35",
         "32.5",
         "Tomato",
         "tomate_pequeno"
        ],
        [
         "29",
         "2013-07-24",
         "Kg",
         "32",
         "36",
         "34.0",
         "Tomato",
         "tomate_pequeno"
        ],
        [
         "35",
         "2013-07-31",
         "Kg",
         "35",
         "40",
         "37.5",
         "Tomato",
         "tomate_pequeno"
        ],
        [
         "36",
         "2013-08-01",
         "Kg",
         "34",
         "38",
         "36.0",
         "Tomato",
         "tomate_pequeno"
        ],
        [
         "37",
         "2013-08-02",
         "Kg",
         "25",
         "35",
         "30.0",
         "Tomato",
         "tomate_pequeno"
        ],
        [
         "38",
         "2013-08-04",
         "Kg",
         "25",
         "30",
         "27.5",
         "Tomato",
         "tomate_pequeno"
        ],
        [
         "39",
         "2013-08-05",
         "Kg",
         "25",
         "30",
         "27.5",
         "Tomato",
         "tomate_pequeno"
        ],
        [
         "40",
         "2013-08-06",
         "Kg",
         "28",
         "34",
         "31.0",
         "Tomato",
         "tomate_pequeno"
        ],
        [
         "41",
         "2013-08-07",
         "Kg",
         "25",
         "30",
         "27.5",
         "Tomato",
         "tomate_pequeno"
        ],
        [
         "42",
         "2013-08-08",
         "Kg",
         "20",
         "25",
         "22.5",
         "Tomato",
         "tomate_pequeno"
        ],
        [
         "43",
         "2013-08-12",
         "Kg",
         "24",
         "28",
         "26.0",
         "Tomato",
         "tomate_pequeno"
        ],
        [
         "44",
         "2013-08-13",
         "Kg",
         "25",
         "30",
         "27.5",
         "Tomato",
         "tomate_pequeno"
        ],
        [
         "45",
         "2013-08-14",
         "Kg",
         "25",
         "30",
         "27.5",
         "Tomato",
         "tomate_pequeno"
        ],
        [
         "46",
         "2013-08-15",
         "Kg",
         "25",
         "32",
         "28.5",
         "Tomato",
         "tomate_pequeno"
        ],
        [
         "47",
         "2013-08-16",
         "Kg",
         "35",
         "40",
         "37.5",
         "Tomato",
         "tomate_pequeno"
        ],
        [
         "48",
         "2013-08-18",
         "Kg",
         "30",
         "35",
         "32.5",
         "Tomato",
         "tomate_pequeno"
        ],
        [
         "49",
         "2013-08-19",
         "Kg",
         "35",
         "40",
         "37.5",
         "Tomato",
         "tomate_pequeno"
        ],
        [
         "52",
         "2013-08-25",
         "Kg",
         "30",
         "35",
         "32.5",
         "Tomato",
         "tomate_pequeno"
        ],
        [
         "53",
         "2013-08-26",
         "Kg",
         "28",
         "32",
         "30.0",
         "Tomato",
         "tomate_pequeno"
        ],
        [
         "54",
         "2013-08-27",
         "Kg",
         "28",
         "32",
         "30.0",
         "Tomato",
         "tomate_pequeno"
        ],
        [
         "55",
         "2013-08-29",
         "Kg",
         "34",
         "38",
         "36.0",
         "Tomato",
         "tomate_pequeno"
        ],
        [
         "56",
         "2013-08-30",
         "Kg",
         "30",
         "35",
         "32.5",
         "Tomato",
         "tomate_pequeno"
        ],
        [
         "57",
         "2013-09-01",
         "Kg",
         "30",
         "35",
         "32.5",
         "Tomato",
         "tomate_pequeno"
        ],
        [
         "58",
         "2013-09-02",
         "Kg",
         "35",
         "40",
         "37.5",
         "Tomato",
         "tomate_pequeno"
        ],
        [
         "67",
         "2013-09-12",
         "Kg",
         "36",
         "42",
         "39.0",
         "Tomato",
         "tomate_pequeno"
        ],
        [
         "68",
         "2013-09-13",
         "Kg",
         "35",
         "40",
         "37.5",
         "Tomato",
         "tomate_pequeno"
        ],
        [
         "69",
         "2013-09-15",
         "Kg",
         "35",
         "40",
         "37.5",
         "Tomato",
         "tomate_pequeno"
        ],
        [
         "70",
         "2013-09-16",
         "Kg",
         "32",
         "38",
         "35.0",
         "Tomato",
         "tomate_pequeno"
        ]
       ],
       "shape": {
        "columns": 7,
        "rows": 1638
       }
      },
      "text/html": [
       "<div>\n",
       "<style scoped>\n",
       "    .dataframe tbody tr th:only-of-type {\n",
       "        vertical-align: middle;\n",
       "    }\n",
       "\n",
       "    .dataframe tbody tr th {\n",
       "        vertical-align: top;\n",
       "    }\n",
       "\n",
       "    .dataframe thead th {\n",
       "        text-align: right;\n",
       "    }\n",
       "</style>\n",
       "<table border=\"1\" class=\"dataframe\">\n",
       "  <thead>\n",
       "    <tr style=\"text-align: right;\">\n",
       "      <th></th>\n",
       "      <th>Date</th>\n",
       "      <th>Unit</th>\n",
       "      <th>Minimum</th>\n",
       "      <th>Maximum</th>\n",
       "      <th>Average</th>\n",
       "      <th>Market</th>\n",
       "      <th>categoria_tomate</th>\n",
       "    </tr>\n",
       "  </thead>\n",
       "  <tbody>\n",
       "    <tr>\n",
       "      <th>0</th>\n",
       "      <td>2013-06-16</td>\n",
       "      <td>Kg</td>\n",
       "      <td>26</td>\n",
       "      <td>32</td>\n",
       "      <td>29.0</td>\n",
       "      <td>Tomato</td>\n",
       "      <td>tomate_pequeno</td>\n",
       "    </tr>\n",
       "    <tr>\n",
       "      <th>1</th>\n",
       "      <td>2013-06-17</td>\n",
       "      <td>Kg</td>\n",
       "      <td>20</td>\n",
       "      <td>25</td>\n",
       "      <td>22.5</td>\n",
       "      <td>Tomato</td>\n",
       "      <td>tomate_pequeno</td>\n",
       "    </tr>\n",
       "    <tr>\n",
       "      <th>2</th>\n",
       "      <td>2013-06-18</td>\n",
       "      <td>Kg</td>\n",
       "      <td>22</td>\n",
       "      <td>26</td>\n",
       "      <td>24.0</td>\n",
       "      <td>Tomato</td>\n",
       "      <td>tomate_pequeno</td>\n",
       "    </tr>\n",
       "    <tr>\n",
       "      <th>3</th>\n",
       "      <td>2013-06-19</td>\n",
       "      <td>Kg</td>\n",
       "      <td>24</td>\n",
       "      <td>28</td>\n",
       "      <td>26.0</td>\n",
       "      <td>Tomato</td>\n",
       "      <td>tomate_pequeno</td>\n",
       "    </tr>\n",
       "    <tr>\n",
       "      <th>4</th>\n",
       "      <td>2013-06-20</td>\n",
       "      <td>Kg</td>\n",
       "      <td>22</td>\n",
       "      <td>26</td>\n",
       "      <td>24.0</td>\n",
       "      <td>Tomato</td>\n",
       "      <td>tomate_pequeno</td>\n",
       "    </tr>\n",
       "    <tr>\n",
       "      <th>...</th>\n",
       "      <td>...</td>\n",
       "      <td>...</td>\n",
       "      <td>...</td>\n",
       "      <td>...</td>\n",
       "      <td>...</td>\n",
       "      <td>...</td>\n",
       "      <td>...</td>\n",
       "    </tr>\n",
       "    <tr>\n",
       "      <th>2736</th>\n",
       "      <td>2021-05-09</td>\n",
       "      <td>Kg</td>\n",
       "      <td>10</td>\n",
       "      <td>15</td>\n",
       "      <td>12.5</td>\n",
       "      <td>Tomato</td>\n",
       "      <td>tomate_pequeno</td>\n",
       "    </tr>\n",
       "    <tr>\n",
       "      <th>2737</th>\n",
       "      <td>2021-05-10</td>\n",
       "      <td>Kg</td>\n",
       "      <td>10</td>\n",
       "      <td>15</td>\n",
       "      <td>12.5</td>\n",
       "      <td>Tomato</td>\n",
       "      <td>tomate_pequeno</td>\n",
       "    </tr>\n",
       "    <tr>\n",
       "      <th>2738</th>\n",
       "      <td>2021-05-11</td>\n",
       "      <td>Kg</td>\n",
       "      <td>10</td>\n",
       "      <td>15</td>\n",
       "      <td>12.5</td>\n",
       "      <td>Tomato</td>\n",
       "      <td>tomate_pequeno</td>\n",
       "    </tr>\n",
       "    <tr>\n",
       "      <th>2739</th>\n",
       "      <td>2021-05-12</td>\n",
       "      <td>Kg</td>\n",
       "      <td>30</td>\n",
       "      <td>35</td>\n",
       "      <td>32.5</td>\n",
       "      <td>Tomato</td>\n",
       "      <td>tomate_pequeno</td>\n",
       "    </tr>\n",
       "    <tr>\n",
       "      <th>2740</th>\n",
       "      <td>2021-05-13</td>\n",
       "      <td>Kg</td>\n",
       "      <td>35</td>\n",
       "      <td>40</td>\n",
       "      <td>37.5</td>\n",
       "      <td>Tomato</td>\n",
       "      <td>tomate_pequeno</td>\n",
       "    </tr>\n",
       "  </tbody>\n",
       "</table>\n",
       "<p>1638 rows × 7 columns</p>\n",
       "</div>"
      ],
      "text/plain": [
       "            Date Unit  Minimum  Maximum  Average  Market categoria_tomate\n",
       "0     2013-06-16   Kg       26       32     29.0  Tomato   tomate_pequeno\n",
       "1     2013-06-17   Kg       20       25     22.5  Tomato   tomate_pequeno\n",
       "2     2013-06-18   Kg       22       26     24.0  Tomato   tomate_pequeno\n",
       "3     2013-06-19   Kg       24       28     26.0  Tomato   tomate_pequeno\n",
       "4     2013-06-20   Kg       22       26     24.0  Tomato   tomate_pequeno\n",
       "...          ...  ...      ...      ...      ...     ...              ...\n",
       "2736  2021-05-09   Kg       10       15     12.5  Tomato   tomate_pequeno\n",
       "2737  2021-05-10   Kg       10       15     12.5  Tomato   tomate_pequeno\n",
       "2738  2021-05-11   Kg       10       15     12.5  Tomato   tomate_pequeno\n",
       "2739  2021-05-12   Kg       30       35     32.5  Tomato   tomate_pequeno\n",
       "2740  2021-05-13   Kg       35       40     37.5  Tomato   tomate_pequeno\n",
       "\n",
       "[1638 rows x 7 columns]"
      ]
     },
     "execution_count": 201,
     "metadata": {},
     "output_type": "execute_result"
    }
   ],
   "source": [
    "#Realizar filtro com loc \n",
    "filtro = df_csv[\"Average\"] < 40\n",
    "df_csv.loc[filtro]"
   ]
  },
  {
   "cell_type": "code",
   "execution_count": 202,
   "id": "3c015e3f",
   "metadata": {},
   "outputs": [
    {
     "name": "stdout",
     "output_type": "stream",
     "text": [
      "[1 2 3 4 5 6 7 8]\n"
     ]
    }
   ],
   "source": [
    "# Criar uma lista ou array\n",
    "arr_list = np.array([1,2,3,4,5,6,7,8])\n",
    "print(arr_list)"
   ]
  },
  {
   "cell_type": "code",
   "execution_count": 203,
   "id": "d23a274c",
   "metadata": {},
   "outputs": [
    {
     "name": "stdout",
     "output_type": "stream",
     "text": [
      "[[0. 0. 0. 0. 0. 0.]\n",
      " [0. 0. 0. 0. 0. 0.]\n",
      " [0. 0. 0. 0. 0. 0.]\n",
      " [0. 0. 0. 0. 0. 0.]]\n"
     ]
    }
   ],
   "source": [
    "# Criar uma matriz de 0 \n",
    "arr_zeros = np.zeros((4,6)) # qtd de linhas e colunas\n",
    "print(arr_zeros)"
   ]
  },
  {
   "cell_type": "code",
   "execution_count": 204,
   "id": "20c2be23",
   "metadata": {},
   "outputs": [
    {
     "name": "stdout",
     "output_type": "stream",
     "text": [
      "[[1. 1. 1. 1.]\n",
      " [1. 1. 1. 1.]\n",
      " [1. 1. 1. 1.]]\n"
     ]
    }
   ],
   "source": [
    "# Criar uma matriz de 1\n",
    "arr_ones = np.ones((3,4)) # qtd de linhas e colunas\n",
    "print(arr_ones)"
   ]
  },
  {
   "cell_type": "code",
   "execution_count": 205,
   "id": "ac1f9b42",
   "metadata": {},
   "outputs": [
    {
     "name": "stdout",
     "output_type": "stream",
     "text": [
      "[[0.57593965 0.46997477 0.9553416  0.07370767]\n",
      " [0.61378589 0.91619106 0.18225102 0.52437045]\n",
      " [0.78524075 0.34593716 0.82212089 0.1946417 ]]\n"
     ]
    }
   ],
   "source": [
    "# Criar uma matriz aleatoria \n",
    "arr_random = np.random.rand(3,4) # qtd de linhas e colunas\n",
    "print(arr_random)"
   ]
  },
  {
   "cell_type": "code",
   "execution_count": 206,
   "id": "b57c8959",
   "metadata": {},
   "outputs": [
    {
     "name": "stdout",
     "output_type": "stream",
     "text": [
      "(3, 4)\n"
     ]
    }
   ],
   "source": [
    "# Verificar o tipo de dimensão\n",
    "print(arr_random.shape)"
   ]
  },
  {
   "cell_type": "code",
   "execution_count": 207,
   "id": "f4433d97",
   "metadata": {},
   "outputs": [
    {
     "name": "stdout",
     "output_type": "stream",
     "text": [
      "[[0.57593965 0.46997477 0.9553416 ]\n",
      " [0.07370767 0.61378589 0.91619106]\n",
      " [0.18225102 0.52437045 0.78524075]\n",
      " [0.34593716 0.82212089 0.1946417 ]]\n"
     ]
    }
   ],
   "source": [
    "# Mudar a estrutura da matriz \n",
    "\n",
    "arr_random_reshape = arr_random.reshape((4,3))\n",
    "print(arr_random_reshape)"
   ]
  },
  {
   "cell_type": "code",
   "execution_count": 208,
   "id": "f5456284",
   "metadata": {},
   "outputs": [],
   "source": [
    "arr1 = np.array([[1,2],[3,4]])\n",
    "arr2 = np.array([[5,6],[7,8]])\n",
    "arr3 = np.array([[9,10],[11,12]])"
   ]
  },
  {
   "cell_type": "code",
   "execution_count": 209,
   "id": "00c27ec8",
   "metadata": {},
   "outputs": [
    {
     "data": {
      "text/plain": [
       "array([[ 1,  2,  5,  6,  9, 10],\n",
       "       [ 3,  4,  7,  8, 11, 12]])"
      ]
     },
     "execution_count": 209,
     "metadata": {},
     "output_type": "execute_result"
    }
   ],
   "source": [
    "# Concatenar os array\n",
    "arr4 = np.concatenate((arr1,arr2,arr3), axis=1) \n",
    "arr4"
   ]
  },
  {
   "cell_type": "code",
   "execution_count": 210,
   "id": "e066c08a",
   "metadata": {},
   "outputs": [
    {
     "name": "stdout",
     "output_type": "stream",
     "text": [
      "[array([[ 1,  2,  5,  6,  9, 10]]), array([[ 3,  4,  7,  8, 11, 12]])]\n"
     ]
    }
   ],
   "source": [
    "# Separar os dados \n",
    "arr4_split = np.split(arr4,2)\n",
    "print(arr4_split)"
   ]
  },
  {
   "cell_type": "code",
   "execution_count": 211,
   "id": "7ce33d1a",
   "metadata": {},
   "outputs": [
    {
     "name": "stdout",
     "output_type": "stream",
     "text": [
      "[[ 1  3]\n",
      " [ 2  4]\n",
      " [ 5  7]\n",
      " [ 6  8]\n",
      " [ 9 11]\n",
      " [10 12]]\n"
     ]
    }
   ],
   "source": [
    "# Transpo a matriz\n",
    "arr4_transpose= np.transpose(arr4)\n",
    "print(arr4_transpose)"
   ]
  },
  {
   "cell_type": "code",
   "execution_count": 212,
   "id": "d3974001",
   "metadata": {},
   "outputs": [
    {
     "data": {
      "text/plain": [
       "array([[ 1,  2,  5,  6,  9, 10],\n",
       "       [ 3,  4,  7,  8, 11, 12]])"
      ]
     },
     "execution_count": 212,
     "metadata": {},
     "output_type": "execute_result"
    }
   ],
   "source": [
    "# Voltar a matriz como era antes\n",
    "arr4_revertido = arr4_transpose.T\n",
    "arr4_revertido"
   ]
  },
  {
   "cell_type": "code",
   "execution_count": 213,
   "id": "032f944d",
   "metadata": {},
   "outputs": [
    {
     "data": {
      "text/plain": [
       "array([ 2, 12, 28])"
      ]
     },
     "execution_count": 213,
     "metadata": {},
     "output_type": "execute_result"
    }
   ],
   "source": [
    "# Criar os array\n",
    "arr_a = np.array([1,7,27])\n",
    "arr_b = np.array([1,5,1])\n",
    "\n",
    "# Somar as matrizes\n",
    "arr_a_b = np.add(arr_a , arr_b)\n",
    "arr_a_b"
   ]
  },
  {
   "cell_type": "code",
   "execution_count": 214,
   "id": "affad220",
   "metadata": {},
   "outputs": [
    {
     "data": {
      "text/plain": [
       "array([ 0,  2, 26])"
      ]
     },
     "execution_count": 214,
     "metadata": {},
     "output_type": "execute_result"
    }
   ],
   "source": [
    "# Subtrair as matrizes\n",
    "arr_sub_a_b = np.subtract(arr_a,arr_b)\n",
    "arr_sub_a_b"
   ]
  },
  {
   "cell_type": "code",
   "execution_count": 215,
   "id": "6e1c5473",
   "metadata": {},
   "outputs": [
    {
     "name": "stdout",
     "output_type": "stream",
     "text": [
      "<class 'pandas.core.frame.DataFrame'>\n",
      "RangeIndex: 2741 entries, 0 to 2740\n",
      "Data columns (total 7 columns):\n",
      " #   Column            Non-Null Count  Dtype         \n",
      "---  ------            --------------  -----         \n",
      " 0   Date              2741 non-null   datetime64[ns]\n",
      " 1   Unit              2741 non-null   object        \n",
      " 2   Minimum           2741 non-null   int64         \n",
      " 3   Maximum           2741 non-null   int64         \n",
      " 4   Average           2741 non-null   float64       \n",
      " 5   Market            2741 non-null   object        \n",
      " 6   categoria_tomate  2741 non-null   object        \n",
      "dtypes: datetime64[ns](1), float64(1), int64(2), object(3)\n",
      "memory usage: 150.0+ KB\n"
     ]
    }
   ],
   "source": [
    "# Converter para date \n",
    "df_tomato = df_csv.copy()\n",
    "df_tomato[\"Date\"] = pd.to_datetime(df_tomato[\"Date\"])\n",
    "df_tomato.info()"
   ]
  },
  {
   "cell_type": "code",
   "execution_count": 238,
   "id": "ab54428d",
   "metadata": {},
   "outputs": [
    {
     "data": {
      "image/png": "[encoded data removed]",
      "text/plain": [
       "<Figure size 2000x500 with 1 Axes>"
      ]
     },
     "metadata": {},
     "output_type": "display_data"
    }
   ],
   "source": [
    "plt.figure(figsize=(20,5)) # Tamanho do grafico\n",
    "plt.plot(df_tomato[\"Date\"],df_tomato[\"Average\"]) # informado o eixo x e y para plotar o grafico \n",
    "plt.xlabel(\"Data\") # Nome do eixo x \n",
    "plt.ylabel(\"Média em kg de tomates\") # Nome do eixo y\n",
    "plt.title(\"Média de tomates ao longo do tempo\") # Titulo do grafico\n",
    "plt.show()"
   ]
  }
 ],
 "metadata": {
  "kernelspec": {
   "display_name": "base",
   "language": "python",
   "name": "python3"
  },
  "language_info": {
   "codemirror_mode": {
    "name": "ipython",
    "version": 3
   },
   "file_extension": ".py",
   "mimetype": "text/x-python",
   "name": "python",
   "nbconvert_exporter": "python",
   "pygments_lexer": "ipython3",
   "version": "3.12.7"
  }
 },
 "nbformat": 4,
 "nbformat_minor": 5
}
