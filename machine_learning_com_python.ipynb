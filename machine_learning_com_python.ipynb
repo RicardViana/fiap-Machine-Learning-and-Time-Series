{
 "cells": [
  {
   "cell_type": "markdown",
   "id": "9b58e9e5",
   "metadata": {},
   "source": [
    "#### Fase 2 | Aula 1 - Machine Learning com Python"
   ]
  },
  {
   "cell_type": "markdown",
   "id": "4fde4324",
   "metadata": {},
   "source": [
    "##### Links do material conteudo\n",
    "**Tomato**  \n",
    "https://github.com/FIAP/Pos_Tech_DTAT/blob/61a634996879d5c1384af6f567e29659ad68b727/Aula%2002/Base%20de%20Dados/Tomato.csv\n",
    "\n",
    "**Chess**  \n",
    "https://github.com/FIAP/Pos_Tech_DTAT/blob/61a634996879d5c1384af6f567e29659ad68b727/Aula%2002/Base%20de%20Dados/Chess.xlsx"
   ]
  },
  {
   "cell_type": "markdown",
   "id": "aa0795db",
   "metadata": {},
   "source": [
    "##### Importação de pacotes, bibliotecas"
   ]
  },
  {
   "cell_type": "code",
   "execution_count": 12,
   "id": "c4429920",
   "metadata": {},
   "outputs": [],
   "source": [
    "# Importar biblioteca completa\n",
    "import pandas as pd \n",
    "\n",
    "# Importar função especifica de um módulo"
   ]
  },
  {
   "cell_type": "markdown",
   "id": "cc3f9d89",
   "metadata": {},
   "source": [
    "##### Aula 1 - Bibliotecas Fundamentais e Primeiros Passos em ML"
   ]
  },
  {
   "cell_type": "code",
   "execution_count": null,
   "id": "afa41fb2",
   "metadata": {},
   "outputs": [],
   "source": [
    "df_excel = pd.read_excel(\"https://github.com/FIAP/Pos_Tech_DTAT/raw/61a634996879d5c1384af6f567e29659ad68b727/Aula%2002/Base%20de%20Dados/Chess.xlsx\",sheet_name=\"Chess\" )"
   ]
  },
  {
   "cell_type": "code",
   "execution_count": null,
   "id": "498d2264",
   "metadata": {},
   "outputs": [],
   "source": [
    "df_csv = pd.read_csv(\"https://raw.githubusercontent.com/FIAP/Pos_Tech_DTAT/61a634996879d5c1384af6f567e29659ad68b727/Aula%2002/Base%20de%20Dados/Tomato.csv\", sep= \",\")"
   ]
  },
  {
   "cell_type": "code",
   "execution_count": null,
   "id": "b835b5d8",
   "metadata": {},
   "outputs": [
    {
     "data": {
      "application/vnd.microsoft.datawrangler.viewer.v0+json": {
       "columns": [
        {
         "name": "index",
         "rawType": "int64",
         "type": "integer"
        },
        {
         "name": "rated",
         "rawType": "bool",
         "type": "boolean"
        },
        {
         "name": "created_at",
         "rawType": "float64",
         "type": "float"
        },
        {
         "name": "last_move_at",
         "rawType": "float64",
         "type": "float"
        },
        {
         "name": "turns",
         "rawType": "int64",
         "type": "integer"
        },
        {
         "name": "victory_status",
         "rawType": "object",
         "type": "string"
        },
        {
         "name": "winner",
         "rawType": "object",
         "type": "string"
        },
        {
         "name": "increment_code",
         "rawType": "object",
         "type": "string"
        },
        {
         "name": "white_id",
         "rawType": "object",
         "type": "string"
        },
        {
         "name": "white_rating",
         "rawType": "int64",
         "type": "integer"
        },
        {
         "name": "black_id",
         "rawType": "object",
         "type": "string"
        },
        {
         "name": "black_rating",
         "rawType": "int64",
         "type": "integer"
        },
        {
         "name": "opening_eco",
         "rawType": "object",
         "type": "string"
        },
        {
         "name": "opening_name",
         "rawType": "object",
         "type": "string"
        },
        {
         "name": "opening_ply",
         "rawType": "int64",
         "type": "integer"
        }
       ],
       "ref": "96e17cbb-f655-4b06-b4d5-6703f33ddc61",
       "rows": [
        [
         "0",
         "False",
         "1.50421e+17",
         "1.50421e+17",
         "13",
         "outoftime",
         "white",
         "15+2",
         "bourgris",
         "1500",
         "a-00",
         "1191",
         "D10",
         "Slav Defense: Exchange Variation",
         "5"
        ],
        [
         "1",
         "True",
         "1.50413e+17",
         "1.50413e+17",
         "16",
         "resign",
         "black",
         "5+10",
         "a-00",
         "1322",
         "skinnerua",
         "1261",
         "B00",
         "Nimzowitsch Defense: Kennedy Variation",
         "4"
        ],
        [
         "2",
         "True",
         "1.50413e+17",
         "1.50413e+17",
         "61",
         "mate",
         "white",
         "5+10",
         "ischia",
         "1496",
         "a-00",
         "1500",
         "C20",
         "King's Pawn Game: Leonardis Variation",
         "3"
        ],
        [
         "3",
         "True",
         "1.50411e+17",
         "1.50411e+17",
         "61",
         "mate",
         "white",
         "20+0",
         "daniamurashov",
         "1439",
         "adivanov2009",
         "1454",
         "D02",
         "Queen's Pawn Game: Zukertort Variation",
         "3"
        ],
        [
         "4",
         "True",
         "1.50403e+17",
         "1.50403e+17",
         "95",
         "mate",
         "white",
         "30+3",
         "nik221107",
         "1523",
         "adivanov2009",
         "1469",
         "C41",
         "Philidor Defense",
         "5"
        ]
       ],
       "shape": {
        "columns": 14,
        "rows": 5
       }
      },
      "text/html": [
       "<div>\n",
       "<style scoped>\n",
       "    .dataframe tbody tr th:only-of-type {\n",
       "        vertical-align: middle;\n",
       "    }\n",
       "\n",
       "    .dataframe tbody tr th {\n",
       "        vertical-align: top;\n",
       "    }\n",
       "\n",
       "    .dataframe thead th {\n",
       "        text-align: right;\n",
       "    }\n",
       "</style>\n",
       "<table border=\"1\" class=\"dataframe\">\n",
       "  <thead>\n",
       "    <tr style=\"text-align: right;\">\n",
       "      <th></th>\n",
       "      <th>rated</th>\n",
       "      <th>created_at</th>\n",
       "      <th>last_move_at</th>\n",
       "      <th>turns</th>\n",
       "      <th>victory_status</th>\n",
       "      <th>winner</th>\n",
       "      <th>increment_code</th>\n",
       "      <th>white_id</th>\n",
       "      <th>white_rating</th>\n",
       "      <th>black_id</th>\n",
       "      <th>black_rating</th>\n",
       "      <th>opening_eco</th>\n",
       "      <th>opening_name</th>\n",
       "      <th>opening_ply</th>\n",
       "    </tr>\n",
       "  </thead>\n",
       "  <tbody>\n",
       "    <tr>\n",
       "      <th>0</th>\n",
       "      <td>False</td>\n",
       "      <td>1.504210e+17</td>\n",
       "      <td>1.504210e+17</td>\n",
       "      <td>13</td>\n",
       "      <td>outoftime</td>\n",
       "      <td>white</td>\n",
       "      <td>15+2</td>\n",
       "      <td>bourgris</td>\n",
       "      <td>1500</td>\n",
       "      <td>a-00</td>\n",
       "      <td>1191</td>\n",
       "      <td>D10</td>\n",
       "      <td>Slav Defense: Exchange Variation</td>\n",
       "      <td>5</td>\n",
       "    </tr>\n",
       "    <tr>\n",
       "      <th>1</th>\n",
       "      <td>True</td>\n",
       "      <td>1.504130e+17</td>\n",
       "      <td>1.504130e+17</td>\n",
       "      <td>16</td>\n",
       "      <td>resign</td>\n",
       "      <td>black</td>\n",
       "      <td>5+10</td>\n",
       "      <td>a-00</td>\n",
       "      <td>1322</td>\n",
       "      <td>skinnerua</td>\n",
       "      <td>1261</td>\n",
       "      <td>B00</td>\n",
       "      <td>Nimzowitsch Defense: Kennedy Variation</td>\n",
       "      <td>4</td>\n",
       "    </tr>\n",
       "    <tr>\n",
       "      <th>2</th>\n",
       "      <td>True</td>\n",
       "      <td>1.504130e+17</td>\n",
       "      <td>1.504130e+17</td>\n",
       "      <td>61</td>\n",
       "      <td>mate</td>\n",
       "      <td>white</td>\n",
       "      <td>5+10</td>\n",
       "      <td>ischia</td>\n",
       "      <td>1496</td>\n",
       "      <td>a-00</td>\n",
       "      <td>1500</td>\n",
       "      <td>C20</td>\n",
       "      <td>King's Pawn Game: Leonardis Variation</td>\n",
       "      <td>3</td>\n",
       "    </tr>\n",
       "    <tr>\n",
       "      <th>3</th>\n",
       "      <td>True</td>\n",
       "      <td>1.504110e+17</td>\n",
       "      <td>1.504110e+17</td>\n",
       "      <td>61</td>\n",
       "      <td>mate</td>\n",
       "      <td>white</td>\n",
       "      <td>20+0</td>\n",
       "      <td>daniamurashov</td>\n",
       "      <td>1439</td>\n",
       "      <td>adivanov2009</td>\n",
       "      <td>1454</td>\n",
       "      <td>D02</td>\n",
       "      <td>Queen's Pawn Game: Zukertort Variation</td>\n",
       "      <td>3</td>\n",
       "    </tr>\n",
       "    <tr>\n",
       "      <th>4</th>\n",
       "      <td>True</td>\n",
       "      <td>1.504030e+17</td>\n",
       "      <td>1.504030e+17</td>\n",
       "      <td>95</td>\n",
       "      <td>mate</td>\n",
       "      <td>white</td>\n",
       "      <td>30+3</td>\n",
       "      <td>nik221107</td>\n",
       "      <td>1523</td>\n",
       "      <td>adivanov2009</td>\n",
       "      <td>1469</td>\n",
       "      <td>C41</td>\n",
       "      <td>Philidor Defense</td>\n",
       "      <td>5</td>\n",
       "    </tr>\n",
       "  </tbody>\n",
       "</table>\n",
       "</div>"
      ],
      "text/plain": [
       "   rated    created_at  last_move_at  turns victory_status winner  \\\n",
       "0  False  1.504210e+17  1.504210e+17     13      outoftime  white   \n",
       "1   True  1.504130e+17  1.504130e+17     16         resign  black   \n",
       "2   True  1.504130e+17  1.504130e+17     61           mate  white   \n",
       "3   True  1.504110e+17  1.504110e+17     61           mate  white   \n",
       "4   True  1.504030e+17  1.504030e+17     95           mate  white   \n",
       "\n",
       "  increment_code       white_id  white_rating      black_id  black_rating  \\\n",
       "0           15+2       bourgris          1500          a-00          1191   \n",
       "1           5+10           a-00          1322     skinnerua          1261   \n",
       "2           5+10         ischia          1496          a-00          1500   \n",
       "3           20+0  daniamurashov          1439  adivanov2009          1454   \n",
       "4           30+3      nik221107          1523  adivanov2009          1469   \n",
       "\n",
       "  opening_eco                            opening_name  opening_ply  \n",
       "0         D10        Slav Defense: Exchange Variation            5  \n",
       "1         B00  Nimzowitsch Defense: Kennedy Variation            4  \n",
       "2         C20   King's Pawn Game: Leonardis Variation            3  \n",
       "3         D02  Queen's Pawn Game: Zukertort Variation            3  \n",
       "4         C41                        Philidor Defense            5  "
      ]
     },
     "execution_count": 8,
     "metadata": {},
     "output_type": "execute_result"
    }
   ],
   "source": [
    "df_excel.head()"
   ]
  },
  {
   "cell_type": "code",
   "execution_count": null,
   "id": "7dff91e2",
   "metadata": {},
   "outputs": [
    {
     "data": {
      "application/vnd.microsoft.datawrangler.viewer.v0+json": {
       "columns": [
        {
         "name": "index",
         "rawType": "int64",
         "type": "integer"
        },
        {
         "name": "Date",
         "rawType": "object",
         "type": "string"
        },
        {
         "name": "Unit",
         "rawType": "object",
         "type": "string"
        },
        {
         "name": "Minimum",
         "rawType": "int64",
         "type": "integer"
        },
        {
         "name": "Maximum",
         "rawType": "int64",
         "type": "integer"
        },
        {
         "name": "Average",
         "rawType": "float64",
         "type": "float"
        },
        {
         "name": "Market",
         "rawType": "object",
         "type": "string"
        }
       ],
       "ref": "aa9f54c1-2f71-4664-af0d-0e2bf444cebb",
       "rows": [
        [
         "2736",
         "2021-05-09",
         "Kg",
         "10",
         "15",
         "12.5",
         "Tomato"
        ],
        [
         "2737",
         "2021-05-10",
         "Kg",
         "10",
         "15",
         "12.5",
         "Tomato"
        ],
        [
         "2738",
         "2021-05-11",
         "Kg",
         "10",
         "15",
         "12.5",
         "Tomato"
        ],
        [
         "2739",
         "2021-05-12",
         "Kg",
         "30",
         "35",
         "32.5",
         "Tomato"
        ],
        [
         "2740",
         "2021-05-13",
         "Kg",
         "35",
         "40",
         "37.5",
         "Tomato"
        ]
       ],
       "shape": {
        "columns": 6,
        "rows": 5
       }
      },
      "text/html": [
       "<div>\n",
       "<style scoped>\n",
       "    .dataframe tbody tr th:only-of-type {\n",
       "        vertical-align: middle;\n",
       "    }\n",
       "\n",
       "    .dataframe tbody tr th {\n",
       "        vertical-align: top;\n",
       "    }\n",
       "\n",
       "    .dataframe thead th {\n",
       "        text-align: right;\n",
       "    }\n",
       "</style>\n",
       "<table border=\"1\" class=\"dataframe\">\n",
       "  <thead>\n",
       "    <tr style=\"text-align: right;\">\n",
       "      <th></th>\n",
       "      <th>Date</th>\n",
       "      <th>Unit</th>\n",
       "      <th>Minimum</th>\n",
       "      <th>Maximum</th>\n",
       "      <th>Average</th>\n",
       "      <th>Market</th>\n",
       "    </tr>\n",
       "  </thead>\n",
       "  <tbody>\n",
       "    <tr>\n",
       "      <th>2736</th>\n",
       "      <td>2021-05-09</td>\n",
       "      <td>Kg</td>\n",
       "      <td>10</td>\n",
       "      <td>15</td>\n",
       "      <td>12.5</td>\n",
       "      <td>Tomato</td>\n",
       "    </tr>\n",
       "    <tr>\n",
       "      <th>2737</th>\n",
       "      <td>2021-05-10</td>\n",
       "      <td>Kg</td>\n",
       "      <td>10</td>\n",
       "      <td>15</td>\n",
       "      <td>12.5</td>\n",
       "      <td>Tomato</td>\n",
       "    </tr>\n",
       "    <tr>\n",
       "      <th>2738</th>\n",
       "      <td>2021-05-11</td>\n",
       "      <td>Kg</td>\n",
       "      <td>10</td>\n",
       "      <td>15</td>\n",
       "      <td>12.5</td>\n",
       "      <td>Tomato</td>\n",
       "    </tr>\n",
       "    <tr>\n",
       "      <th>2739</th>\n",
       "      <td>2021-05-12</td>\n",
       "      <td>Kg</td>\n",
       "      <td>30</td>\n",
       "      <td>35</td>\n",
       "      <td>32.5</td>\n",
       "      <td>Tomato</td>\n",
       "    </tr>\n",
       "    <tr>\n",
       "      <th>2740</th>\n",
       "      <td>2021-05-13</td>\n",
       "      <td>Kg</td>\n",
       "      <td>35</td>\n",
       "      <td>40</td>\n",
       "      <td>37.5</td>\n",
       "      <td>Tomato</td>\n",
       "    </tr>\n",
       "  </tbody>\n",
       "</table>\n",
       "</div>"
      ],
      "text/plain": [
       "            Date Unit  Minimum  Maximum  Average  Market\n",
       "2736  2021-05-09   Kg       10       15     12.5  Tomato\n",
       "2737  2021-05-10   Kg       10       15     12.5  Tomato\n",
       "2738  2021-05-11   Kg       10       15     12.5  Tomato\n",
       "2739  2021-05-12   Kg       30       35     32.5  Tomato\n",
       "2740  2021-05-13   Kg       35       40     37.5  Tomato"
      ]
     },
     "execution_count": 11,
     "metadata": {},
     "output_type": "execute_result"
    }
   ],
   "source": [
    "df_csv.tail()"
   ]
  }
 ],
 "metadata": {
  "kernelspec": {
   "display_name": "base",
   "language": "python",
   "name": "python3"
  },
  "language_info": {
   "codemirror_mode": {
    "name": "ipython",
    "version": 3
   },
   "file_extension": ".py",
   "mimetype": "text/x-python",
   "name": "python",
   "nbconvert_exporter": "python",
   "pygments_lexer": "ipython3",
   "version": "3.12.7"
  }
 },
 "nbformat": 4,
 "nbformat_minor": 5
}
