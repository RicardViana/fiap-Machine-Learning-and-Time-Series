{
 "cells": [
  {
   "cell_type": "markdown",
   "id": "89d6ca84",
   "metadata": {},
   "source": [
    "#### Análise de Séries Temporais"
   ]
  },
  {
   "cell_type": "markdown",
   "id": "dd59115f",
   "metadata": {},
   "source": [
    "#### Conteúdo - Bases e Notebook da aula"
   ]
  },
  {
   "cell_type": "markdown",
   "id": "a770d68e",
   "metadata": {},
   "source": [
    "#### Importação de pacotes, bibliotecas e funções (def)"
   ]
  },
  {
   "cell_type": "code",
   "execution_count": null,
   "id": "88de73be",
   "metadata": {},
   "outputs": [],
   "source": [
    "# Importar biblioteca completa\n",
    "import pandas as pd\n",
    "import numpy as np\n",
    "import matplotlib.pyplot as plt \n",
    "import seaborn as sns \n",
    "\n",
    "# Importar função especifica de um módulo\n",
    "from statsmodels.tsa.seasonal import seasonal_decompose"
   ]
  },
  {
   "cell_type": "markdown",
   "id": "c0692bc3",
   "metadata": {},
   "source": [
    "#### Tendencia, Sazonalidade e Residuo\n",
    "\n",
    "\n",
    "Em análise de séries temporais, entender os componentes de **tendência, sazonalidade e resíduo** é fundamental para interpretar e prever o comportamento de dados ao longo do tempo. Uma série temporal é, essencialmente, um conjunto de dados coletados em intervalos de tempo sequenciais. A decomposição desses dados em seus componentes principais nos ajuda a compreender os padrões subjacentes.\n",
    "\n",
    "Imagine o total de vendas mensais de uma sorveteria. Esse dado bruto, ao longo de vários anos, pode ser decomposto nos seguintes elementos:\n",
    "\n",
    "### 1. Tendência ($T_t$)\n",
    "\n",
    "A tendência representa o comportamento de longo prazo da série temporal. É a direção geral para a qual os dados estão se movendo, ignorando as flutuações de curto prazo. Uma tendência pode ser:\n",
    "\n",
    "* **Crescente:** Quando os valores da série aumentam ao longo do tempo. Por exemplo, o aumento gradual das vendas de uma empresa ano após ano devido ao crescimento do mercado.\n",
    "* **Decrescente:** Quando os valores da série diminuem ao longo do tempo. Um exemplo seria a diminuição do número de cartas enviadas pelos correios com a popularização do e-mail.\n",
    "* **Estável (ou Horizontal):** Quando não há uma direção clara de aumento ou queda a longo prazo.\n",
    "\n",
    "É importante notar que a tendência não precisa ser linear. Ela pode mudar de direção ao longo do tempo, como uma tendência de crescimento que se torna estável e depois decrescente.\n",
    "\n",
    "> **Exemplo na sorveteria:** Uma tendência de crescimento nas vendas anuais pode indicar que a marca está se tornando mais popular ou que a população local está aumentando.\n",
    "\n",
    "### 2. Sazonalidade ($S_t$)\n",
    "\n",
    "A sazonalidade refere-se a padrões que se repetem em intervalos de tempo fixos e conhecidos. Essas flutuações são previsíveis e estão, geralmente, associadas a fatores sazonais, como o clima, feriados ou estações do ano. A sazonalidade pode ser:\n",
    "\n",
    "* **Anual:** Padrões que se repetem todos os anos (ex: vendas de Natal).\n",
    "* **Mensal:** Padrões que ocorrem em determinados dias do mês.\n",
    "* **Semanal:** Padrões que se repetem ao longo da semana (ex: maior movimento em restaurantes nos fins de semana).\n",
    "* **Diária:** Padrões que ocorrem em certas horas do dia (ex: picos de trânsito no horário de pico).\n",
    "\n",
    "A principal característica da sazonalidade é que o período de repetição é fixo e conhecido.\n",
    "\n",
    "> **Exemplo na sorveteria:** As vendas de sorvete são muito maiores durante o verão (dezembro a março no Hemisfério Sul) e caem drasticamente no inverno. Esse padrão se repete todos os anos, caracterizando a sazonalidade.\n",
    "\n",
    "### 3. Resíduo ($R_t$ ou $\\epsilon_t$)\n",
    "\n",
    "O resíduo, também conhecido como ruído, erro ou componente aleatório, é o que sobra na série temporal após a remoção da tendência e da sazonalidade. Ele representa as flutuações irregulares e imprevisíveis nos dados. O resíduo pode ser causado por:\n",
    "\n",
    "* Eventos inesperados e não recorrentes (ex: uma promoção relâmpago que aumentou as vendas em um dia específico).\n",
    "* Variações aleatórias e naturais nos dados.\n",
    "* Erros de medição.\n",
    "\n",
    "Em um bom modelo de série temporal, o resíduo deve ser aleatório, sem nenhum padrão discernível, com média zero e variância constante. Se houver padrões no resíduo, isso indica que o modelo não capturou todas as informações importantes dos dados.\n",
    "\n",
    "> **Exemplo na sorveteria:** Um aumento repentino nas vendas em um dia de outono, que não pode ser explicado pela tendência ou sazonalidade, seria parte do resíduo. Talvez tenha sido um dia atipicamente quente e ensolarado.\n",
    "\n",
    "### Decomposição da Série Temporal\n",
    "\n",
    "A relação entre esses três componentes pode ser modelada de duas formas principais:\n",
    "\n",
    "* **Modelo Aditivo:**\n",
    "    $$\n",
    "    Y_t = T_t + S_t + R_t\n",
    "    $$\n",
    "    Neste modelo, a magnitude da sazonalidade e do resíduo não depende do nível da tendência. É adequado para séries em que as flutuações sazonais são relativamente constantes ao longo do tempo.\n",
    "\n",
    "* **Modelo Multiplicativo:**\n",
    "    $$\n",
    "    Y_t = T_t \\times S_t \\times R_t\n",
    "    $$\n",
    "    Aqui, a magnitude da sazonalidade e do resíduo é proporcional ao nível da tendência. Ou seja, as flutuações sazonais aumentam ou diminuem conforme a tendência sobe ou desce. Este modelo é frequentemente mais realista para séries econômicas e de vendas.\n",
    "\n",
    "A análise desses componentes é crucial para a construção de modelos de previsão precisos, pois permite que cada padrão seja modelado separadamente, levando a uma melhor compreensão do fenômeno observado."
   ]
  },
  {
   "cell_type": "markdown",
   "id": "3d70f28a",
   "metadata": {},
   "source": [
    "#### Aula 1 - O Problema de Time Series"
   ]
  },
  {
   "cell_type": "code",
   "execution_count": null,
   "id": "35a0aebf",
   "metadata": {},
   "outputs": [],
   "source": [
    "# Atribuir em uma variavel o link do conteudo\n",
    "df_path = \"https://raw.githubusercontent.com/carlosfab/datasets/master/electricity_consumption/Electric_Production.csv\""
   ]
  },
  {
   "cell_type": "code",
   "execution_count": 4,
   "id": "1ac8232f",
   "metadata": {},
   "outputs": [
    {
     "data": {
      "application/vnd.microsoft.datawrangler.viewer.v0+json": {
       "columns": [
        {
         "name": "index",
         "rawType": "int64",
         "type": "integer"
        },
        {
         "name": "DATE",
         "rawType": "object",
         "type": "string"
        },
        {
         "name": "Value",
         "rawType": "float64",
         "type": "float"
        }
       ],
       "ref": "d539f6d6-737e-4259-80e5-fb07c39b2cb8",
       "rows": [
        [
         "0",
         "01-01-1985",
         "72.5052"
        ],
        [
         "1",
         "02-01-1985",
         "70.672"
        ],
        [
         "2",
         "03-01-1985",
         "62.4502"
        ],
        [
         "3",
         "04-01-1985",
         "57.4714"
        ],
        [
         "4",
         "05-01-1985",
         "55.3151"
        ]
       ],
       "shape": {
        "columns": 2,
        "rows": 5
       }
      },
      "text/html": [
       "<div>\n",
       "<style scoped>\n",
       "    .dataframe tbody tr th:only-of-type {\n",
       "        vertical-align: middle;\n",
       "    }\n",
       "\n",
       "    .dataframe tbody tr th {\n",
       "        vertical-align: top;\n",
       "    }\n",
       "\n",
       "    .dataframe thead th {\n",
       "        text-align: right;\n",
       "    }\n",
       "</style>\n",
       "<table border=\"1\" class=\"dataframe\">\n",
       "  <thead>\n",
       "    <tr style=\"text-align: right;\">\n",
       "      <th></th>\n",
       "      <th>DATE</th>\n",
       "      <th>Value</th>\n",
       "    </tr>\n",
       "  </thead>\n",
       "  <tbody>\n",
       "    <tr>\n",
       "      <th>0</th>\n",
       "      <td>01-01-1985</td>\n",
       "      <td>72.5052</td>\n",
       "    </tr>\n",
       "    <tr>\n",
       "      <th>1</th>\n",
       "      <td>02-01-1985</td>\n",
       "      <td>70.6720</td>\n",
       "    </tr>\n",
       "    <tr>\n",
       "      <th>2</th>\n",
       "      <td>03-01-1985</td>\n",
       "      <td>62.4502</td>\n",
       "    </tr>\n",
       "    <tr>\n",
       "      <th>3</th>\n",
       "      <td>04-01-1985</td>\n",
       "      <td>57.4714</td>\n",
       "    </tr>\n",
       "    <tr>\n",
       "      <th>4</th>\n",
       "      <td>05-01-1985</td>\n",
       "      <td>55.3151</td>\n",
       "    </tr>\n",
       "  </tbody>\n",
       "</table>\n",
       "</div>"
      ],
      "text/plain": [
       "         DATE    Value\n",
       "0  01-01-1985  72.5052\n",
       "1  02-01-1985  70.6720\n",
       "2  03-01-1985  62.4502\n",
       "3  04-01-1985  57.4714\n",
       "4  05-01-1985  55.3151"
      ]
     },
     "execution_count": 4,
     "metadata": {},
     "output_type": "execute_result"
    }
   ],
   "source": [
    "# Gerar o data frame \n",
    "df = pd.read_csv(df_path)\n",
    "\n",
    "# Ver o data frame\n",
    "df.head()"
   ]
  },
  {
   "cell_type": "code",
   "execution_count": null,
   "id": "41356ef3",
   "metadata": {},
   "outputs": [
    {
     "name": "stdout",
     "output_type": "stream",
     "text": [
      "<class 'pandas.core.frame.DataFrame'>\n",
      "RangeIndex: 397 entries, 0 to 396\n",
      "Data columns (total 2 columns):\n",
      " #   Column  Non-Null Count  Dtype  \n",
      "---  ------  --------------  -----  \n",
      " 0   DATE    397 non-null    object \n",
      " 1   Value   397 non-null    float64\n",
      "dtypes: float64(1), object(1)\n",
      "memory usage: 6.3+ KB\n"
     ]
    }
   ],
   "source": [
    "# Ver as info do data frame \n",
    "# O campo DATE esta no formato object e precisa ser data\n",
    "\n",
    "df.info()"
   ]
  },
  {
   "cell_type": "code",
   "execution_count": null,
   "id": "407eb1c1",
   "metadata": {},
   "outputs": [],
   "source": [
    "# Criar uma nova coluna no formato de data \n",
    "\n",
    "df.index = pd.to_datetime(df.DATE, format = \"%m-%d-%Y\")"
   ]
  },
  {
   "cell_type": "code",
   "execution_count": null,
   "id": "73e236bc",
   "metadata": {},
   "outputs": [],
   "source": [
    "# Dropar a coluna date\n",
    "\n",
    "df.drop(\"DATE\", inplace=True, axis=1)"
   ]
  },
  {
   "cell_type": "code",
   "execution_count": null,
   "id": "6ea276bd",
   "metadata": {},
   "outputs": [
    {
     "data": {
      "application/vnd.microsoft.datawrangler.viewer.v0+json": {
       "columns": [
        {
         "name": "DATE",
         "rawType": "datetime64[ns]",
         "type": "datetime"
        },
        {
         "name": "Value",
         "rawType": "float64",
         "type": "float"
        }
       ],
       "ref": "a56c4079-4d01-461d-9caa-238328aed9a8",
       "rows": [
        [
         "1985-01-01 00:00:00",
         "72.5052"
        ],
        [
         "1985-02-01 00:00:00",
         "70.672"
        ],
        [
         "1985-03-01 00:00:00",
         "62.4502"
        ],
        [
         "1985-04-01 00:00:00",
         "57.4714"
        ],
        [
         "1985-05-01 00:00:00",
         "55.3151"
        ]
       ],
       "shape": {
        "columns": 1,
        "rows": 5
       }
      },
      "text/html": [
       "<div>\n",
       "<style scoped>\n",
       "    .dataframe tbody tr th:only-of-type {\n",
       "        vertical-align: middle;\n",
       "    }\n",
       "\n",
       "    .dataframe tbody tr th {\n",
       "        vertical-align: top;\n",
       "    }\n",
       "\n",
       "    .dataframe thead th {\n",
       "        text-align: right;\n",
       "    }\n",
       "</style>\n",
       "<table border=\"1\" class=\"dataframe\">\n",
       "  <thead>\n",
       "    <tr style=\"text-align: right;\">\n",
       "      <th></th>\n",
       "      <th>Value</th>\n",
       "    </tr>\n",
       "    <tr>\n",
       "      <th>DATE</th>\n",
       "      <th></th>\n",
       "    </tr>\n",
       "  </thead>\n",
       "  <tbody>\n",
       "    <tr>\n",
       "      <th>1985-01-01</th>\n",
       "      <td>72.5052</td>\n",
       "    </tr>\n",
       "    <tr>\n",
       "      <th>1985-02-01</th>\n",
       "      <td>70.6720</td>\n",
       "    </tr>\n",
       "    <tr>\n",
       "      <th>1985-03-01</th>\n",
       "      <td>62.4502</td>\n",
       "    </tr>\n",
       "    <tr>\n",
       "      <th>1985-04-01</th>\n",
       "      <td>57.4714</td>\n",
       "    </tr>\n",
       "    <tr>\n",
       "      <th>1985-05-01</th>\n",
       "      <td>55.3151</td>\n",
       "    </tr>\n",
       "  </tbody>\n",
       "</table>\n",
       "</div>"
      ],
      "text/plain": [
       "              Value\n",
       "DATE               \n",
       "1985-01-01  72.5052\n",
       "1985-02-01  70.6720\n",
       "1985-03-01  62.4502\n",
       "1985-04-01  57.4714\n",
       "1985-05-01  55.3151"
      ]
     },
     "execution_count": 13,
     "metadata": {},
     "output_type": "execute_result"
    }
   ],
   "source": [
    "# Ver como ficou os dados \n",
    "\n",
    "df.head()"
   ]
  },
  {
   "cell_type": "code",
   "execution_count": 18,
   "id": "c336a732",
   "metadata": {},
   "outputs": [
    {
     "data": {
      "application/vnd.microsoft.datawrangler.viewer.v0+json": {
       "columns": [
        {
         "name": "index",
         "rawType": "object",
         "type": "string"
        },
        {
         "name": "1985-05-01 00:00:00",
         "rawType": "float64",
         "type": "float"
        }
       ],
       "ref": "68096dd8-5bfb-4616-a22e-3ca6e0c654d8",
       "rows": [
        [
         "Value",
         "55.3151"
        ]
       ],
       "shape": {
        "columns": 1,
        "rows": 1
       }
      },
      "text/plain": [
       "Value    55.3151\n",
       "Name: 1985-05-01 00:00:00, dtype: float64"
      ]
     },
     "execution_count": 18,
     "metadata": {},
     "output_type": "execute_result"
    }
   ],
   "source": [
    "df.loc['1985-05-01']"
   ]
  },
  {
   "cell_type": "markdown",
   "id": "a8f0f9b0",
   "metadata": {},
   "source": [
    "#### Aula 2 - Utilizando Datas como Índice"
   ]
  },
  {
   "cell_type": "markdown",
   "id": "b21350bf",
   "metadata": {},
   "source": [
    "#### Aula 3 - Bibliotecas Fundamentais em Time Series Problem"
   ]
  },
  {
   "cell_type": "markdown",
   "id": "7094e389",
   "metadata": {},
   "source": [
    "#### Aula 4 - Análise Exploratória de Dados (EDA)"
   ]
  },
  {
   "cell_type": "markdown",
   "id": "a967f107",
   "metadata": {},
   "source": [
    "#### Aula 5 - Modelando e Realizando o Forecasting"
   ]
  }
 ],
 "metadata": {
  "kernelspec": {
   "display_name": "base",
   "language": "python",
   "name": "python3"
  },
  "language_info": {
   "codemirror_mode": {
    "name": "ipython",
    "version": 3
   },
   "file_extension": ".py",
   "mimetype": "text/x-python",
   "name": "python",
   "nbconvert_exporter": "python",
   "pygments_lexer": "ipython3",
   "version": "3.12.3"
  }
 },
 "nbformat": 4,
 "nbformat_minor": 5
}
