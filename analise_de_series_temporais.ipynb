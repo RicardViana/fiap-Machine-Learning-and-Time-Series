{
 "cells": [
  {
   "cell_type": "markdown",
   "id": "89d6ca84",
   "metadata": {},
   "source": [
    "#### Análise de Séries Temporais"
   ]
  },
  {
   "cell_type": "markdown",
   "id": "dd59115f",
   "metadata": {},
   "source": [
    "#### Conteúdo - Bases e Notebook da aula"
   ]
  },
  {
   "cell_type": "markdown",
   "id": "a770d68e",
   "metadata": {},
   "source": [
    "#### Importação de pacotes, bibliotecas e funções (def)"
   ]
  },
  {
   "cell_type": "markdown",
   "id": "3d70f28a",
   "metadata": {},
   "source": [
    "#### Aula 1 - O Problema de Time Series"
   ]
  },
  {
   "cell_type": "markdown",
   "id": "a8f0f9b0",
   "metadata": {},
   "source": [
    "#### Aula 2 - Utilizando Datas como Índice"
   ]
  },
  {
   "cell_type": "markdown",
   "id": "b21350bf",
   "metadata": {},
   "source": [
    "#### Aula 3 - Bibliotecas Fundamentais em Time Series Problem"
   ]
  },
  {
   "cell_type": "markdown",
   "id": "7094e389",
   "metadata": {},
   "source": [
    "#### Aula 4 - Análise Exploratória de Dados (EDA)"
   ]
  },
  {
   "cell_type": "markdown",
   "id": "a967f107",
   "metadata": {},
   "source": [
    "#### Aula 5 - Modelando e Realizando o Forecasting"
   ]
  }
 ],
 "metadata": {
  "language_info": {
   "name": "python"
  }
 },
 "nbformat": 4,
 "nbformat_minor": 5
}
