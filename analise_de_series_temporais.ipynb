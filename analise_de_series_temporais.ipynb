{
 "cells": [
  {
   "cell_type": "markdown",
   "id": "89d6ca84",
   "metadata": {},
   "source": [
    "#### Análise de Séries Temporais"
   ]
  },
  {
   "cell_type": "markdown",
   "id": "dd59115f",
   "metadata": {},
   "source": [
    "#### Conteúdo - Bases e Notebook da aula"
   ]
  },
  {
   "cell_type": "markdown",
   "id": "a770d68e",
   "metadata": {},
   "source": [
    "#### Importação de pacotes, bibliotecas e funções (def)"
   ]
  },
  {
   "cell_type": "code",
   "execution_count": null,
   "id": "88de73be",
   "metadata": {},
   "outputs": [],
   "source": [
    "# Importar biblioteca completa\n",
    "import pandas as pd\n",
    "import numpy as np\n",
    "import matplotlib.pyplot as plt \n",
    "import seaborn as sns \n",
    "\n",
    "# Importar função especifica de um módulo\n",
    "from statsmodels.tsa.seasonal import seasonal_decompose"
   ]
  },
  {
   "cell_type": "markdown",
   "id": "3d70f28a",
   "metadata": {},
   "source": [
    "#### Aula 1 - O Problema de Time Series"
   ]
  },
  {
   "cell_type": "markdown",
   "id": "a8f0f9b0",
   "metadata": {},
   "source": [
    "#### Aula 2 - Utilizando Datas como Índice"
   ]
  },
  {
   "cell_type": "markdown",
   "id": "b21350bf",
   "metadata": {},
   "source": [
    "#### Aula 3 - Bibliotecas Fundamentais em Time Series Problem"
   ]
  },
  {
   "cell_type": "markdown",
   "id": "7094e389",
   "metadata": {},
   "source": [
    "#### Aula 4 - Análise Exploratória de Dados (EDA)"
   ]
  },
  {
   "cell_type": "markdown",
   "id": "a967f107",
   "metadata": {},
   "source": [
    "#### Aula 5 - Modelando e Realizando o Forecasting"
   ]
  }
 ],
 "metadata": {
  "kernelspec": {
   "display_name": "base",
   "language": "python",
   "name": "python3"
  },
  "language_info": {
   "codemirror_mode": {
    "name": "ipython",
    "version": 3
   },
   "file_extension": ".py",
   "mimetype": "text/x-python",
   "name": "python",
   "nbconvert_exporter": "python",
   "pygments_lexer": "ipython3",
   "version": "3.12.3"
  }
 },
 "nbformat": 4,
 "nbformat_minor": 5
}
