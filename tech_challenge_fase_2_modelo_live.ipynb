{
 "cells": [
  {
   "cell_type": "markdown",
   "id": "1928e801",
   "metadata": {},
   "source": [
    "#### Tech Challenge - Fase 2 - Machine Learning and Time Series"
   ]
  },
  {
   "cell_type": "markdown",
   "id": "688ff897",
   "metadata": {},
   "source": [
    "#### O problema \n",
    "\n",
    "Desenvolver um modelo preditivo capaz de prever se o índice IBOVESPA vai fechar em alta ou baixa no dia seguinte, com base em dados históricos do próprio índice"
   ]
  },
  {
   "cell_type": "markdown",
   "id": "36873844",
   "metadata": {},
   "source": [
    "#### O que é o índice Ibovespa \n",
    "\n",
    "É o principal indicador de desempenho das ações negociadas na B3 e reúne as empresas mais importantes do mercado de capitais brasileiro. Foi criado em 1968 e, ao longo desses 50 anos, consolidou-se como referência para investidores ao redor do mundo.\n",
    "\n",
    "\n",
    "https://pt.wikipedia.org/wiki/Ibovespa\n",
    "\n",
    "https://www.b3.com.br/pt_br/market-data-e-indices/indices/indices-amplos/ibovespa.htm"
   ]
  },
  {
   "cell_type": "markdown",
   "id": "60ab9845",
   "metadata": {},
   "source": [
    "#### Fonte de dados \n",
    "\n",
    "Dados históricos do índice IBOVESPA disponíveis publicamente no link https://br.investing.com/indices/bovespa-historical-data e importando para o seguinte repositorio do Github https://github.com/RicardViana/fiap-Machine-Learning-and-Time-Series/blob/main/Dados%20Hist%C3%B3ricos%20Ibovespa.csv"
   ]
  },
  {
   "cell_type": "markdown",
   "id": "1005da58",
   "metadata": {},
   "source": [
    "#### Dicionário de dados\n",
    "\n",
    "\n",
    "| Nome da Coluna | Descrição | Tipo de Dado |\n",
    "| :--- | :--- | :--- |\n",
    "| `Data` | A data da observação, no formato \"DD/MM/AAAA\". | Texto (object) |\n",
    "| `Ultimo` | O preço de fechamento do Ibovespa no dia. | Numérico (float64) |\n",
    "| `Abertura` | O preço de abertura do Ibovespa no dia. | Numérico (float64) |\n",
    "| `Maxima` | O preço máximo atingido pelo Ibovespa no dia. | Numérico (float64) |\n",
    "| `Minima` | O preço mínimo atingido pelo Ibovespa no dia. | Numérico (float64) |\n",
    "| `Volume` | O volume de negociações do dia. Os valores são representados em texto com sufixos (ex: \"B\" para bilhões, \"M\" para milhões). | Texto (object) |\n",
    "| `Variacao` | A variação percentual do Ibovespa no dia. | Texto (object) |"
   ]
  },
  {
   "attachments": {
    "image.png": {
     "image/png": "[encoded data removed]"
    }
   },
   "cell_type": "markdown",
   "id": "2eab2110",
   "metadata": {},
   "source": [
    "#### Objetivo\n",
    "\n",
    "Criar um modelo que preveja se o fechamento do IBOVESPA do dia seguinte será maior ou menor que o do dia atual, ou seja:\n",
    "\n",
    "![image.png](attachment:image.png)\n",
    "\n",
    "Onde deve prever a tendência (↑ ou ↓) com acuracidade mínima de 75% em um conjunto de teste, esse que contera o último mês (30 dias) de dados disponíveis"
   ]
  },
  {
   "cell_type": "markdown",
   "id": "783c919e",
   "metadata": {},
   "source": [
    "#### Desenvolvimento"
   ]
  },
  {
   "cell_type": "markdown",
   "id": "69619e2c",
   "metadata": {},
   "source": [
    "##### Importação de bibliotecas e pacotes"
   ]
  },
  {
   "cell_type": "code",
   "execution_count": 1,
   "id": "9908a652",
   "metadata": {},
   "outputs": [],
   "source": [
    "# Importar biblioteca completa\n",
    "import pandas as pd \n",
    "import matplotlib.pyplot as plt\n",
    "import seaborn as sns\n",
    "import yfinance as yf\n",
    "import calendar\n",
    "import numpy as np\n",
    "\n",
    "# Importar função especifica de um módulo\n",
    "from statsmodels.tsa.seasonal import seasonal_decompose # --> Gerar a decomposição dos dados\n",
    "from sklearn.preprocessing import StandardScaler # --> Normalizar os dados\n",
    "from datetime import date\n",
    "\n",
    "# Importar função especifica de um módulo --> Modelos de ML\n",
    "from sklearn.ensemble import RandomForestClassifier # --> Modelo de ML Random Forest\n",
    "from sklearn.linear_model import LogisticRegression # --> Modelo de ML Regressão Logistica \n",
    "from xgboost import XGBClassifier # --> Modelo de ML XGBoost\n",
    "\n",
    "# Importar função especifica de um módulo --> Metricas para analisar o modelo  \n",
    "from sklearn.metrics import classification_report, confusion_matrix, roc_curve, roc_auc_score\n",
    "\n",
    "# Importar função especifica de um módulo --> Melhores hiperparametros \n",
    "from sklearn.model_selection import GridSearchCV, RandomizedSearchCV, TimeSeriesSplit\n",
    "from sklearn.pipeline import Pipeline\n",
    "\n",
    "# Outros import\n",
    "import ipywidgets as widgets\n",
    "from IPython.display import display"
   ]
  },
  {
   "cell_type": "markdown",
   "id": "08ff9e7c",
   "metadata": {},
   "source": [
    "##### Criação de funções (DEF)"
   ]
  },
  {
   "cell_type": "code",
   "execution_count": 2,
   "id": "45d4adde",
   "metadata": {},
   "outputs": [],
   "source": [
    "# Função para gerar a matriz de confusão e a curva roc\n",
    "\n",
    "def analisar_modelo_selecionado(nome_modelo, modelos_avaliados, y_test, x_test_scaled):\n",
    "    \n",
    "    # Salvar o modelo e a previsão em suas respectivas variaveis\n",
    "    modelo_selecionado = modelos_avaliados[nome_modelo][\"modelo\"]\n",
    "    previsoes_selecionadas = modelos_avaliados[nome_modelo][\"previsoes\"]\n",
    "\n",
    "    print(f\"Análise Detalhada para o Modelo: {nome_modelo}\")\n",
    "    \n",
    "    # Gerar o gráfico de Matriz de Confusão\n",
    "    cm = confusion_matrix(y_test, previsoes_selecionadas)\n",
    "    plt.figure(figsize=(14, 6))\n",
    "    plt.subplot(1, 2, 1)\n",
    "    \n",
    "    sns.heatmap(cm, annot=True, fmt='d', cmap='Blues', \n",
    "                xticklabels=['Previsto Negativo', 'Previsto Positivo'], \n",
    "                yticklabels=['Real Negativo', 'Real Positivo'])\n",
    "    plt.title(f'Matriz de Confusão - {nome_modelo}', fontsize=14)\n",
    "    plt.ylabel('Valor Real')\n",
    "    plt.xlabel('Valor Previsto')\n",
    "\n",
    "    # Gerar o gráfico de Curva ROC e AUC\n",
    "    # IF por com do modelo SVM pois ele não tem o predict_proba\n",
    "\n",
    "    if hasattr(modelo_selecionado, \"predict_proba\"):\n",
    "        y_pred_proba = modelo_selecionado.predict_proba(x_test_scaled)[:, 1]\n",
    "        auc = roc_auc_score(y_test, y_pred_proba)\n",
    "        fpr, tpr, _ = roc_curve(y_test, y_pred_proba)\n",
    "\n",
    "        plt.subplot(1, 2, 2) # Cria um subplot na posição 2\n",
    "        plt.plot(fpr, tpr, label=f'Curva ROC (AUC = {auc:.4f})')\n",
    "        plt.plot([0, 1], [0, 1], color='red', linestyle='--', label='Classificador Aleatório')\n",
    "        plt.xlabel('Taxa de Falsos Positivos (FPR)')\n",
    "        plt.ylabel('Taxa de Verdadeiros Positivos (TPR)')\n",
    "        plt.title(f'Curva ROC - {nome_modelo}', fontsize=14)\n",
    "        plt.legend()\n",
    "        plt.grid()\n",
    "\n",
    "    else:\n",
    "        plt.subplot(1, 2, 2)\n",
    "        plt.text(0.5, 0.5, 'Curva ROC não disponível\\npara este modelo (ex: SVM sem probabilidade).', \n",
    "                 ha='center', va='center', fontsize=12)\n",
    "        plt.title(f'Curva ROC - {nome_modelo}', fontsize=14)\n",
    "        plt.gca().set_axis_off()\n",
    "\n",
    "    plt.tight_layout()\n",
    "    plt.show()"
   ]
  },
  {
   "cell_type": "code",
   "execution_count": 3,
   "id": "0a0725fe",
   "metadata": {},
   "outputs": [],
   "source": [
    "# Função para criar os lags \n",
    "\n",
    "def criar_n_lags(df, n_lags, column):\n",
    "    for i in range(1, n_lags + 1):\n",
    "        df[f\"{column}_lag{i}\"] = df[column].shift(i)\n",
    "    return df"
   ]
  },
  {
   "cell_type": "markdown",
   "id": "80b08bfd",
   "metadata": {},
   "source": [
    "##### Análise Exploratória de Dados (EDA)"
   ]
  },
  {
   "cell_type": "code",
   "execution_count": 4,
   "id": "767cebda",
   "metadata": {},
   "outputs": [
    {
     "name": "stdout",
     "output_type": "stream",
     "text": [
      "Primeiros dados\n"
     ]
    },
    {
     "data": {
      "application/vnd.microsoft.datawrangler.viewer.v0+json": {
       "columns": [
        {
         "name": "Date",
         "rawType": "datetime64[ns]",
         "type": "datetime"
        },
        {
         "name": "Close",
         "rawType": "float64",
         "type": "float"
        },
        {
         "name": "High",
         "rawType": "float64",
         "type": "float"
        },
        {
         "name": "Low",
         "rawType": "float64",
         "type": "float"
        },
        {
         "name": "Open",
         "rawType": "float64",
         "type": "float"
        },
        {
         "name": "Volume",
         "rawType": "int64",
         "type": "integer"
        }
       ],
       "ref": "df715e4c-0e85-4a81-a19c-16b15de3199d",
       "rows": [
        [
         "1993-04-27 00:00:00",
         "24.5",
         "25.399999618530273",
         "24.5",
         "24.799999237060547",
         "0"
        ],
        [
         "1993-04-28 00:00:00",
         "24.299999237060547",
         "24.600000381469727",
         "23.700000762939453",
         "24.5",
         "0"
        ],
        [
         "1993-04-29 00:00:00",
         "23.700000762939453",
         "24.799999237060547",
         "23.700000762939453",
         "24.299999237060547",
         "0"
        ],
        [
         "1993-04-30 00:00:00",
         "24.100000381469727",
         "24.200000762939453",
         "23.700000762939453",
         "23.700000762939453",
         "0"
        ],
        [
         "1993-05-03 00:00:00",
         "24.100000381469727",
         "24.399999618530273",
         "23.799999237060547",
         "24.100000381469727",
         "0"
        ]
       ],
       "shape": {
        "columns": 5,
        "rows": 5
       }
      },
      "text/html": [
       "<div>\n",
       "<style scoped>\n",
       "    .dataframe tbody tr th:only-of-type {\n",
       "        vertical-align: middle;\n",
       "    }\n",
       "\n",
       "    .dataframe tbody tr th {\n",
       "        vertical-align: top;\n",
       "    }\n",
       "\n",
       "    .dataframe thead th {\n",
       "        text-align: right;\n",
       "    }\n",
       "</style>\n",
       "<table border=\"1\" class=\"dataframe\">\n",
       "  <thead>\n",
       "    <tr style=\"text-align: right;\">\n",
       "      <th></th>\n",
       "      <th>Close</th>\n",
       "      <th>High</th>\n",
       "      <th>Low</th>\n",
       "      <th>Open</th>\n",
       "      <th>Volume</th>\n",
       "    </tr>\n",
       "    <tr>\n",
       "      <th>Date</th>\n",
       "      <th></th>\n",
       "      <th></th>\n",
       "      <th></th>\n",
       "      <th></th>\n",
       "      <th></th>\n",
       "    </tr>\n",
       "  </thead>\n",
       "  <tbody>\n",
       "    <tr>\n",
       "      <th>1993-04-27</th>\n",
       "      <td>24.500000</td>\n",
       "      <td>25.400000</td>\n",
       "      <td>24.500000</td>\n",
       "      <td>24.799999</td>\n",
       "      <td>0</td>\n",
       "    </tr>\n",
       "    <tr>\n",
       "      <th>1993-04-28</th>\n",
       "      <td>24.299999</td>\n",
       "      <td>24.600000</td>\n",
       "      <td>23.700001</td>\n",
       "      <td>24.500000</td>\n",
       "      <td>0</td>\n",
       "    </tr>\n",
       "    <tr>\n",
       "      <th>1993-04-29</th>\n",
       "      <td>23.700001</td>\n",
       "      <td>24.799999</td>\n",
       "      <td>23.700001</td>\n",
       "      <td>24.299999</td>\n",
       "      <td>0</td>\n",
       "    </tr>\n",
       "    <tr>\n",
       "      <th>1993-04-30</th>\n",
       "      <td>24.100000</td>\n",
       "      <td>24.200001</td>\n",
       "      <td>23.700001</td>\n",
       "      <td>23.700001</td>\n",
       "      <td>0</td>\n",
       "    </tr>\n",
       "    <tr>\n",
       "      <th>1993-05-03</th>\n",
       "      <td>24.100000</td>\n",
       "      <td>24.400000</td>\n",
       "      <td>23.799999</td>\n",
       "      <td>24.100000</td>\n",
       "      <td>0</td>\n",
       "    </tr>\n",
       "  </tbody>\n",
       "</table>\n",
       "</div>"
      ],
      "text/plain": [
       "                Close       High        Low       Open  Volume\n",
       "Date                                                          \n",
       "1993-04-27  24.500000  25.400000  24.500000  24.799999       0\n",
       "1993-04-28  24.299999  24.600000  23.700001  24.500000       0\n",
       "1993-04-29  23.700001  24.799999  23.700001  24.299999       0\n",
       "1993-04-30  24.100000  24.200001  23.700001  23.700001       0\n",
       "1993-05-03  24.100000  24.400000  23.799999  24.100000       0"
      ]
     },
     "metadata": {},
     "output_type": "display_data"
    },
    {
     "name": "stdout",
     "output_type": "stream",
     "text": [
      "\n",
      "Ultimos dados\n"
     ]
    },
    {
     "data": {
      "application/vnd.microsoft.datawrangler.viewer.v0+json": {
       "columns": [
        {
         "name": "Date",
         "rawType": "datetime64[ns]",
         "type": "datetime"
        },
        {
         "name": "Close",
         "rawType": "float64",
         "type": "float"
        },
        {
         "name": "High",
         "rawType": "float64",
         "type": "float"
        },
        {
         "name": "Low",
         "rawType": "float64",
         "type": "float"
        },
        {
         "name": "Open",
         "rawType": "float64",
         "type": "float"
        },
        {
         "name": "Volume",
         "rawType": "int64",
         "type": "integer"
        }
       ],
       "ref": "2f895141-d322-4f3a-ae18-9eefda01a1f5",
       "rows": [
        [
         "2025-07-21 00:00:00",
         "134167.0",
         "134865.0",
         "133367.0",
         "133382.0",
         "6726700"
        ],
        [
         "2025-07-22 00:00:00",
         "134036.0",
         "135300.0",
         "133986.0",
         "134180.0",
         "7052100"
        ],
        [
         "2025-07-23 00:00:00",
         "135368.0",
         "135782.0",
         "133676.0",
         "134036.0",
         "6527600"
        ],
        [
         "2025-07-24 00:00:00",
         "133808.0",
         "135363.0",
         "133648.0",
         "135357.0",
         "5976800"
        ],
        [
         "2025-07-25 00:00:00",
         "133524.0",
         "134204.0",
         "133285.0",
         "133820.0",
         "5560900"
        ]
       ],
       "shape": {
        "columns": 5,
        "rows": 5
       }
      },
      "text/html": [
       "<div>\n",
       "<style scoped>\n",
       "    .dataframe tbody tr th:only-of-type {\n",
       "        vertical-align: middle;\n",
       "    }\n",
       "\n",
       "    .dataframe tbody tr th {\n",
       "        vertical-align: top;\n",
       "    }\n",
       "\n",
       "    .dataframe thead th {\n",
       "        text-align: right;\n",
       "    }\n",
       "</style>\n",
       "<table border=\"1\" class=\"dataframe\">\n",
       "  <thead>\n",
       "    <tr style=\"text-align: right;\">\n",
       "      <th></th>\n",
       "      <th>Close</th>\n",
       "      <th>High</th>\n",
       "      <th>Low</th>\n",
       "      <th>Open</th>\n",
       "      <th>Volume</th>\n",
       "    </tr>\n",
       "    <tr>\n",
       "      <th>Date</th>\n",
       "      <th></th>\n",
       "      <th></th>\n",
       "      <th></th>\n",
       "      <th></th>\n",
       "      <th></th>\n",
       "    </tr>\n",
       "  </thead>\n",
       "  <tbody>\n",
       "    <tr>\n",
       "      <th>2025-07-21</th>\n",
       "      <td>134167.0</td>\n",
       "      <td>134865.0</td>\n",
       "      <td>133367.0</td>\n",
       "      <td>133382.0</td>\n",
       "      <td>6726700</td>\n",
       "    </tr>\n",
       "    <tr>\n",
       "      <th>2025-07-22</th>\n",
       "      <td>134036.0</td>\n",
       "      <td>135300.0</td>\n",
       "      <td>133986.0</td>\n",
       "      <td>134180.0</td>\n",
       "      <td>7052100</td>\n",
       "    </tr>\n",
       "    <tr>\n",
       "      <th>2025-07-23</th>\n",
       "      <td>135368.0</td>\n",
       "      <td>135782.0</td>\n",
       "      <td>133676.0</td>\n",
       "      <td>134036.0</td>\n",
       "      <td>6527600</td>\n",
       "    </tr>\n",
       "    <tr>\n",
       "      <th>2025-07-24</th>\n",
       "      <td>133808.0</td>\n",
       "      <td>135363.0</td>\n",
       "      <td>133648.0</td>\n",
       "      <td>135357.0</td>\n",
       "      <td>5976800</td>\n",
       "    </tr>\n",
       "    <tr>\n",
       "      <th>2025-07-25</th>\n",
       "      <td>133524.0</td>\n",
       "      <td>134204.0</td>\n",
       "      <td>133285.0</td>\n",
       "      <td>133820.0</td>\n",
       "      <td>5560900</td>\n",
       "    </tr>\n",
       "  </tbody>\n",
       "</table>\n",
       "</div>"
      ],
      "text/plain": [
       "               Close      High       Low      Open   Volume\n",
       "Date                                                       \n",
       "2025-07-21  134167.0  134865.0  133367.0  133382.0  6726700\n",
       "2025-07-22  134036.0  135300.0  133986.0  134180.0  7052100\n",
       "2025-07-23  135368.0  135782.0  133676.0  134036.0  6527600\n",
       "2025-07-24  133808.0  135363.0  133648.0  135357.0  5976800\n",
       "2025-07-25  133524.0  134204.0  133285.0  133820.0  5560900"
      ]
     },
     "metadata": {},
     "output_type": "display_data"
    }
   ],
   "source": [
    "\"\"\"\n",
    "\n",
    "Com sugestão do colega da pós Tiago Turra existe uma biblioteca chamada yfinance (https://pypi.org/project/yfinance/) que possi os mesmo dados do site https://br.investing.com/indices/bovespa-historical-data\n",
    "\n",
    "\"\"\"\n",
    "\n",
    "# Importando os dados via yfinance apenas para referencia\n",
    "# progress --> Não gerar um print do progresso\n",
    "# auto_adjust --> corrigir o histórico de preços\n",
    "# multi_level_index --> Utilizando para evitar gerar coluna com o nome do ticket, exemplo ('Close', '^BVSP')\n",
    "\n",
    "dados_origem = yf.download('^BVSP', period=\"max\", interval=\"1d\", auto_adjust=True,  progress=False, multi_level_index=False)\n",
    "\n",
    "print(\"Primeiros dados\")\n",
    "display(dados_origem.head())\n",
    "\n",
    "print(\"\\nUltimos dados\")\n",
    "display(dados_origem.tail())"
   ]
  },
  {
   "cell_type": "code",
   "execution_count": 5,
   "id": "4a50430a",
   "metadata": {},
   "outputs": [
    {
     "name": "stdout",
     "output_type": "stream",
     "text": [
      "Data inicial é 1993-04-27 00:00:00\n",
      "Data final   é 2025-07-25 00:00:00\n"
     ]
    }
   ],
   "source": [
    "# Verificando o intervalo de data dos dados \n",
    "\n",
    "print(f\"Data inicial é {dados_origem.index.min()}\")\n",
    "print(f\"Data final   é {dados_origem.index.max()}\")"
   ]
  },
  {
   "cell_type": "code",
   "execution_count": 6,
   "id": "6611e049",
   "metadata": {},
   "outputs": [
    {
     "name": "stdout",
     "output_type": "stream",
     "text": [
      "<class 'pandas.core.frame.DataFrame'>\n",
      "DatetimeIndex: 7985 entries, 1993-04-27 to 2025-07-25\n",
      "Data columns (total 5 columns):\n",
      " #   Column  Non-Null Count  Dtype  \n",
      "---  ------  --------------  -----  \n",
      " 0   Close   7985 non-null   float64\n",
      " 1   High    7985 non-null   float64\n",
      " 2   Low     7985 non-null   float64\n",
      " 3   Open    7985 non-null   float64\n",
      " 4   Volume  7985 non-null   int64  \n",
      "dtypes: float64(4), int64(1)\n",
      "memory usage: 374.3 KB\n"
     ]
    }
   ],
   "source": [
    "# Veficiando os dados dados do data frame \n",
    "\n",
    "dados_origem.info()"
   ]
  },
  {
   "cell_type": "code",
   "execution_count": 7,
   "id": "d7021f18",
   "metadata": {},
   "outputs": [
    {
     "data": {
      "text/plain": [
       "DatetimeIndex(['1993-04-27', '1993-04-28', '1993-04-29', '1993-04-30',\n",
       "               '1993-05-03', '1993-05-04', '1993-05-05', '1993-05-06',\n",
       "               '1993-05-07', '1993-05-10',\n",
       "               ...\n",
       "               '2025-07-14', '2025-07-15', '2025-07-16', '2025-07-17',\n",
       "               '2025-07-18', '2025-07-21', '2025-07-22', '2025-07-23',\n",
       "               '2025-07-24', '2025-07-25'],\n",
       "              dtype='datetime64[ns]', name='Date', length=7985, freq=None)"
      ]
     },
     "execution_count": 7,
     "metadata": {},
     "output_type": "execute_result"
    }
   ],
   "source": [
    "# Verificando o index\n",
    "\n",
    "dados_origem.index"
   ]
  },
  {
   "cell_type": "code",
   "execution_count": 8,
   "id": "656a58f7",
   "metadata": {},
   "outputs": [
    {
     "data": {
      "application/vnd.microsoft.datawrangler.viewer.v0+json": {
       "columns": [
        {
         "name": "index",
         "rawType": "object",
         "type": "string"
        },
        {
         "name": "0",
         "rawType": "int64",
         "type": "integer"
        }
       ],
       "ref": "d384b32b-6457-4d4c-89e0-4db1650cdbd9",
       "rows": [
        [
         "Close",
         "0"
        ],
        [
         "High",
         "0"
        ],
        [
         "Low",
         "0"
        ],
        [
         "Open",
         "0"
        ],
        [
         "Volume",
         "0"
        ]
       ],
       "shape": {
        "columns": 1,
        "rows": 5
       }
      },
      "text/plain": [
       "Close     0\n",
       "High      0\n",
       "Low       0\n",
       "Open      0\n",
       "Volume    0\n",
       "dtype: int64"
      ]
     },
     "execution_count": 8,
     "metadata": {},
     "output_type": "execute_result"
    }
   ],
   "source": [
    "# Verificando os dados nulos\n",
    "\n",
    "dados_origem.isnull().sum()"
   ]
  },
  {
   "cell_type": "code",
   "execution_count": 9,
   "id": "f2de032f",
   "metadata": {},
   "outputs": [
    {
     "data": {
      "application/vnd.microsoft.datawrangler.viewer.v0+json": {
       "columns": [
        {
         "name": "index",
         "rawType": "object",
         "type": "string"
        },
        {
         "name": "Close",
         "rawType": "float64",
         "type": "float"
        },
        {
         "name": "High",
         "rawType": "float64",
         "type": "float"
        },
        {
         "name": "Low",
         "rawType": "float64",
         "type": "float"
        },
        {
         "name": "Open",
         "rawType": "float64",
         "type": "float"
        },
        {
         "name": "Volume",
         "rawType": "float64",
         "type": "float"
        }
       ],
       "ref": "eea65153-f193-4219-b344-292fcf79c1e5",
       "rows": [
        [
         "count",
         "7985.0",
         "7985.0",
         "7985.0",
         "7985.0",
         "7985.0"
        ],
        [
         "mean",
         "50854.557219860624",
         "51337.37710740072",
         "50348.904220020675",
         "50843.092335818634",
         "6275006.63744521"
        ],
        [
         "std",
         "39063.09033416514",
         "39344.61019178378",
         "38772.08054497466",
         "39052.551069156296",
         "19475390.48000062"
        ],
        [
         "min",
         "23.700000762939453",
         "24.200000762939453",
         "23.700000762939453",
         "23.700000762939453",
         "0.0"
        ],
        [
         "25%",
         "13245.0",
         "13376.0",
         "13076.0",
         "13239.0",
         "0.0"
        ],
        [
         "50%",
         "50287.0",
         "50903.0",
         "49779.0",
         "50280.0",
         "1931800.0"
        ],
        [
         "75%",
         "70740.0",
         "71238.0",
         "70108.0",
         "70723.0",
         "4801200.0"
        ],
        [
         "max",
         "141478.0",
         "141537.0",
         "140597.0",
         "141265.0",
         "232265300.0"
        ]
       ],
       "shape": {
        "columns": 5,
        "rows": 8
       }
      },
      "text/html": [
       "<div>\n",
       "<style scoped>\n",
       "    .dataframe tbody tr th:only-of-type {\n",
       "        vertical-align: middle;\n",
       "    }\n",
       "\n",
       "    .dataframe tbody tr th {\n",
       "        vertical-align: top;\n",
       "    }\n",
       "\n",
       "    .dataframe thead th {\n",
       "        text-align: right;\n",
       "    }\n",
       "</style>\n",
       "<table border=\"1\" class=\"dataframe\">\n",
       "  <thead>\n",
       "    <tr style=\"text-align: right;\">\n",
       "      <th></th>\n",
       "      <th>Close</th>\n",
       "      <th>High</th>\n",
       "      <th>Low</th>\n",
       "      <th>Open</th>\n",
       "      <th>Volume</th>\n",
       "    </tr>\n",
       "  </thead>\n",
       "  <tbody>\n",
       "    <tr>\n",
       "      <th>count</th>\n",
       "      <td>7985.000000</td>\n",
       "      <td>7985.000000</td>\n",
       "      <td>7985.000000</td>\n",
       "      <td>7985.000000</td>\n",
       "      <td>7.985000e+03</td>\n",
       "    </tr>\n",
       "    <tr>\n",
       "      <th>mean</th>\n",
       "      <td>50854.557220</td>\n",
       "      <td>51337.377107</td>\n",
       "      <td>50348.904220</td>\n",
       "      <td>50843.092336</td>\n",
       "      <td>6.275007e+06</td>\n",
       "    </tr>\n",
       "    <tr>\n",
       "      <th>std</th>\n",
       "      <td>39063.090334</td>\n",
       "      <td>39344.610192</td>\n",
       "      <td>38772.080545</td>\n",
       "      <td>39052.551069</td>\n",
       "      <td>1.947539e+07</td>\n",
       "    </tr>\n",
       "    <tr>\n",
       "      <th>min</th>\n",
       "      <td>23.700001</td>\n",
       "      <td>24.200001</td>\n",
       "      <td>23.700001</td>\n",
       "      <td>23.700001</td>\n",
       "      <td>0.000000e+00</td>\n",
       "    </tr>\n",
       "    <tr>\n",
       "      <th>25%</th>\n",
       "      <td>13245.000000</td>\n",
       "      <td>13376.000000</td>\n",
       "      <td>13076.000000</td>\n",
       "      <td>13239.000000</td>\n",
       "      <td>0.000000e+00</td>\n",
       "    </tr>\n",
       "    <tr>\n",
       "      <th>50%</th>\n",
       "      <td>50287.000000</td>\n",
       "      <td>50903.000000</td>\n",
       "      <td>49779.000000</td>\n",
       "      <td>50280.000000</td>\n",
       "      <td>1.931800e+06</td>\n",
       "    </tr>\n",
       "    <tr>\n",
       "      <th>75%</th>\n",
       "      <td>70740.000000</td>\n",
       "      <td>71238.000000</td>\n",
       "      <td>70108.000000</td>\n",
       "      <td>70723.000000</td>\n",
       "      <td>4.801200e+06</td>\n",
       "    </tr>\n",
       "    <tr>\n",
       "      <th>max</th>\n",
       "      <td>141478.000000</td>\n",
       "      <td>141537.000000</td>\n",
       "      <td>140597.000000</td>\n",
       "      <td>141265.000000</td>\n",
       "      <td>2.322653e+08</td>\n",
       "    </tr>\n",
       "  </tbody>\n",
       "</table>\n",
       "</div>"
      ],
      "text/plain": [
       "               Close           High            Low           Open  \\\n",
       "count    7985.000000    7985.000000    7985.000000    7985.000000   \n",
       "mean    50854.557220   51337.377107   50348.904220   50843.092336   \n",
       "std     39063.090334   39344.610192   38772.080545   39052.551069   \n",
       "min        23.700001      24.200001      23.700001      23.700001   \n",
       "25%     13245.000000   13376.000000   13076.000000   13239.000000   \n",
       "50%     50287.000000   50903.000000   49779.000000   50280.000000   \n",
       "75%     70740.000000   71238.000000   70108.000000   70723.000000   \n",
       "max    141478.000000  141537.000000  140597.000000  141265.000000   \n",
       "\n",
       "             Volume  \n",
       "count  7.985000e+03  \n",
       "mean   6.275007e+06  \n",
       "std    1.947539e+07  \n",
       "min    0.000000e+00  \n",
       "25%    0.000000e+00  \n",
       "50%    1.931800e+06  \n",
       "75%    4.801200e+06  \n",
       "max    2.322653e+08  "
      ]
     },
     "execution_count": 9,
     "metadata": {},
     "output_type": "execute_result"
    }
   ],
   "source": [
    "# Gerando a estatistica descritiva do data frame \n",
    "\n",
    "dados_origem.describe()"
   ]
  },
  {
   "cell_type": "code",
   "execution_count": 10,
   "id": "9849cfa0",
   "metadata": {},
   "outputs": [
    {
     "data": {
      "application/vnd.microsoft.datawrangler.viewer.v0+json": {
       "columns": [
        {
         "name": "Date",
         "rawType": "datetime64[ns]",
         "type": "datetime"
        },
        {
         "name": "Close",
         "rawType": "float64",
         "type": "float"
        }
       ],
       "ref": "9c870ba7-b8f3-4372-af52-04263ac36764",
       "rows": [
        [
         "2025-07-21 00:00:00",
         "134167.0"
        ],
        [
         "2025-07-22 00:00:00",
         "134036.0"
        ],
        [
         "2025-07-23 00:00:00",
         "135368.0"
        ],
        [
         "2025-07-24 00:00:00",
         "133808.0"
        ],
        [
         "2025-07-25 00:00:00",
         "133524.0"
        ]
       ],
       "shape": {
        "columns": 1,
        "rows": 5
       }
      },
      "text/plain": [
       "Date\n",
       "2025-07-21    134167.0\n",
       "2025-07-22    134036.0\n",
       "2025-07-23    135368.0\n",
       "2025-07-24    133808.0\n",
       "2025-07-25    133524.0\n",
       "Name: Close, dtype: float64"
      ]
     },
     "execution_count": 10,
     "metadata": {},
     "output_type": "execute_result"
    }
   ],
   "source": [
    "# Criando um novo data frame apenas com os campos necessarios\n",
    "\n",
    "dados_ultimo = dados_origem[\"Close\"].copy()\n",
    "dados_ultimo.tail()"
   ]
  },
  {
   "cell_type": "code",
   "execution_count": 11,
   "id": "d862ae69",
   "metadata": {},
   "outputs": [
    {
     "data": {
      "image/png": "[encoded data removed]",
      "text/plain": [
       "<Figure size 1500x500 with 1 Axes>"
      ]
     },
     "metadata": {},
     "output_type": "display_data"
    }
   ],
   "source": [
    "# Plotando um grafico de linha \n",
    "\n",
    "plt.figure(figsize=(15,5))\n",
    "plt.plot(dados_ultimo.index,dados_ultimo)\n",
    "plt.title(\"Evolução do indice Ibovespa (IBOV)\")\n",
    "plt.show()"
   ]
  },
  {
   "cell_type": "code",
   "execution_count": 12,
   "id": "35a3bcd9",
   "metadata": {},
   "outputs": [
    {
     "data": {
      "image/png": "[encoded data removed]",
      "text/plain": [
       "<Figure size 1500x1000 with 4 Axes>"
      ]
     },
     "metadata": {},
     "output_type": "display_data"
    }
   ],
   "source": [
    "# Realizar a decomposição da seria temporal -->  tendência (trend), sazonalidade (seasonal) e resíduo (resid) e gerar o graficos \n",
    "\n",
    "periodo = 252 # Média de dias uteis\n",
    "\n",
    "resultados = seasonal_decompose(dados_ultimo, period=periodo)\n",
    "\n",
    "fig, (ax1,ax2,ax3,ax4) = plt.subplots(4,1, figsize = (15,10))\n",
    "\n",
    "resultados.observed.plot(ax=ax1)\n",
    "ax1.set_title(\"Serie Real\")\n",
    "\n",
    "resultados.trend.plot(ax=ax2)\n",
    "ax2.set_title(\"Tendência\")\n",
    "\n",
    "resultados.seasonal.plot(ax=ax3)\n",
    "ax3.set_title(\"Sazonalidade\")\n",
    "\n",
    "resultados.resid.plot(ax=ax4)\n",
    "ax4.set_title(\"Resíduo\")\n",
    "\n",
    "plt.tight_layout()\n",
    "plt.show()"
   ]
  },
  {
   "cell_type": "code",
   "execution_count": 13,
   "id": "5d022306",
   "metadata": {},
   "outputs": [
    {
     "name": "stdout",
     "output_type": "stream",
     "text": [
      "Dados antes do filtro\n"
     ]
    },
    {
     "data": {
      "application/vnd.microsoft.datawrangler.viewer.v0+json": {
       "columns": [
        {
         "name": "Date",
         "rawType": "datetime64[ns]",
         "type": "datetime"
        },
        {
         "name": "Close",
         "rawType": "float64",
         "type": "float"
        },
        {
         "name": "High",
         "rawType": "float64",
         "type": "float"
        },
        {
         "name": "Low",
         "rawType": "float64",
         "type": "float"
        },
        {
         "name": "Open",
         "rawType": "float64",
         "type": "float"
        },
        {
         "name": "Volume",
         "rawType": "int64",
         "type": "integer"
        }
       ],
       "ref": "4176b0fb-432c-4ddc-bf4e-8d504877b09c",
       "rows": [
        [
         "1993-04-27 00:00:00",
         "24.5",
         "25.399999618530273",
         "24.5",
         "24.799999237060547",
         "0"
        ],
        [
         "1993-04-28 00:00:00",
         "24.299999237060547",
         "24.600000381469727",
         "23.700000762939453",
         "24.5",
         "0"
        ],
        [
         "1993-04-29 00:00:00",
         "23.700000762939453",
         "24.799999237060547",
         "23.700000762939453",
         "24.299999237060547",
         "0"
        ],
        [
         "1993-04-30 00:00:00",
         "24.100000381469727",
         "24.200000762939453",
         "23.700000762939453",
         "23.700000762939453",
         "0"
        ],
        [
         "1993-05-03 00:00:00",
         "24.100000381469727",
         "24.399999618530273",
         "23.799999237060547",
         "24.100000381469727",
         "0"
        ]
       ],
       "shape": {
        "columns": 5,
        "rows": 5
       }
      },
      "text/html": [
       "<div>\n",
       "<style scoped>\n",
       "    .dataframe tbody tr th:only-of-type {\n",
       "        vertical-align: middle;\n",
       "    }\n",
       "\n",
       "    .dataframe tbody tr th {\n",
       "        vertical-align: top;\n",
       "    }\n",
       "\n",
       "    .dataframe thead th {\n",
       "        text-align: right;\n",
       "    }\n",
       "</style>\n",
       "<table border=\"1\" class=\"dataframe\">\n",
       "  <thead>\n",
       "    <tr style=\"text-align: right;\">\n",
       "      <th></th>\n",
       "      <th>Close</th>\n",
       "      <th>High</th>\n",
       "      <th>Low</th>\n",
       "      <th>Open</th>\n",
       "      <th>Volume</th>\n",
       "    </tr>\n",
       "    <tr>\n",
       "      <th>Date</th>\n",
       "      <th></th>\n",
       "      <th></th>\n",
       "      <th></th>\n",
       "      <th></th>\n",
       "      <th></th>\n",
       "    </tr>\n",
       "  </thead>\n",
       "  <tbody>\n",
       "    <tr>\n",
       "      <th>1993-04-27</th>\n",
       "      <td>24.500000</td>\n",
       "      <td>25.400000</td>\n",
       "      <td>24.500000</td>\n",
       "      <td>24.799999</td>\n",
       "      <td>0</td>\n",
       "    </tr>\n",
       "    <tr>\n",
       "      <th>1993-04-28</th>\n",
       "      <td>24.299999</td>\n",
       "      <td>24.600000</td>\n",
       "      <td>23.700001</td>\n",
       "      <td>24.500000</td>\n",
       "      <td>0</td>\n",
       "    </tr>\n",
       "    <tr>\n",
       "      <th>1993-04-29</th>\n",
       "      <td>23.700001</td>\n",
       "      <td>24.799999</td>\n",
       "      <td>23.700001</td>\n",
       "      <td>24.299999</td>\n",
       "      <td>0</td>\n",
       "    </tr>\n",
       "    <tr>\n",
       "      <th>1993-04-30</th>\n",
       "      <td>24.100000</td>\n",
       "      <td>24.200001</td>\n",
       "      <td>23.700001</td>\n",
       "      <td>23.700001</td>\n",
       "      <td>0</td>\n",
       "    </tr>\n",
       "    <tr>\n",
       "      <th>1993-05-03</th>\n",
       "      <td>24.100000</td>\n",
       "      <td>24.400000</td>\n",
       "      <td>23.799999</td>\n",
       "      <td>24.100000</td>\n",
       "      <td>0</td>\n",
       "    </tr>\n",
       "  </tbody>\n",
       "</table>\n",
       "</div>"
      ],
      "text/plain": [
       "                Close       High        Low       Open  Volume\n",
       "Date                                                          \n",
       "1993-04-27  24.500000  25.400000  24.500000  24.799999       0\n",
       "1993-04-28  24.299999  24.600000  23.700001  24.500000       0\n",
       "1993-04-29  23.700001  24.799999  23.700001  24.299999       0\n",
       "1993-04-30  24.100000  24.200001  23.700001  23.700001       0\n",
       "1993-05-03  24.100000  24.400000  23.799999  24.100000       0"
      ]
     },
     "metadata": {},
     "output_type": "display_data"
    },
    {
     "name": "stdout",
     "output_type": "stream",
     "text": [
      "\n",
      "Dados após o filtro\n"
     ]
    },
    {
     "data": {
      "application/vnd.microsoft.datawrangler.viewer.v0+json": {
       "columns": [
        {
         "name": "Date",
         "rawType": "datetime64[ns]",
         "type": "datetime"
        },
        {
         "name": "Close",
         "rawType": "float64",
         "type": "float"
        },
        {
         "name": "High",
         "rawType": "float64",
         "type": "float"
        },
        {
         "name": "Low",
         "rawType": "float64",
         "type": "float"
        },
        {
         "name": "Open",
         "rawType": "float64",
         "type": "float"
        },
        {
         "name": "Volume",
         "rawType": "int64",
         "type": "integer"
        }
       ],
       "ref": "2d71c5ba-6a41-4478-b9f8-85dc584b5bd1",
       "rows": [
        [
         "2002-07-02 00:00:00",
         "10846.0",
         "10908.0",
         "10711.0",
         "10891.0",
         "98006400"
        ],
        [
         "2002-07-03 00:00:00",
         "10636.0",
         "10868.0",
         "10520.0",
         "10854.0",
         "98006400"
        ],
        [
         "2002-07-04 00:00:00",
         "10655.0",
         "10721.0",
         "10594.0",
         "10661.0",
         "98006400"
        ],
        [
         "2006-08-30 00:00:00",
         "36313.0",
         "36520.0",
         "36125.0",
         "36303.0",
         "144235600"
        ],
        [
         "2006-09-01 00:00:00",
         "37329.0",
         "37329.0",
         "36232.0",
         "36232.0",
         "98953400"
        ]
       ],
       "shape": {
        "columns": 5,
        "rows": 5
       }
      },
      "text/html": [
       "<div>\n",
       "<style scoped>\n",
       "    .dataframe tbody tr th:only-of-type {\n",
       "        vertical-align: middle;\n",
       "    }\n",
       "\n",
       "    .dataframe tbody tr th {\n",
       "        vertical-align: top;\n",
       "    }\n",
       "\n",
       "    .dataframe thead th {\n",
       "        text-align: right;\n",
       "    }\n",
       "</style>\n",
       "<table border=\"1\" class=\"dataframe\">\n",
       "  <thead>\n",
       "    <tr style=\"text-align: right;\">\n",
       "      <th></th>\n",
       "      <th>Close</th>\n",
       "      <th>High</th>\n",
       "      <th>Low</th>\n",
       "      <th>Open</th>\n",
       "      <th>Volume</th>\n",
       "    </tr>\n",
       "    <tr>\n",
       "      <th>Date</th>\n",
       "      <th></th>\n",
       "      <th></th>\n",
       "      <th></th>\n",
       "      <th></th>\n",
       "      <th></th>\n",
       "    </tr>\n",
       "  </thead>\n",
       "  <tbody>\n",
       "    <tr>\n",
       "      <th>2002-07-02</th>\n",
       "      <td>10846.0</td>\n",
       "      <td>10908.0</td>\n",
       "      <td>10711.0</td>\n",
       "      <td>10891.0</td>\n",
       "      <td>98006400</td>\n",
       "    </tr>\n",
       "    <tr>\n",
       "      <th>2002-07-03</th>\n",
       "      <td>10636.0</td>\n",
       "      <td>10868.0</td>\n",
       "      <td>10520.0</td>\n",
       "      <td>10854.0</td>\n",
       "      <td>98006400</td>\n",
       "    </tr>\n",
       "    <tr>\n",
       "      <th>2002-07-04</th>\n",
       "      <td>10655.0</td>\n",
       "      <td>10721.0</td>\n",
       "      <td>10594.0</td>\n",
       "      <td>10661.0</td>\n",
       "      <td>98006400</td>\n",
       "    </tr>\n",
       "    <tr>\n",
       "      <th>2006-08-30</th>\n",
       "      <td>36313.0</td>\n",
       "      <td>36520.0</td>\n",
       "      <td>36125.0</td>\n",
       "      <td>36303.0</td>\n",
       "      <td>144235600</td>\n",
       "    </tr>\n",
       "    <tr>\n",
       "      <th>2006-09-01</th>\n",
       "      <td>37329.0</td>\n",
       "      <td>37329.0</td>\n",
       "      <td>36232.0</td>\n",
       "      <td>36232.0</td>\n",
       "      <td>98953400</td>\n",
       "    </tr>\n",
       "  </tbody>\n",
       "</table>\n",
       "</div>"
      ],
      "text/plain": [
       "              Close     High      Low     Open     Volume\n",
       "Date                                                     \n",
       "2002-07-02  10846.0  10908.0  10711.0  10891.0   98006400\n",
       "2002-07-03  10636.0  10868.0  10520.0  10854.0   98006400\n",
       "2002-07-04  10655.0  10721.0  10594.0  10661.0   98006400\n",
       "2006-08-30  36313.0  36520.0  36125.0  36303.0  144235600\n",
       "2006-09-01  37329.0  37329.0  36232.0  36232.0   98953400"
      ]
     },
     "execution_count": 13,
     "metadata": {},
     "output_type": "execute_result"
    }
   ],
   "source": [
    "# Filtrar dados com volume maior que zero\n",
    "\n",
    "dados_origem_volume_zero = dados_origem.query(\"Volume > 0\")\n",
    "\n",
    "print(\"Dados antes do filtro\")\n",
    "display(dados_origem.head())\n",
    "\n",
    "print(\"\\nDados após o filtro\")\n",
    "dados_origem_volume_zero.head()"
   ]
  },
  {
   "cell_type": "code",
   "execution_count": 14,
   "id": "211eb015",
   "metadata": {},
   "outputs": [
    {
     "data": {
      "image/png": "[encoded data removed]",
      "text/plain": [
       "<Figure size 1500x500 with 2 Axes>"
      ]
     },
     "metadata": {},
     "output_type": "display_data"
    }
   ],
   "source": [
    "# Plotar o grafico Preco vs Volume \n",
    "\n",
    "ax = dados_origem_volume_zero.plot(y='Close', kind='line', label='Preço Fechamento')\n",
    "ax.set_title('Ibovespa')\n",
    "ax.set_xlabel('Data')\n",
    "ax.set_ylabel('Preço')\n",
    "fig = ax.get_figure()\n",
    "fig.set_figwidth(15)\n",
    "fig.set_figheight(5)\n",
    "\n",
    "ax2 = ax.twinx()\n",
    "ax2.bar(dados_origem_volume_zero.index, dados_origem_volume_zero['Volume'], alpha=0.5, color='blue', label='Volume')\n",
    "ax2.set_ylabel('Volume')\n",
    "ax.legend(loc='upper left')\n",
    "ax2.legend(loc='upper right')\n",
    "\n",
    "fig.tight_layout()"
   ]
  },
  {
   "cell_type": "markdown",
   "id": "158cd310",
   "metadata": {},
   "source": [
    "##### Feature Engineering e Target"
   ]
  },
  {
   "cell_type": "code",
   "execution_count": 15,
   "id": "3fc0fd41",
   "metadata": {},
   "outputs": [],
   "source": [
    "# Criar um novo data frame com os dados originais\n",
    "\n",
    "dados = dados_origem.copy()"
   ]
  },
  {
   "cell_type": "code",
   "execution_count": 16,
   "id": "6aae0f9a",
   "metadata": {},
   "outputs": [],
   "source": [
    "# Ordernando os dados \n",
    "\n",
    "dados = dados.sort_index()"
   ]
  },
  {
   "cell_type": "code",
   "execution_count": 17,
   "id": "0f36c064",
   "metadata": {},
   "outputs": [
    {
     "data": {
      "application/vnd.microsoft.datawrangler.viewer.v0+json": {
       "columns": [
        {
         "name": "Date",
         "rawType": "datetime64[ns]",
         "type": "datetime"
        },
        {
         "name": "Close",
         "rawType": "float64",
         "type": "float"
        },
        {
         "name": "High",
         "rawType": "float64",
         "type": "float"
        },
        {
         "name": "Low",
         "rawType": "float64",
         "type": "float"
        },
        {
         "name": "Open",
         "rawType": "float64",
         "type": "float"
        },
        {
         "name": "Volume",
         "rawType": "int64",
         "type": "integer"
        },
        {
         "name": "Delta",
         "rawType": "float64",
         "type": "float"
        }
       ],
       "ref": "4426edf8-a9b7-459e-8116-8b9385025923",
       "rows": [
        [
         "2025-07-21 00:00:00",
         "134167.0",
         "134865.0",
         "133367.0",
         "133382.0",
         "6726700",
         "-2183.0"
        ],
        [
         "2025-07-22 00:00:00",
         "134036.0",
         "135300.0",
         "133986.0",
         "134180.0",
         "7052100",
         "785.0"
        ],
        [
         "2025-07-23 00:00:00",
         "135368.0",
         "135782.0",
         "133676.0",
         "134036.0",
         "6527600",
         "-131.0"
        ],
        [
         "2025-07-24 00:00:00",
         "133808.0",
         "135363.0",
         "133648.0",
         "135357.0",
         "5976800",
         "1332.0"
        ],
        [
         "2025-07-25 00:00:00",
         "133524.0",
         "134204.0",
         "133285.0",
         "133820.0",
         "5560900",
         "-1560.0"
        ]
       ],
       "shape": {
        "columns": 6,
        "rows": 5
       }
      },
      "text/html": [
       "<div>\n",
       "<style scoped>\n",
       "    .dataframe tbody tr th:only-of-type {\n",
       "        vertical-align: middle;\n",
       "    }\n",
       "\n",
       "    .dataframe tbody tr th {\n",
       "        vertical-align: top;\n",
       "    }\n",
       "\n",
       "    .dataframe thead th {\n",
       "        text-align: right;\n",
       "    }\n",
       "</style>\n",
       "<table border=\"1\" class=\"dataframe\">\n",
       "  <thead>\n",
       "    <tr style=\"text-align: right;\">\n",
       "      <th></th>\n",
       "      <th>Close</th>\n",
       "      <th>High</th>\n",
       "      <th>Low</th>\n",
       "      <th>Open</th>\n",
       "      <th>Volume</th>\n",
       "      <th>Delta</th>\n",
       "    </tr>\n",
       "    <tr>\n",
       "      <th>Date</th>\n",
       "      <th></th>\n",
       "      <th></th>\n",
       "      <th></th>\n",
       "      <th></th>\n",
       "      <th></th>\n",
       "      <th></th>\n",
       "    </tr>\n",
       "  </thead>\n",
       "  <tbody>\n",
       "    <tr>\n",
       "      <th>2025-07-21</th>\n",
       "      <td>134167.0</td>\n",
       "      <td>134865.0</td>\n",
       "      <td>133367.0</td>\n",
       "      <td>133382.0</td>\n",
       "      <td>6726700</td>\n",
       "      <td>-2183.0</td>\n",
       "    </tr>\n",
       "    <tr>\n",
       "      <th>2025-07-22</th>\n",
       "      <td>134036.0</td>\n",
       "      <td>135300.0</td>\n",
       "      <td>133986.0</td>\n",
       "      <td>134180.0</td>\n",
       "      <td>7052100</td>\n",
       "      <td>785.0</td>\n",
       "    </tr>\n",
       "    <tr>\n",
       "      <th>2025-07-23</th>\n",
       "      <td>135368.0</td>\n",
       "      <td>135782.0</td>\n",
       "      <td>133676.0</td>\n",
       "      <td>134036.0</td>\n",
       "      <td>6527600</td>\n",
       "      <td>-131.0</td>\n",
       "    </tr>\n",
       "    <tr>\n",
       "      <th>2025-07-24</th>\n",
       "      <td>133808.0</td>\n",
       "      <td>135363.0</td>\n",
       "      <td>133648.0</td>\n",
       "      <td>135357.0</td>\n",
       "      <td>5976800</td>\n",
       "      <td>1332.0</td>\n",
       "    </tr>\n",
       "    <tr>\n",
       "      <th>2025-07-25</th>\n",
       "      <td>133524.0</td>\n",
       "      <td>134204.0</td>\n",
       "      <td>133285.0</td>\n",
       "      <td>133820.0</td>\n",
       "      <td>5560900</td>\n",
       "      <td>-1560.0</td>\n",
       "    </tr>\n",
       "  </tbody>\n",
       "</table>\n",
       "</div>"
      ],
      "text/plain": [
       "               Close      High       Low      Open   Volume   Delta\n",
       "Date                                                               \n",
       "2025-07-21  134167.0  134865.0  133367.0  133382.0  6726700 -2183.0\n",
       "2025-07-22  134036.0  135300.0  133986.0  134180.0  7052100   785.0\n",
       "2025-07-23  135368.0  135782.0  133676.0  134036.0  6527600  -131.0\n",
       "2025-07-24  133808.0  135363.0  133648.0  135357.0  5976800  1332.0\n",
       "2025-07-25  133524.0  134204.0  133285.0  133820.0  5560900 -1560.0"
      ]
     },
     "execution_count": 17,
     "metadata": {},
     "output_type": "execute_result"
    }
   ],
   "source": [
    "# Criar uma coluna Delta do valor Close (Fechamento)\n",
    "\n",
    "dados[\"Delta\"] = dados[\"Close\"].diff().shift(1)\n",
    "dados.tail()"
   ]
  },
  {
   "cell_type": "code",
   "execution_count": 18,
   "id": "4d03730e",
   "metadata": {},
   "outputs": [
    {
     "data": {
      "application/vnd.microsoft.datawrangler.viewer.v0+json": {
       "columns": [
        {
         "name": "Date",
         "rawType": "datetime64[ns]",
         "type": "datetime"
        },
        {
         "name": "Close",
         "rawType": "float64",
         "type": "float"
        },
        {
         "name": "High",
         "rawType": "float64",
         "type": "float"
        },
        {
         "name": "Low",
         "rawType": "float64",
         "type": "float"
        },
        {
         "name": "Open",
         "rawType": "float64",
         "type": "float"
        },
        {
         "name": "Volume",
         "rawType": "int64",
         "type": "integer"
        },
        {
         "name": "Delta",
         "rawType": "float64",
         "type": "float"
        },
        {
         "name": "Target",
         "rawType": "float64",
         "type": "float"
        }
       ],
       "ref": "4d9169da-0818-4ce5-806c-07e2ceb41383",
       "rows": [
        [
         "2025-07-21 00:00:00",
         "134167.0",
         "134865.0",
         "133367.0",
         "133382.0",
         "6726700",
         "-2183.0",
         "1.0"
        ],
        [
         "2025-07-22 00:00:00",
         "134036.0",
         "135300.0",
         "133986.0",
         "134180.0",
         "7052100",
         "785.0",
         "0.0"
        ],
        [
         "2025-07-23 00:00:00",
         "135368.0",
         "135782.0",
         "133676.0",
         "134036.0",
         "6527600",
         "-131.0",
         "1.0"
        ],
        [
         "2025-07-24 00:00:00",
         "133808.0",
         "135363.0",
         "133648.0",
         "135357.0",
         "5976800",
         "1332.0",
         "0.0"
        ],
        [
         "2025-07-25 00:00:00",
         "133524.0",
         "134204.0",
         "133285.0",
         "133820.0",
         "5560900",
         "-1560.0",
         "0.0"
        ]
       ],
       "shape": {
        "columns": 7,
        "rows": 5
       }
      },
      "text/html": [
       "<div>\n",
       "<style scoped>\n",
       "    .dataframe tbody tr th:only-of-type {\n",
       "        vertical-align: middle;\n",
       "    }\n",
       "\n",
       "    .dataframe tbody tr th {\n",
       "        vertical-align: top;\n",
       "    }\n",
       "\n",
       "    .dataframe thead th {\n",
       "        text-align: right;\n",
       "    }\n",
       "</style>\n",
       "<table border=\"1\" class=\"dataframe\">\n",
       "  <thead>\n",
       "    <tr style=\"text-align: right;\">\n",
       "      <th></th>\n",
       "      <th>Close</th>\n",
       "      <th>High</th>\n",
       "      <th>Low</th>\n",
       "      <th>Open</th>\n",
       "      <th>Volume</th>\n",
       "      <th>Delta</th>\n",
       "      <th>Target</th>\n",
       "    </tr>\n",
       "    <tr>\n",
       "      <th>Date</th>\n",
       "      <th></th>\n",
       "      <th></th>\n",
       "      <th></th>\n",
       "      <th></th>\n",
       "      <th></th>\n",
       "      <th></th>\n",
       "      <th></th>\n",
       "    </tr>\n",
       "  </thead>\n",
       "  <tbody>\n",
       "    <tr>\n",
       "      <th>2025-07-21</th>\n",
       "      <td>134167.0</td>\n",
       "      <td>134865.0</td>\n",
       "      <td>133367.0</td>\n",
       "      <td>133382.0</td>\n",
       "      <td>6726700</td>\n",
       "      <td>-2183.0</td>\n",
       "      <td>1.0</td>\n",
       "    </tr>\n",
       "    <tr>\n",
       "      <th>2025-07-22</th>\n",
       "      <td>134036.0</td>\n",
       "      <td>135300.0</td>\n",
       "      <td>133986.0</td>\n",
       "      <td>134180.0</td>\n",
       "      <td>7052100</td>\n",
       "      <td>785.0</td>\n",
       "      <td>0.0</td>\n",
       "    </tr>\n",
       "    <tr>\n",
       "      <th>2025-07-23</th>\n",
       "      <td>135368.0</td>\n",
       "      <td>135782.0</td>\n",
       "      <td>133676.0</td>\n",
       "      <td>134036.0</td>\n",
       "      <td>6527600</td>\n",
       "      <td>-131.0</td>\n",
       "      <td>1.0</td>\n",
       "    </tr>\n",
       "    <tr>\n",
       "      <th>2025-07-24</th>\n",
       "      <td>133808.0</td>\n",
       "      <td>135363.0</td>\n",
       "      <td>133648.0</td>\n",
       "      <td>135357.0</td>\n",
       "      <td>5976800</td>\n",
       "      <td>1332.0</td>\n",
       "      <td>0.0</td>\n",
       "    </tr>\n",
       "    <tr>\n",
       "      <th>2025-07-25</th>\n",
       "      <td>133524.0</td>\n",
       "      <td>134204.0</td>\n",
       "      <td>133285.0</td>\n",
       "      <td>133820.0</td>\n",
       "      <td>5560900</td>\n",
       "      <td>-1560.0</td>\n",
       "      <td>0.0</td>\n",
       "    </tr>\n",
       "  </tbody>\n",
       "</table>\n",
       "</div>"
      ],
      "text/plain": [
       "               Close      High       Low      Open   Volume   Delta  Target\n",
       "Date                                                                       \n",
       "2025-07-21  134167.0  134865.0  133367.0  133382.0  6726700 -2183.0     1.0\n",
       "2025-07-22  134036.0  135300.0  133986.0  134180.0  7052100   785.0     0.0\n",
       "2025-07-23  135368.0  135782.0  133676.0  134036.0  6527600  -131.0     1.0\n",
       "2025-07-24  133808.0  135363.0  133648.0  135357.0  5976800  1332.0     0.0\n",
       "2025-07-25  133524.0  134204.0  133285.0  133820.0  5560900 -1560.0     0.0"
      ]
     },
     "execution_count": 18,
     "metadata": {},
     "output_type": "execute_result"
    }
   ],
   "source": [
    "# Criar uma coluna binaria com o Target --> Subiu ou desceu o indice \n",
    "\n",
    "# Desconsiderar variação menor 0.5% --> Ruidoss\n",
    "limite = 0.005  \n",
    "\n",
    "# Criar coluna target com validação do limite\n",
    "delta = dados['Close'].diff()\n",
    "dados['Target'] = np.where(delta > limite, 1, np.where(delta < -limite, 0, np.nan))\n",
    "\n",
    "dados.tail()"
   ]
  },
  {
   "cell_type": "code",
   "execution_count": 19,
   "id": "5e29ceb6",
   "metadata": {},
   "outputs": [
    {
     "data": {
      "application/vnd.microsoft.datawrangler.viewer.v0+json": {
       "columns": [
        {
         "name": "Date",
         "rawType": "datetime64[ns]",
         "type": "datetime"
        },
        {
         "name": "Close",
         "rawType": "float64",
         "type": "float"
        },
        {
         "name": "High",
         "rawType": "float64",
         "type": "float"
        },
        {
         "name": "Low",
         "rawType": "float64",
         "type": "float"
        },
        {
         "name": "Open",
         "rawType": "float64",
         "type": "float"
        },
        {
         "name": "Volume",
         "rawType": "int64",
         "type": "integer"
        },
        {
         "name": "Delta",
         "rawType": "float64",
         "type": "float"
        },
        {
         "name": "Target",
         "rawType": "float64",
         "type": "float"
        },
        {
         "name": "Return",
         "rawType": "float64",
         "type": "float"
        }
       ],
       "ref": "a4f2c5cd-bc93-485f-a9cf-ca1f302f03d5",
       "rows": [
        [
         "2025-07-21 00:00:00",
         "134167.0",
         "134865.0",
         "133367.0",
         "133382.0",
         "6726700",
         "-2183.0",
         "1.0",
         "-0.016102976431969895"
        ],
        [
         "2025-07-22 00:00:00",
         "134036.0",
         "135300.0",
         "133986.0",
         "134180.0",
         "7052100",
         "785.0",
         "0.0",
         "0.005885351846576015"
        ],
        [
         "2025-07-23 00:00:00",
         "135368.0",
         "135782.0",
         "133676.0",
         "134036.0",
         "6527600",
         "-131.0",
         "1.0",
         "-0.0009763950897015983"
        ],
        [
         "2025-07-24 00:00:00",
         "133808.0",
         "135363.0",
         "133648.0",
         "135357.0",
         "5976800",
         "1332.0",
         "0.0",
         "0.009937628696768064"
        ],
        [
         "2025-07-25 00:00:00",
         "133524.0",
         "134204.0",
         "133285.0",
         "133820.0",
         "5560900",
         "-1560.0",
         "0.0",
         "-0.011524141599196236"
        ]
       ],
       "shape": {
        "columns": 8,
        "rows": 5
       }
      },
      "text/html": [
       "<div>\n",
       "<style scoped>\n",
       "    .dataframe tbody tr th:only-of-type {\n",
       "        vertical-align: middle;\n",
       "    }\n",
       "\n",
       "    .dataframe tbody tr th {\n",
       "        vertical-align: top;\n",
       "    }\n",
       "\n",
       "    .dataframe thead th {\n",
       "        text-align: right;\n",
       "    }\n",
       "</style>\n",
       "<table border=\"1\" class=\"dataframe\">\n",
       "  <thead>\n",
       "    <tr style=\"text-align: right;\">\n",
       "      <th></th>\n",
       "      <th>Close</th>\n",
       "      <th>High</th>\n",
       "      <th>Low</th>\n",
       "      <th>Open</th>\n",
       "      <th>Volume</th>\n",
       "      <th>Delta</th>\n",
       "      <th>Target</th>\n",
       "      <th>Return</th>\n",
       "    </tr>\n",
       "    <tr>\n",
       "      <th>Date</th>\n",
       "      <th></th>\n",
       "      <th></th>\n",
       "      <th></th>\n",
       "      <th></th>\n",
       "      <th></th>\n",
       "      <th></th>\n",
       "      <th></th>\n",
       "      <th></th>\n",
       "    </tr>\n",
       "  </thead>\n",
       "  <tbody>\n",
       "    <tr>\n",
       "      <th>2025-07-21</th>\n",
       "      <td>134167.0</td>\n",
       "      <td>134865.0</td>\n",
       "      <td>133367.0</td>\n",
       "      <td>133382.0</td>\n",
       "      <td>6726700</td>\n",
       "      <td>-2183.0</td>\n",
       "      <td>1.0</td>\n",
       "      <td>-0.016103</td>\n",
       "    </tr>\n",
       "    <tr>\n",
       "      <th>2025-07-22</th>\n",
       "      <td>134036.0</td>\n",
       "      <td>135300.0</td>\n",
       "      <td>133986.0</td>\n",
       "      <td>134180.0</td>\n",
       "      <td>7052100</td>\n",
       "      <td>785.0</td>\n",
       "      <td>0.0</td>\n",
       "      <td>0.005885</td>\n",
       "    </tr>\n",
       "    <tr>\n",
       "      <th>2025-07-23</th>\n",
       "      <td>135368.0</td>\n",
       "      <td>135782.0</td>\n",
       "      <td>133676.0</td>\n",
       "      <td>134036.0</td>\n",
       "      <td>6527600</td>\n",
       "      <td>-131.0</td>\n",
       "      <td>1.0</td>\n",
       "      <td>-0.000976</td>\n",
       "    </tr>\n",
       "    <tr>\n",
       "      <th>2025-07-24</th>\n",
       "      <td>133808.0</td>\n",
       "      <td>135363.0</td>\n",
       "      <td>133648.0</td>\n",
       "      <td>135357.0</td>\n",
       "      <td>5976800</td>\n",
       "      <td>1332.0</td>\n",
       "      <td>0.0</td>\n",
       "      <td>0.009938</td>\n",
       "    </tr>\n",
       "    <tr>\n",
       "      <th>2025-07-25</th>\n",
       "      <td>133524.0</td>\n",
       "      <td>134204.0</td>\n",
       "      <td>133285.0</td>\n",
       "      <td>133820.0</td>\n",
       "      <td>5560900</td>\n",
       "      <td>-1560.0</td>\n",
       "      <td>0.0</td>\n",
       "      <td>-0.011524</td>\n",
       "    </tr>\n",
       "  </tbody>\n",
       "</table>\n",
       "</div>"
      ],
      "text/plain": [
       "               Close      High       Low      Open   Volume   Delta  Target  \\\n",
       "Date                                                                          \n",
       "2025-07-21  134167.0  134865.0  133367.0  133382.0  6726700 -2183.0     1.0   \n",
       "2025-07-22  134036.0  135300.0  133986.0  134180.0  7052100   785.0     0.0   \n",
       "2025-07-23  135368.0  135782.0  133676.0  134036.0  6527600  -131.0     1.0   \n",
       "2025-07-24  133808.0  135363.0  133648.0  135357.0  5976800  1332.0     0.0   \n",
       "2025-07-25  133524.0  134204.0  133285.0  133820.0  5560900 -1560.0     0.0   \n",
       "\n",
       "              Return  \n",
       "Date                  \n",
       "2025-07-21 -0.016103  \n",
       "2025-07-22  0.005885  \n",
       "2025-07-23 -0.000976  \n",
       "2025-07-24  0.009938  \n",
       "2025-07-25 -0.011524  "
      ]
     },
     "execution_count": 19,
     "metadata": {},
     "output_type": "execute_result"
    }
   ],
   "source": [
    "# Criar uma coluna com variação percentual do valor do fechamento\n",
    "\n",
    "dados[\"Return\"] = dados[\"Close\"].pct_change().shift(1)\n",
    "dados.tail()"
   ]
  },
  {
   "cell_type": "code",
   "execution_count": 20,
   "id": "e590a306",
   "metadata": {},
   "outputs": [
    {
     "data": {
      "application/vnd.microsoft.datawrangler.viewer.v0+json": {
       "columns": [
        {
         "name": "Date",
         "rawType": "datetime64[ns]",
         "type": "datetime"
        },
        {
         "name": "Close",
         "rawType": "float64",
         "type": "float"
        },
        {
         "name": "High",
         "rawType": "float64",
         "type": "float"
        },
        {
         "name": "Low",
         "rawType": "float64",
         "type": "float"
        },
        {
         "name": "Open",
         "rawType": "float64",
         "type": "float"
        },
        {
         "name": "Volume",
         "rawType": "int64",
         "type": "integer"
        },
        {
         "name": "Delta",
         "rawType": "float64",
         "type": "float"
        },
        {
         "name": "Target",
         "rawType": "float64",
         "type": "float"
        },
        {
         "name": "Return",
         "rawType": "float64",
         "type": "float"
        },
        {
         "name": "Target_lag1",
         "rawType": "float64",
         "type": "float"
        },
        {
         "name": "Target_lag2",
         "rawType": "float64",
         "type": "float"
        },
        {
         "name": "Target_lag3",
         "rawType": "float64",
         "type": "float"
        },
        {
         "name": "Target_lag4",
         "rawType": "float64",
         "type": "float"
        },
        {
         "name": "Target_lag5",
         "rawType": "float64",
         "type": "float"
        },
        {
         "name": "Target_lag6",
         "rawType": "float64",
         "type": "float"
        },
        {
         "name": "Target_lag7",
         "rawType": "float64",
         "type": "float"
        },
        {
         "name": "Target_lag8",
         "rawType": "float64",
         "type": "float"
        },
        {
         "name": "Target_lag9",
         "rawType": "float64",
         "type": "float"
        },
        {
         "name": "Target_lag10",
         "rawType": "float64",
         "type": "float"
        }
       ],
       "ref": "5c4e843e-20f4-44b2-a199-4dc17fbdbd51",
       "rows": [
        [
         "2025-07-21 00:00:00",
         "134167.0",
         "134865.0",
         "133367.0",
         "133382.0",
         "6726700",
         "-2183.0",
         "1.0",
         "-0.016102976431969895",
         "0.0",
         "1.0",
         "1.0",
         "0.0",
         "0.0",
         "0.0",
         "0.0",
         "0.0",
         "0.0",
         "0.0"
        ],
        [
         "2025-07-22 00:00:00",
         "134036.0",
         "135300.0",
         "133986.0",
         "134180.0",
         "7052100",
         "785.0",
         "0.0",
         "0.005885351846576015",
         "1.0",
         "0.0",
         "1.0",
         "1.0",
         "0.0",
         "0.0",
         "0.0",
         "0.0",
         "0.0",
         "0.0"
        ],
        [
         "2025-07-23 00:00:00",
         "135368.0",
         "135782.0",
         "133676.0",
         "134036.0",
         "6527600",
         "-131.0",
         "1.0",
         "-0.0009763950897015983",
         "0.0",
         "1.0",
         "0.0",
         "1.0",
         "1.0",
         "0.0",
         "0.0",
         "0.0",
         "0.0",
         "0.0"
        ],
        [
         "2025-07-24 00:00:00",
         "133808.0",
         "135363.0",
         "133648.0",
         "135357.0",
         "5976800",
         "1332.0",
         "0.0",
         "0.009937628696768064",
         "1.0",
         "0.0",
         "1.0",
         "0.0",
         "1.0",
         "1.0",
         "0.0",
         "0.0",
         "0.0",
         "0.0"
        ],
        [
         "2025-07-25 00:00:00",
         "133524.0",
         "134204.0",
         "133285.0",
         "133820.0",
         "5560900",
         "-1560.0",
         "0.0",
         "-0.011524141599196236",
         "0.0",
         "1.0",
         "0.0",
         "1.0",
         "0.0",
         "1.0",
         "1.0",
         "0.0",
         "0.0",
         "0.0"
        ]
       ],
       "shape": {
        "columns": 18,
        "rows": 5
       }
      },
      "text/html": [
       "<div>\n",
       "<style scoped>\n",
       "    .dataframe tbody tr th:only-of-type {\n",
       "        vertical-align: middle;\n",
       "    }\n",
       "\n",
       "    .dataframe tbody tr th {\n",
       "        vertical-align: top;\n",
       "    }\n",
       "\n",
       "    .dataframe thead th {\n",
       "        text-align: right;\n",
       "    }\n",
       "</style>\n",
       "<table border=\"1\" class=\"dataframe\">\n",
       "  <thead>\n",
       "    <tr style=\"text-align: right;\">\n",
       "      <th></th>\n",
       "      <th>Close</th>\n",
       "      <th>High</th>\n",
       "      <th>Low</th>\n",
       "      <th>Open</th>\n",
       "      <th>Volume</th>\n",
       "      <th>Delta</th>\n",
       "      <th>Target</th>\n",
       "      <th>Return</th>\n",
       "      <th>Target_lag1</th>\n",
       "      <th>Target_lag2</th>\n",
       "      <th>Target_lag3</th>\n",
       "      <th>Target_lag4</th>\n",
       "      <th>Target_lag5</th>\n",
       "      <th>Target_lag6</th>\n",
       "      <th>Target_lag7</th>\n",
       "      <th>Target_lag8</th>\n",
       "      <th>Target_lag9</th>\n",
       "      <th>Target_lag10</th>\n",
       "    </tr>\n",
       "    <tr>\n",
       "      <th>Date</th>\n",
       "      <th></th>\n",
       "      <th></th>\n",
       "      <th></th>\n",
       "      <th></th>\n",
       "      <th></th>\n",
       "      <th></th>\n",
       "      <th></th>\n",
       "      <th></th>\n",
       "      <th></th>\n",
       "      <th></th>\n",
       "      <th></th>\n",
       "      <th></th>\n",
       "      <th></th>\n",
       "      <th></th>\n",
       "      <th></th>\n",
       "      <th></th>\n",
       "      <th></th>\n",
       "      <th></th>\n",
       "    </tr>\n",
       "  </thead>\n",
       "  <tbody>\n",
       "    <tr>\n",
       "      <th>2025-07-21</th>\n",
       "      <td>134167.0</td>\n",
       "      <td>134865.0</td>\n",
       "      <td>133367.0</td>\n",
       "      <td>133382.0</td>\n",
       "      <td>6726700</td>\n",
       "      <td>-2183.0</td>\n",
       "      <td>1.0</td>\n",
       "      <td>-0.016103</td>\n",
       "      <td>0.0</td>\n",
       "      <td>1.0</td>\n",
       "      <td>1.0</td>\n",
       "      <td>0.0</td>\n",
       "      <td>0.0</td>\n",
       "      <td>0.0</td>\n",
       "      <td>0.0</td>\n",
       "      <td>0.0</td>\n",
       "      <td>0.0</td>\n",
       "      <td>0.0</td>\n",
       "    </tr>\n",
       "    <tr>\n",
       "      <th>2025-07-22</th>\n",
       "      <td>134036.0</td>\n",
       "      <td>135300.0</td>\n",
       "      <td>133986.0</td>\n",
       "      <td>134180.0</td>\n",
       "      <td>7052100</td>\n",
       "      <td>785.0</td>\n",
       "      <td>0.0</td>\n",
       "      <td>0.005885</td>\n",
       "      <td>1.0</td>\n",
       "      <td>0.0</td>\n",
       "      <td>1.0</td>\n",
       "      <td>1.0</td>\n",
       "      <td>0.0</td>\n",
       "      <td>0.0</td>\n",
       "      <td>0.0</td>\n",
       "      <td>0.0</td>\n",
       "      <td>0.0</td>\n",
       "      <td>0.0</td>\n",
       "    </tr>\n",
       "    <tr>\n",
       "      <th>2025-07-23</th>\n",
       "      <td>135368.0</td>\n",
       "      <td>135782.0</td>\n",
       "      <td>133676.0</td>\n",
       "      <td>134036.0</td>\n",
       "      <td>6527600</td>\n",
       "      <td>-131.0</td>\n",
       "      <td>1.0</td>\n",
       "      <td>-0.000976</td>\n",
       "      <td>0.0</td>\n",
       "      <td>1.0</td>\n",
       "      <td>0.0</td>\n",
       "      <td>1.0</td>\n",
       "      <td>1.0</td>\n",
       "      <td>0.0</td>\n",
       "      <td>0.0</td>\n",
       "      <td>0.0</td>\n",
       "      <td>0.0</td>\n",
       "      <td>0.0</td>\n",
       "    </tr>\n",
       "    <tr>\n",
       "      <th>2025-07-24</th>\n",
       "      <td>133808.0</td>\n",
       "      <td>135363.0</td>\n",
       "      <td>133648.0</td>\n",
       "      <td>135357.0</td>\n",
       "      <td>5976800</td>\n",
       "      <td>1332.0</td>\n",
       "      <td>0.0</td>\n",
       "      <td>0.009938</td>\n",
       "      <td>1.0</td>\n",
       "      <td>0.0</td>\n",
       "      <td>1.0</td>\n",
       "      <td>0.0</td>\n",
       "      <td>1.0</td>\n",
       "      <td>1.0</td>\n",
       "      <td>0.0</td>\n",
       "      <td>0.0</td>\n",
       "      <td>0.0</td>\n",
       "      <td>0.0</td>\n",
       "    </tr>\n",
       "    <tr>\n",
       "      <th>2025-07-25</th>\n",
       "      <td>133524.0</td>\n",
       "      <td>134204.0</td>\n",
       "      <td>133285.0</td>\n",
       "      <td>133820.0</td>\n",
       "      <td>5560900</td>\n",
       "      <td>-1560.0</td>\n",
       "      <td>0.0</td>\n",
       "      <td>-0.011524</td>\n",
       "      <td>0.0</td>\n",
       "      <td>1.0</td>\n",
       "      <td>0.0</td>\n",
       "      <td>1.0</td>\n",
       "      <td>0.0</td>\n",
       "      <td>1.0</td>\n",
       "      <td>1.0</td>\n",
       "      <td>0.0</td>\n",
       "      <td>0.0</td>\n",
       "      <td>0.0</td>\n",
       "    </tr>\n",
       "  </tbody>\n",
       "</table>\n",
       "</div>"
      ],
      "text/plain": [
       "               Close      High       Low      Open   Volume   Delta  Target  \\\n",
       "Date                                                                          \n",
       "2025-07-21  134167.0  134865.0  133367.0  133382.0  6726700 -2183.0     1.0   \n",
       "2025-07-22  134036.0  135300.0  133986.0  134180.0  7052100   785.0     0.0   \n",
       "2025-07-23  135368.0  135782.0  133676.0  134036.0  6527600  -131.0     1.0   \n",
       "2025-07-24  133808.0  135363.0  133648.0  135357.0  5976800  1332.0     0.0   \n",
       "2025-07-25  133524.0  134204.0  133285.0  133820.0  5560900 -1560.0     0.0   \n",
       "\n",
       "              Return  Target_lag1  Target_lag2  Target_lag3  Target_lag4  \\\n",
       "Date                                                                       \n",
       "2025-07-21 -0.016103          0.0          1.0          1.0          0.0   \n",
       "2025-07-22  0.005885          1.0          0.0          1.0          1.0   \n",
       "2025-07-23 -0.000976          0.0          1.0          0.0          1.0   \n",
       "2025-07-24  0.009938          1.0          0.0          1.0          0.0   \n",
       "2025-07-25 -0.011524          0.0          1.0          0.0          1.0   \n",
       "\n",
       "            Target_lag5  Target_lag6  Target_lag7  Target_lag8  Target_lag9  \\\n",
       "Date                                                                          \n",
       "2025-07-21          0.0          0.0          0.0          0.0          0.0   \n",
       "2025-07-22          0.0          0.0          0.0          0.0          0.0   \n",
       "2025-07-23          1.0          0.0          0.0          0.0          0.0   \n",
       "2025-07-24          1.0          1.0          0.0          0.0          0.0   \n",
       "2025-07-25          0.0          1.0          1.0          0.0          0.0   \n",
       "\n",
       "            Target_lag10  \n",
       "Date                      \n",
       "2025-07-21           0.0  \n",
       "2025-07-22           0.0  \n",
       "2025-07-23           0.0  \n",
       "2025-07-24           0.0  \n",
       "2025-07-25           0.0  "
      ]
     },
     "execution_count": 20,
     "metadata": {},
     "output_type": "execute_result"
    }
   ],
   "source": [
    "# Criar os lags --> Features Defasadas ou Lagged Features\n",
    "\n",
    "n_lags = 10\n",
    "\n",
    "dataset = criar_n_lags(dados, n_lags, \"Target\")\n",
    "dados.tail()"
   ]
  },
  {
   "cell_type": "code",
   "execution_count": 21,
   "id": "81e0e3ea",
   "metadata": {},
   "outputs": [
    {
     "data": {
      "application/vnd.microsoft.datawrangler.viewer.v0+json": {
       "columns": [
        {
         "name": "Date",
         "rawType": "datetime64[ns]",
         "type": "datetime"
        },
        {
         "name": "Close",
         "rawType": "float64",
         "type": "float"
        },
        {
         "name": "High",
         "rawType": "float64",
         "type": "float"
        },
        {
         "name": "Low",
         "rawType": "float64",
         "type": "float"
        },
        {
         "name": "Open",
         "rawType": "float64",
         "type": "float"
        },
        {
         "name": "Volume",
         "rawType": "int64",
         "type": "integer"
        },
        {
         "name": "Delta",
         "rawType": "float64",
         "type": "float"
        },
        {
         "name": "Target",
         "rawType": "float64",
         "type": "float"
        },
        {
         "name": "Return",
         "rawType": "float64",
         "type": "float"
        },
        {
         "name": "Target_lag1",
         "rawType": "float64",
         "type": "float"
        },
        {
         "name": "Target_lag2",
         "rawType": "float64",
         "type": "float"
        },
        {
         "name": "Target_lag3",
         "rawType": "float64",
         "type": "float"
        },
        {
         "name": "Target_lag4",
         "rawType": "float64",
         "type": "float"
        },
        {
         "name": "Target_lag5",
         "rawType": "float64",
         "type": "float"
        },
        {
         "name": "Target_lag6",
         "rawType": "float64",
         "type": "float"
        },
        {
         "name": "Target_lag7",
         "rawType": "float64",
         "type": "float"
        },
        {
         "name": "Target_lag8",
         "rawType": "float64",
         "type": "float"
        },
        {
         "name": "Target_lag9",
         "rawType": "float64",
         "type": "float"
        },
        {
         "name": "Target_lag10",
         "rawType": "float64",
         "type": "float"
        },
        {
         "name": "HighShift",
         "rawType": "float64",
         "type": "float"
        },
        {
         "name": "LowShift",
         "rawType": "float64",
         "type": "float"
        },
        {
         "name": "Volatilidade",
         "rawType": "float64",
         "type": "float"
        },
        {
         "name": "Volatilidade_relativa",
         "rawType": "float64",
         "type": "float"
        }
       ],
       "ref": "2d230b33-684a-4a14-9bc3-3786db4f8b38",
       "rows": [
        [
         "2025-07-21 00:00:00",
         "134167.0",
         "134865.0",
         "133367.0",
         "133382.0",
         "6726700",
         "-2183.0",
         "1.0",
         "-0.016102976431969895",
         "0.0",
         "1.0",
         "1.0",
         "0.0",
         "0.0",
         "0.0",
         "0.0",
         "0.0",
         "0.0",
         "0.0",
         "135563.0",
         "133296.0",
         "2267.0",
         "0.017007262033369344"
        ],
        [
         "2025-07-22 00:00:00",
         "134036.0",
         "135300.0",
         "133986.0",
         "134180.0",
         "7052100",
         "785.0",
         "0.0",
         "0.005885351846576015",
         "1.0",
         "0.0",
         "1.0",
         "1.0",
         "0.0",
         "0.0",
         "0.0",
         "0.0",
         "0.0",
         "0.0",
         "134865.0",
         "133367.0",
         "1498.0",
         "0.011232163878620648"
        ],
        [
         "2025-07-23 00:00:00",
         "135368.0",
         "135782.0",
         "133676.0",
         "134036.0",
         "6527600",
         "-131.0",
         "1.0",
         "-0.0009763950897015983",
         "0.0",
         "1.0",
         "0.0",
         "1.0",
         "1.0",
         "0.0",
         "0.0",
         "0.0",
         "0.0",
         "0.0",
         "135300.0",
         "133986.0",
         "1314.0",
         "0.009806994760646635"
        ],
        [
         "2025-07-24 00:00:00",
         "133808.0",
         "135363.0",
         "133648.0",
         "135357.0",
         "5976800",
         "1332.0",
         "0.0",
         "0.009937628696768064",
         "1.0",
         "0.0",
         "1.0",
         "0.0",
         "1.0",
         "1.0",
         "0.0",
         "0.0",
         "0.0",
         "0.0",
         "135782.0",
         "133676.0",
         "2106.0",
         "0.01575451090696909"
        ],
        [
         "2025-07-25 00:00:00",
         "133524.0",
         "134204.0",
         "133285.0",
         "133820.0",
         "5560900",
         "-1560.0",
         "0.0",
         "-0.011524141599196236",
         "0.0",
         "1.0",
         "0.0",
         "1.0",
         "0.0",
         "1.0",
         "1.0",
         "0.0",
         "0.0",
         "0.0",
         "135363.0",
         "133648.0",
         "1715.0",
         "0.012832215970310068"
        ]
       ],
       "shape": {
        "columns": 22,
        "rows": 5
       }
      },
      "text/html": [
       "<div>\n",
       "<style scoped>\n",
       "    .dataframe tbody tr th:only-of-type {\n",
       "        vertical-align: middle;\n",
       "    }\n",
       "\n",
       "    .dataframe tbody tr th {\n",
       "        vertical-align: top;\n",
       "    }\n",
       "\n",
       "    .dataframe thead th {\n",
       "        text-align: right;\n",
       "    }\n",
       "</style>\n",
       "<table border=\"1\" class=\"dataframe\">\n",
       "  <thead>\n",
       "    <tr style=\"text-align: right;\">\n",
       "      <th></th>\n",
       "      <th>Close</th>\n",
       "      <th>High</th>\n",
       "      <th>Low</th>\n",
       "      <th>Open</th>\n",
       "      <th>Volume</th>\n",
       "      <th>Delta</th>\n",
       "      <th>Target</th>\n",
       "      <th>Return</th>\n",
       "      <th>Target_lag1</th>\n",
       "      <th>Target_lag2</th>\n",
       "      <th>...</th>\n",
       "      <th>Target_lag5</th>\n",
       "      <th>Target_lag6</th>\n",
       "      <th>Target_lag7</th>\n",
       "      <th>Target_lag8</th>\n",
       "      <th>Target_lag9</th>\n",
       "      <th>Target_lag10</th>\n",
       "      <th>HighShift</th>\n",
       "      <th>LowShift</th>\n",
       "      <th>Volatilidade</th>\n",
       "      <th>Volatilidade_relativa</th>\n",
       "    </tr>\n",
       "    <tr>\n",
       "      <th>Date</th>\n",
       "      <th></th>\n",
       "      <th></th>\n",
       "      <th></th>\n",
       "      <th></th>\n",
       "      <th></th>\n",
       "      <th></th>\n",
       "      <th></th>\n",
       "      <th></th>\n",
       "      <th></th>\n",
       "      <th></th>\n",
       "      <th></th>\n",
       "      <th></th>\n",
       "      <th></th>\n",
       "      <th></th>\n",
       "      <th></th>\n",
       "      <th></th>\n",
       "      <th></th>\n",
       "      <th></th>\n",
       "      <th></th>\n",
       "      <th></th>\n",
       "      <th></th>\n",
       "    </tr>\n",
       "  </thead>\n",
       "  <tbody>\n",
       "    <tr>\n",
       "      <th>2025-07-21</th>\n",
       "      <td>134167.0</td>\n",
       "      <td>134865.0</td>\n",
       "      <td>133367.0</td>\n",
       "      <td>133382.0</td>\n",
       "      <td>6726700</td>\n",
       "      <td>-2183.0</td>\n",
       "      <td>1.0</td>\n",
       "      <td>-0.016103</td>\n",
       "      <td>0.0</td>\n",
       "      <td>1.0</td>\n",
       "      <td>...</td>\n",
       "      <td>0.0</td>\n",
       "      <td>0.0</td>\n",
       "      <td>0.0</td>\n",
       "      <td>0.0</td>\n",
       "      <td>0.0</td>\n",
       "      <td>0.0</td>\n",
       "      <td>135563.0</td>\n",
       "      <td>133296.0</td>\n",
       "      <td>2267.0</td>\n",
       "      <td>0.017007</td>\n",
       "    </tr>\n",
       "    <tr>\n",
       "      <th>2025-07-22</th>\n",
       "      <td>134036.0</td>\n",
       "      <td>135300.0</td>\n",
       "      <td>133986.0</td>\n",
       "      <td>134180.0</td>\n",
       "      <td>7052100</td>\n",
       "      <td>785.0</td>\n",
       "      <td>0.0</td>\n",
       "      <td>0.005885</td>\n",
       "      <td>1.0</td>\n",
       "      <td>0.0</td>\n",
       "      <td>...</td>\n",
       "      <td>0.0</td>\n",
       "      <td>0.0</td>\n",
       "      <td>0.0</td>\n",
       "      <td>0.0</td>\n",
       "      <td>0.0</td>\n",
       "      <td>0.0</td>\n",
       "      <td>134865.0</td>\n",
       "      <td>133367.0</td>\n",
       "      <td>1498.0</td>\n",
       "      <td>0.011232</td>\n",
       "    </tr>\n",
       "    <tr>\n",
       "      <th>2025-07-23</th>\n",
       "      <td>135368.0</td>\n",
       "      <td>135782.0</td>\n",
       "      <td>133676.0</td>\n",
       "      <td>134036.0</td>\n",
       "      <td>6527600</td>\n",
       "      <td>-131.0</td>\n",
       "      <td>1.0</td>\n",
       "      <td>-0.000976</td>\n",
       "      <td>0.0</td>\n",
       "      <td>1.0</td>\n",
       "      <td>...</td>\n",
       "      <td>1.0</td>\n",
       "      <td>0.0</td>\n",
       "      <td>0.0</td>\n",
       "      <td>0.0</td>\n",
       "      <td>0.0</td>\n",
       "      <td>0.0</td>\n",
       "      <td>135300.0</td>\n",
       "      <td>133986.0</td>\n",
       "      <td>1314.0</td>\n",
       "      <td>0.009807</td>\n",
       "    </tr>\n",
       "    <tr>\n",
       "      <th>2025-07-24</th>\n",
       "      <td>133808.0</td>\n",
       "      <td>135363.0</td>\n",
       "      <td>133648.0</td>\n",
       "      <td>135357.0</td>\n",
       "      <td>5976800</td>\n",
       "      <td>1332.0</td>\n",
       "      <td>0.0</td>\n",
       "      <td>0.009938</td>\n",
       "      <td>1.0</td>\n",
       "      <td>0.0</td>\n",
       "      <td>...</td>\n",
       "      <td>1.0</td>\n",
       "      <td>1.0</td>\n",
       "      <td>0.0</td>\n",
       "      <td>0.0</td>\n",
       "      <td>0.0</td>\n",
       "      <td>0.0</td>\n",
       "      <td>135782.0</td>\n",
       "      <td>133676.0</td>\n",
       "      <td>2106.0</td>\n",
       "      <td>0.015755</td>\n",
       "    </tr>\n",
       "    <tr>\n",
       "      <th>2025-07-25</th>\n",
       "      <td>133524.0</td>\n",
       "      <td>134204.0</td>\n",
       "      <td>133285.0</td>\n",
       "      <td>133820.0</td>\n",
       "      <td>5560900</td>\n",
       "      <td>-1560.0</td>\n",
       "      <td>0.0</td>\n",
       "      <td>-0.011524</td>\n",
       "      <td>0.0</td>\n",
       "      <td>1.0</td>\n",
       "      <td>...</td>\n",
       "      <td>0.0</td>\n",
       "      <td>1.0</td>\n",
       "      <td>1.0</td>\n",
       "      <td>0.0</td>\n",
       "      <td>0.0</td>\n",
       "      <td>0.0</td>\n",
       "      <td>135363.0</td>\n",
       "      <td>133648.0</td>\n",
       "      <td>1715.0</td>\n",
       "      <td>0.012832</td>\n",
       "    </tr>\n",
       "  </tbody>\n",
       "</table>\n",
       "<p>5 rows × 22 columns</p>\n",
       "</div>"
      ],
      "text/plain": [
       "               Close      High       Low      Open   Volume   Delta  Target  \\\n",
       "Date                                                                          \n",
       "2025-07-21  134167.0  134865.0  133367.0  133382.0  6726700 -2183.0     1.0   \n",
       "2025-07-22  134036.0  135300.0  133986.0  134180.0  7052100   785.0     0.0   \n",
       "2025-07-23  135368.0  135782.0  133676.0  134036.0  6527600  -131.0     1.0   \n",
       "2025-07-24  133808.0  135363.0  133648.0  135357.0  5976800  1332.0     0.0   \n",
       "2025-07-25  133524.0  134204.0  133285.0  133820.0  5560900 -1560.0     0.0   \n",
       "\n",
       "              Return  Target_lag1  Target_lag2  ...  Target_lag5  Target_lag6  \\\n",
       "Date                                            ...                             \n",
       "2025-07-21 -0.016103          0.0          1.0  ...          0.0          0.0   \n",
       "2025-07-22  0.005885          1.0          0.0  ...          0.0          0.0   \n",
       "2025-07-23 -0.000976          0.0          1.0  ...          1.0          0.0   \n",
       "2025-07-24  0.009938          1.0          0.0  ...          1.0          1.0   \n",
       "2025-07-25 -0.011524          0.0          1.0  ...          0.0          1.0   \n",
       "\n",
       "            Target_lag7  Target_lag8  Target_lag9  Target_lag10  HighShift  \\\n",
       "Date                                                                         \n",
       "2025-07-21          0.0          0.0          0.0           0.0   135563.0   \n",
       "2025-07-22          0.0          0.0          0.0           0.0   134865.0   \n",
       "2025-07-23          0.0          0.0          0.0           0.0   135300.0   \n",
       "2025-07-24          0.0          0.0          0.0           0.0   135782.0   \n",
       "2025-07-25          1.0          0.0          0.0           0.0   135363.0   \n",
       "\n",
       "            LowShift  Volatilidade  Volatilidade_relativa  \n",
       "Date                                                       \n",
       "2025-07-21  133296.0        2267.0               0.017007  \n",
       "2025-07-22  133367.0        1498.0               0.011232  \n",
       "2025-07-23  133986.0        1314.0               0.009807  \n",
       "2025-07-24  133676.0        2106.0               0.015755  \n",
       "2025-07-25  133648.0        1715.0               0.012832  \n",
       "\n",
       "[5 rows x 22 columns]"
      ]
     },
     "execution_count": 21,
     "metadata": {},
     "output_type": "execute_result"
    }
   ],
   "source": [
    "# Empurrar(shift) os dados High e Low + Criar coluna Volatilidade\n",
    "\n",
    "dados[\"HighShift\"] = dados[\"High\"].shift(1)\n",
    "dados[\"LowShift\"] = dados[\"Low\"].shift(1)\n",
    "\n",
    "dados[\"Volatilidade\"] = dados[\"HighShift\"] - dados[\"LowShift\"]\n",
    "dados[\"Volatilidade_relativa\"] = dados[\"Volatilidade\"] / dados[\"LowShift\"]\n",
    "\n",
    "dados.tail()\n"
   ]
  },
  {
   "cell_type": "code",
   "execution_count": 22,
   "id": "98934a79",
   "metadata": {},
   "outputs": [
    {
     "data": {
      "application/vnd.microsoft.datawrangler.viewer.v0+json": {
       "columns": [
        {
         "name": "Date",
         "rawType": "datetime64[ns]",
         "type": "datetime"
        },
        {
         "name": "Close",
         "rawType": "float64",
         "type": "float"
        },
        {
         "name": "High",
         "rawType": "float64",
         "type": "float"
        },
        {
         "name": "Low",
         "rawType": "float64",
         "type": "float"
        },
        {
         "name": "Open",
         "rawType": "float64",
         "type": "float"
        },
        {
         "name": "Volume",
         "rawType": "int64",
         "type": "integer"
        },
        {
         "name": "Delta",
         "rawType": "float64",
         "type": "float"
        },
        {
         "name": "Target",
         "rawType": "float64",
         "type": "float"
        },
        {
         "name": "Return",
         "rawType": "float64",
         "type": "float"
        },
        {
         "name": "Target_lag1",
         "rawType": "float64",
         "type": "float"
        },
        {
         "name": "Target_lag2",
         "rawType": "float64",
         "type": "float"
        },
        {
         "name": "Target_lag3",
         "rawType": "float64",
         "type": "float"
        },
        {
         "name": "Target_lag4",
         "rawType": "float64",
         "type": "float"
        },
        {
         "name": "Target_lag5",
         "rawType": "float64",
         "type": "float"
        },
        {
         "name": "Target_lag6",
         "rawType": "float64",
         "type": "float"
        },
        {
         "name": "Target_lag7",
         "rawType": "float64",
         "type": "float"
        },
        {
         "name": "Target_lag8",
         "rawType": "float64",
         "type": "float"
        },
        {
         "name": "Target_lag9",
         "rawType": "float64",
         "type": "float"
        },
        {
         "name": "Target_lag10",
         "rawType": "float64",
         "type": "float"
        },
        {
         "name": "HighShift",
         "rawType": "float64",
         "type": "float"
        },
        {
         "name": "LowShift",
         "rawType": "float64",
         "type": "float"
        },
        {
         "name": "Volatilidade",
         "rawType": "float64",
         "type": "float"
        },
        {
         "name": "Volatilidade_relativa",
         "rawType": "float64",
         "type": "float"
        },
        {
         "name": "MA_5",
         "rawType": "float64",
         "type": "float"
        },
        {
         "name": "MA_22",
         "rawType": "float64",
         "type": "float"
        },
        {
         "name": "MA_66",
         "rawType": "float64",
         "type": "float"
        },
        {
         "name": "MA_132",
         "rawType": "float64",
         "type": "float"
        },
        {
         "name": "MA_252",
         "rawType": "float64",
         "type": "float"
        }
       ],
       "ref": "d748eaa5-07d3-46f6-ab18-2db2846350f0",
       "rows": [
        [
         "2025-07-21 00:00:00",
         "134167.0",
         "134865.0",
         "133367.0",
         "133382.0",
         "6726700",
         "-2183.0",
         "1.0",
         "-0.016102976431969895",
         "0.0",
         "1.0",
         "1.0",
         "0.0",
         "0.0",
         "0.0",
         "0.0",
         "0.0",
         "0.0",
         "0.0",
         "135563.0",
         "133296.0",
         "2267.0",
         "0.017007262033369344",
         "135001.4",
         "137425.81818181818",
         "136497.83333333334",
         "131298.58333333334",
         "130463.0"
        ],
        [
         "2025-07-22 00:00:00",
         "134036.0",
         "135300.0",
         "133986.0",
         "134180.0",
         "7052100",
         "785.0",
         "0.0",
         "0.005885351846576015",
         "1.0",
         "0.0",
         "1.0",
         "1.0",
         "0.0",
         "0.0",
         "0.0",
         "0.0",
         "0.0",
         "0.0",
         "134865.0",
         "133367.0",
         "1498.0",
         "0.011232163878620648",
         "134775.0",
         "137219.0",
         "136569.24242424243",
         "131408.75",
         "130483.06746031746"
        ],
        [
         "2025-07-23 00:00:00",
         "135368.0",
         "135782.0",
         "133676.0",
         "134036.0",
         "6527600",
         "-131.0",
         "1.0",
         "-0.0009763950897015983",
         "0.0",
         "1.0",
         "0.0",
         "1.0",
         "1.0",
         "0.0",
         "0.0",
         "0.0",
         "0.0",
         "0.0",
         "135300.0",
         "133986.0",
         "1314.0",
         "0.009806994760646635",
         "134532.2",
         "137079.0",
         "136641.83333333334",
         "131516.74242424243",
         "130501.26587301587"
        ],
        [
         "2025-07-24 00:00:00",
         "133808.0",
         "135363.0",
         "133648.0",
         "135357.0",
         "5976800",
         "1332.0",
         "0.0",
         "0.009937628696768064",
         "1.0",
         "0.0",
         "1.0",
         "0.0",
         "1.0",
         "1.0",
         "0.0",
         "0.0",
         "0.0",
         "0.0",
         "135782.0",
         "133676.0",
         "2106.0",
         "0.01575451090696909",
         "134503.6",
         "137025.22727272726",
         "136748.66666666666",
         "131641.83333333334",
         "130531.88492063493"
        ],
        [
         "2025-07-25 00:00:00",
         "133524.0",
         "134204.0",
         "133285.0",
         "133820.0",
         "5560900",
         "-1560.0",
         "0.0",
         "-0.011524141599196236",
         "0.0",
         "1.0",
         "0.0",
         "1.0",
         "0.0",
         "1.0",
         "1.0",
         "0.0",
         "0.0",
         "0.0",
         "135363.0",
         "133648.0",
         "1715.0",
         "0.012832215970310068",
         "134152.2",
         "136872.63636363635",
         "136811.66666666666",
         "131753.96212121213",
         "130556.45634920635"
        ]
       ],
       "shape": {
        "columns": 27,
        "rows": 5
       }
      },
      "text/html": [
       "<div>\n",
       "<style scoped>\n",
       "    .dataframe tbody tr th:only-of-type {\n",
       "        vertical-align: middle;\n",
       "    }\n",
       "\n",
       "    .dataframe tbody tr th {\n",
       "        vertical-align: top;\n",
       "    }\n",
       "\n",
       "    .dataframe thead th {\n",
       "        text-align: right;\n",
       "    }\n",
       "</style>\n",
       "<table border=\"1\" class=\"dataframe\">\n",
       "  <thead>\n",
       "    <tr style=\"text-align: right;\">\n",
       "      <th></th>\n",
       "      <th>Close</th>\n",
       "      <th>High</th>\n",
       "      <th>Low</th>\n",
       "      <th>Open</th>\n",
       "      <th>Volume</th>\n",
       "      <th>Delta</th>\n",
       "      <th>Target</th>\n",
       "      <th>Return</th>\n",
       "      <th>Target_lag1</th>\n",
       "      <th>Target_lag2</th>\n",
       "      <th>...</th>\n",
       "      <th>Target_lag10</th>\n",
       "      <th>HighShift</th>\n",
       "      <th>LowShift</th>\n",
       "      <th>Volatilidade</th>\n",
       "      <th>Volatilidade_relativa</th>\n",
       "      <th>MA_5</th>\n",
       "      <th>MA_22</th>\n",
       "      <th>MA_66</th>\n",
       "      <th>MA_132</th>\n",
       "      <th>MA_252</th>\n",
       "    </tr>\n",
       "    <tr>\n",
       "      <th>Date</th>\n",
       "      <th></th>\n",
       "      <th></th>\n",
       "      <th></th>\n",
       "      <th></th>\n",
       "      <th></th>\n",
       "      <th></th>\n",
       "      <th></th>\n",
       "      <th></th>\n",
       "      <th></th>\n",
       "      <th></th>\n",
       "      <th></th>\n",
       "      <th></th>\n",
       "      <th></th>\n",
       "      <th></th>\n",
       "      <th></th>\n",
       "      <th></th>\n",
       "      <th></th>\n",
       "      <th></th>\n",
       "      <th></th>\n",
       "      <th></th>\n",
       "      <th></th>\n",
       "    </tr>\n",
       "  </thead>\n",
       "  <tbody>\n",
       "    <tr>\n",
       "      <th>2025-07-21</th>\n",
       "      <td>134167.0</td>\n",
       "      <td>134865.0</td>\n",
       "      <td>133367.0</td>\n",
       "      <td>133382.0</td>\n",
       "      <td>6726700</td>\n",
       "      <td>-2183.0</td>\n",
       "      <td>1.0</td>\n",
       "      <td>-0.016103</td>\n",
       "      <td>0.0</td>\n",
       "      <td>1.0</td>\n",
       "      <td>...</td>\n",
       "      <td>0.0</td>\n",
       "      <td>135563.0</td>\n",
       "      <td>133296.0</td>\n",
       "      <td>2267.0</td>\n",
       "      <td>0.017007</td>\n",
       "      <td>135001.4</td>\n",
       "      <td>137425.818182</td>\n",
       "      <td>136497.833333</td>\n",
       "      <td>131298.583333</td>\n",
       "      <td>130463.000000</td>\n",
       "    </tr>\n",
       "    <tr>\n",
       "      <th>2025-07-22</th>\n",
       "      <td>134036.0</td>\n",
       "      <td>135300.0</td>\n",
       "      <td>133986.0</td>\n",
       "      <td>134180.0</td>\n",
       "      <td>7052100</td>\n",
       "      <td>785.0</td>\n",
       "      <td>0.0</td>\n",
       "      <td>0.005885</td>\n",
       "      <td>1.0</td>\n",
       "      <td>0.0</td>\n",
       "      <td>...</td>\n",
       "      <td>0.0</td>\n",
       "      <td>134865.0</td>\n",
       "      <td>133367.0</td>\n",
       "      <td>1498.0</td>\n",
       "      <td>0.011232</td>\n",
       "      <td>134775.0</td>\n",
       "      <td>137219.000000</td>\n",
       "      <td>136569.242424</td>\n",
       "      <td>131408.750000</td>\n",
       "      <td>130483.067460</td>\n",
       "    </tr>\n",
       "    <tr>\n",
       "      <th>2025-07-23</th>\n",
       "      <td>135368.0</td>\n",
       "      <td>135782.0</td>\n",
       "      <td>133676.0</td>\n",
       "      <td>134036.0</td>\n",
       "      <td>6527600</td>\n",
       "      <td>-131.0</td>\n",
       "      <td>1.0</td>\n",
       "      <td>-0.000976</td>\n",
       "      <td>0.0</td>\n",
       "      <td>1.0</td>\n",
       "      <td>...</td>\n",
       "      <td>0.0</td>\n",
       "      <td>135300.0</td>\n",
       "      <td>133986.0</td>\n",
       "      <td>1314.0</td>\n",
       "      <td>0.009807</td>\n",
       "      <td>134532.2</td>\n",
       "      <td>137079.000000</td>\n",
       "      <td>136641.833333</td>\n",
       "      <td>131516.742424</td>\n",
       "      <td>130501.265873</td>\n",
       "    </tr>\n",
       "    <tr>\n",
       "      <th>2025-07-24</th>\n",
       "      <td>133808.0</td>\n",
       "      <td>135363.0</td>\n",
       "      <td>133648.0</td>\n",
       "      <td>135357.0</td>\n",
       "      <td>5976800</td>\n",
       "      <td>1332.0</td>\n",
       "      <td>0.0</td>\n",
       "      <td>0.009938</td>\n",
       "      <td>1.0</td>\n",
       "      <td>0.0</td>\n",
       "      <td>...</td>\n",
       "      <td>0.0</td>\n",
       "      <td>135782.0</td>\n",
       "      <td>133676.0</td>\n",
       "      <td>2106.0</td>\n",
       "      <td>0.015755</td>\n",
       "      <td>134503.6</td>\n",
       "      <td>137025.227273</td>\n",
       "      <td>136748.666667</td>\n",
       "      <td>131641.833333</td>\n",
       "      <td>130531.884921</td>\n",
       "    </tr>\n",
       "    <tr>\n",
       "      <th>2025-07-25</th>\n",
       "      <td>133524.0</td>\n",
       "      <td>134204.0</td>\n",
       "      <td>133285.0</td>\n",
       "      <td>133820.0</td>\n",
       "      <td>5560900</td>\n",
       "      <td>-1560.0</td>\n",
       "      <td>0.0</td>\n",
       "      <td>-0.011524</td>\n",
       "      <td>0.0</td>\n",
       "      <td>1.0</td>\n",
       "      <td>...</td>\n",
       "      <td>0.0</td>\n",
       "      <td>135363.0</td>\n",
       "      <td>133648.0</td>\n",
       "      <td>1715.0</td>\n",
       "      <td>0.012832</td>\n",
       "      <td>134152.2</td>\n",
       "      <td>136872.636364</td>\n",
       "      <td>136811.666667</td>\n",
       "      <td>131753.962121</td>\n",
       "      <td>130556.456349</td>\n",
       "    </tr>\n",
       "  </tbody>\n",
       "</table>\n",
       "<p>5 rows × 27 columns</p>\n",
       "</div>"
      ],
      "text/plain": [
       "               Close      High       Low      Open   Volume   Delta  Target  \\\n",
       "Date                                                                          \n",
       "2025-07-21  134167.0  134865.0  133367.0  133382.0  6726700 -2183.0     1.0   \n",
       "2025-07-22  134036.0  135300.0  133986.0  134180.0  7052100   785.0     0.0   \n",
       "2025-07-23  135368.0  135782.0  133676.0  134036.0  6527600  -131.0     1.0   \n",
       "2025-07-24  133808.0  135363.0  133648.0  135357.0  5976800  1332.0     0.0   \n",
       "2025-07-25  133524.0  134204.0  133285.0  133820.0  5560900 -1560.0     0.0   \n",
       "\n",
       "              Return  Target_lag1  Target_lag2  ...  Target_lag10  HighShift  \\\n",
       "Date                                            ...                            \n",
       "2025-07-21 -0.016103          0.0          1.0  ...           0.0   135563.0   \n",
       "2025-07-22  0.005885          1.0          0.0  ...           0.0   134865.0   \n",
       "2025-07-23 -0.000976          0.0          1.0  ...           0.0   135300.0   \n",
       "2025-07-24  0.009938          1.0          0.0  ...           0.0   135782.0   \n",
       "2025-07-25 -0.011524          0.0          1.0  ...           0.0   135363.0   \n",
       "\n",
       "            LowShift  Volatilidade  Volatilidade_relativa      MA_5  \\\n",
       "Date                                                                  \n",
       "2025-07-21  133296.0        2267.0               0.017007  135001.4   \n",
       "2025-07-22  133367.0        1498.0               0.011232  134775.0   \n",
       "2025-07-23  133986.0        1314.0               0.009807  134532.2   \n",
       "2025-07-24  133676.0        2106.0               0.015755  134503.6   \n",
       "2025-07-25  133648.0        1715.0               0.012832  134152.2   \n",
       "\n",
       "                    MA_22          MA_66         MA_132         MA_252  \n",
       "Date                                                                    \n",
       "2025-07-21  137425.818182  136497.833333  131298.583333  130463.000000  \n",
       "2025-07-22  137219.000000  136569.242424  131408.750000  130483.067460  \n",
       "2025-07-23  137079.000000  136641.833333  131516.742424  130501.265873  \n",
       "2025-07-24  137025.227273  136748.666667  131641.833333  130531.884921  \n",
       "2025-07-25  136872.636364  136811.666667  131753.962121  130556.456349  \n",
       "\n",
       "[5 rows x 27 columns]"
      ]
     },
     "execution_count": 22,
     "metadata": {},
     "output_type": "execute_result"
    }
   ],
   "source": [
    "dias_medias = [5, 22, 66, 132, 252] \n",
    "\n",
    "for dias in dias_medias:\n",
    "    dados[f\"MA_{dias}\"] = dados[\"Close\"].rolling(window=dias).mean().shift(1)\n",
    "\n",
    "dados.tail()"
   ]
  },
  {
   "cell_type": "code",
   "execution_count": 23,
   "id": "9b71fb69",
   "metadata": {},
   "outputs": [
    {
     "data": {
      "application/vnd.microsoft.datawrangler.viewer.v0+json": {
       "columns": [
        {
         "name": "data",
         "rawType": "datetime64[ns]",
         "type": "datetime"
        },
        {
         "name": "Open",
         "rawType": "float64",
         "type": "float"
        },
        {
         "name": "Delta",
         "rawType": "float64",
         "type": "float"
        },
        {
         "name": "Target",
         "rawType": "float64",
         "type": "float"
        },
        {
         "name": "Return",
         "rawType": "float64",
         "type": "float"
        },
        {
         "name": "Target_lag1",
         "rawType": "float64",
         "type": "float"
        },
        {
         "name": "Target_lag2",
         "rawType": "float64",
         "type": "float"
        },
        {
         "name": "Target_lag3",
         "rawType": "float64",
         "type": "float"
        },
        {
         "name": "Target_lag4",
         "rawType": "float64",
         "type": "float"
        },
        {
         "name": "Target_lag5",
         "rawType": "float64",
         "type": "float"
        },
        {
         "name": "Target_lag6",
         "rawType": "float64",
         "type": "float"
        },
        {
         "name": "Target_lag7",
         "rawType": "float64",
         "type": "float"
        },
        {
         "name": "Target_lag8",
         "rawType": "float64",
         "type": "float"
        },
        {
         "name": "Target_lag9",
         "rawType": "float64",
         "type": "float"
        },
        {
         "name": "Target_lag10",
         "rawType": "float64",
         "type": "float"
        },
        {
         "name": "High",
         "rawType": "float64",
         "type": "float"
        },
        {
         "name": "Low",
         "rawType": "float64",
         "type": "float"
        },
        {
         "name": "Volatilidade",
         "rawType": "float64",
         "type": "float"
        },
        {
         "name": "Volatilidade_relativa",
         "rawType": "float64",
         "type": "float"
        },
        {
         "name": "MA_5",
         "rawType": "float64",
         "type": "float"
        },
        {
         "name": "MA_22",
         "rawType": "float64",
         "type": "float"
        },
        {
         "name": "MA_66",
         "rawType": "float64",
         "type": "float"
        },
        {
         "name": "MA_132",
         "rawType": "float64",
         "type": "float"
        },
        {
         "name": "MA_252",
         "rawType": "float64",
         "type": "float"
        }
       ],
       "ref": "891e77bc-8002-48a6-a0ad-58804a6f291d",
       "rows": [
        [
         "2025-07-21 00:00:00",
         "133382.0",
         "-2183.0",
         "1.0",
         "-0.016102976431969895",
         "0.0",
         "1.0",
         "1.0",
         "0.0",
         "0.0",
         "0.0",
         "0.0",
         "0.0",
         "0.0",
         "0.0",
         "135563.0",
         "133296.0",
         "2267.0",
         "0.017007262033369344",
         "135001.4",
         "137425.81818181818",
         "136497.83333333334",
         "131298.58333333334",
         "130463.0"
        ],
        [
         "2025-07-22 00:00:00",
         "134180.0",
         "785.0",
         "0.0",
         "0.005885351846576015",
         "1.0",
         "0.0",
         "1.0",
         "1.0",
         "0.0",
         "0.0",
         "0.0",
         "0.0",
         "0.0",
         "0.0",
         "134865.0",
         "133367.0",
         "1498.0",
         "0.011232163878620648",
         "134775.0",
         "137219.0",
         "136569.24242424243",
         "131408.75",
         "130483.06746031746"
        ],
        [
         "2025-07-23 00:00:00",
         "134036.0",
         "-131.0",
         "1.0",
         "-0.0009763950897015983",
         "0.0",
         "1.0",
         "0.0",
         "1.0",
         "1.0",
         "0.0",
         "0.0",
         "0.0",
         "0.0",
         "0.0",
         "135300.0",
         "133986.0",
         "1314.0",
         "0.009806994760646635",
         "134532.2",
         "137079.0",
         "136641.83333333334",
         "131516.74242424243",
         "130501.26587301587"
        ],
        [
         "2025-07-24 00:00:00",
         "135357.0",
         "1332.0",
         "0.0",
         "0.009937628696768064",
         "1.0",
         "0.0",
         "1.0",
         "0.0",
         "1.0",
         "1.0",
         "0.0",
         "0.0",
         "0.0",
         "0.0",
         "135782.0",
         "133676.0",
         "2106.0",
         "0.01575451090696909",
         "134503.6",
         "137025.22727272726",
         "136748.66666666666",
         "131641.83333333334",
         "130531.88492063493"
        ],
        [
         "2025-07-25 00:00:00",
         "133820.0",
         "-1560.0",
         "0.0",
         "-0.011524141599196236",
         "0.0",
         "1.0",
         "0.0",
         "1.0",
         "0.0",
         "1.0",
         "1.0",
         "0.0",
         "0.0",
         "0.0",
         "135363.0",
         "133648.0",
         "1715.0",
         "0.012832215970310068",
         "134152.2",
         "136872.63636363635",
         "136811.66666666666",
         "131753.96212121213",
         "130556.45634920635"
        ]
       ],
       "shape": {
        "columns": 23,
        "rows": 5
       }
      },
      "text/html": [
       "<div>\n",
       "<style scoped>\n",
       "    .dataframe tbody tr th:only-of-type {\n",
       "        vertical-align: middle;\n",
       "    }\n",
       "\n",
       "    .dataframe tbody tr th {\n",
       "        vertical-align: top;\n",
       "    }\n",
       "\n",
       "    .dataframe thead th {\n",
       "        text-align: right;\n",
       "    }\n",
       "</style>\n",
       "<table border=\"1\" class=\"dataframe\">\n",
       "  <thead>\n",
       "    <tr style=\"text-align: right;\">\n",
       "      <th></th>\n",
       "      <th>Open</th>\n",
       "      <th>Delta</th>\n",
       "      <th>Target</th>\n",
       "      <th>Return</th>\n",
       "      <th>Target_lag1</th>\n",
       "      <th>Target_lag2</th>\n",
       "      <th>Target_lag3</th>\n",
       "      <th>Target_lag4</th>\n",
       "      <th>Target_lag5</th>\n",
       "      <th>Target_lag6</th>\n",
       "      <th>...</th>\n",
       "      <th>Target_lag10</th>\n",
       "      <th>High</th>\n",
       "      <th>Low</th>\n",
       "      <th>Volatilidade</th>\n",
       "      <th>Volatilidade_relativa</th>\n",
       "      <th>MA_5</th>\n",
       "      <th>MA_22</th>\n",
       "      <th>MA_66</th>\n",
       "      <th>MA_132</th>\n",
       "      <th>MA_252</th>\n",
       "    </tr>\n",
       "    <tr>\n",
       "      <th>data</th>\n",
       "      <th></th>\n",
       "      <th></th>\n",
       "      <th></th>\n",
       "      <th></th>\n",
       "      <th></th>\n",
       "      <th></th>\n",
       "      <th></th>\n",
       "      <th></th>\n",
       "      <th></th>\n",
       "      <th></th>\n",
       "      <th></th>\n",
       "      <th></th>\n",
       "      <th></th>\n",
       "      <th></th>\n",
       "      <th></th>\n",
       "      <th></th>\n",
       "      <th></th>\n",
       "      <th></th>\n",
       "      <th></th>\n",
       "      <th></th>\n",
       "      <th></th>\n",
       "    </tr>\n",
       "  </thead>\n",
       "  <tbody>\n",
       "    <tr>\n",
       "      <th>2025-07-21</th>\n",
       "      <td>133382.0</td>\n",
       "      <td>-2183.0</td>\n",
       "      <td>1.0</td>\n",
       "      <td>-0.016103</td>\n",
       "      <td>0.0</td>\n",
       "      <td>1.0</td>\n",
       "      <td>1.0</td>\n",
       "      <td>0.0</td>\n",
       "      <td>0.0</td>\n",
       "      <td>0.0</td>\n",
       "      <td>...</td>\n",
       "      <td>0.0</td>\n",
       "      <td>135563.0</td>\n",
       "      <td>133296.0</td>\n",
       "      <td>2267.0</td>\n",
       "      <td>0.017007</td>\n",
       "      <td>135001.4</td>\n",
       "      <td>137425.818182</td>\n",
       "      <td>136497.833333</td>\n",
       "      <td>131298.583333</td>\n",
       "      <td>130463.000000</td>\n",
       "    </tr>\n",
       "    <tr>\n",
       "      <th>2025-07-22</th>\n",
       "      <td>134180.0</td>\n",
       "      <td>785.0</td>\n",
       "      <td>0.0</td>\n",
       "      <td>0.005885</td>\n",
       "      <td>1.0</td>\n",
       "      <td>0.0</td>\n",
       "      <td>1.0</td>\n",
       "      <td>1.0</td>\n",
       "      <td>0.0</td>\n",
       "      <td>0.0</td>\n",
       "      <td>...</td>\n",
       "      <td>0.0</td>\n",
       "      <td>134865.0</td>\n",
       "      <td>133367.0</td>\n",
       "      <td>1498.0</td>\n",
       "      <td>0.011232</td>\n",
       "      <td>134775.0</td>\n",
       "      <td>137219.000000</td>\n",
       "      <td>136569.242424</td>\n",
       "      <td>131408.750000</td>\n",
       "      <td>130483.067460</td>\n",
       "    </tr>\n",
       "    <tr>\n",
       "      <th>2025-07-23</th>\n",
       "      <td>134036.0</td>\n",
       "      <td>-131.0</td>\n",
       "      <td>1.0</td>\n",
       "      <td>-0.000976</td>\n",
       "      <td>0.0</td>\n",
       "      <td>1.0</td>\n",
       "      <td>0.0</td>\n",
       "      <td>1.0</td>\n",
       "      <td>1.0</td>\n",
       "      <td>0.0</td>\n",
       "      <td>...</td>\n",
       "      <td>0.0</td>\n",
       "      <td>135300.0</td>\n",
       "      <td>133986.0</td>\n",
       "      <td>1314.0</td>\n",
       "      <td>0.009807</td>\n",
       "      <td>134532.2</td>\n",
       "      <td>137079.000000</td>\n",
       "      <td>136641.833333</td>\n",
       "      <td>131516.742424</td>\n",
       "      <td>130501.265873</td>\n",
       "    </tr>\n",
       "    <tr>\n",
       "      <th>2025-07-24</th>\n",
       "      <td>135357.0</td>\n",
       "      <td>1332.0</td>\n",
       "      <td>0.0</td>\n",
       "      <td>0.009938</td>\n",
       "      <td>1.0</td>\n",
       "      <td>0.0</td>\n",
       "      <td>1.0</td>\n",
       "      <td>0.0</td>\n",
       "      <td>1.0</td>\n",
       "      <td>1.0</td>\n",
       "      <td>...</td>\n",
       "      <td>0.0</td>\n",
       "      <td>135782.0</td>\n",
       "      <td>133676.0</td>\n",
       "      <td>2106.0</td>\n",
       "      <td>0.015755</td>\n",
       "      <td>134503.6</td>\n",
       "      <td>137025.227273</td>\n",
       "      <td>136748.666667</td>\n",
       "      <td>131641.833333</td>\n",
       "      <td>130531.884921</td>\n",
       "    </tr>\n",
       "    <tr>\n",
       "      <th>2025-07-25</th>\n",
       "      <td>133820.0</td>\n",
       "      <td>-1560.0</td>\n",
       "      <td>0.0</td>\n",
       "      <td>-0.011524</td>\n",
       "      <td>0.0</td>\n",
       "      <td>1.0</td>\n",
       "      <td>0.0</td>\n",
       "      <td>1.0</td>\n",
       "      <td>0.0</td>\n",
       "      <td>1.0</td>\n",
       "      <td>...</td>\n",
       "      <td>0.0</td>\n",
       "      <td>135363.0</td>\n",
       "      <td>133648.0</td>\n",
       "      <td>1715.0</td>\n",
       "      <td>0.012832</td>\n",
       "      <td>134152.2</td>\n",
       "      <td>136872.636364</td>\n",
       "      <td>136811.666667</td>\n",
       "      <td>131753.962121</td>\n",
       "      <td>130556.456349</td>\n",
       "    </tr>\n",
       "  </tbody>\n",
       "</table>\n",
       "<p>5 rows × 23 columns</p>\n",
       "</div>"
      ],
      "text/plain": [
       "                Open   Delta  Target    Return  Target_lag1  Target_lag2  \\\n",
       "data                                                                       \n",
       "2025-07-21  133382.0 -2183.0     1.0 -0.016103          0.0          1.0   \n",
       "2025-07-22  134180.0   785.0     0.0  0.005885          1.0          0.0   \n",
       "2025-07-23  134036.0  -131.0     1.0 -0.000976          0.0          1.0   \n",
       "2025-07-24  135357.0  1332.0     0.0  0.009938          1.0          0.0   \n",
       "2025-07-25  133820.0 -1560.0     0.0 -0.011524          0.0          1.0   \n",
       "\n",
       "            Target_lag3  Target_lag4  Target_lag5  Target_lag6  ...  \\\n",
       "data                                                            ...   \n",
       "2025-07-21          1.0          0.0          0.0          0.0  ...   \n",
       "2025-07-22          1.0          1.0          0.0          0.0  ...   \n",
       "2025-07-23          0.0          1.0          1.0          0.0  ...   \n",
       "2025-07-24          1.0          0.0          1.0          1.0  ...   \n",
       "2025-07-25          0.0          1.0          0.0          1.0  ...   \n",
       "\n",
       "            Target_lag10      High       Low  Volatilidade  \\\n",
       "data                                                         \n",
       "2025-07-21           0.0  135563.0  133296.0        2267.0   \n",
       "2025-07-22           0.0  134865.0  133367.0        1498.0   \n",
       "2025-07-23           0.0  135300.0  133986.0        1314.0   \n",
       "2025-07-24           0.0  135782.0  133676.0        2106.0   \n",
       "2025-07-25           0.0  135363.0  133648.0        1715.0   \n",
       "\n",
       "            Volatilidade_relativa      MA_5          MA_22          MA_66  \\\n",
       "data                                                                        \n",
       "2025-07-21               0.017007  135001.4  137425.818182  136497.833333   \n",
       "2025-07-22               0.011232  134775.0  137219.000000  136569.242424   \n",
       "2025-07-23               0.009807  134532.2  137079.000000  136641.833333   \n",
       "2025-07-24               0.015755  134503.6  137025.227273  136748.666667   \n",
       "2025-07-25               0.012832  134152.2  136872.636364  136811.666667   \n",
       "\n",
       "                   MA_132         MA_252  \n",
       "data                                      \n",
       "2025-07-21  131298.583333  130463.000000  \n",
       "2025-07-22  131408.750000  130483.067460  \n",
       "2025-07-23  131516.742424  130501.265873  \n",
       "2025-07-24  131641.833333  130531.884921  \n",
       "2025-07-25  131753.962121  130556.456349  \n",
       "\n",
       "[5 rows x 23 columns]"
      ]
     },
     "execution_count": 23,
     "metadata": {},
     "output_type": "execute_result"
    }
   ],
   "source": [
    "# Ajustar o Data Frame removendo colunas não necessarias e linhas com valores nulos \n",
    "\n",
    "colunas_excluir = [\"Close\", \"High\", \"Low\", \"Volume\"]\n",
    "dados = dados.drop(columns=colunas_excluir)\n",
    "dados = dados.dropna()\n",
    "\n",
    "dados.index.name = \"data\"\n",
    "dados = dados.rename(columns={\"HighShift\":\"High\", \"LowShift\":\"Low\"})\n",
    "\n",
    "dados.tail()"
   ]
  },
  {
   "cell_type": "markdown",
   "id": "ef02875f",
   "metadata": {},
   "source": [
    "##### Separa a base entre treino e test"
   ]
  },
  {
   "cell_type": "code",
   "execution_count": 24,
   "id": "647767f6",
   "metadata": {},
   "outputs": [],
   "source": [
    "# Gerar datas para filtrar treino e teste \n",
    "\n",
    "# Definir o ano e mês do intervalo + anos \n",
    "ano = 2025\n",
    "mes = 6\n",
    "anos = 10\n",
    "\n",
    "# Gerar as variaveis \n",
    "data_inicio_teste = pd.to_datetime(date(ano, mes, 1))\n",
    "ultimo_dia = calendar.monthrange(ano, mes)[1]\n",
    "data_fim_teste = pd.to_datetime(date(ano, mes, ultimo_dia))\n",
    "\n",
    "ano_atual = date.today().year\n",
    "ano_inicio_treino = ano_atual - anos\n",
    "data_inicio_treino = pd.to_datetime(date(ano_inicio_treino,1,1))"
   ]
  },
  {
   "cell_type": "code",
   "execution_count": 25,
   "id": "9f3291b0",
   "metadata": {},
   "outputs": [
    {
     "name": "stdout",
     "output_type": "stream",
     "text": [
      "Features (x):\n"
     ]
    },
    {
     "data": {
      "application/vnd.microsoft.datawrangler.viewer.v0+json": {
       "columns": [
        {
         "name": "data",
         "rawType": "datetime64[ns]",
         "type": "datetime"
        },
        {
         "name": "Open",
         "rawType": "float64",
         "type": "float"
        },
        {
         "name": "Delta",
         "rawType": "float64",
         "type": "float"
        },
        {
         "name": "Return",
         "rawType": "float64",
         "type": "float"
        },
        {
         "name": "Target_lag1",
         "rawType": "float64",
         "type": "float"
        },
        {
         "name": "Target_lag2",
         "rawType": "float64",
         "type": "float"
        },
        {
         "name": "Target_lag3",
         "rawType": "float64",
         "type": "float"
        },
        {
         "name": "Target_lag4",
         "rawType": "float64",
         "type": "float"
        },
        {
         "name": "Target_lag5",
         "rawType": "float64",
         "type": "float"
        },
        {
         "name": "Target_lag6",
         "rawType": "float64",
         "type": "float"
        },
        {
         "name": "Target_lag7",
         "rawType": "float64",
         "type": "float"
        },
        {
         "name": "Target_lag8",
         "rawType": "float64",
         "type": "float"
        },
        {
         "name": "Target_lag9",
         "rawType": "float64",
         "type": "float"
        },
        {
         "name": "Target_lag10",
         "rawType": "float64",
         "type": "float"
        },
        {
         "name": "High",
         "rawType": "float64",
         "type": "float"
        },
        {
         "name": "Low",
         "rawType": "float64",
         "type": "float"
        },
        {
         "name": "Volatilidade",
         "rawType": "float64",
         "type": "float"
        },
        {
         "name": "Volatilidade_relativa",
         "rawType": "float64",
         "type": "float"
        },
        {
         "name": "MA_5",
         "rawType": "float64",
         "type": "float"
        },
        {
         "name": "MA_22",
         "rawType": "float64",
         "type": "float"
        },
        {
         "name": "MA_66",
         "rawType": "float64",
         "type": "float"
        },
        {
         "name": "MA_132",
         "rawType": "float64",
         "type": "float"
        },
        {
         "name": "MA_252",
         "rawType": "float64",
         "type": "float"
        }
       ],
       "ref": "5e0e37ef-8304-406f-9383-fefac756c1c8",
       "rows": [
        [
         "2025-07-21 00:00:00",
         "133382.0",
         "-2183.0",
         "-0.016102976431969895",
         "0.0",
         "1.0",
         "1.0",
         "0.0",
         "0.0",
         "0.0",
         "0.0",
         "0.0",
         "0.0",
         "0.0",
         "135563.0",
         "133296.0",
         "2267.0",
         "0.017007262033369344",
         "135001.4",
         "137425.81818181818",
         "136497.83333333334",
         "131298.58333333334",
         "130463.0"
        ],
        [
         "2025-07-22 00:00:00",
         "134180.0",
         "785.0",
         "0.005885351846576015",
         "1.0",
         "0.0",
         "1.0",
         "1.0",
         "0.0",
         "0.0",
         "0.0",
         "0.0",
         "0.0",
         "0.0",
         "134865.0",
         "133367.0",
         "1498.0",
         "0.011232163878620648",
         "134775.0",
         "137219.0",
         "136569.24242424243",
         "131408.75",
         "130483.06746031746"
        ],
        [
         "2025-07-23 00:00:00",
         "134036.0",
         "-131.0",
         "-0.0009763950897015983",
         "0.0",
         "1.0",
         "0.0",
         "1.0",
         "1.0",
         "0.0",
         "0.0",
         "0.0",
         "0.0",
         "0.0",
         "135300.0",
         "133986.0",
         "1314.0",
         "0.009806994760646635",
         "134532.2",
         "137079.0",
         "136641.83333333334",
         "131516.74242424243",
         "130501.26587301587"
        ],
        [
         "2025-07-24 00:00:00",
         "135357.0",
         "1332.0",
         "0.009937628696768064",
         "1.0",
         "0.0",
         "1.0",
         "0.0",
         "1.0",
         "1.0",
         "0.0",
         "0.0",
         "0.0",
         "0.0",
         "135782.0",
         "133676.0",
         "2106.0",
         "0.01575451090696909",
         "134503.6",
         "137025.22727272726",
         "136748.66666666666",
         "131641.83333333334",
         "130531.88492063493"
        ],
        [
         "2025-07-25 00:00:00",
         "133820.0",
         "-1560.0",
         "-0.011524141599196236",
         "0.0",
         "1.0",
         "0.0",
         "1.0",
         "0.0",
         "1.0",
         "1.0",
         "0.0",
         "0.0",
         "0.0",
         "135363.0",
         "133648.0",
         "1715.0",
         "0.012832215970310068",
         "134152.2",
         "136872.63636363635",
         "136811.66666666666",
         "131753.96212121213",
         "130556.45634920635"
        ]
       ],
       "shape": {
        "columns": 22,
        "rows": 5
       }
      },
      "text/html": [
       "<div>\n",
       "<style scoped>\n",
       "    .dataframe tbody tr th:only-of-type {\n",
       "        vertical-align: middle;\n",
       "    }\n",
       "\n",
       "    .dataframe tbody tr th {\n",
       "        vertical-align: top;\n",
       "    }\n",
       "\n",
       "    .dataframe thead th {\n",
       "        text-align: right;\n",
       "    }\n",
       "</style>\n",
       "<table border=\"1\" class=\"dataframe\">\n",
       "  <thead>\n",
       "    <tr style=\"text-align: right;\">\n",
       "      <th></th>\n",
       "      <th>Open</th>\n",
       "      <th>Delta</th>\n",
       "      <th>Return</th>\n",
       "      <th>Target_lag1</th>\n",
       "      <th>Target_lag2</th>\n",
       "      <th>Target_lag3</th>\n",
       "      <th>Target_lag4</th>\n",
       "      <th>Target_lag5</th>\n",
       "      <th>Target_lag6</th>\n",
       "      <th>Target_lag7</th>\n",
       "      <th>...</th>\n",
       "      <th>Target_lag10</th>\n",
       "      <th>High</th>\n",
       "      <th>Low</th>\n",
       "      <th>Volatilidade</th>\n",
       "      <th>Volatilidade_relativa</th>\n",
       "      <th>MA_5</th>\n",
       "      <th>MA_22</th>\n",
       "      <th>MA_66</th>\n",
       "      <th>MA_132</th>\n",
       "      <th>MA_252</th>\n",
       "    </tr>\n",
       "    <tr>\n",
       "      <th>data</th>\n",
       "      <th></th>\n",
       "      <th></th>\n",
       "      <th></th>\n",
       "      <th></th>\n",
       "      <th></th>\n",
       "      <th></th>\n",
       "      <th></th>\n",
       "      <th></th>\n",
       "      <th></th>\n",
       "      <th></th>\n",
       "      <th></th>\n",
       "      <th></th>\n",
       "      <th></th>\n",
       "      <th></th>\n",
       "      <th></th>\n",
       "      <th></th>\n",
       "      <th></th>\n",
       "      <th></th>\n",
       "      <th></th>\n",
       "      <th></th>\n",
       "      <th></th>\n",
       "    </tr>\n",
       "  </thead>\n",
       "  <tbody>\n",
       "    <tr>\n",
       "      <th>2025-07-21</th>\n",
       "      <td>133382.0</td>\n",
       "      <td>-2183.0</td>\n",
       "      <td>-0.016103</td>\n",
       "      <td>0.0</td>\n",
       "      <td>1.0</td>\n",
       "      <td>1.0</td>\n",
       "      <td>0.0</td>\n",
       "      <td>0.0</td>\n",
       "      <td>0.0</td>\n",
       "      <td>0.0</td>\n",
       "      <td>...</td>\n",
       "      <td>0.0</td>\n",
       "      <td>135563.0</td>\n",
       "      <td>133296.0</td>\n",
       "      <td>2267.0</td>\n",
       "      <td>0.017007</td>\n",
       "      <td>135001.4</td>\n",
       "      <td>137425.818182</td>\n",
       "      <td>136497.833333</td>\n",
       "      <td>131298.583333</td>\n",
       "      <td>130463.000000</td>\n",
       "    </tr>\n",
       "    <tr>\n",
       "      <th>2025-07-22</th>\n",
       "      <td>134180.0</td>\n",
       "      <td>785.0</td>\n",
       "      <td>0.005885</td>\n",
       "      <td>1.0</td>\n",
       "      <td>0.0</td>\n",
       "      <td>1.0</td>\n",
       "      <td>1.0</td>\n",
       "      <td>0.0</td>\n",
       "      <td>0.0</td>\n",
       "      <td>0.0</td>\n",
       "      <td>...</td>\n",
       "      <td>0.0</td>\n",
       "      <td>134865.0</td>\n",
       "      <td>133367.0</td>\n",
       "      <td>1498.0</td>\n",
       "      <td>0.011232</td>\n",
       "      <td>134775.0</td>\n",
       "      <td>137219.000000</td>\n",
       "      <td>136569.242424</td>\n",
       "      <td>131408.750000</td>\n",
       "      <td>130483.067460</td>\n",
       "    </tr>\n",
       "    <tr>\n",
       "      <th>2025-07-23</th>\n",
       "      <td>134036.0</td>\n",
       "      <td>-131.0</td>\n",
       "      <td>-0.000976</td>\n",
       "      <td>0.0</td>\n",
       "      <td>1.0</td>\n",
       "      <td>0.0</td>\n",
       "      <td>1.0</td>\n",
       "      <td>1.0</td>\n",
       "      <td>0.0</td>\n",
       "      <td>0.0</td>\n",
       "      <td>...</td>\n",
       "      <td>0.0</td>\n",
       "      <td>135300.0</td>\n",
       "      <td>133986.0</td>\n",
       "      <td>1314.0</td>\n",
       "      <td>0.009807</td>\n",
       "      <td>134532.2</td>\n",
       "      <td>137079.000000</td>\n",
       "      <td>136641.833333</td>\n",
       "      <td>131516.742424</td>\n",
       "      <td>130501.265873</td>\n",
       "    </tr>\n",
       "    <tr>\n",
       "      <th>2025-07-24</th>\n",
       "      <td>135357.0</td>\n",
       "      <td>1332.0</td>\n",
       "      <td>0.009938</td>\n",
       "      <td>1.0</td>\n",
       "      <td>0.0</td>\n",
       "      <td>1.0</td>\n",
       "      <td>0.0</td>\n",
       "      <td>1.0</td>\n",
       "      <td>1.0</td>\n",
       "      <td>0.0</td>\n",
       "      <td>...</td>\n",
       "      <td>0.0</td>\n",
       "      <td>135782.0</td>\n",
       "      <td>133676.0</td>\n",
       "      <td>2106.0</td>\n",
       "      <td>0.015755</td>\n",
       "      <td>134503.6</td>\n",
       "      <td>137025.227273</td>\n",
       "      <td>136748.666667</td>\n",
       "      <td>131641.833333</td>\n",
       "      <td>130531.884921</td>\n",
       "    </tr>\n",
       "    <tr>\n",
       "      <th>2025-07-25</th>\n",
       "      <td>133820.0</td>\n",
       "      <td>-1560.0</td>\n",
       "      <td>-0.011524</td>\n",
       "      <td>0.0</td>\n",
       "      <td>1.0</td>\n",
       "      <td>0.0</td>\n",
       "      <td>1.0</td>\n",
       "      <td>0.0</td>\n",
       "      <td>1.0</td>\n",
       "      <td>1.0</td>\n",
       "      <td>...</td>\n",
       "      <td>0.0</td>\n",
       "      <td>135363.0</td>\n",
       "      <td>133648.0</td>\n",
       "      <td>1715.0</td>\n",
       "      <td>0.012832</td>\n",
       "      <td>134152.2</td>\n",
       "      <td>136872.636364</td>\n",
       "      <td>136811.666667</td>\n",
       "      <td>131753.962121</td>\n",
       "      <td>130556.456349</td>\n",
       "    </tr>\n",
       "  </tbody>\n",
       "</table>\n",
       "<p>5 rows × 22 columns</p>\n",
       "</div>"
      ],
      "text/plain": [
       "                Open   Delta    Return  Target_lag1  Target_lag2  Target_lag3  \\\n",
       "data                                                                            \n",
       "2025-07-21  133382.0 -2183.0 -0.016103          0.0          1.0          1.0   \n",
       "2025-07-22  134180.0   785.0  0.005885          1.0          0.0          1.0   \n",
       "2025-07-23  134036.0  -131.0 -0.000976          0.0          1.0          0.0   \n",
       "2025-07-24  135357.0  1332.0  0.009938          1.0          0.0          1.0   \n",
       "2025-07-25  133820.0 -1560.0 -0.011524          0.0          1.0          0.0   \n",
       "\n",
       "            Target_lag4  Target_lag5  Target_lag6  Target_lag7  ...  \\\n",
       "data                                                            ...   \n",
       "2025-07-21          0.0          0.0          0.0          0.0  ...   \n",
       "2025-07-22          1.0          0.0          0.0          0.0  ...   \n",
       "2025-07-23          1.0          1.0          0.0          0.0  ...   \n",
       "2025-07-24          0.0          1.0          1.0          0.0  ...   \n",
       "2025-07-25          1.0          0.0          1.0          1.0  ...   \n",
       "\n",
       "            Target_lag10      High       Low  Volatilidade  \\\n",
       "data                                                         \n",
       "2025-07-21           0.0  135563.0  133296.0        2267.0   \n",
       "2025-07-22           0.0  134865.0  133367.0        1498.0   \n",
       "2025-07-23           0.0  135300.0  133986.0        1314.0   \n",
       "2025-07-24           0.0  135782.0  133676.0        2106.0   \n",
       "2025-07-25           0.0  135363.0  133648.0        1715.0   \n",
       "\n",
       "            Volatilidade_relativa      MA_5          MA_22          MA_66  \\\n",
       "data                                                                        \n",
       "2025-07-21               0.017007  135001.4  137425.818182  136497.833333   \n",
       "2025-07-22               0.011232  134775.0  137219.000000  136569.242424   \n",
       "2025-07-23               0.009807  134532.2  137079.000000  136641.833333   \n",
       "2025-07-24               0.015755  134503.6  137025.227273  136748.666667   \n",
       "2025-07-25               0.012832  134152.2  136872.636364  136811.666667   \n",
       "\n",
       "                   MA_132         MA_252  \n",
       "data                                      \n",
       "2025-07-21  131298.583333  130463.000000  \n",
       "2025-07-22  131408.750000  130483.067460  \n",
       "2025-07-23  131516.742424  130501.265873  \n",
       "2025-07-24  131641.833333  130531.884921  \n",
       "2025-07-25  131753.962121  130556.456349  \n",
       "\n",
       "[5 rows x 22 columns]"
      ]
     },
     "metadata": {},
     "output_type": "display_data"
    },
    {
     "name": "stdout",
     "output_type": "stream",
     "text": [
      "\n",
      "Alvo (y):\n"
     ]
    },
    {
     "data": {
      "application/vnd.microsoft.datawrangler.viewer.v0+json": {
       "columns": [
        {
         "name": "data",
         "rawType": "datetime64[ns]",
         "type": "datetime"
        },
        {
         "name": "Target",
         "rawType": "float64",
         "type": "float"
        }
       ],
       "ref": "2f46901d-e586-4816-898b-74d7406e019b",
       "rows": [
        [
         "2025-07-21 00:00:00",
         "1.0"
        ],
        [
         "2025-07-22 00:00:00",
         "0.0"
        ],
        [
         "2025-07-23 00:00:00",
         "1.0"
        ],
        [
         "2025-07-24 00:00:00",
         "0.0"
        ],
        [
         "2025-07-25 00:00:00",
         "0.0"
        ]
       ],
       "shape": {
        "columns": 1,
        "rows": 5
       }
      },
      "text/plain": [
       "data\n",
       "2025-07-21    1.0\n",
       "2025-07-22    0.0\n",
       "2025-07-23    1.0\n",
       "2025-07-24    0.0\n",
       "2025-07-25    0.0\n",
       "Name: Target, dtype: float64"
      ]
     },
     "metadata": {},
     "output_type": "display_data"
    }
   ],
   "source": [
    "# Separar os dados para treino e teste \n",
    "\n",
    "preditores = list(dados.columns)\n",
    "preditores.remove(\"Target\")\n",
    "\n",
    "x = dados[preditores]\n",
    "y = dados[\"Target\"]\n",
    "\n",
    "print(\"Features (x):\")\n",
    "display(x.tail())\n",
    "\n",
    "print(\"\\nAlvo (y):\")\n",
    "display(y.tail())"
   ]
  },
  {
   "cell_type": "code",
   "execution_count": 26,
   "id": "cd289894",
   "metadata": {},
   "outputs": [],
   "source": [
    "# Separar a base em treino e teste\n",
    "\n",
    "x_train = x[(x.index >= data_inicio_treino) & (x.index < data_inicio_teste)]\n",
    "y_train = y[(y.index >= data_inicio_treino) & (y.index < data_inicio_teste)]\n",
    "\n",
    "x_test = x[(x.index >= data_inicio_teste) & (x.index <= data_fim_teste)]\n",
    "y_test = y[(y.index >= data_inicio_teste) & (y.index <= data_fim_teste)]"
   ]
  },
  {
   "cell_type": "markdown",
   "id": "80cb956f",
   "metadata": {},
   "source": [
    "##### Criação dos modelos de Machine Learning"
   ]
  },
  {
   "cell_type": "code",
   "execution_count": 27,
   "id": "60612e8d",
   "metadata": {},
   "outputs": [],
   "source": [
    "# Normalizar os dados\n",
    "\n",
    "scaler = StandardScaler()\n",
    "scaler.fit(x_train)\n",
    "\n",
    "x_train_scaled = scaler.transform(x_train)\n",
    "x_test_scaled = scaler.transform(x_test)"
   ]
  },
  {
   "cell_type": "code",
   "execution_count": 28,
   "id": "50ad2429",
   "metadata": {},
   "outputs": [],
   "source": [
    "tscv = TimeSeriesSplit(n_splits=5)"
   ]
  },
  {
   "cell_type": "code",
   "execution_count": 29,
   "id": "32f54d2d",
   "metadata": {},
   "outputs": [],
   "source": [
    "# Treinar o modelo e gerar a previsao - Regressao Logistica\n",
    "\n",
    "usar_grid = \"Não\"\n",
    "\n",
    "if usar_grid == \"Sim\":\n",
    "\n",
    "    pipe_lr = Pipeline(\n",
    "        [('scaler', StandardScaler()), ('clf', LogisticRegression(solver='liblinear'))]\n",
    "    )\n",
    "\n",
    "    param_grid_lr = {\n",
    "        'clf__C': [0.001, 0.01, 0.1, 1, 10, 100],  # regularização\n",
    "        'clf__penalty': ['l1', 'l2'],  # tipo de penalização\n",
    "        'clf__solver': ['liblinear'],  # necessário para suportar l1\n",
    "    }\n",
    "\n",
    "    modelo_rl = GridSearchCV(pipe_lr, param_grid_lr, cv=tscv)\n",
    "    modelo_rl.fit(x_train, y_train)\n",
    "    modelo_rl = modelo_rl.predict(x_test)\n",
    "\n",
    "else: \n",
    "    modelo_rl = LogisticRegression(random_state=42)\n",
    "    modelo_rl.fit(x_train_scaled,y_train)\n",
    "    previsao_rl = modelo_rl.predict(x_test_scaled)"
   ]
  },
  {
   "cell_type": "code",
   "execution_count": 30,
   "id": "c15d55b7",
   "metadata": {},
   "outputs": [],
   "source": [
    "# Treinar o modelo e gerar a previsao - Random Forest \n",
    "\n",
    "modelo_rf = RandomForestClassifier(n_estimators=100, random_state=42)\n",
    "modelo_rf.fit(x_train_scaled, y_train)\n",
    "previsao_rf = modelo_rf.predict(x_test_scaled)"
   ]
  },
  {
   "cell_type": "code",
   "execution_count": 31,
   "id": "3d84eb47",
   "metadata": {},
   "outputs": [],
   "source": [
    "# Treinar o modelo e gerar a previsao - XGBoost\n",
    "\n",
    "usar_grid = \"Não\"\n",
    "\n",
    "if usar_grid == \"Sim\":\n",
    "\n",
    "    pipe_xgb = Pipeline(\n",
    "        [\n",
    "            ('scaler', StandardScaler()),\n",
    "            ('clf', XGBClassifier()),\n",
    "        ]\n",
    "    )\n",
    "\n",
    "    param_grid_xgb = {\n",
    "        'clf__n_estimators': [50, 100, 200],  # número de árvores\n",
    "        'clf__max_depth': [3, 5, 7],  # profundidade da árvore\n",
    "        'clf__learning_rate': [0.01, 0.05, 0.1, 0.3],  # taxa de aprendizado\n",
    "        'clf__subsample': [0.6, 0.8, 1.0],  # fração das amostras usadas em cada árvore\n",
    "        'clf__colsample_bytree': [0.6, 0.8, 1.0],  # fração de colunas usadas por árvore\n",
    "        'clf__gamma': [0, 0.1, 0.5, 1.0],  # regularização mínima para divisão\n",
    "        'clf__reg_alpha': [0, 0.1, 1],  # L1 regularization\n",
    "        'clf__reg_lambda': [0.1, 1, 10],  # L2 regularization\n",
    "    }\n",
    "\n",
    "    modelo_xgb = RandomizedSearchCV(pipe_xgb, param_grid_xgb, cv=tscv)\n",
    "    modelo_xgb.fit(x_train, y_train)\n",
    "    previsao_xgb = modelo_xgb.predict(x_test)\n",
    "\n",
    "else:\n",
    "    modelo_xgb = XGBClassifier(random_state=42)\n",
    "    modelo_xgb.fit(x_train_scaled, y_train)\n",
    "    previsao_xgb = modelo_xgb.predict(x_test_scaled)"
   ]
  },
  {
   "cell_type": "code",
   "execution_count": 32,
   "id": "d8747e8c",
   "metadata": {},
   "outputs": [
    {
     "data": {
      "application/vnd.microsoft.datawrangler.viewer.v0+json": {
       "columns": [
        {
         "name": "Modelo",
         "rawType": "object",
         "type": "string"
        },
        {
         "name": "Acurácia",
         "rawType": "object",
         "type": "string"
        },
        {
         "name": "Precisão",
         "rawType": "object",
         "type": "string"
        },
        {
         "name": "Recall",
         "rawType": "object",
         "type": "string"
        },
        {
         "name": "F1-Score",
         "rawType": "object",
         "type": "string"
        }
       ],
       "ref": "ca909b07-52e9-4e0d-9ac9-dfd712ef82f2",
       "rows": [
        [
         "Random Forest",
         "60.00 %",
         "36.00 %",
         "60.00 %",
         "45.00 %"
        ],
        [
         "Regressão Logística",
         "55.00 %",
         "48.63 %",
         "55.00 %",
         "48.65 %"
        ],
        [
         "XGBoost",
         "55.00 %",
         "54.07 %",
         "55.00 %",
         "54.40 %"
        ]
       ],
       "shape": {
        "columns": 4,
        "rows": 3
       }
      },
      "text/html": [
       "<div>\n",
       "<style scoped>\n",
       "    .dataframe tbody tr th:only-of-type {\n",
       "        vertical-align: middle;\n",
       "    }\n",
       "\n",
       "    .dataframe tbody tr th {\n",
       "        vertical-align: top;\n",
       "    }\n",
       "\n",
       "    .dataframe thead th {\n",
       "        text-align: right;\n",
       "    }\n",
       "</style>\n",
       "<table border=\"1\" class=\"dataframe\">\n",
       "  <thead>\n",
       "    <tr style=\"text-align: right;\">\n",
       "      <th></th>\n",
       "      <th>Acurácia</th>\n",
       "      <th>Precisão</th>\n",
       "      <th>Recall</th>\n",
       "      <th>F1-Score</th>\n",
       "    </tr>\n",
       "    <tr>\n",
       "      <th>Modelo</th>\n",
       "      <th></th>\n",
       "      <th></th>\n",
       "      <th></th>\n",
       "      <th></th>\n",
       "    </tr>\n",
       "  </thead>\n",
       "  <tbody>\n",
       "    <tr>\n",
       "      <th>Random Forest</th>\n",
       "      <td>60.00 %</td>\n",
       "      <td>36.00 %</td>\n",
       "      <td>60.00 %</td>\n",
       "      <td>45.00 %</td>\n",
       "    </tr>\n",
       "    <tr>\n",
       "      <th>Regressão Logística</th>\n",
       "      <td>55.00 %</td>\n",
       "      <td>48.63 %</td>\n",
       "      <td>55.00 %</td>\n",
       "      <td>48.65 %</td>\n",
       "    </tr>\n",
       "    <tr>\n",
       "      <th>XGBoost</th>\n",
       "      <td>55.00 %</td>\n",
       "      <td>54.07 %</td>\n",
       "      <td>55.00 %</td>\n",
       "      <td>54.40 %</td>\n",
       "    </tr>\n",
       "  </tbody>\n",
       "</table>\n",
       "</div>"
      ],
      "text/plain": [
       "                    Acurácia Precisão   Recall F1-Score\n",
       "Modelo                                                 \n",
       "Random Forest        60.00 %  36.00 %  60.00 %  45.00 %\n",
       "Regressão Logística  55.00 %  48.63 %  55.00 %  48.65 %\n",
       "XGBoost              55.00 %  54.07 %  55.00 %  54.40 %"
      ]
     },
     "metadata": {},
     "output_type": "display_data"
    }
   ],
   "source": [
    "# Gerar tabela com o score\n",
    "\n",
    "# # Criar um dicionario com os resultados centralizado que guarda o nome, o objeto do modelo e suas previsões\n",
    "modelos_avaliados = {\n",
    "    \"Regressão Logística\": {\"modelo\": modelo_rl, \"previsoes\": previsao_rl},\n",
    "    \"Random Forest\":       {\"modelo\": modelo_rf, \"previsoes\": previsao_rf},\n",
    "    \"XGBoost\":             {\"modelo\": modelo_xgb, \"previsoes\": previsao_xgb}\n",
    "}\n",
    "\n",
    "# Criar um data frame com os resultados\n",
    "performance = pd.DataFrame(\n",
    "    columns=[\"Modelo\", \"Acurácia\", \"Precisão\", \"Recall\", \"F1-Score\"]\n",
    ")\n",
    "\n",
    "for nome, dados in modelos_avaliados.items():\n",
    "    report = classification_report(y_test, dados[\"previsoes\"], output_dict=True, zero_division=0)\n",
    "    \n",
    "    performance.loc[performance.shape[0]] = {\n",
    "        \"Modelo\": nome,\n",
    "        \"Acurácia\": report[\"accuracy\"],\n",
    "        \"Precisão\": report[\"weighted avg\"][\"precision\"],\n",
    "        \"Recall\": report[\"weighted avg\"][\"recall\"],\n",
    "        \"F1-Score\": report[\"weighted avg\"][\"f1-score\"],\n",
    "    }\n",
    "\n",
    "performance.set_index(\"Modelo\", inplace=True)\n",
    "performance_formatada = performance.sort_values(by=\"Acurácia\", ascending=False)\n",
    "performance_formatada = performance_formatada.map(lambda x: f\"{(100 * x):.2f} %\")\n",
    "\n",
    "display(performance_formatada)"
   ]
  },
  {
   "cell_type": "markdown",
   "id": "9fe85427",
   "metadata": {},
   "source": [
    "##### Analisando o resultado dos modelos de Machine Learning através da Matriz de Confusão e Curva ROC"
   ]
  },
  {
   "cell_type": "code",
   "execution_count": 33,
   "id": "52506cca",
   "metadata": {},
   "outputs": [
    {
     "data": {
      "application/vnd.jupyter.widget-view+json": {
       "model_id": "bf726ecafaf24ee69fe32faafa84ef26",
       "version_major": 2,
       "version_minor": 0
      },
      "text/plain": [
       "interactive(children=(Dropdown(description='Modelo: ', index=1, options=('Regressão Logística', 'Random Forest…"
      ]
     },
     "metadata": {},
     "output_type": "display_data"
    }
   ],
   "source": [
    "# Gerar a matriz de confusão e Curva ROC \n",
    "\n",
    "# Selecionar como default o modelo com a melhor acurácia\n",
    "modelo_default = performance.sort_values(by=\"Acurácia\", ascending=False).index[0]\n",
    "\n",
    "# Criar o menu suspenso \n",
    "dropdown = widgets.Dropdown(\n",
    "    options=list(modelos_avaliados.keys()),\n",
    "    value=modelo_default,\n",
    "    description='Modelo: ',\n",
    "    disabled=False\n",
    ")\n",
    "\n",
    "widgets.interactive(\n",
    "    lambda nome_modelo: analisar_modelo_selecionado(nome_modelo, modelos_avaliados, y_test, x_test_scaled),\n",
    "    nome_modelo=dropdown\n",
    ")"
   ]
  }
 ],
 "metadata": {
  "kernelspec": {
   "display_name": "base",
   "language": "python",
   "name": "python3"
  },
  "language_info": {
   "codemirror_mode": {
    "name": "ipython",
    "version": 3
   },
   "file_extension": ".py",
   "mimetype": "text/x-python",
   "name": "python",
   "nbconvert_exporter": "python",
   "pygments_lexer": "ipython3",
   "version": "3.12.3"
  }
 },
 "nbformat": 4,
 "nbformat_minor": 5
}
